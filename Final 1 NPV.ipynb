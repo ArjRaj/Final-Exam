{
 "cells": [
  {
   "cell_type": "markdown",
   "metadata": {},
   "source": [
    "# NPV FINAL EXAM"
   ]
  },
  {
   "cell_type": "markdown",
   "metadata": {},
   "source": [
    "TOTAL MARKS:70___________________________________________________________________________________________                                               \t                                              DURATION: 4 HOURS"
   ]
  },
  {
   "cell_type": "markdown",
   "metadata": {},
   "source": [
    "## Read the Dataset (TWO_DATASETS.csv) \n",
    "\n",
    "\n",
    "### We combined Two datasets in single CSV file and mention below columns belongs to \n",
    "\n",
    "\n",
    "**blockbusters** = ['Main_Genre', 'Genre_2', 'Genre_3', 'imdb_rating', 'length',\n",
    "       'rank_in_year', 'rating', 'studio', 'title', 'worldwide_gross', 'year']\n",
    "\n",
    "**Adult1** =['age', 'workclass', 'fnlwgt', 'education', 'education-num',\n",
    "       'marital-status', 'occupation', 'relationship', 'race', 'sex',\n",
    "       'hours-per-week', 'native-country', 'salary']\n",
    "       \n",
    "       \n",
    "       \n",
    "       \n"
   ]
  },
  {
   "cell_type": "code",
   "execution_count": 1,
   "metadata": {},
   "outputs": [
    {
     "data": {
      "text/html": [
       "<div>\n",
       "<style scoped>\n",
       "    .dataframe tbody tr th:only-of-type {\n",
       "        vertical-align: middle;\n",
       "    }\n",
       "\n",
       "    .dataframe tbody tr th {\n",
       "        vertical-align: top;\n",
       "    }\n",
       "\n",
       "    .dataframe thead th {\n",
       "        text-align: right;\n",
       "    }\n",
       "</style>\n",
       "<table border=\"1\" class=\"dataframe\">\n",
       "  <thead>\n",
       "    <tr style=\"text-align: right;\">\n",
       "      <th></th>\n",
       "      <th>age</th>\n",
       "      <th>workclass</th>\n",
       "      <th>fnlwgt</th>\n",
       "      <th>education</th>\n",
       "      <th>education-num</th>\n",
       "      <th>marital-status</th>\n",
       "      <th>occupation</th>\n",
       "      <th>relationship</th>\n",
       "      <th>race</th>\n",
       "      <th>sex</th>\n",
       "      <th>hours-per-week</th>\n",
       "      <th>native-country</th>\n",
       "      <th>salary</th>\n",
       "      <th>Main_Genre</th>\n",
       "      <th>Genre_2</th>\n",
       "      <th>Genre_3</th>\n",
       "      <th>imdb_rating</th>\n",
       "      <th>length</th>\n",
       "      <th>rank_in_year</th>\n",
       "      <th>rating</th>\n",
       "      <th>studio</th>\n",
       "      <th>title</th>\n",
       "      <th>worldwide_gross</th>\n",
       "      <th>year</th>\n",
       "    </tr>\n",
       "  </thead>\n",
       "  <tbody>\n",
       "    <tr>\n",
       "      <th>0</th>\n",
       "      <td>31</td>\n",
       "      <td>Private</td>\n",
       "      <td>467579</td>\n",
       "      <td>Bachelors</td>\n",
       "      <td>13</td>\n",
       "      <td>Married-civ-spouse</td>\n",
       "      <td>Exec-managerial</td>\n",
       "      <td>Husband</td>\n",
       "      <td>Black</td>\n",
       "      <td>Male</td>\n",
       "      <td>40</td>\n",
       "      <td>United-States</td>\n",
       "      <td>&gt;50K</td>\n",
       "      <td>Action</td>\n",
       "      <td>Adventure</td>\n",
       "      <td>Drama</td>\n",
       "      <td>7.4</td>\n",
       "      <td>135</td>\n",
       "      <td>1</td>\n",
       "      <td>PG-13</td>\n",
       "      <td>Walt Disney Pictures</td>\n",
       "      <td>Black Panther</td>\n",
       "      <td>700059566</td>\n",
       "      <td>2018</td>\n",
       "    </tr>\n",
       "    <tr>\n",
       "      <th>1</th>\n",
       "      <td>71</td>\n",
       "      <td>Private</td>\n",
       "      <td>93202</td>\n",
       "      <td>HS-grad</td>\n",
       "      <td>9</td>\n",
       "      <td>Divorced</td>\n",
       "      <td>Other-service</td>\n",
       "      <td>Not-in-family</td>\n",
       "      <td>White</td>\n",
       "      <td>Female</td>\n",
       "      <td>16</td>\n",
       "      <td>United-States</td>\n",
       "      <td>&lt;=50K</td>\n",
       "      <td>Action</td>\n",
       "      <td>Adventure</td>\n",
       "      <td>Sci-Fi</td>\n",
       "      <td>8.5</td>\n",
       "      <td>156</td>\n",
       "      <td>2</td>\n",
       "      <td>PG-13</td>\n",
       "      <td>Walt Disney Pictures</td>\n",
       "      <td>Avengers: Infinity War</td>\n",
       "      <td>678815482</td>\n",
       "      <td>2018</td>\n",
       "    </tr>\n",
       "    <tr>\n",
       "      <th>2</th>\n",
       "      <td>62</td>\n",
       "      <td>Private</td>\n",
       "      <td>252668</td>\n",
       "      <td>Masters</td>\n",
       "      <td>14</td>\n",
       "      <td>Never-married</td>\n",
       "      <td>Prof-specialty</td>\n",
       "      <td>Not-in-family</td>\n",
       "      <td>White</td>\n",
       "      <td>Male</td>\n",
       "      <td>70</td>\n",
       "      <td>United-States</td>\n",
       "      <td>&lt;=50K</td>\n",
       "      <td>Animation</td>\n",
       "      <td>Action</td>\n",
       "      <td>Adventure</td>\n",
       "      <td>7.8</td>\n",
       "      <td>118</td>\n",
       "      <td>3</td>\n",
       "      <td>PG</td>\n",
       "      <td>Pixar</td>\n",
       "      <td>Incredibles 2</td>\n",
       "      <td>608581744</td>\n",
       "      <td>2018</td>\n",
       "    </tr>\n",
       "    <tr>\n",
       "      <th>3</th>\n",
       "      <td>37</td>\n",
       "      <td>Private</td>\n",
       "      <td>109133</td>\n",
       "      <td>Assoc-acdm</td>\n",
       "      <td>12</td>\n",
       "      <td>Married-civ-spouse</td>\n",
       "      <td>Sales-Bussiness</td>\n",
       "      <td>Husband</td>\n",
       "      <td>White</td>\n",
       "      <td>Male</td>\n",
       "      <td>45</td>\n",
       "      <td>United-States</td>\n",
       "      <td>&gt;50K</td>\n",
       "      <td>Action</td>\n",
       "      <td>Adventure</td>\n",
       "      <td>Drama</td>\n",
       "      <td>6.2</td>\n",
       "      <td>129</td>\n",
       "      <td>4</td>\n",
       "      <td>PG-13</td>\n",
       "      <td>Universal Pictures</td>\n",
       "      <td>Jurassic World: Fallen Kingdom</td>\n",
       "      <td>416769345</td>\n",
       "      <td>2018</td>\n",
       "    </tr>\n",
       "    <tr>\n",
       "      <th>4</th>\n",
       "      <td>43</td>\n",
       "      <td>Private</td>\n",
       "      <td>271807</td>\n",
       "      <td>Some-college</td>\n",
       "      <td>10</td>\n",
       "      <td>Divorced</td>\n",
       "      <td>Craft-repair</td>\n",
       "      <td>Not-in-family</td>\n",
       "      <td>White</td>\n",
       "      <td>Male</td>\n",
       "      <td>40</td>\n",
       "      <td>United-States</td>\n",
       "      <td>&lt;=50K</td>\n",
       "      <td>Action</td>\n",
       "      <td>Comedy</td>\n",
       "      <td>NaN</td>\n",
       "      <td>7.8</td>\n",
       "      <td>119</td>\n",
       "      <td>5</td>\n",
       "      <td>R</td>\n",
       "      <td>20th Century Fox</td>\n",
       "      <td>Deadpool 2</td>\n",
       "      <td>318491426</td>\n",
       "      <td>2018</td>\n",
       "    </tr>\n",
       "  </tbody>\n",
       "</table>\n",
       "</div>"
      ],
      "text/plain": [
       "   age workclass  fnlwgt     education  education-num      marital-status  \\\n",
       "0   31   Private  467579     Bachelors             13  Married-civ-spouse   \n",
       "1   71   Private   93202       HS-grad              9            Divorced   \n",
       "2   62   Private  252668       Masters             14       Never-married   \n",
       "3   37   Private  109133    Assoc-acdm             12  Married-civ-spouse   \n",
       "4   43   Private  271807  Some-college             10            Divorced   \n",
       "\n",
       "        occupation   relationship   race     sex  hours-per-week  \\\n",
       "0  Exec-managerial        Husband  Black    Male              40   \n",
       "1    Other-service  Not-in-family  White  Female              16   \n",
       "2   Prof-specialty  Not-in-family  White    Male              70   \n",
       "3  Sales-Bussiness        Husband  White    Male              45   \n",
       "4     Craft-repair  Not-in-family  White    Male              40   \n",
       "\n",
       "  native-country salary Main_Genre    Genre_2    Genre_3  imdb_rating  length  \\\n",
       "0  United-States   >50K     Action  Adventure      Drama          7.4     135   \n",
       "1  United-States  <=50K     Action  Adventure     Sci-Fi          8.5     156   \n",
       "2  United-States  <=50K  Animation     Action  Adventure          7.8     118   \n",
       "3  United-States   >50K     Action  Adventure      Drama          6.2     129   \n",
       "4  United-States  <=50K     Action     Comedy        NaN          7.8     119   \n",
       "\n",
       "   rank_in_year rating                studio                           title  \\\n",
       "0             1  PG-13  Walt Disney Pictures                   Black Panther   \n",
       "1             2  PG-13  Walt Disney Pictures          Avengers: Infinity War   \n",
       "2             3     PG                 Pixar                   Incredibles 2   \n",
       "3             4  PG-13    Universal Pictures  Jurassic World: Fallen Kingdom   \n",
       "4             5      R      20th Century Fox                      Deadpool 2   \n",
       "\n",
       "   worldwide_gross  year  \n",
       "0        700059566  2018  \n",
       "1        678815482  2018  \n",
       "2        608581744  2018  \n",
       "3        416769345  2018  \n",
       "4        318491426  2018  "
      ]
     },
     "execution_count": 1,
     "metadata": {},
     "output_type": "execute_result"
    }
   ],
   "source": [
    "# Use this code to import the dataset\n",
    "import pandas as pd\n",
    "import numpy as np\n",
    "import matplotlib.pyplot as plt\n",
    "\n",
    "pd.set_option('display.max_columns',100)\n",
    "\n",
    "\n",
    "import csv\n",
    "with open(\"data_set.csv\",\"r\")as file:\n",
    "    reader=csv.reader(file)\n",
    "df=pd.read_csv(\"data_set.csv\")\n",
    "df.head()"
   ]
  },
  {
   "cell_type": "markdown",
   "metadata": {},
   "source": [
    "# SECTION A: 20 MARKS"
   ]
  },
  {
   "cell_type": "markdown",
   "metadata": {},
   "source": [
    " _________________"
   ]
  },
  {
   "cell_type": "markdown",
   "metadata": {},
   "source": [
    "### 1. Create a Numpy array of size 20 elements using random package. Convert the above numpy array into 2 equal arrays of size 2x5 each. Convert the second array to a 1-D array and reverse the elements.And find the 4th element in the reversed array.(5 Marks)"
   ]
  },
  {
   "cell_type": "code",
   "execution_count": 45,
   "metadata": {},
   "outputs": [],
   "source": [
    "a=np.random.rand(20).reshape(2,10)"
   ]
  },
  {
   "cell_type": "code",
   "execution_count": 46,
   "metadata": {},
   "outputs": [
    {
     "data": {
      "text/plain": [
       "[array([[0.95740996, 0.6388254 , 0.85073246, 0.34228171, 0.26386795],\n",
       "        [0.86365109, 0.43000162, 0.57750916, 0.84897639, 0.23052642]]),\n",
       " array([[0.4083415 , 0.09343983, 0.7482713 , 0.18046917, 0.07571874],\n",
       "        [0.01830707, 0.55189479, 0.42964019, 0.20853946, 0.08564039]])]"
      ]
     },
     "execution_count": 46,
     "metadata": {},
     "output_type": "execute_result"
    }
   ],
   "source": [
    "a1=np.array_split(a,2,axis=1)\n",
    "a1"
   ]
  },
  {
   "cell_type": "code",
   "execution_count": 51,
   "metadata": {},
   "outputs": [
    {
     "data": {
      "text/plain": [
       "array([0.08564039, 0.20853946, 0.42964019, 0.55189479, 0.01830707,\n",
       "       0.07571874, 0.18046917, 0.7482713 , 0.09343983, 0.4083415 ])"
      ]
     },
     "execution_count": 51,
     "metadata": {},
     "output_type": "execute_result"
    }
   ],
   "source": [
    "b=a1[1].flatten()\n",
    "b=b[::-1]\n",
    "b"
   ]
  },
  {
   "cell_type": "code",
   "execution_count": 52,
   "metadata": {},
   "outputs": [
    {
     "data": {
      "text/plain": [
       "0.551894791743616"
      ]
     },
     "execution_count": 52,
     "metadata": {},
     "output_type": "execute_result"
    }
   ],
   "source": [
    "b[3]"
   ]
  },
  {
   "cell_type": "markdown",
   "metadata": {},
   "source": [
    "### 2. Write a Program\n",
    "\n",
    "A.\tCreate a Series with words 'hello how are you'. as the contents. (1marks)\n",
    "\n",
    "B.\tConvert the first letter of every element in series to uppercase. (1marks)\n",
    "\n",
    "C.\tFind the length of each element in the series. And find the lengthiest word in the series. (3marks)\n"
   ]
  },
  {
   "cell_type": "code",
   "execution_count": 67,
   "metadata": {},
   "outputs": [
    {
     "data": {
      "text/plain": [
       "0    hello\n",
       "1      how\n",
       "2      are\n",
       "3      you\n",
       "dtype: object"
      ]
     },
     "execution_count": 67,
     "metadata": {},
     "output_type": "execute_result"
    }
   ],
   "source": [
    "s1=pd.Series(['hello','how','are','you'])\n",
    "s1"
   ]
  },
  {
   "cell_type": "code",
   "execution_count": 68,
   "metadata": {},
   "outputs": [
    {
     "data": {
      "text/plain": [
       "0    Hello\n",
       "1      How\n",
       "2      Are\n",
       "3      You\n",
       "dtype: object"
      ]
     },
     "execution_count": 68,
     "metadata": {},
     "output_type": "execute_result"
    }
   ],
   "source": [
    "s1=s1.apply(lambda x: x.title())\n",
    "s1"
   ]
  },
  {
   "cell_type": "code",
   "execution_count": 73,
   "metadata": {},
   "outputs": [
    {
     "name": "stdout",
     "output_type": "stream",
     "text": [
      "Lengthiest word in the series is : Hello\n"
     ]
    }
   ],
   "source": [
    "length=s1.apply(lambda x: len(x))\n",
    "ind=length[length==length.max()].index\n",
    "lengthiest_word=s1[ind]\n",
    "print('Lengthiest word in the series is :',lengthiest_word[0])"
   ]
  },
  {
   "cell_type": "markdown",
   "metadata": {},
   "source": [
    "### 3. Write a Program\n",
    "    \n",
    "A.\tCreate a 5x5 array with random values and find the minimum and maximum values (1 MARKS)\n",
    "\n",
    "B.\tAdd a padding (filled with 0's) around random array of size 5*5 created in Question number 'A' (1 Mark)\n",
    "\n",
    "C.\tCreate a zero matrix of size 5x5 and add values 1,2,3,4,5 as diagonal values of that matrix (1 Mark)\n",
    "\n",
    "D.\tGiven a 1D array (1-20), negate all elements which are between 11 and 18 (Both included), in place. (2 Marks)\n",
    "\n"
   ]
  },
  {
   "cell_type": "code",
   "execution_count": 14,
   "metadata": {},
   "outputs": [
    {
     "name": "stdout",
     "output_type": "stream",
     "text": [
      "Minimum Value: 7\n",
      "Maximum Value 94\n"
     ]
    }
   ],
   "source": [
    "#A)\n",
    "arr5=np.random.randint(1,100,25).reshape(5,5)\n",
    "print('Minimum Value:',arr5.min())\n",
    "print('Maximum Value',arr5.max())"
   ]
  },
  {
   "cell_type": "code",
   "execution_count": 15,
   "metadata": {},
   "outputs": [
    {
     "name": "stdout",
     "output_type": "stream",
     "text": [
      "[[ 0  0  0  0  0  0  0]\n",
      " [ 0 47 94  8 47 49  0]\n",
      " [ 0 27 66 60 14  7  0]\n",
      " [ 0 17 65 43 39 20  0]\n",
      " [ 0 25 22 79 38 25  0]\n",
      " [ 0 91 42 29 50 85  0]\n",
      " [ 0  0  0  0  0  0  0]]\n"
     ]
    }
   ],
   "source": [
    "#B)\n",
    "arr5=np.pad(arr5,pad_width=1, mode='constant',constant_values=0)\n",
    "print(arr5)"
   ]
  },
  {
   "cell_type": "code",
   "execution_count": 16,
   "metadata": {},
   "outputs": [
    {
     "name": "stdout",
     "output_type": "stream",
     "text": [
      "[[1 0 0 0 0]\n",
      " [0 2 0 0 0]\n",
      " [0 0 3 0 0]\n",
      " [0 0 0 4 0]\n",
      " [0 0 0 0 5]]\n"
     ]
    }
   ],
   "source": [
    "#C\n",
    "d=np.diag([1,2,3,4,5])\n",
    "print(d)"
   ]
  },
  {
   "cell_type": "code",
   "execution_count": 41,
   "metadata": {},
   "outputs": [
    {
     "name": "stdout",
     "output_type": "stream",
     "text": [
      "Elements after negating the elements between 11 and 18:  [1, 2, 3, 4, 5, 6, 7, 8, 9, 10, -11, -12, -13, -14, -15, -16, -17, -18, 19, 20]\n"
     ]
    }
   ],
   "source": [
    "#D)\n",
    "arr=np.arange(1,21)\n",
    "arr=[-i if (i>=11) & (i<=18) else i for i in arr]\n",
    "print('Elements after negating the elements between 11 and 18: ',arr)"
   ]
  },
  {
   "cell_type": "markdown",
   "metadata": {},
   "source": [
    "### 4. Write a Program\n",
    "\n",
    "\n",
    "A. Write a code snippet to create a pandas series with numbers between 1 to 5. Create another series with names john, tom, dave, king and jack. (2 marks) \n",
    " \t \n",
    "B.\tWrite a code snippet to create a data frame with column names as ‘’id’’ and ‘’name’’ using the series created above. Display the data frame. (2 Marks) \n",
    " \n",
    "C.\tWrite a code snippet to break the data frame into 2 smaller data frames having 3 rows and 2 rows respectively. (1 Marks) \n",
    " \n",
    "\n"
   ]
  },
  {
   "cell_type": "code",
   "execution_count": 28,
   "metadata": {},
   "outputs": [],
   "source": [
    "#A)\n",
    "s1=pd.Series(np.arange(1,6))\n",
    "s2=pd.Series(['john','tom','dave','king','jack'])"
   ]
  },
  {
   "cell_type": "code",
   "execution_count": 30,
   "metadata": {},
   "outputs": [
    {
     "name": "stdout",
     "output_type": "stream",
     "text": [
      "Created Data Frame:\n",
      "   id  name\n",
      "0   1  john\n",
      "1   2   tom\n",
      "2   3  dave\n",
      "3   4  king\n",
      "4   5  jack\n"
     ]
    }
   ],
   "source": [
    "#B)\n",
    "df1=pd.DataFrame({'id':s1,'name':s2})\n",
    "print('Created Data Frame:')\n",
    "print(df1)"
   ]
  },
  {
   "cell_type": "code",
   "execution_count": 36,
   "metadata": {
    "scrolled": true
   },
   "outputs": [
    {
     "name": "stdout",
     "output_type": "stream",
     "text": [
      "Dataframe with 3 rows: \n",
      "   id  name\n",
      "0   1  john\n",
      "1   2   tom\n",
      "2   3  dave \n",
      "\n",
      "Dataframe with 2 rows: \n",
      "   id  name\n",
      "3   4  king\n",
      "4   5  jack\n"
     ]
    }
   ],
   "source": [
    "#C)\n",
    "print('Dataframe with 3 rows: ')\n",
    "print(df1.iloc[0:3],'\\n')\n",
    "\n",
    "print('Dataframe with 2 rows: ')\n",
    "print(df1.iloc[3:5])\n",
    "\n"
   ]
  },
  {
   "cell_type": "markdown",
   "metadata": {},
   "source": [
    "# SECTION B: 20 MARKS"
   ]
  },
  {
   "cell_type": "markdown",
   "metadata": {},
   "source": [
    " _________________"
   ]
  },
  {
   "cell_type": "markdown",
   "metadata": {},
   "source": [
    "### 5. Read the dataset blockbusters\n",
    "\n",
    "A. Read the dataset and find the Unique Genres category for ‘Main_Genre’. Find the total number of movies made under each one of them. (3 Marks)\n",
    "\n",
    "B. Calculate the average imbd-rating for each genre under Second category of Genre(Genre_2). (3 MARKS)\n",
    "\n",
    "C. Identify the movie which had the highest length of duration in the dataset. Also display it’s genre, imbd_rating and 'worldwide_gross'. (4 Marks)\n",
    "\n",
    "D. Identify the categories of MPAA Rating which got the highest number of blockbusters every year. (Provide a year wise breakup) (6 Marks)\n",
    "\n",
    "E. Plot a bar graph to show the total worldwide gross for year. (4 Marks)\n",
    " \n"
   ]
  },
  {
   "cell_type": "code",
   "execution_count": 1,
   "metadata": {
    "scrolled": true
   },
   "outputs": [
    {
     "ename": "NameError",
     "evalue": "name 'df' is not defined",
     "output_type": "error",
     "traceback": [
      "\u001b[1;31m---------------------------------------------------------------------------\u001b[0m",
      "\u001b[1;31mNameError\u001b[0m                                 Traceback (most recent call last)",
      "\u001b[1;32m<ipython-input-1-0e988578280a>\u001b[0m in \u001b[0;36m<module>\u001b[1;34m\u001b[0m\n\u001b[0;32m      1\u001b[0m \u001b[1;31m#A)\u001b[0m\u001b[1;33m\u001b[0m\u001b[1;33m\u001b[0m\u001b[1;33m\u001b[0m\u001b[0m\n\u001b[1;32m----> 2\u001b[1;33m bb_df=df[['Main_Genre', 'Genre_2', 'Genre_3', 'imdb_rating', 'length',\n\u001b[0m\u001b[0;32m      3\u001b[0m        'rank_in_year', 'rating', 'studio', 'title', 'worldwide_gross', 'year']]\n\u001b[0;32m      4\u001b[0m \u001b[0mbb_df\u001b[0m\u001b[1;33m.\u001b[0m\u001b[0mhead\u001b[0m\u001b[1;33m(\u001b[0m\u001b[1;33m)\u001b[0m\u001b[1;33m\u001b[0m\u001b[1;33m\u001b[0m\u001b[0m\n",
      "\u001b[1;31mNameError\u001b[0m: name 'df' is not defined"
     ]
    }
   ],
   "source": [
    "#A)\n",
    "bb_df=df[['Main_Genre', 'Genre_2', 'Genre_3', 'imdb_rating', 'length',\n",
    "       'rank_in_year', 'rating', 'studio', 'title', 'worldwide_gross', 'year']]\n",
    "bb_df.head()"
   ]
  },
  {
   "cell_type": "code",
   "execution_count": 9,
   "metadata": {},
   "outputs": [
    {
     "data": {
      "text/plain": [
       "array(['Action', 'Animation', 'Music', 'Horror', 'Sci-Fi', 'Romance',\n",
       "       'Fantasy', 'Comedy', 'Adventure', 'Thriller', 'Crime', 'Drama',\n",
       "       'Family', 'War', 'History', 'Sport'], dtype=object)"
      ]
     },
     "execution_count": 9,
     "metadata": {},
     "output_type": "execute_result"
    }
   ],
   "source": [
    "bb_df['Main_Genre'].unique()"
   ]
  },
  {
   "cell_type": "code",
   "execution_count": 10,
   "metadata": {},
   "outputs": [
    {
     "data": {
      "text/html": [
       "<div>\n",
       "<style scoped>\n",
       "    .dataframe tbody tr th:only-of-type {\n",
       "        vertical-align: middle;\n",
       "    }\n",
       "\n",
       "    .dataframe tbody tr th {\n",
       "        vertical-align: top;\n",
       "    }\n",
       "\n",
       "    .dataframe thead th {\n",
       "        text-align: right;\n",
       "    }\n",
       "</style>\n",
       "<table border=\"1\" class=\"dataframe\">\n",
       "  <thead>\n",
       "    <tr style=\"text-align: right;\">\n",
       "      <th></th>\n",
       "      <th>title</th>\n",
       "    </tr>\n",
       "    <tr>\n",
       "      <th>Main_Genre</th>\n",
       "      <th></th>\n",
       "    </tr>\n",
       "  </thead>\n",
       "  <tbody>\n",
       "    <tr>\n",
       "      <th>Action</th>\n",
       "      <td>30</td>\n",
       "    </tr>\n",
       "    <tr>\n",
       "      <th>Adventure</th>\n",
       "      <td>13</td>\n",
       "    </tr>\n",
       "    <tr>\n",
       "      <th>Animation</th>\n",
       "      <td>22</td>\n",
       "    </tr>\n",
       "    <tr>\n",
       "      <th>Comedy</th>\n",
       "      <td>55</td>\n",
       "    </tr>\n",
       "    <tr>\n",
       "      <th>Crime</th>\n",
       "      <td>17</td>\n",
       "    </tr>\n",
       "    <tr>\n",
       "      <th>Drama</th>\n",
       "      <td>30</td>\n",
       "    </tr>\n",
       "    <tr>\n",
       "      <th>Family</th>\n",
       "      <td>16</td>\n",
       "    </tr>\n",
       "    <tr>\n",
       "      <th>Fantasy</th>\n",
       "      <td>54</td>\n",
       "    </tr>\n",
       "    <tr>\n",
       "      <th>History</th>\n",
       "      <td>5</td>\n",
       "    </tr>\n",
       "    <tr>\n",
       "      <th>Horror</th>\n",
       "      <td>8</td>\n",
       "    </tr>\n",
       "    <tr>\n",
       "      <th>Music</th>\n",
       "      <td>9</td>\n",
       "    </tr>\n",
       "    <tr>\n",
       "      <th>Romance</th>\n",
       "      <td>48</td>\n",
       "    </tr>\n",
       "    <tr>\n",
       "      <th>Sci-Fi</th>\n",
       "      <td>50</td>\n",
       "    </tr>\n",
       "    <tr>\n",
       "      <th>Sport</th>\n",
       "      <td>7</td>\n",
       "    </tr>\n",
       "    <tr>\n",
       "      <th>Thriller</th>\n",
       "      <td>63</td>\n",
       "    </tr>\n",
       "    <tr>\n",
       "      <th>War</th>\n",
       "      <td>10</td>\n",
       "    </tr>\n",
       "  </tbody>\n",
       "</table>\n",
       "</div>"
      ],
      "text/plain": [
       "            title\n",
       "Main_Genre       \n",
       "Action         30\n",
       "Adventure      13\n",
       "Animation      22\n",
       "Comedy         55\n",
       "Crime          17\n",
       "Drama          30\n",
       "Family         16\n",
       "Fantasy        54\n",
       "History         5\n",
       "Horror          8\n",
       "Music           9\n",
       "Romance        48\n",
       "Sci-Fi         50\n",
       "Sport           7\n",
       "Thriller       63\n",
       "War            10"
      ]
     },
     "execution_count": 10,
     "metadata": {},
     "output_type": "execute_result"
    }
   ],
   "source": [
    "bb_df.groupby('Main_Genre').agg({'title':'count'})"
   ]
  },
  {
   "cell_type": "code",
   "execution_count": 12,
   "metadata": {
    "scrolled": true
   },
   "outputs": [
    {
     "data": {
      "text/html": [
       "<div>\n",
       "<style scoped>\n",
       "    .dataframe tbody tr th:only-of-type {\n",
       "        vertical-align: middle;\n",
       "    }\n",
       "\n",
       "    .dataframe tbody tr th {\n",
       "        vertical-align: top;\n",
       "    }\n",
       "\n",
       "    .dataframe thead th {\n",
       "        text-align: right;\n",
       "    }\n",
       "</style>\n",
       "<table border=\"1\" class=\"dataframe\">\n",
       "  <thead>\n",
       "    <tr style=\"text-align: right;\">\n",
       "      <th></th>\n",
       "      <th>imdb_rating</th>\n",
       "    </tr>\n",
       "    <tr>\n",
       "      <th>Genre_2</th>\n",
       "      <th></th>\n",
       "    </tr>\n",
       "  </thead>\n",
       "  <tbody>\n",
       "    <tr>\n",
       "      <th>Action</th>\n",
       "      <td>7.379310</td>\n",
       "    </tr>\n",
       "    <tr>\n",
       "      <th>Adventure</th>\n",
       "      <td>7.080000</td>\n",
       "    </tr>\n",
       "    <tr>\n",
       "      <th>Animation</th>\n",
       "      <td>7.410714</td>\n",
       "    </tr>\n",
       "    <tr>\n",
       "      <th>Comedy</th>\n",
       "      <td>6.883333</td>\n",
       "    </tr>\n",
       "    <tr>\n",
       "      <th>Crime</th>\n",
       "      <td>7.152632</td>\n",
       "    </tr>\n",
       "    <tr>\n",
       "      <th>Documentary</th>\n",
       "      <td>5.800000</td>\n",
       "    </tr>\n",
       "    <tr>\n",
       "      <th>Drama</th>\n",
       "      <td>7.092537</td>\n",
       "    </tr>\n",
       "    <tr>\n",
       "      <th>Family</th>\n",
       "      <td>6.995000</td>\n",
       "    </tr>\n",
       "    <tr>\n",
       "      <th>Fantasy</th>\n",
       "      <td>7.000000</td>\n",
       "    </tr>\n",
       "    <tr>\n",
       "      <th>History</th>\n",
       "      <td>7.533333</td>\n",
       "    </tr>\n",
       "    <tr>\n",
       "      <th>Horror</th>\n",
       "      <td>7.250000</td>\n",
       "    </tr>\n",
       "    <tr>\n",
       "      <th>Music</th>\n",
       "      <td>6.216667</td>\n",
       "    </tr>\n",
       "    <tr>\n",
       "      <th>Musical</th>\n",
       "      <td>6.800000</td>\n",
       "    </tr>\n",
       "    <tr>\n",
       "      <th>Mystery</th>\n",
       "      <td>7.122222</td>\n",
       "    </tr>\n",
       "    <tr>\n",
       "      <th>Romance</th>\n",
       "      <td>6.425000</td>\n",
       "    </tr>\n",
       "    <tr>\n",
       "      <th>Sci-Fi</th>\n",
       "      <td>7.100000</td>\n",
       "    </tr>\n",
       "    <tr>\n",
       "      <th>Western</th>\n",
       "      <td>6.825000</td>\n",
       "    </tr>\n",
       "  </tbody>\n",
       "</table>\n",
       "</div>"
      ],
      "text/plain": [
       "             imdb_rating\n",
       "Genre_2                 \n",
       "Action          7.379310\n",
       "Adventure       7.080000\n",
       "Animation       7.410714\n",
       "Comedy          6.883333\n",
       "Crime           7.152632\n",
       "Documentary     5.800000\n",
       "Drama           7.092537\n",
       "Family          6.995000\n",
       "Fantasy         7.000000\n",
       "History         7.533333\n",
       "Horror          7.250000\n",
       "Music           6.216667\n",
       "Musical         6.800000\n",
       "Mystery         7.122222\n",
       "Romance         6.425000\n",
       "Sci-Fi          7.100000\n",
       "Western         6.825000"
      ]
     },
     "execution_count": 12,
     "metadata": {},
     "output_type": "execute_result"
    }
   ],
   "source": [
    "#B)\n",
    "bb_df.groupby('Genre_2').agg({'imdb_rating':'mean'})"
   ]
  },
  {
   "cell_type": "code",
   "execution_count": 13,
   "metadata": {},
   "outputs": [
    {
     "data": {
      "text/html": [
       "<div>\n",
       "<style scoped>\n",
       "    .dataframe tbody tr th:only-of-type {\n",
       "        vertical-align: middle;\n",
       "    }\n",
       "\n",
       "    .dataframe tbody tr th {\n",
       "        vertical-align: top;\n",
       "    }\n",
       "\n",
       "    .dataframe thead th {\n",
       "        text-align: right;\n",
       "    }\n",
       "</style>\n",
       "<table border=\"1\" class=\"dataframe\">\n",
       "  <thead>\n",
       "    <tr style=\"text-align: right;\">\n",
       "      <th></th>\n",
       "      <th>Main_Genre</th>\n",
       "      <th>imdb_rating</th>\n",
       "      <th>worldwide_gross</th>\n",
       "    </tr>\n",
       "  </thead>\n",
       "  <tbody>\n",
       "    <tr>\n",
       "      <th>150</th>\n",
       "      <td>Fantasy</td>\n",
       "      <td>8.9</td>\n",
       "      <td>1119929521</td>\n",
       "    </tr>\n",
       "  </tbody>\n",
       "</table>\n",
       "</div>"
      ],
      "text/plain": [
       "    Main_Genre  imdb_rating  worldwide_gross\n",
       "150    Fantasy          8.9       1119929521"
      ]
     },
     "execution_count": 13,
     "metadata": {},
     "output_type": "execute_result"
    }
   ],
   "source": [
    "#C)\n",
    "bb_df[bb_df['length']==bb_df['length'].max()][['Main_Genre','imdb_rating','worldwide_gross']]"
   ]
  },
  {
   "cell_type": "code",
   "execution_count": 34,
   "metadata": {},
   "outputs": [
    {
     "data": {
      "text/plain": [
       "year  rating\n",
       "1975  G         2\n",
       "      PG        3\n",
       "      R         2\n",
       "1976  G         2\n",
       "      PG        4\n",
       "      R         4\n",
       "1977  PG        9\n",
       "      R         1\n",
       "1978  PG        6\n",
       "      PG-13     1\n",
       "      R         3\n",
       "1979  G         1\n",
       "      PG        3\n",
       "      PG-13     1\n",
       "      R         5\n",
       "1980  PG        6\n",
       "      R         4\n",
       "1981  PG        9\n",
       "      R         1\n",
       "1982  PG        6\n",
       "      R         4\n",
       "1983  PG        5\n",
       "      R         5\n",
       "1984  PG        6\n",
       "      R         4\n",
       "1985  PG        6\n",
       "      PG-13     2\n",
       "      R         2\n",
       "1986  G         1\n",
       "      PG        3\n",
       "               ..\n",
       "2008  PG        3\n",
       "      PG-13     6\n",
       "2009  PG        3\n",
       "      PG-13     6\n",
       "      R         1\n",
       "2010  G         1\n",
       "      PG        5\n",
       "      PG-13     4\n",
       "2011  G         1\n",
       "      PG        2\n",
       "      PG-13     6\n",
       "      R         1\n",
       "2012  PG        2\n",
       "      PG-13     8\n",
       "2013  G         1\n",
       "      PG        2\n",
       "      PG-13     7\n",
       "2014  PG        1\n",
       "      PG-13     9\n",
       "2015  PG        3\n",
       "      PG-13     7\n",
       "2016  PG        5\n",
       "      PG-13     4\n",
       "      R         1\n",
       "2017  PG        2\n",
       "      PG-13     7\n",
       "      R         1\n",
       "2018  PG        1\n",
       "      PG-13     7\n",
       "      R         2\n",
       "Name: worldwide_gross, Length: 131, dtype: int64"
      ]
     },
     "execution_count": 34,
     "metadata": {},
     "output_type": "execute_result"
    }
   ],
   "source": [
    "#D)\n",
    "bb_df.groupby(by=['year','rating'])['worldwide_gross'].count()"
   ]
  },
  {
   "cell_type": "code",
   "execution_count": 74,
   "metadata": {
    "scrolled": true
   },
   "outputs": [
    {
     "data": {
      "image/png": "[encoded data removed]",
      "text/plain": [
       "<Figure size 1080x720 with 1 Axes>"
      ]
     },
     "metadata": {
      "needs_background": "light"
     },
     "output_type": "display_data"
    }
   ],
   "source": [
    "#E)\n",
    "plt.figure(figsize=(15,10))\n",
    "bb_df.groupby('year')['worldwide_gross'].sum().plot(kind='bar')\n",
    "plt.ylabel('World Wide Gross')\n",
    "plt.show()"
   ]
  },
  {
   "cell_type": "markdown",
   "metadata": {},
   "source": [
    "The above graph displays the total world wide gross for every year from 1975 to 2018.\n",
    "\n",
    "We can also say that yearly world wide gross is highest in the year 2012 followed by 2009."
   ]
  },
  {
   "cell_type": "markdown",
   "metadata": {},
   "source": [
    "# SECTION C: 30 MARKS"
   ]
  },
  {
   "cell_type": "markdown",
   "metadata": {},
   "source": [
    "### 6. Read the dataset (Adult1) and understand the dataset description given below\n",
    "    \n",
    "    \n",
    "    \n",
    "    \n",
    "  \n",
    "  \n",
    " A. Write a code snippet to find the average age of women from the United States.  (2 Marks) \n",
    "  \n",
    " B. Write a code snippet to find the proportion of US citizens (native-country feature) in the dataset.  (2 Marks )\n",
    "  \n",
    " C. Write a code snippet to find which occupation has the maximum number of workers who earn a salary more than 50K?  (2 Marks )\n",
    "  \n",
    " D. Is it true that people who receive more than 50K salary have at least a high school education? (education - Bachelors, Profschool, Assoc-acdm, Assoc-voc, Masters or Doctorate feature). Justify your answer with all facts and figures from the dataset  (2 Marks )\n",
    "  \n",
    " E. Write code to count the average time of work (hours-per-week) for those who earn a little (<50 K ) and a lot (salary) (>=50 K ) for each country (native-country). ( 2 Marks )\n",
    "  \n",
    " F. Among whom the proportion of those who earn a lot(>50K) is  (5 Marks )\n",
    "  \n",
    " more: among married or single men (marital-status feature)? Consider married as those who have a marital-status starting with Married (Married-civ-spouse, Married-spouse-absent or Married-AF-spouse), the rest are considered bachelors. Find out the proportion.\"\n",
    " \n",
    " \n",
    " \n",
    " \n",
    " G. Write a code block to find, what is the maximum number of hours a person works per week (hours-per-week feature)? How many number of people work for the above mentioned number of hours? What is the percentage of those who earn more than >50 K among them?  (5 Marks) \n",
    "  \n",
    " H. Observe the column occupation, every entry has two parts: \n",
    " profession-specialty. Make two separate columns namely profession and specialty out of this column. Drop the column occupation from the dataset.  (5 Marks) \n",
    "  \n",
    " I. Find out the percentage of males and females in every profession using the ‘profession’ column created in the above question.  (5 Marks)"
   ]
  },
  {
   "cell_type": "code",
   "execution_count": 75,
   "metadata": {},
   "outputs": [
    {
     "data": {
      "text/html": [
       "<div>\n",
       "<style scoped>\n",
       "    .dataframe tbody tr th:only-of-type {\n",
       "        vertical-align: middle;\n",
       "    }\n",
       "\n",
       "    .dataframe tbody tr th {\n",
       "        vertical-align: top;\n",
       "    }\n",
       "\n",
       "    .dataframe thead th {\n",
       "        text-align: right;\n",
       "    }\n",
       "</style>\n",
       "<table border=\"1\" class=\"dataframe\">\n",
       "  <thead>\n",
       "    <tr style=\"text-align: right;\">\n",
       "      <th></th>\n",
       "      <th>age</th>\n",
       "      <th>workclass</th>\n",
       "      <th>fnlwgt</th>\n",
       "      <th>education</th>\n",
       "      <th>education-num</th>\n",
       "      <th>marital-status</th>\n",
       "      <th>occupation</th>\n",
       "      <th>relationship</th>\n",
       "      <th>race</th>\n",
       "      <th>sex</th>\n",
       "      <th>hours-per-week</th>\n",
       "      <th>native-country</th>\n",
       "      <th>salary</th>\n",
       "    </tr>\n",
       "  </thead>\n",
       "  <tbody>\n",
       "    <tr>\n",
       "      <th>0</th>\n",
       "      <td>31</td>\n",
       "      <td>Private</td>\n",
       "      <td>467579</td>\n",
       "      <td>Bachelors</td>\n",
       "      <td>13</td>\n",
       "      <td>Married-civ-spouse</td>\n",
       "      <td>Exec-managerial</td>\n",
       "      <td>Husband</td>\n",
       "      <td>Black</td>\n",
       "      <td>Male</td>\n",
       "      <td>40</td>\n",
       "      <td>United-States</td>\n",
       "      <td>&gt;50K</td>\n",
       "    </tr>\n",
       "    <tr>\n",
       "      <th>1</th>\n",
       "      <td>71</td>\n",
       "      <td>Private</td>\n",
       "      <td>93202</td>\n",
       "      <td>HS-grad</td>\n",
       "      <td>9</td>\n",
       "      <td>Divorced</td>\n",
       "      <td>Other-service</td>\n",
       "      <td>Not-in-family</td>\n",
       "      <td>White</td>\n",
       "      <td>Female</td>\n",
       "      <td>16</td>\n",
       "      <td>United-States</td>\n",
       "      <td>&lt;=50K</td>\n",
       "    </tr>\n",
       "    <tr>\n",
       "      <th>2</th>\n",
       "      <td>62</td>\n",
       "      <td>Private</td>\n",
       "      <td>252668</td>\n",
       "      <td>Masters</td>\n",
       "      <td>14</td>\n",
       "      <td>Never-married</td>\n",
       "      <td>Prof-specialty</td>\n",
       "      <td>Not-in-family</td>\n",
       "      <td>White</td>\n",
       "      <td>Male</td>\n",
       "      <td>70</td>\n",
       "      <td>United-States</td>\n",
       "      <td>&lt;=50K</td>\n",
       "    </tr>\n",
       "    <tr>\n",
       "      <th>3</th>\n",
       "      <td>37</td>\n",
       "      <td>Private</td>\n",
       "      <td>109133</td>\n",
       "      <td>Assoc-acdm</td>\n",
       "      <td>12</td>\n",
       "      <td>Married-civ-spouse</td>\n",
       "      <td>Sales-Bussiness</td>\n",
       "      <td>Husband</td>\n",
       "      <td>White</td>\n",
       "      <td>Male</td>\n",
       "      <td>45</td>\n",
       "      <td>United-States</td>\n",
       "      <td>&gt;50K</td>\n",
       "    </tr>\n",
       "    <tr>\n",
       "      <th>4</th>\n",
       "      <td>43</td>\n",
       "      <td>Private</td>\n",
       "      <td>271807</td>\n",
       "      <td>Some-college</td>\n",
       "      <td>10</td>\n",
       "      <td>Divorced</td>\n",
       "      <td>Craft-repair</td>\n",
       "      <td>Not-in-family</td>\n",
       "      <td>White</td>\n",
       "      <td>Male</td>\n",
       "      <td>40</td>\n",
       "      <td>United-States</td>\n",
       "      <td>&lt;=50K</td>\n",
       "    </tr>\n",
       "  </tbody>\n",
       "</table>\n",
       "</div>"
      ],
      "text/plain": [
       "   age workclass  fnlwgt     education  education-num      marital-status  \\\n",
       "0   31   Private  467579     Bachelors             13  Married-civ-spouse   \n",
       "1   71   Private   93202       HS-grad              9            Divorced   \n",
       "2   62   Private  252668       Masters             14       Never-married   \n",
       "3   37   Private  109133    Assoc-acdm             12  Married-civ-spouse   \n",
       "4   43   Private  271807  Some-college             10            Divorced   \n",
       "\n",
       "        occupation   relationship   race     sex  hours-per-week  \\\n",
       "0  Exec-managerial        Husband  Black    Male              40   \n",
       "1    Other-service  Not-in-family  White  Female              16   \n",
       "2   Prof-specialty  Not-in-family  White    Male              70   \n",
       "3  Sales-Bussiness        Husband  White    Male              45   \n",
       "4     Craft-repair  Not-in-family  White    Male              40   \n",
       "\n",
       "  native-country salary  \n",
       "0  United-States   >50K  \n",
       "1  United-States  <=50K  \n",
       "2  United-States  <=50K  \n",
       "3  United-States   >50K  \n",
       "4  United-States  <=50K  "
      ]
     },
     "execution_count": 75,
     "metadata": {},
     "output_type": "execute_result"
    }
   ],
   "source": [
    "adult_df=df[['age', 'workclass', 'fnlwgt', 'education', 'education-num',\n",
    "       'marital-status', 'occupation', 'relationship', 'race', 'sex',\n",
    "       'hours-per-week', 'native-country', 'salary']]\n",
    "adult_df.head()"
   ]
  },
  {
   "cell_type": "code",
   "execution_count": 79,
   "metadata": {},
   "outputs": [
    {
     "name": "stdout",
     "output_type": "stream",
     "text": [
      "The average age of women from the United States is :  38.66243654822335\n"
     ]
    }
   ],
   "source": [
    "#A)\n",
    "usavg_age=adult_df[adult_df['native-country']=='United-States']['age'].mean()\n",
    "\n",
    "print('The average age of women from the United States is : ',usavg_age)"
   ]
  },
  {
   "cell_type": "code",
   "execution_count": 81,
   "metadata": {},
   "outputs": [
    {
     "name": "stdout",
     "output_type": "stream",
     "text": [
      "The proportion of US citizens : 0.9016018306636155\n"
     ]
    }
   ],
   "source": [
    "#B)\n",
    "prop=adult_df['native-country'].value_counts(normalize=True)['United-States']\n",
    "print('The proportion of US citizens :',prop)"
   ]
  },
  {
   "cell_type": "code",
   "execution_count": 83,
   "metadata": {},
   "outputs": [
    {
     "name": "stdout",
     "output_type": "stream",
     "text": [
      "Occupation has the maximum number of workers who earn a salary more than 50K :  Prof-specialty\n"
     ]
    }
   ],
   "source": [
    "#C)\n",
    "res=adult_df[adult_df['salary']=='>50K'].groupby(['occupation']).agg({'fnlwgt':'count'})\n",
    "occ=res[res['fnlwgt']==res['fnlwgt'].max()].index[0]\n",
    "\n",
    "print('Occupation has the maximum number of workers who earn a salary more than 50K : ',occ)"
   ]
  },
  {
   "cell_type": "code",
   "execution_count": 59,
   "metadata": {},
   "outputs": [
    {
     "data": {
      "text/html": [
       "<div>\n",
       "<style scoped>\n",
       "    .dataframe tbody tr th:only-of-type {\n",
       "        vertical-align: middle;\n",
       "    }\n",
       "\n",
       "    .dataframe tbody tr th {\n",
       "        vertical-align: top;\n",
       "    }\n",
       "\n",
       "    .dataframe thead th {\n",
       "        text-align: right;\n",
       "    }\n",
       "</style>\n",
       "<table border=\"1\" class=\"dataframe\">\n",
       "  <thead>\n",
       "    <tr style=\"text-align: right;\">\n",
       "      <th>salary</th>\n",
       "      <th>&lt;=50K</th>\n",
       "      <th>&gt;50K</th>\n",
       "    </tr>\n",
       "    <tr>\n",
       "      <th>education</th>\n",
       "      <th></th>\n",
       "      <th></th>\n",
       "    </tr>\n",
       "  </thead>\n",
       "  <tbody>\n",
       "    <tr>\n",
       "      <th>10th</th>\n",
       "      <td>12</td>\n",
       "      <td>0</td>\n",
       "    </tr>\n",
       "    <tr>\n",
       "      <th>11th</th>\n",
       "      <td>18</td>\n",
       "      <td>1</td>\n",
       "    </tr>\n",
       "    <tr>\n",
       "      <th>12th</th>\n",
       "      <td>7</td>\n",
       "      <td>0</td>\n",
       "    </tr>\n",
       "    <tr>\n",
       "      <th>1st-4th</th>\n",
       "      <td>2</td>\n",
       "      <td>0</td>\n",
       "    </tr>\n",
       "    <tr>\n",
       "      <th>5th-6th</th>\n",
       "      <td>9</td>\n",
       "      <td>0</td>\n",
       "    </tr>\n",
       "    <tr>\n",
       "      <th>7th-8th</th>\n",
       "      <td>10</td>\n",
       "      <td>3</td>\n",
       "    </tr>\n",
       "    <tr>\n",
       "      <th>9th</th>\n",
       "      <td>11</td>\n",
       "      <td>1</td>\n",
       "    </tr>\n",
       "    <tr>\n",
       "      <th>Assoc-acdm</th>\n",
       "      <td>11</td>\n",
       "      <td>4</td>\n",
       "    </tr>\n",
       "    <tr>\n",
       "      <th>Assoc-voc</th>\n",
       "      <td>22</td>\n",
       "      <td>5</td>\n",
       "    </tr>\n",
       "    <tr>\n",
       "      <th>Bachelors</th>\n",
       "      <td>47</td>\n",
       "      <td>29</td>\n",
       "    </tr>\n",
       "    <tr>\n",
       "      <th>Doctorate</th>\n",
       "      <td>1</td>\n",
       "      <td>2</td>\n",
       "    </tr>\n",
       "    <tr>\n",
       "      <th>HS-grad</th>\n",
       "      <td>109</td>\n",
       "      <td>19</td>\n",
       "    </tr>\n",
       "    <tr>\n",
       "      <th>Masters</th>\n",
       "      <td>11</td>\n",
       "      <td>11</td>\n",
       "    </tr>\n",
       "    <tr>\n",
       "      <th>Preschool</th>\n",
       "      <td>1</td>\n",
       "      <td>0</td>\n",
       "    </tr>\n",
       "    <tr>\n",
       "      <th>Prof-school</th>\n",
       "      <td>3</td>\n",
       "      <td>7</td>\n",
       "    </tr>\n",
       "    <tr>\n",
       "      <th>Some-college</th>\n",
       "      <td>64</td>\n",
       "      <td>17</td>\n",
       "    </tr>\n",
       "  </tbody>\n",
       "</table>\n",
       "</div>"
      ],
      "text/plain": [
       "salary        <=50K  >50K\n",
       "education                \n",
       "10th             12     0\n",
       "11th             18     1\n",
       "12th              7     0\n",
       "1st-4th           2     0\n",
       "5th-6th           9     0\n",
       "7th-8th          10     3\n",
       "9th              11     1\n",
       "Assoc-acdm       11     4\n",
       "Assoc-voc        22     5\n",
       "Bachelors        47    29\n",
       "Doctorate         1     2\n",
       "HS-grad         109    19\n",
       "Masters          11    11\n",
       "Preschool         1     0\n",
       "Prof-school       3     7\n",
       "Some-college     64    17"
      ]
     },
     "execution_count": 59,
     "metadata": {},
     "output_type": "execute_result"
    }
   ],
   "source": [
    "#D)\n",
    "pd.crosstab(adult_df['education'],adult_df['salary'])"
   ]
  },
  {
   "cell_type": "markdown",
   "metadata": {},
   "source": [
    "From the above table we can justify that, people who receive more than 50K salary have at least a high school education."
   ]
  },
  {
   "cell_type": "code",
   "execution_count": 63,
   "metadata": {},
   "outputs": [
    {
     "data": {
      "text/html": [
       "<div>\n",
       "<style scoped>\n",
       "    .dataframe tbody tr th:only-of-type {\n",
       "        vertical-align: middle;\n",
       "    }\n",
       "\n",
       "    .dataframe tbody tr th {\n",
       "        vertical-align: top;\n",
       "    }\n",
       "\n",
       "    .dataframe thead th {\n",
       "        text-align: right;\n",
       "    }\n",
       "</style>\n",
       "<table border=\"1\" class=\"dataframe\">\n",
       "  <thead>\n",
       "    <tr style=\"text-align: right;\">\n",
       "      <th></th>\n",
       "      <th>hours-per-week</th>\n",
       "    </tr>\n",
       "    <tr>\n",
       "      <th>salary</th>\n",
       "      <th></th>\n",
       "    </tr>\n",
       "  </thead>\n",
       "  <tbody>\n",
       "    <tr>\n",
       "      <th>&lt;=50K</th>\n",
       "      <td>39.934911</td>\n",
       "    </tr>\n",
       "    <tr>\n",
       "      <th>&gt;50K</th>\n",
       "      <td>47.121212</td>\n",
       "    </tr>\n",
       "  </tbody>\n",
       "</table>\n",
       "</div>"
      ],
      "text/plain": [
       "        hours-per-week\n",
       "salary                \n",
       "<=50K        39.934911\n",
       ">50K         47.121212"
      ]
     },
     "execution_count": 63,
     "metadata": {},
     "output_type": "execute_result"
    }
   ],
   "source": [
    "#E)\n",
    "adult_df.groupby('salary').agg({'hours-per-week':'mean'})"
   ]
  },
  {
   "cell_type": "code",
   "execution_count": 64,
   "metadata": {},
   "outputs": [
    {
     "data": {
      "text/html": [
       "<div>\n",
       "<style scoped>\n",
       "    .dataframe tbody tr th:only-of-type {\n",
       "        vertical-align: middle;\n",
       "    }\n",
       "\n",
       "    .dataframe tbody tr th {\n",
       "        vertical-align: top;\n",
       "    }\n",
       "\n",
       "    .dataframe thead th {\n",
       "        text-align: right;\n",
       "    }\n",
       "</style>\n",
       "<table border=\"1\" class=\"dataframe\">\n",
       "  <thead>\n",
       "    <tr style=\"text-align: right;\">\n",
       "      <th></th>\n",
       "      <th>age</th>\n",
       "      <th>workclass</th>\n",
       "      <th>fnlwgt</th>\n",
       "      <th>education</th>\n",
       "      <th>education-num</th>\n",
       "      <th>marital-status</th>\n",
       "      <th>relationship</th>\n",
       "      <th>race</th>\n",
       "      <th>sex</th>\n",
       "      <th>hours-per-week</th>\n",
       "      <th>native-country</th>\n",
       "      <th>salary</th>\n",
       "      <th>Profession</th>\n",
       "      <th>Speciality</th>\n",
       "    </tr>\n",
       "  </thead>\n",
       "  <tbody>\n",
       "    <tr>\n",
       "      <th>0</th>\n",
       "      <td>31</td>\n",
       "      <td>Private</td>\n",
       "      <td>467579</td>\n",
       "      <td>Bachelors</td>\n",
       "      <td>13</td>\n",
       "      <td>Married-civ-spouse</td>\n",
       "      <td>Husband</td>\n",
       "      <td>Black</td>\n",
       "      <td>Male</td>\n",
       "      <td>40</td>\n",
       "      <td>United-States</td>\n",
       "      <td>&gt;50K</td>\n",
       "      <td>Exec</td>\n",
       "      <td>managerial</td>\n",
       "    </tr>\n",
       "    <tr>\n",
       "      <th>3</th>\n",
       "      <td>37</td>\n",
       "      <td>Private</td>\n",
       "      <td>109133</td>\n",
       "      <td>Assoc-acdm</td>\n",
       "      <td>12</td>\n",
       "      <td>Married-civ-spouse</td>\n",
       "      <td>Husband</td>\n",
       "      <td>White</td>\n",
       "      <td>Male</td>\n",
       "      <td>45</td>\n",
       "      <td>United-States</td>\n",
       "      <td>&gt;50K</td>\n",
       "      <td>Sales</td>\n",
       "      <td>Bussiness</td>\n",
       "    </tr>\n",
       "    <tr>\n",
       "      <th>5</th>\n",
       "      <td>54</td>\n",
       "      <td>Self-emp-inc</td>\n",
       "      <td>146574</td>\n",
       "      <td>HS-grad</td>\n",
       "      <td>9</td>\n",
       "      <td>Married-civ-spouse</td>\n",
       "      <td>Husband</td>\n",
       "      <td>White</td>\n",
       "      <td>Male</td>\n",
       "      <td>40</td>\n",
       "      <td>United-States</td>\n",
       "      <td>&gt;50K</td>\n",
       "      <td>Craft</td>\n",
       "      <td>repair</td>\n",
       "    </tr>\n",
       "    <tr>\n",
       "      <th>8</th>\n",
       "      <td>45</td>\n",
       "      <td>Private</td>\n",
       "      <td>202812</td>\n",
       "      <td>Bachelors</td>\n",
       "      <td>13</td>\n",
       "      <td>Married-civ-spouse</td>\n",
       "      <td>Husband</td>\n",
       "      <td>White</td>\n",
       "      <td>Male</td>\n",
       "      <td>40</td>\n",
       "      <td>United-States</td>\n",
       "      <td>&gt;50K</td>\n",
       "      <td>Prof</td>\n",
       "      <td>specialty</td>\n",
       "    </tr>\n",
       "    <tr>\n",
       "      <th>14</th>\n",
       "      <td>31</td>\n",
       "      <td>Private</td>\n",
       "      <td>201122</td>\n",
       "      <td>Some-college</td>\n",
       "      <td>10</td>\n",
       "      <td>Married-civ-spouse</td>\n",
       "      <td>Husband</td>\n",
       "      <td>White</td>\n",
       "      <td>Male</td>\n",
       "      <td>40</td>\n",
       "      <td>United-States</td>\n",
       "      <td>&gt;50K</td>\n",
       "      <td>Exec</td>\n",
       "      <td>managerial</td>\n",
       "    </tr>\n",
       "  </tbody>\n",
       "</table>\n",
       "</div>"
      ],
      "text/plain": [
       "    age     workclass  fnlwgt     education  education-num  \\\n",
       "0    31       Private  467579     Bachelors             13   \n",
       "3    37       Private  109133    Assoc-acdm             12   \n",
       "5    54  Self-emp-inc  146574       HS-grad              9   \n",
       "8    45       Private  202812     Bachelors             13   \n",
       "14   31       Private  201122  Some-college             10   \n",
       "\n",
       "        marital-status relationship   race   sex  hours-per-week  \\\n",
       "0   Married-civ-spouse      Husband  Black  Male              40   \n",
       "3   Married-civ-spouse      Husband  White  Male              45   \n",
       "5   Married-civ-spouse      Husband  White  Male              40   \n",
       "8   Married-civ-spouse      Husband  White  Male              40   \n",
       "14  Married-civ-spouse      Husband  White  Male              40   \n",
       "\n",
       "   native-country salary Profession  Speciality  \n",
       "0   United-States   >50K       Exec  managerial  \n",
       "3   United-States   >50K      Sales   Bussiness  \n",
       "5   United-States   >50K      Craft      repair  \n",
       "8   United-States   >50K       Prof   specialty  \n",
       "14  United-States   >50K       Exec  managerial  "
      ]
     },
     "execution_count": 64,
     "metadata": {},
     "output_type": "execute_result"
    }
   ],
   "source": [
    "#F)\n",
    "adult_50=adult_df[(adult_df['salary']=='>50K') & (adult_df['sex']=='Male')]\n",
    "adult_50.head()"
   ]
  },
  {
   "cell_type": "code",
   "execution_count": 65,
   "metadata": {},
   "outputs": [
    {
     "name": "stderr",
     "output_type": "stream",
     "text": [
      "/home/deploy/anaconda3/lib/python3.7/site-packages/pandas/core/generic.py:6586: SettingWithCopyWarning: \n",
      "A value is trying to be set on a copy of a slice from a DataFrame\n",
      "\n",
      "See the caveats in the documentation: http://pandas.pydata.org/pandas-docs/stable/indexing.html#indexing-view-versus-copy\n",
      "  self._update_inplace(new_data)\n"
     ]
    },
    {
     "data": {
      "text/html": [
       "<div>\n",
       "<style scoped>\n",
       "    .dataframe tbody tr th:only-of-type {\n",
       "        vertical-align: middle;\n",
       "    }\n",
       "\n",
       "    .dataframe tbody tr th {\n",
       "        vertical-align: top;\n",
       "    }\n",
       "\n",
       "    .dataframe thead th {\n",
       "        text-align: right;\n",
       "    }\n",
       "</style>\n",
       "<table border=\"1\" class=\"dataframe\">\n",
       "  <thead>\n",
       "    <tr style=\"text-align: right;\">\n",
       "      <th></th>\n",
       "      <th>age</th>\n",
       "      <th>workclass</th>\n",
       "      <th>fnlwgt</th>\n",
       "      <th>education</th>\n",
       "      <th>education-num</th>\n",
       "      <th>marital-status</th>\n",
       "      <th>relationship</th>\n",
       "      <th>race</th>\n",
       "      <th>sex</th>\n",
       "      <th>hours-per-week</th>\n",
       "      <th>native-country</th>\n",
       "      <th>salary</th>\n",
       "      <th>Profession</th>\n",
       "      <th>Speciality</th>\n",
       "    </tr>\n",
       "  </thead>\n",
       "  <tbody>\n",
       "    <tr>\n",
       "      <th>0</th>\n",
       "      <td>31</td>\n",
       "      <td>Private</td>\n",
       "      <td>467579</td>\n",
       "      <td>Bachelors</td>\n",
       "      <td>13</td>\n",
       "      <td>Married</td>\n",
       "      <td>Husband</td>\n",
       "      <td>Black</td>\n",
       "      <td>Male</td>\n",
       "      <td>40</td>\n",
       "      <td>United-States</td>\n",
       "      <td>&gt;50K</td>\n",
       "      <td>Exec</td>\n",
       "      <td>managerial</td>\n",
       "    </tr>\n",
       "    <tr>\n",
       "      <th>3</th>\n",
       "      <td>37</td>\n",
       "      <td>Private</td>\n",
       "      <td>109133</td>\n",
       "      <td>Assoc-acdm</td>\n",
       "      <td>12</td>\n",
       "      <td>Married</td>\n",
       "      <td>Husband</td>\n",
       "      <td>White</td>\n",
       "      <td>Male</td>\n",
       "      <td>45</td>\n",
       "      <td>United-States</td>\n",
       "      <td>&gt;50K</td>\n",
       "      <td>Sales</td>\n",
       "      <td>Bussiness</td>\n",
       "    </tr>\n",
       "    <tr>\n",
       "      <th>5</th>\n",
       "      <td>54</td>\n",
       "      <td>Self-emp-inc</td>\n",
       "      <td>146574</td>\n",
       "      <td>HS-grad</td>\n",
       "      <td>9</td>\n",
       "      <td>Married</td>\n",
       "      <td>Husband</td>\n",
       "      <td>White</td>\n",
       "      <td>Male</td>\n",
       "      <td>40</td>\n",
       "      <td>United-States</td>\n",
       "      <td>&gt;50K</td>\n",
       "      <td>Craft</td>\n",
       "      <td>repair</td>\n",
       "    </tr>\n",
       "    <tr>\n",
       "      <th>8</th>\n",
       "      <td>45</td>\n",
       "      <td>Private</td>\n",
       "      <td>202812</td>\n",
       "      <td>Bachelors</td>\n",
       "      <td>13</td>\n",
       "      <td>Married</td>\n",
       "      <td>Husband</td>\n",
       "      <td>White</td>\n",
       "      <td>Male</td>\n",
       "      <td>40</td>\n",
       "      <td>United-States</td>\n",
       "      <td>&gt;50K</td>\n",
       "      <td>Prof</td>\n",
       "      <td>specialty</td>\n",
       "    </tr>\n",
       "    <tr>\n",
       "      <th>14</th>\n",
       "      <td>31</td>\n",
       "      <td>Private</td>\n",
       "      <td>201122</td>\n",
       "      <td>Some-college</td>\n",
       "      <td>10</td>\n",
       "      <td>Married</td>\n",
       "      <td>Husband</td>\n",
       "      <td>White</td>\n",
       "      <td>Male</td>\n",
       "      <td>40</td>\n",
       "      <td>United-States</td>\n",
       "      <td>&gt;50K</td>\n",
       "      <td>Exec</td>\n",
       "      <td>managerial</td>\n",
       "    </tr>\n",
       "  </tbody>\n",
       "</table>\n",
       "</div>"
      ],
      "text/plain": [
       "    age     workclass  fnlwgt     education  education-num marital-status  \\\n",
       "0    31       Private  467579     Bachelors             13        Married   \n",
       "3    37       Private  109133    Assoc-acdm             12        Married   \n",
       "5    54  Self-emp-inc  146574       HS-grad              9        Married   \n",
       "8    45       Private  202812     Bachelors             13        Married   \n",
       "14   31       Private  201122  Some-college             10        Married   \n",
       "\n",
       "   relationship   race   sex  hours-per-week native-country salary Profession  \\\n",
       "0       Husband  Black  Male              40  United-States   >50K       Exec   \n",
       "3       Husband  White  Male              45  United-States   >50K      Sales   \n",
       "5       Husband  White  Male              40  United-States   >50K      Craft   \n",
       "8       Husband  White  Male              40  United-States   >50K       Prof   \n",
       "14      Husband  White  Male              40  United-States   >50K       Exec   \n",
       "\n",
       "    Speciality  \n",
       "0   managerial  \n",
       "3    Bussiness  \n",
       "5       repair  \n",
       "8    specialty  \n",
       "14  managerial  "
      ]
     },
     "execution_count": 65,
     "metadata": {},
     "output_type": "execute_result"
    }
   ],
   "source": [
    "adult_50['marital-status'].replace(['Married-civ-spouse','Married-spouse-absent','Married-AF-spouse'],'Married',inplace=True)\n",
    "adult_50['marital-status'].replace(['Divorced','Never-married','Widowed'],'Bachelores',inplace=True)\n",
    "adult_50.head()"
   ]
  },
  {
   "cell_type": "code",
   "execution_count": 66,
   "metadata": {},
   "outputs": [
    {
     "data": {
      "text/plain": [
       "Married       0.965909\n",
       "Bachelores    0.034091\n",
       "Name: marital-status, dtype: float64"
      ]
     },
     "execution_count": 66,
     "metadata": {},
     "output_type": "execute_result"
    }
   ],
   "source": [
    "adult_50['marital-status'].value_counts(normalize=True)"
   ]
  },
  {
   "cell_type": "markdown",
   "metadata": {},
   "source": [
    "From the above we can say that the proportion of the married is higher than that of bachelores among the high earning employees."
   ]
  },
  {
   "cell_type": "code",
   "execution_count": 43,
   "metadata": {},
   "outputs": [
    {
     "name": "stdout",
     "output_type": "stream",
     "text": [
      "Maximum number of hours a person works per week:  80\n"
     ]
    }
   ],
   "source": [
    "#G)\n",
    "print('Maximum number of hours a person works per week: ',adult_df['hours-per-week'].max())"
   ]
  },
  {
   "cell_type": "code",
   "execution_count": 47,
   "metadata": {},
   "outputs": [
    {
     "name": "stdout",
     "output_type": "stream",
     "text": [
      "Number of people work for the above mentioned number of hours:  4\n"
     ]
    }
   ],
   "source": [
    "tot=adult_df[adult_df['hours-per-week']==80].shape[0]\n",
    "print('Number of people work for the above mentioned number of hours: ',tot)"
   ]
  },
  {
   "cell_type": "code",
   "execution_count": 48,
   "metadata": {},
   "outputs": [],
   "source": [
    "hrs_80=adult_df[adult_df['hours-per-week']==80]"
   ]
  },
  {
   "cell_type": "code",
   "execution_count": 51,
   "metadata": {},
   "outputs": [
    {
     "name": "stdout",
     "output_type": "stream",
     "text": [
      "Percentage of those who earn more than >50 K among the maximum working hours in a week : 25.0 %\n"
     ]
    }
   ],
   "source": [
    "x=hrs_80[hrs_80['salary']=='>50K'].shape[0]\n",
    "\n",
    "prop=(x/tot)*100\n",
    "\n",
    "print('Percentage of those who earn more than >50 K among the maximum working hours in a week :',prop,'%')"
   ]
  },
  {
   "cell_type": "code",
   "execution_count": 60,
   "metadata": {},
   "outputs": [
    {
     "name": "stderr",
     "output_type": "stream",
     "text": [
      "/home/deploy/anaconda3/lib/python3.7/site-packages/ipykernel_launcher.py:2: SettingWithCopyWarning: \n",
      "A value is trying to be set on a copy of a slice from a DataFrame.\n",
      "Try using .loc[row_indexer,col_indexer] = value instead\n",
      "\n",
      "See the caveats in the documentation: http://pandas.pydata.org/pandas-docs/stable/indexing.html#indexing-view-versus-copy\n",
      "  \n",
      "/home/deploy/anaconda3/lib/python3.7/site-packages/ipykernel_launcher.py:3: SettingWithCopyWarning: \n",
      "A value is trying to be set on a copy of a slice from a DataFrame.\n",
      "Try using .loc[row_indexer,col_indexer] = value instead\n",
      "\n",
      "See the caveats in the documentation: http://pandas.pydata.org/pandas-docs/stable/indexing.html#indexing-view-versus-copy\n",
      "  This is separate from the ipykernel package so we can avoid doing imports until\n"
     ]
    }
   ],
   "source": [
    "#H)\n",
    "adult_df['Profession']=adult_df['occupation'].apply(lambda x: x.split('-')[0])\n",
    "adult_df['Speciality']=adult_df['occupation'].apply(lambda x: x.split('-')[-1])"
   ]
  },
  {
   "cell_type": "code",
   "execution_count": 61,
   "metadata": {},
   "outputs": [
    {
     "name": "stderr",
     "output_type": "stream",
     "text": [
      "/home/deploy/anaconda3/lib/python3.7/site-packages/pandas/core/frame.py:3940: SettingWithCopyWarning: \n",
      "A value is trying to be set on a copy of a slice from a DataFrame\n",
      "\n",
      "See the caveats in the documentation: http://pandas.pydata.org/pandas-docs/stable/indexing.html#indexing-view-versus-copy\n",
      "  errors=errors)\n"
     ]
    },
    {
     "data": {
      "text/html": [
       "<div>\n",
       "<style scoped>\n",
       "    .dataframe tbody tr th:only-of-type {\n",
       "        vertical-align: middle;\n",
       "    }\n",
       "\n",
       "    .dataframe tbody tr th {\n",
       "        vertical-align: top;\n",
       "    }\n",
       "\n",
       "    .dataframe thead th {\n",
       "        text-align: right;\n",
       "    }\n",
       "</style>\n",
       "<table border=\"1\" class=\"dataframe\">\n",
       "  <thead>\n",
       "    <tr style=\"text-align: right;\">\n",
       "      <th></th>\n",
       "      <th>age</th>\n",
       "      <th>workclass</th>\n",
       "      <th>fnlwgt</th>\n",
       "      <th>education</th>\n",
       "      <th>education-num</th>\n",
       "      <th>marital-status</th>\n",
       "      <th>relationship</th>\n",
       "      <th>race</th>\n",
       "      <th>sex</th>\n",
       "      <th>hours-per-week</th>\n",
       "      <th>native-country</th>\n",
       "      <th>salary</th>\n",
       "      <th>Profession</th>\n",
       "      <th>Speciality</th>\n",
       "    </tr>\n",
       "  </thead>\n",
       "  <tbody>\n",
       "    <tr>\n",
       "      <th>0</th>\n",
       "      <td>31</td>\n",
       "      <td>Private</td>\n",
       "      <td>467579</td>\n",
       "      <td>Bachelors</td>\n",
       "      <td>13</td>\n",
       "      <td>Married-civ-spouse</td>\n",
       "      <td>Husband</td>\n",
       "      <td>Black</td>\n",
       "      <td>Male</td>\n",
       "      <td>40</td>\n",
       "      <td>United-States</td>\n",
       "      <td>&gt;50K</td>\n",
       "      <td>Exec</td>\n",
       "      <td>managerial</td>\n",
       "    </tr>\n",
       "    <tr>\n",
       "      <th>1</th>\n",
       "      <td>71</td>\n",
       "      <td>Private</td>\n",
       "      <td>93202</td>\n",
       "      <td>HS-grad</td>\n",
       "      <td>9</td>\n",
       "      <td>Divorced</td>\n",
       "      <td>Not-in-family</td>\n",
       "      <td>White</td>\n",
       "      <td>Female</td>\n",
       "      <td>16</td>\n",
       "      <td>United-States</td>\n",
       "      <td>&lt;=50K</td>\n",
       "      <td>Other</td>\n",
       "      <td>service</td>\n",
       "    </tr>\n",
       "    <tr>\n",
       "      <th>2</th>\n",
       "      <td>62</td>\n",
       "      <td>Private</td>\n",
       "      <td>252668</td>\n",
       "      <td>Masters</td>\n",
       "      <td>14</td>\n",
       "      <td>Never-married</td>\n",
       "      <td>Not-in-family</td>\n",
       "      <td>White</td>\n",
       "      <td>Male</td>\n",
       "      <td>70</td>\n",
       "      <td>United-States</td>\n",
       "      <td>&lt;=50K</td>\n",
       "      <td>Prof</td>\n",
       "      <td>specialty</td>\n",
       "    </tr>\n",
       "    <tr>\n",
       "      <th>3</th>\n",
       "      <td>37</td>\n",
       "      <td>Private</td>\n",
       "      <td>109133</td>\n",
       "      <td>Assoc-acdm</td>\n",
       "      <td>12</td>\n",
       "      <td>Married-civ-spouse</td>\n",
       "      <td>Husband</td>\n",
       "      <td>White</td>\n",
       "      <td>Male</td>\n",
       "      <td>45</td>\n",
       "      <td>United-States</td>\n",
       "      <td>&gt;50K</td>\n",
       "      <td>Sales</td>\n",
       "      <td>Bussiness</td>\n",
       "    </tr>\n",
       "    <tr>\n",
       "      <th>4</th>\n",
       "      <td>43</td>\n",
       "      <td>Private</td>\n",
       "      <td>271807</td>\n",
       "      <td>Some-college</td>\n",
       "      <td>10</td>\n",
       "      <td>Divorced</td>\n",
       "      <td>Not-in-family</td>\n",
       "      <td>White</td>\n",
       "      <td>Male</td>\n",
       "      <td>40</td>\n",
       "      <td>United-States</td>\n",
       "      <td>&lt;=50K</td>\n",
       "      <td>Craft</td>\n",
       "      <td>repair</td>\n",
       "    </tr>\n",
       "  </tbody>\n",
       "</table>\n",
       "</div>"
      ],
      "text/plain": [
       "   age workclass  fnlwgt     education  education-num      marital-status  \\\n",
       "0   31   Private  467579     Bachelors             13  Married-civ-spouse   \n",
       "1   71   Private   93202       HS-grad              9            Divorced   \n",
       "2   62   Private  252668       Masters             14       Never-married   \n",
       "3   37   Private  109133    Assoc-acdm             12  Married-civ-spouse   \n",
       "4   43   Private  271807  Some-college             10            Divorced   \n",
       "\n",
       "    relationship   race     sex  hours-per-week native-country salary  \\\n",
       "0        Husband  Black    Male              40  United-States   >50K   \n",
       "1  Not-in-family  White  Female              16  United-States  <=50K   \n",
       "2  Not-in-family  White    Male              70  United-States  <=50K   \n",
       "3        Husband  White    Male              45  United-States   >50K   \n",
       "4  Not-in-family  White    Male              40  United-States  <=50K   \n",
       "\n",
       "  Profession  Speciality  \n",
       "0       Exec  managerial  \n",
       "1      Other     service  \n",
       "2       Prof   specialty  \n",
       "3      Sales   Bussiness  \n",
       "4      Craft      repair  "
      ]
     },
     "execution_count": 61,
     "metadata": {},
     "output_type": "execute_result"
    }
   ],
   "source": [
    "adult_df.drop(['occupation'],axis=1,inplace=True)\n",
    "adult_df.head()"
   ]
  },
  {
   "cell_type": "code",
   "execution_count": 62,
   "metadata": {},
   "outputs": [
    {
     "data": {
      "text/plain": [
       "Profession   sex   \n",
       "Adm          Female    0.725490\n",
       "             Male      0.274510\n",
       "Craft        Male      0.984375\n",
       "             Female    0.015625\n",
       "Exec         Male      0.711538\n",
       "             Female    0.288462\n",
       "Farming      Male      1.000000\n",
       "Handlers     Male      0.888889\n",
       "             Female    0.111111\n",
       "MachineInsp  Male      0.739130\n",
       "             Female    0.260870\n",
       "Other        Male      0.557692\n",
       "             Female    0.442308\n",
       "Prof         Male      0.619718\n",
       "             Female    0.380282\n",
       "Protective   Male      0.900000\n",
       "             Female    0.100000\n",
       "Sales        Male      0.744186\n",
       "             Female    0.255814\n",
       "Servernt     Female    1.000000\n",
       "Tech         Male      0.636364\n",
       "             Female    0.363636\n",
       "Transport    Male      1.000000\n",
       "Name: sex, dtype: float64"
      ]
     },
     "execution_count": 62,
     "metadata": {},
     "output_type": "execute_result"
    }
   ],
   "source": [
    "#I)\n",
    "\n",
    "adult_df.groupby(['Profession']).sex.value_counts(normalize=True)"
   ]
  }
 ],
 "metadata": {
  "kernelspec": {
   "display_name": "Python 3",
   "language": "python",
   "name": "python3"
  },
  "language_info": {
   "codemirror_mode": {
    "name": "ipython",
    "version": 3
   },
   "file_extension": ".py",
   "mimetype": "text/x-python",
   "name": "python",
   "nbconvert_exporter": "python",
   "pygments_lexer": "ipython3",
   "version": "3.8.8"
  }
 },
 "nbformat": 4,
 "nbformat_minor": 2
}
