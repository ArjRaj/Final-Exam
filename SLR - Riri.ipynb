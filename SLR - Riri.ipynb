{
 "cells": [
  {
   "cell_type": "markdown",
   "metadata": {
    "colab_type": "text",
    "id": "Sx76C_rU1Ngk"
   },
   "source": [
    "# SLR FINAL EXAM"
   ]
  },
  {
   "cell_type": "markdown",
   "metadata": {
    "colab_type": "text",
    "id": "kMt432NK1Ngm"
   },
   "source": [
    "### DATA DESCRIPTION: \n",
    "The data set consists of complete educational details of students right from their\n",
    "schooling to MBA and previous work experience. Our main objective is to predict the Salary of the students\n",
    "based on the info available. The data set consists of 391 observations and 19 variables.\n",
    "\n",
    "### ATTRIBUTES:\n",
    "\n",
    "SlNo - ID of the student\n",
    "\n",
    "Gender - Gender of Student\n",
    "\n",
    "Percent_SSC - Percentage of marks scored in SSC\n",
    "\n",
    "Board_SSC - Types of Boards in SSC\n",
    "\n",
    "\n",
    "Percent_HSC - Percentage of marks scored in HSC\n",
    "\n",
    "Board_HSC - Types of Boards in HSC\n",
    "\n",
    "Stream_HSC - Specialization in HSC\n",
    "\n",
    "Percent Degree - Percentage of marks scored in Degree\n",
    "\n",
    "Course_Degree - Different courses in degree\n",
    "\n",
    "Experience_Yrs - Work Experience of the Students\n",
    "\n",
    "Entrance_Test - Test which students give for MBA college Entrance\n",
    "\n",
    "Percentile_ET - Percentage of marks scored in Entrance_Test\n",
    "\n",
    "\n",
    "Percent_MBA - Percentage of marks scored in MBA\n",
    "\n",
    "Specialization_MBA - Specialization in MBA\n",
    "\n",
    "Marks Communication - Percentage of marks scored in Communication\n",
    "\n",
    "Marks_Projectwork - Percentage of marks scored in Project Work\n",
    "\n",
    "\n",
    "Marks_BOCA - Percentage of marks scored by students in Extra Curricular\n",
    "\n",
    "activities\n",
    "\n",
    "Placement - Whether Student got placed or not\n",
    "\n",
    "\n",
    "Salary - Salary of students\n"
   ]
  },
  {
   "cell_type": "markdown",
   "metadata": {
    "colab_type": "text",
    "id": "4FAX-CNq1Ngn"
   },
   "source": [
    "\n",
    "### 1.\t Read the dataset (tab, csv, xls, txt, inbuilt dataset) "
   ]
  },
  {
   "cell_type": "markdown",
   "metadata": {
    "colab_type": "raw",
    "id": "wEgYP9-oW0cg"
   },
   "source": [
    "## Kindly change the below cells from markdown to code and execute it "
   ]
  },
  {
   "cell_type": "code",
   "execution_count": 1,
   "metadata": {},
   "outputs": [],
   "source": [
    "import pandas as pd\n",
    "import numpy as np\n",
    "import seaborn as sns\n",
    "import matplotlib.pyplot as plt\n",
    "\n",
    "import statsmodels.api as sm\n",
    "from sklearn.model_selection import train_test_split\n",
    "from sklearn.preprocessing import StandardScaler\n",
    "from sklearn.preprocessing import LabelEncoder\n",
    "\n",
    "from sklearn.metrics import mean_squared_error\n",
    "from sklearn.metrics import r2_score\n",
    "from statsmodels.stats.outliers_influence import variance_inflation_factor\n",
    "\n",
    "from sklearn.feature_selection import RFE\n",
    "from sklearn.linear_model import ElasticNet\n",
    "\n",
    "from sklearn.model_selection import GridSearchCV"
   ]
  },
  {
   "cell_type": "code",
   "execution_count": 2,
   "metadata": {
    "colab_type": "raw",
    "id": "VQ_WA9jKW0ch"
   },
   "outputs": [
    {
     "data": {
      "text/html": [
       "<div>\n",
       "<style scoped>\n",
       "    .dataframe tbody tr th:only-of-type {\n",
       "        vertical-align: middle;\n",
       "    }\n",
       "\n",
       "    .dataframe tbody tr th {\n",
       "        vertical-align: top;\n",
       "    }\n",
       "\n",
       "    .dataframe thead th {\n",
       "        text-align: right;\n",
       "    }\n",
       "</style>\n",
       "<table border=\"1\" class=\"dataframe\">\n",
       "  <thead>\n",
       "    <tr style=\"text-align: right;\">\n",
       "      <th></th>\n",
       "      <th>SlNo</th>\n",
       "      <th>Gender</th>\n",
       "      <th>Percent_SSC</th>\n",
       "      <th>Board_SSC</th>\n",
       "      <th>Percent_HSC</th>\n",
       "      <th>Board_HSC</th>\n",
       "      <th>Stream_HSC</th>\n",
       "      <th>Percent_Degree</th>\n",
       "      <th>Course_Degree</th>\n",
       "      <th>Experience_Yrs</th>\n",
       "      <th>Entrance_Test</th>\n",
       "      <th>Percentile_ET</th>\n",
       "      <th>Percent_MBA</th>\n",
       "      <th>Specialization_MBA</th>\n",
       "      <th>Marks_Communication</th>\n",
       "      <th>Marks_Projectwork</th>\n",
       "      <th>Marks_BOCA</th>\n",
       "      <th>Placement</th>\n",
       "      <th>Salary</th>\n",
       "    </tr>\n",
       "  </thead>\n",
       "  <tbody>\n",
       "    <tr>\n",
       "      <th>0</th>\n",
       "      <td>1</td>\n",
       "      <td>M</td>\n",
       "      <td>62.00</td>\n",
       "      <td>Others</td>\n",
       "      <td>88.00</td>\n",
       "      <td>Others</td>\n",
       "      <td>Commerce</td>\n",
       "      <td>52.00</td>\n",
       "      <td>Science</td>\n",
       "      <td>0</td>\n",
       "      <td>MAT</td>\n",
       "      <td>55.0</td>\n",
       "      <td>58.80</td>\n",
       "      <td>Marketing &amp; HR</td>\n",
       "      <td>50</td>\n",
       "      <td>65</td>\n",
       "      <td>74</td>\n",
       "      <td>Placed</td>\n",
       "      <td>270000</td>\n",
       "    </tr>\n",
       "    <tr>\n",
       "      <th>1</th>\n",
       "      <td>2</td>\n",
       "      <td>M</td>\n",
       "      <td>76.33</td>\n",
       "      <td>ICSE</td>\n",
       "      <td>75.33</td>\n",
       "      <td>Others</td>\n",
       "      <td>Science</td>\n",
       "      <td>75.48</td>\n",
       "      <td>Computer Applications</td>\n",
       "      <td>1</td>\n",
       "      <td>MAT</td>\n",
       "      <td>86.5</td>\n",
       "      <td>66.28</td>\n",
       "      <td>Marketing &amp; Finance</td>\n",
       "      <td>69</td>\n",
       "      <td>70</td>\n",
       "      <td>75</td>\n",
       "      <td>Placed</td>\n",
       "      <td>200000</td>\n",
       "    </tr>\n",
       "    <tr>\n",
       "      <th>2</th>\n",
       "      <td>3</td>\n",
       "      <td>M</td>\n",
       "      <td>72.00</td>\n",
       "      <td>Others</td>\n",
       "      <td>78.00</td>\n",
       "      <td>Others</td>\n",
       "      <td>Commerce</td>\n",
       "      <td>66.63</td>\n",
       "      <td>Engineering</td>\n",
       "      <td>0</td>\n",
       "      <td>NaN</td>\n",
       "      <td>0.0</td>\n",
       "      <td>52.91</td>\n",
       "      <td>Marketing &amp; Finance</td>\n",
       "      <td>50</td>\n",
       "      <td>61</td>\n",
       "      <td>59</td>\n",
       "      <td>Placed</td>\n",
       "      <td>240000</td>\n",
       "    </tr>\n",
       "    <tr>\n",
       "      <th>3</th>\n",
       "      <td>4</td>\n",
       "      <td>M</td>\n",
       "      <td>60.00</td>\n",
       "      <td>CBSE</td>\n",
       "      <td>63.00</td>\n",
       "      <td>CBSE</td>\n",
       "      <td>Arts</td>\n",
       "      <td>58.00</td>\n",
       "      <td>Management</td>\n",
       "      <td>0</td>\n",
       "      <td>MAT</td>\n",
       "      <td>75.0</td>\n",
       "      <td>57.80</td>\n",
       "      <td>Marketing &amp; Finance</td>\n",
       "      <td>54</td>\n",
       "      <td>66</td>\n",
       "      <td>62</td>\n",
       "      <td>Placed</td>\n",
       "      <td>250000</td>\n",
       "    </tr>\n",
       "    <tr>\n",
       "      <th>4</th>\n",
       "      <td>5</td>\n",
       "      <td>M</td>\n",
       "      <td>61.00</td>\n",
       "      <td>CBSE</td>\n",
       "      <td>55.00</td>\n",
       "      <td>ISC</td>\n",
       "      <td>Science</td>\n",
       "      <td>54.00</td>\n",
       "      <td>Engineering</td>\n",
       "      <td>1</td>\n",
       "      <td>MAT</td>\n",
       "      <td>66.0</td>\n",
       "      <td>59.43</td>\n",
       "      <td>Marketing &amp; HR</td>\n",
       "      <td>52</td>\n",
       "      <td>65</td>\n",
       "      <td>67</td>\n",
       "      <td>Placed</td>\n",
       "      <td>180000</td>\n",
       "    </tr>\n",
       "  </tbody>\n",
       "</table>\n",
       "</div>"
      ],
      "text/plain": [
       "   SlNo Gender  Percent_SSC Board_SSC  Percent_HSC Board_HSC Stream_HSC  \\\n",
       "0     1      M        62.00    Others        88.00    Others   Commerce   \n",
       "1     2      M        76.33      ICSE        75.33    Others    Science   \n",
       "2     3      M        72.00    Others        78.00    Others   Commerce   \n",
       "3     4      M        60.00      CBSE        63.00      CBSE       Arts   \n",
       "4     5      M        61.00      CBSE        55.00       ISC    Science   \n",
       "\n",
       "   Percent_Degree          Course_Degree  Experience_Yrs Entrance_Test  \\\n",
       "0           52.00                Science               0           MAT   \n",
       "1           75.48  Computer Applications               1           MAT   \n",
       "2           66.63            Engineering               0           NaN   \n",
       "3           58.00             Management               0           MAT   \n",
       "4           54.00            Engineering               1           MAT   \n",
       "\n",
       "   Percentile_ET  Percent_MBA   Specialization_MBA  Marks_Communication  \\\n",
       "0           55.0        58.80       Marketing & HR                   50   \n",
       "1           86.5        66.28  Marketing & Finance                   69   \n",
       "2            0.0        52.91  Marketing & Finance                   50   \n",
       "3           75.0        57.80  Marketing & Finance                   54   \n",
       "4           66.0        59.43       Marketing & HR                   52   \n",
       "\n",
       "   Marks_Projectwork  Marks_BOCA Placement  Salary  \n",
       "0                 65          74    Placed  270000  \n",
       "1                 70          75    Placed  200000  \n",
       "2                 61          59    Placed  240000  \n",
       "3                 66          62    Placed  250000  \n",
       "4                 65          67    Placed  180000  "
      ]
     },
     "execution_count": 2,
     "metadata": {},
     "output_type": "execute_result"
    }
   ],
   "source": [
    "df=pd.read_excel(\"Admission.xlsx\")\n",
    "\n",
    "df.head()\n"
   ]
  },
  {
   "cell_type": "markdown",
   "metadata": {
    "colab_type": "text",
    "id": "mbuJVZ621Ngz"
   },
   "source": [
    "### 2.\tSummarize important observations from the data set (5 Marks)\n",
    "\n",
    "Some pointers which would help you, but don’t be limited by these\n",
    "\n",
    "a.\tWhat are the number of rows; no. & types of variables (continuous, categorical etc.)\n",
    "\n",
    "b.\tCalculate five point summary for numerical variables\n",
    "\n",
    "c.\tSummarize observations for categorical variables – no. of categories, % observations in each category\n"
   ]
  },
  {
   "cell_type": "code",
   "execution_count": 3,
   "metadata": {
    "colab": {},
    "colab_type": "code",
    "id": "BfJ-CcYp1Ng0"
   },
   "outputs": [
    {
     "name": "stdout",
     "output_type": "stream",
     "text": [
      "<class 'pandas.core.frame.DataFrame'>\n",
      "RangeIndex: 391 entries, 0 to 390\n",
      "Data columns (total 19 columns):\n",
      " #   Column               Non-Null Count  Dtype  \n",
      "---  ------               --------------  -----  \n",
      " 0   SlNo                 391 non-null    int64  \n",
      " 1   Gender               391 non-null    object \n",
      " 2   Percent_SSC          391 non-null    float64\n",
      " 3   Board_SSC            391 non-null    object \n",
      " 4   Percent_HSC          391 non-null    float64\n",
      " 5   Board_HSC            391 non-null    object \n",
      " 6   Stream_HSC           391 non-null    object \n",
      " 7   Percent_Degree       391 non-null    float64\n",
      " 8   Course_Degree        391 non-null    object \n",
      " 9   Experience_Yrs       391 non-null    int64  \n",
      " 10  Entrance_Test        324 non-null    object \n",
      " 11  Percentile_ET        391 non-null    float64\n",
      " 12  Percent_MBA          391 non-null    float64\n",
      " 13  Specialization_MBA   391 non-null    object \n",
      " 14  Marks_Communication  391 non-null    int64  \n",
      " 15  Marks_Projectwork    391 non-null    int64  \n",
      " 16  Marks_BOCA           391 non-null    int64  \n",
      " 17  Placement            391 non-null    object \n",
      " 18  Salary               391 non-null    int64  \n",
      "dtypes: float64(5), int64(6), object(8)\n",
      "memory usage: 58.2+ KB\n"
     ]
    }
   ],
   "source": [
    "df.info()"
   ]
  },
  {
   "cell_type": "code",
   "execution_count": 4,
   "metadata": {},
   "outputs": [
    {
     "data": {
      "text/html": [
       "<div>\n",
       "<style scoped>\n",
       "    .dataframe tbody tr th:only-of-type {\n",
       "        vertical-align: middle;\n",
       "    }\n",
       "\n",
       "    .dataframe tbody tr th {\n",
       "        vertical-align: top;\n",
       "    }\n",
       "\n",
       "    .dataframe thead th {\n",
       "        text-align: right;\n",
       "    }\n",
       "</style>\n",
       "<table border=\"1\" class=\"dataframe\">\n",
       "  <thead>\n",
       "    <tr style=\"text-align: right;\">\n",
       "      <th></th>\n",
       "      <th>SlNo</th>\n",
       "      <th>Percent_SSC</th>\n",
       "      <th>Percent_HSC</th>\n",
       "      <th>Percent_Degree</th>\n",
       "      <th>Experience_Yrs</th>\n",
       "      <th>Percentile_ET</th>\n",
       "      <th>Percent_MBA</th>\n",
       "      <th>Marks_Communication</th>\n",
       "      <th>Marks_Projectwork</th>\n",
       "      <th>Marks_BOCA</th>\n",
       "      <th>Salary</th>\n",
       "    </tr>\n",
       "  </thead>\n",
       "  <tbody>\n",
       "    <tr>\n",
       "      <th>count</th>\n",
       "      <td>391.000000</td>\n",
       "      <td>391.000000</td>\n",
       "      <td>391.000000</td>\n",
       "      <td>391.000000</td>\n",
       "      <td>391.000000</td>\n",
       "      <td>391.000000</td>\n",
       "      <td>391.000000</td>\n",
       "      <td>391.000000</td>\n",
       "      <td>391.000000</td>\n",
       "      <td>391.000000</td>\n",
       "      <td>391.000000</td>\n",
       "    </tr>\n",
       "    <tr>\n",
       "      <th>mean</th>\n",
       "      <td>196.000000</td>\n",
       "      <td>64.652353</td>\n",
       "      <td>63.795294</td>\n",
       "      <td>62.983606</td>\n",
       "      <td>0.478261</td>\n",
       "      <td>54.934962</td>\n",
       "      <td>61.667698</td>\n",
       "      <td>60.539642</td>\n",
       "      <td>68.363171</td>\n",
       "      <td>64.378517</td>\n",
       "      <td>219078.260870</td>\n",
       "    </tr>\n",
       "    <tr>\n",
       "      <th>std</th>\n",
       "      <td>113.016223</td>\n",
       "      <td>10.960426</td>\n",
       "      <td>11.417726</td>\n",
       "      <td>8.916152</td>\n",
       "      <td>0.667112</td>\n",
       "      <td>31.168264</td>\n",
       "      <td>5.854399</td>\n",
       "      <td>8.824084</td>\n",
       "      <td>7.145095</td>\n",
       "      <td>9.582834</td>\n",
       "      <td>138311.647036</td>\n",
       "    </tr>\n",
       "    <tr>\n",
       "      <th>min</th>\n",
       "      <td>1.000000</td>\n",
       "      <td>37.000000</td>\n",
       "      <td>40.000000</td>\n",
       "      <td>35.000000</td>\n",
       "      <td>0.000000</td>\n",
       "      <td>0.000000</td>\n",
       "      <td>50.830000</td>\n",
       "      <td>50.000000</td>\n",
       "      <td>50.000000</td>\n",
       "      <td>50.000000</td>\n",
       "      <td>0.000000</td>\n",
       "    </tr>\n",
       "    <tr>\n",
       "      <th>25%</th>\n",
       "      <td>98.500000</td>\n",
       "      <td>56.000000</td>\n",
       "      <td>54.000000</td>\n",
       "      <td>57.525000</td>\n",
       "      <td>0.000000</td>\n",
       "      <td>41.190000</td>\n",
       "      <td>57.195000</td>\n",
       "      <td>53.000000</td>\n",
       "      <td>64.000000</td>\n",
       "      <td>57.000000</td>\n",
       "      <td>172800.000000</td>\n",
       "    </tr>\n",
       "    <tr>\n",
       "      <th>50%</th>\n",
       "      <td>196.000000</td>\n",
       "      <td>64.500000</td>\n",
       "      <td>63.000000</td>\n",
       "      <td>63.000000</td>\n",
       "      <td>0.000000</td>\n",
       "      <td>62.000000</td>\n",
       "      <td>61.010000</td>\n",
       "      <td>58.000000</td>\n",
       "      <td>69.000000</td>\n",
       "      <td>63.000000</td>\n",
       "      <td>240000.000000</td>\n",
       "    </tr>\n",
       "    <tr>\n",
       "      <th>75%</th>\n",
       "      <td>293.500000</td>\n",
       "      <td>74.000000</td>\n",
       "      <td>72.000000</td>\n",
       "      <td>69.000000</td>\n",
       "      <td>1.000000</td>\n",
       "      <td>78.000000</td>\n",
       "      <td>66.020000</td>\n",
       "      <td>67.000000</td>\n",
       "      <td>74.000000</td>\n",
       "      <td>72.500000</td>\n",
       "      <td>300000.000000</td>\n",
       "    </tr>\n",
       "    <tr>\n",
       "      <th>max</th>\n",
       "      <td>391.000000</td>\n",
       "      <td>87.200000</td>\n",
       "      <td>94.700000</td>\n",
       "      <td>89.000000</td>\n",
       "      <td>3.000000</td>\n",
       "      <td>98.690000</td>\n",
       "      <td>77.890000</td>\n",
       "      <td>88.000000</td>\n",
       "      <td>87.000000</td>\n",
       "      <td>96.000000</td>\n",
       "      <td>940000.000000</td>\n",
       "    </tr>\n",
       "  </tbody>\n",
       "</table>\n",
       "</div>"
      ],
      "text/plain": [
       "             SlNo  Percent_SSC  Percent_HSC  Percent_Degree  Experience_Yrs  \\\n",
       "count  391.000000   391.000000   391.000000      391.000000      391.000000   \n",
       "mean   196.000000    64.652353    63.795294       62.983606        0.478261   \n",
       "std    113.016223    10.960426    11.417726        8.916152        0.667112   \n",
       "min      1.000000    37.000000    40.000000       35.000000        0.000000   \n",
       "25%     98.500000    56.000000    54.000000       57.525000        0.000000   \n",
       "50%    196.000000    64.500000    63.000000       63.000000        0.000000   \n",
       "75%    293.500000    74.000000    72.000000       69.000000        1.000000   \n",
       "max    391.000000    87.200000    94.700000       89.000000        3.000000   \n",
       "\n",
       "       Percentile_ET  Percent_MBA  Marks_Communication  Marks_Projectwork  \\\n",
       "count     391.000000   391.000000           391.000000         391.000000   \n",
       "mean       54.934962    61.667698            60.539642          68.363171   \n",
       "std        31.168264     5.854399             8.824084           7.145095   \n",
       "min         0.000000    50.830000            50.000000          50.000000   \n",
       "25%        41.190000    57.195000            53.000000          64.000000   \n",
       "50%        62.000000    61.010000            58.000000          69.000000   \n",
       "75%        78.000000    66.020000            67.000000          74.000000   \n",
       "max        98.690000    77.890000            88.000000          87.000000   \n",
       "\n",
       "       Marks_BOCA         Salary  \n",
       "count  391.000000     391.000000  \n",
       "mean    64.378517  219078.260870  \n",
       "std      9.582834  138311.647036  \n",
       "min     50.000000       0.000000  \n",
       "25%     57.000000  172800.000000  \n",
       "50%     63.000000  240000.000000  \n",
       "75%     72.500000  300000.000000  \n",
       "max     96.000000  940000.000000  "
      ]
     },
     "execution_count": 4,
     "metadata": {},
     "output_type": "execute_result"
    }
   ],
   "source": [
    "df.describe()"
   ]
  },
  {
   "cell_type": "code",
   "execution_count": 5,
   "metadata": {},
   "outputs": [
    {
     "name": "stdout",
     "output_type": "stream",
     "text": [
      "M    68.0\n",
      "F    32.0\n",
      "Name: Gender, dtype: float64\n",
      "Others    51.0\n",
      "CBSE      29.0\n",
      "ICSE      20.0\n",
      "Name: Board_SSC, dtype: float64\n",
      "Others    63.0\n",
      "CBSE      25.0\n",
      "ISC       12.0\n",
      "Name: Board_HSC, dtype: float64\n",
      "Commerce    57.0\n",
      "Science     39.0\n",
      "Arts         5.0\n",
      "Name: Stream_HSC, dtype: float64\n",
      "Management               42.0\n",
      "Commerce                 30.0\n",
      "Engineering               9.0\n",
      "Computer Applications     8.0\n",
      "Science                   6.0\n",
      "Arts                      3.0\n",
      "Others                    1.0\n",
      "Name: Course_Degree, dtype: float64\n",
      "MAT      68.0\n",
      "K-MAT     6.0\n",
      "CAT       6.0\n",
      "PGCET     2.0\n",
      "GCET      1.0\n",
      "G-MAT     0.0\n",
      "XAT       0.0\n",
      "G-SAT     0.0\n",
      "Name: Entrance_Test, dtype: float64\n",
      "Marketing & Finance    57.0\n",
      "Marketing & HR         40.0\n",
      "Marketing & IB          3.0\n",
      "Name: Specialization_MBA, dtype: float64\n",
      "Placed        80.0\n",
      "Not Placed    20.0\n",
      "Name: Placement, dtype: float64\n"
     ]
    }
   ],
   "source": [
    "# c) use a for loop to loop through column names\n",
    "# use value_counts function /len(df)  *100 to get percentage \n",
    "cat_cols = df.select_dtypes(object)\n",
    "for i in cat_cols:\n",
    "    print(round((df[i].value_counts()/len(df))*100))"
   ]
  },
  {
   "cell_type": "markdown",
   "metadata": {
    "colab_type": "text",
    "id": "SyZrTtxQ1NhE"
   },
   "source": [
    "### 3.\tCheck for defects in the data. Perform necessary actions to ‘fix’ these defects (5 Marks)\n",
    "\n",
    "Some pointers which would help you, but don’t be limited by these\n",
    "\n",
    "a.\tDo variables have missing/null values?\n",
    "\n",
    "b.\tDo variables have outliers?\n",
    "\n",
    "c.\tIs the data normally distributed? Is it a defect? Why or why not? \n"
   ]
  },
  {
   "cell_type": "code",
   "execution_count": 6,
   "metadata": {
    "colab": {},
    "colab_type": "code",
    "id": "Kpj4btzj1NhF"
   },
   "outputs": [
    {
     "data": {
      "text/plain": [
       "<AxesSubplot:>"
      ]
     },
     "execution_count": 6,
     "metadata": {},
     "output_type": "execute_result"
    },
    {
     "data": {
      "image/png": "[encoded data removed]",
      "text/plain": [
       "<Figure size 432x288 with 2 Axes>"
      ]
     },
     "metadata": {
      "needs_background": "light"
     },
     "output_type": "display_data"
    }
   ],
   "source": [
    "# a) isnull and sum \n",
    "sns.heatmap(df.isnull())\n",
    "# do percentage and then \n",
    "\n",
    "# alternatively you can also do heatmap of df.isnull()"
   ]
  },
  {
   "cell_type": "code",
   "execution_count": 7,
   "metadata": {},
   "outputs": [
    {
     "data": {
      "text/plain": [
       "array(['MAT', nan, 'K-MAT', 'CAT', 'PGCET', 'GCET', 'G-MAT', 'XAT',\n",
       "       'G-SAT'], dtype=object)"
      ]
     },
     "execution_count": 7,
     "metadata": {},
     "output_type": "execute_result"
    }
   ],
   "source": [
    "# only entrance test has nulls lets look at the categories to determine if its a defect\n",
    "df['Entrance_Test'].unique()"
   ]
  },
  {
   "cell_type": "code",
   "execution_count": 8,
   "metadata": {},
   "outputs": [],
   "source": [
    "# nan signifies no entrance test. lets impute it\n",
    "df['Entrance_Test'] = df['Entrance_Test'].fillna('None')"
   ]
  },
  {
   "cell_type": "code",
   "execution_count": 9,
   "metadata": {},
   "outputs": [
    {
     "data": {
      "text/plain": [
       "<AxesSubplot:>"
      ]
     },
     "execution_count": 9,
     "metadata": {},
     "output_type": "execute_result"
    },
    {
     "data": {
      "image/png": "[encoded data removed]",
      "text/plain": [
       "<Figure size 432x288 with 2 Axes>"
      ]
     },
     "metadata": {
      "needs_background": "light"
     },
     "output_type": "display_data"
    }
   ],
   "source": [
    "sns.heatmap(df.isnull())"
   ]
  },
  {
   "cell_type": "code",
   "execution_count": 10,
   "metadata": {},
   "outputs": [
    {
     "data": {
      "text/plain": [
       "SlNo                   0\n",
       "Gender                 0\n",
       "Percent_SSC            0\n",
       "Board_SSC              0\n",
       "Percent_HSC            0\n",
       "Board_HSC              0\n",
       "Stream_HSC             0\n",
       "Percent_Degree         0\n",
       "Course_Degree          0\n",
       "Experience_Yrs         0\n",
       "Entrance_Test          0\n",
       "Percentile_ET          0\n",
       "Percent_MBA            0\n",
       "Specialization_MBA     0\n",
       "Marks_Communication    0\n",
       "Marks_Projectwork      0\n",
       "Marks_BOCA             0\n",
       "Placement              0\n",
       "Salary                 0\n",
       "dtype: int64"
      ]
     },
     "execution_count": 10,
     "metadata": {},
     "output_type": "execute_result"
    }
   ],
   "source": [
    "df.isnull().sum()"
   ]
  },
  {
   "cell_type": "code",
   "execution_count": 11,
   "metadata": {},
   "outputs": [
    {
     "data": {
      "text/plain": [
       "Index(['SlNo', 'Percent_SSC', 'Percent_HSC', 'Percent_Degree',\n",
       "       'Experience_Yrs', 'Percentile_ET', 'Percent_MBA', 'Marks_Communication',\n",
       "       'Marks_Projectwork', 'Marks_BOCA', 'Salary'],\n",
       "      dtype='object')"
      ]
     },
     "execution_count": 11,
     "metadata": {},
     "output_type": "execute_result"
    }
   ],
   "source": [
    "df.select_dtypes(np.number).columns"
   ]
  },
  {
   "cell_type": "code",
   "execution_count": 12,
   "metadata": {},
   "outputs": [
    {
     "data": {
      "image/png": "[encoded data removed]",
      "text/plain": [
       "<Figure size 1080x720 with 11 Axes>"
      ]
     },
     "metadata": {
      "needs_background": "light"
     },
     "output_type": "display_data"
    }
   ],
   "source": [
    "# plot boxplots for all\n",
    "plt.figure(figsize=(15,10))\n",
    "numcols = df.select_dtypes(np.number).columns\n",
    "j=1\n",
    "for i in numcols:\n",
    "    plt.subplot(3,4,j)\n",
    "    sns.boxplot(x= df[i])\n",
    "    j+=1\n"
   ]
  },
  {
   "cell_type": "code",
   "execution_count": 13,
   "metadata": {},
   "outputs": [],
   "source": [
    "# do iqr method and filter the df\n",
    "q1 = df.quantile(0.25)\n",
    "q3 = df.quantile(0.75)\n",
    "iqr = q3-q1\n",
    "\n",
    "ll = q1-1.5*iqr\n",
    "ul = q3+1.5*iqr"
   ]
  },
  {
   "cell_type": "code",
   "execution_count": 14,
   "metadata": {
    "scrolled": true
   },
   "outputs": [
    {
     "name": "stderr",
     "output_type": "stream",
     "text": [
      "<ipython-input-14-4d61d55490d9>:1: FutureWarning: Automatic reindexing on DataFrame vs Series comparisons is deprecated and will raise ValueError in a future version.  Do `left, right = left.align(right, axis=1, copy=False)` before e.g. `left == right`\n",
      "  df = df[~((df<ll) | (df>ul)).any(axis=1)]\n",
      "<ipython-input-14-4d61d55490d9>:1: FutureWarning: Automatic reindexing on DataFrame vs Series comparisons is deprecated and will raise ValueError in a future version.  Do `left, right = left.align(right, axis=1, copy=False)` before e.g. `left == right`\n",
      "  df = df[~((df<ll) | (df>ul)).any(axis=1)]\n"
     ]
    }
   ],
   "source": [
    "df = df[~((df<ll) | (df>ul)).any(axis=1)]"
   ]
  },
  {
   "cell_type": "code",
   "execution_count": 15,
   "metadata": {},
   "outputs": [
    {
     "data": {
      "text/plain": [
       "<AxesSubplot:>"
      ]
     },
     "execution_count": 15,
     "metadata": {},
     "output_type": "execute_result"
    },
    {
     "data": {
      "image/png": "[encoded data removed]",
      "text/plain": [
       "<Figure size 432x288 with 2 Axes>"
      ]
     },
     "metadata": {
      "needs_background": "light"
     },
     "output_type": "display_data"
    }
   ],
   "source": [
    "sns.heatmap(df.isnull())"
   ]
  },
  {
   "cell_type": "code",
   "execution_count": null,
   "metadata": {},
   "outputs": [],
   "source": []
  },
  {
   "cell_type": "code",
   "execution_count": 16,
   "metadata": {},
   "outputs": [
    {
     "data": {
      "text/html": [
       "<div>\n",
       "<style scoped>\n",
       "    .dataframe tbody tr th:only-of-type {\n",
       "        vertical-align: middle;\n",
       "    }\n",
       "\n",
       "    .dataframe tbody tr th {\n",
       "        vertical-align: top;\n",
       "    }\n",
       "\n",
       "    .dataframe thead th {\n",
       "        text-align: right;\n",
       "    }\n",
       "</style>\n",
       "<table border=\"1\" class=\"dataframe\">\n",
       "  <thead>\n",
       "    <tr style=\"text-align: right;\">\n",
       "      <th></th>\n",
       "      <th>SlNo</th>\n",
       "      <th>Gender</th>\n",
       "      <th>Percent_SSC</th>\n",
       "      <th>Board_SSC</th>\n",
       "      <th>Percent_HSC</th>\n",
       "      <th>Board_HSC</th>\n",
       "      <th>Stream_HSC</th>\n",
       "      <th>Percent_Degree</th>\n",
       "      <th>Course_Degree</th>\n",
       "      <th>Experience_Yrs</th>\n",
       "      <th>Entrance_Test</th>\n",
       "      <th>Percentile_ET</th>\n",
       "      <th>Percent_MBA</th>\n",
       "      <th>Specialization_MBA</th>\n",
       "      <th>Marks_Communication</th>\n",
       "      <th>Marks_Projectwork</th>\n",
       "      <th>Marks_BOCA</th>\n",
       "      <th>Placement</th>\n",
       "      <th>Salary</th>\n",
       "    </tr>\n",
       "  </thead>\n",
       "  <tbody>\n",
       "    <tr>\n",
       "      <th>0</th>\n",
       "      <td>1</td>\n",
       "      <td>M</td>\n",
       "      <td>62.00</td>\n",
       "      <td>Others</td>\n",
       "      <td>88.00</td>\n",
       "      <td>Others</td>\n",
       "      <td>Commerce</td>\n",
       "      <td>52.00</td>\n",
       "      <td>Science</td>\n",
       "      <td>0</td>\n",
       "      <td>MAT</td>\n",
       "      <td>55.0</td>\n",
       "      <td>58.80</td>\n",
       "      <td>Marketing &amp; HR</td>\n",
       "      <td>50</td>\n",
       "      <td>65</td>\n",
       "      <td>74</td>\n",
       "      <td>Placed</td>\n",
       "      <td>270000</td>\n",
       "    </tr>\n",
       "    <tr>\n",
       "      <th>1</th>\n",
       "      <td>2</td>\n",
       "      <td>M</td>\n",
       "      <td>76.33</td>\n",
       "      <td>ICSE</td>\n",
       "      <td>75.33</td>\n",
       "      <td>Others</td>\n",
       "      <td>Science</td>\n",
       "      <td>75.48</td>\n",
       "      <td>Computer Applications</td>\n",
       "      <td>1</td>\n",
       "      <td>MAT</td>\n",
       "      <td>86.5</td>\n",
       "      <td>66.28</td>\n",
       "      <td>Marketing &amp; Finance</td>\n",
       "      <td>69</td>\n",
       "      <td>70</td>\n",
       "      <td>75</td>\n",
       "      <td>Placed</td>\n",
       "      <td>200000</td>\n",
       "    </tr>\n",
       "    <tr>\n",
       "      <th>2</th>\n",
       "      <td>3</td>\n",
       "      <td>M</td>\n",
       "      <td>72.00</td>\n",
       "      <td>Others</td>\n",
       "      <td>78.00</td>\n",
       "      <td>Others</td>\n",
       "      <td>Commerce</td>\n",
       "      <td>66.63</td>\n",
       "      <td>Engineering</td>\n",
       "      <td>0</td>\n",
       "      <td>None</td>\n",
       "      <td>0.0</td>\n",
       "      <td>52.91</td>\n",
       "      <td>Marketing &amp; Finance</td>\n",
       "      <td>50</td>\n",
       "      <td>61</td>\n",
       "      <td>59</td>\n",
       "      <td>Placed</td>\n",
       "      <td>240000</td>\n",
       "    </tr>\n",
       "    <tr>\n",
       "      <th>3</th>\n",
       "      <td>4</td>\n",
       "      <td>M</td>\n",
       "      <td>60.00</td>\n",
       "      <td>CBSE</td>\n",
       "      <td>63.00</td>\n",
       "      <td>CBSE</td>\n",
       "      <td>Arts</td>\n",
       "      <td>58.00</td>\n",
       "      <td>Management</td>\n",
       "      <td>0</td>\n",
       "      <td>MAT</td>\n",
       "      <td>75.0</td>\n",
       "      <td>57.80</td>\n",
       "      <td>Marketing &amp; Finance</td>\n",
       "      <td>54</td>\n",
       "      <td>66</td>\n",
       "      <td>62</td>\n",
       "      <td>Placed</td>\n",
       "      <td>250000</td>\n",
       "    </tr>\n",
       "    <tr>\n",
       "      <th>4</th>\n",
       "      <td>5</td>\n",
       "      <td>M</td>\n",
       "      <td>61.00</td>\n",
       "      <td>CBSE</td>\n",
       "      <td>55.00</td>\n",
       "      <td>ISC</td>\n",
       "      <td>Science</td>\n",
       "      <td>54.00</td>\n",
       "      <td>Engineering</td>\n",
       "      <td>1</td>\n",
       "      <td>MAT</td>\n",
       "      <td>66.0</td>\n",
       "      <td>59.43</td>\n",
       "      <td>Marketing &amp; HR</td>\n",
       "      <td>52</td>\n",
       "      <td>65</td>\n",
       "      <td>67</td>\n",
       "      <td>Placed</td>\n",
       "      <td>180000</td>\n",
       "    </tr>\n",
       "  </tbody>\n",
       "</table>\n",
       "</div>"
      ],
      "text/plain": [
       "   SlNo Gender  Percent_SSC Board_SSC  Percent_HSC Board_HSC Stream_HSC  \\\n",
       "0     1      M        62.00    Others        88.00    Others   Commerce   \n",
       "1     2      M        76.33      ICSE        75.33    Others    Science   \n",
       "2     3      M        72.00    Others        78.00    Others   Commerce   \n",
       "3     4      M        60.00      CBSE        63.00      CBSE       Arts   \n",
       "4     5      M        61.00      CBSE        55.00       ISC    Science   \n",
       "\n",
       "   Percent_Degree          Course_Degree  Experience_Yrs Entrance_Test  \\\n",
       "0           52.00                Science               0           MAT   \n",
       "1           75.48  Computer Applications               1           MAT   \n",
       "2           66.63            Engineering               0          None   \n",
       "3           58.00             Management               0           MAT   \n",
       "4           54.00            Engineering               1           MAT   \n",
       "\n",
       "   Percentile_ET  Percent_MBA   Specialization_MBA  Marks_Communication  \\\n",
       "0           55.0        58.80       Marketing & HR                   50   \n",
       "1           86.5        66.28  Marketing & Finance                   69   \n",
       "2            0.0        52.91  Marketing & Finance                   50   \n",
       "3           75.0        57.80  Marketing & Finance                   54   \n",
       "4           66.0        59.43       Marketing & HR                   52   \n",
       "\n",
       "   Marks_Projectwork  Marks_BOCA Placement  Salary  \n",
       "0                 65          74    Placed  270000  \n",
       "1                 70          75    Placed  200000  \n",
       "2                 61          59    Placed  240000  \n",
       "3                 66          62    Placed  250000  \n",
       "4                 65          67    Placed  180000  "
      ]
     },
     "execution_count": 16,
     "metadata": {},
     "output_type": "execute_result"
    }
   ],
   "source": [
    "df.head()"
   ]
  },
  {
   "cell_type": "code",
   "execution_count": 17,
   "metadata": {},
   "outputs": [
    {
     "data": {
      "image/png": "[encoded data removed]",
      "text/plain": [
       "<Figure size 1080x720 with 11 Axes>"
      ]
     },
     "metadata": {
      "needs_background": "light"
     },
     "output_type": "display_data"
    }
   ],
   "source": [
    "# do a histplot kdeplot or distplot for all numerical columns\n",
    "plt.figure(figsize=(15,10))\n",
    "numcols = df.select_dtypes(np.number).columns\n",
    "j=1\n",
    "for i in numcols:\n",
    "    plt.subplot(3,4,j)\n",
    "    sns.histplot(data = df, x=i)\n",
    "    j+=1"
   ]
  },
  {
   "cell_type": "markdown",
   "metadata": {
    "colab_type": "text",
    "id": "0rtqRxQC1NhM"
   },
   "source": [
    "### 4.\tSummarize relationships among variables (10 marks)  \n",
    "\n",
    "a.\tPlot correlation plots. Which are the variables most correlated with Target? Which independent variables are correlated among themselves? Do you want to exclude some variables from the model based on this analysis? What other actions will you take?\n",
    "\n",
    "b.\tPlot all independent variables with the target. Are all relationships linear? If not, what steps would you take based on this information?\n",
    "\n",
    " Hint: based on your observations you may want to transform features or create additional features.\n"
   ]
  },
  {
   "cell_type": "code",
   "execution_count": 18,
   "metadata": {
    "colab": {},
    "colab_type": "code",
    "id": "R18J1jhx1NhN"
   },
   "outputs": [],
   "source": [
    "# a) make a heatmap\n",
    "#  close to +1 then positive correlation \n",
    "# close to - 1 then negative \n",
    "# 0 then no correlation\n",
    "\n",
    "# wrtie a comment that you can exclude one of the variables if two variables are highly correlated (dont exclude yet)\n",
    "# say you will do vif to confirm and eliminate (dont do it yet)\n",
    "\n",
    "\n",
    "\n"
   ]
  },
  {
   "cell_type": "code",
   "execution_count": 19,
   "metadata": {},
   "outputs": [
    {
     "data": {
      "text/plain": [
       "<AxesSubplot:>"
      ]
     },
     "execution_count": 19,
     "metadata": {},
     "output_type": "execute_result"
    },
    {
     "data": {
      "image/png": "[encoded data removed]",
      "text/plain": [
       "<Figure size 720x720 with 2 Axes>"
      ]
     },
     "metadata": {
      "needs_background": "light"
     },
     "output_type": "display_data"
    }
   ],
   "source": [
    "plt.figure(figsize=(10,10))\n",
    "sns.heatmap(df.corr(), annot = True)"
   ]
  },
  {
   "cell_type": "code",
   "execution_count": 20,
   "metadata": {},
   "outputs": [],
   "source": [
    "# b) do scattter plots? if not linear i guess we dont include need to check tomorrow"
   ]
  },
  {
   "cell_type": "code",
   "execution_count": null,
   "metadata": {},
   "outputs": [],
   "source": []
  },
  {
   "cell_type": "markdown",
   "metadata": {
    "colab_type": "text",
    "id": "7Dsu-keY1NhS"
   },
   "source": [
    "### 5.\tSplit dataset into train and test (70:30) (5 marks)\n",
    "\n",
    "a.\tAre both train and test representative of the overall data? How would you ascertain this statistically?\n",
    "\n"
   ]
  },
  {
   "cell_type": "code",
   "execution_count": 21,
   "metadata": {},
   "outputs": [],
   "source": [
    "# # define your target\n",
    "# # define your features\n",
    "# df_target = df['Salary']\n",
    "# df_features = df.drop('Salary', axis = 1)\n",
    "\n",
    "# df_cat = df_features.select_dtypes(object)\n",
    "# df_num = df_features.select_dtypes(np.number)\n",
    "\n",
    "# # encode only categoric features\n",
    "# # le = LabelEncoder()\n",
    "# df_cat_encoded = pd.get_dummies(data = df_cat, drop_first=True)\n",
    "\n",
    "# # concat df_num and encoded and you get your X\n",
    "# X_unscaled = pd.concat([df_num, df_cat_encoded], axis = 1)\n",
    "\n",
    "# # scale the X\n",
    "# ss = StandardScaler()\n",
    "# X = pd.DataFrame(ss.fit_transform(X_unscaled), columns = df_num.columns)\n",
    "\n",
    "# # scale the target explicitly to get your y\n",
    "# y = (df_target - df_target.mean())/df_target.std()"
   ]
  },
  {
   "cell_type": "code",
   "execution_count": 44,
   "metadata": {},
   "outputs": [],
   "source": [
    "# keethana teps\n",
    "df_target = df['Salary']\n",
    "df_features = df.drop(['Salary','SlNo'], axis = 1)\n",
    "\n",
    "df_cat = df_features.select_dtypes(object)\n",
    "df_num = df_features.select_dtypes(np.number)\n",
    "\n",
    "df_cat_encoded = pd.get_dummies(data = df_cat, drop_first=True)\n",
    "ss = StandardScaler()\n",
    "df_num_scaled = pd.DataFrame(ss.fit_transform(df_num), columns = df_num.columns)\n",
    "\n",
    "df_num_scaled.reset_index(inplace=True, drop = True)\n",
    "df_cat_encoded.reset_index(inplace=True, drop = True)\n",
    "\n",
    "X = pd.concat([df_num_scaled, df_cat_encoded], axis = 1)\n",
    "y = ss.fit_transform(pd.DataFrame(df_target))\n",
    "\n",
    "# y = pd.DataFrame((df_target - df_target.mean())/df_target.std())"
   ]
  },
  {
   "cell_type": "code",
   "execution_count": 45,
   "metadata": {
    "scrolled": true
   },
   "outputs": [
    {
     "data": {
      "text/html": [
       "<div>\n",
       "<style scoped>\n",
       "    .dataframe tbody tr th:only-of-type {\n",
       "        vertical-align: middle;\n",
       "    }\n",
       "\n",
       "    .dataframe tbody tr th {\n",
       "        vertical-align: top;\n",
       "    }\n",
       "\n",
       "    .dataframe thead th {\n",
       "        text-align: right;\n",
       "    }\n",
       "</style>\n",
       "<table border=\"1\" class=\"dataframe\">\n",
       "  <thead>\n",
       "    <tr style=\"text-align: right;\">\n",
       "      <th></th>\n",
       "      <th>Percent_SSC</th>\n",
       "      <th>Percent_HSC</th>\n",
       "      <th>Percent_Degree</th>\n",
       "      <th>Experience_Yrs</th>\n",
       "      <th>Percentile_ET</th>\n",
       "      <th>Percent_MBA</th>\n",
       "      <th>Marks_Communication</th>\n",
       "      <th>Marks_Projectwork</th>\n",
       "      <th>Marks_BOCA</th>\n",
       "      <th>Gender_M</th>\n",
       "      <th>...</th>\n",
       "      <th>Entrance_Test_G-SAT</th>\n",
       "      <th>Entrance_Test_GCET</th>\n",
       "      <th>Entrance_Test_K-MAT</th>\n",
       "      <th>Entrance_Test_MAT</th>\n",
       "      <th>Entrance_Test_None</th>\n",
       "      <th>Entrance_Test_PGCET</th>\n",
       "      <th>Entrance_Test_XAT</th>\n",
       "      <th>Specialization_MBA_Marketing &amp; HR</th>\n",
       "      <th>Specialization_MBA_Marketing &amp; IB</th>\n",
       "      <th>Placement_Placed</th>\n",
       "    </tr>\n",
       "  </thead>\n",
       "  <tbody>\n",
       "    <tr>\n",
       "      <th>0</th>\n",
       "      <td>-0.253131</td>\n",
       "      <td>2.154746</td>\n",
       "      <td>-1.333401</td>\n",
       "      <td>-0.726105</td>\n",
       "      <td>0.005788</td>\n",
       "      <td>-0.461807</td>\n",
       "      <td>-1.189632</td>\n",
       "      <td>-0.450021</td>\n",
       "      <td>1.049790</td>\n",
       "      <td>1</td>\n",
       "      <td>...</td>\n",
       "      <td>0</td>\n",
       "      <td>0</td>\n",
       "      <td>0</td>\n",
       "      <td>1</td>\n",
       "      <td>0</td>\n",
       "      <td>0</td>\n",
       "      <td>0</td>\n",
       "      <td>1</td>\n",
       "      <td>0</td>\n",
       "      <td>1</td>\n",
       "    </tr>\n",
       "    <tr>\n",
       "      <th>1</th>\n",
       "      <td>1.069609</td>\n",
       "      <td>1.027356</td>\n",
       "      <td>1.520202</td>\n",
       "      <td>0.916486</td>\n",
       "      <td>1.019287</td>\n",
       "      <td>0.830640</td>\n",
       "      <td>1.013078</td>\n",
       "      <td>0.256828</td>\n",
       "      <td>1.155711</td>\n",
       "      <td>1</td>\n",
       "      <td>...</td>\n",
       "      <td>0</td>\n",
       "      <td>0</td>\n",
       "      <td>0</td>\n",
       "      <td>1</td>\n",
       "      <td>0</td>\n",
       "      <td>0</td>\n",
       "      <td>0</td>\n",
       "      <td>0</td>\n",
       "      <td>0</td>\n",
       "      <td>1</td>\n",
       "    </tr>\n",
       "    <tr>\n",
       "      <th>2</th>\n",
       "      <td>0.669925</td>\n",
       "      <td>1.264936</td>\n",
       "      <td>0.444632</td>\n",
       "      <td>-0.726105</td>\n",
       "      <td>-1.763814</td>\n",
       "      <td>-1.479523</td>\n",
       "      <td>-1.189632</td>\n",
       "      <td>-1.015500</td>\n",
       "      <td>-0.539027</td>\n",
       "      <td>1</td>\n",
       "      <td>...</td>\n",
       "      <td>0</td>\n",
       "      <td>0</td>\n",
       "      <td>0</td>\n",
       "      <td>0</td>\n",
       "      <td>1</td>\n",
       "      <td>0</td>\n",
       "      <td>0</td>\n",
       "      <td>0</td>\n",
       "      <td>0</td>\n",
       "      <td>1</td>\n",
       "    </tr>\n",
       "    <tr>\n",
       "      <th>3</th>\n",
       "      <td>-0.437743</td>\n",
       "      <td>-0.069779</td>\n",
       "      <td>-0.604201</td>\n",
       "      <td>-0.726105</td>\n",
       "      <td>0.649279</td>\n",
       "      <td>-0.634594</td>\n",
       "      <td>-0.725904</td>\n",
       "      <td>-0.308651</td>\n",
       "      <td>-0.221264</td>\n",
       "      <td>1</td>\n",
       "      <td>...</td>\n",
       "      <td>0</td>\n",
       "      <td>0</td>\n",
       "      <td>0</td>\n",
       "      <td>1</td>\n",
       "      <td>0</td>\n",
       "      <td>0</td>\n",
       "      <td>0</td>\n",
       "      <td>0</td>\n",
       "      <td>0</td>\n",
       "      <td>1</td>\n",
       "    </tr>\n",
       "    <tr>\n",
       "      <th>4</th>\n",
       "      <td>-0.345437</td>\n",
       "      <td>-0.781627</td>\n",
       "      <td>-1.090334</td>\n",
       "      <td>0.916486</td>\n",
       "      <td>0.359708</td>\n",
       "      <td>-0.352951</td>\n",
       "      <td>-0.957768</td>\n",
       "      <td>-0.450021</td>\n",
       "      <td>0.308342</td>\n",
       "      <td>1</td>\n",
       "      <td>...</td>\n",
       "      <td>0</td>\n",
       "      <td>0</td>\n",
       "      <td>0</td>\n",
       "      <td>1</td>\n",
       "      <td>0</td>\n",
       "      <td>0</td>\n",
       "      <td>0</td>\n",
       "      <td>1</td>\n",
       "      <td>0</td>\n",
       "      <td>1</td>\n",
       "    </tr>\n",
       "  </tbody>\n",
       "</table>\n",
       "<p>5 rows × 33 columns</p>\n",
       "</div>"
      ],
      "text/plain": [
       "   Percent_SSC  Percent_HSC  Percent_Degree  Experience_Yrs  Percentile_ET  \\\n",
       "0    -0.253131     2.154746       -1.333401       -0.726105       0.005788   \n",
       "1     1.069609     1.027356        1.520202        0.916486       1.019287   \n",
       "2     0.669925     1.264936        0.444632       -0.726105      -1.763814   \n",
       "3    -0.437743    -0.069779       -0.604201       -0.726105       0.649279   \n",
       "4    -0.345437    -0.781627       -1.090334        0.916486       0.359708   \n",
       "\n",
       "   Percent_MBA  Marks_Communication  Marks_Projectwork  Marks_BOCA  Gender_M  \\\n",
       "0    -0.461807            -1.189632          -0.450021    1.049790         1   \n",
       "1     0.830640             1.013078           0.256828    1.155711         1   \n",
       "2    -1.479523            -1.189632          -1.015500   -0.539027         1   \n",
       "3    -0.634594            -0.725904          -0.308651   -0.221264         1   \n",
       "4    -0.352951            -0.957768          -0.450021    0.308342         1   \n",
       "\n",
       "   ...  Entrance_Test_G-SAT  Entrance_Test_GCET  Entrance_Test_K-MAT  \\\n",
       "0  ...                    0                   0                    0   \n",
       "1  ...                    0                   0                    0   \n",
       "2  ...                    0                   0                    0   \n",
       "3  ...                    0                   0                    0   \n",
       "4  ...                    0                   0                    0   \n",
       "\n",
       "   Entrance_Test_MAT  Entrance_Test_None  Entrance_Test_PGCET  \\\n",
       "0                  1                   0                    0   \n",
       "1                  1                   0                    0   \n",
       "2                  0                   1                    0   \n",
       "3                  1                   0                    0   \n",
       "4                  1                   0                    0   \n",
       "\n",
       "   Entrance_Test_XAT  Specialization_MBA_Marketing & HR  \\\n",
       "0                  0                                  1   \n",
       "1                  0                                  0   \n",
       "2                  0                                  0   \n",
       "3                  0                                  0   \n",
       "4                  0                                  1   \n",
       "\n",
       "   Specialization_MBA_Marketing & IB  Placement_Placed  \n",
       "0                                  0                 1  \n",
       "1                                  0                 1  \n",
       "2                                  0                 1  \n",
       "3                                  0                 1  \n",
       "4                                  0                 1  \n",
       "\n",
       "[5 rows x 33 columns]"
      ]
     },
     "execution_count": 45,
     "metadata": {},
     "output_type": "execute_result"
    }
   ],
   "source": [
    "X.head()"
   ]
  },
  {
   "cell_type": "code",
   "execution_count": 47,
   "metadata": {
    "colab": {},
    "colab_type": "code",
    "id": "eW7ggh9t1NhT"
   },
   "outputs": [
    {
     "name": "stdout",
     "output_type": "stream",
     "text": [
      "(259, 33)\n",
      "(112, 33)\n",
      "(259, 1)\n",
      "(112, 1)\n"
     ]
    }
   ],
   "source": [
    "# train test split (use the full dataset without dropping any columns for multicolli and stuff we'll do those for model improvement)\n",
    "X_train, X_test, y_train, y_test = train_test_split(X,y, test_size=0.3, random_state=10)\n",
    "print(X_train.shape)\n",
    "print(X_test.shape)\n",
    "print(y_train.shape)\n",
    "print(y_test.shape)\n",
    "\n",
    "# 2sample independent ttest (idk i havent tried keerthana told me)\n",
    "# need to ask keerthana to help us with code snippet or steal from stats notebooks"
   ]
  },
  {
   "cell_type": "markdown",
   "metadata": {
    "colab_type": "text",
    "id": "aXFjts3E1NhX"
   },
   "source": [
    "### 6.\tFit a base model. Please write your key observations (15 marks) \n",
    "\n",
    "a.\tWhat is the overall R2? Please comment on whether it is good or not.\n",
    "\n",
    "b.\tWhat is the adjusted R2? Is it different from R2? Why?\n",
    "\n",
    "c.\tWhich variables are significant?\n",
    "\n",
    "d.\tIs there multicollinearity?\n",
    "\n",
    "e.\tWhich other key model output parameters do you want to look at? \n"
   ]
  },
  {
   "cell_type": "markdown",
   "metadata": {},
   "source": [
    "## BASE"
   ]
  },
  {
   "cell_type": "code",
   "execution_count": 48,
   "metadata": {},
   "outputs": [
    {
     "data": {
      "text/plain": [
       "Percent_SSC                            0\n",
       "Percent_HSC                            0\n",
       "Percent_Degree                         0\n",
       "Experience_Yrs                         0\n",
       "Percentile_ET                          0\n",
       "Percent_MBA                            0\n",
       "Marks_Communication                    0\n",
       "Marks_Projectwork                      0\n",
       "Marks_BOCA                             0\n",
       "Gender_M                               0\n",
       "Board_SSC_ICSE                         0\n",
       "Board_SSC_Others                       0\n",
       "Board_HSC_ISC                          0\n",
       "Board_HSC_Others                       0\n",
       "Stream_HSC_Commerce                    0\n",
       "Stream_HSC_Science                     0\n",
       "Course_Degree_Commerce                 0\n",
       "Course_Degree_Computer Applications    0\n",
       "Course_Degree_Engineering              0\n",
       "Course_Degree_Management               0\n",
       "Course_Degree_Others                   0\n",
       "Course_Degree_Science                  0\n",
       "Entrance_Test_G-MAT                    0\n",
       "Entrance_Test_G-SAT                    0\n",
       "Entrance_Test_GCET                     0\n",
       "Entrance_Test_K-MAT                    0\n",
       "Entrance_Test_MAT                      0\n",
       "Entrance_Test_None                     0\n",
       "Entrance_Test_PGCET                    0\n",
       "Entrance_Test_XAT                      0\n",
       "Specialization_MBA_Marketing & HR      0\n",
       "Specialization_MBA_Marketing & IB      0\n",
       "Placement_Placed                       0\n",
       "dtype: int64"
      ]
     },
     "execution_count": 48,
     "metadata": {},
     "output_type": "execute_result"
    }
   ],
   "source": [
    "X.isnull().sum()"
   ]
  },
  {
   "cell_type": "code",
   "execution_count": 49,
   "metadata": {
    "colab": {},
    "colab_type": "code",
    "id": "BIoxmmUw1NhZ"
   },
   "outputs": [
    {
     "data": {
      "text/html": [
       "<table class=\"simpletable\">\n",
       "<caption>OLS Regression Results</caption>\n",
       "<tr>\n",
       "  <th>Dep. Variable:</th>            <td>y</td>        <th>  R-squared:         </th> <td>   0.834</td>\n",
       "</tr>\n",
       "<tr>\n",
       "  <th>Model:</th>                   <td>OLS</td>       <th>  Adj. R-squared:    </th> <td>   0.810</td>\n",
       "</tr>\n",
       "<tr>\n",
       "  <th>Method:</th>             <td>Least Squares</td>  <th>  F-statistic:       </th> <td>   34.37</td>\n",
       "</tr>\n",
       "<tr>\n",
       "  <th>Date:</th>             <td>Sat, 05 Mar 2022</td> <th>  Prob (F-statistic):</th> <td>2.93e-70</td>\n",
       "</tr>\n",
       "<tr>\n",
       "  <th>Time:</th>                 <td>16:16:27</td>     <th>  Log-Likelihood:    </th> <td> -139.40</td>\n",
       "</tr>\n",
       "<tr>\n",
       "  <th>No. Observations:</th>      <td>   259</td>      <th>  AIC:               </th> <td>   346.8</td>\n",
       "</tr>\n",
       "<tr>\n",
       "  <th>Df Residuals:</th>          <td>   225</td>      <th>  BIC:               </th> <td>   467.7</td>\n",
       "</tr>\n",
       "<tr>\n",
       "  <th>Df Model:</th>              <td>    33</td>      <th>                     </th>     <td> </td>   \n",
       "</tr>\n",
       "<tr>\n",
       "  <th>Covariance Type:</th>      <td>nonrobust</td>    <th>                     </th>     <td> </td>   \n",
       "</tr>\n",
       "</table>\n",
       "<table class=\"simpletable\">\n",
       "<tr>\n",
       "                   <td></td>                      <th>coef</th>     <th>std err</th>      <th>t</th>      <th>P>|t|</th>  <th>[0.025</th>    <th>0.975]</th>  \n",
       "</tr>\n",
       "<tr>\n",
       "  <th>const</th>                               <td>   -1.4084</td> <td>    0.219</td> <td>   -6.418</td> <td> 0.000</td> <td>   -1.841</td> <td>   -0.976</td>\n",
       "</tr>\n",
       "<tr>\n",
       "  <th>Percent_SSC</th>                         <td>    0.0247</td> <td>    0.039</td> <td>    0.634</td> <td> 0.527</td> <td>   -0.052</td> <td>    0.102</td>\n",
       "</tr>\n",
       "<tr>\n",
       "  <th>Percent_HSC</th>                         <td>   -0.0073</td> <td>    0.038</td> <td>   -0.191</td> <td> 0.849</td> <td>   -0.082</td> <td>    0.068</td>\n",
       "</tr>\n",
       "<tr>\n",
       "  <th>Percent_Degree</th>                      <td>    0.0587</td> <td>    0.035</td> <td>    1.663</td> <td> 0.098</td> <td>   -0.011</td> <td>    0.128</td>\n",
       "</tr>\n",
       "<tr>\n",
       "  <th>Experience_Yrs</th>                      <td>    0.0374</td> <td>    0.032</td> <td>    1.172</td> <td> 0.242</td> <td>   -0.025</td> <td>    0.100</td>\n",
       "</tr>\n",
       "<tr>\n",
       "  <th>Percentile_ET</th>                       <td>    0.1710</td> <td>    0.061</td> <td>    2.825</td> <td> 0.005</td> <td>    0.052</td> <td>    0.290</td>\n",
       "</tr>\n",
       "<tr>\n",
       "  <th>Percent_MBA</th>                         <td>    0.0322</td> <td>    0.047</td> <td>    0.679</td> <td> 0.498</td> <td>   -0.061</td> <td>    0.126</td>\n",
       "</tr>\n",
       "<tr>\n",
       "  <th>Marks_Communication</th>                 <td>    0.0268</td> <td>    0.044</td> <td>    0.613</td> <td> 0.540</td> <td>   -0.059</td> <td>    0.113</td>\n",
       "</tr>\n",
       "<tr>\n",
       "  <th>Marks_Projectwork</th>                   <td>   -0.0113</td> <td>    0.034</td> <td>   -0.331</td> <td> 0.741</td> <td>   -0.078</td> <td>    0.056</td>\n",
       "</tr>\n",
       "<tr>\n",
       "  <th>Marks_BOCA</th>                          <td>   -0.0121</td> <td>    0.036</td> <td>   -0.341</td> <td> 0.733</td> <td>   -0.082</td> <td>    0.058</td>\n",
       "</tr>\n",
       "<tr>\n",
       "  <th>Gender_M</th>                            <td>    0.2049</td> <td>    0.069</td> <td>    2.974</td> <td> 0.003</td> <td>    0.069</td> <td>    0.341</td>\n",
       "</tr>\n",
       "<tr>\n",
       "  <th>Board_SSC_ICSE</th>                      <td>   -0.1933</td> <td>    0.118</td> <td>   -1.639</td> <td> 0.103</td> <td>   -0.426</td> <td>    0.039</td>\n",
       "</tr>\n",
       "<tr>\n",
       "  <th>Board_SSC_Others</th>                    <td>   -0.0869</td> <td>    0.098</td> <td>   -0.883</td> <td> 0.378</td> <td>   -0.281</td> <td>    0.107</td>\n",
       "</tr>\n",
       "<tr>\n",
       "  <th>Board_HSC_ISC</th>                       <td>    0.0435</td> <td>    0.137</td> <td>    0.319</td> <td> 0.750</td> <td>   -0.226</td> <td>    0.313</td>\n",
       "</tr>\n",
       "<tr>\n",
       "  <th>Board_HSC_Others</th>                    <td>    0.1016</td> <td>    0.099</td> <td>    1.030</td> <td> 0.304</td> <td>   -0.093</td> <td>    0.296</td>\n",
       "</tr>\n",
       "<tr>\n",
       "  <th>Stream_HSC_Commerce</th>                 <td>    0.1679</td> <td>    0.142</td> <td>    1.183</td> <td> 0.238</td> <td>   -0.112</td> <td>    0.447</td>\n",
       "</tr>\n",
       "<tr>\n",
       "  <th>Stream_HSC_Science</th>                  <td>    0.0250</td> <td>    0.156</td> <td>    0.161</td> <td> 0.872</td> <td>   -0.281</td> <td>    0.332</td>\n",
       "</tr>\n",
       "<tr>\n",
       "  <th>Course_Degree_Commerce</th>              <td>   -0.1486</td> <td>    0.189</td> <td>   -0.786</td> <td> 0.433</td> <td>   -0.521</td> <td>    0.224</td>\n",
       "</tr>\n",
       "<tr>\n",
       "  <th>Course_Degree_Computer Applications</th> <td>   -0.0603</td> <td>    0.203</td> <td>   -0.298</td> <td> 0.766</td> <td>   -0.459</td> <td>    0.339</td>\n",
       "</tr>\n",
       "<tr>\n",
       "  <th>Course_Degree_Engineering</th>           <td>   -0.0093</td> <td>    0.196</td> <td>   -0.048</td> <td> 0.962</td> <td>   -0.396</td> <td>    0.377</td>\n",
       "</tr>\n",
       "<tr>\n",
       "  <th>Course_Degree_Management</th>            <td>   -0.2788</td> <td>    0.179</td> <td>   -1.557</td> <td> 0.121</td> <td>   -0.632</td> <td>    0.074</td>\n",
       "</tr>\n",
       "<tr>\n",
       "  <th>Course_Degree_Others</th>                <td>   -0.2787</td> <td>    0.378</td> <td>   -0.737</td> <td> 0.462</td> <td>   -1.024</td> <td>    0.466</td>\n",
       "</tr>\n",
       "<tr>\n",
       "  <th>Course_Degree_Science</th>               <td>   -0.2324</td> <td>    0.221</td> <td>   -1.050</td> <td> 0.295</td> <td>   -0.668</td> <td>    0.204</td>\n",
       "</tr>\n",
       "<tr>\n",
       "  <th>Entrance_Test_G-MAT</th>                 <td>    0.2371</td> <td>    0.480</td> <td>    0.494</td> <td> 0.622</td> <td>   -0.709</td> <td>    1.184</td>\n",
       "</tr>\n",
       "<tr>\n",
       "  <th>Entrance_Test_G-SAT</th>                 <td>   -0.2603</td> <td>    0.492</td> <td>   -0.529</td> <td> 0.597</td> <td>   -1.229</td> <td>    0.709</td>\n",
       "</tr>\n",
       "<tr>\n",
       "  <th>Entrance_Test_GCET</th>                  <td>   -0.2314</td> <td>    0.359</td> <td>   -0.644</td> <td> 0.520</td> <td>   -0.939</td> <td>    0.476</td>\n",
       "</tr>\n",
       "<tr>\n",
       "  <th>Entrance_Test_K-MAT</th>                 <td>   -0.1297</td> <td>    0.165</td> <td>   -0.787</td> <td> 0.432</td> <td>   -0.455</td> <td>    0.195</td>\n",
       "</tr>\n",
       "<tr>\n",
       "  <th>Entrance_Test_MAT</th>                   <td>   -0.3900</td> <td>    0.124</td> <td>   -3.133</td> <td> 0.002</td> <td>   -0.635</td> <td>   -0.145</td>\n",
       "</tr>\n",
       "<tr>\n",
       "  <th>Entrance_Test_None</th>                  <td>    0.1058</td> <td>    0.171</td> <td>    0.618</td> <td> 0.537</td> <td>   -0.232</td> <td>    0.443</td>\n",
       "</tr>\n",
       "<tr>\n",
       "  <th>Entrance_Test_PGCET</th>                 <td>    0.0081</td> <td>    0.224</td> <td>    0.036</td> <td> 0.971</td> <td>   -0.434</td> <td>    0.450</td>\n",
       "</tr>\n",
       "<tr>\n",
       "  <th>Entrance_Test_XAT</th>                   <td>   -0.1209</td> <td>    0.470</td> <td>   -0.257</td> <td> 0.797</td> <td>   -1.048</td> <td>    0.806</td>\n",
       "</tr>\n",
       "<tr>\n",
       "  <th>Specialization_MBA_Marketing & HR</th>   <td>   -0.1026</td> <td>    0.066</td> <td>   -1.549</td> <td> 0.123</td> <td>   -0.233</td> <td>    0.028</td>\n",
       "</tr>\n",
       "<tr>\n",
       "  <th>Specialization_MBA_Marketing & IB</th>   <td>    0.0196</td> <td>    0.146</td> <td>    0.134</td> <td> 0.893</td> <td>   -0.269</td> <td>    0.308</td>\n",
       "</tr>\n",
       "<tr>\n",
       "  <th>Placement_Placed</th>                    <td>    2.0750</td> <td>    0.072</td> <td>   28.899</td> <td> 0.000</td> <td>    1.934</td> <td>    2.216</td>\n",
       "</tr>\n",
       "</table>\n",
       "<table class=\"simpletable\">\n",
       "<tr>\n",
       "  <th>Omnibus:</th>       <td>11.439</td> <th>  Durbin-Watson:     </th> <td>   2.126</td>\n",
       "</tr>\n",
       "<tr>\n",
       "  <th>Prob(Omnibus):</th> <td> 0.003</td> <th>  Jarque-Bera (JB):  </th> <td>  14.903</td>\n",
       "</tr>\n",
       "<tr>\n",
       "  <th>Skew:</th>          <td> 0.346</td> <th>  Prob(JB):          </th> <td>0.000580</td>\n",
       "</tr>\n",
       "<tr>\n",
       "  <th>Kurtosis:</th>      <td> 3.950</td> <th>  Cond. No.          </th> <td>    40.8</td>\n",
       "</tr>\n",
       "</table><br/><br/>Notes:<br/>[1] Standard Errors assume that the covariance matrix of the errors is correctly specified."
      ],
      "text/plain": [
       "<class 'statsmodels.iolib.summary.Summary'>\n",
       "\"\"\"\n",
       "                            OLS Regression Results                            \n",
       "==============================================================================\n",
       "Dep. Variable:                      y   R-squared:                       0.834\n",
       "Model:                            OLS   Adj. R-squared:                  0.810\n",
       "Method:                 Least Squares   F-statistic:                     34.37\n",
       "Date:                Sat, 05 Mar 2022   Prob (F-statistic):           2.93e-70\n",
       "Time:                        16:16:27   Log-Likelihood:                -139.40\n",
       "No. Observations:                 259   AIC:                             346.8\n",
       "Df Residuals:                     225   BIC:                             467.7\n",
       "Df Model:                          33                                         \n",
       "Covariance Type:            nonrobust                                         \n",
       "=======================================================================================================\n",
       "                                          coef    std err          t      P>|t|      [0.025      0.975]\n",
       "-------------------------------------------------------------------------------------------------------\n",
       "const                                  -1.4084      0.219     -6.418      0.000      -1.841      -0.976\n",
       "Percent_SSC                             0.0247      0.039      0.634      0.527      -0.052       0.102\n",
       "Percent_HSC                            -0.0073      0.038     -0.191      0.849      -0.082       0.068\n",
       "Percent_Degree                          0.0587      0.035      1.663      0.098      -0.011       0.128\n",
       "Experience_Yrs                          0.0374      0.032      1.172      0.242      -0.025       0.100\n",
       "Percentile_ET                           0.1710      0.061      2.825      0.005       0.052       0.290\n",
       "Percent_MBA                             0.0322      0.047      0.679      0.498      -0.061       0.126\n",
       "Marks_Communication                     0.0268      0.044      0.613      0.540      -0.059       0.113\n",
       "Marks_Projectwork                      -0.0113      0.034     -0.331      0.741      -0.078       0.056\n",
       "Marks_BOCA                             -0.0121      0.036     -0.341      0.733      -0.082       0.058\n",
       "Gender_M                                0.2049      0.069      2.974      0.003       0.069       0.341\n",
       "Board_SSC_ICSE                         -0.1933      0.118     -1.639      0.103      -0.426       0.039\n",
       "Board_SSC_Others                       -0.0869      0.098     -0.883      0.378      -0.281       0.107\n",
       "Board_HSC_ISC                           0.0435      0.137      0.319      0.750      -0.226       0.313\n",
       "Board_HSC_Others                        0.1016      0.099      1.030      0.304      -0.093       0.296\n",
       "Stream_HSC_Commerce                     0.1679      0.142      1.183      0.238      -0.112       0.447\n",
       "Stream_HSC_Science                      0.0250      0.156      0.161      0.872      -0.281       0.332\n",
       "Course_Degree_Commerce                 -0.1486      0.189     -0.786      0.433      -0.521       0.224\n",
       "Course_Degree_Computer Applications    -0.0603      0.203     -0.298      0.766      -0.459       0.339\n",
       "Course_Degree_Engineering              -0.0093      0.196     -0.048      0.962      -0.396       0.377\n",
       "Course_Degree_Management               -0.2788      0.179     -1.557      0.121      -0.632       0.074\n",
       "Course_Degree_Others                   -0.2787      0.378     -0.737      0.462      -1.024       0.466\n",
       "Course_Degree_Science                  -0.2324      0.221     -1.050      0.295      -0.668       0.204\n",
       "Entrance_Test_G-MAT                     0.2371      0.480      0.494      0.622      -0.709       1.184\n",
       "Entrance_Test_G-SAT                    -0.2603      0.492     -0.529      0.597      -1.229       0.709\n",
       "Entrance_Test_GCET                     -0.2314      0.359     -0.644      0.520      -0.939       0.476\n",
       "Entrance_Test_K-MAT                    -0.1297      0.165     -0.787      0.432      -0.455       0.195\n",
       "Entrance_Test_MAT                      -0.3900      0.124     -3.133      0.002      -0.635      -0.145\n",
       "Entrance_Test_None                      0.1058      0.171      0.618      0.537      -0.232       0.443\n",
       "Entrance_Test_PGCET                     0.0081      0.224      0.036      0.971      -0.434       0.450\n",
       "Entrance_Test_XAT                      -0.1209      0.470     -0.257      0.797      -1.048       0.806\n",
       "Specialization_MBA_Marketing & HR      -0.1026      0.066     -1.549      0.123      -0.233       0.028\n",
       "Specialization_MBA_Marketing & IB       0.0196      0.146      0.134      0.893      -0.269       0.308\n",
       "Placement_Placed                        2.0750      0.072     28.899      0.000       1.934       2.216\n",
       "==============================================================================\n",
       "Omnibus:                       11.439   Durbin-Watson:                   2.126\n",
       "Prob(Omnibus):                  0.003   Jarque-Bera (JB):               14.903\n",
       "Skew:                           0.346   Prob(JB):                     0.000580\n",
       "Kurtosis:                       3.950   Cond. No.                         40.8\n",
       "==============================================================================\n",
       "\n",
       "Notes:\n",
       "[1] Standard Errors assume that the covariance matrix of the errors is correctly specified.\n",
       "\"\"\""
      ]
     },
     "execution_count": 49,
     "metadata": {},
     "output_type": "execute_result"
    }
   ],
   "source": [
    "# add constant to your model if youre using OLS method (if using sklearn then skip)\n",
    "Xc_train = sm.add_constant(X_train)\n",
    "# ols method steps below\n",
    "# fit the model to ytrain and xtrain\n",
    "lr_full = sm.OLS(y_train,Xc_train).fit()\n",
    "\n",
    "# model.summary()\n",
    "lr_full.summary()"
   ]
  },
  {
   "cell_type": "code",
   "execution_count": 50,
   "metadata": {},
   "outputs": [],
   "source": [
    "# a and b) check summary\n",
    "# r2 should be high its a %\n",
    "#r2 = 0.835\n",
    "# adjusted r2 is penalizes your r2 if you add more noise (useless variables to your model) \n",
    "#adj r2 = 0.809\n",
    "# adj r2 drops with noise variables\n"
   ]
  },
  {
   "cell_type": "code",
   "execution_count": 51,
   "metadata": {},
   "outputs": [],
   "source": [
    "# c) check p values for each variable in summary\n",
    "# >0.05 means insignificant\n",
    "#lot of the variables are insignificant"
   ]
  },
  {
   "cell_type": "code",
   "execution_count": 52,
   "metadata": {},
   "outputs": [],
   "source": [
    "# d) check cond. no. for multicollinearity (should be low)\n",
    "# multicol is high\n",
    "\n",
    "# e) check durbin watson for autocorrelation\n",
    "# slightly positibe to no auto corr\n",
    "\n",
    "# f) check f statistic\n",
    "# Since the p-value is less than the significance level (0.05), \n",
    "# we can conclude that our regression model fits the data better than the intercept-only model."
   ]
  },
  {
   "cell_type": "code",
   "execution_count": 53,
   "metadata": {},
   "outputs": [],
   "source": [
    "Xc_test = sm.add_constant(X_test)"
   ]
  },
  {
   "cell_type": "code",
   "execution_count": 54,
   "metadata": {},
   "outputs": [],
   "source": [
    "y_train_pred = lr_full.predict(Xc_train)\n",
    "\n",
    "y_test_pred = lr_full.predict(Xc_test)"
   ]
  },
  {
   "cell_type": "code",
   "execution_count": 55,
   "metadata": {},
   "outputs": [],
   "source": [
    "rmse_train_full = np.sqrt(mean_squared_error(y_train,y_train_pred))\n",
    "rmse_test_full = np.sqrt(mean_squared_error(y_test,y_test_pred))\n",
    "r2_train_full = r2_score(y_train,y_train_pred)\n",
    "r2_test_full = r2_score(y_test,y_test_pred)"
   ]
  },
  {
   "cell_type": "code",
   "execution_count": 56,
   "metadata": {},
   "outputs": [
    {
     "name": "stdout",
     "output_type": "stream",
     "text": [
      "0.5294005234566338\n",
      "0.41449216727089194\n",
      "0.834470044733999\n",
      "0.6876520435030422\n"
     ]
    }
   ],
   "source": [
    "print(rmse_test_full)\n",
    "print(rmse_train_full)\n",
    "print(r2_train_full)\n",
    "print(r2_test_full)"
   ]
  },
  {
   "cell_type": "markdown",
   "metadata": {
    "colab_type": "text",
    "id": "s8MChr7L1Nhe"
   },
   "source": [
    "### 7.\tHow do you improve the accuracy of the model? Write clearly the changes that you will make before re-fitting the model. Fit the final model. (20 marks)\n",
    "Please feel free to have any number of iterations to get to the final answer. Marks are awarded based on the quality of final model you are able to achieve. \n"
   ]
  },
  {
   "cell_type": "markdown",
   "metadata": {},
   "source": [
    "## VIF"
   ]
  },
  {
   "cell_type": "code",
   "execution_count": 57,
   "metadata": {},
   "outputs": [],
   "source": [
    "df_numeric_features_vif = df_num"
   ]
  },
  {
   "cell_type": "code",
   "execution_count": 64,
   "metadata": {
    "colab": {},
    "colab_type": "code",
    "id": "OFs8JoPf1Nhf"
   },
   "outputs": [
    {
     "name": "stdout",
     "output_type": "stream",
     "text": [
      "   VIF_Factor        Features\n",
      "0    4.466169     Percent_HSC\n",
      "1    1.480865  Experience_Yrs\n",
      "2    4.044090   Percentile_ET\n"
     ]
    }
   ],
   "source": [
    "for ind in range(len(df_numeric_features_vif.columns)):\n",
    "    \n",
    "    vif = pd.DataFrame()\n",
    "\n",
    "    vif[\"VIF_Factor\"] = [variance_inflation_factor(df_numeric_features_vif.values, i) for i in range(df_numeric_features_vif.shape[1])]\n",
    "\n",
    "    vif[\"Features\"] = df_numeric_features_vif.columns\n",
    "    \n",
    "    multi = vif[vif['VIF_Factor'] > 10]\n",
    "    if(multi.empty == False):\n",
    "        df_sorted = multi.sort_values(by = 'VIF_Factor', ascending = False)\n",
    "    else:\n",
    "        print(vif)\n",
    "        break\n",
    "    \n",
    "    if (df_sorted.empty == False):\n",
    "        df_numeric_features_vif = df_numeric_features_vif.drop(df_sorted.Features.iloc[0], axis=1)\n",
    "    else:\n",
    "        print(vif)"
   ]
  },
  {
   "cell_type": "code",
   "execution_count": 65,
   "metadata": {},
   "outputs": [
    {
     "data": {
      "text/html": [
       "<div>\n",
       "<style scoped>\n",
       "    .dataframe tbody tr th:only-of-type {\n",
       "        vertical-align: middle;\n",
       "    }\n",
       "\n",
       "    .dataframe tbody tr th {\n",
       "        vertical-align: top;\n",
       "    }\n",
       "\n",
       "    .dataframe thead th {\n",
       "        text-align: right;\n",
       "    }\n",
       "</style>\n",
       "<table border=\"1\" class=\"dataframe\">\n",
       "  <thead>\n",
       "    <tr style=\"text-align: right;\">\n",
       "      <th></th>\n",
       "      <th>Percent_HSC</th>\n",
       "      <th>Experience_Yrs</th>\n",
       "      <th>Percentile_ET</th>\n",
       "    </tr>\n",
       "  </thead>\n",
       "  <tbody>\n",
       "    <tr>\n",
       "      <th>0</th>\n",
       "      <td>88.00</td>\n",
       "      <td>0</td>\n",
       "      <td>55.0</td>\n",
       "    </tr>\n",
       "    <tr>\n",
       "      <th>1</th>\n",
       "      <td>75.33</td>\n",
       "      <td>1</td>\n",
       "      <td>86.5</td>\n",
       "    </tr>\n",
       "    <tr>\n",
       "      <th>2</th>\n",
       "      <td>78.00</td>\n",
       "      <td>0</td>\n",
       "      <td>0.0</td>\n",
       "    </tr>\n",
       "    <tr>\n",
       "      <th>3</th>\n",
       "      <td>63.00</td>\n",
       "      <td>0</td>\n",
       "      <td>75.0</td>\n",
       "    </tr>\n",
       "    <tr>\n",
       "      <th>4</th>\n",
       "      <td>55.00</td>\n",
       "      <td>1</td>\n",
       "      <td>66.0</td>\n",
       "    </tr>\n",
       "  </tbody>\n",
       "</table>\n",
       "</div>"
      ],
      "text/plain": [
       "   Percent_HSC  Experience_Yrs  Percentile_ET\n",
       "0        88.00               0           55.0\n",
       "1        75.33               1           86.5\n",
       "2        78.00               0            0.0\n",
       "3        63.00               0           75.0\n",
       "4        55.00               1           66.0"
      ]
     },
     "execution_count": 65,
     "metadata": {},
     "output_type": "execute_result"
    }
   ],
   "source": [
    "df_numeric_features_vif.head()"
   ]
  },
  {
   "cell_type": "code",
   "execution_count": 66,
   "metadata": {},
   "outputs": [],
   "source": [
    "ss = StandardScaler()\n",
    "df_num_scaled_vif = pd.DataFrame(ss.fit_transform(df_numeric_features_vif), columns = df_numeric_features_vif.columns)\n",
    "\n",
    "df_num_scaled_vif.reset_index(inplace=True, drop = True)\n",
    "df_cat_encoded.reset_index(inplace=True, drop = True)\n",
    "\n",
    "X = pd.concat([df_num_scaled_vif, df_cat_encoded], axis = 1)\n",
    "y = ss.fit_transform(pd.DataFrame(df_target))"
   ]
  },
  {
   "cell_type": "code",
   "execution_count": 67,
   "metadata": {},
   "outputs": [
    {
     "name": "stdout",
     "output_type": "stream",
     "text": [
      "(259, 27)\n",
      "(112, 27)\n",
      "(259, 1)\n",
      "(112, 1)\n"
     ]
    }
   ],
   "source": [
    "X_train, X_test, y_train, y_test = train_test_split(X,y, test_size=0.3, random_state=10)\n",
    "print(X_train.shape)\n",
    "print(X_test.shape)\n",
    "print(y_train.shape)\n",
    "print(y_test.shape)"
   ]
  },
  {
   "cell_type": "code",
   "execution_count": 68,
   "metadata": {},
   "outputs": [
    {
     "data": {
      "text/html": [
       "<table class=\"simpletable\">\n",
       "<caption>OLS Regression Results</caption>\n",
       "<tr>\n",
       "  <th>Dep. Variable:</th>            <td>y</td>        <th>  R-squared:         </th> <td>   0.828</td>\n",
       "</tr>\n",
       "<tr>\n",
       "  <th>Model:</th>                   <td>OLS</td>       <th>  Adj. R-squared:    </th> <td>   0.808</td>\n",
       "</tr>\n",
       "<tr>\n",
       "  <th>Method:</th>             <td>Least Squares</td>  <th>  F-statistic:       </th> <td>   41.30</td>\n",
       "</tr>\n",
       "<tr>\n",
       "  <th>Date:</th>             <td>Sat, 05 Mar 2022</td> <th>  Prob (F-statistic):</th> <td>2.68e-73</td>\n",
       "</tr>\n",
       "<tr>\n",
       "  <th>Time:</th>                 <td>16:21:40</td>     <th>  Log-Likelihood:    </th> <td> -144.06</td>\n",
       "</tr>\n",
       "<tr>\n",
       "  <th>No. Observations:</th>      <td>   259</td>      <th>  AIC:               </th> <td>   344.1</td>\n",
       "</tr>\n",
       "<tr>\n",
       "  <th>Df Residuals:</th>          <td>   231</td>      <th>  BIC:               </th> <td>   443.7</td>\n",
       "</tr>\n",
       "<tr>\n",
       "  <th>Df Model:</th>              <td>    27</td>      <th>                     </th>     <td> </td>   \n",
       "</tr>\n",
       "<tr>\n",
       "  <th>Covariance Type:</th>      <td>nonrobust</td>    <th>                     </th>     <td> </td>   \n",
       "</tr>\n",
       "</table>\n",
       "<table class=\"simpletable\">\n",
       "<tr>\n",
       "                   <td></td>                      <th>coef</th>     <th>std err</th>      <th>t</th>      <th>P>|t|</th>  <th>[0.025</th>    <th>0.975]</th>  \n",
       "</tr>\n",
       "<tr>\n",
       "  <th>const</th>                               <td>   -1.4535</td> <td>    0.219</td> <td>   -6.641</td> <td> 0.000</td> <td>   -1.885</td> <td>   -1.022</td>\n",
       "</tr>\n",
       "<tr>\n",
       "  <th>Percent_HSC</th>                         <td>    0.0440</td> <td>    0.032</td> <td>    1.369</td> <td> 0.172</td> <td>   -0.019</td> <td>    0.107</td>\n",
       "</tr>\n",
       "<tr>\n",
       "  <th>Experience_Yrs</th>                      <td>    0.0426</td> <td>    0.031</td> <td>    1.381</td> <td> 0.168</td> <td>   -0.018</td> <td>    0.103</td>\n",
       "</tr>\n",
       "<tr>\n",
       "  <th>Percentile_ET</th>                       <td>    0.1977</td> <td>    0.059</td> <td>    3.379</td> <td> 0.001</td> <td>    0.082</td> <td>    0.313</td>\n",
       "</tr>\n",
       "<tr>\n",
       "  <th>Gender_M</th>                            <td>    0.1481</td> <td>    0.063</td> <td>    2.333</td> <td> 0.021</td> <td>    0.023</td> <td>    0.273</td>\n",
       "</tr>\n",
       "<tr>\n",
       "  <th>Board_SSC_ICSE</th>                      <td>   -0.1288</td> <td>    0.114</td> <td>   -1.126</td> <td> 0.261</td> <td>   -0.354</td> <td>    0.097</td>\n",
       "</tr>\n",
       "<tr>\n",
       "  <th>Board_SSC_Others</th>                    <td>   -0.0377</td> <td>    0.094</td> <td>   -0.401</td> <td> 0.689</td> <td>   -0.223</td> <td>    0.147</td>\n",
       "</tr>\n",
       "<tr>\n",
       "  <th>Board_HSC_ISC</th>                       <td>   -0.0007</td> <td>    0.132</td> <td>   -0.005</td> <td> 0.996</td> <td>   -0.260</td> <td>    0.259</td>\n",
       "</tr>\n",
       "<tr>\n",
       "  <th>Board_HSC_Others</th>                    <td>    0.0771</td> <td>    0.097</td> <td>    0.792</td> <td> 0.429</td> <td>   -0.115</td> <td>    0.269</td>\n",
       "</tr>\n",
       "<tr>\n",
       "  <th>Stream_HSC_Commerce</th>                 <td>    0.1855</td> <td>    0.140</td> <td>    1.328</td> <td> 0.185</td> <td>   -0.090</td> <td>    0.461</td>\n",
       "</tr>\n",
       "<tr>\n",
       "  <th>Stream_HSC_Science</th>                  <td>    0.1014</td> <td>    0.149</td> <td>    0.679</td> <td> 0.498</td> <td>   -0.193</td> <td>    0.396</td>\n",
       "</tr>\n",
       "<tr>\n",
       "  <th>Course_Degree_Commerce</th>              <td>   -0.0924</td> <td>    0.188</td> <td>   -0.492</td> <td> 0.623</td> <td>   -0.462</td> <td>    0.277</td>\n",
       "</tr>\n",
       "<tr>\n",
       "  <th>Course_Degree_Computer Applications</th> <td>    0.0408</td> <td>    0.197</td> <td>    0.207</td> <td> 0.837</td> <td>   -0.348</td> <td>    0.430</td>\n",
       "</tr>\n",
       "<tr>\n",
       "  <th>Course_Degree_Engineering</th>           <td>    0.0538</td> <td>    0.195</td> <td>    0.275</td> <td> 0.783</td> <td>   -0.331</td> <td>    0.438</td>\n",
       "</tr>\n",
       "<tr>\n",
       "  <th>Course_Degree_Management</th>            <td>   -0.1947</td> <td>    0.176</td> <td>   -1.104</td> <td> 0.271</td> <td>   -0.542</td> <td>    0.153</td>\n",
       "</tr>\n",
       "<tr>\n",
       "  <th>Course_Degree_Others</th>                <td>   -0.2011</td> <td>    0.372</td> <td>   -0.540</td> <td> 0.590</td> <td>   -0.935</td> <td>    0.532</td>\n",
       "</tr>\n",
       "<tr>\n",
       "  <th>Course_Degree_Science</th>               <td>   -0.1751</td> <td>    0.220</td> <td>   -0.797</td> <td> 0.426</td> <td>   -0.608</td> <td>    0.258</td>\n",
       "</tr>\n",
       "<tr>\n",
       "  <th>Entrance_Test_G-MAT</th>                 <td>    0.2180</td> <td>    0.476</td> <td>    0.458</td> <td> 0.648</td> <td>   -0.721</td> <td>    1.157</td>\n",
       "</tr>\n",
       "<tr>\n",
       "  <th>Entrance_Test_G-SAT</th>                 <td>   -0.3310</td> <td>    0.489</td> <td>   -0.677</td> <td> 0.499</td> <td>   -1.294</td> <td>    0.632</td>\n",
       "</tr>\n",
       "<tr>\n",
       "  <th>Entrance_Test_GCET</th>                  <td>   -0.4128</td> <td>    0.353</td> <td>   -1.170</td> <td> 0.243</td> <td>   -1.108</td> <td>    0.282</td>\n",
       "</tr>\n",
       "<tr>\n",
       "  <th>Entrance_Test_K-MAT</th>                 <td>   -0.1696</td> <td>    0.162</td> <td>   -1.045</td> <td> 0.297</td> <td>   -0.489</td> <td>    0.150</td>\n",
       "</tr>\n",
       "<tr>\n",
       "  <th>Entrance_Test_MAT</th>                   <td>   -0.4427</td> <td>    0.122</td> <td>   -3.616</td> <td> 0.000</td> <td>   -0.684</td> <td>   -0.202</td>\n",
       "</tr>\n",
       "<tr>\n",
       "  <th>Entrance_Test_None</th>                  <td>    0.0932</td> <td>    0.169</td> <td>    0.550</td> <td> 0.583</td> <td>   -0.241</td> <td>    0.427</td>\n",
       "</tr>\n",
       "<tr>\n",
       "  <th>Entrance_Test_PGCET</th>                 <td>    0.0007</td> <td>    0.223</td> <td>    0.003</td> <td> 0.998</td> <td>   -0.439</td> <td>    0.440</td>\n",
       "</tr>\n",
       "<tr>\n",
       "  <th>Entrance_Test_XAT</th>                   <td>   -0.1471</td> <td>    0.471</td> <td>   -0.312</td> <td> 0.755</td> <td>   -1.076</td> <td>    0.782</td>\n",
       "</tr>\n",
       "<tr>\n",
       "  <th>Specialization_MBA_Marketing & HR</th>   <td>   -0.1241</td> <td>    0.064</td> <td>   -1.936</td> <td> 0.054</td> <td>   -0.250</td> <td>    0.002</td>\n",
       "</tr>\n",
       "<tr>\n",
       "  <th>Specialization_MBA_Marketing & IB</th>   <td>   -0.0010</td> <td>    0.145</td> <td>   -0.007</td> <td> 0.994</td> <td>   -0.286</td> <td>    0.284</td>\n",
       "</tr>\n",
       "<tr>\n",
       "  <th>Placement_Placed</th>                    <td>    2.0807</td> <td>    0.070</td> <td>   29.812</td> <td> 0.000</td> <td>    1.943</td> <td>    2.218</td>\n",
       "</tr>\n",
       "</table>\n",
       "<table class=\"simpletable\">\n",
       "<tr>\n",
       "  <th>Omnibus:</th>       <td>13.401</td> <th>  Durbin-Watson:     </th> <td>   2.148</td>\n",
       "</tr>\n",
       "<tr>\n",
       "  <th>Prob(Omnibus):</th> <td> 0.001</td> <th>  Jarque-Bera (JB):  </th> <td>  17.820</td>\n",
       "</tr>\n",
       "<tr>\n",
       "  <th>Skew:</th>          <td> 0.391</td> <th>  Prob(JB):          </th> <td>0.000135</td>\n",
       "</tr>\n",
       "<tr>\n",
       "  <th>Kurtosis:</th>      <td> 4.020</td> <th>  Cond. No.          </th> <td>    40.0</td>\n",
       "</tr>\n",
       "</table><br/><br/>Notes:<br/>[1] Standard Errors assume that the covariance matrix of the errors is correctly specified."
      ],
      "text/plain": [
       "<class 'statsmodels.iolib.summary.Summary'>\n",
       "\"\"\"\n",
       "                            OLS Regression Results                            \n",
       "==============================================================================\n",
       "Dep. Variable:                      y   R-squared:                       0.828\n",
       "Model:                            OLS   Adj. R-squared:                  0.808\n",
       "Method:                 Least Squares   F-statistic:                     41.30\n",
       "Date:                Sat, 05 Mar 2022   Prob (F-statistic):           2.68e-73\n",
       "Time:                        16:21:40   Log-Likelihood:                -144.06\n",
       "No. Observations:                 259   AIC:                             344.1\n",
       "Df Residuals:                     231   BIC:                             443.7\n",
       "Df Model:                          27                                         \n",
       "Covariance Type:            nonrobust                                         \n",
       "=======================================================================================================\n",
       "                                          coef    std err          t      P>|t|      [0.025      0.975]\n",
       "-------------------------------------------------------------------------------------------------------\n",
       "const                                  -1.4535      0.219     -6.641      0.000      -1.885      -1.022\n",
       "Percent_HSC                             0.0440      0.032      1.369      0.172      -0.019       0.107\n",
       "Experience_Yrs                          0.0426      0.031      1.381      0.168      -0.018       0.103\n",
       "Percentile_ET                           0.1977      0.059      3.379      0.001       0.082       0.313\n",
       "Gender_M                                0.1481      0.063      2.333      0.021       0.023       0.273\n",
       "Board_SSC_ICSE                         -0.1288      0.114     -1.126      0.261      -0.354       0.097\n",
       "Board_SSC_Others                       -0.0377      0.094     -0.401      0.689      -0.223       0.147\n",
       "Board_HSC_ISC                          -0.0007      0.132     -0.005      0.996      -0.260       0.259\n",
       "Board_HSC_Others                        0.0771      0.097      0.792      0.429      -0.115       0.269\n",
       "Stream_HSC_Commerce                     0.1855      0.140      1.328      0.185      -0.090       0.461\n",
       "Stream_HSC_Science                      0.1014      0.149      0.679      0.498      -0.193       0.396\n",
       "Course_Degree_Commerce                 -0.0924      0.188     -0.492      0.623      -0.462       0.277\n",
       "Course_Degree_Computer Applications     0.0408      0.197      0.207      0.837      -0.348       0.430\n",
       "Course_Degree_Engineering               0.0538      0.195      0.275      0.783      -0.331       0.438\n",
       "Course_Degree_Management               -0.1947      0.176     -1.104      0.271      -0.542       0.153\n",
       "Course_Degree_Others                   -0.2011      0.372     -0.540      0.590      -0.935       0.532\n",
       "Course_Degree_Science                  -0.1751      0.220     -0.797      0.426      -0.608       0.258\n",
       "Entrance_Test_G-MAT                     0.2180      0.476      0.458      0.648      -0.721       1.157\n",
       "Entrance_Test_G-SAT                    -0.3310      0.489     -0.677      0.499      -1.294       0.632\n",
       "Entrance_Test_GCET                     -0.4128      0.353     -1.170      0.243      -1.108       0.282\n",
       "Entrance_Test_K-MAT                    -0.1696      0.162     -1.045      0.297      -0.489       0.150\n",
       "Entrance_Test_MAT                      -0.4427      0.122     -3.616      0.000      -0.684      -0.202\n",
       "Entrance_Test_None                      0.0932      0.169      0.550      0.583      -0.241       0.427\n",
       "Entrance_Test_PGCET                     0.0007      0.223      0.003      0.998      -0.439       0.440\n",
       "Entrance_Test_XAT                      -0.1471      0.471     -0.312      0.755      -1.076       0.782\n",
       "Specialization_MBA_Marketing & HR      -0.1241      0.064     -1.936      0.054      -0.250       0.002\n",
       "Specialization_MBA_Marketing & IB      -0.0010      0.145     -0.007      0.994      -0.286       0.284\n",
       "Placement_Placed                        2.0807      0.070     29.812      0.000       1.943       2.218\n",
       "==============================================================================\n",
       "Omnibus:                       13.401   Durbin-Watson:                   2.148\n",
       "Prob(Omnibus):                  0.001   Jarque-Bera (JB):               17.820\n",
       "Skew:                           0.391   Prob(JB):                     0.000135\n",
       "Kurtosis:                       4.020   Cond. No.                         40.0\n",
       "==============================================================================\n",
       "\n",
       "Notes:\n",
       "[1] Standard Errors assume that the covariance matrix of the errors is correctly specified.\n",
       "\"\"\""
      ]
     },
     "execution_count": 68,
     "metadata": {},
     "output_type": "execute_result"
    }
   ],
   "source": [
    "Xc_train = sm.add_constant(X_train)\n",
    "\n",
    "lr_full_vif = sm.OLS(y_train,Xc_train).fit()\n",
    "\n",
    "# model.summary()\n",
    "lr_full_vif.summary()"
   ]
  },
  {
   "cell_type": "code",
   "execution_count": 69,
   "metadata": {},
   "outputs": [],
   "source": [
    "Xc_test = sm.add_constant(X_test)"
   ]
  },
  {
   "cell_type": "code",
   "execution_count": 74,
   "metadata": {},
   "outputs": [],
   "source": [
    "y_train_pred = lr_full_vif.predict(Xc_train)\n",
    "\n",
    "y_test_pred = lr_full_vif.predict(Xc_test)"
   ]
  },
  {
   "cell_type": "code",
   "execution_count": 75,
   "metadata": {},
   "outputs": [],
   "source": [
    "rmse_train_vif = np.sqrt(mean_squared_error(y_train,y_train_pred))\n",
    "rmse_test_vif = np.sqrt(mean_squared_error(y_test,y_test_pred))\n",
    "r2_train_vif = r2_score(y_train,y_train_pred)\n",
    "r2_test_vif = r2_score(y_test,y_test_pred)"
   ]
  },
  {
   "cell_type": "code",
   "execution_count": 77,
   "metadata": {
    "scrolled": true
   },
   "outputs": [
    {
     "name": "stdout",
     "output_type": "stream",
     "text": [
      "0.5427881634388353\n",
      "0.42201685195966565\n",
      "0.8284054347624064\n",
      "0.6716547990394988\n"
     ]
    }
   ],
   "source": [
    "print(rmse_test_vif)\n",
    "print(rmse_train_vif)\n",
    "print(r2_train_vif)\n",
    "print(r2_test_vif)"
   ]
  },
  {
   "cell_type": "markdown",
   "metadata": {},
   "source": [
    "## SIGNI COL (0.05)"
   ]
  },
  {
   "cell_type": "code",
   "execution_count": 79,
   "metadata": {},
   "outputs": [],
   "source": [
    "signi_col = ['Percentile_ET', 'Gender_M','Entrance_Test_MAT', 'Placement_Placed', 'Specialization_MBA_Marketing & HR']\n",
    "X = X[signi_col]"
   ]
  },
  {
   "cell_type": "code",
   "execution_count": 80,
   "metadata": {},
   "outputs": [],
   "source": [
    "X_train = X_train[signi_col]\n",
    "X_test = X_test[signi_col]"
   ]
  },
  {
   "cell_type": "code",
   "execution_count": 81,
   "metadata": {},
   "outputs": [
    {
     "data": {
      "text/html": [
       "<table class=\"simpletable\">\n",
       "<caption>OLS Regression Results</caption>\n",
       "<tr>\n",
       "  <th>Dep. Variable:</th>            <td>y</td>        <th>  R-squared:         </th> <td>   0.811</td>\n",
       "</tr>\n",
       "<tr>\n",
       "  <th>Model:</th>                   <td>OLS</td>       <th>  Adj. R-squared:    </th> <td>   0.807</td>\n",
       "</tr>\n",
       "<tr>\n",
       "  <th>Method:</th>             <td>Least Squares</td>  <th>  F-statistic:       </th> <td>   216.6</td>\n",
       "</tr>\n",
       "<tr>\n",
       "  <th>Date:</th>             <td>Sat, 05 Mar 2022</td> <th>  Prob (F-statistic):</th> <td>3.08e-89</td>\n",
       "</tr>\n",
       "<tr>\n",
       "  <th>Time:</th>                 <td>16:33:19</td>     <th>  Log-Likelihood:    </th> <td> -156.85</td>\n",
       "</tr>\n",
       "<tr>\n",
       "  <th>No. Observations:</th>      <td>   259</td>      <th>  AIC:               </th> <td>   325.7</td>\n",
       "</tr>\n",
       "<tr>\n",
       "  <th>Df Residuals:</th>          <td>   253</td>      <th>  BIC:               </th> <td>   347.0</td>\n",
       "</tr>\n",
       "<tr>\n",
       "  <th>Df Model:</th>              <td>     5</td>      <th>                     </th>     <td> </td>   \n",
       "</tr>\n",
       "<tr>\n",
       "  <th>Covariance Type:</th>      <td>nonrobust</td>    <th>                     </th>     <td> </td>   \n",
       "</tr>\n",
       "</table>\n",
       "<table class=\"simpletable\">\n",
       "<tr>\n",
       "                  <td></td>                     <th>coef</th>     <th>std err</th>      <th>t</th>      <th>P>|t|</th>  <th>[0.025</th>    <th>0.975]</th>  \n",
       "</tr>\n",
       "<tr>\n",
       "  <th>const</th>                             <td>   -1.4579</td> <td>    0.090</td> <td>  -16.135</td> <td> 0.000</td> <td>   -1.636</td> <td>   -1.280</td>\n",
       "</tr>\n",
       "<tr>\n",
       "  <th>Percentile_ET</th>                     <td>    0.1468</td> <td>    0.035</td> <td>    4.177</td> <td> 0.000</td> <td>    0.078</td> <td>    0.216</td>\n",
       "</tr>\n",
       "<tr>\n",
       "  <th>Gender_M</th>                          <td>    0.1508</td> <td>    0.061</td> <td>    2.463</td> <td> 0.014</td> <td>    0.030</td> <td>    0.271</td>\n",
       "</tr>\n",
       "<tr>\n",
       "  <th>Entrance_Test_MAT</th>                 <td>   -0.3789</td> <td>    0.075</td> <td>   -5.055</td> <td> 0.000</td> <td>   -0.526</td> <td>   -0.231</td>\n",
       "</tr>\n",
       "<tr>\n",
       "  <th>Placement_Placed</th>                  <td>    2.0919</td> <td>    0.067</td> <td>   31.311</td> <td> 0.000</td> <td>    1.960</td> <td>    2.223</td>\n",
       "</tr>\n",
       "<tr>\n",
       "  <th>Specialization_MBA_Marketing & HR</th> <td>   -0.1421</td> <td>    0.058</td> <td>   -2.446</td> <td> 0.015</td> <td>   -0.257</td> <td>   -0.028</td>\n",
       "</tr>\n",
       "</table>\n",
       "<table class=\"simpletable\">\n",
       "<tr>\n",
       "  <th>Omnibus:</th>       <td>17.866</td> <th>  Durbin-Watson:     </th> <td>   2.182</td>\n",
       "</tr>\n",
       "<tr>\n",
       "  <th>Prob(Omnibus):</th> <td> 0.000</td> <th>  Jarque-Bera (JB):  </th> <td>  24.090</td>\n",
       "</tr>\n",
       "<tr>\n",
       "  <th>Skew:</th>          <td> 0.496</td> <th>  Prob(JB):          </th> <td>5.87e-06</td>\n",
       "</tr>\n",
       "<tr>\n",
       "  <th>Kurtosis:</th>      <td> 4.117</td> <th>  Cond. No.          </th> <td>    6.83</td>\n",
       "</tr>\n",
       "</table><br/><br/>Notes:<br/>[1] Standard Errors assume that the covariance matrix of the errors is correctly specified."
      ],
      "text/plain": [
       "<class 'statsmodels.iolib.summary.Summary'>\n",
       "\"\"\"\n",
       "                            OLS Regression Results                            \n",
       "==============================================================================\n",
       "Dep. Variable:                      y   R-squared:                       0.811\n",
       "Model:                            OLS   Adj. R-squared:                  0.807\n",
       "Method:                 Least Squares   F-statistic:                     216.6\n",
       "Date:                Sat, 05 Mar 2022   Prob (F-statistic):           3.08e-89\n",
       "Time:                        16:33:19   Log-Likelihood:                -156.85\n",
       "No. Observations:                 259   AIC:                             325.7\n",
       "Df Residuals:                     253   BIC:                             347.0\n",
       "Df Model:                           5                                         \n",
       "Covariance Type:            nonrobust                                         \n",
       "=====================================================================================================\n",
       "                                        coef    std err          t      P>|t|      [0.025      0.975]\n",
       "-----------------------------------------------------------------------------------------------------\n",
       "const                                -1.4579      0.090    -16.135      0.000      -1.636      -1.280\n",
       "Percentile_ET                         0.1468      0.035      4.177      0.000       0.078       0.216\n",
       "Gender_M                              0.1508      0.061      2.463      0.014       0.030       0.271\n",
       "Entrance_Test_MAT                    -0.3789      0.075     -5.055      0.000      -0.526      -0.231\n",
       "Placement_Placed                      2.0919      0.067     31.311      0.000       1.960       2.223\n",
       "Specialization_MBA_Marketing & HR    -0.1421      0.058     -2.446      0.015      -0.257      -0.028\n",
       "==============================================================================\n",
       "Omnibus:                       17.866   Durbin-Watson:                   2.182\n",
       "Prob(Omnibus):                  0.000   Jarque-Bera (JB):               24.090\n",
       "Skew:                           0.496   Prob(JB):                     5.87e-06\n",
       "Kurtosis:                       4.117   Cond. No.                         6.83\n",
       "==============================================================================\n",
       "\n",
       "Notes:\n",
       "[1] Standard Errors assume that the covariance matrix of the errors is correctly specified.\n",
       "\"\"\""
      ]
     },
     "execution_count": 81,
     "metadata": {},
     "output_type": "execute_result"
    }
   ],
   "source": [
    "Xc_train = sm.add_constant(X_train)\n",
    "\n",
    "lr_signi_var = sm.OLS(y_train,Xc_train).fit()\n",
    "\n",
    "# model.summary()\n",
    "lr_signi_var.summary()"
   ]
  },
  {
   "cell_type": "code",
   "execution_count": 82,
   "metadata": {},
   "outputs": [],
   "source": [
    "Xc_test = sm.add_constant(X_test)"
   ]
  },
  {
   "cell_type": "code",
   "execution_count": 83,
   "metadata": {},
   "outputs": [],
   "source": [
    "y_train_pred = lr_signi_var.predict(Xc_train)\n",
    "\n",
    "y_test_pred = lr_signi_var.predict(Xc_test)"
   ]
  },
  {
   "cell_type": "code",
   "execution_count": 84,
   "metadata": {},
   "outputs": [],
   "source": [
    "rmse_train_signi_var = np.sqrt(mean_squared_error(y_train,y_train_pred))\n",
    "rmse_test_signi_var = np.sqrt(mean_squared_error(y_test,y_test_pred))\n",
    "r2_train_signi_var = r2_score(y_train,y_train_pred)\n",
    "r2_test_signi_var = r2_score(y_test,y_test_pred)"
   ]
  },
  {
   "cell_type": "code",
   "execution_count": 85,
   "metadata": {},
   "outputs": [
    {
     "name": "stdout",
     "output_type": "stream",
     "text": [
      "0.5216887684037232\n",
      "0.4433721284117573\n",
      "0.8105996753803252\n",
      "0.6966856834006894\n"
     ]
    }
   ],
   "source": [
    "print(rmse_test_signi_var)\n",
    "print(rmse_train_signi_var)\n",
    "print(r2_train_signi_var)\n",
    "print(r2_test_signi_var)"
   ]
  },
  {
   "cell_type": "markdown",
   "metadata": {},
   "source": [
    "## RIDGE"
   ]
  },
  {
   "cell_type": "code",
   "execution_count": 90,
   "metadata": {},
   "outputs": [],
   "source": [
    "from sklearn.linear_model import Ridge"
   ]
  },
  {
   "cell_type": "code",
   "execution_count": 92,
   "metadata": {},
   "outputs": [
    {
     "name": "stdout",
     "output_type": "stream",
     "text": [
      "RMSE on test set: 0.5218\n"
     ]
    }
   ],
   "source": [
    "ridge = Ridge(alpha = 1, max_iter = 500)\n",
    "\n",
    "ridge.fit(X_train, y_train)\n",
    "\n",
    "y_test_pred = ridge.predict(X_test)\n",
    "\n",
    "mse_test = mean_squared_error(y_test, y_test_pred)\n",
    "\n",
    "rmse_test = round(np.sqrt(mse_test), 4)\n",
    "\n",
    "print('RMSE on test set:', rmse_test)"
   ]
  },
  {
   "cell_type": "code",
   "execution_count": 96,
   "metadata": {},
   "outputs": [
    {
     "name": "stdout",
     "output_type": "stream",
     "text": [
      "Best parameters for Ridge Regression:  {'alpha': 0.1} \n",
      "\n",
      "RMSE on test set: 0.5217\n"
     ]
    }
   ],
   "source": [
    "tuned_paramaters = [{'alpha':[1e-15, 1e-10, 1e-8, 1e-4,1e-3, 1e-2, 0.1, 1, 5, 10, 20, 40, 60, 80, 100]}]\n",
    "\n",
    "ridge = Ridge()\n",
    "\n",
    "ridge_grid = GridSearchCV(estimator = ridge, param_grid = tuned_paramaters, \n",
    "                          cv = 10)\n",
    "\n",
    "ridge_grid.fit(X_train, y_train)\n",
    "\n",
    "print('Best parameters for Ridge Regression: ', ridge_grid.best_params_, '\\n')\n",
    "\n",
    "y_test_pred = ridge_grid.predict(X_test)\n",
    "\n",
    "mse_test = mean_squared_error(y_test, y_test_pred)\n",
    "\n",
    "rmse_test = round(np.sqrt(mse_test), 4)\n",
    "\n",
    "print('RMSE on test set:', rmse_test)"
   ]
  },
  {
   "cell_type": "markdown",
   "metadata": {
    "colab_type": "text",
    "id": "zwKKeBFq1Nhj"
   },
   "source": [
    "### 8.\tSummarize as follows (10 marks) \n",
    "\n",
    "1.\tSummarize the overall fit of the model and list down the measures to prove that it is a good model\n",
    "2.\tWrite down a business interpretation/explanation of the model – which variables are affecting the target the most and explain the relationship. Feel free to use charts or graphs to explain.\n",
    "3.\tWhat changes from the base model had the most affect on model performance\n",
    "4.\tWhat are the key risks to your results and interpretation\n"
   ]
  },
  {
   "cell_type": "code",
   "execution_count": 62,
   "metadata": {
    "colab": {},
    "colab_type": "code",
    "id": "g8mARUHN1Nhk"
   },
   "outputs": [],
   "source": [
    "# check post model assumptions\n",
    "# residuals should be linear (plot scatter plots)\n",
    "# no autocorrelation (check durbin watson in summary)\n",
    "# homoscedasticty (breusch pagan test (take picture of this)\n",
    "# normality of residuals (qqplot or shapiro if dataset is <5000)\n"
   ]
  },
  {
   "cell_type": "code",
   "execution_count": null,
   "metadata": {},
   "outputs": [],
   "source": [
    "from scipy.stats import shapiro\n",
    "\n",
    "shapiro(data)\n",
    "\n",
    "ShapiroResult(statistic=0.9926937818527222, pvalue=0.8689165711402893)"
   ]
  }
 ],
 "metadata": {
  "colab": {
   "name": "SLR_70_MARKS_SET_4_PAPER.ipynb",
   "provenance": []
  },
  "hide_input": false,
  "kernelspec": {
   "display_name": "Python 3",
   "language": "python",
   "name": "python3"
  },
  "language_info": {
   "codemirror_mode": {
    "name": "ipython",
    "version": 3
   },
   "file_extension": ".py",
   "mimetype": "text/x-python",
   "name": "python",
   "nbconvert_exporter": "python",
   "pygments_lexer": "ipython3",
   "version": "3.8.8"
  },
  "toc": {
   "base_numbering": 1,
   "nav_menu": {},
   "number_sections": true,
   "sideBar": true,
   "skip_h1_title": false,
   "title_cell": "Table of Contents",
   "title_sidebar": "Contents",
   "toc_cell": false,
   "toc_position": {},
   "toc_section_display": true,
   "toc_window_display": false
  },
  "varInspector": {
   "cols": {
    "lenName": 16,
    "lenType": 16,
    "lenVar": 40
   },
   "kernels_config": {
    "python": {
     "delete_cmd_postfix": "",
     "delete_cmd_prefix": "del ",
     "library": "var_list.py",
     "varRefreshCmd": "print(var_dic_list())"
    },
    "r": {
     "delete_cmd_postfix": ") ",
     "delete_cmd_prefix": "rm(",
     "library": "var_list.r",
     "varRefreshCmd": "cat(var_dic_list()) "
    }
   },
   "types_to_exclude": [
    "module",
    "function",
    "builtin_function_or_method",
    "instance",
    "_Feature"
   ],
   "window_display": false
  }
 },
 "nbformat": 4,
 "nbformat_minor": 1
}
