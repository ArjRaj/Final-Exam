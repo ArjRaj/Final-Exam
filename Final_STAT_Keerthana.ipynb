{
 "cells": [
  {
   "cell_type": "markdown",
   "metadata": {
    "colab_type": "text",
    "id": "JwGL6yKJJ5jk"
   },
   "source": [
    "# STATISTICS FINAL EXAM"
   ]
  },
  {
   "cell_type": "markdown",
   "metadata": {
    "colab_type": "text",
    "id": "PHu2_qfuJ5jm"
   },
   "source": [
    "**TOTAL MARKS:70**                                              \t                                     \n",
    "\n",
    "**DURATION: 3 HOURS**"
   ]
  },
  {
   "cell_type": "markdown",
   "metadata": {
    "colab_type": "text",
    "id": "uZUSpXDJJ5jo"
   },
   "source": [
    "### Three datasets are combined in a single CSV file. \n",
    "\n",
    "### Description of the datasets: \n",
    "\n",
    "\n",
    "#### Online_Streaming:\n",
    "Online_Streaming contains information about \n",
    "\n",
    "    #### Age\n",
    "    #### Preference\n",
    "\n",
    "\n",
    "\n",
    "#### Admission dataset :     \n",
    "The data set consists of complete educational details of students right from their schooling to MBA and previous work experience.\n",
    "\n",
    "    #### SlNo \n",
    "    #### Gender\n",
    "    #### Percent_SSC    \n",
    "    #### Board_SSC   \n",
    "    #### Percent_HSC   \n",
    "    #### Board_HSC    \n",
    "    #### Stream_HSC   \n",
    "    #### Percent_Degree   \n",
    "    #### Course_Degree   \n",
    "    #### Experience_Yrs    \n",
    "    #### Entrance_Test    \n",
    "    #### Percentile_ET    \n",
    "    #### Percent_MBA    \n",
    "    #### Specialization_MBA    \n",
    "    #### Marks_Communication    \n",
    "    #### Marks_Projectwork    \n",
    "    #### Marks_BOCA    \n",
    "    #### Placement    \n",
    "    #### Salary\n",
    "\n",
    "    \n",
    "#### Outlet Sales :\n",
    "Outlet Sales' contains information about,\n",
    "\n",
    "    #### Item_Identifier\n",
    "    #### Item_Weight\n",
    "    #### Item_Fat_Content\n",
    "    #### Item_Visibility\n",
    "    #### Item_Type\n",
    "    #### Item_MRP\n",
    "    #### Outlet_Identifier\n",
    "    #### Outlet_Establishment_Year\n",
    "    #### Outlet_Size\n",
    "    #### Outlet_Location_Type\n",
    "    #### Outlet_Type\n",
    "    #### Item_Outlet_Sales\n"
   ]
  },
  {
   "cell_type": "markdown",
   "metadata": {},
   "source": [
    "## Kindly change the below cells from markdown to code and execute it "
   ]
  },
  {
   "cell_type": "code",
   "execution_count": 1,
   "metadata": {},
   "outputs": [],
   "source": [
    "import numpy as np\n",
    "import scipy.stats as stats"
   ]
  },
  {
   "cell_type": "code",
   "execution_count": 2,
   "metadata": {
    "colab": {},
    "colab_type": "code",
    "id": "kbEjlC3RJ5jq",
    "outputId": "4e92bc0a-2b6c-423e-909b-029d685e7755"
   },
   "outputs": [
    {
     "data": {
      "text/html": [
       "<div>\n",
       "<style scoped>\n",
       "    .dataframe tbody tr th:only-of-type {\n",
       "        vertical-align: middle;\n",
       "    }\n",
       "\n",
       "    .dataframe tbody tr th {\n",
       "        vertical-align: top;\n",
       "    }\n",
       "\n",
       "    .dataframe thead th {\n",
       "        text-align: right;\n",
       "    }\n",
       "</style>\n",
       "<table border=\"1\" class=\"dataframe\">\n",
       "  <thead>\n",
       "    <tr style=\"text-align: right;\">\n",
       "      <th></th>\n",
       "      <th>Age</th>\n",
       "      <th>Preference</th>\n",
       "      <th>SlNo</th>\n",
       "      <th>Gender</th>\n",
       "      <th>Percent_SSC</th>\n",
       "      <th>Board_SSC</th>\n",
       "      <th>Percent_HSC</th>\n",
       "      <th>Board_HSC</th>\n",
       "      <th>Stream_HSC</th>\n",
       "      <th>Percent_Degree</th>\n",
       "      <th>...</th>\n",
       "      <th>Item_Fat_Content</th>\n",
       "      <th>Item_Visibility</th>\n",
       "      <th>Item_Type</th>\n",
       "      <th>Item_MRP</th>\n",
       "      <th>Outlet_Identifier</th>\n",
       "      <th>Outlet_Establishment_Year</th>\n",
       "      <th>Outlet_Size</th>\n",
       "      <th>Outlet_Location_Type</th>\n",
       "      <th>Outlet_Type</th>\n",
       "      <th>Item_Outlet_Sales</th>\n",
       "    </tr>\n",
       "  </thead>\n",
       "  <tbody>\n",
       "    <tr>\n",
       "      <th>0</th>\n",
       "      <td>Teen</td>\n",
       "      <td>Yes</td>\n",
       "      <td>1.0</td>\n",
       "      <td>M</td>\n",
       "      <td>62.00</td>\n",
       "      <td>Others</td>\n",
       "      <td>88.00</td>\n",
       "      <td>Others</td>\n",
       "      <td>Commerce</td>\n",
       "      <td>52.00</td>\n",
       "      <td>...</td>\n",
       "      <td>Low Fat</td>\n",
       "      <td>0.016047</td>\n",
       "      <td>Dairy</td>\n",
       "      <td>249.8092</td>\n",
       "      <td>OUT049</td>\n",
       "      <td>1999</td>\n",
       "      <td>Medium</td>\n",
       "      <td>Tier 1</td>\n",
       "      <td>Supermarket Type1</td>\n",
       "      <td>3735.1380</td>\n",
       "    </tr>\n",
       "    <tr>\n",
       "      <th>1</th>\n",
       "      <td>Teen</td>\n",
       "      <td>Yes</td>\n",
       "      <td>2.0</td>\n",
       "      <td>M</td>\n",
       "      <td>76.33</td>\n",
       "      <td>ICSE</td>\n",
       "      <td>75.33</td>\n",
       "      <td>Others</td>\n",
       "      <td>Science</td>\n",
       "      <td>75.48</td>\n",
       "      <td>...</td>\n",
       "      <td>Regular</td>\n",
       "      <td>0.019278</td>\n",
       "      <td>Soft Drinks</td>\n",
       "      <td>48.2692</td>\n",
       "      <td>OUT018</td>\n",
       "      <td>2009</td>\n",
       "      <td>Medium</td>\n",
       "      <td>Tier 3</td>\n",
       "      <td>Supermarket Type2</td>\n",
       "      <td>443.4228</td>\n",
       "    </tr>\n",
       "    <tr>\n",
       "      <th>2</th>\n",
       "      <td>Teen</td>\n",
       "      <td>Yes</td>\n",
       "      <td>3.0</td>\n",
       "      <td>M</td>\n",
       "      <td>72.00</td>\n",
       "      <td>Others</td>\n",
       "      <td>78.00</td>\n",
       "      <td>Others</td>\n",
       "      <td>Commerce</td>\n",
       "      <td>66.63</td>\n",
       "      <td>...</td>\n",
       "      <td>Low Fat</td>\n",
       "      <td>0.016760</td>\n",
       "      <td>Meat</td>\n",
       "      <td>141.6180</td>\n",
       "      <td>OUT049</td>\n",
       "      <td>1999</td>\n",
       "      <td>Medium</td>\n",
       "      <td>Tier 1</td>\n",
       "      <td>Supermarket Type1</td>\n",
       "      <td>2097.2700</td>\n",
       "    </tr>\n",
       "    <tr>\n",
       "      <th>3</th>\n",
       "      <td>Teen</td>\n",
       "      <td>Yes</td>\n",
       "      <td>4.0</td>\n",
       "      <td>M</td>\n",
       "      <td>60.00</td>\n",
       "      <td>CBSE</td>\n",
       "      <td>63.00</td>\n",
       "      <td>CBSE</td>\n",
       "      <td>Arts</td>\n",
       "      <td>58.00</td>\n",
       "      <td>...</td>\n",
       "      <td>Regular</td>\n",
       "      <td>0.000000</td>\n",
       "      <td>Fruits and Vegetables</td>\n",
       "      <td>182.0950</td>\n",
       "      <td>OUT010</td>\n",
       "      <td>1998</td>\n",
       "      <td>NaN</td>\n",
       "      <td>Tier 3</td>\n",
       "      <td>Grocery Store</td>\n",
       "      <td>732.3800</td>\n",
       "    </tr>\n",
       "    <tr>\n",
       "      <th>4</th>\n",
       "      <td>Teen</td>\n",
       "      <td>Yes</td>\n",
       "      <td>5.0</td>\n",
       "      <td>M</td>\n",
       "      <td>61.00</td>\n",
       "      <td>CBSE</td>\n",
       "      <td>55.00</td>\n",
       "      <td>ISC</td>\n",
       "      <td>Science</td>\n",
       "      <td>54.00</td>\n",
       "      <td>...</td>\n",
       "      <td>Low Fat</td>\n",
       "      <td>0.000000</td>\n",
       "      <td>Household</td>\n",
       "      <td>53.8614</td>\n",
       "      <td>OUT013</td>\n",
       "      <td>1987</td>\n",
       "      <td>High</td>\n",
       "      <td>Tier 3</td>\n",
       "      <td>Supermarket Type1</td>\n",
       "      <td>994.7052</td>\n",
       "    </tr>\n",
       "  </tbody>\n",
       "</table>\n",
       "<p>5 rows × 33 columns</p>\n",
       "</div>"
      ],
      "text/plain": [
       "    Age Preference  SlNo Gender  Percent_SSC Board_SSC  Percent_HSC Board_HSC  \\\n",
       "0  Teen        Yes   1.0      M        62.00    Others        88.00    Others   \n",
       "1  Teen        Yes   2.0      M        76.33      ICSE        75.33    Others   \n",
       "2  Teen        Yes   3.0      M        72.00    Others        78.00    Others   \n",
       "3  Teen        Yes   4.0      M        60.00      CBSE        63.00      CBSE   \n",
       "4  Teen        Yes   5.0      M        61.00      CBSE        55.00       ISC   \n",
       "\n",
       "  Stream_HSC  Percent_Degree  ... Item_Fat_Content  Item_Visibility  \\\n",
       "0   Commerce           52.00  ...          Low Fat         0.016047   \n",
       "1    Science           75.48  ...          Regular         0.019278   \n",
       "2   Commerce           66.63  ...          Low Fat         0.016760   \n",
       "3       Arts           58.00  ...          Regular         0.000000   \n",
       "4    Science           54.00  ...          Low Fat         0.000000   \n",
       "\n",
       "               Item_Type  Item_MRP  Outlet_Identifier  \\\n",
       "0                  Dairy  249.8092             OUT049   \n",
       "1            Soft Drinks   48.2692             OUT018   \n",
       "2                   Meat  141.6180             OUT049   \n",
       "3  Fruits and Vegetables  182.0950             OUT010   \n",
       "4              Household   53.8614             OUT013   \n",
       "\n",
       "  Outlet_Establishment_Year  Outlet_Size  Outlet_Location_Type  \\\n",
       "0                      1999       Medium                Tier 1   \n",
       "1                      2009       Medium                Tier 3   \n",
       "2                      1999       Medium                Tier 1   \n",
       "3                      1998          NaN                Tier 3   \n",
       "4                      1987         High                Tier 3   \n",
       "\n",
       "         Outlet_Type Item_Outlet_Sales  \n",
       "0  Supermarket Type1         3735.1380  \n",
       "1  Supermarket Type2          443.4228  \n",
       "2  Supermarket Type1         2097.2700  \n",
       "3      Grocery Store          732.3800  \n",
       "4  Supermarket Type1          994.7052  \n",
       "\n",
       "[5 rows x 33 columns]"
      ]
     },
     "execution_count": 2,
     "metadata": {},
     "output_type": "execute_result"
    }
   ],
   "source": [
    "import pandas as pd\n",
    "\n",
    "import pandas as pd\n",
    "import csv\n",
    "with open(\"Final.csv\",\"r\")as file:\n",
    "    reader=csv.reader(file)\n",
    "data=pd.read_csv(\"Final.csv\")\n",
    "data.head()"
   ]
  },
  {
   "cell_type": "code",
   "execution_count": 3,
   "metadata": {
    "colab": {},
    "colab_type": "code",
    "id": "GKivZPUOJ5j3",
    "outputId": "689865f5-f299-448d-9ddf-a4418c31be2c"
   },
   "outputs": [
    {
     "data": {
      "text/html": [
       "<div>\n",
       "<style scoped>\n",
       "    .dataframe tbody tr th:only-of-type {\n",
       "        vertical-align: middle;\n",
       "    }\n",
       "\n",
       "    .dataframe tbody tr th {\n",
       "        vertical-align: top;\n",
       "    }\n",
       "\n",
       "    .dataframe thead th {\n",
       "        text-align: right;\n",
       "    }\n",
       "</style>\n",
       "<table border=\"1\" class=\"dataframe\">\n",
       "  <thead>\n",
       "    <tr style=\"text-align: right;\">\n",
       "      <th></th>\n",
       "      <th>Age</th>\n",
       "      <th>Preference</th>\n",
       "    </tr>\n",
       "  </thead>\n",
       "  <tbody>\n",
       "    <tr>\n",
       "      <th>0</th>\n",
       "      <td>Teen</td>\n",
       "      <td>Yes</td>\n",
       "    </tr>\n",
       "    <tr>\n",
       "      <th>1</th>\n",
       "      <td>Teen</td>\n",
       "      <td>Yes</td>\n",
       "    </tr>\n",
       "    <tr>\n",
       "      <th>2</th>\n",
       "      <td>Teen</td>\n",
       "      <td>Yes</td>\n",
       "    </tr>\n",
       "    <tr>\n",
       "      <th>3</th>\n",
       "      <td>Teen</td>\n",
       "      <td>Yes</td>\n",
       "    </tr>\n",
       "    <tr>\n",
       "      <th>4</th>\n",
       "      <td>Teen</td>\n",
       "      <td>Yes</td>\n",
       "    </tr>\n",
       "  </tbody>\n",
       "</table>\n",
       "</div>"
      ],
      "text/plain": [
       "    Age Preference\n",
       "0  Teen        Yes\n",
       "1  Teen        Yes\n",
       "2  Teen        Yes\n",
       "3  Teen        Yes\n",
       "4  Teen        Yes"
      ]
     },
     "execution_count": 3,
     "metadata": {},
     "output_type": "execute_result"
    }
   ],
   "source": [
    "Online = data.iloc[:99,:2]\n",
    "Online.head()"
   ]
  },
  {
   "cell_type": "code",
   "execution_count": 4,
   "metadata": {
    "colab": {},
    "colab_type": "code",
    "id": "kbQ1YtxeJ5j-",
    "outputId": "6d57bda3-9b08-43d5-d121-c5c95d943b11"
   },
   "outputs": [
    {
     "data": {
      "text/html": [
       "<div>\n",
       "<style scoped>\n",
       "    .dataframe tbody tr th:only-of-type {\n",
       "        vertical-align: middle;\n",
       "    }\n",
       "\n",
       "    .dataframe tbody tr th {\n",
       "        vertical-align: top;\n",
       "    }\n",
       "\n",
       "    .dataframe thead th {\n",
       "        text-align: right;\n",
       "    }\n",
       "</style>\n",
       "<table border=\"1\" class=\"dataframe\">\n",
       "  <thead>\n",
       "    <tr style=\"text-align: right;\">\n",
       "      <th></th>\n",
       "      <th>SlNo</th>\n",
       "      <th>Gender</th>\n",
       "      <th>Percent_SSC</th>\n",
       "      <th>Board_SSC</th>\n",
       "      <th>Percent_HSC</th>\n",
       "      <th>Board_HSC</th>\n",
       "      <th>Stream_HSC</th>\n",
       "      <th>Percent_Degree</th>\n",
       "      <th>Course_Degree</th>\n",
       "      <th>Experience_Yrs</th>\n",
       "      <th>Entrance_Test</th>\n",
       "      <th>Percentile_ET</th>\n",
       "      <th>Percent_MBA</th>\n",
       "      <th>Specialization_MBA</th>\n",
       "      <th>Marks_Communication</th>\n",
       "      <th>Marks_Projectwork</th>\n",
       "      <th>Marks_BOCA</th>\n",
       "      <th>Placement</th>\n",
       "      <th>Salary</th>\n",
       "    </tr>\n",
       "  </thead>\n",
       "  <tbody>\n",
       "    <tr>\n",
       "      <th>0</th>\n",
       "      <td>1.0</td>\n",
       "      <td>M</td>\n",
       "      <td>62.00</td>\n",
       "      <td>Others</td>\n",
       "      <td>88.00</td>\n",
       "      <td>Others</td>\n",
       "      <td>Commerce</td>\n",
       "      <td>52.00</td>\n",
       "      <td>Science</td>\n",
       "      <td>0.0</td>\n",
       "      <td>MAT</td>\n",
       "      <td>55.0</td>\n",
       "      <td>58.80</td>\n",
       "      <td>Marketing &amp; HR</td>\n",
       "      <td>50.0</td>\n",
       "      <td>65.0</td>\n",
       "      <td>74.0</td>\n",
       "      <td>Placed</td>\n",
       "      <td>270000.0</td>\n",
       "    </tr>\n",
       "    <tr>\n",
       "      <th>1</th>\n",
       "      <td>2.0</td>\n",
       "      <td>M</td>\n",
       "      <td>76.33</td>\n",
       "      <td>ICSE</td>\n",
       "      <td>75.33</td>\n",
       "      <td>Others</td>\n",
       "      <td>Science</td>\n",
       "      <td>75.48</td>\n",
       "      <td>Computer Applications</td>\n",
       "      <td>1.0</td>\n",
       "      <td>MAT</td>\n",
       "      <td>86.5</td>\n",
       "      <td>66.28</td>\n",
       "      <td>Marketing &amp; Finance</td>\n",
       "      <td>69.0</td>\n",
       "      <td>70.0</td>\n",
       "      <td>75.0</td>\n",
       "      <td>Placed</td>\n",
       "      <td>200000.0</td>\n",
       "    </tr>\n",
       "    <tr>\n",
       "      <th>2</th>\n",
       "      <td>3.0</td>\n",
       "      <td>M</td>\n",
       "      <td>72.00</td>\n",
       "      <td>Others</td>\n",
       "      <td>78.00</td>\n",
       "      <td>Others</td>\n",
       "      <td>Commerce</td>\n",
       "      <td>66.63</td>\n",
       "      <td>Engineering</td>\n",
       "      <td>0.0</td>\n",
       "      <td>NaN</td>\n",
       "      <td>0.0</td>\n",
       "      <td>52.91</td>\n",
       "      <td>Marketing &amp; Finance</td>\n",
       "      <td>50.0</td>\n",
       "      <td>61.0</td>\n",
       "      <td>59.0</td>\n",
       "      <td>Placed</td>\n",
       "      <td>240000.0</td>\n",
       "    </tr>\n",
       "    <tr>\n",
       "      <th>3</th>\n",
       "      <td>4.0</td>\n",
       "      <td>M</td>\n",
       "      <td>60.00</td>\n",
       "      <td>CBSE</td>\n",
       "      <td>63.00</td>\n",
       "      <td>CBSE</td>\n",
       "      <td>Arts</td>\n",
       "      <td>58.00</td>\n",
       "      <td>Management</td>\n",
       "      <td>0.0</td>\n",
       "      <td>MAT</td>\n",
       "      <td>75.0</td>\n",
       "      <td>57.80</td>\n",
       "      <td>Marketing &amp; Finance</td>\n",
       "      <td>54.0</td>\n",
       "      <td>66.0</td>\n",
       "      <td>62.0</td>\n",
       "      <td>Placed</td>\n",
       "      <td>250000.0</td>\n",
       "    </tr>\n",
       "    <tr>\n",
       "      <th>4</th>\n",
       "      <td>5.0</td>\n",
       "      <td>M</td>\n",
       "      <td>61.00</td>\n",
       "      <td>CBSE</td>\n",
       "      <td>55.00</td>\n",
       "      <td>ISC</td>\n",
       "      <td>Science</td>\n",
       "      <td>54.00</td>\n",
       "      <td>Engineering</td>\n",
       "      <td>1.0</td>\n",
       "      <td>MAT</td>\n",
       "      <td>66.0</td>\n",
       "      <td>59.43</td>\n",
       "      <td>Marketing &amp; HR</td>\n",
       "      <td>52.0</td>\n",
       "      <td>65.0</td>\n",
       "      <td>67.0</td>\n",
       "      <td>Placed</td>\n",
       "      <td>180000.0</td>\n",
       "    </tr>\n",
       "  </tbody>\n",
       "</table>\n",
       "</div>"
      ],
      "text/plain": [
       "   SlNo Gender  Percent_SSC Board_SSC  Percent_HSC Board_HSC Stream_HSC  \\\n",
       "0   1.0      M        62.00    Others        88.00    Others   Commerce   \n",
       "1   2.0      M        76.33      ICSE        75.33    Others    Science   \n",
       "2   3.0      M        72.00    Others        78.00    Others   Commerce   \n",
       "3   4.0      M        60.00      CBSE        63.00      CBSE       Arts   \n",
       "4   5.0      M        61.00      CBSE        55.00       ISC    Science   \n",
       "\n",
       "   Percent_Degree          Course_Degree  Experience_Yrs Entrance_Test  \\\n",
       "0           52.00                Science             0.0           MAT   \n",
       "1           75.48  Computer Applications             1.0           MAT   \n",
       "2           66.63            Engineering             0.0           NaN   \n",
       "3           58.00             Management             0.0           MAT   \n",
       "4           54.00            Engineering             1.0           MAT   \n",
       "\n",
       "   Percentile_ET  Percent_MBA   Specialization_MBA  Marks_Communication  \\\n",
       "0           55.0        58.80       Marketing & HR                 50.0   \n",
       "1           86.5        66.28  Marketing & Finance                 69.0   \n",
       "2            0.0        52.91  Marketing & Finance                 50.0   \n",
       "3           75.0        57.80  Marketing & Finance                 54.0   \n",
       "4           66.0        59.43       Marketing & HR                 52.0   \n",
       "\n",
       "   Marks_Projectwork  Marks_BOCA Placement    Salary  \n",
       "0               65.0        74.0    Placed  270000.0  \n",
       "1               70.0        75.0    Placed  200000.0  \n",
       "2               61.0        59.0    Placed  240000.0  \n",
       "3               66.0        62.0    Placed  250000.0  \n",
       "4               65.0        67.0    Placed  180000.0  "
      ]
     },
     "execution_count": 4,
     "metadata": {},
     "output_type": "execute_result"
    }
   ],
   "source": [
    "Admission = data.iloc[:391,2:21]\n",
    "Admission.head()"
   ]
  },
  {
   "cell_type": "code",
   "execution_count": 5,
   "metadata": {
    "colab": {},
    "colab_type": "code",
    "id": "saP0PbuYJ5kG",
    "outputId": "0af730f1-019c-40e6-867e-bc0bd537ab1b"
   },
   "outputs": [
    {
     "data": {
      "text/html": [
       "<div>\n",
       "<style scoped>\n",
       "    .dataframe tbody tr th:only-of-type {\n",
       "        vertical-align: middle;\n",
       "    }\n",
       "\n",
       "    .dataframe tbody tr th {\n",
       "        vertical-align: top;\n",
       "    }\n",
       "\n",
       "    .dataframe thead th {\n",
       "        text-align: right;\n",
       "    }\n",
       "</style>\n",
       "<table border=\"1\" class=\"dataframe\">\n",
       "  <thead>\n",
       "    <tr style=\"text-align: right;\">\n",
       "      <th></th>\n",
       "      <th>Item_Identifier</th>\n",
       "      <th>Item_Weight</th>\n",
       "      <th>Item_Fat_Content</th>\n",
       "      <th>Item_Visibility</th>\n",
       "      <th>Item_Type</th>\n",
       "      <th>Item_MRP</th>\n",
       "      <th>Outlet_Identifier</th>\n",
       "      <th>Outlet_Establishment_Year</th>\n",
       "      <th>Outlet_Size</th>\n",
       "      <th>Outlet_Location_Type</th>\n",
       "      <th>Outlet_Type</th>\n",
       "      <th>Item_Outlet_Sales</th>\n",
       "    </tr>\n",
       "  </thead>\n",
       "  <tbody>\n",
       "    <tr>\n",
       "      <th>0</th>\n",
       "      <td>FDA15</td>\n",
       "      <td>9.30</td>\n",
       "      <td>Low Fat</td>\n",
       "      <td>0.016047</td>\n",
       "      <td>Dairy</td>\n",
       "      <td>249.8092</td>\n",
       "      <td>OUT049</td>\n",
       "      <td>1999</td>\n",
       "      <td>Medium</td>\n",
       "      <td>Tier 1</td>\n",
       "      <td>Supermarket Type1</td>\n",
       "      <td>3735.1380</td>\n",
       "    </tr>\n",
       "    <tr>\n",
       "      <th>1</th>\n",
       "      <td>DRC01</td>\n",
       "      <td>5.92</td>\n",
       "      <td>Regular</td>\n",
       "      <td>0.019278</td>\n",
       "      <td>Soft Drinks</td>\n",
       "      <td>48.2692</td>\n",
       "      <td>OUT018</td>\n",
       "      <td>2009</td>\n",
       "      <td>Medium</td>\n",
       "      <td>Tier 3</td>\n",
       "      <td>Supermarket Type2</td>\n",
       "      <td>443.4228</td>\n",
       "    </tr>\n",
       "    <tr>\n",
       "      <th>2</th>\n",
       "      <td>FDN15</td>\n",
       "      <td>17.50</td>\n",
       "      <td>Low Fat</td>\n",
       "      <td>0.016760</td>\n",
       "      <td>Meat</td>\n",
       "      <td>141.6180</td>\n",
       "      <td>OUT049</td>\n",
       "      <td>1999</td>\n",
       "      <td>Medium</td>\n",
       "      <td>Tier 1</td>\n",
       "      <td>Supermarket Type1</td>\n",
       "      <td>2097.2700</td>\n",
       "    </tr>\n",
       "    <tr>\n",
       "      <th>3</th>\n",
       "      <td>FDX07</td>\n",
       "      <td>19.20</td>\n",
       "      <td>Regular</td>\n",
       "      <td>0.000000</td>\n",
       "      <td>Fruits and Vegetables</td>\n",
       "      <td>182.0950</td>\n",
       "      <td>OUT010</td>\n",
       "      <td>1998</td>\n",
       "      <td>NaN</td>\n",
       "      <td>Tier 3</td>\n",
       "      <td>Grocery Store</td>\n",
       "      <td>732.3800</td>\n",
       "    </tr>\n",
       "    <tr>\n",
       "      <th>4</th>\n",
       "      <td>NCD19</td>\n",
       "      <td>8.93</td>\n",
       "      <td>Low Fat</td>\n",
       "      <td>0.000000</td>\n",
       "      <td>Household</td>\n",
       "      <td>53.8614</td>\n",
       "      <td>OUT013</td>\n",
       "      <td>1987</td>\n",
       "      <td>High</td>\n",
       "      <td>Tier 3</td>\n",
       "      <td>Supermarket Type1</td>\n",
       "      <td>994.7052</td>\n",
       "    </tr>\n",
       "  </tbody>\n",
       "</table>\n",
       "</div>"
      ],
      "text/plain": [
       "  Item_Identifier  Item_Weight Item_Fat_Content  Item_Visibility  \\\n",
       "0           FDA15         9.30          Low Fat         0.016047   \n",
       "1           DRC01         5.92          Regular         0.019278   \n",
       "2           FDN15        17.50          Low Fat         0.016760   \n",
       "3           FDX07        19.20          Regular         0.000000   \n",
       "4           NCD19         8.93          Low Fat         0.000000   \n",
       "\n",
       "               Item_Type  Item_MRP Outlet_Identifier  \\\n",
       "0                  Dairy  249.8092            OUT049   \n",
       "1            Soft Drinks   48.2692            OUT018   \n",
       "2                   Meat  141.6180            OUT049   \n",
       "3  Fruits and Vegetables  182.0950            OUT010   \n",
       "4              Household   53.8614            OUT013   \n",
       "\n",
       "   Outlet_Establishment_Year Outlet_Size Outlet_Location_Type  \\\n",
       "0                       1999      Medium               Tier 1   \n",
       "1                       2009      Medium               Tier 3   \n",
       "2                       1999      Medium               Tier 1   \n",
       "3                       1998         NaN               Tier 3   \n",
       "4                       1987        High               Tier 3   \n",
       "\n",
       "         Outlet_Type  Item_Outlet_Sales  \n",
       "0  Supermarket Type1          3735.1380  \n",
       "1  Supermarket Type2           443.4228  \n",
       "2  Supermarket Type1          2097.2700  \n",
       "3      Grocery Store           732.3800  \n",
       "4  Supermarket Type1           994.7052  "
      ]
     },
     "execution_count": 5,
     "metadata": {},
     "output_type": "execute_result"
    }
   ],
   "source": [
    "Outlet = data.iloc[:,21:]\n",
    "Outlet.head()"
   ]
  },
  {
   "cell_type": "markdown",
   "metadata": {
    "colab_type": "text",
    "id": "sE2cmxbCJ5kO"
   },
   "source": [
    "# SECTION A: 20 MARKS"
   ]
  },
  {
   "cell_type": "markdown",
   "metadata": {
    "colab_type": "text",
    "id": "-3GElz9FJ5kP"
   },
   "source": [
    "_________________"
   ]
  },
  {
   "cell_type": "markdown",
   "metadata": {
    "colab_type": "text",
    "id": "aLPBD6l6J5kQ"
   },
   "source": [
    "<span style=\"font-family: Arial; font-weight:bold;font-size:1.5em;\">1. A principal at a school claims that the students in his school are above average intelligence. A random sample of 45 students scores have been taken and observed mean intelligence score is 68. Is there sufficient evidence to support the principal claim as a significance level of 0.025 that the mean intelligence score is 59 with a standard deviation of 9. Assume scores are normally distributed.\n",
    "\n",
    "A.Frame Null and Alternate Hypothesis. ( 1 Mark)\n",
    "\n",
    "B.State which test to be performed.  (1 Mark)\n",
    "\n",
    "C.Find the test statistic.  (2 Marks)\n",
    "\n",
    "D.Interpret the results.  (1 Mark)"
   ]
  },
  {
   "cell_type": "code",
   "execution_count": 6,
   "metadata": {
    "colab": {},
    "colab_type": "code",
    "id": "rMRPf8DzJ5kR"
   },
   "outputs": [
    {
     "data": {
      "text/plain": [
       "6.708203932499369"
      ]
     },
     "execution_count": 6,
     "metadata": {},
     "output_type": "execute_result"
    }
   ],
   "source": [
    "# H0: myu = 59\n",
    "# H1: myu != 59\n",
    "\n",
    "# Assume data is normally distributed\n",
    "\n",
    "# We perform one sample ztest since sample size > 30\n",
    "\n",
    "n = 45\n",
    "x_bar = 68\n",
    "myu = 59\n",
    "sigma = 9\n",
    "\n",
    "alpha = 0.025\n",
    "\n",
    "# calculate test statistic\n",
    "\n",
    "se = sigma/np.sqrt(n)\n",
    "\n",
    "z_stat = (x_bar - myu)/se\n",
    "z_stat"
   ]
  },
  {
   "cell_type": "code",
   "execution_count": 7,
   "metadata": {},
   "outputs": [
    {
     "data": {
      "text/plain": [
       "1.970344471179895e-11"
      ]
     },
     "execution_count": 7,
     "metadata": {},
     "output_type": "execute_result"
    }
   ],
   "source": [
    "# pvalue \n",
    "\n",
    "pvalue = stats.norm.sf(z_stat)*2 \n",
    "pvalue"
   ]
  },
  {
   "cell_type": "code",
   "execution_count": 8,
   "metadata": {},
   "outputs": [
    {
     "data": {
      "text/plain": [
       "True"
      ]
     },
     "execution_count": 8,
     "metadata": {},
     "output_type": "execute_result"
    }
   ],
   "source": [
    "pvalue < 0.025"
   ]
  },
  {
   "cell_type": "code",
   "execution_count": 80,
   "metadata": {},
   "outputs": [],
   "source": [
    "# since pvalue < alpha , we reject H0\n",
    "# We conclude that the mean intelligence score is not equal to 59 with a standard deviation of 9."
   ]
  },
  {
   "cell_type": "markdown",
   "metadata": {
    "colab_type": "text",
    "id": "8ndb7R1jJ5kY"
   },
   "source": [
    "<span style=\"font-family: Arial; font-weight:bold;font-size:1.5em;\">2 .\tIt is very important to fill vehicle tyres with right pressure. Too much or too less pressure will result in lower performance or shorter life. The right amount of pressure is set at 16 psi. A random check of 8 tyres at a service station has resulted in following values. Do we have evidence to believe the that the observed tyre pressure is significantly different from 16? Assume data is normally distributed. \n",
    "\n",
    "**Observed Tyre Pressure (psi):\t16.02\t16.22\t15.82\t15.92\t16.22\t16.32\t16.12\t15.92**\n",
    "    \n",
    "A.Frame Null and Alternate Hypothesis. ( 1 Mark)\n",
    "\n",
    "B.State which test to be performed.  (1 Mark)\n",
    "\n",
    "C.Find the test statistic.  (2 Marks)\n",
    "\n",
    "D.Interpret the results.  (1 Mark)\n",
    " "
   ]
  },
  {
   "cell_type": "code",
   "execution_count": 81,
   "metadata": {
    "colab": {},
    "colab_type": "code",
    "id": "gj5o9ywrJ5kZ"
   },
   "outputs": [
    {
     "data": {
      "text/plain": [
       "ShapiroResult(statistic=0.9435174465179443, pvalue=0.6459853649139404)"
      ]
     },
     "execution_count": 81,
     "metadata": {},
     "output_type": "execute_result"
    }
   ],
   "source": [
    "# H0: myu = 16\n",
    "# H1: myu != 16\n",
    "\n",
    "# We perform one sample ttest since sample size < 30\n",
    "\n",
    "alpha = 0.05\n",
    "\n",
    "# We check if data is normal\n",
    "\n",
    "tyre_pressure = np.array([16.02, 16.22, 15.82, 15.92, 16.22, 16.32, 16.12 ,15.92])\n",
    "\n",
    "stats.shapiro(tyre_pressure)"
   ]
  },
  {
   "cell_type": "code",
   "execution_count": 82,
   "metadata": {},
   "outputs": [
    {
     "data": {
      "text/plain": [
       "Ttest_1sampResult(statistic=1.1168136493044576, pvalue=0.30093607677048567)"
      ]
     },
     "execution_count": 82,
     "metadata": {},
     "output_type": "execute_result"
    }
   ],
   "source": [
    "# pvalue > 0.05 , we conclude that the sample comes from a normal population dist\n",
    "\n",
    "# test statistic\n",
    "\n",
    "stats.ttest_1samp(tyre_pressure,popmean = 16)"
   ]
  },
  {
   "cell_type": "code",
   "execution_count": 83,
   "metadata": {},
   "outputs": [],
   "source": [
    "# since pvalue > alpha , we fail to reject H0\n",
    "# We conclude that the observed tyre pressure is equal to 16"
   ]
  },
  {
   "cell_type": "markdown",
   "metadata": {
    "colab_type": "text",
    "id": "07tXhslAJ5kp"
   },
   "source": [
    "<span style=\"font-family: Arial; font-weight:bold;font-size:1.5em;\">3. Now a days the online streaming services like Netflix, Amazon prime, is playing dominant role in the entertainment industry.  A public opinion poll surveyed on whether these online streaming services are better than cinema halls? On a sample of 100 random people (classified as teen/Adults/Senior Citizen) with a closed ended question (Yes or No). The details are captured. From the data ,identify the association between age category and voting preference? (Use level of significance as 5%). Use the dataframe \"Online\". \n",
    "\n",
    "A.Frame Null and Alternate Hypothesis. ( 1 Mark)\n",
    "\n",
    "B.State which test to be performed.  (1 Mark)\n",
    "\n",
    "C.Perform the test. (2 marks)\n",
    "\n",
    "D.Interpret the results.  (1 Mark)"
   ]
  },
  {
   "cell_type": "code",
   "execution_count": 84,
   "metadata": {
    "scrolled": true
   },
   "outputs": [
    {
     "data": {
      "text/html": [
       "<div>\n",
       "<style scoped>\n",
       "    .dataframe tbody tr th:only-of-type {\n",
       "        vertical-align: middle;\n",
       "    }\n",
       "\n",
       "    .dataframe tbody tr th {\n",
       "        vertical-align: top;\n",
       "    }\n",
       "\n",
       "    .dataframe thead th {\n",
       "        text-align: right;\n",
       "    }\n",
       "</style>\n",
       "<table border=\"1\" class=\"dataframe\">\n",
       "  <thead>\n",
       "    <tr style=\"text-align: right;\">\n",
       "      <th>Preference</th>\n",
       "      <th>No</th>\n",
       "      <th>Yes</th>\n",
       "    </tr>\n",
       "    <tr>\n",
       "      <th>Age</th>\n",
       "      <th></th>\n",
       "      <th></th>\n",
       "    </tr>\n",
       "  </thead>\n",
       "  <tbody>\n",
       "    <tr>\n",
       "      <th>Adult</th>\n",
       "      <td>17</td>\n",
       "      <td>13</td>\n",
       "    </tr>\n",
       "    <tr>\n",
       "      <th>Senior Citizen</th>\n",
       "      <td>15</td>\n",
       "      <td>12</td>\n",
       "    </tr>\n",
       "    <tr>\n",
       "      <th>Teen</th>\n",
       "      <td>10</td>\n",
       "      <td>32</td>\n",
       "    </tr>\n",
       "  </tbody>\n",
       "</table>\n",
       "</div>"
      ],
      "text/plain": [
       "Preference      No  Yes\n",
       "Age                    \n",
       "Adult           17   13\n",
       "Senior Citizen  15   12\n",
       "Teen            10   32"
      ]
     },
     "execution_count": 84,
     "metadata": {},
     "output_type": "execute_result"
    }
   ],
   "source": [
    "# H0: There is no assocation between age category and voting preference\n",
    "# H1: There is an association between age category and voting preference\n",
    "\n",
    "# We perform chi square test of association\n",
    "\n",
    "alpha = 0.05\n",
    "\n",
    "# get the observed values in a contingency table\n",
    "\n",
    "ct = pd.crosstab(Online['Age'],Online['Preference'])\n",
    "ct"
   ]
  },
  {
   "cell_type": "code",
   "execution_count": 85,
   "metadata": {},
   "outputs": [],
   "source": [
    "# since all expected and observed values are greater than 5 our assumption is satisfied"
   ]
  },
  {
   "cell_type": "code",
   "execution_count": 86,
   "metadata": {
    "scrolled": true
   },
   "outputs": [
    {
     "data": {
      "text/plain": [
       "(10.355477980665949,\n",
       " 0.005640745787809177,\n",
       " 2,\n",
       " array([[12.72727273, 17.27272727],\n",
       "        [11.45454545, 15.54545455],\n",
       "        [17.81818182, 24.18181818]]))"
      ]
     },
     "execution_count": 86,
     "metadata": {},
     "output_type": "execute_result"
    }
   ],
   "source": [
    "stats.chi2_contingency(ct.values)"
   ]
  },
  {
   "cell_type": "code",
   "execution_count": 87,
   "metadata": {},
   "outputs": [],
   "source": [
    "# since pvalue < alpha , we reject H0\n",
    "# We conclude that there is an association between age category and voting preference"
   ]
  },
  {
   "cell_type": "markdown",
   "metadata": {
    "colab_type": "text",
    "id": "Uv7oTjyEJ5lJ"
   },
   "source": [
    "<span style=\"font-family: Arial; font-weight:bold;font-size:1.5em;\"> 4. In a survey, 200 people were asked to identify their major source of news information. 110 stated that their major source was television news.\n",
    "    \n",
    "i. Construct a 95% confidence interval for the proportion of people in the population who consider television their major source of news information.(2 marks) \n",
    "\n",
    "ii. How large a sample would be necessary to estimate the population proportion with a margin of error of .05 at 95% confidence? (3 marks)"
   ]
  },
  {
   "cell_type": "code",
   "execution_count": 88,
   "metadata": {
    "colab": {},
    "colab_type": "code",
    "id": "76onCM2yJ5lL"
   },
   "outputs": [
    {
     "data": {
      "text/plain": [
       "(0.4810521552867026, 0.6189478447132974)"
      ]
     },
     "execution_count": 88,
     "metadata": {},
     "output_type": "execute_result"
    }
   ],
   "source": [
    "#i) Construct a 95% confidence interval for the proportion of people in the population \n",
    "# who consider television their major source of news information.(2 marks)\n",
    "\n",
    "p_samp = 110/200\n",
    "\n",
    "n = 200\n",
    "\n",
    "se = np.sqrt(p_samp*(1 - p_samp)/n)\n",
    "\n",
    "stats.norm.interval(0.95, loc = p_samp, scale = se)"
   ]
  },
  {
   "cell_type": "code",
   "execution_count": 89,
   "metadata": {},
   "outputs": [
    {
     "data": {
      "text/plain": [
       "380.30442324871854"
      ]
     },
     "execution_count": 89,
     "metadata": {},
     "output_type": "execute_result"
    }
   ],
   "source": [
    "# ii. How large a sample would be necessary to estimate the population proportion with a \n",
    "# margin of error of .05 at 95% confidence? (3 marks)\n",
    "\n",
    "moe = 0.05\n",
    "\n",
    "p_samp = 110/200\n",
    "\n",
    "alpha = 0.05\n",
    "\n",
    "# moe = z_alpha_by_2 * se\n",
    "# moe = z_alpha_by_2 * np.sqrt(p_samp*(1 - p_samp)/n)\n",
    "#(p_samp*(1 - p_samp)/n) = (moe/z_alpha_by_2)**2\n",
    "\n",
    "z_alpha_by_2 = stats.norm.isf(alpha/2)\n",
    "\n",
    "se = np.sqrt(p_samp*(1 - p_samp)/n)\n",
    "\n",
    "n = (p_samp*(1 - p_samp))/((moe/z_alpha_by_2)**2)\n",
    "n"
   ]
  },
  {
   "cell_type": "markdown",
   "metadata": {
    "colab_type": "text",
    "id": "1DfRBwZeJ5lX"
   },
   "source": [
    "_________________"
   ]
  },
  {
   "cell_type": "markdown",
   "metadata": {
    "colab_type": "text",
    "id": "A8Dy4DCGJ5lZ"
   },
   "source": [
    "# SECTION B: 20 MARKS"
   ]
  },
  {
   "cell_type": "markdown",
   "metadata": {
    "colab_type": "text",
    "id": "nGvrtFNTJ5la"
   },
   "source": [
    "_________________"
   ]
  },
  {
   "cell_type": "markdown",
   "metadata": {
    "colab_type": "text",
    "id": "S7wNBnkKJ5lc"
   },
   "source": [
    "<span style=\"font-family: Arial; font-weight:bold;font-size:1.5em;\"> 5.The manufacturers of compact disk players want to test whether a small price reduction is enough to increase sales of their product. Is there evidence that the small price reduction is enough to increase sales of compact disk players?\n",
    "\n",
    "\n",
    "| Before reduction||After reduction  ||\n",
    "| ------|  ------ |--------------|-----------------|\n",
    "| n1=\t|15| \tn2 =| 12|\n",
    "| Average sales_ before=|Rs. 6598 ( in lakhs)  |Average sales _ after =| RS. 6870( in lakhs)|\n",
    "| s1=|Rs. 844( in lakhs)|     s2=| Rs. 669( in lakhs)|\n",
    "    \n",
    "i) Create the Hypothesis (2 marks)\n",
    "\n",
    "ii) Determine the Statistical Test and give the reason for the selection of the test.(1 mark)\n",
    "\n",
    "iii) Find the test statistics and pvalue.(6 marks)\n",
    "\n",
    "iv) Interpret the Results(1 mark)\n",
    "\n",
    "**Note: Assume data is normally distributed and have equal variance.**"
   ]
  },
  {
   "cell_type": "code",
   "execution_count": 90,
   "metadata": {
    "colab": {},
    "colab_type": "code",
    "id": "-Udu7xFgJ5le"
   },
   "outputs": [
    {
     "data": {
      "text/plain": [
       "0.9098300343990459"
      ]
     },
     "execution_count": 90,
     "metadata": {},
     "output_type": "execute_result"
    }
   ],
   "source": [
    "# H0:  Average sales after the price reduction is less than or equal to the average sales before the price reduction\n",
    "#            myu_after <= myu_before \n",
    "\n",
    "# H1: Average sales after the price reduction is greater than the average sales before the price reduction\n",
    "#             myu_after > myu_before \n",
    "\n",
    "# We perform a two sample independent ttest (since sample size < 30 in both samples)\n",
    "\n",
    "alpha = 0.05\n",
    "\n",
    "# We Assume data is normally distributed and have equal variance.\n",
    "\n",
    "n1 = 15\n",
    "n2 = 12\n",
    "xbar_before = 6598 \n",
    "xbar_after = 6870\n",
    "\n",
    "s1 = 844\n",
    "s2 = 669\n",
    "\n",
    "s = np.sqrt( ( (n1 - 1)*(s1**2) + (n2 - 1)*(s2**2) ) / (n1+n2-2) )\n",
    "\n",
    "se = s*np.sqrt( (1/n1) + (1/n2) )\n",
    "\n",
    "t_stat = ((xbar_after - xbar_before) - 0)/se\n",
    "t_stat"
   ]
  },
  {
   "cell_type": "code",
   "execution_count": 91,
   "metadata": {},
   "outputs": [
    {
     "data": {
      "text/plain": [
       "0.1858005025592589"
      ]
     },
     "execution_count": 91,
     "metadata": {},
     "output_type": "execute_result"
    }
   ],
   "source": [
    "# pvalue\n",
    "\n",
    "stats.t.sf(t_stat, df = (n1+n2-2))"
   ]
  },
  {
   "cell_type": "code",
   "execution_count": 92,
   "metadata": {},
   "outputs": [],
   "source": [
    "# since pvalue > alpha , we fail to reject H0\n",
    "# We conclude that average sales after the price reduction is less than or equal to the average sales before the price reduction"
   ]
  },
  {
   "cell_type": "markdown",
   "metadata": {
    "colab_type": "text",
    "id": "MQZZAdWaJ5lo"
   },
   "source": [
    "<span style=\"font-family: Arial; font-weight:bold;font-size:1.5em;\"> 6.\tMultiple myeloma or blood plasma cancer is characterised by increased  blood vessel formulation (angiogenesis) in the bone marrow. One treatment approach used for multiple myeloma is stem cell transplantation with the patient’s own stem cells. The data given below represents the bone marrow micro vessel density for patients who had a complete response to the stem cell transplant (as measured by blood test). The measurements were taken before and after the transplant.\n",
    "\n",
    "|Patient|Before|After|\n",
    "|--|--|--|\n",
    "|1|158|284|\n",
    "|2|189|214|\n",
    "|3|202|101|\n",
    "|4|353|227|\n",
    "|5|416|290|\n",
    "|6|426|176|\n",
    "|7|441|290|\n",
    "\n",
    "\n",
    "a.\tAt the 0.05 level of significance, is there evidence that the mean bone marrow micro vessel density has decreased after the stem cell transplant? Interpret the test statistic and p-value from the result. (7 MARKS)\n",
    "\n",
    "c.\tConstruct and interpret the 95% confidence interval estimation of the mean difference in bone marrow micro vessel density before and after stem cell transplant. (3 MARKS)\n",
    "    \n",
    "**Note: Assume data is normally distributed and have equal variance.**"
   ]
  },
  {
   "cell_type": "code",
   "execution_count": 97,
   "metadata": {
    "colab": {},
    "colab_type": "code",
    "id": "i_-BLkdQJ5lp"
   },
   "outputs": [
    {
     "data": {
      "text/plain": [
       "Ttest_relResult(statistic=-1.8424550291027728, pvalue=0.05749313343592854)"
      ]
     },
     "execution_count": 97,
     "metadata": {},
     "output_type": "execute_result"
    }
   ],
   "source": [
    "# a )\n",
    "\n",
    "# We define myu_d as the mean of the resultant array from (density_after - density_before)\n",
    "\n",
    "#H0: The mean bone marrow micro vessel density has increased or remained constant after the stem cell transplant\n",
    "#                myu_d >= 0\n",
    "#H1: The mean bone marrow micro vessel density has decreased after the stem cell transplant\n",
    "#                myu_d < 0\n",
    "    \n",
    "# alpha = 0.05\n",
    "\n",
    "\n",
    "before = np.array([158,189,202,353,416,426,441])\n",
    "\n",
    "after = np.array([284,214,101,227,290,176,290])\n",
    "\n",
    "x_bar = (after - before).mean()\n",
    "\n",
    "n = len(before)\n",
    "\n",
    "se = ((after - before).std(ddof = 1))/np.sqrt(n)\n",
    "\n",
    "# test statistic\n",
    "\n",
    "stats.ttest_rel(after, before, alternative = 'less')"
   ]
  },
  {
   "cell_type": "code",
   "execution_count": 98,
   "metadata": {},
   "outputs": [],
   "source": [
    "# since pvalue > alpha , we fail to reject H0\n",
    "# we conclude that mean bone marrow micro vessel density has increased or remained constant after the stem cell transplant"
   ]
  },
  {
   "cell_type": "code",
   "execution_count": 101,
   "metadata": {},
   "outputs": [
    {
     "data": {
      "text/plain": [
       "-86.14285714285714"
      ]
     },
     "execution_count": 101,
     "metadata": {},
     "output_type": "execute_result"
    }
   ],
   "source": [
    "x_bar"
   ]
  },
  {
   "cell_type": "code",
   "execution_count": 100,
   "metadata": {},
   "outputs": [
    {
     "data": {
      "text/plain": [
       "(-200.54672291008427, 28.261008624369993)"
      ]
     },
     "execution_count": 100,
     "metadata": {},
     "output_type": "execute_result"
    }
   ],
   "source": [
    "stats.t.interval(0.95, loc = x_bar, scale = se, df = n-1)"
   ]
  },
  {
   "cell_type": "markdown",
   "metadata": {
    "colab_type": "text",
    "id": "vVON7DP_J5lz"
   },
   "source": [
    "_________________"
   ]
  },
  {
   "cell_type": "markdown",
   "metadata": {
    "colab_type": "text",
    "id": "SdSPQGx8J5l3"
   },
   "source": [
    "# SECTION C: 30 MARKS"
   ]
  },
  {
   "cell_type": "markdown",
   "metadata": {
    "colab_type": "text",
    "id": "idKX-OFDJ5l4"
   },
   "source": [
    "_________________"
   ]
  },
  {
   "cell_type": "markdown",
   "metadata": {
    "colab_type": "text",
    "id": "rW06XfqWJ5l6"
   },
   "source": [
    "<span style=\"font-family: Arial; font-weight:bold;font-size:1.5em;\"> 7. The data set consists of complete educational details of students right from their schooling to MBA and previous work experience. Salary is the target variable.Use the dataframe \"Admission\".\n",
    "   \n",
    "\n",
    "Perform the following tasks on the data :\n",
    "\n",
    "i. List out the features( numerical and categorical) ?  (2 Marks )\n",
    "\n",
    "ii. Frame Null and Alternate Hypothesis and perform the required statistical tests between any 4 categorical features.(8 marks)\n",
    "\n",
    "\n",
    "iii. Is there any influence of gender on the Salary received ?Frame the hypothesis and perform the test. (3 Marks)\n",
    "\n",
    "iv. Interpret all the above test results. (2 Marks)\n",
    "\n",
    "\n",
    "**Note: Assume all continuous columns are normally distributed and have equal variance.**"
   ]
  },
  {
   "cell_type": "code",
   "execution_count": 35,
   "metadata": {},
   "outputs": [
    {
     "data": {
      "text/plain": [
       "Index(['SlNo', 'Percent_SSC', 'Percent_HSC', 'Percent_Degree',\n",
       "       'Experience_Yrs', 'Percentile_ET', 'Percent_MBA', 'Marks_Communication',\n",
       "       'Marks_Projectwork', 'Marks_BOCA', 'Salary'],\n",
       "      dtype='object')"
      ]
     },
     "execution_count": 35,
     "metadata": {},
     "output_type": "execute_result"
    }
   ],
   "source": [
    "# i)\n",
    "\n",
    "numerical_features = Admission.select_dtypes(include = np.number)\n",
    "numerical_features.columns"
   ]
  },
  {
   "cell_type": "code",
   "execution_count": 37,
   "metadata": {},
   "outputs": [
    {
     "data": {
      "text/plain": [
       "Index(['Gender', 'Board_SSC', 'Board_HSC', 'Stream_HSC', 'Course_Degree',\n",
       "       'Entrance_Test', 'Specialization_MBA', 'Placement'],\n",
       "      dtype='object')"
      ]
     },
     "execution_count": 37,
     "metadata": {},
     "output_type": "execute_result"
    }
   ],
   "source": [
    "categorical_features = Admission.select_dtypes(include = 'object')\n",
    "categorical_features.columns"
   ]
  },
  {
   "cell_type": "code",
   "execution_count": null,
   "metadata": {},
   "outputs": [],
   "source": [
    "# ii. Frame Null and Alternate Hypothesis and perform the required statistical tests between any 4 categorical features.(8 marks)\n",
    "\n"
   ]
  },
  {
   "cell_type": "code",
   "execution_count": null,
   "metadata": {},
   "outputs": [],
   "source": []
  },
  {
   "cell_type": "code",
   "execution_count": 41,
   "metadata": {},
   "outputs": [
    {
     "data": {
      "text/plain": [
       "Ttest_indResult(statistic=2.57570858963061, pvalue=0.010371783657249766)"
      ]
     },
     "execution_count": 41,
     "metadata": {},
     "output_type": "execute_result"
    }
   ],
   "source": [
    "# iii. Is there any influence of gender on the Salary received ?Frame the hypothesis and perform the test. (3 Marks)\n",
    "\n",
    "# H0: Average Salary is equal for both genders\n",
    "#        myu1 = myu2\n",
    "\n",
    "# H1: Average Salary is not equal for both genders\n",
    "#        myu1 != myu2\n",
    "\n",
    "\n",
    "# We assume data is normal and has equal var\n",
    "\n",
    "alpha = 0.05\n",
    "\n",
    "# We can perform 2 sample independent ttest\n",
    "\n",
    "salary_male = Admission[Admission['Gender']== 'M']['Salary']\n",
    "salary_female = Admission[Admission['Gender']== 'F']['Salary']\n",
    "\n",
    "\n",
    "stats.ttest_ind(salary_male,salary_female)"
   ]
  },
  {
   "cell_type": "code",
   "execution_count": null,
   "metadata": {},
   "outputs": [],
   "source": [
    "# since pvalue < alpha , we reject H0\n",
    "# we conclude that Average Salary is not equal for both genders\n",
    "# Gender has an effect on salary"
   ]
  },
  {
   "cell_type": "markdown",
   "metadata": {
    "colab_type": "text",
    "id": "9uWcdAZzJ5mY"
   },
   "source": [
    "<span style=\"font-family: Arial; font-weight:bold;font-size:1.5em;\"> 8.   Give the answers for the following hypothesis. Use the dataframe \"Outlet\".\n",
    "\n",
    "a.\tDoes Item fat content have any effect on item outlet sales?  ( 3 Marks )  \n",
    "\n",
    "b.\tDoes outlet establishment year have any effect on item outlet sales? ( 3 Marks )\n",
    "\n",
    "c.\tDoes item mrp have any effect on item outlet sales? ( 3 Marks )\n",
    "\n",
    "d.\tDoes item visibility have any effect on item outlet sales? ( 3 Marks )\n",
    "\n",
    "e.\tDoes item weight have any effect on item outlet sales?.(Drop the null values in the item weight) \n",
    "(3 Marks )\n",
    "\n",
    "**Note: Assume all the continuous columns are normally distributed and have equal variance.**"
   ]
  },
  {
   "cell_type": "code",
   "execution_count": 43,
   "metadata": {},
   "outputs": [
    {
     "data": {
      "text/plain": [
       "array(['Low Fat', 'Regular'], dtype=object)"
      ]
     },
     "execution_count": 43,
     "metadata": {},
     "output_type": "execute_result"
    }
   ],
   "source": [
    "# Does Item fat content have any effect on item outlet sales?\n",
    "\n",
    "Outlet['Item_Fat_Content'].unique()"
   ]
  },
  {
   "cell_type": "code",
   "execution_count": 48,
   "metadata": {},
   "outputs": [
    {
     "data": {
      "text/plain": [
       "Ttest_indResult(statistic=-0.9957231423832787, pvalue=0.3196270097113921)"
      ]
     },
     "execution_count": 48,
     "metadata": {},
     "output_type": "execute_result"
    }
   ],
   "source": [
    "# H0: The means of item outlet sales are equal for both groups of item fat content\n",
    "#            myu1 = myu2 \n",
    "\n",
    "# H1: The means of item outlet sales are not equal for both groups of item fat content\n",
    "#            myu1 != myu2 \n",
    "\n",
    "\n",
    "alpha = 0.05\n",
    "\n",
    "# We assume all data is normal and has equal variance \n",
    "\n",
    "# We perform independent two sample ttest\n",
    "\n",
    "x1 = Outlet[Outlet['Item_Fat_Content'] == 'Low Fat']['Item_Outlet_Sales']\n",
    "x2 = Outlet[Outlet['Item_Fat_Content'] == 'Regular']['Item_Outlet_Sales']\n",
    "\n",
    "stats.ttest_ind(x1,x2)"
   ]
  },
  {
   "cell_type": "code",
   "execution_count": null,
   "metadata": {},
   "outputs": [],
   "source": [
    "# since pvalue > alpha , we fail to reject H0\n",
    "# The means of item outlet sales are equal for both groups of item fat content\n",
    "# Item fat content does not have any effect on item outlet sales? "
   ]
  },
  {
   "cell_type": "code",
   "execution_count": 57,
   "metadata": {},
   "outputs": [],
   "source": [
    "# b. Does outlet establishment year have any effect on item outlet sales? ( 3 Marks )\n",
    "\n",
    "# H0: Means are equal for all groups\n",
    "\n",
    "# H1: At least one of the group means are unequal.\n",
    "\n",
    "# Assume data is normal and equal variance\n",
    "\n",
    "# We perform anova\n",
    "\n",
    "x1 = Outlet[Outlet['Outlet_Establishment_Year'] == 1985]['Item_Outlet_Sales']\n",
    "x2 = Outlet[Outlet['Outlet_Establishment_Year'] == 1987]['Item_Outlet_Sales']\n",
    "x3 = Outlet[Outlet['Outlet_Establishment_Year'] == 1997]['Item_Outlet_Sales']\n",
    "x4 = Outlet[Outlet['Outlet_Establishment_Year'] == 1998]['Item_Outlet_Sales']\n",
    "x5 = Outlet[Outlet['Outlet_Establishment_Year'] == 1999]['Item_Outlet_Sales']\n",
    "x6 = Outlet[Outlet['Outlet_Establishment_Year'] == 2002]['Item_Outlet_Sales']\n",
    "x7 = Outlet[Outlet['Outlet_Establishment_Year'] == 2004]['Item_Outlet_Sales']\n",
    "x8 = Outlet[Outlet['Outlet_Establishment_Year'] == 2007]['Item_Outlet_Sales']\n",
    "x9 = Outlet[Outlet['Outlet_Establishment_Year'] == 2009]['Item_Outlet_Sales']"
   ]
  },
  {
   "cell_type": "code",
   "execution_count": 58,
   "metadata": {},
   "outputs": [
    {
     "data": {
      "text/plain": [
       "F_onewayResult(statistic=11.511233526468702, pvalue=1.0245929453122375e-15)"
      ]
     },
     "execution_count": 58,
     "metadata": {},
     "output_type": "execute_result"
    }
   ],
   "source": [
    "stats.f_oneway(x1,x2,x3,x4,x5,x6,x7,x8,x9)"
   ]
  },
  {
   "cell_type": "code",
   "execution_count": null,
   "metadata": {},
   "outputs": [],
   "source": [
    "# pvalue < alpha , we reject H0\n",
    "# We infer that outlet establishment year has an effect on item outlet sales"
   ]
  },
  {
   "cell_type": "code",
   "execution_count": 52,
   "metadata": {},
   "outputs": [
    {
     "data": {
      "text/plain": [
       "1985    185\n",
       "1987    115\n",
       "1997    116\n",
       "1998     63\n",
       "1999     95\n",
       "2002    120\n",
       "2004    106\n",
       "2007    100\n",
       "2009     96\n",
       "Name: Outlet_Establishment_Year, dtype: int64"
      ]
     },
     "execution_count": 52,
     "metadata": {},
     "output_type": "execute_result"
    }
   ],
   "source": [
    "Outlet['Outlet_Establishment_Year'].value_counts().sort_index()"
   ]
  },
  {
   "cell_type": "code",
   "execution_count": 60,
   "metadata": {},
   "outputs": [
    {
     "data": {
      "text/plain": [
       "(0.5787814296566315, 3.855073937217271e-90)"
      ]
     },
     "execution_count": 60,
     "metadata": {},
     "output_type": "execute_result"
    }
   ],
   "source": [
    "# c. Does item mrp have any effect on item outlet sales? ( 3 Marks )\n",
    "\n",
    "# H0: The correlation coefficient is not signifcantly different from zero\n",
    "# H1 : The correlation coefficient is signifcantly different from zero\n",
    "\n",
    "# alpha = 0.05\n",
    "\n",
    "# Assume data is normal and and equal variance\n",
    "\n",
    "stats.pearsonr(Outlet['Item_MRP'],Outlet['Item_Outlet_Sales'])"
   ]
  },
  {
   "cell_type": "code",
   "execution_count": null,
   "metadata": {},
   "outputs": [],
   "source": [
    "# pvalue < alpha , we reject H0 \n",
    "# There is a positive linear correlation between item mrp and item outlet sales"
   ]
  },
  {
   "cell_type": "code",
   "execution_count": null,
   "metadata": {},
   "outputs": [],
   "source": [
    "# d. Does item visibility have any effect on item outlet sales? ( 3 Marks )"
   ]
  },
  {
   "cell_type": "code",
   "execution_count": 63,
   "metadata": {},
   "outputs": [
    {
     "data": {
      "text/plain": [
       "(-0.09329572831756384, 0.0032077360508418282)"
      ]
     },
     "execution_count": 63,
     "metadata": {},
     "output_type": "execute_result"
    }
   ],
   "source": [
    "# c. Does item mrp have any effect on item outlet sales? ( 3 Marks )\n",
    "\n",
    "# H0: The correlation coefficient is not signifcantly different from zero\n",
    "# H1 : The correlation coefficient is signifcantly different from zero\n",
    "\n",
    "\n",
    "# alpha = 0.05\n",
    "\n",
    "# Assume data is normal and and equal variance\n",
    "\n",
    "stats.pearsonr(Outlet['Item_Visibility'],Outlet['Item_Outlet_Sales'])"
   ]
  },
  {
   "cell_type": "code",
   "execution_count": null,
   "metadata": {},
   "outputs": [],
   "source": [
    "# pvalue < alpha , we reject H0\n",
    "# The correlation coefficient is signifcantly different from zero\n",
    "# indicating that there is a negative linear correlation"
   ]
  },
  {
   "cell_type": "code",
   "execution_count": 68,
   "metadata": {},
   "outputs": [
    {
     "data": {
      "text/plain": [
       "0.1857429718875502"
      ]
     },
     "execution_count": 68,
     "metadata": {},
     "output_type": "execute_result"
    }
   ],
   "source": [
    "# e. Does item weight have any effect on item outlet sales?.(Drop the null values in the item weight) \n",
    "\n",
    "\n",
    "# H0: The correlation coefficient is not signifcantly different from zero\n",
    "# H1 : The correlation coefficient is signifcantly different from zero\n",
    "\n",
    "\n",
    "# alpha = 0.05\n",
    "\n",
    "# Assume data is normal and and equal variance\n",
    "\n",
    "# checking for % of null values\n",
    "\n",
    "Outlet['Item_Weight'].isnull().sum()/len(Outlet)"
   ]
  },
  {
   "cell_type": "code",
   "execution_count": 70,
   "metadata": {},
   "outputs": [],
   "source": [
    "# filling null values with mean\n",
    "\n",
    "Outlet['Item_Weight'].fillna(Outlet['Item_Weight'].mean(), inplace = True)"
   ]
  },
  {
   "cell_type": "code",
   "execution_count": 71,
   "metadata": {},
   "outputs": [
    {
     "data": {
      "text/plain": [
       "(0.016423558533484373, 0.6046656413170555)"
      ]
     },
     "execution_count": 71,
     "metadata": {},
     "output_type": "execute_result"
    }
   ],
   "source": [
    "stats.pearsonr(Outlet['Item_Weight'],Outlet['Item_Outlet_Sales'])"
   ]
  },
  {
   "cell_type": "code",
   "execution_count": null,
   "metadata": {},
   "outputs": [],
   "source": [
    "# since pvalue > alpha , we fail to reject H0\n",
    "# H0: The correlation coefficient is not signifcantly different from zero"
   ]
  },
  {
   "cell_type": "code",
   "execution_count": 64,
   "metadata": {
    "colab": {},
    "colab_type": "code",
    "id": "pzLIu4EvJ5mw"
   },
   "outputs": [
    {
     "data": {
      "text/html": [
       "<div>\n",
       "<style scoped>\n",
       "    .dataframe tbody tr th:only-of-type {\n",
       "        vertical-align: middle;\n",
       "    }\n",
       "\n",
       "    .dataframe tbody tr th {\n",
       "        vertical-align: top;\n",
       "    }\n",
       "\n",
       "    .dataframe thead th {\n",
       "        text-align: right;\n",
       "    }\n",
       "</style>\n",
       "<table border=\"1\" class=\"dataframe\">\n",
       "  <thead>\n",
       "    <tr style=\"text-align: right;\">\n",
       "      <th></th>\n",
       "      <th>Item_Identifier</th>\n",
       "      <th>Item_Weight</th>\n",
       "      <th>Item_Fat_Content</th>\n",
       "      <th>Item_Visibility</th>\n",
       "      <th>Item_Type</th>\n",
       "      <th>Item_MRP</th>\n",
       "      <th>Outlet_Identifier</th>\n",
       "      <th>Outlet_Establishment_Year</th>\n",
       "      <th>Outlet_Size</th>\n",
       "      <th>Outlet_Location_Type</th>\n",
       "      <th>Outlet_Type</th>\n",
       "      <th>Item_Outlet_Sales</th>\n",
       "    </tr>\n",
       "  </thead>\n",
       "  <tbody>\n",
       "    <tr>\n",
       "      <th>0</th>\n",
       "      <td>FDA15</td>\n",
       "      <td>9.300</td>\n",
       "      <td>Low Fat</td>\n",
       "      <td>0.016047</td>\n",
       "      <td>Dairy</td>\n",
       "      <td>249.8092</td>\n",
       "      <td>OUT049</td>\n",
       "      <td>1999</td>\n",
       "      <td>Medium</td>\n",
       "      <td>Tier 1</td>\n",
       "      <td>Supermarket Type1</td>\n",
       "      <td>3735.1380</td>\n",
       "    </tr>\n",
       "    <tr>\n",
       "      <th>1</th>\n",
       "      <td>DRC01</td>\n",
       "      <td>5.920</td>\n",
       "      <td>Regular</td>\n",
       "      <td>0.019278</td>\n",
       "      <td>Soft Drinks</td>\n",
       "      <td>48.2692</td>\n",
       "      <td>OUT018</td>\n",
       "      <td>2009</td>\n",
       "      <td>Medium</td>\n",
       "      <td>Tier 3</td>\n",
       "      <td>Supermarket Type2</td>\n",
       "      <td>443.4228</td>\n",
       "    </tr>\n",
       "    <tr>\n",
       "      <th>2</th>\n",
       "      <td>FDN15</td>\n",
       "      <td>17.500</td>\n",
       "      <td>Low Fat</td>\n",
       "      <td>0.016760</td>\n",
       "      <td>Meat</td>\n",
       "      <td>141.6180</td>\n",
       "      <td>OUT049</td>\n",
       "      <td>1999</td>\n",
       "      <td>Medium</td>\n",
       "      <td>Tier 1</td>\n",
       "      <td>Supermarket Type1</td>\n",
       "      <td>2097.2700</td>\n",
       "    </tr>\n",
       "    <tr>\n",
       "      <th>3</th>\n",
       "      <td>FDX07</td>\n",
       "      <td>19.200</td>\n",
       "      <td>Regular</td>\n",
       "      <td>0.000000</td>\n",
       "      <td>Fruits and Vegetables</td>\n",
       "      <td>182.0950</td>\n",
       "      <td>OUT010</td>\n",
       "      <td>1998</td>\n",
       "      <td>NaN</td>\n",
       "      <td>Tier 3</td>\n",
       "      <td>Grocery Store</td>\n",
       "      <td>732.3800</td>\n",
       "    </tr>\n",
       "    <tr>\n",
       "      <th>4</th>\n",
       "      <td>NCD19</td>\n",
       "      <td>8.930</td>\n",
       "      <td>Low Fat</td>\n",
       "      <td>0.000000</td>\n",
       "      <td>Household</td>\n",
       "      <td>53.8614</td>\n",
       "      <td>OUT013</td>\n",
       "      <td>1987</td>\n",
       "      <td>High</td>\n",
       "      <td>Tier 3</td>\n",
       "      <td>Supermarket Type1</td>\n",
       "      <td>994.7052</td>\n",
       "    </tr>\n",
       "    <tr>\n",
       "      <th>5</th>\n",
       "      <td>FDP36</td>\n",
       "      <td>10.395</td>\n",
       "      <td>Regular</td>\n",
       "      <td>0.000000</td>\n",
       "      <td>Baking Goods</td>\n",
       "      <td>51.4008</td>\n",
       "      <td>OUT018</td>\n",
       "      <td>2009</td>\n",
       "      <td>Medium</td>\n",
       "      <td>Tier 3</td>\n",
       "      <td>Supermarket Type2</td>\n",
       "      <td>556.6088</td>\n",
       "    </tr>\n",
       "    <tr>\n",
       "      <th>6</th>\n",
       "      <td>FDO10</td>\n",
       "      <td>13.650</td>\n",
       "      <td>Regular</td>\n",
       "      <td>0.012741</td>\n",
       "      <td>Snack Foods</td>\n",
       "      <td>57.6588</td>\n",
       "      <td>OUT013</td>\n",
       "      <td>1987</td>\n",
       "      <td>High</td>\n",
       "      <td>Tier 3</td>\n",
       "      <td>Supermarket Type1</td>\n",
       "      <td>343.5528</td>\n",
       "    </tr>\n",
       "    <tr>\n",
       "      <th>7</th>\n",
       "      <td>FDP10</td>\n",
       "      <td>NaN</td>\n",
       "      <td>Low Fat</td>\n",
       "      <td>0.127470</td>\n",
       "      <td>Snack Foods</td>\n",
       "      <td>107.7622</td>\n",
       "      <td>OUT027</td>\n",
       "      <td>1985</td>\n",
       "      <td>Medium</td>\n",
       "      <td>Tier 3</td>\n",
       "      <td>Supermarket Type3</td>\n",
       "      <td>4022.7636</td>\n",
       "    </tr>\n",
       "    <tr>\n",
       "      <th>8</th>\n",
       "      <td>FDH17</td>\n",
       "      <td>16.200</td>\n",
       "      <td>Regular</td>\n",
       "      <td>0.016687</td>\n",
       "      <td>Frozen Foods</td>\n",
       "      <td>96.9726</td>\n",
       "      <td>OUT045</td>\n",
       "      <td>2002</td>\n",
       "      <td>NaN</td>\n",
       "      <td>Tier 2</td>\n",
       "      <td>Supermarket Type1</td>\n",
       "      <td>1076.5986</td>\n",
       "    </tr>\n",
       "    <tr>\n",
       "      <th>9</th>\n",
       "      <td>FDU28</td>\n",
       "      <td>19.200</td>\n",
       "      <td>Regular</td>\n",
       "      <td>0.094450</td>\n",
       "      <td>Frozen Foods</td>\n",
       "      <td>187.8214</td>\n",
       "      <td>OUT017</td>\n",
       "      <td>2007</td>\n",
       "      <td>NaN</td>\n",
       "      <td>Tier 2</td>\n",
       "      <td>Supermarket Type1</td>\n",
       "      <td>4710.5350</td>\n",
       "    </tr>\n",
       "  </tbody>\n",
       "</table>\n",
       "</div>"
      ],
      "text/plain": [
       "  Item_Identifier  Item_Weight Item_Fat_Content  Item_Visibility  \\\n",
       "0           FDA15        9.300          Low Fat         0.016047   \n",
       "1           DRC01        5.920          Regular         0.019278   \n",
       "2           FDN15       17.500          Low Fat         0.016760   \n",
       "3           FDX07       19.200          Regular         0.000000   \n",
       "4           NCD19        8.930          Low Fat         0.000000   \n",
       "5           FDP36       10.395          Regular         0.000000   \n",
       "6           FDO10       13.650          Regular         0.012741   \n",
       "7           FDP10          NaN          Low Fat         0.127470   \n",
       "8           FDH17       16.200          Regular         0.016687   \n",
       "9           FDU28       19.200          Regular         0.094450   \n",
       "\n",
       "               Item_Type  Item_MRP Outlet_Identifier  \\\n",
       "0                  Dairy  249.8092            OUT049   \n",
       "1            Soft Drinks   48.2692            OUT018   \n",
       "2                   Meat  141.6180            OUT049   \n",
       "3  Fruits and Vegetables  182.0950            OUT010   \n",
       "4              Household   53.8614            OUT013   \n",
       "5           Baking Goods   51.4008            OUT018   \n",
       "6            Snack Foods   57.6588            OUT013   \n",
       "7            Snack Foods  107.7622            OUT027   \n",
       "8           Frozen Foods   96.9726            OUT045   \n",
       "9           Frozen Foods  187.8214            OUT017   \n",
       "\n",
       "   Outlet_Establishment_Year Outlet_Size Outlet_Location_Type  \\\n",
       "0                       1999      Medium               Tier 1   \n",
       "1                       2009      Medium               Tier 3   \n",
       "2                       1999      Medium               Tier 1   \n",
       "3                       1998         NaN               Tier 3   \n",
       "4                       1987        High               Tier 3   \n",
       "5                       2009      Medium               Tier 3   \n",
       "6                       1987        High               Tier 3   \n",
       "7                       1985      Medium               Tier 3   \n",
       "8                       2002         NaN               Tier 2   \n",
       "9                       2007         NaN               Tier 2   \n",
       "\n",
       "         Outlet_Type  Item_Outlet_Sales  \n",
       "0  Supermarket Type1          3735.1380  \n",
       "1  Supermarket Type2           443.4228  \n",
       "2  Supermarket Type1          2097.2700  \n",
       "3      Grocery Store           732.3800  \n",
       "4  Supermarket Type1           994.7052  \n",
       "5  Supermarket Type2           556.6088  \n",
       "6  Supermarket Type1           343.5528  \n",
       "7  Supermarket Type3          4022.7636  \n",
       "8  Supermarket Type1          1076.5986  \n",
       "9  Supermarket Type1          4710.5350  "
      ]
     },
     "execution_count": 64,
     "metadata": {},
     "output_type": "execute_result"
    }
   ],
   "source": [
    "Outlet.head(10)"
   ]
  },
  {
   "cell_type": "code",
   "execution_count": null,
   "metadata": {},
   "outputs": [],
   "source": []
  }
 ],
 "metadata": {
  "colab": {
   "name": "Final_STAT_Set7_Question.ipynb",
   "provenance": []
  },
  "kernelspec": {
   "display_name": "Python 3",
   "language": "python",
   "name": "python3"
  },
  "language_info": {
   "codemirror_mode": {
    "name": "ipython",
    "version": 3
   },
   "file_extension": ".py",
   "mimetype": "text/x-python",
   "name": "python",
   "nbconvert_exporter": "python",
   "pygments_lexer": "ipython3",
   "version": "3.8.8"
  }
 },
 "nbformat": 4,
 "nbformat_minor": 1
}
