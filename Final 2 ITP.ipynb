{
 "cells": [
  {
   "cell_type": "markdown",
   "metadata": {},
   "source": [
    "# INTRODUCTION TO PYTHON FINAL EXAM"
   ]
  },
  {
   "cell_type": "markdown",
   "metadata": {},
   "source": [
    "# SECTION A: 20 MARKS"
   ]
  },
  {
   "cell_type": "markdown",
   "metadata": {},
   "source": [
    " _________________"
   ]
  },
  {
   "cell_type": "markdown",
   "metadata": {},
   "source": [
    "### 1. The acre is a unit used to measure land in the imperial and US customary systems. One acre of land is equal to 43,560 square feet.  (5 Marks)\n",
    "\n",
    "Write a python program that accepts the measure of land in square feet and returns the measure in acres.\n",
    "\n",
    "\n",
    "Sample Input: 875687\n",
    "\n",
    "Sample Output: 20.10"
   ]
  },
  {
   "cell_type": "code",
   "execution_count": 33,
   "metadata": {},
   "outputs": [
    {
     "name": "stdout",
     "output_type": "stream",
     "text": [
      "Please enter the measure of land in square feet: 875687\n",
      "\n",
      " 875687 Square feet is equal to 20.1 Acres.\n"
     ]
    }
   ],
   "source": [
    "#Square feet to Acre conversion\n",
    "\n",
    "sq_feet = int(input(\"Please enter the measure of land in square feet: \"))\n",
    "\n",
    "acre = sq_feet/43560\n",
    "\n",
    "print(\"\\n\",sq_feet,\"Square feet is equal to\", round(acre,2) , \"Acres.\")"
   ]
  },
  {
   "cell_type": "markdown",
   "metadata": {},
   "source": [
    "### 2. Fibonacci Series is computed based on the following formula:                                          (5 marks)\n",
    "\n",
    "f(n)=0 if n=0\n",
    "\n",
    "f(n)=1 if n=1\n",
    "\n",
    "f(n)=f(n-1)+f(n-2) if n>1\n",
    "\n",
    "Write a program using list comprehension to print the Fibonacci Sequence in the comma-separated form with a given n input by \n",
    "\n",
    "user input.\n",
    "\n",
    "Sample input: 5\n",
    "\n",
    "Output:  \t0,1,1,2,\n"
   ]
  },
  {
   "cell_type": "code",
   "execution_count": 21,
   "metadata": {},
   "outputs": [
    {
     "name": "stdout",
     "output_type": "stream",
     "text": [
      "Enter the value of n: 5\n",
      "0 ,1 ,1 ,2 ,"
     ]
    }
   ],
   "source": [
    "#Input of value n\n",
    "n = int(input(\"Enter the value of n: \"))\n",
    "fibonacci = [0,1]\n",
    "if(n==0):\n",
    "    print(fibonacci[0])\n",
    "elif(n==1):\n",
    "    print(fibonacci[1])\n",
    "else:\n",
    "    [fibonacci.append(fibonacci[j-1]+fibonacci[j-2]) for j in range(2,n-1)]\n",
    "    for i in fibonacci:\n",
    "        print(i,',',end='')"
   ]
  },
  {
   "cell_type": "markdown",
   "metadata": {
    "colab_type": "text",
    "id": "S3SRojUJ4Wmv"
   },
   "source": [
    "### 3.Professor told the student that Today is Thursday. what day of the week will it be in 46 days of time from today (Thursday)?"
   ]
  },
  {
   "cell_type": "code",
   "execution_count": 27,
   "metadata": {},
   "outputs": [
    {
     "name": "stdout",
     "output_type": "stream",
     "text": [
      "The day after 46 days if today is a Thursday is Monday\n"
     ]
    }
   ],
   "source": [
    "import datetime\n",
    "from datetime import date\n",
    "d = date(2020,10,1) # Thursday\n",
    "x = d+datetime.timedelta(46)\n",
    "print(\"The day after 46 days if today is a Thursday is\", x.strftime('%A'))"
   ]
  },
  {
   "cell_type": "markdown",
   "metadata": {
    "colab_type": "text",
    "id": "2z169KcQ4Wnp"
   },
   "source": [
    "### 4. Given a string s find the number of white spaces in the given string s.\n",
    "  \n",
    " Input Format\n",
    " \n",
    " Take Input String S\n",
    " \n",
    " Output Format\n",
    " \n",
    " Number Of White Spaces In S\n",
    " \n",
    " Constraints\n",
    " 0 < S < 100001\n",
    "  \n",
    " \n",
    " SAMPLE INPUT\n",
    " \n",
    " Hello World\n",
    "  \n",
    " SAMPLE OUTPUT: 1"
   ]
  },
  {
   "cell_type": "code",
   "execution_count": 8,
   "metadata": {},
   "outputs": [
    {
     "name": "stdout",
     "output_type": "stream",
     "text": [
      "The number of White Spaces are 1\n"
     ]
    }
   ],
   "source": [
    "str = \"Hello World\"\n",
    "str_list = list(str)\n",
    "count = 0\n",
    "if len(str_list)>0 and len(str_list)<100001:\n",
    "    for i in str_list:\n",
    "        if (i == \" \"):\n",
    "            count+=1\n",
    "else:\n",
    "    print(\"Invalid String\")\n",
    "print(\"The number of White Spaces are\", count)"
   ]
  },
  {
   "cell_type": "markdown",
   "metadata": {},
   "source": [
    "# SECTION B: 20 MARKS"
   ]
  },
  {
   "cell_type": "markdown",
   "metadata": {},
   "source": [
    "---------------------"
   ]
  },
  {
   "cell_type": "markdown",
   "metadata": {},
   "source": [
    "### 5 .Write a code to i) extract name elements alone, ii) multiply the number element by 6.07, iii) check whether the name element is carbon (use map). (10 Marks)\n",
    "d=[{'name':'hydrogen','number':1,'weight':1.0},{'name':'carbon','number':2,'weight':4.002}]"
   ]
  },
  {
   "cell_type": "code",
   "execution_count": 9,
   "metadata": {},
   "outputs": [],
   "source": [
    "d=[{'name':'hydrogen','number':1,'weight':1.0},{'name':'carbon','number':2,'weight':4.002}]"
   ]
  },
  {
   "cell_type": "code",
   "execution_count": 10,
   "metadata": {},
   "outputs": [
    {
     "data": {
      "text/plain": [
       "['hydrogen', 'carbon']"
      ]
     },
     "execution_count": 10,
     "metadata": {},
     "output_type": "execute_result"
    }
   ],
   "source": [
    "#i)\n",
    "list(map(lambda i : i['name'],d))"
   ]
  },
  {
   "cell_type": "code",
   "execution_count": 11,
   "metadata": {},
   "outputs": [
    {
     "data": {
      "text/plain": [
       "[6.07, 12.14]"
      ]
     },
     "execution_count": 11,
     "metadata": {},
     "output_type": "execute_result"
    }
   ],
   "source": [
    "#ii)\n",
    "\n",
    "list(map(lambda i : i['number']*6.07,d))"
   ]
  },
  {
   "cell_type": "code",
   "execution_count": 2,
   "metadata": {},
   "outputs": [
    {
     "ename": "NameError",
     "evalue": "name 'd' is not defined",
     "output_type": "error",
     "traceback": [
      "\u001b[1;31m---------------------------------------------------------------------------\u001b[0m",
      "\u001b[1;31mNameError\u001b[0m                                 Traceback (most recent call last)",
      "\u001b[1;32m<ipython-input-2-18f2522e71ed>\u001b[0m in \u001b[0;36m<module>\u001b[1;34m\u001b[0m\n\u001b[0;32m      1\u001b[0m \u001b[1;31m#iii)\u001b[0m\u001b[1;33m\u001b[0m\u001b[1;33m\u001b[0m\u001b[1;33m\u001b[0m\u001b[0m\n\u001b[0;32m      2\u001b[0m \u001b[1;33m\u001b[0m\u001b[0m\n\u001b[1;32m----> 3\u001b[1;33m \u001b[0mlist\u001b[0m\u001b[1;33m(\u001b[0m\u001b[0mmap\u001b[0m\u001b[1;33m(\u001b[0m\u001b[1;32mlambda\u001b[0m \u001b[0mi\u001b[0m \u001b[1;33m:\u001b[0m \u001b[0mi\u001b[0m\u001b[1;33m[\u001b[0m\u001b[1;34m'name'\u001b[0m\u001b[1;33m]\u001b[0m\u001b[1;33m==\u001b[0m\u001b[1;34m'carbon'\u001b[0m\u001b[1;33m,\u001b[0m\u001b[0md\u001b[0m\u001b[1;33m)\u001b[0m\u001b[1;33m)\u001b[0m\u001b[1;33m\u001b[0m\u001b[1;33m\u001b[0m\u001b[0m\n\u001b[0m",
      "\u001b[1;31mNameError\u001b[0m: name 'd' is not defined"
     ]
    }
   ],
   "source": [
    "#iii)\n",
    "\n",
    "list(map(lambda i : i['name']=='carbon',d))"
   ]
  },
  {
   "cell_type": "markdown",
   "metadata": {},
   "source": [
    "### 6.Python program which accepts 4 digit binary numbers input = 0100,0011,1010,1001 it will check divisible by 5 or not?  (10 Marks)\n"
   ]
  },
  {
   "cell_type": "code",
   "execution_count": 6,
   "metadata": {},
   "outputs": [
    {
     "name": "stdout",
     "output_type": "stream",
     "text": [
      "Enter the Binary numbers: 1010\n",
      "['1010'] is the number divisible by 5\n"
     ]
    }
   ],
   "source": [
    "bin = []\n",
    "num = [i for i in input(\"Enter the Binary numbers: \").split(',')]\n",
    "for p in num:\n",
    "    x = int(p,2)\n",
    "    if not x%5:\n",
    "        bin.append(p)\n",
    "if len(bin) == 1:\n",
    "    print(bin,\"is the number divisible by 5\")\n",
    "else:\n",
    "    print(','.join(bin), \"is/are the numbers divisible by 5\")"
   ]
  },
  {
   "cell_type": "markdown",
   "metadata": {},
   "source": [
    "# SECTION C: 30 MARKS"
   ]
  },
  {
   "cell_type": "markdown",
   "metadata": {},
   "source": [
    " _________________"
   ]
  },
  {
   "cell_type": "markdown",
   "metadata": {},
   "source": [
    "### 7 .Write a Python Program to swap the first and last elements in the list? (10 Marks)\n",
    "\n",
    "    A. Get the input count of \"number of elements in a list\"\n",
    "    B. Get the input of the elements one by one and create a list\n",
    "    C. Create a program to swap the first and last elements in the list\n",
    "    D. Display the results of the list before and after"
   ]
  },
  {
   "cell_type": "code",
   "execution_count": 39,
   "metadata": {},
   "outputs": [
    {
     "name": "stdout",
     "output_type": "stream",
     "text": [
      "Enter the number of elements in the list: 3\n",
      "Enter the element:1\n",
      "Enter the element:4\n",
      "Enter the element:[3,4,5,6,7]\n",
      "Before:  ['1', '4', '[3,4,5,6,7]']\n",
      "After:  ['[3,4,5,6,7]', '4', '1']\n"
     ]
    }
   ],
   "source": [
    "n = int(input(\"Enter the number of elements in the list: \"))\n",
    "list1 = []\n",
    "list2 = []\n",
    "for i in range(0,n):\n",
    "    element = input(\"Enter the element:\")\n",
    "    list1.append(element)\n",
    "list2 = list1.copy()\n",
    "list2[0] = list1[-1]\n",
    "list2[-1] = list1[0]\n",
    "print(\"Before: \", list1)\n",
    "print(\"After: \", list2)"
   ]
  },
  {
   "cell_type": "markdown",
   "metadata": {
    "colab_type": "text",
    "id": "RYzl6Uxso9NV"
   },
   "source": [
    "### 8. Python Program With removing all duplicate and give the original order reserved in Given List = [12,6,4,7,4,7,67,88,99,355,7887,6,467,88,4,77,8]? (10 Marks)"
   ]
  },
  {
   "cell_type": "code",
   "execution_count": 43,
   "metadata": {},
   "outputs": [
    {
     "name": "stdout",
     "output_type": "stream",
     "text": [
      "The final list with the Original Order:  [12, 6, 4, 7, 67, 88, 99, 355, 7887, 467, 77, 8]\n"
     ]
    }
   ],
   "source": [
    "Given_list = [12,6,4,7,4,7,67,88,99,355,7887,6,467,88,4,77,8]\n",
    "\n",
    "unique = set()\n",
    "original_list = []\n",
    "\n",
    "for i in Given_list:\n",
    "    if i not in unique:\n",
    "        original_list.append(i)\n",
    "        unique.add(i)\n",
    "        \n",
    "print(\"The final list with the Original Order: \",original_list)"
   ]
  },
  {
   "cell_type": "markdown",
   "metadata": {
    "colab_type": "text",
    "id": "RYzl6Uxso9NV"
   },
   "source": [
    "### 9. We have two Sensors in a wind turbine, a and b, and the parameters a_sensor and b_sensor indicate if each has a signal. We are in trouble if they are both ON or if neither of them isOFF. Return True if we are in trouble.Test it using a_sensor as True and b_sensor as False (10 Marks)\n",
    "   "
   ]
  },
  {
   "cell_type": "code",
   "execution_count": 8,
   "metadata": {},
   "outputs": [],
   "source": [
    "def istrouble(a_sensor,b_sensor):\n",
    "    if a_sensor.lower()=='true':\n",
    "        if b_sensor.lower()=='true':\n",
    "            return True\n",
    "        else:\n",
    "            return False\n",
    "    else: \n",
    "        return False"
   ]
  },
  {
   "cell_type": "code",
   "execution_count": 7,
   "metadata": {},
   "outputs": [
    {
     "name": "stdout",
     "output_type": "stream",
     "text": [
      "Enter status of Turbine a (ON: True, OFF: False): True\n",
      "Enter status of Turbine b (ON: True, OFF: False): False\n",
      "Trouble:  False\n"
     ]
    }
   ],
   "source": [
    "while(True):\n",
    "    a_sensor = input(\"Enter status of Turbine a (ON: True, OFF: False): \")\n",
    "    b_sensor = input(\"Enter status of Turbine b (ON: True, OFF: False): \")\n",
    "    if a_sensor.lower() not in ['true','false'] or b_sensor.lower() not in ['true','false']:\n",
    "        print(\"INVALID INPUT. Please enter valid input\\n\")\n",
    "        continue;\n",
    "    inp = istrouble(a_sensor,b_sensor)\n",
    "    break;\n",
    "if inp == True:\n",
    "    print(\"Trouble: \", True)\n",
    "else:\n",
    "    print(\"Trouble: \", False)"
   ]
  },
  {
   "cell_type": "code",
   "execution_count": null,
   "metadata": {},
   "outputs": [],
   "source": []
  },
  {
   "cell_type": "code",
   "execution_count": null,
   "metadata": {},
   "outputs": [],
   "source": []
  }
 ],
 "metadata": {
  "colab": {
   "collapsed_sections": [],
   "name": "ITP_MID_1.ipynb",
   "provenance": []
  },
  "kernelspec": {
   "display_name": "Python 3 (ipykernel)",
   "language": "python",
   "name": "python3"
  },
  "language_info": {
   "codemirror_mode": {
    "name": "ipython",
    "version": 3
   },
   "file_extension": ".py",
   "mimetype": "text/x-python",
   "name": "python",
   "nbconvert_exporter": "python",
   "pygments_lexer": "ipython3",
   "version": "3.9.7"
  }
 },
 "nbformat": 4,
 "nbformat_minor": 1
}
