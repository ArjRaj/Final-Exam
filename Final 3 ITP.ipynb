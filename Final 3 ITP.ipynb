{
 "cells": [
  {
   "cell_type": "markdown",
   "metadata": {},
   "source": [
    "### 1 Create a dictionary with a single alphabet as the key and an integer as the corresponding value. Write a program to find out the highest 3 values in the dictionary. You are free to choose any number of key and value pairs. Innovative code gets more marks as an advantage(5 Marks 5 Marks5 Marks 5 Marks) INPUT: Initial Dictionary: {'A': 67, 'B': 23, 'C': 45, 'D': 56, 'E': 12, 'F': 69}"
   ]
  },
  {
   "cell_type": "markdown",
   "metadata": {},
   "source": [
    "#### OUTPUT: Dictionary with 3 highest values: Keys: Values F: 69 A: 67 D: 56"
   ]
  },
  {
   "cell_type": "code",
   "execution_count": 1,
   "metadata": {},
   "outputs": [
    {
     "name": "stdout",
     "output_type": "stream",
     "text": [
      "Initial Dictionary:\n",
      "{'A': 67, 'B': 23, 'C': 45, 'D': 56, 'E': 12, 'F': 69} \n",
      "\n",
      "Dictionary with 3 highest values:\n",
      "Keys: Values\n",
      "F : 69\n",
      "A : 67\n",
      "D : 56\n"
     ]
    }
   ],
   "source": [
    "  \n",
    "from heapq import nlargest \n",
    "  \n",
    "\n",
    "dict1 = {'A': 67, 'B': 23, 'C': 45, \n",
    "           'D': 56, 'E': 12, 'F': 69} \n",
    "  \n",
    "print(\"Initial Dictionary:\") \n",
    "print(dict1, \"\\n\") \n",
    "  \n",
    "Three_highest_values= nlargest(3,dict1, key =dict1.get) \n",
    "  \n",
    "print(\"Dictionary with 3 highest values:\") \n",
    "print(\"Keys: Values\") \n",
    "\n",
    "for val in Three_highest_values: \n",
    "    print(val, \":\",dict1.get(val)) "
   ]
  },
  {
   "cell_type": "markdown",
   "metadata": {},
   "source": [
    "### 2.Ram built his own house and was confused about what name he should keep for it. He asked his friend Shyam to help, Roman for help. Shyam suggested a lot of names. Ram has certain conditions for the name: ( 5 Marks)( 5 Marks)( 5 Marks) ( 5 Marks)( 5 Marks) 1. It should consist of exactly three distinct characters, say C1, C2 and C3 2. It should satisfy the criteria that the string was of the form - C1n C2n C3n: This means, first C1 occurs n times, then C2 occurs n times and then C3 occurs n times. For example, xyz, ccaarr, mmmiiiaaa satisfy the criteria, but xyzw, aabbbcccc don't. Given N names suggested by Shyam, print \"OK\" if Ram likes the name and \"Not OK\" if he doesn't. Input: First-line contains a single positive integer N - the number of names. N lines follow - each line contains a name. Output: For each name, Print \"OK\" if the name satisfies the criteria, else print \"Not OK\", on a new line. Constraints: 1 ≤ N ≤ 100 1 ≤ Length of names ≤ 500 Names contain only lowercase English alphabets SAMPLE INPUT 2 bbbrrriii brian SAMPLE OUTPUT OK Not OK"
   ]
  },
  {
   "cell_type": "code",
   "execution_count": 2,
   "metadata": {},
   "outputs": [
    {
     "name": "stdout",
     "output_type": "stream",
     "text": [
      "2\n",
      "bbbrrriii\n",
      "OK\n",
      "brian\n",
      "Not OK\n"
     ]
    }
   ],
   "source": [
    "def condition_(name):\n",
    "    a = 0\n",
    "    m = name[0]\n",
    "    for i in name[1:]:\n",
    "        if m != i:\n",
    "            a += 1\n",
    "            if a > 2:\n",
    "                return False\n",
    "        m=i\n",
    "    return True\n",
    " \n",
    "M = int(input())\n",
    "for j in range(M):\n",
    "    name = input()\n",
    "    if len(set(list(name))) == 3 and condition_(name):\n",
    "        print(\"OK\")\n",
    "    else:\n",
    "        print(\"Not OK\")"
   ]
  },
  {
   "cell_type": "markdown",
   "metadata": {},
   "source": [
    "### 3. A string is said to be complete if it contains all the characters from a to z. Given a string, check if it completes or not. ( 5 marks)( 5 marks)( 5 marks)( 5 marks)( 5 marks) ( 5 marks) Input: The first line of the input contains the number of strings N. It is followed by N lines each contains a single string. Output: For each test case print \"YES\" if the string is complete, else print \"NO\" Constraints 1 <= N <= 10 The length of the string is at max 100 and the string contains only the characters a to z SAMPLE INPUT: 3 wyyga qwertyuioplkjhgfdsazxcvbnm ejuxggfsts SAMPLE OUTPUT\n",
    "### NO\n",
    "### YES\n",
    "### NO"
   ]
  },
  {
   "cell_type": "code",
   "execution_count": 1,
   "metadata": {},
   "outputs": [
    {
     "name": "stdout",
     "output_type": "stream",
     "text": [
      "No.of Strings :3\n",
      "String :wyyga\n",
      "NO\n",
      "String :qwertyuioplkjhgfdsazxcvbnm\n",
      "YES\n",
      "String :ejuxggfsts\n",
      "NO\n"
     ]
    }
   ],
   "source": [
    "N= int(input('No.of Strings :'))     \n",
    "\n",
    "while N >0:\n",
    "    N-=1\n",
    "    String = input('String :')  \n",
    "    list1 =list(String.lower())\n",
    "    if (len(set(list1))==26):\n",
    "        print('YES')\n",
    "    else:\n",
    "        print('NO')"
   ]
  },
  {
   "cell_type": "markdown",
   "metadata": {},
   "source": [
    "### 4. Given A String S Find The Number Of White Spaces In The Given String S. ( 5 marks)\n",
    "Input Format\n",
    "Take Input String S\n",
    "Output Format\n",
    "Number Of White Spaces In S\n",
    "Constraints\n",
    "0 < S < 100001\n",
    "SAMPLE INPUT\n",
    "Hello World\n",
    "SAMPLE OUTPUT 1"
   ]
  },
  {
   "cell_type": "code",
   "execution_count": 3,
   "metadata": {},
   "outputs": [
    {
     "name": "stdout",
     "output_type": "stream",
     "text": [
      "Hello World\n",
      "Input : Hello World\n",
      "Number of white spaces in S is :  1\n"
     ]
    }
   ],
   "source": [
    "s=str(input())\n",
    "count=0\n",
    "for i in s:\n",
    "    if i==\" \":\n",
    "        count=count+1\n",
    "\n",
    "print(\"Input :\",s)        \n",
    "print(\"Number of white spaces in S is : \",count)"
   ]
  },
  {
   "cell_type": "markdown",
   "metadata": {},
   "source": [
    "### 5. A Basket of Halloween candy has an unknown amount of candy and you need to guess exactly how much candy is in the bowl. You ask the person in charge a few questions to makea correct guess. If the candy is divided evenly among 5 people, how many pieces would beleftover? The answer is 2 pieces. You then ask about dividing the candy evenly among 6 people, and the amount left over is 3 pieces. Finally, you ask about dividing the candy evenly among 7 people, and the amount left over is 2 pieces. By looking at the bowl, you can tell that there are less than 200 pieces. Write a program to determine how many pieces are in the bowl.\n",
    "(10 Marks)\n",
    "1. SAMPLE INPUT:\n",
    "If the candy is divided evenly among 5 people, how many pieces would be leftover?\n",
    "2\n",
    "If the candy is divided evenly among 6 people, how many pieces would be leftover?\n",
    "3\n",
    "If the candy is divided evenly among 7 people, how many pieces would be leftover?\n",
    "2\n",
    "1. SAMPLE OUTPUT:\n",
    "Number of candies in the jar: 177\n",
    "2. SAMPLE INPUT :\n",
    "If the candy is divided evenly among 5 people, how many pieces would be leftover?\n",
    "2\n",
    "If the candy is divided evenly among 6 people, how many pieces would be leftover?\n",
    "4\n",
    "If the candy is divided evenly among 7 people, how many pieces would be leftover?\n",
    "2\n",
    "2. SAMPLE OUTPUT :\n",
    "Number of candies in the jar: 142"
   ]
  },
  {
   "cell_type": "code",
   "execution_count": 1,
   "metadata": {
    "scrolled": true
   },
   "outputs": [
    {
     "name": "stdout",
     "output_type": "stream",
     "text": [
      "If the candy is divided evenly among 5 people, how many pieces would be leftover?\n",
      "2\n",
      "If the candy is divided evenly among 6 people, how many pieces would be leftover?\n",
      "4\n",
      "If the candy is divided evenly among 7 people, how many pieces would be leftover?\n",
      "2\n",
      "142\n"
     ]
    }
   ],
   "source": [
    "x = input('If the candy is divided evenly among 5 people, how many pieces would be leftover?\\n')\n",
    "y = input('If the candy is divided evenly among 6 people, how many pieces would be leftover?\\n')\n",
    "z = input('If the candy is divided evenly among 7 people, how many pieces would be leftover?\\n')\n",
    "\n",
    "a = [int(x),int(y),int(z)]\n",
    "\n",
    "\n",
    "for j in range(199,-1,-1):\n",
    "   s = []\n",
    "   s.append(j%5)\n",
    "   s.append(j%6)\n",
    "   s.append(j%7)\n",
    "\n",
    "   if s == a:\n",
    "       print(j)\n",
    "       break"
   ]
  },
  {
   "cell_type": "markdown",
   "metadata": {},
   "source": [
    "### 6. Write a python program to take a list from the user and find out mean, mode, median,median low and median high by using statistics module in python. ( 10 Marks)\n",
    "Sample Input li = [1, 2, 3, 3, 2, 2, 2, 1]\n",
    "Sample Output\n",
    "The average of list values is: 2\n",
    "The maximum occurring element is: 2\n",
    "Sample Input li = [1, 2, 2, 3, 3, 3]\n",
    "Sample Output\n",
    "The median of the list element is: 2.5\n",
    "The lower median of the list element is: 2\n",
    "The higher median of the list element is : 3"
   ]
  },
  {
   "cell_type": "code",
   "execution_count": 4,
   "metadata": {},
   "outputs": [
    {
     "name": "stdout",
     "output_type": "stream",
     "text": [
      "Input: [[1 2 3 3 2 2 2 1]]\n",
      "The average of list values is: 2\n",
      "The maximum occurring element is: 2\n",
      "The median of list values is: 2.0\n",
      "The Lower median of list values is: 2\n",
      "The Higher median of list values is: 2\n",
      "Input: [[1 2 2 3 3 3]]\n",
      "The average of list values is: 2.3333333333333335\n",
      "The maximum occurring element is: 3\n",
      "The median of list values is: 2.5\n",
      "The Lower median of list values is: 2\n",
      "The Higher median of list values is: 3\n"
     ]
    }
   ],
   "source": [
    "\n",
    "import numpy as np\n",
    "import pandas as pd\n",
    "import statistics\n",
    "\n",
    "def stats(list1):\n",
    "   \n",
    "    print(\"Input:\",np.array(list1).reshape(1,len(list1)))\n",
    "    print(\"The average of list values is:\",statistics.mean(list1))\n",
    "  \n",
    "    print(\"The maximum occurring element is:\",statistics.mode(list1))\n",
    "    print(\"The median of list values is:\",statistics.median(list1))\n",
    "    print(\"The Lower median of list values is:\",statistics.median_low(list1))\n",
    "    print(\"The Higher median of list values is:\",statistics.median_high(list1))\n",
    "\n",
    " \n",
    "  \n",
    "list1 = list([1, 2, 3, 3, 2, 2, 2, 1])\n",
    "stats(list1)\n",
    "\n",
    "\n",
    "list1 = list([1, 2, 2, 3, 3, 3])\n",
    "stats(list1)"
   ]
  },
  {
   "cell_type": "markdown",
   "metadata": {},
   "source": [
    "### 7.Create a scientific calculator using python. The calculator should give a menu to the user asking the type of mathematical operation to be performed (1. Arithmetic 2. Trignometric 3. Logarithmic). According to the choice of the user, operations are performed on the numbers entered. Any innovation in this basic calculator model will be given more marks. ( 15 ( 15( 15 marks)marks)marks) marks)marks) Sample Input SCIENTIFIC CALCULATOR 1. ARITHMETIC 2. TRIGNOMETRIC 3. LOGARTITHMIC Please select an option of your choice1 Enter the first number23 Enter the second number56 Sample Oupt 1.Addition 2. Subtraction 3. Multiplication 4. Division Please input the number of your choice of operation4 The division of the first number with the second numbers is 0.4107142857142857"
   ]
  },
  {
   "cell_type": "code",
   "execution_count": 1,
   "metadata": {},
   "outputs": [],
   "source": [
    "import numpy as np\n",
    "import math"
   ]
  },
  {
   "cell_type": "code",
   "execution_count": 2,
   "metadata": {},
   "outputs": [
    {
     "name": "stdout",
     "output_type": "stream",
     "text": [
      "Please select an option of your choice: \n",
      " 1.ARITHMETIC \n",
      " 2.TRIGNOMETRIC \n",
      " 3.LOGARTITHMIC \n",
      "h\n"
     ]
    },
    {
     "ename": "ValueError",
     "evalue": "invalid literal for int() with base 10: 'h'",
     "output_type": "error",
     "traceback": [
      "\u001b[1;31m---------------------------------------------------------------------------\u001b[0m",
      "\u001b[1;31mValueError\u001b[0m                                Traceback (most recent call last)",
      "\u001b[1;32m<ipython-input-2-e1930b0e9641>\u001b[0m in \u001b[0;36m<module>\u001b[1;34m\u001b[0m\n\u001b[1;32m----> 1\u001b[1;33m \u001b[0mn\u001b[0m \u001b[1;33m=\u001b[0m\u001b[0mint\u001b[0m\u001b[1;33m(\u001b[0m\u001b[0minput\u001b[0m\u001b[1;33m(\u001b[0m\u001b[1;34m'Please select an option of your choice: \\n 1.ARITHMETIC \\n 2.TRIGNOMETRIC \\n 3.LOGARTITHMIC \\n'\u001b[0m\u001b[1;33m)\u001b[0m\u001b[1;33m)\u001b[0m\u001b[1;33m\u001b[0m\u001b[1;33m\u001b[0m\u001b[0m\n\u001b[0m\u001b[0;32m      2\u001b[0m \u001b[0mx\u001b[0m\u001b[1;33m=\u001b[0m\u001b[0mfloat\u001b[0m\u001b[1;33m(\u001b[0m\u001b[0minput\u001b[0m\u001b[1;33m(\u001b[0m\u001b[1;34m'Enter first number:'\u001b[0m\u001b[1;33m)\u001b[0m\u001b[1;33m)\u001b[0m\u001b[1;33m\u001b[0m\u001b[1;33m\u001b[0m\u001b[0m\n\u001b[0;32m      3\u001b[0m \u001b[0my\u001b[0m\u001b[1;33m=\u001b[0m\u001b[0mfloat\u001b[0m\u001b[1;33m(\u001b[0m\u001b[0minput\u001b[0m\u001b[1;33m(\u001b[0m\u001b[1;34m'Enter second number:'\u001b[0m\u001b[1;33m)\u001b[0m\u001b[1;33m)\u001b[0m\u001b[1;33m\u001b[0m\u001b[1;33m\u001b[0m\u001b[0m\n\u001b[0;32m      4\u001b[0m \u001b[1;32mif\u001b[0m \u001b[0mn\u001b[0m\u001b[1;33m==\u001b[0m\u001b[1;36m1\u001b[0m\u001b[1;33m:\u001b[0m\u001b[1;33m\u001b[0m\u001b[1;33m\u001b[0m\u001b[0m\n\u001b[0;32m      5\u001b[0m     \u001b[0mi\u001b[0m\u001b[1;33m=\u001b[0m\u001b[0mint\u001b[0m\u001b[1;33m(\u001b[0m\u001b[0minput\u001b[0m\u001b[1;33m(\u001b[0m\u001b[1;34m'Please input the number of your choice of operation:\\n 1.Addition \\n 2. Subtraction \\n 3. Multiplication \\n 4. Division \\n '\u001b[0m\u001b[1;33m)\u001b[0m\u001b[1;33m)\u001b[0m\u001b[1;33m\u001b[0m\u001b[1;33m\u001b[0m\u001b[0m\n",
      "\u001b[1;31mValueError\u001b[0m: invalid literal for int() with base 10: 'h'"
     ]
    }
   ],
   "source": [
    "n =int(input('Please select an option of your choice: \\n 1.ARITHMETIC \\n 2.TRIGNOMETRIC \\n 3.LOGARTITHMIC \\n'))\n",
    "x=float(input('Enter first number:'))\n",
    "y=float(input('Enter second number:'))\n",
    "if n==1:\n",
    "    i=int(input('Please input the number of your choice of operation:\\n 1.Addition \\n 2. Subtraction \\n 3. Multiplication \\n 4. Division \\n '))\n",
    "    if i==1:\n",
    "        print('Addition:',x+y)\n",
    "    elif i==2:\n",
    "        print('Subtraction:',x-y)\n",
    "    elif i==3:\n",
    "        print('Multiplication:',x*y)\n",
    "    else:\n",
    "        print('Division:',x/y)\n",
    "elif i==2:\n",
    "    x=math.pi/6\n",
    "    y=math.pi/6\n",
    "    j=int(input('Please input the number of your choice of operation:\\n 1.Radian \\n 2. Degrees \\n 3. Sine \\n 4. Cosine \\n 5.Tan \\n '))\n",
    "    if j==1:\n",
    "        print('radians of first number:',math.radians(x))\n",
    "        print('radians of first number:',math.radians(y))\n",
    "    elif j==2:\n",
    "        print('degree of first number:',math.degrees(x))\n",
    "        print('degree of second number:',math.degrees(y))\n",
    "    elif j==3:\n",
    "        print('Value of sin of first number:',math.sin(x))\n",
    "        print('Value of sin of second number:',math.sin(y))\n",
    "    elif j==4:\n",
    "        print('Value of cosine of first number:',math.cos(x))\n",
    "        print('Value of cosine of first number:',math.cos(y))\n",
    "    else:\n",
    "        print('Value of tan of first number:',math.tan(x))\n",
    "        print('Value of tan of second number:',math.tan(y))\n",
    "else:\n",
    "   \n",
    "    print('Log of first number:',np.log(x))\n",
    "    print('Log of second number:',np.log(y))"
   ]
  },
  {
   "cell_type": "markdown",
   "metadata": {},
   "source": [
    "### 8.Write a program that converts Roman numerals into ordinary numbers. Here are the conversions: M=1000, D=500, C=100, L=50, X=10, V=5 I=1. Don’t forget about things like IV being 4 and XL being 40.(15 Marks 15 Marks15 Marks15 Marks15 Marks ) Integer numbers and their Roman equivalent: 1000 : 'M' 900 : 'CM' 500 : 'D' 400 : 'CD' 100 : 'C' 90 : 'XC' 50 : 'L' 40 : 'XL' 10 : 'X' 9 : 'IX' 5 : 'V' 4: 'IV' 1: 'I' SAMPLE INPUT: Enter number to Convert : 417 SAMPLE OUTPUT: CDXVII"
   ]
  },
  {
   "cell_type": "code",
   "execution_count": 8,
   "metadata": {
    "scrolled": true
   },
   "outputs": [
    {
     "name": "stdout",
     "output_type": "stream",
     "text": [
      "Integer form of Roman Numeral is\n",
      "8\n"
     ]
    }
   ],
   "source": [
    "def number(roman):\n",
    "   if (roman == 'I'):\n",
    "       return 1\n",
    "   if (roman == 'V'):\n",
    "       return 5\n",
    "   if (roman == 'X'):\n",
    "       return 10\n",
    "   if (roman == 'L'):\n",
    "       return 50\n",
    "   if (roman == 'C'):\n",
    "       return 100\n",
    "   if (roman == 'D'):\n",
    "       return 500\n",
    "   if (roman == 'M'):\n",
    "       return 1000\n",
    "   return -1\n",
    " \n",
    "def roman_decimal(str):\n",
    "   r = 0\n",
    "   i = 0\n",
    " \n",
    "   while (i < len(str)):\n",
    " \n",
    "       str1 = number(str[i])\n",
    " \n",
    "       if (i+1 < len(str)):\n",
    " \n",
    "          \n",
    "           str2 = number(str[i+1])\n",
    " \n",
    "           \n",
    "           if (str1 >= str2):\n",
    " \n",
    "               \n",
    "               r = r + str1\n",
    "               i = i + 1\n",
    "           else:\n",
    " \n",
    "              \n",
    "               r = r + str2 - str1\n",
    "               i = i + 2\n",
    "       else:\n",
    "           r = r + str1\n",
    "           i = i + 1\n",
    " \n",
    "   return r\n",
    " \n",
    "\n",
    "print(\"Integer form of Roman Numeral is\"),\n",
    "print(roman_decimal(\"VIII\")) "
   ]
  },
  {
   "cell_type": "code",
   "execution_count": 20,
   "metadata": {},
   "outputs": [
    {
     "name": "stdout",
     "output_type": "stream",
     "text": [
      "Enter number: 417\n",
      "CDXVII\n"
     ]
    }
   ],
   "source": [
    "num_to_roman = [(1000, 'M'), (900, 'CM'), (500, 'D'), (400, 'CD'), (100, 'C'), (90, 'XC'),(50, 'L'), (40, 'XL'), (10, 'X'), (9, 'IX'), (5, 'V'), (4, 'IV'), (1, 'I')]\n",
    "\n",
    "n= int(input(\"Enter number: \"))\n",
    "\n",
    "def number_to_roman(n):    \n",
    "   result = []\n",
    "   for (arabic, roman) in num_to_roman:\n",
    "       (factor, n) = divmod(n, arabic)\n",
    "       result.append(roman * factor)\n",
    "       if n == 0:\n",
    "           break\n",
    "   return \"\".join(result)\n",
    "\n",
    "print(number_to_roman(n))"
   ]
  },
  {
   "cell_type": "code",
   "execution_count": null,
   "metadata": {},
   "outputs": [],
   "source": []
  }
 ],
 "metadata": {
  "kernelspec": {
   "display_name": "Python 3 (ipykernel)",
   "language": "python",
   "name": "python3"
  },
  "language_info": {
   "codemirror_mode": {
    "name": "ipython",
    "version": 3
   },
   "file_extension": ".py",
   "mimetype": "text/x-python",
   "name": "python",
   "nbconvert_exporter": "python",
   "pygments_lexer": "ipython3",
   "version": "3.9.7"
  }
 },
 "nbformat": 4,
 "nbformat_minor": 2
}
