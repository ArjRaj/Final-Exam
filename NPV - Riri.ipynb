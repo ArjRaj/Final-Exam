{
 "cells": [
  {
   "cell_type": "markdown",
   "metadata": {
    "colab_type": "text",
    "id": "MAqv6aTWW0ce"
   },
   "source": [
    "# NPV FINAL EXAM"
   ]
  },
  {
   "cell_type": "markdown",
   "metadata": {
    "colab_type": "text",
    "id": "fYziyWXnCs6Q"
   },
   "source": [
    "We combined 6 datasets in single CSV file and mention below columns belongs to"
   ]
  },
  {
   "cell_type": "markdown",
   "metadata": {
    "colab_type": "text",
    "id": "45OJMoEYCfeY"
   },
   "source": [
    "### 1. Report_2010_to_Congress_on_White_House_Staff"
   ]
  },
  {
   "cell_type": "markdown",
   "metadata": {
    "colab_type": "text",
    "id": "piug0pGoCfeZ"
   },
   "source": [
    "\n",
    "* Employee Name\t\n",
    "* Employee Status\t\n",
    "* Salary\t\n",
    "* Pay Basis\t\n",
    "* Position Title\n"
   ]
  },
  {
   "cell_type": "markdown",
   "metadata": {
    "colab_type": "text",
    "id": "kKMXe_UCCfeZ"
   },
   "source": [
    "### 2. chipotle"
   ]
  },
  {
   "cell_type": "markdown",
   "metadata": {
    "colab_type": "text",
    "id": "K3EDAgcECfea"
   },
   "source": [
    "\n",
    "* order_id\t\n",
    "* quantity\t\n",
    "* item_name\t\n",
    "* choice_description\t\n",
    "* item_price\n"
   ]
  },
  {
   "cell_type": "markdown",
   "metadata": {
    "colab_type": "text",
    "id": "RGz5A_ZKCfea"
   },
   "source": [
    "### 3. Euro_2012_stats_TEAM"
   ]
  },
  {
   "cell_type": "markdown",
   "metadata": {
    "colab_type": "text",
    "id": "8A_vTgPDCfea"
   },
   "source": [
    "\n",
    "* Team\t\n",
    "* Goals\t\n",
    "* Shots on target\t\n",
    "* Shots off target\t\n",
    "* Shooting Accuracy\t\n",
    "* % Goals-to-shots\t\n",
    "* Total shots (inc. Blocked)\t\n",
    "* Hit Woodwork\t\n",
    "* Penalty goals\t\n",
    "* Penalties not scored\t\n",
    "* Headed goals\t\n",
    "* Passes\t\n",
    "* Passes completed\t\n",
    "* Passing Accuracy\t\n",
    "* Touches\t\n",
    "* Crosses\t\n",
    "* Dribbles\t\n",
    "* Corners Taken\t\n",
    "* Tackles\t\n",
    "* Clearances\t\n",
    "* Interceptions\t\n",
    "* Clearances off line\t\n",
    "* Clean Sheets\t\n",
    "* Blocks\t\n",
    "* Goals conceded\t\n",
    "* Saves made\t\n",
    "* Saves-to-shots ratio\t\n",
    "* Fouls Won\t\n",
    "* Fouls Conceded\t\n",
    "* Offsides\t\n",
    "* Yellow Cards\t\n",
    "* Red Cards\t\n",
    "* Subs on\t\n",
    "* Subs off\t\n",
    "* Players Used\n"
   ]
  },
  {
   "cell_type": "markdown",
   "metadata": {
    "colab_type": "text",
    "id": "UzpNa8DjCfeb"
   },
   "source": [
    "### 4. hotdogs"
   ]
  },
  {
   "cell_type": "markdown",
   "metadata": {
    "colab_type": "text",
    "id": "UJPXx9cSCfeb"
   },
   "source": [
    "\n",
    "* Beef\t\n",
    "* 186\t\n",
    "* 495\n"
   ]
  },
  {
   "cell_type": "markdown",
   "metadata": {
    "colab_type": "text",
    "id": "bZfhWfDrCfec"
   },
   "source": [
    "### 5. stock_data"
   ]
  },
  {
   "cell_type": "markdown",
   "metadata": {
    "colab_type": "text",
    "id": "QPEyKA7yCfec"
   },
   "source": [
    "* Unknow column\n",
    "* AA\t\n",
    "* AAPL\t\n",
    "* GE\t\n",
    "* IBM\t\n",
    "* JNJ\t\n",
    "* MSFT\t\n",
    "* PEP\t\n",
    "* SPX\t\n",
    "* XOM\n"
   ]
  },
  {
   "cell_type": "markdown",
   "metadata": {
    "colab_type": "text",
    "id": "b25CzJYpCfed"
   },
   "source": [
    "### 6. Fifa"
   ]
  },
  {
   "cell_type": "markdown",
   "metadata": {
    "colab_type": "text",
    "id": "K0RDN98UCfed"
   },
   "source": [
    "ID: unique id for every player\n",
    "\n",
    "Name: name\n",
    "\n",
    "Age: age\n",
    "\n",
    "Nationality: nationality\n",
    "\n",
    "Overall: overall rating\n",
    "\n",
    "Potential: potential rating\n",
    "\n",
    "Club: current club\n",
    "\n",
    "Value: current market value\n",
    "\n",
    "Wage: current wage\n",
    "\n",
    "Special: special\n",
    "\n",
    "Preferred Foot: left/right\n",
    "\n",
    "International Reputation: rating on scale of 5\n",
    "\n",
    "Weak Foot: rating on scale of 5\n",
    "\n",
    "Skill Moves: rating on scale of 5\n",
    "\n",
    "Work Rate: attack work rate/defense work rate\n",
    "\n",
    "Body Type: body type of player\n",
    "\n",
    "Real Face: true or false\n",
    "\n",
    "Position: position on the pitch\n",
    "\n",
    "\n",
    "Jersey Number: jersey number\n",
    "\n",
    "Joined: joined date\n",
    "\n",
    "Contract Valid Until: contract end date\n",
    "\n",
    "Height: height of the player\n",
    "\n",
    "Weight: weight of the player\n",
    "\n",
    "\n"
   ]
  },
  {
   "cell_type": "markdown",
   "metadata": {
    "colab_type": "raw",
    "id": "wEgYP9-oW0cg"
   },
   "source": [
    "## Kindly change the below cells from markdown to code and execute it "
   ]
  },
  {
   "cell_type": "markdown",
   "metadata": {
    "colab_type": "text",
    "id": "u97wiFqXCfee"
   },
   "source": [
    "* Note: Use encoding='latin1"
   ]
  },
  {
   "cell_type": "code",
   "execution_count": 1,
   "metadata": {
    "colab_type": "raw",
    "id": "VQ_WA9jKW0ch"
   },
   "outputs": [
    {
     "data": {
      "text/html": [
       "<div>\n",
       "<style scoped>\n",
       "    .dataframe tbody tr th:only-of-type {\n",
       "        vertical-align: middle;\n",
       "    }\n",
       "\n",
       "    .dataframe tbody tr th {\n",
       "        vertical-align: top;\n",
       "    }\n",
       "\n",
       "    .dataframe thead th {\n",
       "        text-align: right;\n",
       "    }\n",
       "</style>\n",
       "<table border=\"1\" class=\"dataframe\">\n",
       "  <thead>\n",
       "    <tr style=\"text-align: right;\">\n",
       "      <th></th>\n",
       "      <th>Employee Name</th>\n",
       "      <th>Employee Status</th>\n",
       "      <th>Salary</th>\n",
       "      <th>Pay Basis</th>\n",
       "      <th>Position Title</th>\n",
       "      <th>order_id</th>\n",
       "      <th>quantity</th>\n",
       "      <th>item_name</th>\n",
       "      <th>choice_description</th>\n",
       "      <th>item_price</th>\n",
       "      <th>...</th>\n",
       "      <th>Skill Moves</th>\n",
       "      <th>Work Rate</th>\n",
       "      <th>Body Type</th>\n",
       "      <th>Real Face</th>\n",
       "      <th>Position</th>\n",
       "      <th>Jersey Number</th>\n",
       "      <th>Joined</th>\n",
       "      <th>Contract Valid Until</th>\n",
       "      <th>Height</th>\n",
       "      <th>Weight</th>\n",
       "    </tr>\n",
       "  </thead>\n",
       "  <tbody>\n",
       "    <tr>\n",
       "      <th>0</th>\n",
       "      <td>Abrams, Adam W.</td>\n",
       "      <td>Employee</td>\n",
       "      <td>66300</td>\n",
       "      <td>Per Annum</td>\n",
       "      <td>WESTERN REGIONAL COMMUNICATIONS DIRECTOR</td>\n",
       "      <td>1</td>\n",
       "      <td>1</td>\n",
       "      <td>Chips and Fresh Tomato Salsa</td>\n",
       "      <td>NaN</td>\n",
       "      <td>$2.39</td>\n",
       "      <td>...</td>\n",
       "      <td>3</td>\n",
       "      <td>Medium/ Medium</td>\n",
       "      <td>Lean</td>\n",
       "      <td>No</td>\n",
       "      <td>RCM</td>\n",
       "      <td>10</td>\n",
       "      <td>19-Jul-14</td>\n",
       "      <td>2019</td>\n",
       "      <td>5'10</td>\n",
       "      <td>143lbs</td>\n",
       "    </tr>\n",
       "    <tr>\n",
       "      <th>1</th>\n",
       "      <td>Adams, Ian H.</td>\n",
       "      <td>Employee</td>\n",
       "      <td>45000</td>\n",
       "      <td>Per Annum</td>\n",
       "      <td>EXECUTIVE ASSISTANT TO THE DIRECTOR OF SCHEDUL...</td>\n",
       "      <td>1</td>\n",
       "      <td>1</td>\n",
       "      <td>Izze</td>\n",
       "      <td>[Clementine]</td>\n",
       "      <td>$3.39</td>\n",
       "      <td>...</td>\n",
       "      <td>4</td>\n",
       "      <td>High/ Medium</td>\n",
       "      <td>Normal</td>\n",
       "      <td>Yes</td>\n",
       "      <td>LF</td>\n",
       "      <td>8</td>\n",
       "      <td>16-Jul-18</td>\n",
       "      <td>2021</td>\n",
       "      <td>5'7</td>\n",
       "      <td>150lbs</td>\n",
       "    </tr>\n",
       "    <tr>\n",
       "      <th>2</th>\n",
       "      <td>Agnew, David P.</td>\n",
       "      <td>Employee</td>\n",
       "      <td>93840</td>\n",
       "      <td>Per Annum</td>\n",
       "      <td>DEPUTY DIRECTOR OF INTERGOVERNMENTAL AFFAIRS</td>\n",
       "      <td>1</td>\n",
       "      <td>1</td>\n",
       "      <td>Nantucket Nectar</td>\n",
       "      <td>[Apple]</td>\n",
       "      <td>$3.39</td>\n",
       "      <td>...</td>\n",
       "      <td>4</td>\n",
       "      <td>Medium/ Medium</td>\n",
       "      <td>Stocky</td>\n",
       "      <td>No</td>\n",
       "      <td>CM</td>\n",
       "      <td>5</td>\n",
       "      <td>09-Jul-15</td>\n",
       "      <td>2019</td>\n",
       "      <td>5'7</td>\n",
       "      <td>159lbs</td>\n",
       "    </tr>\n",
       "    <tr>\n",
       "      <th>3</th>\n",
       "      <td>Albino, James</td>\n",
       "      <td>Employee</td>\n",
       "      <td>91800</td>\n",
       "      <td>Per Annum</td>\n",
       "      <td>SENIOR PROGRAM MANAGER</td>\n",
       "      <td>1</td>\n",
       "      <td>1</td>\n",
       "      <td>Chips and Tomatillo-Green Chili Salsa</td>\n",
       "      <td>NaN</td>\n",
       "      <td>$2.39</td>\n",
       "      <td>...</td>\n",
       "      <td>3</td>\n",
       "      <td>Low/ High</td>\n",
       "      <td>Normal</td>\n",
       "      <td>No</td>\n",
       "      <td>LCM</td>\n",
       "      <td>11</td>\n",
       "      <td>31-Aug-17</td>\n",
       "      <td>2019</td>\n",
       "      <td>5'11</td>\n",
       "      <td>168lbs</td>\n",
       "    </tr>\n",
       "    <tr>\n",
       "      <th>4</th>\n",
       "      <td>Aldy, Jr., Joseph E.</td>\n",
       "      <td>Employee</td>\n",
       "      <td>130500</td>\n",
       "      <td>Per Annum</td>\n",
       "      <td>SPECIAL ASSISTANT TO THE PRESIDENT FOR ENERGY ...</td>\n",
       "      <td>2</td>\n",
       "      <td>2</td>\n",
       "      <td>Chicken Bowl</td>\n",
       "      <td>[Tomatillo-Red Chili Salsa (Hot), [Black Beans...</td>\n",
       "      <td>$16.98</td>\n",
       "      <td>...</td>\n",
       "      <td>2</td>\n",
       "      <td>Medium/ High</td>\n",
       "      <td>Stocky</td>\n",
       "      <td>No</td>\n",
       "      <td>CDM</td>\n",
       "      <td>8</td>\n",
       "      <td>06-Jul-18</td>\n",
       "      <td>2019</td>\n",
       "      <td>5'6</td>\n",
       "      <td>154lbs</td>\n",
       "    </tr>\n",
       "  </tbody>\n",
       "</table>\n",
       "<p>5 rows × 81 columns</p>\n",
       "</div>"
      ],
      "text/plain": [
       "          Employee Name Employee Status  Salary  Pay Basis  \\\n",
       "0       Abrams, Adam W.        Employee   66300  Per Annum   \n",
       "1         Adams, Ian H.        Employee   45000  Per Annum   \n",
       "2       Agnew, David P.        Employee   93840  Per Annum   \n",
       "3        Albino, James         Employee   91800  Per Annum   \n",
       "4  Aldy, Jr., Joseph E.        Employee  130500  Per Annum   \n",
       "\n",
       "                                      Position Title  order_id  quantity  \\\n",
       "0           WESTERN REGIONAL COMMUNICATIONS DIRECTOR         1         1   \n",
       "1  EXECUTIVE ASSISTANT TO THE DIRECTOR OF SCHEDUL...         1         1   \n",
       "2       DEPUTY DIRECTOR OF INTERGOVERNMENTAL AFFAIRS         1         1   \n",
       "3                             SENIOR PROGRAM MANAGER         1         1   \n",
       "4  SPECIAL ASSISTANT TO THE PRESIDENT FOR ENERGY ...         2         2   \n",
       "\n",
       "                               item_name  \\\n",
       "0           Chips and Fresh Tomato Salsa   \n",
       "1                                   Izze   \n",
       "2                       Nantucket Nectar   \n",
       "3  Chips and Tomatillo-Green Chili Salsa   \n",
       "4                           Chicken Bowl   \n",
       "\n",
       "                                  choice_description item_price  ...  \\\n",
       "0                                                NaN     $2.39   ...   \n",
       "1                                       [Clementine]     $3.39   ...   \n",
       "2                                            [Apple]     $3.39   ...   \n",
       "3                                                NaN     $2.39   ...   \n",
       "4  [Tomatillo-Red Chili Salsa (Hot), [Black Beans...    $16.98   ...   \n",
       "\n",
       "  Skill Moves       Work Rate  Body Type  Real Face Position Jersey Number  \\\n",
       "0           3  Medium/ Medium       Lean         No      RCM            10   \n",
       "1           4    High/ Medium     Normal        Yes       LF             8   \n",
       "2           4  Medium/ Medium     Stocky         No       CM             5   \n",
       "3           3       Low/ High     Normal         No      LCM            11   \n",
       "4           2    Medium/ High     Stocky         No      CDM             8   \n",
       "\n",
       "      Joined  Contract Valid Until  Height  Weight  \n",
       "0  19-Jul-14                  2019    5'10  143lbs  \n",
       "1  16-Jul-18                  2021     5'7  150lbs  \n",
       "2  09-Jul-15                  2019     5'7  159lbs  \n",
       "3  31-Aug-17                  2019    5'11  168lbs  \n",
       "4  06-Jul-18                  2019     5'6  154lbs  \n",
       "\n",
       "[5 rows x 81 columns]"
      ]
     },
     "execution_count": 1,
     "metadata": {},
     "output_type": "execute_result"
    }
   ],
   "source": [
    "import pandas as pd\n",
    "\n",
    "df=pd.read_csv(\"dataset.csv\")\n",
    "\n",
    "df.head()\n"
   ]
  },
  {
   "cell_type": "code",
   "execution_count": 2,
   "metadata": {
    "colab": {},
    "colab_type": "code",
    "id": "QYbukIDmW0cl",
    "outputId": "b685e7b9-1123-4539-f06e-b7f54bff4e43",
    "scrolled": true
   },
   "outputs": [
    {
     "data": {
      "text/html": [
       "<div>\n",
       "<style scoped>\n",
       "    .dataframe tbody tr th:only-of-type {\n",
       "        vertical-align: middle;\n",
       "    }\n",
       "\n",
       "    .dataframe tbody tr th {\n",
       "        vertical-align: top;\n",
       "    }\n",
       "\n",
       "    .dataframe thead th {\n",
       "        text-align: right;\n",
       "    }\n",
       "</style>\n",
       "<table border=\"1\" class=\"dataframe\">\n",
       "  <thead>\n",
       "    <tr style=\"text-align: right;\">\n",
       "      <th></th>\n",
       "      <th>Employee Name</th>\n",
       "      <th>Employee Status</th>\n",
       "      <th>Salary</th>\n",
       "      <th>Pay Basis</th>\n",
       "      <th>Position Title</th>\n",
       "    </tr>\n",
       "  </thead>\n",
       "  <tbody>\n",
       "    <tr>\n",
       "      <th>0</th>\n",
       "      <td>Abrams, Adam W.</td>\n",
       "      <td>Employee</td>\n",
       "      <td>66300</td>\n",
       "      <td>Per Annum</td>\n",
       "      <td>WESTERN REGIONAL COMMUNICATIONS DIRECTOR</td>\n",
       "    </tr>\n",
       "  </tbody>\n",
       "</table>\n",
       "</div>"
      ],
      "text/plain": [
       "     Employee Name Employee Status  Salary  Pay Basis  \\\n",
       "0  Abrams, Adam W.        Employee   66300  Per Annum   \n",
       "\n",
       "                             Position Title  \n",
       "0  WESTERN REGIONAL COMMUNICATIONS DIRECTOR  "
      ]
     },
     "execution_count": 2,
     "metadata": {},
     "output_type": "execute_result"
    }
   ],
   "source": [
    "Report_2010_to_Congress_on_White_House_Staff = df.iloc[:, :5]\n",
    "Report_2010_to_Congress_on_White_House_Staff.head(1)\n",
    "rep = Report_2010_to_Congress_on_White_House_Staff"
   ]
  },
  {
   "cell_type": "code",
   "execution_count": 3,
   "metadata": {
    "colab": {},
    "colab_type": "code",
    "id": "BM-deEV0W0cn",
    "outputId": "f54a045d-d565-4e94-dae3-d5ea527b2314",
    "scrolled": false
   },
   "outputs": [
    {
     "data": {
      "text/html": [
       "<div>\n",
       "<style scoped>\n",
       "    .dataframe tbody tr th:only-of-type {\n",
       "        vertical-align: middle;\n",
       "    }\n",
       "\n",
       "    .dataframe tbody tr th {\n",
       "        vertical-align: top;\n",
       "    }\n",
       "\n",
       "    .dataframe thead th {\n",
       "        text-align: right;\n",
       "    }\n",
       "</style>\n",
       "<table border=\"1\" class=\"dataframe\">\n",
       "  <thead>\n",
       "    <tr style=\"text-align: right;\">\n",
       "      <th></th>\n",
       "      <th>order_id</th>\n",
       "      <th>quantity</th>\n",
       "      <th>item_name</th>\n",
       "      <th>choice_description</th>\n",
       "      <th>item_price</th>\n",
       "    </tr>\n",
       "  </thead>\n",
       "  <tbody>\n",
       "    <tr>\n",
       "      <th>0</th>\n",
       "      <td>1</td>\n",
       "      <td>1</td>\n",
       "      <td>Chips and Fresh Tomato Salsa</td>\n",
       "      <td>NaN</td>\n",
       "      <td>$2.39</td>\n",
       "    </tr>\n",
       "  </tbody>\n",
       "</table>\n",
       "</div>"
      ],
      "text/plain": [
       "   order_id  quantity                     item_name choice_description  \\\n",
       "0         1         1  Chips and Fresh Tomato Salsa                NaN   \n",
       "\n",
       "  item_price  \n",
       "0     $2.39   "
      ]
     },
     "execution_count": 3,
     "metadata": {},
     "output_type": "execute_result"
    }
   ],
   "source": [
    "chipotle = df.iloc[:, 5:10]\n",
    "chipotle.head(1)"
   ]
  },
  {
   "cell_type": "code",
   "execution_count": 5,
   "metadata": {
    "colab": {},
    "colab_type": "code",
    "id": "1EsqPqEICfel",
    "outputId": "c2e72738-730e-4895-ac93-928929cdbd84",
    "scrolled": true
   },
   "outputs": [
    {
     "data": {
      "text/html": [
       "<div>\n",
       "<style scoped>\n",
       "    .dataframe tbody tr th:only-of-type {\n",
       "        vertical-align: middle;\n",
       "    }\n",
       "\n",
       "    .dataframe tbody tr th {\n",
       "        vertical-align: top;\n",
       "    }\n",
       "\n",
       "    .dataframe thead th {\n",
       "        text-align: right;\n",
       "    }\n",
       "</style>\n",
       "<table border=\"1\" class=\"dataframe\">\n",
       "  <thead>\n",
       "    <tr style=\"text-align: right;\">\n",
       "      <th></th>\n",
       "      <th>Team</th>\n",
       "      <th>Goals</th>\n",
       "      <th>Shots on target</th>\n",
       "      <th>Shots off target</th>\n",
       "      <th>Shooting Accuracy</th>\n",
       "      <th>% Goals-to-shots</th>\n",
       "      <th>Total shots (inc. Blocked)</th>\n",
       "      <th>Hit Woodwork</th>\n",
       "      <th>Penalty goals</th>\n",
       "      <th>Penalties not scored</th>\n",
       "      <th>...</th>\n",
       "      <th>Saves made</th>\n",
       "      <th>Saves-to-shots ratio</th>\n",
       "      <th>Fouls Won</th>\n",
       "      <th>Fouls Conceded</th>\n",
       "      <th>Offsides</th>\n",
       "      <th>Yellow Cards</th>\n",
       "      <th>Red Cards</th>\n",
       "      <th>Subs on</th>\n",
       "      <th>Subs off</th>\n",
       "      <th>Players Used</th>\n",
       "    </tr>\n",
       "  </thead>\n",
       "  <tbody>\n",
       "    <tr>\n",
       "      <th>0</th>\n",
       "      <td>Croatia</td>\n",
       "      <td>4</td>\n",
       "      <td>13</td>\n",
       "      <td>12</td>\n",
       "      <td>51.90%</td>\n",
       "      <td>16.00%</td>\n",
       "      <td>32</td>\n",
       "      <td>0</td>\n",
       "      <td>0</td>\n",
       "      <td>0</td>\n",
       "      <td>...</td>\n",
       "      <td>13</td>\n",
       "      <td>81.30%</td>\n",
       "      <td>41</td>\n",
       "      <td>62</td>\n",
       "      <td>2</td>\n",
       "      <td>9</td>\n",
       "      <td>0</td>\n",
       "      <td>9</td>\n",
       "      <td>9</td>\n",
       "      <td>16</td>\n",
       "    </tr>\n",
       "  </tbody>\n",
       "</table>\n",
       "<p>1 rows × 35 columns</p>\n",
       "</div>"
      ],
      "text/plain": [
       "      Team  Goals  Shots on target  Shots off target Shooting Accuracy  \\\n",
       "0  Croatia      4               13                12            51.90%   \n",
       "\n",
       "  % Goals-to-shots  Total shots (inc. Blocked)  Hit Woodwork  Penalty goals  \\\n",
       "0           16.00%                          32             0              0   \n",
       "\n",
       "   Penalties not scored  ...  Saves made  Saves-to-shots ratio  Fouls Won  \\\n",
       "0                     0  ...          13                81.30%         41   \n",
       "\n",
       "  Fouls Conceded  Offsides  Yellow Cards  Red Cards  Subs on  Subs off  \\\n",
       "0             62         2             9          0        9         9   \n",
       "\n",
       "   Players Used  \n",
       "0            16  \n",
       "\n",
       "[1 rows x 35 columns]"
      ]
     },
     "execution_count": 5,
     "metadata": {},
     "output_type": "execute_result"
    }
   ],
   "source": [
    "Euro_2012_stats_TEAM = df.iloc[:, 10:45]\n",
    "Euro = Euro_2012_stats_TEAM\n",
    "Euro_2012_stats_TEAM.head(1)"
   ]
  },
  {
   "cell_type": "code",
   "execution_count": 5,
   "metadata": {
    "colab": {},
    "colab_type": "code",
    "id": "YTDheSScCfen",
    "outputId": "9a2d350c-4bd0-4b2b-b781-ed3989cd8293",
    "scrolled": true
   },
   "outputs": [
    {
     "data": {
      "text/html": [
       "<div>\n",
       "<style scoped>\n",
       "    .dataframe tbody tr th:only-of-type {\n",
       "        vertical-align: middle;\n",
       "    }\n",
       "\n",
       "    .dataframe tbody tr th {\n",
       "        vertical-align: top;\n",
       "    }\n",
       "\n",
       "    .dataframe thead th {\n",
       "        text-align: right;\n",
       "    }\n",
       "</style>\n",
       "<table border=\"1\" class=\"dataframe\">\n",
       "  <thead>\n",
       "    <tr style=\"text-align: right;\">\n",
       "      <th></th>\n",
       "      <th>Beef</th>\n",
       "      <th>186</th>\n",
       "      <th>495</th>\n",
       "    </tr>\n",
       "  </thead>\n",
       "  <tbody>\n",
       "    <tr>\n",
       "      <th>0</th>\n",
       "      <td>Beef</td>\n",
       "      <td>181</td>\n",
       "      <td>477</td>\n",
       "    </tr>\n",
       "  </tbody>\n",
       "</table>\n",
       "</div>"
      ],
      "text/plain": [
       "   Beef  186  495\n",
       "0  Beef  181  477"
      ]
     },
     "execution_count": 5,
     "metadata": {},
     "output_type": "execute_result"
    }
   ],
   "source": [
    "hotdogs = df.iloc[:, 45:48]\n",
    "hotdogs.head(1)"
   ]
  },
  {
   "cell_type": "code",
   "execution_count": 6,
   "metadata": {
    "colab": {},
    "colab_type": "code",
    "id": "gGXNnRNrCfep",
    "outputId": "fc17f33a-e52b-4366-ac1e-2268eecf3c86"
   },
   "outputs": [
    {
     "data": {
      "text/html": [
       "<div>\n",
       "<style scoped>\n",
       "    .dataframe tbody tr th:only-of-type {\n",
       "        vertical-align: middle;\n",
       "    }\n",
       "\n",
       "    .dataframe tbody tr th {\n",
       "        vertical-align: top;\n",
       "    }\n",
       "\n",
       "    .dataframe thead th {\n",
       "        text-align: right;\n",
       "    }\n",
       "</style>\n",
       "<table border=\"1\" class=\"dataframe\">\n",
       "  <thead>\n",
       "    <tr style=\"text-align: right;\">\n",
       "      <th></th>\n",
       "      <th>Unnamed: 48</th>\n",
       "      <th>AA</th>\n",
       "      <th>AAPL</th>\n",
       "      <th>GE</th>\n",
       "      <th>IBM</th>\n",
       "      <th>JNJ</th>\n",
       "      <th>MSFT</th>\n",
       "      <th>PEP</th>\n",
       "      <th>SPX</th>\n",
       "      <th>XOM</th>\n",
       "    </tr>\n",
       "  </thead>\n",
       "  <tbody>\n",
       "    <tr>\n",
       "      <th>0</th>\n",
       "      <td>29-10-2007 00:00</td>\n",
       "      <td>37.41</td>\n",
       "      <td>185.09</td>\n",
       "      <td>34.46</td>\n",
       "      <td>106.78</td>\n",
       "      <td>57.13</td>\n",
       "      <td>31.78</td>\n",
       "      <td>65.67</td>\n",
       "      <td>1540.98</td>\n",
       "      <td>85.51</td>\n",
       "    </tr>\n",
       "  </tbody>\n",
       "</table>\n",
       "</div>"
      ],
      "text/plain": [
       "        Unnamed: 48     AA    AAPL     GE     IBM    JNJ   MSFT    PEP  \\\n",
       "0  29-10-2007 00:00  37.41  185.09  34.46  106.78  57.13  31.78  65.67   \n",
       "\n",
       "       SPX    XOM  \n",
       "0  1540.98  85.51  "
      ]
     },
     "execution_count": 6,
     "metadata": {},
     "output_type": "execute_result"
    }
   ],
   "source": [
    "stock_data = df.iloc[:, 48:58]\n",
    "stock_data.head(1)"
   ]
  },
  {
   "cell_type": "code",
   "execution_count": 7,
   "metadata": {
    "colab": {},
    "colab_type": "code",
    "id": "-2UlC9kUCfer",
    "outputId": "7cc83de1-2ca8-47c1-f2cd-d689a0036b3b"
   },
   "outputs": [
    {
     "data": {
      "text/html": [
       "<div>\n",
       "<style scoped>\n",
       "    .dataframe tbody tr th:only-of-type {\n",
       "        vertical-align: middle;\n",
       "    }\n",
       "\n",
       "    .dataframe tbody tr th {\n",
       "        vertical-align: top;\n",
       "    }\n",
       "\n",
       "    .dataframe thead th {\n",
       "        text-align: right;\n",
       "    }\n",
       "</style>\n",
       "<table border=\"1\" class=\"dataframe\">\n",
       "  <thead>\n",
       "    <tr style=\"text-align: right;\">\n",
       "      <th></th>\n",
       "      <th>ID</th>\n",
       "      <th>Name</th>\n",
       "      <th>Age</th>\n",
       "      <th>Nationality</th>\n",
       "      <th>Overall</th>\n",
       "      <th>Potential</th>\n",
       "      <th>Club</th>\n",
       "      <th>Value</th>\n",
       "      <th>Wage</th>\n",
       "      <th>Special</th>\n",
       "      <th>...</th>\n",
       "      <th>Skill Moves</th>\n",
       "      <th>Work Rate</th>\n",
       "      <th>Body Type</th>\n",
       "      <th>Real Face</th>\n",
       "      <th>Position</th>\n",
       "      <th>Jersey Number</th>\n",
       "      <th>Joined</th>\n",
       "      <th>Contract Valid Until</th>\n",
       "      <th>Height</th>\n",
       "      <th>Weight</th>\n",
       "    </tr>\n",
       "  </thead>\n",
       "  <tbody>\n",
       "    <tr>\n",
       "      <th>0</th>\n",
       "      <td>16</td>\n",
       "      <td>Luis Garc�a</td>\n",
       "      <td>37</td>\n",
       "      <td>Spain</td>\n",
       "      <td>71</td>\n",
       "      <td>71</td>\n",
       "      <td>KAS Eupen</td>\n",
       "      <td>?750K</td>\n",
       "      <td>?6K</td>\n",
       "      <td>1906</td>\n",
       "      <td>...</td>\n",
       "      <td>3</td>\n",
       "      <td>Medium/ Medium</td>\n",
       "      <td>Lean</td>\n",
       "      <td>No</td>\n",
       "      <td>RCM</td>\n",
       "      <td>10</td>\n",
       "      <td>19-Jul-14</td>\n",
       "      <td>2019</td>\n",
       "      <td>5'10</td>\n",
       "      <td>143lbs</td>\n",
       "    </tr>\n",
       "  </tbody>\n",
       "</table>\n",
       "<p>1 rows × 23 columns</p>\n",
       "</div>"
      ],
      "text/plain": [
       "   ID         Name  Age Nationality  Overall  Potential       Club  Value  \\\n",
       "0  16  Luis Garc�a   37       Spain       71         71  KAS Eupen  ?750K   \n",
       "\n",
       "  Wage  Special  ... Skill Moves       Work Rate  Body Type  Real Face  \\\n",
       "0  ?6K     1906  ...           3  Medium/ Medium       Lean         No   \n",
       "\n",
       "  Position Jersey Number     Joined Contract Valid Until  Height  Weight  \n",
       "0      RCM            10  19-Jul-14                 2019    5'10  143lbs  \n",
       "\n",
       "[1 rows x 23 columns]"
      ]
     },
     "execution_count": 7,
     "metadata": {},
     "output_type": "execute_result"
    }
   ],
   "source": [
    "Fifa= df.iloc[:, 58:]\n",
    "Fifa.head(1)"
   ]
  },
  {
   "cell_type": "code",
   "execution_count": null,
   "metadata": {
    "colab": {},
    "colab_type": "code",
    "id": "KFqpdDxkCfet"
   },
   "outputs": [],
   "source": []
  },
  {
   "cell_type": "markdown",
   "metadata": {
    "colab_type": "text",
    "id": "l6YnGKTRW0cz"
   },
   "source": [
    " _________________"
   ]
  },
  {
   "cell_type": "markdown",
   "metadata": {
    "colab_type": "text",
    "id": "9O__loLwW0cp"
   },
   "source": [
    "# SECTION A: 20 MARKS"
   ]
  },
  {
   "cell_type": "markdown",
   "metadata": {
    "colab_type": "text",
    "id": "7xtvJfT3W0cq"
   },
   "source": [
    " _________________"
   ]
  },
  {
   "cell_type": "markdown",
   "metadata": {
    "colab_type": "text",
    "id": "X51O04gdCfew"
   },
   "source": [
    "### 1. Read the dataset(Report_2010_to_Congress_on_White_House_Staff) and Answer the below questions?\n",
    "    \n",
    "A. Find the salary of an employee in a (1st-row 2nd-column) using a position based indexing function? (1 Mark)\n",
    "\n",
    "B. Display all the employees whose salary is greater than 50000?(1 Mark)\n",
    "\n",
    "C. Display all the rows whose salary is greater than 50000 and position as \"ANALYST\"?(1 Mark)\n",
    "\n",
    "D. Find the list of Employee details belonging to a position ('ANALYST','ADVISOR')?(1 Mark)\n",
    "\n",
    "E. Find the top 10 highest-paid employees in each position?(1 Mark)\n"
   ]
  },
  {
   "cell_type": "code",
   "execution_count": 8,
   "metadata": {
    "colab": {},
    "colab_type": "code",
    "id": "-C8cewntCfex",
    "scrolled": false
   },
   "outputs": [
    {
     "data": {
      "text/html": [
       "<div>\n",
       "<style scoped>\n",
       "    .dataframe tbody tr th:only-of-type {\n",
       "        vertical-align: middle;\n",
       "    }\n",
       "\n",
       "    .dataframe tbody tr th {\n",
       "        vertical-align: top;\n",
       "    }\n",
       "\n",
       "    .dataframe thead th {\n",
       "        text-align: right;\n",
       "    }\n",
       "</style>\n",
       "<table border=\"1\" class=\"dataframe\">\n",
       "  <thead>\n",
       "    <tr style=\"text-align: right;\">\n",
       "      <th></th>\n",
       "      <th>Employee Name</th>\n",
       "      <th>Employee Status</th>\n",
       "      <th>Salary</th>\n",
       "      <th>Pay Basis</th>\n",
       "      <th>Position Title</th>\n",
       "    </tr>\n",
       "  </thead>\n",
       "  <tbody>\n",
       "    <tr>\n",
       "      <th>0</th>\n",
       "      <td>Abrams, Adam W.</td>\n",
       "      <td>Employee</td>\n",
       "      <td>66300</td>\n",
       "      <td>Per Annum</td>\n",
       "      <td>WESTERN REGIONAL COMMUNICATIONS DIRECTOR</td>\n",
       "    </tr>\n",
       "    <tr>\n",
       "      <th>1</th>\n",
       "      <td>Adams, Ian H.</td>\n",
       "      <td>Employee</td>\n",
       "      <td>45000</td>\n",
       "      <td>Per Annum</td>\n",
       "      <td>EXECUTIVE ASSISTANT TO THE DIRECTOR OF SCHEDUL...</td>\n",
       "    </tr>\n",
       "    <tr>\n",
       "      <th>2</th>\n",
       "      <td>Agnew, David P.</td>\n",
       "      <td>Employee</td>\n",
       "      <td>93840</td>\n",
       "      <td>Per Annum</td>\n",
       "      <td>DEPUTY DIRECTOR OF INTERGOVERNMENTAL AFFAIRS</td>\n",
       "    </tr>\n",
       "    <tr>\n",
       "      <th>3</th>\n",
       "      <td>Albino, James</td>\n",
       "      <td>Employee</td>\n",
       "      <td>91800</td>\n",
       "      <td>Per Annum</td>\n",
       "      <td>SENIOR PROGRAM MANAGER</td>\n",
       "    </tr>\n",
       "    <tr>\n",
       "      <th>4</th>\n",
       "      <td>Aldy, Jr., Joseph E.</td>\n",
       "      <td>Employee</td>\n",
       "      <td>130500</td>\n",
       "      <td>Per Annum</td>\n",
       "      <td>SPECIAL ASSISTANT TO THE PRESIDENT FOR ENERGY ...</td>\n",
       "    </tr>\n",
       "  </tbody>\n",
       "</table>\n",
       "</div>"
      ],
      "text/plain": [
       "          Employee Name Employee Status  Salary  Pay Basis  \\\n",
       "0       Abrams, Adam W.        Employee   66300  Per Annum   \n",
       "1         Adams, Ian H.        Employee   45000  Per Annum   \n",
       "2       Agnew, David P.        Employee   93840  Per Annum   \n",
       "3        Albino, James         Employee   91800  Per Annum   \n",
       "4  Aldy, Jr., Joseph E.        Employee  130500  Per Annum   \n",
       "\n",
       "                                      Position Title  \n",
       "0           WESTERN REGIONAL COMMUNICATIONS DIRECTOR  \n",
       "1  EXECUTIVE ASSISTANT TO THE DIRECTOR OF SCHEDUL...  \n",
       "2       DEPUTY DIRECTOR OF INTERGOVERNMENTAL AFFAIRS  \n",
       "3                             SENIOR PROGRAM MANAGER  \n",
       "4  SPECIAL ASSISTANT TO THE PRESIDENT FOR ENERGY ...  "
      ]
     },
     "execution_count": 8,
     "metadata": {},
     "output_type": "execute_result"
    }
   ],
   "source": [
    "rep.head()"
   ]
  },
  {
   "cell_type": "code",
   "execution_count": 10,
   "metadata": {},
   "outputs": [
    {
     "data": {
      "text/plain": [
       "66300"
      ]
     },
     "execution_count": 10,
     "metadata": {},
     "output_type": "execute_result"
    }
   ],
   "source": [
    "rep = rep.iloc[0,2]"
   ]
  },
  {
   "cell_type": "code",
   "execution_count": 13,
   "metadata": {
    "scrolled": true
   },
   "outputs": [
    {
     "data": {
      "text/plain": [
       "0                 Abrams, Adam W.\n",
       "2                 Agnew, David P.\n",
       "3                  Albino, James \n",
       "4            Aldy, Jr., Joseph E.\n",
       "6            Amorsingh, Lucius L.\n",
       "                  ...            \n",
       "462            Wright, Jessica N.\n",
       "463    Yeager Kaplan, Jennifer F.\n",
       "464       Young, Jr., Reginald D.\n",
       "466              Young, Latoya A.\n",
       "468            Zichal, Heather R.\n",
       "Name: Employee Name, Length: 321, dtype: object"
      ]
     },
     "execution_count": 13,
     "metadata": {},
     "output_type": "execute_result"
    }
   ],
   "source": [
    "rep[rep['Salary']>50000]['Employee Name']"
   ]
  },
  {
   "cell_type": "code",
   "execution_count": 37,
   "metadata": {},
   "outputs": [
    {
     "data": {
      "text/html": [
       "<div>\n",
       "<style scoped>\n",
       "    .dataframe tbody tr th:only-of-type {\n",
       "        vertical-align: middle;\n",
       "    }\n",
       "\n",
       "    .dataframe tbody tr th {\n",
       "        vertical-align: top;\n",
       "    }\n",
       "\n",
       "    .dataframe thead th {\n",
       "        text-align: right;\n",
       "    }\n",
       "</style>\n",
       "<table border=\"1\" class=\"dataframe\">\n",
       "  <thead>\n",
       "    <tr style=\"text-align: right;\">\n",
       "      <th></th>\n",
       "      <th>Employee Name</th>\n",
       "      <th>Employee Status</th>\n",
       "      <th>Salary</th>\n",
       "      <th>Pay Basis</th>\n",
       "      <th>Position Title</th>\n",
       "    </tr>\n",
       "  </thead>\n",
       "  <tbody>\n",
       "    <tr>\n",
       "      <th>453</th>\n",
       "      <td>White, Cleo</td>\n",
       "      <td>Detailee</td>\n",
       "      <td>65393</td>\n",
       "      <td>Per Annum</td>\n",
       "      <td>ANALYST</td>\n",
       "    </tr>\n",
       "  </tbody>\n",
       "</table>\n",
       "</div>"
      ],
      "text/plain": [
       "    Employee Name Employee Status  Salary  Pay Basis Position Title\n",
       "453   White, Cleo        Detailee   65393  Per Annum        ANALYST"
      ]
     },
     "execution_count": 37,
     "metadata": {},
     "output_type": "execute_result"
    }
   ],
   "source": [
    "rep[(rep['Salary']>50000) & (rep['Position Title'] == 'ANALYST')]"
   ]
  },
  {
   "cell_type": "code",
   "execution_count": 45,
   "metadata": {},
   "outputs": [],
   "source": [
    "# rep[rep['Position Title'].str.contains('ANALYST')]"
   ]
  },
  {
   "cell_type": "code",
   "execution_count": 43,
   "metadata": {},
   "outputs": [
    {
     "data": {
      "text/html": [
       "<div>\n",
       "<style scoped>\n",
       "    .dataframe tbody tr th:only-of-type {\n",
       "        vertical-align: middle;\n",
       "    }\n",
       "\n",
       "    .dataframe tbody tr th {\n",
       "        vertical-align: top;\n",
       "    }\n",
       "\n",
       "    .dataframe thead th {\n",
       "        text-align: right;\n",
       "    }\n",
       "</style>\n",
       "<table border=\"1\" class=\"dataframe\">\n",
       "  <thead>\n",
       "    <tr style=\"text-align: right;\">\n",
       "      <th></th>\n",
       "      <th>Employee Name</th>\n",
       "      <th>Employee Status</th>\n",
       "      <th>Salary</th>\n",
       "      <th>Pay Basis</th>\n",
       "      <th>Position Title</th>\n",
       "    </tr>\n",
       "  </thead>\n",
       "  <tbody>\n",
       "    <tr>\n",
       "      <th>14</th>\n",
       "      <td>Ayling, Lindsay A.</td>\n",
       "      <td>Employee</td>\n",
       "      <td>42000</td>\n",
       "      <td>Per Annum</td>\n",
       "      <td>ANALYST</td>\n",
       "    </tr>\n",
       "    <tr>\n",
       "      <th>55</th>\n",
       "      <td>Campos, David R.</td>\n",
       "      <td>Employee</td>\n",
       "      <td>42000</td>\n",
       "      <td>Per Annum</td>\n",
       "      <td>ANALYST</td>\n",
       "    </tr>\n",
       "    <tr>\n",
       "      <th>63</th>\n",
       "      <td>Castillo, Laura M.</td>\n",
       "      <td>Employee</td>\n",
       "      <td>42000</td>\n",
       "      <td>Per Annum</td>\n",
       "      <td>ANALYST</td>\n",
       "    </tr>\n",
       "    <tr>\n",
       "      <th>104</th>\n",
       "      <td>Dorsett, Craig M.</td>\n",
       "      <td>Employee</td>\n",
       "      <td>42000</td>\n",
       "      <td>Per Annum</td>\n",
       "      <td>ANALYST</td>\n",
       "    </tr>\n",
       "    <tr>\n",
       "      <th>154</th>\n",
       "      <td>Grant, Kathryn A.</td>\n",
       "      <td>Employee</td>\n",
       "      <td>42000</td>\n",
       "      <td>Per Annum</td>\n",
       "      <td>ANALYST</td>\n",
       "    </tr>\n",
       "    <tr>\n",
       "      <th>167</th>\n",
       "      <td>Hegde, Shilpa S.</td>\n",
       "      <td>Employee</td>\n",
       "      <td>42000</td>\n",
       "      <td>Per Annum</td>\n",
       "      <td>ANALYST</td>\n",
       "    </tr>\n",
       "    <tr>\n",
       "      <th>277</th>\n",
       "      <td>McGinnis, Patricia G.</td>\n",
       "      <td>Employee</td>\n",
       "      <td>0</td>\n",
       "      <td>Per Annum</td>\n",
       "      <td>ADVISOR</td>\n",
       "    </tr>\n",
       "    <tr>\n",
       "      <th>284</th>\n",
       "      <td>Metcalf, Ryan D.</td>\n",
       "      <td>Employee</td>\n",
       "      <td>42000</td>\n",
       "      <td>Per Annum</td>\n",
       "      <td>ANALYST</td>\n",
       "    </tr>\n",
       "    <tr>\n",
       "      <th>338</th>\n",
       "      <td>Posey, Stacie M.</td>\n",
       "      <td>Employee</td>\n",
       "      <td>42000</td>\n",
       "      <td>Per Annum</td>\n",
       "      <td>ANALYST</td>\n",
       "    </tr>\n",
       "    <tr>\n",
       "      <th>353</th>\n",
       "      <td>Robertson, Ian T.</td>\n",
       "      <td>Employee</td>\n",
       "      <td>42000</td>\n",
       "      <td>Per Annum</td>\n",
       "      <td>ANALYST</td>\n",
       "    </tr>\n",
       "    <tr>\n",
       "      <th>373</th>\n",
       "      <td>Schaub, Matthew J.</td>\n",
       "      <td>Employee</td>\n",
       "      <td>42000</td>\n",
       "      <td>Per Annum</td>\n",
       "      <td>ANALYST</td>\n",
       "    </tr>\n",
       "    <tr>\n",
       "      <th>434</th>\n",
       "      <td>Utech, Daniel G.</td>\n",
       "      <td>Detailee</td>\n",
       "      <td>130000</td>\n",
       "      <td>Per Annum</td>\n",
       "      <td>ADVISOR</td>\n",
       "    </tr>\n",
       "    <tr>\n",
       "      <th>453</th>\n",
       "      <td>White, Cleo</td>\n",
       "      <td>Detailee</td>\n",
       "      <td>65393</td>\n",
       "      <td>Per Annum</td>\n",
       "      <td>ANALYST</td>\n",
       "    </tr>\n",
       "  </tbody>\n",
       "</table>\n",
       "</div>"
      ],
      "text/plain": [
       "             Employee Name Employee Status  Salary  Pay Basis Position Title\n",
       "14      Ayling, Lindsay A.        Employee   42000  Per Annum        ANALYST\n",
       "55        Campos, David R.        Employee   42000  Per Annum        ANALYST\n",
       "63      Castillo, Laura M.        Employee   42000  Per Annum        ANALYST\n",
       "104      Dorsett, Craig M.        Employee   42000  Per Annum        ANALYST\n",
       "154      Grant, Kathryn A.        Employee   42000  Per Annum        ANALYST\n",
       "167       Hegde, Shilpa S.        Employee   42000  Per Annum        ANALYST\n",
       "277  McGinnis, Patricia G.        Employee       0  Per Annum        ADVISOR\n",
       "284       Metcalf, Ryan D.        Employee   42000  Per Annum        ANALYST\n",
       "338       Posey, Stacie M.        Employee   42000  Per Annum        ANALYST\n",
       "353      Robertson, Ian T.        Employee   42000  Per Annum        ANALYST\n",
       "373     Schaub, Matthew J.        Employee   42000  Per Annum        ANALYST\n",
       "434       Utech, Daniel G.        Detailee  130000  Per Annum        ADVISOR\n",
       "453            White, Cleo        Detailee   65393  Per Annum        ANALYST"
      ]
     },
     "execution_count": 43,
     "metadata": {},
     "output_type": "execute_result"
    }
   ],
   "source": [
    "rep[rep['Position Title'].isin(['ANALYST','ADVISOR'])]"
   ]
  },
  {
   "cell_type": "code",
   "execution_count": 22,
   "metadata": {
    "scrolled": true
   },
   "outputs": [
    {
     "name": "stdout",
     "output_type": "stream",
     "text": [
      "<class 'pandas.core.frame.DataFrame'>\n",
      "RangeIndex: 469 entries, 0 to 468\n",
      "Data columns (total 5 columns):\n",
      " #   Column           Non-Null Count  Dtype \n",
      "---  ------           --------------  ----- \n",
      " 0   Employee Name    469 non-null    object\n",
      " 1   Employee Status  469 non-null    object\n",
      " 2   Salary           469 non-null    int64 \n",
      " 3   Pay Basis        469 non-null    object\n",
      " 4   Position Title   469 non-null    object\n",
      "dtypes: int64(1), object(4)\n",
      "memory usage: 18.4+ KB\n"
     ]
    }
   ],
   "source": [
    "rep.info()"
   ]
  },
  {
   "cell_type": "code",
   "execution_count": 51,
   "metadata": {},
   "outputs": [
    {
     "data": {
      "text/plain": [
       "<pandas.core.groupby.generic.DataFrameGroupBy object at 0x00000231C5BC78E0>"
      ]
     },
     "execution_count": 51,
     "metadata": {},
     "output_type": "execute_result"
    }
   ],
   "source": [
    "rep.groupby(by = 'Position Title')"
   ]
  },
  {
   "cell_type": "code",
   "execution_count": 15,
   "metadata": {},
   "outputs": [],
   "source": [
    "# rep['Position Title'].unique()"
   ]
  },
  {
   "cell_type": "code",
   "execution_count": null,
   "metadata": {},
   "outputs": [],
   "source": [
    "for position in rep['Position Title'].unique():\n",
    "    tempdf = rep[rep['Position Title'] == position]\n",
    "\n",
    "    # Apply an aggregation function\n",
    "    average = tempdf['sales'].mean()\n",
    "\n",
    "    # Combine the data into a DataFrame\n",
    "    averages[region] = [average]\n",
    "\n",
    "aggregate_df = pd.DataFrame.from_dict(averages, orient='index', columns=['Average Sales'])\n",
    "print(aggregate_df)"
   ]
  },
  {
   "cell_type": "code",
   "execution_count": 61,
   "metadata": {},
   "outputs": [
    {
     "data": {
      "text/plain": [
       "STAFF ASSISTANT                                                              24\n",
       "RECORDS MANAGEMENT ANALYST                                                   15\n",
       "ANALYST                                                                      11\n",
       "SPECIAL ASSISTANT TO THE PRESIDENT FOR LEGISLATIVE AFFAIRS                   10\n",
       "SPECIAL ASSISTANT TO THE PRESIDENT AND ASSOCIATE COUNSEL TO THE PRESIDENT    10\n",
       "                                                                             ..\n",
       "SPECIAL ASSISTANT TO THE PRESIDENT FOR INTERNATIONAL ECONOMIC AFFAIRS         1\n",
       "SCHEDULER FOR CHIEF OF STAFF                                                  1\n",
       "DEPUTY DIRECTOR AND SURROGATE SCHEDULER                                       1\n",
       "SPECIAL ASSISTANT TO THE PRESS SECRETARY                                      1\n",
       "DEPUTY DIRECTOR OF ADVANCE AND TRIP DIRECTOR FOR THE FIRST LADY               1\n",
       "Name: Position Title, Length: 269, dtype: int64"
      ]
     },
     "execution_count": 61,
     "metadata": {},
     "output_type": "execute_result"
    }
   ],
   "source": [
    "rep['Position Title'].value_counts()"
   ]
  },
  {
   "cell_type": "code",
   "execution_count": 66,
   "metadata": {
    "scrolled": true
   },
   "outputs": [
    {
     "data": {
      "text/html": [
       "<div>\n",
       "<style scoped>\n",
       "    .dataframe tbody tr th:only-of-type {\n",
       "        vertical-align: middle;\n",
       "    }\n",
       "\n",
       "    .dataframe tbody tr th {\n",
       "        vertical-align: top;\n",
       "    }\n",
       "\n",
       "    .dataframe thead th {\n",
       "        text-align: right;\n",
       "    }\n",
       "</style>\n",
       "<table border=\"1\" class=\"dataframe\">\n",
       "  <thead>\n",
       "    <tr style=\"text-align: right;\">\n",
       "      <th></th>\n",
       "      <th>Employee Name</th>\n",
       "      <th>Employee Status</th>\n",
       "      <th>Salary</th>\n",
       "      <th>Pay Basis</th>\n",
       "      <th>Position Title</th>\n",
       "    </tr>\n",
       "  </thead>\n",
       "  <tbody>\n",
       "    <tr>\n",
       "      <th>166</th>\n",
       "      <td>Hash, Michael M.</td>\n",
       "      <td>Detailee</td>\n",
       "      <td>179700</td>\n",
       "      <td>Per Annum</td>\n",
       "      <td>DEPUTY DIRECTOR</td>\n",
       "    </tr>\n",
       "    <tr>\n",
       "      <th>258</th>\n",
       "      <td>Love, Timothy P.</td>\n",
       "      <td>Detailee</td>\n",
       "      <td>179700</td>\n",
       "      <td>Per Annum</td>\n",
       "      <td>POLICY DIRECTOR</td>\n",
       "    </tr>\n",
       "    <tr>\n",
       "      <th>116</th>\n",
       "      <td>Emanuel, Rahm I.</td>\n",
       "      <td>Employee</td>\n",
       "      <td>172200</td>\n",
       "      <td>Per Annum</td>\n",
       "      <td>ASSISTANT TO THE PRESIDENT AND CHIEF OF STAFF</td>\n",
       "    </tr>\n",
       "    <tr>\n",
       "      <th>121</th>\n",
       "      <td>Favreau, Jonathan E.</td>\n",
       "      <td>Employee</td>\n",
       "      <td>172200</td>\n",
       "      <td>Per Annum</td>\n",
       "      <td>ASSISTANT TO THE PRESIDENT AND DIRECTOR OF SPE...</td>\n",
       "    </tr>\n",
       "    <tr>\n",
       "      <th>410</th>\n",
       "      <td>Sutphen, Mona K.</td>\n",
       "      <td>Employee</td>\n",
       "      <td>172200</td>\n",
       "      <td>Per Annum</td>\n",
       "      <td>ASSISTANT TO THE PRESIDENT AND DEPUTY CHIEF OF...</td>\n",
       "    </tr>\n",
       "    <tr>\n",
       "      <th>...</th>\n",
       "      <td>...</td>\n",
       "      <td>...</td>\n",
       "      <td>...</td>\n",
       "      <td>...</td>\n",
       "      <td>...</td>\n",
       "    </tr>\n",
       "    <tr>\n",
       "      <th>54</th>\n",
       "      <td>Campbell, Nnaji-Semayi K.</td>\n",
       "      <td>Employee</td>\n",
       "      <td>42000</td>\n",
       "      <td>Per Annum</td>\n",
       "      <td>SENIOR ANALYST</td>\n",
       "    </tr>\n",
       "    <tr>\n",
       "      <th>132</th>\n",
       "      <td>Ford, Harrison A.</td>\n",
       "      <td>Employee</td>\n",
       "      <td>42000</td>\n",
       "      <td>Per Annum</td>\n",
       "      <td>SENIOR ANALYST</td>\n",
       "    </tr>\n",
       "    <tr>\n",
       "      <th>461</th>\n",
       "      <td>Wong, Shale L.</td>\n",
       "      <td>Employee</td>\n",
       "      <td>0</td>\n",
       "      <td>Per Annum</td>\n",
       "      <td>POLICY ADVISOR</td>\n",
       "    </tr>\n",
       "    <tr>\n",
       "      <th>66</th>\n",
       "      <td>Chen, Margaret C.</td>\n",
       "      <td>Employee</td>\n",
       "      <td>0</td>\n",
       "      <td>Per Annum</td>\n",
       "      <td>SPECIAL ASSISTANT</td>\n",
       "    </tr>\n",
       "    <tr>\n",
       "      <th>277</th>\n",
       "      <td>McGinnis, Patricia G.</td>\n",
       "      <td>Employee</td>\n",
       "      <td>0</td>\n",
       "      <td>Per Annum</td>\n",
       "      <td>ADVISOR</td>\n",
       "    </tr>\n",
       "  </tbody>\n",
       "</table>\n",
       "<p>449 rows × 5 columns</p>\n",
       "</div>"
      ],
      "text/plain": [
       "                 Employee Name Employee Status  Salary  Pay Basis  \\\n",
       "166           Hash, Michael M.        Detailee  179700  Per Annum   \n",
       "258           Love, Timothy P.        Detailee  179700  Per Annum   \n",
       "116           Emanuel, Rahm I.        Employee  172200  Per Annum   \n",
       "121       Favreau, Jonathan E.        Employee  172200  Per Annum   \n",
       "410           Sutphen, Mona K.        Employee  172200  Per Annum   \n",
       "..                         ...             ...     ...        ...   \n",
       "54   Campbell, Nnaji-Semayi K.        Employee   42000  Per Annum   \n",
       "132          Ford, Harrison A.        Employee   42000  Per Annum   \n",
       "461             Wong, Shale L.        Employee       0  Per Annum   \n",
       "66           Chen, Margaret C.        Employee       0  Per Annum   \n",
       "277      McGinnis, Patricia G.        Employee       0  Per Annum   \n",
       "\n",
       "                                        Position Title  \n",
       "166                                    DEPUTY DIRECTOR  \n",
       "258                                    POLICY DIRECTOR  \n",
       "116      ASSISTANT TO THE PRESIDENT AND CHIEF OF STAFF  \n",
       "121  ASSISTANT TO THE PRESIDENT AND DIRECTOR OF SPE...  \n",
       "410  ASSISTANT TO THE PRESIDENT AND DEPUTY CHIEF OF...  \n",
       "..                                                 ...  \n",
       "54                                      SENIOR ANALYST  \n",
       "132                                     SENIOR ANALYST  \n",
       "461                                     POLICY ADVISOR  \n",
       "66                                   SPECIAL ASSISTANT  \n",
       "277                                            ADVISOR  \n",
       "\n",
       "[449 rows x 5 columns]"
      ]
     },
     "execution_count": 66,
     "metadata": {},
     "output_type": "execute_result"
    }
   ],
   "source": [
    "rep.sort_values(['Salary'],ascending=False).groupby('Position Title').head(10)"
   ]
  },
  {
   "cell_type": "markdown",
   "metadata": {
    "colab_type": "text",
    "id": "JebwdaMDCfey"
   },
   "source": [
    "### 2. Read the dataset(chipotle)\n",
    "\n",
    "A. Select only the products with quantity equals to 1.  (1 marks)\n",
    " \n",
    "B. Count the item_price is greater than 10(1 mark)\n",
    " \n",
    "C. Find How many times Veggie Salad Bowl ordered? (1 mark)\n",
    " \n",
    "D. Find the quantity of the most expensive item ordered? (2 mark)\n",
    " \n"
   ]
  },
  {
   "cell_type": "code",
   "execution_count": 67,
   "metadata": {
    "colab": {},
    "colab_type": "code",
    "id": "AZd3hGfPCfez"
   },
   "outputs": [
    {
     "data": {
      "text/html": [
       "<div>\n",
       "<style scoped>\n",
       "    .dataframe tbody tr th:only-of-type {\n",
       "        vertical-align: middle;\n",
       "    }\n",
       "\n",
       "    .dataframe tbody tr th {\n",
       "        vertical-align: top;\n",
       "    }\n",
       "\n",
       "    .dataframe thead th {\n",
       "        text-align: right;\n",
       "    }\n",
       "</style>\n",
       "<table border=\"1\" class=\"dataframe\">\n",
       "  <thead>\n",
       "    <tr style=\"text-align: right;\">\n",
       "      <th></th>\n",
       "      <th>order_id</th>\n",
       "      <th>quantity</th>\n",
       "      <th>item_name</th>\n",
       "      <th>choice_description</th>\n",
       "      <th>item_price</th>\n",
       "    </tr>\n",
       "  </thead>\n",
       "  <tbody>\n",
       "    <tr>\n",
       "      <th>0</th>\n",
       "      <td>1</td>\n",
       "      <td>1</td>\n",
       "      <td>Chips and Fresh Tomato Salsa</td>\n",
       "      <td>NaN</td>\n",
       "      <td>$2.39</td>\n",
       "    </tr>\n",
       "    <tr>\n",
       "      <th>1</th>\n",
       "      <td>1</td>\n",
       "      <td>1</td>\n",
       "      <td>Izze</td>\n",
       "      <td>[Clementine]</td>\n",
       "      <td>$3.39</td>\n",
       "    </tr>\n",
       "    <tr>\n",
       "      <th>2</th>\n",
       "      <td>1</td>\n",
       "      <td>1</td>\n",
       "      <td>Nantucket Nectar</td>\n",
       "      <td>[Apple]</td>\n",
       "      <td>$3.39</td>\n",
       "    </tr>\n",
       "    <tr>\n",
       "      <th>3</th>\n",
       "      <td>1</td>\n",
       "      <td>1</td>\n",
       "      <td>Chips and Tomatillo-Green Chili Salsa</td>\n",
       "      <td>NaN</td>\n",
       "      <td>$2.39</td>\n",
       "    </tr>\n",
       "    <tr>\n",
       "      <th>4</th>\n",
       "      <td>2</td>\n",
       "      <td>2</td>\n",
       "      <td>Chicken Bowl</td>\n",
       "      <td>[Tomatillo-Red Chili Salsa (Hot), [Black Beans...</td>\n",
       "      <td>$16.98</td>\n",
       "    </tr>\n",
       "  </tbody>\n",
       "</table>\n",
       "</div>"
      ],
      "text/plain": [
       "   order_id  quantity                              item_name  \\\n",
       "0         1         1           Chips and Fresh Tomato Salsa   \n",
       "1         1         1                                   Izze   \n",
       "2         1         1                       Nantucket Nectar   \n",
       "3         1         1  Chips and Tomatillo-Green Chili Salsa   \n",
       "4         2         2                           Chicken Bowl   \n",
       "\n",
       "                                  choice_description item_price  \n",
       "0                                                NaN     $2.39   \n",
       "1                                       [Clementine]     $3.39   \n",
       "2                                            [Apple]     $3.39   \n",
       "3                                                NaN     $2.39   \n",
       "4  [Tomatillo-Red Chili Salsa (Hot), [Black Beans...    $16.98   "
      ]
     },
     "execution_count": 67,
     "metadata": {},
     "output_type": "execute_result"
    }
   ],
   "source": [
    "chipotle.head()"
   ]
  },
  {
   "cell_type": "code",
   "execution_count": 68,
   "metadata": {},
   "outputs": [
    {
     "data": {
      "text/plain": [
       "0               Chips and Fresh Tomato Salsa\n",
       "1                                       Izze\n",
       "2                           Nantucket Nectar\n",
       "3      Chips and Tomatillo-Green Chili Salsa\n",
       "5                               Chicken Bowl\n",
       "                       ...                  \n",
       "464                             Chicken Bowl\n",
       "465                             Chicken Bowl\n",
       "466                      Chips and Guacamole\n",
       "467                           Veggie Burrito\n",
       "468                      Chips and Guacamole\n",
       "Name: item_name, Length: 444, dtype: object"
      ]
     },
     "execution_count": 68,
     "metadata": {},
     "output_type": "execute_result"
    }
   ],
   "source": [
    "chipotle[chipotle['quantity']==1]['item_name']"
   ]
  },
  {
   "cell_type": "code",
   "execution_count": 78,
   "metadata": {
    "scrolled": true
   },
   "outputs": [
    {
     "name": "stderr",
     "output_type": "stream",
     "text": [
      "<ipython-input-78-595b15aff731>:1: FutureWarning: The default value of regex will change from True to False in a future version. In addition, single character regular expressions will*not* be treated as literal strings when regex=True.\n",
      "  chipotle['item_price']=(chipotle['item_price'].str.replace('$', '')).astype('float')\n"
     ]
    }
   ],
   "source": [
    "chipotle['item_price']=(chipotle['item_price'].str.replace('$', '')).astype('float')"
   ]
  },
  {
   "cell_type": "code",
   "execution_count": 79,
   "metadata": {},
   "outputs": [
    {
     "data": {
      "text/plain": [
       "0       2.39\n",
       "1       3.39\n",
       "2       3.39\n",
       "3       2.39\n",
       "4      16.98\n",
       "       ...  \n",
       "464     8.75\n",
       "465     8.75\n",
       "466     4.45\n",
       "467     8.49\n",
       "468     3.99\n",
       "Name: item_price, Length: 469, dtype: float64"
      ]
     },
     "execution_count": 79,
     "metadata": {},
     "output_type": "execute_result"
    }
   ],
   "source": [
    "# chipotle['item_price']"
   ]
  },
  {
   "cell_type": "code",
   "execution_count": 88,
   "metadata": {
    "scrolled": true
   },
   "outputs": [
    {
     "data": {
      "text/plain": [
       "110"
      ]
     },
     "execution_count": 88,
     "metadata": {},
     "output_type": "execute_result"
    }
   ],
   "source": [
    "(chipotle[chipotle['item_price']>10])['item_price'].count()"
   ]
  },
  {
   "cell_type": "code",
   "execution_count": 120,
   "metadata": {},
   "outputs": [
    {
     "data": {
      "text/plain": [
       "array(['Chips and Fresh Tomato Salsa', 'Izze', 'Nantucket Nectar',\n",
       "       'Chips and Tomatillo-Green Chili Salsa', 'Chicken Bowl',\n",
       "       'Side of Chips', 'Steak Burrito', 'Steak Soft Tacos',\n",
       "       'Chips and Guacamole', 'Chicken Crispy Tacos',\n",
       "       'Chicken Soft Tacos', 'Chicken Burrito', 'Canned Soda',\n",
       "       'Barbacoa Burrito', 'Carnitas Burrito', 'Carnitas Bowl',\n",
       "       'Bottled Water', 'Chips and Tomatillo Green Chili Salsa',\n",
       "       'Barbacoa Bowl', 'Chips', 'Chicken Salad Bowl', 'Steak Bowl',\n",
       "       'Barbacoa Soft Tacos', 'Veggie Burrito', 'Veggie Bowl',\n",
       "       'Steak Crispy Tacos', 'Chips and Tomatillo Red Chili Salsa',\n",
       "       'Barbacoa Crispy Tacos', 'Veggie Salad Bowl',\n",
       "       'Chips and Roasted Chili-Corn Salsa',\n",
       "       'Chips and Roasted Chili Corn Salsa', 'Carnitas Soft Tacos',\n",
       "       'Chicken Salad', 'Canned Soft Drink', 'Steak Salad Bowl',\n",
       "       '6 Pack Soft Drink', 'Chips and Tomatillo-Red Chili Salsa', 'Bowl'],\n",
       "      dtype=object)"
      ]
     },
     "execution_count": 120,
     "metadata": {},
     "output_type": "execute_result"
    }
   ],
   "source": [
    "chipotle['item_name'].unique()"
   ]
  },
  {
   "cell_type": "code",
   "execution_count": 121,
   "metadata": {},
   "outputs": [
    {
     "data": {
      "text/plain": [
       "3"
      ]
     },
     "execution_count": 121,
     "metadata": {},
     "output_type": "execute_result"
    }
   ],
   "source": [
    "(chipotle[chipotle['item_name']=='Veggie Salad Bowl'])['item_name'].count()"
   ]
  },
  {
   "cell_type": "code",
   "execution_count": 92,
   "metadata": {},
   "outputs": [
    {
     "data": {
      "text/plain": [
       "409    3\n",
       "Name: quantity, dtype: int64"
      ]
     },
     "execution_count": 92,
     "metadata": {},
     "output_type": "execute_result"
    }
   ],
   "source": [
    "# Find the quantity of the most expensive item ordered? \n",
    "# chipotle['quantity'] \n",
    "chipotle[chipotle['item_price']==chipotle['item_price'].max()]['quantity']"
   ]
  },
  {
   "cell_type": "markdown",
   "metadata": {
    "colab_type": "text",
    "id": "Ca-1EOu7Cfe4"
   },
   "source": [
    "### 3. Read the dataset(Euro.CSV)\n",
    "\n",
    "A. How many teams participated in the Euro2012 dataset.  (1 mark)\n",
    "\n",
    "B. Create a data frame with a name \"discipline\" consisting of (Team, Yellow Cards and Red Cards) (1 mark)\n",
    "\n",
    "C. Find average Yellow Cards given per Team (1 mark)\n",
    "\n",
    "D. Find which teams  scored more than 6 goals(1 mark)\n",
    "\n",
    "E. Display the teams start with \" G \"(1 mark)"
   ]
  },
  {
   "cell_type": "code",
   "execution_count": 93,
   "metadata": {
    "colab": {},
    "colab_type": "code",
    "id": "nbs2GNvkCfe4",
    "scrolled": true
   },
   "outputs": [
    {
     "data": {
      "text/html": [
       "<div>\n",
       "<style scoped>\n",
       "    .dataframe tbody tr th:only-of-type {\n",
       "        vertical-align: middle;\n",
       "    }\n",
       "\n",
       "    .dataframe tbody tr th {\n",
       "        vertical-align: top;\n",
       "    }\n",
       "\n",
       "    .dataframe thead th {\n",
       "        text-align: right;\n",
       "    }\n",
       "</style>\n",
       "<table border=\"1\" class=\"dataframe\">\n",
       "  <thead>\n",
       "    <tr style=\"text-align: right;\">\n",
       "      <th></th>\n",
       "      <th>Team</th>\n",
       "      <th>Goals</th>\n",
       "      <th>Shots on target</th>\n",
       "      <th>Shots off target</th>\n",
       "      <th>Shooting Accuracy</th>\n",
       "      <th>% Goals-to-shots</th>\n",
       "      <th>Total shots (inc. Blocked)</th>\n",
       "      <th>Hit Woodwork</th>\n",
       "      <th>Penalty goals</th>\n",
       "      <th>Penalties not scored</th>\n",
       "      <th>...</th>\n",
       "      <th>Saves made</th>\n",
       "      <th>Saves-to-shots ratio</th>\n",
       "      <th>Fouls Won</th>\n",
       "      <th>Fouls Conceded</th>\n",
       "      <th>Offsides</th>\n",
       "      <th>Yellow Cards</th>\n",
       "      <th>Red Cards</th>\n",
       "      <th>Subs on</th>\n",
       "      <th>Subs off</th>\n",
       "      <th>Players Used</th>\n",
       "    </tr>\n",
       "  </thead>\n",
       "  <tbody>\n",
       "    <tr>\n",
       "      <th>0</th>\n",
       "      <td>Croatia</td>\n",
       "      <td>4</td>\n",
       "      <td>13</td>\n",
       "      <td>12</td>\n",
       "      <td>51.90%</td>\n",
       "      <td>16.00%</td>\n",
       "      <td>32</td>\n",
       "      <td>0</td>\n",
       "      <td>0</td>\n",
       "      <td>0</td>\n",
       "      <td>...</td>\n",
       "      <td>13</td>\n",
       "      <td>81.30%</td>\n",
       "      <td>41</td>\n",
       "      <td>62</td>\n",
       "      <td>2</td>\n",
       "      <td>9</td>\n",
       "      <td>0</td>\n",
       "      <td>9</td>\n",
       "      <td>9</td>\n",
       "      <td>16</td>\n",
       "    </tr>\n",
       "    <tr>\n",
       "      <th>1</th>\n",
       "      <td>Czech Republic</td>\n",
       "      <td>4</td>\n",
       "      <td>13</td>\n",
       "      <td>18</td>\n",
       "      <td>41.90%</td>\n",
       "      <td>12.90%</td>\n",
       "      <td>39</td>\n",
       "      <td>0</td>\n",
       "      <td>0</td>\n",
       "      <td>0</td>\n",
       "      <td>...</td>\n",
       "      <td>9</td>\n",
       "      <td>60.10%</td>\n",
       "      <td>53</td>\n",
       "      <td>73</td>\n",
       "      <td>8</td>\n",
       "      <td>7</td>\n",
       "      <td>0</td>\n",
       "      <td>11</td>\n",
       "      <td>11</td>\n",
       "      <td>19</td>\n",
       "    </tr>\n",
       "    <tr>\n",
       "      <th>2</th>\n",
       "      <td>Denmark</td>\n",
       "      <td>4</td>\n",
       "      <td>10</td>\n",
       "      <td>10</td>\n",
       "      <td>50.00%</td>\n",
       "      <td>20.00%</td>\n",
       "      <td>27</td>\n",
       "      <td>1</td>\n",
       "      <td>0</td>\n",
       "      <td>0</td>\n",
       "      <td>...</td>\n",
       "      <td>10</td>\n",
       "      <td>66.70%</td>\n",
       "      <td>25</td>\n",
       "      <td>38</td>\n",
       "      <td>8</td>\n",
       "      <td>4</td>\n",
       "      <td>0</td>\n",
       "      <td>7</td>\n",
       "      <td>7</td>\n",
       "      <td>15</td>\n",
       "    </tr>\n",
       "    <tr>\n",
       "      <th>3</th>\n",
       "      <td>England</td>\n",
       "      <td>5</td>\n",
       "      <td>11</td>\n",
       "      <td>18</td>\n",
       "      <td>50.00%</td>\n",
       "      <td>17.20%</td>\n",
       "      <td>40</td>\n",
       "      <td>0</td>\n",
       "      <td>0</td>\n",
       "      <td>0</td>\n",
       "      <td>...</td>\n",
       "      <td>22</td>\n",
       "      <td>88.10%</td>\n",
       "      <td>43</td>\n",
       "      <td>45</td>\n",
       "      <td>6</td>\n",
       "      <td>5</td>\n",
       "      <td>0</td>\n",
       "      <td>11</td>\n",
       "      <td>11</td>\n",
       "      <td>16</td>\n",
       "    </tr>\n",
       "    <tr>\n",
       "      <th>4</th>\n",
       "      <td>France</td>\n",
       "      <td>3</td>\n",
       "      <td>22</td>\n",
       "      <td>24</td>\n",
       "      <td>37.90%</td>\n",
       "      <td>6.50%</td>\n",
       "      <td>65</td>\n",
       "      <td>1</td>\n",
       "      <td>0</td>\n",
       "      <td>0</td>\n",
       "      <td>...</td>\n",
       "      <td>6</td>\n",
       "      <td>54.60%</td>\n",
       "      <td>36</td>\n",
       "      <td>51</td>\n",
       "      <td>5</td>\n",
       "      <td>6</td>\n",
       "      <td>0</td>\n",
       "      <td>11</td>\n",
       "      <td>11</td>\n",
       "      <td>19</td>\n",
       "    </tr>\n",
       "  </tbody>\n",
       "</table>\n",
       "<p>5 rows × 35 columns</p>\n",
       "</div>"
      ],
      "text/plain": [
       "             Team  Goals  Shots on target  Shots off target Shooting Accuracy  \\\n",
       "0         Croatia      4               13                12            51.90%   \n",
       "1  Czech Republic      4               13                18            41.90%   \n",
       "2         Denmark      4               10                10            50.00%   \n",
       "3         England      5               11                18            50.00%   \n",
       "4          France      3               22                24            37.90%   \n",
       "\n",
       "  % Goals-to-shots  Total shots (inc. Blocked)  Hit Woodwork  Penalty goals  \\\n",
       "0           16.00%                          32             0              0   \n",
       "1           12.90%                          39             0              0   \n",
       "2           20.00%                          27             1              0   \n",
       "3           17.20%                          40             0              0   \n",
       "4            6.50%                          65             1              0   \n",
       "\n",
       "   Penalties not scored  ...  Saves made  Saves-to-shots ratio  Fouls Won  \\\n",
       "0                     0  ...          13                81.30%         41   \n",
       "1                     0  ...           9                60.10%         53   \n",
       "2                     0  ...          10                66.70%         25   \n",
       "3                     0  ...          22                88.10%         43   \n",
       "4                     0  ...           6                54.60%         36   \n",
       "\n",
       "  Fouls Conceded  Offsides  Yellow Cards  Red Cards  Subs on  Subs off  \\\n",
       "0             62         2             9          0        9         9   \n",
       "1             73         8             7          0       11        11   \n",
       "2             38         8             4          0        7         7   \n",
       "3             45         6             5          0       11        11   \n",
       "4             51         5             6          0       11        11   \n",
       "\n",
       "   Players Used  \n",
       "0            16  \n",
       "1            19  \n",
       "2            15  \n",
       "3            16  \n",
       "4            19  \n",
       "\n",
       "[5 rows x 35 columns]"
      ]
     },
     "execution_count": 93,
     "metadata": {},
     "output_type": "execute_result"
    }
   ],
   "source": [
    "Euro.head()"
   ]
  },
  {
   "cell_type": "code",
   "execution_count": 6,
   "metadata": {},
   "outputs": [
    {
     "data": {
      "text/plain": [
       "(469, 35)"
      ]
     },
     "execution_count": 6,
     "metadata": {},
     "output_type": "execute_result"
    }
   ],
   "source": [
    "Euro.shape"
   ]
  },
  {
   "cell_type": "code",
   "execution_count": 7,
   "metadata": {
    "scrolled": true
   },
   "outputs": [
    {
     "data": {
      "text/plain": [
       "16"
      ]
     },
     "execution_count": 7,
     "metadata": {},
     "output_type": "execute_result"
    }
   ],
   "source": [
    "Euro['Team'].nunique()"
   ]
  },
  {
   "cell_type": "code",
   "execution_count": 8,
   "metadata": {},
   "outputs": [],
   "source": [
    "discipline = pd.DataFrame(columns = ['Team', 'Yellow Cards', 'Red Cards'])"
   ]
  },
  {
   "cell_type": "code",
   "execution_count": 9,
   "metadata": {},
   "outputs": [],
   "source": [
    "import numpy as np"
   ]
  },
  {
   "cell_type": "code",
   "execution_count": 10,
   "metadata": {},
   "outputs": [
    {
     "data": {
      "text/plain": [
       "Index(['Team', 'Goals', 'Shots on target', 'Shots off target',\n",
       "       'Shooting Accuracy', '% Goals-to-shots', 'Total shots (inc. Blocked)',\n",
       "       'Hit Woodwork', 'Penalty goals', 'Penalties not scored', 'Headed goals',\n",
       "       'Passes', 'Passes completed', 'Passing Accuracy', 'Touches', 'Crosses',\n",
       "       'Dribbles', 'Corners Taken', 'Tackles', 'Clearances', 'Interceptions',\n",
       "       'Clearances off line', 'Clean Sheets', 'Blocks', 'Goals conceded',\n",
       "       'Saves made', 'Saves-to-shots ratio', 'Fouls Won', 'Fouls Conceded',\n",
       "       'Offsides', 'Yellow Cards', 'Red Cards', 'Subs on', 'Subs off',\n",
       "       'Players Used'],\n",
       "      dtype='object')"
      ]
     },
     "execution_count": 10,
     "metadata": {},
     "output_type": "execute_result"
    }
   ],
   "source": [
    "Euro.columns"
   ]
  },
  {
   "cell_type": "code",
   "execution_count": 11,
   "metadata": {},
   "outputs": [],
   "source": [
    "grouped = Euro.groupby(['Team']).agg(np.sum).reset_index()\n",
    "discipline= grouped[['Team', 'Yellow Cards', 'Red Cards']]"
   ]
  },
  {
   "cell_type": "code",
   "execution_count": 12,
   "metadata": {},
   "outputs": [
    {
     "data": {
      "text/html": [
       "<div>\n",
       "<style scoped>\n",
       "    .dataframe tbody tr th:only-of-type {\n",
       "        vertical-align: middle;\n",
       "    }\n",
       "\n",
       "    .dataframe tbody tr th {\n",
       "        vertical-align: top;\n",
       "    }\n",
       "\n",
       "    .dataframe thead th {\n",
       "        text-align: right;\n",
       "    }\n",
       "</style>\n",
       "<table border=\"1\" class=\"dataframe\">\n",
       "  <thead>\n",
       "    <tr style=\"text-align: right;\">\n",
       "      <th></th>\n",
       "      <th>Team</th>\n",
       "      <th>Yellow Cards</th>\n",
       "      <th>Red Cards</th>\n",
       "    </tr>\n",
       "  </thead>\n",
       "  <tbody>\n",
       "    <tr>\n",
       "      <th>0</th>\n",
       "      <td>Croatia</td>\n",
       "      <td>270</td>\n",
       "      <td>0</td>\n",
       "    </tr>\n",
       "    <tr>\n",
       "      <th>1</th>\n",
       "      <td>Czech Republic</td>\n",
       "      <td>210</td>\n",
       "      <td>0</td>\n",
       "    </tr>\n",
       "    <tr>\n",
       "      <th>2</th>\n",
       "      <td>Denmark</td>\n",
       "      <td>120</td>\n",
       "      <td>0</td>\n",
       "    </tr>\n",
       "    <tr>\n",
       "      <th>3</th>\n",
       "      <td>England</td>\n",
       "      <td>150</td>\n",
       "      <td>0</td>\n",
       "    </tr>\n",
       "    <tr>\n",
       "      <th>4</th>\n",
       "      <td>France</td>\n",
       "      <td>180</td>\n",
       "      <td>0</td>\n",
       "    </tr>\n",
       "  </tbody>\n",
       "</table>\n",
       "</div>"
      ],
      "text/plain": [
       "             Team  Yellow Cards  Red Cards\n",
       "0         Croatia           270          0\n",
       "1  Czech Republic           210          0\n",
       "2         Denmark           120          0\n",
       "3         England           150          0\n",
       "4          France           180          0"
      ]
     },
     "execution_count": 12,
     "metadata": {},
     "output_type": "execute_result"
    }
   ],
   "source": [
    "discipline.head()"
   ]
  },
  {
   "cell_type": "code",
   "execution_count": 13,
   "metadata": {},
   "outputs": [
    {
     "data": {
      "text/html": [
       "<div>\n",
       "<style scoped>\n",
       "    .dataframe tbody tr th:only-of-type {\n",
       "        vertical-align: middle;\n",
       "    }\n",
       "\n",
       "    .dataframe tbody tr th {\n",
       "        vertical-align: top;\n",
       "    }\n",
       "\n",
       "    .dataframe thead th {\n",
       "        text-align: right;\n",
       "    }\n",
       "</style>\n",
       "<table border=\"1\" class=\"dataframe\">\n",
       "  <thead>\n",
       "    <tr style=\"text-align: right;\">\n",
       "      <th></th>\n",
       "      <th>Team</th>\n",
       "      <th>Yellow Cards</th>\n",
       "    </tr>\n",
       "  </thead>\n",
       "  <tbody>\n",
       "    <tr>\n",
       "      <th>0</th>\n",
       "      <td>Croatia</td>\n",
       "      <td>9</td>\n",
       "    </tr>\n",
       "    <tr>\n",
       "      <th>1</th>\n",
       "      <td>Czech Republic</td>\n",
       "      <td>7</td>\n",
       "    </tr>\n",
       "    <tr>\n",
       "      <th>2</th>\n",
       "      <td>Denmark</td>\n",
       "      <td>4</td>\n",
       "    </tr>\n",
       "    <tr>\n",
       "      <th>3</th>\n",
       "      <td>England</td>\n",
       "      <td>5</td>\n",
       "    </tr>\n",
       "    <tr>\n",
       "      <th>4</th>\n",
       "      <td>France</td>\n",
       "      <td>6</td>\n",
       "    </tr>\n",
       "    <tr>\n",
       "      <th>5</th>\n",
       "      <td>Germany</td>\n",
       "      <td>4</td>\n",
       "    </tr>\n",
       "    <tr>\n",
       "      <th>6</th>\n",
       "      <td>Greece</td>\n",
       "      <td>9</td>\n",
       "    </tr>\n",
       "    <tr>\n",
       "      <th>7</th>\n",
       "      <td>Italy</td>\n",
       "      <td>16</td>\n",
       "    </tr>\n",
       "    <tr>\n",
       "      <th>8</th>\n",
       "      <td>Netherlands</td>\n",
       "      <td>5</td>\n",
       "    </tr>\n",
       "    <tr>\n",
       "      <th>9</th>\n",
       "      <td>Poland</td>\n",
       "      <td>7</td>\n",
       "    </tr>\n",
       "    <tr>\n",
       "      <th>10</th>\n",
       "      <td>Portugal</td>\n",
       "      <td>12</td>\n",
       "    </tr>\n",
       "    <tr>\n",
       "      <th>11</th>\n",
       "      <td>Republic of Ireland</td>\n",
       "      <td>6</td>\n",
       "    </tr>\n",
       "    <tr>\n",
       "      <th>12</th>\n",
       "      <td>Russia</td>\n",
       "      <td>6</td>\n",
       "    </tr>\n",
       "    <tr>\n",
       "      <th>13</th>\n",
       "      <td>Spain</td>\n",
       "      <td>11</td>\n",
       "    </tr>\n",
       "    <tr>\n",
       "      <th>14</th>\n",
       "      <td>Sweden</td>\n",
       "      <td>7</td>\n",
       "    </tr>\n",
       "    <tr>\n",
       "      <th>15</th>\n",
       "      <td>Ukraine</td>\n",
       "      <td>5</td>\n",
       "    </tr>\n",
       "  </tbody>\n",
       "</table>\n",
       "</div>"
      ],
      "text/plain": [
       "                   Team  Yellow Cards\n",
       "0               Croatia             9\n",
       "1        Czech Republic             7\n",
       "2               Denmark             4\n",
       "3               England             5\n",
       "4                France             6\n",
       "5               Germany             4\n",
       "6                Greece             9\n",
       "7                 Italy            16\n",
       "8           Netherlands             5\n",
       "9                Poland             7\n",
       "10             Portugal            12\n",
       "11  Republic of Ireland             6\n",
       "12               Russia             6\n",
       "13                Spain            11\n",
       "14               Sweden             7\n",
       "15              Ukraine             5"
      ]
     },
     "execution_count": 13,
     "metadata": {},
     "output_type": "execute_result"
    }
   ],
   "source": [
    "grouped = Euro.groupby(['Team']).agg(np.mean).reset_index()\n",
    "disc_mean= grouped[['Team', 'Yellow Cards']]\n",
    "disc_mean"
   ]
  },
  {
   "cell_type": "code",
   "execution_count": 14,
   "metadata": {},
   "outputs": [
    {
     "data": {
      "text/plain": [
       "0                 Croatia\n",
       "1          Czech Republic\n",
       "2                 Denmark\n",
       "3                 England\n",
       "4                  France\n",
       "5                 Germany\n",
       "6                  Greece\n",
       "7                   Italy\n",
       "8             Netherlands\n",
       "9                  Poland\n",
       "10               Portugal\n",
       "11    Republic of Ireland\n",
       "12                 Russia\n",
       "13                  Spain\n",
       "14                 Sweden\n",
       "15                Ukraine\n",
       "Name: Team, dtype: object"
      ]
     },
     "execution_count": 14,
     "metadata": {},
     "output_type": "execute_result"
    }
   ],
   "source": [
    "grouped = Euro.groupby(['Team']).agg(np.sum).reset_index()\n",
    "\n",
    "grouped[grouped['Goals']>6]['Team']"
   ]
  },
  {
   "cell_type": "code",
   "execution_count": 15,
   "metadata": {},
   "outputs": [
    {
     "name": "stdout",
     "output_type": "stream",
     "text": [
      "Germany\n",
      "Greece\n"
     ]
    }
   ],
   "source": [
    "for i in grouped['Team']:\n",
    "    if i[0] == 'G':\n",
    "        print(i)"
   ]
  },
  {
   "cell_type": "markdown",
   "metadata": {
    "colab_type": "text",
    "id": "j6K4FwN1Cfe6"
   },
   "source": [
    "### 4.Read the dataset ( hotdog)\n",
    "\n",
    "A. Give Column names as Type, Calories, Sodium? (1 Mark)\n",
    "\n",
    "B. Find out average Calories and average Sodium vales for each Hotdog type (1 Mark)\n",
    "\n",
    "C. Find out rows having Calories less than 120 and Sodium values greater than 300 (1 Marks)\n",
    "\n",
    "D. Create Column Grade having values 'A' and 'B' as follows: \n",
    "    \n",
    "Grade A:  Items having Calorie value less than 150 and Sodium value less than 400  \n",
    "\n",
    "Grade B:   Otherwise (2 Marks)\n"
   ]
  },
  {
   "cell_type": "code",
   "execution_count": 134,
   "metadata": {
    "scrolled": true
   },
   "outputs": [
    {
     "data": {
      "text/html": [
       "<div>\n",
       "<style scoped>\n",
       "    .dataframe tbody tr th:only-of-type {\n",
       "        vertical-align: middle;\n",
       "    }\n",
       "\n",
       "    .dataframe tbody tr th {\n",
       "        vertical-align: top;\n",
       "    }\n",
       "\n",
       "    .dataframe thead th {\n",
       "        text-align: right;\n",
       "    }\n",
       "</style>\n",
       "<table border=\"1\" class=\"dataframe\">\n",
       "  <thead>\n",
       "    <tr style=\"text-align: right;\">\n",
       "      <th></th>\n",
       "      <th>Beef</th>\n",
       "      <th>186</th>\n",
       "      <th>495</th>\n",
       "    </tr>\n",
       "  </thead>\n",
       "  <tbody>\n",
       "    <tr>\n",
       "      <th>0</th>\n",
       "      <td>Beef</td>\n",
       "      <td>181</td>\n",
       "      <td>477</td>\n",
       "    </tr>\n",
       "    <tr>\n",
       "      <th>1</th>\n",
       "      <td>Beef</td>\n",
       "      <td>176</td>\n",
       "      <td>425</td>\n",
       "    </tr>\n",
       "    <tr>\n",
       "      <th>2</th>\n",
       "      <td>Beef</td>\n",
       "      <td>149</td>\n",
       "      <td>322</td>\n",
       "    </tr>\n",
       "    <tr>\n",
       "      <th>3</th>\n",
       "      <td>Beef</td>\n",
       "      <td>184</td>\n",
       "      <td>482</td>\n",
       "    </tr>\n",
       "    <tr>\n",
       "      <th>4</th>\n",
       "      <td>Beef</td>\n",
       "      <td>190</td>\n",
       "      <td>587</td>\n",
       "    </tr>\n",
       "  </tbody>\n",
       "</table>\n",
       "</div>"
      ],
      "text/plain": [
       "   Beef  186  495\n",
       "0  Beef  181  477\n",
       "1  Beef  176  425\n",
       "2  Beef  149  322\n",
       "3  Beef  184  482\n",
       "4  Beef  190  587"
      ]
     },
     "execution_count": 134,
     "metadata": {},
     "output_type": "execute_result"
    }
   ],
   "source": [
    "hotdogs.head()"
   ]
  },
  {
   "cell_type": "code",
   "execution_count": 137,
   "metadata": {},
   "outputs": [
    {
     "data": {
      "text/plain": [
       "Index(['Beef', '186', '495'], dtype='object')"
      ]
     },
     "execution_count": 137,
     "metadata": {},
     "output_type": "execute_result"
    }
   ],
   "source": [
    "hotdogs.columns"
   ]
  },
  {
   "cell_type": "code",
   "execution_count": 138,
   "metadata": {},
   "outputs": [],
   "source": [
    "hotdogs.rename(columns = {'Beef':'Type', '186':'Calories', '495':'Sodium'}, inplace = True)"
   ]
  },
  {
   "cell_type": "code",
   "execution_count": 139,
   "metadata": {},
   "outputs": [
    {
     "data": {
      "text/html": [
       "<div>\n",
       "<style scoped>\n",
       "    .dataframe tbody tr th:only-of-type {\n",
       "        vertical-align: middle;\n",
       "    }\n",
       "\n",
       "    .dataframe tbody tr th {\n",
       "        vertical-align: top;\n",
       "    }\n",
       "\n",
       "    .dataframe thead th {\n",
       "        text-align: right;\n",
       "    }\n",
       "</style>\n",
       "<table border=\"1\" class=\"dataframe\">\n",
       "  <thead>\n",
       "    <tr style=\"text-align: right;\">\n",
       "      <th></th>\n",
       "      <th>Type</th>\n",
       "      <th>Calories</th>\n",
       "      <th>Sodium</th>\n",
       "    </tr>\n",
       "  </thead>\n",
       "  <tbody>\n",
       "    <tr>\n",
       "      <th>0</th>\n",
       "      <td>Beef</td>\n",
       "      <td>181</td>\n",
       "      <td>477</td>\n",
       "    </tr>\n",
       "    <tr>\n",
       "      <th>1</th>\n",
       "      <td>Beef</td>\n",
       "      <td>176</td>\n",
       "      <td>425</td>\n",
       "    </tr>\n",
       "    <tr>\n",
       "      <th>2</th>\n",
       "      <td>Beef</td>\n",
       "      <td>149</td>\n",
       "      <td>322</td>\n",
       "    </tr>\n",
       "    <tr>\n",
       "      <th>3</th>\n",
       "      <td>Beef</td>\n",
       "      <td>184</td>\n",
       "      <td>482</td>\n",
       "    </tr>\n",
       "    <tr>\n",
       "      <th>4</th>\n",
       "      <td>Beef</td>\n",
       "      <td>190</td>\n",
       "      <td>587</td>\n",
       "    </tr>\n",
       "  </tbody>\n",
       "</table>\n",
       "</div>"
      ],
      "text/plain": [
       "   Type  Calories  Sodium\n",
       "0  Beef       181     477\n",
       "1  Beef       176     425\n",
       "2  Beef       149     322\n",
       "3  Beef       184     482\n",
       "4  Beef       190     587"
      ]
     },
     "execution_count": 139,
     "metadata": {},
     "output_type": "execute_result"
    }
   ],
   "source": [
    "hotdogs.head()"
   ]
  },
  {
   "cell_type": "code",
   "execution_count": 141,
   "metadata": {},
   "outputs": [
    {
     "data": {
      "text/html": [
       "<div>\n",
       "<style scoped>\n",
       "    .dataframe tbody tr th:only-of-type {\n",
       "        vertical-align: middle;\n",
       "    }\n",
       "\n",
       "    .dataframe tbody tr th {\n",
       "        vertical-align: top;\n",
       "    }\n",
       "\n",
       "    .dataframe thead th {\n",
       "        text-align: right;\n",
       "    }\n",
       "</style>\n",
       "<table border=\"1\" class=\"dataframe\">\n",
       "  <thead>\n",
       "    <tr style=\"text-align: right;\">\n",
       "      <th></th>\n",
       "      <th>Type</th>\n",
       "      <th>Calories</th>\n",
       "      <th>Sodium</th>\n",
       "    </tr>\n",
       "  </thead>\n",
       "  <tbody>\n",
       "    <tr>\n",
       "      <th>0</th>\n",
       "      <td>Beef</td>\n",
       "      <td>155.915254</td>\n",
       "      <td>397.824859</td>\n",
       "    </tr>\n",
       "    <tr>\n",
       "      <th>1</th>\n",
       "      <td>Meat</td>\n",
       "      <td>158.705882</td>\n",
       "      <td>418.529412</td>\n",
       "    </tr>\n",
       "    <tr>\n",
       "      <th>2</th>\n",
       "      <td>Poultry</td>\n",
       "      <td>118.812950</td>\n",
       "      <td>457.733813</td>\n",
       "    </tr>\n",
       "  </tbody>\n",
       "</table>\n",
       "</div>"
      ],
      "text/plain": [
       "      Type    Calories      Sodium\n",
       "0     Beef  155.915254  397.824859\n",
       "1     Meat  158.705882  418.529412\n",
       "2  Poultry  118.812950  457.733813"
      ]
     },
     "execution_count": 141,
     "metadata": {},
     "output_type": "execute_result"
    }
   ],
   "source": [
    "grouped = hotdogs.groupby(['Type']).agg(np.mean).reset_index()\n",
    "grouped"
   ]
  },
  {
   "cell_type": "code",
   "execution_count": 142,
   "metadata": {},
   "outputs": [
    {
     "data": {
      "text/html": [
       "<div>\n",
       "<style scoped>\n",
       "    .dataframe tbody tr th:only-of-type {\n",
       "        vertical-align: middle;\n",
       "    }\n",
       "\n",
       "    .dataframe tbody tr th {\n",
       "        vertical-align: top;\n",
       "    }\n",
       "\n",
       "    .dataframe thead th {\n",
       "        text-align: right;\n",
       "    }\n",
       "</style>\n",
       "<table border=\"1\" class=\"dataframe\">\n",
       "  <thead>\n",
       "    <tr style=\"text-align: right;\">\n",
       "      <th></th>\n",
       "      <th>Type</th>\n",
       "      <th>Calories</th>\n",
       "      <th>Sodium</th>\n",
       "    </tr>\n",
       "  </thead>\n",
       "  <tbody>\n",
       "    <tr>\n",
       "      <th>38</th>\n",
       "      <td>Poultry</td>\n",
       "      <td>102</td>\n",
       "      <td>396</td>\n",
       "    </tr>\n",
       "    <tr>\n",
       "      <th>39</th>\n",
       "      <td>Poultry</td>\n",
       "      <td>106</td>\n",
       "      <td>383</td>\n",
       "    </tr>\n",
       "    <tr>\n",
       "      <th>40</th>\n",
       "      <td>Poultry</td>\n",
       "      <td>94</td>\n",
       "      <td>387</td>\n",
       "    </tr>\n",
       "    <tr>\n",
       "      <th>41</th>\n",
       "      <td>Poultry</td>\n",
       "      <td>102</td>\n",
       "      <td>542</td>\n",
       "    </tr>\n",
       "    <tr>\n",
       "      <th>42</th>\n",
       "      <td>Poultry</td>\n",
       "      <td>87</td>\n",
       "      <td>359</td>\n",
       "    </tr>\n",
       "    <tr>\n",
       "      <th>...</th>\n",
       "      <td>...</td>\n",
       "      <td>...</td>\n",
       "      <td>...</td>\n",
       "    </tr>\n",
       "    <tr>\n",
       "      <th>452</th>\n",
       "      <td>Poultry</td>\n",
       "      <td>87</td>\n",
       "      <td>359</td>\n",
       "    </tr>\n",
       "    <tr>\n",
       "      <th>453</th>\n",
       "      <td>Poultry</td>\n",
       "      <td>99</td>\n",
       "      <td>357</td>\n",
       "    </tr>\n",
       "    <tr>\n",
       "      <th>454</th>\n",
       "      <td>Poultry</td>\n",
       "      <td>107</td>\n",
       "      <td>528</td>\n",
       "    </tr>\n",
       "    <tr>\n",
       "      <th>455</th>\n",
       "      <td>Poultry</td>\n",
       "      <td>113</td>\n",
       "      <td>513</td>\n",
       "    </tr>\n",
       "    <tr>\n",
       "      <th>458</th>\n",
       "      <td>Poultry</td>\n",
       "      <td>86</td>\n",
       "      <td>358</td>\n",
       "    </tr>\n",
       "  </tbody>\n",
       "</table>\n",
       "<p>73 rows × 3 columns</p>\n",
       "</div>"
      ],
      "text/plain": [
       "        Type  Calories  Sodium\n",
       "38   Poultry       102     396\n",
       "39   Poultry       106     383\n",
       "40   Poultry        94     387\n",
       "41   Poultry       102     542\n",
       "42   Poultry        87     359\n",
       "..       ...       ...     ...\n",
       "452  Poultry        87     359\n",
       "453  Poultry        99     357\n",
       "454  Poultry       107     528\n",
       "455  Poultry       113     513\n",
       "458  Poultry        86     358\n",
       "\n",
       "[73 rows x 3 columns]"
      ]
     },
     "execution_count": 142,
     "metadata": {},
     "output_type": "execute_result"
    }
   ],
   "source": [
    "hotdogs[(hotdogs['Calories']<120) & (hotdogs['Sodium'] >300)]"
   ]
  },
  {
   "cell_type": "code",
   "execution_count": 148,
   "metadata": {
    "scrolled": false
   },
   "outputs": [
    {
     "name": "stderr",
     "output_type": "stream",
     "text": [
      "<ipython-input-148-583d3864761e>:6: DeprecationWarning: The default dtype for empty Series will be 'object' instead of 'float64' in a future version. Specify a dtype explicitly to silence this warning.\n",
      "  hotdogs['Grade'] = pd.Series()\n",
      "<ipython-input-148-583d3864761e>:11: SettingWithCopyWarning: \n",
      "A value is trying to be set on a copy of a slice from a DataFrame\n",
      "\n",
      "See the caveats in the documentation: https://pandas.pydata.org/pandas-docs/stable/user_guide/indexing.html#returning-a-view-versus-a-copy\n",
      "  hotdogs['Grade'][i]= 'B'\n",
      "C:\\ProgramData\\Anaconda3\\lib\\site-packages\\pandas\\core\\indexing.py:1637: SettingWithCopyWarning: \n",
      "A value is trying to be set on a copy of a slice from a DataFrame\n",
      "\n",
      "See the caveats in the documentation: https://pandas.pydata.org/pandas-docs/stable/user_guide/indexing.html#returning-a-view-versus-a-copy\n",
      "  self._setitem_single_block(indexer, value, name)\n",
      "<ipython-input-148-583d3864761e>:9: SettingWithCopyWarning: \n",
      "A value is trying to be set on a copy of a slice from a DataFrame\n",
      "\n",
      "See the caveats in the documentation: https://pandas.pydata.org/pandas-docs/stable/user_guide/indexing.html#returning-a-view-versus-a-copy\n",
      "  hotdogs['Grade'][i]= 'A'\n"
     ]
    }
   ],
   "source": [
    "# Create Column Grade having values 'A' and 'B' as follows:\n",
    "\n",
    "# Grade A: Items having Calorie value less than 150 and Sodium value less than 400\n",
    "\n",
    "# Grade B: Otherwise\n",
    "hotdogs['Grade'] = pd.Series()\n",
    "for i in range(len(hotdogs)):\n",
    "    if hotdogs['Calories'][i]<150 and hotdogs['Sodium'][i]<400:\n",
    "        hotdogs['Grade'][i]= 'A'\n",
    "    else:\n",
    "        hotdogs['Grade'][i]= 'B'"
   ]
  },
  {
   "cell_type": "code",
   "execution_count": 150,
   "metadata": {},
   "outputs": [
    {
     "data": {
      "text/plain": [
       "B    275\n",
       "A    194\n",
       "Name: Grade, dtype: int64"
      ]
     },
     "execution_count": 150,
     "metadata": {},
     "output_type": "execute_result"
    }
   ],
   "source": [
    "hotdogs.Grade.value_counts()"
   ]
  },
  {
   "cell_type": "markdown",
   "metadata": {
    "colab_type": "text",
    "id": "hDGYJ7sVCfe7"
   },
   "source": [
    "--------------"
   ]
  },
  {
   "cell_type": "markdown",
   "metadata": {
    "colab_type": "text",
    "id": "gXqnKPeSW0cy"
   },
   "source": [
    "# SECTION B: 20 MARKS"
   ]
  },
  {
   "cell_type": "markdown",
   "metadata": {
    "colab_type": "text",
    "id": "BLmTpAmSCfe8"
   },
   "source": [
    "----------"
   ]
  },
  {
   "cell_type": "markdown",
   "metadata": {
    "colab_type": "text",
    "id": "1l7zNvDlCfe8"
   },
   "source": [
    "### 5. Read the dataset (stock_data)\n",
    "\n",
    "A. Give column names as `timestamp`, `AA`, `AAPL`, `GE`, `IBM`, `JNJ`, `MSFT`, `PEP`, `SPX`, `XOM`. List all the columns of the dataset, Identify the numerical, categorical columns. (4 Marks)\n",
    "\n",
    "B. Convert the column `timestamp` into python datetime object (1 Marks)\n",
    "\n",
    "C. Find Average value of stock `AAPL` in the year 2009  (5 Marks)\n"
   ]
  },
  {
   "cell_type": "code",
   "execution_count": 151,
   "metadata": {
    "colab": {},
    "colab_type": "code",
    "id": "SKBiAam8Cfe8"
   },
   "outputs": [
    {
     "data": {
      "text/html": [
       "<div>\n",
       "<style scoped>\n",
       "    .dataframe tbody tr th:only-of-type {\n",
       "        vertical-align: middle;\n",
       "    }\n",
       "\n",
       "    .dataframe tbody tr th {\n",
       "        vertical-align: top;\n",
       "    }\n",
       "\n",
       "    .dataframe thead th {\n",
       "        text-align: right;\n",
       "    }\n",
       "</style>\n",
       "<table border=\"1\" class=\"dataframe\">\n",
       "  <thead>\n",
       "    <tr style=\"text-align: right;\">\n",
       "      <th></th>\n",
       "      <th>Unnamed: 48</th>\n",
       "      <th>AA</th>\n",
       "      <th>AAPL</th>\n",
       "      <th>GE</th>\n",
       "      <th>IBM</th>\n",
       "      <th>JNJ</th>\n",
       "      <th>MSFT</th>\n",
       "      <th>PEP</th>\n",
       "      <th>SPX</th>\n",
       "      <th>XOM</th>\n",
       "    </tr>\n",
       "  </thead>\n",
       "  <tbody>\n",
       "    <tr>\n",
       "      <th>0</th>\n",
       "      <td>29-10-2007 00:00</td>\n",
       "      <td>37.41</td>\n",
       "      <td>185.09</td>\n",
       "      <td>34.46</td>\n",
       "      <td>106.78</td>\n",
       "      <td>57.13</td>\n",
       "      <td>31.78</td>\n",
       "      <td>65.67</td>\n",
       "      <td>1540.98</td>\n",
       "      <td>85.51</td>\n",
       "    </tr>\n",
       "    <tr>\n",
       "      <th>1</th>\n",
       "      <td>30-10-2007 00:00</td>\n",
       "      <td>36.43</td>\n",
       "      <td>187.00</td>\n",
       "      <td>34.39</td>\n",
       "      <td>106.15</td>\n",
       "      <td>56.99</td>\n",
       "      <td>32.70</td>\n",
       "      <td>65.80</td>\n",
       "      <td>1531.02</td>\n",
       "      <td>83.25</td>\n",
       "    </tr>\n",
       "    <tr>\n",
       "      <th>2</th>\n",
       "      <td>31-10-2007 00:00</td>\n",
       "      <td>36.79</td>\n",
       "      <td>189.95</td>\n",
       "      <td>34.97</td>\n",
       "      <td>108.01</td>\n",
       "      <td>57.30</td>\n",
       "      <td>33.84</td>\n",
       "      <td>65.69</td>\n",
       "      <td>1549.38</td>\n",
       "      <td>84.03</td>\n",
       "    </tr>\n",
       "    <tr>\n",
       "      <th>3</th>\n",
       "      <td>01-11-2007 00:00</td>\n",
       "      <td>35.22</td>\n",
       "      <td>187.44</td>\n",
       "      <td>34.27</td>\n",
       "      <td>105.72</td>\n",
       "      <td>56.85</td>\n",
       "      <td>34.07</td>\n",
       "      <td>64.51</td>\n",
       "      <td>1508.44</td>\n",
       "      <td>80.84</td>\n",
       "    </tr>\n",
       "    <tr>\n",
       "      <th>4</th>\n",
       "      <td>02-11-2007 00:00</td>\n",
       "      <td>35.83</td>\n",
       "      <td>187.87</td>\n",
       "      <td>34.27</td>\n",
       "      <td>106.59</td>\n",
       "      <td>56.95</td>\n",
       "      <td>34.07</td>\n",
       "      <td>65.03</td>\n",
       "      <td>1509.65</td>\n",
       "      <td>80.32</td>\n",
       "    </tr>\n",
       "  </tbody>\n",
       "</table>\n",
       "</div>"
      ],
      "text/plain": [
       "        Unnamed: 48     AA    AAPL     GE     IBM    JNJ   MSFT    PEP  \\\n",
       "0  29-10-2007 00:00  37.41  185.09  34.46  106.78  57.13  31.78  65.67   \n",
       "1  30-10-2007 00:00  36.43  187.00  34.39  106.15  56.99  32.70  65.80   \n",
       "2  31-10-2007 00:00  36.79  189.95  34.97  108.01  57.30  33.84  65.69   \n",
       "3  01-11-2007 00:00  35.22  187.44  34.27  105.72  56.85  34.07  64.51   \n",
       "4  02-11-2007 00:00  35.83  187.87  34.27  106.59  56.95  34.07  65.03   \n",
       "\n",
       "       SPX    XOM  \n",
       "0  1540.98  85.51  \n",
       "1  1531.02  83.25  \n",
       "2  1549.38  84.03  \n",
       "3  1508.44  80.84  \n",
       "4  1509.65  80.32  "
      ]
     },
     "execution_count": 151,
     "metadata": {},
     "output_type": "execute_result"
    }
   ],
   "source": [
    "stock_data.head()"
   ]
  },
  {
   "cell_type": "code",
   "execution_count": null,
   "metadata": {},
   "outputs": [],
   "source": [
    "`timestamp`, `AA`, `AAPL`, `GE`, `IBM`, `JNJ`, `MSFT`, `PEP`, `SPX`, `XOM`"
   ]
  },
  {
   "cell_type": "code",
   "execution_count": 153,
   "metadata": {},
   "outputs": [],
   "source": [
    "stock_data.rename(columns = {'Unnamed: 48':'timestamp'}, \n",
    "               inplace = True)"
   ]
  },
  {
   "cell_type": "code",
   "execution_count": 154,
   "metadata": {},
   "outputs": [
    {
     "data": {
      "text/html": [
       "<div>\n",
       "<style scoped>\n",
       "    .dataframe tbody tr th:only-of-type {\n",
       "        vertical-align: middle;\n",
       "    }\n",
       "\n",
       "    .dataframe tbody tr th {\n",
       "        vertical-align: top;\n",
       "    }\n",
       "\n",
       "    .dataframe thead th {\n",
       "        text-align: right;\n",
       "    }\n",
       "</style>\n",
       "<table border=\"1\" class=\"dataframe\">\n",
       "  <thead>\n",
       "    <tr style=\"text-align: right;\">\n",
       "      <th></th>\n",
       "      <th>timestamp</th>\n",
       "      <th>AA</th>\n",
       "      <th>AAPL</th>\n",
       "      <th>GE</th>\n",
       "      <th>IBM</th>\n",
       "      <th>JNJ</th>\n",
       "      <th>MSFT</th>\n",
       "      <th>PEP</th>\n",
       "      <th>SPX</th>\n",
       "      <th>XOM</th>\n",
       "    </tr>\n",
       "  </thead>\n",
       "  <tbody>\n",
       "    <tr>\n",
       "      <th>0</th>\n",
       "      <td>29-10-2007 00:00</td>\n",
       "      <td>37.41</td>\n",
       "      <td>185.09</td>\n",
       "      <td>34.46</td>\n",
       "      <td>106.78</td>\n",
       "      <td>57.13</td>\n",
       "      <td>31.78</td>\n",
       "      <td>65.67</td>\n",
       "      <td>1540.98</td>\n",
       "      <td>85.51</td>\n",
       "    </tr>\n",
       "    <tr>\n",
       "      <th>1</th>\n",
       "      <td>30-10-2007 00:00</td>\n",
       "      <td>36.43</td>\n",
       "      <td>187.00</td>\n",
       "      <td>34.39</td>\n",
       "      <td>106.15</td>\n",
       "      <td>56.99</td>\n",
       "      <td>32.70</td>\n",
       "      <td>65.80</td>\n",
       "      <td>1531.02</td>\n",
       "      <td>83.25</td>\n",
       "    </tr>\n",
       "    <tr>\n",
       "      <th>2</th>\n",
       "      <td>31-10-2007 00:00</td>\n",
       "      <td>36.79</td>\n",
       "      <td>189.95</td>\n",
       "      <td>34.97</td>\n",
       "      <td>108.01</td>\n",
       "      <td>57.30</td>\n",
       "      <td>33.84</td>\n",
       "      <td>65.69</td>\n",
       "      <td>1549.38</td>\n",
       "      <td>84.03</td>\n",
       "    </tr>\n",
       "    <tr>\n",
       "      <th>3</th>\n",
       "      <td>01-11-2007 00:00</td>\n",
       "      <td>35.22</td>\n",
       "      <td>187.44</td>\n",
       "      <td>34.27</td>\n",
       "      <td>105.72</td>\n",
       "      <td>56.85</td>\n",
       "      <td>34.07</td>\n",
       "      <td>64.51</td>\n",
       "      <td>1508.44</td>\n",
       "      <td>80.84</td>\n",
       "    </tr>\n",
       "    <tr>\n",
       "      <th>4</th>\n",
       "      <td>02-11-2007 00:00</td>\n",
       "      <td>35.83</td>\n",
       "      <td>187.87</td>\n",
       "      <td>34.27</td>\n",
       "      <td>106.59</td>\n",
       "      <td>56.95</td>\n",
       "      <td>34.07</td>\n",
       "      <td>65.03</td>\n",
       "      <td>1509.65</td>\n",
       "      <td>80.32</td>\n",
       "    </tr>\n",
       "  </tbody>\n",
       "</table>\n",
       "</div>"
      ],
      "text/plain": [
       "          timestamp     AA    AAPL     GE     IBM    JNJ   MSFT    PEP  \\\n",
       "0  29-10-2007 00:00  37.41  185.09  34.46  106.78  57.13  31.78  65.67   \n",
       "1  30-10-2007 00:00  36.43  187.00  34.39  106.15  56.99  32.70  65.80   \n",
       "2  31-10-2007 00:00  36.79  189.95  34.97  108.01  57.30  33.84  65.69   \n",
       "3  01-11-2007 00:00  35.22  187.44  34.27  105.72  56.85  34.07  64.51   \n",
       "4  02-11-2007 00:00  35.83  187.87  34.27  106.59  56.95  34.07  65.03   \n",
       "\n",
       "       SPX    XOM  \n",
       "0  1540.98  85.51  \n",
       "1  1531.02  83.25  \n",
       "2  1549.38  84.03  \n",
       "3  1508.44  80.84  \n",
       "4  1509.65  80.32  "
      ]
     },
     "execution_count": 154,
     "metadata": {},
     "output_type": "execute_result"
    }
   ],
   "source": [
    "stock_data.head()"
   ]
  },
  {
   "cell_type": "code",
   "execution_count": 156,
   "metadata": {},
   "outputs": [],
   "source": [
    "stock_data['timestamp'] = stock_data['timestamp'].astype('datetime64')"
   ]
  },
  {
   "cell_type": "code",
   "execution_count": 157,
   "metadata": {},
   "outputs": [
    {
     "ename": "NameError",
     "evalue": "name 'year' is not defined",
     "output_type": "error",
     "traceback": [
      "\u001b[1;31m---------------------------------------------------------------------------\u001b[0m",
      "\u001b[1;31mNameError\u001b[0m                                 Traceback (most recent call last)",
      "\u001b[1;32m<ipython-input-157-a7af0144b421>\u001b[0m in \u001b[0;36m<module>\u001b[1;34m\u001b[0m\n\u001b[1;32m----> 1\u001b[1;33m \u001b[0myear\u001b[0m\u001b[1;33m(\u001b[0m\u001b[0mstock_data\u001b[0m\u001b[1;33m[\u001b[0m\u001b[1;34m'timestamp'\u001b[0m\u001b[1;33m]\u001b[0m\u001b[1;33m)\u001b[0m\u001b[1;33m\u001b[0m\u001b[1;33m\u001b[0m\u001b[0m\n\u001b[0m",
      "\u001b[1;31mNameError\u001b[0m: name 'year' is not defined"
     ]
    }
   ],
   "source": [
    "year(stock_data['timestamp'])"
   ]
  },
  {
   "cell_type": "code",
   "execution_count": null,
   "metadata": {},
   "outputs": [],
   "source": [
    "# Find Average value of stock AAPL in the year 2009 (5 Marks)\n",
    "stock_data.groupby[year(T)]"
   ]
  },
  {
   "cell_type": "markdown",
   "metadata": {
    "colab_type": "text",
    "id": "pppbaKMpCfe-"
   },
   "source": [
    "### 6. Read the dataset(Report_2010_to_Congress_on_White_House_Staff) and Answer the below questions?\n",
    "    \n",
    "**Exercise:1** Find the position title to which more amount is spent on salaries? (6 marks)\n",
    "\n",
    "**Exercise:2**\n",
    "\n",
    "2A. Find the position title to which the least amount is spent on salaries? (2 marks)\n",
    "\n",
    "2B) Find the highest-paid position title? (2 marks)\n",
    "\n",
    "**Exercise:3**\n",
    "\n",
    "3.A)Find the least paid position title? (1 marks)\n",
    "\n",
    "3.B) Find the percentage of the amount spent on each position w.r.t Salaries? (3 marks)\n",
    "\n",
    "\n"
   ]
  },
  {
   "cell_type": "code",
   "execution_count": 164,
   "metadata": {
    "colab": {},
    "colab_type": "code",
    "id": "bKwPe4nKCfe_"
   },
   "outputs": [
    {
     "data": {
      "text/plain": [
       "Position Title\n",
       "SPECIAL ASSISTANT TO THE PRESIDENT FOR LEGISLATIVE AFFAIRS                   1305000\n",
       "SPECIAL ASSISTANT TO THE PRESIDENT AND ASSOCIATE COUNSEL TO THE PRESIDENT    1288500\n",
       "STAFF ASSISTANT                                                               987840\n",
       "RECORDS MANAGEMENT ANALYST                                                    795670\n",
       "DEPUTY ASSOCIATE COUNSEL FOR PRESIDENTIAL PERSONNEL                           656211\n",
       "Name: Salary, dtype: int64"
      ]
     },
     "execution_count": 164,
     "metadata": {},
     "output_type": "execute_result"
    }
   ],
   "source": [
    "Report_2010_to_Congress_on_White_House_Staff.groupby('Position Title').agg(np.sum)['Salary'].sort_values(ascending = False).head(5)"
   ]
  },
  {
   "cell_type": "code",
   "execution_count": 165,
   "metadata": {
    "scrolled": true
   },
   "outputs": [
    {
     "data": {
      "text/plain": [
       "Position Title\n",
       "PRIORITY PLACEMENT STAFF ASSISTANT                                42000\n",
       "RESEARCH ASSOCIATE                                                42000\n",
       "BOARDS AND COMMISSIONS STAFF ASSISTANT                            42000\n",
       "DEPUTY ASSOCIATE DIRECTOR OF CORRESPONDENCE FOR THE FIRST LADY    42000\n",
       "ADVANCE COORDINATOR                                               42000\n",
       "Name: Salary, dtype: int64"
      ]
     },
     "execution_count": 165,
     "metadata": {},
     "output_type": "execute_result"
    }
   ],
   "source": [
    "Report_2010_to_Congress_on_White_House_Staff.groupby('Position Title').agg(np.sum)['Salary'].sort_values(ascending = False).tail(5)"
   ]
  },
  {
   "cell_type": "code",
   "execution_count": 168,
   "metadata": {},
   "outputs": [
    {
     "data": {
      "text/plain": [
       "Position Title\n",
       "POLICY DIRECTOR    179700.0\n",
       "Name: Salary, dtype: float64"
      ]
     },
     "execution_count": 168,
     "metadata": {},
     "output_type": "execute_result"
    }
   ],
   "source": [
    "Report_2010_to_Congress_on_White_House_Staff.groupby('Position Title').agg('mean')['Salary'].sort_values(ascending = False).head(1)"
   ]
  },
  {
   "cell_type": "code",
   "execution_count": 169,
   "metadata": {},
   "outputs": [
    {
     "data": {
      "text/plain": [
       "Position Title\n",
       "STAFF ASSISTANT    41160.0\n",
       "Name: Salary, dtype: float64"
      ]
     },
     "execution_count": 169,
     "metadata": {},
     "output_type": "execute_result"
    }
   ],
   "source": [
    "Report_2010_to_Congress_on_White_House_Staff.groupby('Position Title').agg('mean')['Salary'].sort_values(ascending = False).tail(1)"
   ]
  },
  {
   "cell_type": "code",
   "execution_count": 175,
   "metadata": {},
   "outputs": [
    {
     "data": {
      "text/plain": [
       "Position Title\n",
       "SPECIAL ASSISTANT TO THE PRESIDENT FOR LEGISLATIVE AFFAIRS                   3.363722\n",
       "SPECIAL ASSISTANT TO THE PRESIDENT AND ASSOCIATE COUNSEL TO THE PRESIDENT    3.321192\n",
       "STAFF ASSISTANT                                                              2.546222\n",
       "RECORDS MANAGEMENT ANALYST                                                   2.050891\n",
       "DEPUTY ASSOCIATE COUNSEL FOR PRESIDENTIAL PERSONNEL                          1.691426\n",
       "                                                                               ...   \n",
       "PRIORITY PLACEMENT STAFF ASSISTANT                                           0.108258\n",
       "RESEARCH ASSOCIATE                                                           0.108258\n",
       "BOARDS AND COMMISSIONS STAFF ASSISTANT                                       0.108258\n",
       "DEPUTY ASSOCIATE DIRECTOR OF CORRESPONDENCE FOR THE FIRST LADY               0.108258\n",
       "ADVANCE COORDINATOR                                                          0.108258\n",
       "Name: Salary, Length: 269, dtype: float64"
      ]
     },
     "execution_count": 175,
     "metadata": {},
     "output_type": "execute_result"
    }
   ],
   "source": [
    "((Report_2010_to_Congress_on_White_House_Staff.groupby('Position Title').agg(np.sum)['Salary']/sum(Report_2010_to_Congress_on_White_House_Staff['Salary']))*100).sort_values(ascending = False)"
   ]
  },
  {
   "cell_type": "markdown",
   "metadata": {
    "colab_type": "text",
    "id": "6rSkIIc8W0c1"
   },
   "source": [
    "------------------\n",
    "# SECTION C: 30 MARKS\n",
    "\n",
    "------------------"
   ]
  },
  {
   "cell_type": "markdown",
   "metadata": {
    "colab_type": "text",
    "id": "xAO0E8lzCffC"
   },
   "source": [
    "### 7. Read the dataset(Fifa) and Answer the below questions?"
   ]
  },
  {
   "cell_type": "code",
   "execution_count": 176,
   "metadata": {
    "colab": {},
    "colab_type": "code",
    "id": "imEgDcChCffC"
   },
   "outputs": [
    {
     "data": {
      "text/html": [
       "<div>\n",
       "<style scoped>\n",
       "    .dataframe tbody tr th:only-of-type {\n",
       "        vertical-align: middle;\n",
       "    }\n",
       "\n",
       "    .dataframe tbody tr th {\n",
       "        vertical-align: top;\n",
       "    }\n",
       "\n",
       "    .dataframe thead th {\n",
       "        text-align: right;\n",
       "    }\n",
       "</style>\n",
       "<table border=\"1\" class=\"dataframe\">\n",
       "  <thead>\n",
       "    <tr style=\"text-align: right;\">\n",
       "      <th></th>\n",
       "      <th>ID</th>\n",
       "      <th>Name</th>\n",
       "      <th>Age</th>\n",
       "      <th>Nationality</th>\n",
       "      <th>Overall</th>\n",
       "      <th>Potential</th>\n",
       "      <th>Club</th>\n",
       "      <th>Value</th>\n",
       "      <th>Wage</th>\n",
       "      <th>Special</th>\n",
       "      <th>...</th>\n",
       "      <th>Skill Moves</th>\n",
       "      <th>Work Rate</th>\n",
       "      <th>Body Type</th>\n",
       "      <th>Real Face</th>\n",
       "      <th>Position</th>\n",
       "      <th>Jersey Number</th>\n",
       "      <th>Joined</th>\n",
       "      <th>Contract Valid Until</th>\n",
       "      <th>Height</th>\n",
       "      <th>Weight</th>\n",
       "    </tr>\n",
       "  </thead>\n",
       "  <tbody>\n",
       "    <tr>\n",
       "      <th>0</th>\n",
       "      <td>16</td>\n",
       "      <td>Luis Garc�a</td>\n",
       "      <td>37</td>\n",
       "      <td>Spain</td>\n",
       "      <td>71</td>\n",
       "      <td>71</td>\n",
       "      <td>KAS Eupen</td>\n",
       "      <td>?750K</td>\n",
       "      <td>?6K</td>\n",
       "      <td>1906</td>\n",
       "      <td>...</td>\n",
       "      <td>3</td>\n",
       "      <td>Medium/ Medium</td>\n",
       "      <td>Lean</td>\n",
       "      <td>No</td>\n",
       "      <td>RCM</td>\n",
       "      <td>10</td>\n",
       "      <td>19-Jul-14</td>\n",
       "      <td>2019</td>\n",
       "      <td>5'10</td>\n",
       "      <td>143lbs</td>\n",
       "    </tr>\n",
       "    <tr>\n",
       "      <th>1</th>\n",
       "      <td>41</td>\n",
       "      <td>Iniesta</td>\n",
       "      <td>34</td>\n",
       "      <td>Spain</td>\n",
       "      <td>86</td>\n",
       "      <td>86</td>\n",
       "      <td>Vissel Kobe</td>\n",
       "      <td>?21.5M</td>\n",
       "      <td>?21K</td>\n",
       "      <td>2058</td>\n",
       "      <td>...</td>\n",
       "      <td>4</td>\n",
       "      <td>High/ Medium</td>\n",
       "      <td>Normal</td>\n",
       "      <td>Yes</td>\n",
       "      <td>LF</td>\n",
       "      <td>8</td>\n",
       "      <td>16-Jul-18</td>\n",
       "      <td>2021</td>\n",
       "      <td>5'7</td>\n",
       "      <td>150lbs</td>\n",
       "    </tr>\n",
       "    <tr>\n",
       "      <th>2</th>\n",
       "      <td>80</td>\n",
       "      <td>E. Bel�zo?lu</td>\n",
       "      <td>37</td>\n",
       "      <td>Turkey</td>\n",
       "      <td>79</td>\n",
       "      <td>79</td>\n",
       "      <td>Medipol Ba?ak?ehir FK</td>\n",
       "      <td>?4M</td>\n",
       "      <td>?23K</td>\n",
       "      <td>2047</td>\n",
       "      <td>...</td>\n",
       "      <td>4</td>\n",
       "      <td>Medium/ Medium</td>\n",
       "      <td>Stocky</td>\n",
       "      <td>No</td>\n",
       "      <td>CM</td>\n",
       "      <td>5</td>\n",
       "      <td>09-Jul-15</td>\n",
       "      <td>2019</td>\n",
       "      <td>5'7</td>\n",
       "      <td>159lbs</td>\n",
       "    </tr>\n",
       "    <tr>\n",
       "      <th>3</th>\n",
       "      <td>164</td>\n",
       "      <td>G. Pinzi</td>\n",
       "      <td>37</td>\n",
       "      <td>Italy</td>\n",
       "      <td>70</td>\n",
       "      <td>70</td>\n",
       "      <td>Padova</td>\n",
       "      <td>?240K</td>\n",
       "      <td>?2K</td>\n",
       "      <td>1882</td>\n",
       "      <td>...</td>\n",
       "      <td>3</td>\n",
       "      <td>Low/ High</td>\n",
       "      <td>Normal</td>\n",
       "      <td>No</td>\n",
       "      <td>LCM</td>\n",
       "      <td>11</td>\n",
       "      <td>31-Aug-17</td>\n",
       "      <td>2019</td>\n",
       "      <td>5'11</td>\n",
       "      <td>168lbs</td>\n",
       "    </tr>\n",
       "    <tr>\n",
       "      <th>4</th>\n",
       "      <td>657</td>\n",
       "      <td>D. Vaughan</td>\n",
       "      <td>35</td>\n",
       "      <td>Wales</td>\n",
       "      <td>66</td>\n",
       "      <td>66</td>\n",
       "      <td>Notts County</td>\n",
       "      <td>?150K</td>\n",
       "      <td>?4K</td>\n",
       "      <td>1781</td>\n",
       "      <td>...</td>\n",
       "      <td>2</td>\n",
       "      <td>Medium/ High</td>\n",
       "      <td>Stocky</td>\n",
       "      <td>No</td>\n",
       "      <td>CDM</td>\n",
       "      <td>8</td>\n",
       "      <td>06-Jul-18</td>\n",
       "      <td>2019</td>\n",
       "      <td>5'6</td>\n",
       "      <td>154lbs</td>\n",
       "    </tr>\n",
       "  </tbody>\n",
       "</table>\n",
       "<p>5 rows × 23 columns</p>\n",
       "</div>"
      ],
      "text/plain": [
       "    ID          Name  Age Nationality  Overall  Potential  \\\n",
       "0   16   Luis Garc�a   37       Spain       71         71   \n",
       "1   41       Iniesta   34       Spain       86         86   \n",
       "2   80  E. Bel�zo?lu   37      Turkey       79         79   \n",
       "3  164      G. Pinzi   37       Italy       70         70   \n",
       "4  657    D. Vaughan   35       Wales       66         66   \n",
       "\n",
       "                    Club   Value  Wage  Special  ... Skill Moves  \\\n",
       "0              KAS Eupen   ?750K   ?6K     1906  ...           3   \n",
       "1            Vissel Kobe  ?21.5M  ?21K     2058  ...           4   \n",
       "2  Medipol Ba?ak?ehir FK     ?4M  ?23K     2047  ...           4   \n",
       "3                 Padova   ?240K   ?2K     1882  ...           3   \n",
       "4           Notts County   ?150K   ?4K     1781  ...           2   \n",
       "\n",
       "        Work Rate  Body Type  Real Face Position Jersey Number     Joined  \\\n",
       "0  Medium/ Medium       Lean         No      RCM            10  19-Jul-14   \n",
       "1    High/ Medium     Normal        Yes       LF             8  16-Jul-18   \n",
       "2  Medium/ Medium     Stocky         No       CM             5  09-Jul-15   \n",
       "3       Low/ High     Normal         No      LCM            11  31-Aug-17   \n",
       "4    Medium/ High     Stocky         No      CDM             8  06-Jul-18   \n",
       "\n",
       "  Contract Valid Until  Height  Weight  \n",
       "0                 2019    5'10  143lbs  \n",
       "1                 2021     5'7  150lbs  \n",
       "2                 2019     5'7  159lbs  \n",
       "3                 2019    5'11  168lbs  \n",
       "4                 2019     5'6  154lbs  \n",
       "\n",
       "[5 rows x 23 columns]"
      ]
     },
     "execution_count": 176,
     "metadata": {},
     "output_type": "execute_result"
    }
   ],
   "source": [
    "Fifa.head()"
   ]
  },
  {
   "cell_type": "code",
   "execution_count": null,
   "metadata": {
    "colab": {},
    "colab_type": "code",
    "id": "gJU4tJy1CffE"
   },
   "outputs": [],
   "source": []
  },
  {
   "cell_type": "markdown",
   "metadata": {
    "colab_type": "text",
    "id": "cBeCE69cCffG"
   },
   "source": [
    "### 7A).\tData Manipulation for Value Column (5 Marks).\n",
    "\n",
    "**Step1:** Clean Value column by removing '?' from each row.\n",
    "\n",
    "**Step2:** Convert the column in uniform unit i.e. 'K' by using given conversion rate 1 =1000 K and also remove the letter 'K' and 'M' from each row.\n",
    "\n",
    "**Step3:** Convert the Datatype of the column to 'float'\n",
    "\n",
    "**First 5 values of Sample output column should look like this:**\n",
    "\n",
    "\n",
    "|0   |    750.0|\n",
    "|----|-------|\n",
    "|1   |   21500.0|\n",
    "|2    |   4000.0|\n",
    "|3    |   240.0|\n",
    "|4    |   150.0|\n",
    "\n",
    "Name: Value, dtype: float64\n",
    "\n"
   ]
  },
  {
   "cell_type": "code",
   "execution_count": 195,
   "metadata": {
    "scrolled": true
   },
   "outputs": [
    {
     "name": "stdout",
     "output_type": "stream",
     "text": [
      "Name\n"
     ]
    },
    {
     "ename": "AttributeError",
     "evalue": "'str' object has no attribute 'str'",
     "output_type": "error",
     "traceback": [
      "\u001b[1;31m---------------------------------------------------------------------------\u001b[0m",
      "\u001b[1;31mAttributeError\u001b[0m                            Traceback (most recent call last)",
      "\u001b[1;32m<ipython-input-195-8c6ea14036cf>\u001b[0m in \u001b[0;36m<module>\u001b[1;34m\u001b[0m\n\u001b[0;32m      4\u001b[0m         \u001b[0mprint\u001b[0m\u001b[1;33m(\u001b[0m\u001b[0mi\u001b[0m\u001b[1;33m)\u001b[0m\u001b[1;33m\u001b[0m\u001b[1;33m\u001b[0m\u001b[0m\n\u001b[0;32m      5\u001b[0m         \u001b[1;32mfor\u001b[0m \u001b[0mj\u001b[0m \u001b[1;32min\u001b[0m \u001b[0mrange\u001b[0m\u001b[1;33m(\u001b[0m\u001b[0mlen\u001b[0m\u001b[1;33m(\u001b[0m\u001b[0mFifa\u001b[0m\u001b[1;33m)\u001b[0m\u001b[1;33m)\u001b[0m\u001b[1;33m:\u001b[0m\u001b[1;33m\u001b[0m\u001b[1;33m\u001b[0m\u001b[0m\n\u001b[1;32m----> 6\u001b[1;33m             \u001b[0mFifa\u001b[0m\u001b[1;33m[\u001b[0m\u001b[0mi\u001b[0m\u001b[1;33m]\u001b[0m\u001b[1;33m[\u001b[0m\u001b[0mj\u001b[0m\u001b[1;33m]\u001b[0m\u001b[1;33m.\u001b[0m\u001b[0mstr\u001b[0m\u001b[1;33m.\u001b[0m\u001b[0mreplace\u001b[0m\u001b[1;33m(\u001b[0m\u001b[1;34m'?'\u001b[0m\u001b[1;33m,\u001b[0m \u001b[1;34m''\u001b[0m\u001b[1;33m,\u001b[0m \u001b[0minplace\u001b[0m \u001b[1;33m=\u001b[0m \u001b[1;32mTrue\u001b[0m\u001b[1;33m)\u001b[0m\u001b[1;33m\u001b[0m\u001b[1;33m\u001b[0m\u001b[0m\n\u001b[0m",
      "\u001b[1;31mAttributeError\u001b[0m: 'str' object has no attribute 'str'"
     ]
    }
   ],
   "source": [
    "for i in Fifa.columns:\n",
    "#     print(i)\n",
    "    if Fifa[i].dtype == object:\n",
    "        print(i)\n",
    "        for j in range(len(Fifa)):\n",
    "            Fifa[i][j].str.replace('?', '', inplace = True)"
   ]
  },
  {
   "cell_type": "code",
   "execution_count": 193,
   "metadata": {},
   "outputs": [
    {
     "name": "stdout",
     "output_type": "stream",
     "text": [
      "<class 'pandas.core.frame.DataFrame'>\n",
      "RangeIndex: 469 entries, 0 to 468\n",
      "Data columns (total 23 columns):\n",
      " #   Column                    Non-Null Count  Dtype \n",
      "---  ------                    --------------  ----- \n",
      " 0   ID                        469 non-null    int64 \n",
      " 1   Name                      469 non-null    object\n",
      " 2   Age                       469 non-null    int64 \n",
      " 3   Nationality               469 non-null    object\n",
      " 4   Overall                   469 non-null    int64 \n",
      " 5   Potential                 469 non-null    int64 \n",
      " 6   Club                      469 non-null    object\n",
      " 7   Value                     469 non-null    object\n",
      " 8   Wage                      469 non-null    object\n",
      " 9   Special                   469 non-null    int64 \n",
      " 10  Preferred Foot            469 non-null    object\n",
      " 11  International Reputation  469 non-null    int64 \n",
      " 12  Weak Foot                 469 non-null    int64 \n",
      " 13  Skill Moves               469 non-null    int64 \n",
      " 14  Work Rate                 469 non-null    object\n",
      " 15  Body Type                 469 non-null    object\n",
      " 16  Real Face                 469 non-null    object\n",
      " 17  Position                  469 non-null    object\n",
      " 18  Jersey Number             469 non-null    int64 \n",
      " 19  Joined                    469 non-null    object\n",
      " 20  Contract Valid Until      469 non-null    int64 \n",
      " 21  Height                    469 non-null    object\n",
      " 22  Weight                    469 non-null    object\n",
      "dtypes: int64(10), object(13)\n",
      "memory usage: 84.4+ KB\n"
     ]
    }
   ],
   "source": [
    "Fifa.info()"
   ]
  },
  {
   "cell_type": "code",
   "execution_count": 194,
   "metadata": {},
   "outputs": [
    {
     "data": {
      "text/plain": [
       "True"
      ]
     },
     "execution_count": 194,
     "metadata": {},
     "output_type": "execute_result"
    }
   ],
   "source": [
    "Fifa['Wage'].dtype == object"
   ]
  },
  {
   "cell_type": "code",
   "execution_count": 186,
   "metadata": {},
   "outputs": [
    {
     "data": {
      "text/html": [
       "<div>\n",
       "<style scoped>\n",
       "    .dataframe tbody tr th:only-of-type {\n",
       "        vertical-align: middle;\n",
       "    }\n",
       "\n",
       "    .dataframe tbody tr th {\n",
       "        vertical-align: top;\n",
       "    }\n",
       "\n",
       "    .dataframe thead th {\n",
       "        text-align: right;\n",
       "    }\n",
       "</style>\n",
       "<table border=\"1\" class=\"dataframe\">\n",
       "  <thead>\n",
       "    <tr style=\"text-align: right;\">\n",
       "      <th></th>\n",
       "      <th>ID</th>\n",
       "      <th>Name</th>\n",
       "      <th>Age</th>\n",
       "      <th>Nationality</th>\n",
       "      <th>Overall</th>\n",
       "      <th>Potential</th>\n",
       "      <th>Club</th>\n",
       "      <th>Value</th>\n",
       "      <th>Wage</th>\n",
       "      <th>Special</th>\n",
       "      <th>...</th>\n",
       "      <th>Skill Moves</th>\n",
       "      <th>Work Rate</th>\n",
       "      <th>Body Type</th>\n",
       "      <th>Real Face</th>\n",
       "      <th>Position</th>\n",
       "      <th>Jersey Number</th>\n",
       "      <th>Joined</th>\n",
       "      <th>Contract Valid Until</th>\n",
       "      <th>Height</th>\n",
       "      <th>Weight</th>\n",
       "    </tr>\n",
       "  </thead>\n",
       "  <tbody>\n",
       "    <tr>\n",
       "      <th>0</th>\n",
       "      <td>16</td>\n",
       "      <td>Luis Garc�a</td>\n",
       "      <td>37</td>\n",
       "      <td>Spain</td>\n",
       "      <td>71</td>\n",
       "      <td>71</td>\n",
       "      <td>KAS Eupen</td>\n",
       "      <td>?750K</td>\n",
       "      <td>?6K</td>\n",
       "      <td>1906</td>\n",
       "      <td>...</td>\n",
       "      <td>3</td>\n",
       "      <td>Medium/ Medium</td>\n",
       "      <td>Lean</td>\n",
       "      <td>No</td>\n",
       "      <td>RCM</td>\n",
       "      <td>10</td>\n",
       "      <td>19-Jul-14</td>\n",
       "      <td>2019</td>\n",
       "      <td>5'10</td>\n",
       "      <td>143lbs</td>\n",
       "    </tr>\n",
       "    <tr>\n",
       "      <th>1</th>\n",
       "      <td>41</td>\n",
       "      <td>Iniesta</td>\n",
       "      <td>34</td>\n",
       "      <td>Spain</td>\n",
       "      <td>86</td>\n",
       "      <td>86</td>\n",
       "      <td>Vissel Kobe</td>\n",
       "      <td>?21.5M</td>\n",
       "      <td>?21K</td>\n",
       "      <td>2058</td>\n",
       "      <td>...</td>\n",
       "      <td>4</td>\n",
       "      <td>High/ Medium</td>\n",
       "      <td>Normal</td>\n",
       "      <td>Yes</td>\n",
       "      <td>LF</td>\n",
       "      <td>8</td>\n",
       "      <td>16-Jul-18</td>\n",
       "      <td>2021</td>\n",
       "      <td>5'7</td>\n",
       "      <td>150lbs</td>\n",
       "    </tr>\n",
       "    <tr>\n",
       "      <th>2</th>\n",
       "      <td>80</td>\n",
       "      <td>E. Bel�zo?lu</td>\n",
       "      <td>37</td>\n",
       "      <td>Turkey</td>\n",
       "      <td>79</td>\n",
       "      <td>79</td>\n",
       "      <td>Medipol Ba?ak?ehir FK</td>\n",
       "      <td>?4M</td>\n",
       "      <td>?23K</td>\n",
       "      <td>2047</td>\n",
       "      <td>...</td>\n",
       "      <td>4</td>\n",
       "      <td>Medium/ Medium</td>\n",
       "      <td>Stocky</td>\n",
       "      <td>No</td>\n",
       "      <td>CM</td>\n",
       "      <td>5</td>\n",
       "      <td>09-Jul-15</td>\n",
       "      <td>2019</td>\n",
       "      <td>5'7</td>\n",
       "      <td>159lbs</td>\n",
       "    </tr>\n",
       "    <tr>\n",
       "      <th>3</th>\n",
       "      <td>164</td>\n",
       "      <td>G. Pinzi</td>\n",
       "      <td>37</td>\n",
       "      <td>Italy</td>\n",
       "      <td>70</td>\n",
       "      <td>70</td>\n",
       "      <td>Padova</td>\n",
       "      <td>?240K</td>\n",
       "      <td>?2K</td>\n",
       "      <td>1882</td>\n",
       "      <td>...</td>\n",
       "      <td>3</td>\n",
       "      <td>Low/ High</td>\n",
       "      <td>Normal</td>\n",
       "      <td>No</td>\n",
       "      <td>LCM</td>\n",
       "      <td>11</td>\n",
       "      <td>31-Aug-17</td>\n",
       "      <td>2019</td>\n",
       "      <td>5'11</td>\n",
       "      <td>168lbs</td>\n",
       "    </tr>\n",
       "    <tr>\n",
       "      <th>4</th>\n",
       "      <td>657</td>\n",
       "      <td>D. Vaughan</td>\n",
       "      <td>35</td>\n",
       "      <td>Wales</td>\n",
       "      <td>66</td>\n",
       "      <td>66</td>\n",
       "      <td>Notts County</td>\n",
       "      <td>?150K</td>\n",
       "      <td>?4K</td>\n",
       "      <td>1781</td>\n",
       "      <td>...</td>\n",
       "      <td>2</td>\n",
       "      <td>Medium/ High</td>\n",
       "      <td>Stocky</td>\n",
       "      <td>No</td>\n",
       "      <td>CDM</td>\n",
       "      <td>8</td>\n",
       "      <td>06-Jul-18</td>\n",
       "      <td>2019</td>\n",
       "      <td>5'6</td>\n",
       "      <td>154lbs</td>\n",
       "    </tr>\n",
       "  </tbody>\n",
       "</table>\n",
       "<p>5 rows × 23 columns</p>\n",
       "</div>"
      ],
      "text/plain": [
       "    ID          Name  Age Nationality  Overall  Potential  \\\n",
       "0   16   Luis Garc�a   37       Spain       71         71   \n",
       "1   41       Iniesta   34       Spain       86         86   \n",
       "2   80  E. Bel�zo?lu   37      Turkey       79         79   \n",
       "3  164      G. Pinzi   37       Italy       70         70   \n",
       "4  657    D. Vaughan   35       Wales       66         66   \n",
       "\n",
       "                    Club   Value  Wage  Special  ... Skill Moves  \\\n",
       "0              KAS Eupen   ?750K   ?6K     1906  ...           3   \n",
       "1            Vissel Kobe  ?21.5M  ?21K     2058  ...           4   \n",
       "2  Medipol Ba?ak?ehir FK     ?4M  ?23K     2047  ...           4   \n",
       "3                 Padova   ?240K   ?2K     1882  ...           3   \n",
       "4           Notts County   ?150K   ?4K     1781  ...           2   \n",
       "\n",
       "        Work Rate  Body Type  Real Face Position Jersey Number     Joined  \\\n",
       "0  Medium/ Medium       Lean         No      RCM            10  19-Jul-14   \n",
       "1    High/ Medium     Normal        Yes       LF             8  16-Jul-18   \n",
       "2  Medium/ Medium     Stocky         No       CM             5  09-Jul-15   \n",
       "3       Low/ High     Normal         No      LCM            11  31-Aug-17   \n",
       "4    Medium/ High     Stocky         No      CDM             8  06-Jul-18   \n",
       "\n",
       "  Contract Valid Until  Height  Weight  \n",
       "0                 2019    5'10  143lbs  \n",
       "1                 2021     5'7  150lbs  \n",
       "2                 2019     5'7  159lbs  \n",
       "3                 2019    5'11  168lbs  \n",
       "4                 2019     5'6  154lbs  \n",
       "\n",
       "[5 rows x 23 columns]"
      ]
     },
     "execution_count": 186,
     "metadata": {},
     "output_type": "execute_result"
    }
   ],
   "source": [
    "Fifa.head()"
   ]
  },
  {
   "cell_type": "code",
   "execution_count": null,
   "metadata": {
    "colab": {},
    "colab_type": "code",
    "id": "lWddQY6NCffG"
   },
   "outputs": [],
   "source": []
  },
  {
   "cell_type": "markdown",
   "metadata": {
    "colab_type": "text",
    "id": "6-OwJ9pfCffI"
   },
   "source": [
    "### 7B).\tData Manipulation for Height Column (5 Marks).\n",
    "\n",
    "Step1: Convert Height column from Feet’ Inches unit to Inches unit by using given conversion rate 1 feet = 12 inches\n",
    "Step2: Convert the Datatype of the Height column to 'int'\n",
    "\n",
    "First 5 values of Sample Output Height column should look like this:\n",
    "    \n",
    "|0 |   70|\n",
    "|-|-|\n",
    "|1|    67|\n",
    "|2 |   67|\n",
    "|3  |  71|\n",
    "|4 |   66|\n",
    "Name: Height, dtype: int32\n"
   ]
  },
  {
   "cell_type": "code",
   "execution_count": null,
   "metadata": {
    "colab": {},
    "colab_type": "code",
    "id": "fBnB48xmCffI"
   },
   "outputs": [],
   "source": []
  },
  {
   "cell_type": "markdown",
   "metadata": {
    "colab_type": "text",
    "id": "m1JpvANmCffK"
   },
   "source": [
    "### 7C).\tData Manipulation for Weight Column (5 Marks).\n",
    "\n",
    "**Step1:** Clean Weight column by removing ‘lbs’ from each row’\n",
    "\n",
    "**Step2:** Convert the Datatype of the Weight column to 'int'\n",
    "\n",
    "**First 5 values of Sample Output Weight column should look like this:**\n",
    "\n",
    "|0  |  143|\n",
    "|--|--|\n",
    "|1  |  150|\n",
    "|2  |  159|\n",
    "|3  |  168|\n",
    "|4  |  154|\n",
    "|Name: Weight,| dtype: int32|\n"
   ]
  },
  {
   "cell_type": "code",
   "execution_count": null,
   "metadata": {
    "colab": {},
    "colab_type": "code",
    "id": "qTndhcslCffK"
   },
   "outputs": [],
   "source": []
  },
  {
   "cell_type": "markdown",
   "metadata": {
    "colab_type": "text",
    "id": "_iQXVwVyCffM"
   },
   "source": [
    "### 7D).   Find how many different countries players data is included in the dataset (1 Mark)"
   ]
  },
  {
   "cell_type": "code",
   "execution_count": null,
   "metadata": {
    "colab": {},
    "colab_type": "code",
    "id": "qfKuSxAMCffM"
   },
   "outputs": [],
   "source": []
  },
  {
   "cell_type": "markdown",
   "metadata": {
    "colab_type": "text",
    "id": "XeHyNvoTCffP"
   },
   "source": [
    "### 7E).\tFind out highest Valued player from the dataset (1 Mark)"
   ]
  },
  {
   "cell_type": "code",
   "execution_count": null,
   "metadata": {
    "colab": {},
    "colab_type": "code",
    "id": "CRWFkYA0CffP"
   },
   "outputs": [],
   "source": []
  },
  {
   "cell_type": "markdown",
   "metadata": {
    "colab_type": "text",
    "id": "85EzfwUsCffR"
   },
   "source": [
    "### 7F).\tFind which country's players data is maximum in the dataset and what’s is the count of it (2 Marks)"
   ]
  },
  {
   "cell_type": "code",
   "execution_count": 201,
   "metadata": {
    "colab": {},
    "colab_type": "code",
    "id": "Mj2wLlg9CffR"
   },
   "outputs": [
    {
     "data": {
      "text/plain": [
       "England    64\n",
       "Name: Nationality, dtype: int64"
      ]
     },
     "execution_count": 201,
     "metadata": {},
     "output_type": "execute_result"
    }
   ],
   "source": [
    "Fifa['Nationality'].value_counts().head(1)"
   ]
  },
  {
   "cell_type": "markdown",
   "metadata": {
    "colab_type": "text",
    "id": "JvyG6LBlCffT"
   },
   "source": [
    "### 7G)    Display top 10 clubs ordered by sum of all player’s current market value of that club (3 Marks)\n"
   ]
  },
  {
   "cell_type": "code",
   "execution_count": null,
   "metadata": {
    "colab": {},
    "colab_type": "code",
    "id": "L1WGec2HCffT"
   },
   "outputs": [],
   "source": []
  },
  {
   "cell_type": "markdown",
   "metadata": {
    "colab_type": "text",
    "id": "1SiThaRxCffV"
   },
   "source": [
    "### 7H).    Count the number of players having International Reputation ratings = 4 from the clubs 'Juventus’ and ‘Be?ikta? JK’ (3 Marks)"
   ]
  },
  {
   "cell_type": "code",
   "execution_count": 204,
   "metadata": {},
   "outputs": [],
   "source": [
    "# Fifa['Club'].unique()"
   ]
  },
  {
   "cell_type": "code",
   "execution_count": 205,
   "metadata": {
    "colab": {},
    "colab_type": "code",
    "id": "mhnxctFUCffV"
   },
   "outputs": [
    {
     "data": {
      "text/plain": [
       "0"
      ]
     },
     "execution_count": 205,
     "metadata": {},
     "output_type": "execute_result"
    }
   ],
   "source": [
    "Fifa[Fifa['International Reputation']==4 &\n",
    "    Fifa['Club'].isin(['Juventus', 'Be?ikta? JK'])]['ID'].count()"
   ]
  },
  {
   "cell_type": "markdown",
   "metadata": {
    "colab_type": "text",
    "id": "6U4eWGLaCffX"
   },
   "source": [
    "### 7I).\tFind out the names of the youngest and oldest players from the dataset and display the distribution of age using DISTPLOT (5 Marks)"
   ]
  },
  {
   "cell_type": "code",
   "execution_count": 207,
   "metadata": {},
   "outputs": [],
   "source": [
    "import seaborn as sns"
   ]
  },
  {
   "cell_type": "code",
   "execution_count": 214,
   "metadata": {},
   "outputs": [
    {
     "name": "stdout",
     "output_type": "stream",
     "text": [
      "Youngest:             Name  Age\n",
      "389  E. Albayrak   27\n",
      "Oldest:          Name  Age\n",
      "98  T. Warner   44\n"
     ]
    }
   ],
   "source": [
    "print('Youngest:',Fifa.sort_values(by= 'Age', ascending = True)[['Name', 'Age']].head(1) )\n",
    "print('Oldest:',Fifa.sort_values(by= 'Age', ascending = True)[['Name', 'Age']].tail(1) )\n"
   ]
  },
  {
   "cell_type": "code",
   "execution_count": 208,
   "metadata": {
    "colab": {},
    "colab_type": "code",
    "id": "0bm5flaQCffX"
   },
   "outputs": [
    {
     "name": "stderr",
     "output_type": "stream",
     "text": [
      "C:\\ProgramData\\Anaconda3\\lib\\site-packages\\seaborn\\distributions.py:2557: FutureWarning: `distplot` is a deprecated function and will be removed in a future version. Please adapt your code to use either `displot` (a figure-level function with similar flexibility) or `histplot` (an axes-level function for histograms).\n",
      "  warnings.warn(msg, FutureWarning)\n"
     ]
    },
    {
     "data": {
      "text/plain": [
       "<AxesSubplot:xlabel='Age', ylabel='Density'>"
      ]
     },
     "execution_count": 208,
     "metadata": {},
     "output_type": "execute_result"
    },
    {
     "data": {
      "image/png": "[encoded data removed]",
      "text/plain": [
       "<Figure size 432x288 with 1 Axes>"
      ]
     },
     "metadata": {
      "needs_background": "light"
     },
     "output_type": "display_data"
    }
   ],
   "source": [
    "sns.distplot(Fifa['Age'])"
   ]
  },
  {
   "cell_type": "code",
   "execution_count": null,
   "metadata": {},
   "outputs": [],
   "source": []
  }
 ],
 "metadata": {
  "colab": {
   "collapsed_sections": [],
   "name": "NPV_FINAL_EXAM_SET_5_PAPER.ipynb",
   "provenance": []
  },
  "kernelspec": {
   "display_name": "Python 3",
   "language": "python",
   "name": "python3"
  },
  "language_info": {
   "codemirror_mode": {
    "name": "ipython",
    "version": 3
   },
   "file_extension": ".py",
   "mimetype": "text/x-python",
   "name": "python",
   "nbconvert_exporter": "python",
   "pygments_lexer": "ipython3",
   "version": "3.8.8"
  }
 },
 "nbformat": 4,
 "nbformat_minor": 1
}
