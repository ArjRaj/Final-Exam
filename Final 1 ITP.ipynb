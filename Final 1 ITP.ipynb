{
 "cells": [
  {
   "cell_type": "markdown",
   "metadata": {},
   "source": [
    "# INTRODUCTION TO PYTHON FINAL EXAM"
   ]
  },
  {
   "cell_type": "markdown",
   "metadata": {},
   "source": [
    "TOTAL MARKS:70___________________________________________________________________________________________                                               \t                                              DURATION: 4 HOURS"
   ]
  },
  {
   "cell_type": "markdown",
   "metadata": {},
   "source": [
    "# SECTION A: 20 MARKS"
   ]
  },
  {
   "cell_type": "markdown",
   "metadata": {},
   "source": [
    " _________________"
   ]
  },
  {
   "cell_type": "markdown",
   "metadata": {},
   "source": [
    "#### 1. Ram built his own house and was confused about what name he should keep for it. He asked his friend Shyam to help. Shyam suggested a lot of names. Ram has certain conditions for the name:  (5 marks)                                                                                                                      \n",
    "•\tIt should consist of exactly three distinct characters, say C1, C2 and C3\n",
    "•\tIt should satisfy the criteria that the string was of the form - C1n C2n C3n: This means, first C1 occurs n times, then C2 occurs n times and then C3 occurs n times. For example, xyz, ccaarr, mmmiiiaaa satisfy the criteria, but xyzw, aabbbcccc don't.\n",
    "Given N names suggested by Shyam, print \"OK\" if Ram likes the name and \"Not OK\" if he doesn't.\n",
    "\n",
    "•\tInput:\n",
    "First-line contains a single positive integer N - the number of names.\n",
    "N lines follow - each line contains a name.\n",
    "o\t\n",
    "Output:\n",
    "For each name, Print \"OK\" if the name satisfies the criteria, else print \"Not OK\", on a new line.\n",
    "Constraints:\n",
    "1 ≤ N ≤ 100 1 ≤ Length of names ≤ 500\n",
    "Names contain only lowercase English alphabets\n",
    "\n",
    "SAMPLE INPUT\n",
    "2\n",
    "\n",
    "bbbrrriii\n",
    "\n",
    "brian\n",
    "\n",
    "SAMPLE OUTPUT\n",
    "\n",
    "OK\n",
    "\n",
    "Not OK\n"
   ]
  },
  {
   "cell_type": "code",
   "execution_count": 1,
   "metadata": {},
   "outputs": [
    {
     "name": "stdout",
     "output_type": "stream",
     "text": [
      "2\n",
      "bbbrrriii\n",
      "OK\n",
      "brian\n",
      "Not OK\n"
     ]
    }
   ],
   "source": [
    "n= int(input())\n",
    "for x in range(n):\n",
    "    s=input()\n",
    "    l=0\n",
    "    n=len(s)\n",
    "    if n%3==0:\n",
    "        li=list(s)\n",
    "        m=n//3\n",
    "        i=0\n",
    "        while(i<n-m and l==0):\n",
    "            if li[i]==li[i+m-1]:\n",
    "                l=0\n",
    "                if m>1:\n",
    "                    if li[i]!=li[i+1] or li[0]==li[n-1]:\n",
    "                        l=1\n",
    "                else:\n",
    "                    l=1\n",
    "                    break\n",
    "                i+=m\n",
    "    else:\n",
    "        l=2\n",
    "        print('Not OK')\n",
    "    if l==0:\n",
    "        print('OK')\n",
    "    elif l==1:\n",
    "        print('Not OK')"
   ]
  },
  {
   "cell_type": "markdown",
   "metadata": {},
   "source": [
    "#### 2. Write a python program that takes orders for grocery items available in the store\n",
    "  1.\tCreate a dictionary with the name \"items_in_store\" = soap:5, brush:10, paste:7, chips:10 (1 mark)\n",
    "  2.\tCreate an empty dictionary with name shopping list                                                                   (1 mark)\n",
    "  3.\tCreate a loop that takes order for the grocery items by checking availability in the store and take the order                                                                                                                                                      (2 marks)\n",
    "  4.\tNote that if the items are out of the stock it will display \"out of stock\"                                     (1 mark)\n"
   ]
  },
  {
   "cell_type": "code",
   "execution_count": 3,
   "metadata": {},
   "outputs": [
    {
     "name": "stdout",
     "output_type": "stream",
     "text": [
      "Enter number of products:2\n",
      "Enter the product name:soap\n",
      "Enter the Quantity:2\n",
      "Added to cart\n",
      "Enter the product name:soap\n",
      "Enter the Quantity:5\n",
      "Added to cart\n",
      "Cart Details:\n",
      "{'soap': 5}\n"
     ]
    }
   ],
   "source": [
    "items_in_store = {'soap':5, 'brush':10, 'paste':7, 'chips':10}\n",
    "shopping_list = {}\n",
    "num = int(input('Enter number of products:'))\n",
    "for i in range(num):\n",
    "    \n",
    "    order = input('Enter the product name:')\n",
    "    order = order.lower()\n",
    "    x = int(input('Enter the Quantity:'))\n",
    "    \n",
    "\n",
    "    if order in items_in_store.keys():\n",
    "        if x > items_in_store[order]:\n",
    "            print('out of stock')\n",
    "            print('Only ', str(items_in_store[order]),' units available')\n",
    "            shopping_list[order]=items_in_store[order]\n",
    "        else:\n",
    "            shopping_list[order]=x\n",
    "            print('Added to cart')\n",
    "    else:\n",
    "        print('Out of stock')\n",
    "\n",
    "print('Cart Details:')\n",
    "print(shopping_list)"
   ]
  },
  {
   "cell_type": "markdown",
   "metadata": {
    "colab_type": "text",
    "id": "JNdfMoKZ4Wmy"
   },
   "source": [
    "#### 3. Python program\n",
    "  \n",
    "  Create a list of items given below(2 marks)\n",
    " \n",
    " A. = {soap,detergent,chocolate,toothpaste}\n",
    " \n",
    " B. = {soap,detergent,brush,comb,toothpaste}\n",
    " \n",
    " C. = {juice,cake,brush,comb,chips}\n",
    "   \n",
    "  Create a final dictionary that will show the total count of each product sold on a given day. (5 marks)"
   ]
  },
  {
   "cell_type": "code",
   "execution_count": 4,
   "metadata": {},
   "outputs": [
    {
     "name": "stdout",
     "output_type": "stream",
     "text": [
      "products sold in the day:\n",
      "soap  =  2\n",
      "detergent  =  2\n",
      "chocolate  =  1\n",
      "toothpaste  =  2\n",
      "brush  =  2\n",
      "comb  =  2\n",
      "juice  =  1\n",
      "cake  =  1\n",
      "chips  =  1\n"
     ]
    }
   ],
   "source": [
    "A=['soap','detergent','chocolate','toothpaste']\n",
    "B=['soap','detergent','brush','comb','toothpaste']\n",
    "C=['juice','cake','brush','comb','chips']\n",
    "sale=A+B+C\n",
    "sold_prod={}\n",
    "for i in sale:\n",
    "    if i not in sold_prod.keys():\n",
    "        sold_prod[i]=1\n",
    "    else:\n",
    "        sold_prod[i]+=1\n",
    "print('products sold in the day:')\n",
    "for k, v in sold_prod.items():\n",
    "    print(k,' = ',v)"
   ]
  },
  {
   "cell_type": "markdown",
   "metadata": {
    "colab_type": "text",
    "id": "6dWb6mQY4WnA"
   },
   "source": [
    "#### 4. A famous hotel is maintaining its order history in the dictionary in the given format. Find out which food item is ordered the most (5 Marks)\n",
    "\n",
    " order_id: [list of items ordered]\n",
    " \n",
    " order_history= {165:['Noodles','Tomato Soup','Fries'],168:['Rice Idli','Rawa Dosa','Fries'],190:['Fries','Noodles']}"
   ]
  },
  {
   "cell_type": "code",
   "execution_count": 4,
   "metadata": {},
   "outputs": [
    {
     "name": "stdout",
     "output_type": "stream",
     "text": [
      "Most sold product is:  Fries\n"
     ]
    }
   ],
   "source": [
    "order_history={165:['Noodles','Tomato Soup','Fries'],168:['Rice Idli','Rawa Dosa','Fries'],190:['Fries','Noodles']}\n",
    "\n",
    "item_sold=[]\n",
    "for k,v in order_history.items():\n",
    "    for i in v:\n",
    "        item_sold.append(i)\n",
    "no_items={}\n",
    "for i in item_sold:\n",
    "    if i not in no_items.keys():\n",
    "        no_items[i]=1\n",
    "    else:\n",
    "        no_items[i]+=1\n",
    "n=max(no_items.values())\n",
    "for k,v in no_items.items():\n",
    "    if v==n:\n",
    "        print('Most sold product is: ',k)"
   ]
  },
  {
   "cell_type": "markdown",
   "metadata": {},
   "source": [
    "# SECTION B: 20 MARKS"
   ]
  },
  {
   "cell_type": "markdown",
   "metadata": {},
   "source": [
    "#### 5. A Basket of Halloween candy has an unknown amount of candy and you need to guess exactly how much candy is in the bowl. You ask the person in charge a few questions to make a correct guess. If the candy is divided evenly among 5 people, how many pieces would be leftover? The answer is 2 pieces. You then ask about dividing the candy evenly among 6 people, and the amount left over is 3 pieces. Finally, you ask about dividing the candy evenly among 7 people, and the amount left over is 2 pieces. By looking at the bowl, you can tell that there are less than 200 pieces. Write a program to determine how many pieces are in the bowl.             (10 Marks)\n",
    "    \t\n",
    "   1. SAMPLE INPUT:\n",
    "If the candy is divided evenly among 5 people, how many pieces would be leftover?\n",
    "2\n",
    "\n",
    "If the candy is divided evenly among 6 people, how many pieces would be leftover?\n",
    "3\n",
    "\n",
    "If the candy is divided evenly among 7 people, how many pieces would be leftover?\n",
    "2\n",
    "\n",
    "  1. SAMPLE OUTPUT:\n",
    "Number of candies in the jar: 177\n",
    "\n",
    "\n",
    "  2. SAMPLE INPUT :\n",
    "If the candy is divided evenly among 5 people, how many pieces would be leftover?\n",
    "2\n",
    "\n",
    "If the candy is divided evenly among 6 people, how many pieces would be leftover?\n",
    "4\n",
    "\n",
    "If the candy is divided evenly among 7 people, how many pieces would be leftover?\n",
    "2\n",
    "\n",
    "  2. SAMPLE OUTPUT :\n",
    "Number of candies in the jar: 142\n"
   ]
  },
  {
   "cell_type": "code",
   "execution_count": 6,
   "metadata": {},
   "outputs": [
    {
     "name": "stdout",
     "output_type": "stream",
     "text": [
      "If the candy is divided evenly among 5 people, how many pieces would be leftover? 2\n",
      "If the candy is divided evenly among 6 people, how many pieces would be leftover? 3\n",
      "If the candy is divided evenly among 7 people, how many pieces would be leftover? 2\n",
      "Number of candies in jar:  177\n"
     ]
    }
   ],
   "source": [
    "q1=int(input('If the candy is divided evenly among 5 people, how many pieces would be leftover? '))\n",
    "q2=int(input('If the candy is divided evenly among 6 people, how many pieces would be leftover? '))\n",
    "q3=int(input('If the candy is divided evenly among 7 people, how many pieces would be leftover? '))\n",
    "\n",
    "for candies in range(200):\n",
    "    if(candies%5 !=q1):\n",
    "        continue\n",
    "    if(candies%6 !=q2):\n",
    "        continue\n",
    "    if(candies%7 !=q3):\n",
    "        continue\n",
    "    print('Number of candies in jar: ',candies)"
   ]
  },
  {
   "cell_type": "markdown",
   "metadata": {},
   "source": [
    "#### 6.An Ecommerce portal has a list of items available with them in each category (inventory) in the form of the list within the Dictionary.    \n",
    "(10 marks)\n",
    "\n",
    "For example Inventory= {'Men': ['Shirt','Suit','Trouser','Jeans'], \n",
    "\n",
    "'Women': ['Saree','Dress_suit','Handbag','Jewellery'],\n",
    "\n",
    "'Home_appliances': ['TV','Refrigerator'],\n",
    "\n",
    "'Kids':['Toys','Bags','Books']}\n",
    "\n",
    "\n",
    "Write a program which will take the name of an item, the user wants to buy and search it in the inventory. if it’s found in the inventory then print a message like 'item is available'. otherwise ask the user 'Would you like to continue buying: yes or no'. If the user gives 'yes ' then repeat searching in the inventory otherwise program should stop the execution.\n"
   ]
  },
  {
   "cell_type": "code",
   "execution_count": 6,
   "metadata": {},
   "outputs": [
    {
     "name": "stdout",
     "output_type": "stream",
     "text": [
      "Enter the item you would like to by: 3\n",
      "Item is not available, Would you like to continue shopping: yes or no: hf\n"
     ]
    }
   ],
   "source": [
    "inventory={'Men':['Shirt','Suit','Trouser','Jeans'],\n",
    "           'Women':['Saree','Dress_suit','Handbag','Jewellery'],\n",
    "           'Home_appliances':['TV','Refrigerator'],\n",
    "            'Kids':['Toys','Bags','Books']}\n",
    "def shopping():\n",
    "    item=input('Enter the item you would like to by: ')\n",
    "    item=item.title()\n",
    "    lis=[]\n",
    "    for k,v in inventory.items():\n",
    "        lis.extend(v)\n",
    "    if item in lis:\n",
    "        print('Item is available')\n",
    "    else:\n",
    "        val=input('Item is not available, Would you like to continue shopping: yes or no: ')\n",
    "        val=val.lower()\n",
    "        return  val\n",
    "val=shopping()\n",
    "if val=='yes':\n",
    "    shopping()"
   ]
  },
  {
   "cell_type": "markdown",
   "metadata": {},
   "source": [
    "# SECTION C: 30 MARKS"
   ]
  },
  {
   "cell_type": "markdown",
   "metadata": {},
   "source": [
    " _________________"
   ]
  },
  {
   "cell_type": "markdown",
   "metadata": {},
   "source": [
    "### 7. Write a Python Program to create the following series and then print the nth Prime number from the Series,0, 1, 1, 2, 3, 5, 8, 13, 21, 34, 55, 89... (15 Marks)\n",
    "\n",
    "\n",
    "INPUT:8\n",
    "\n",
    "OUTPUT:28657\n"
   ]
  },
  {
   "cell_type": "code",
   "execution_count": 1,
   "metadata": {},
   "outputs": [
    {
     "name": "stdout",
     "output_type": "stream",
     "text": [
      "Enter limit for fibonnacci Series: 20\n",
      "The series is  [0, 1, 1, 2, 3, 5, 8, 13, 21, 34, 55, 89, 144, 233, 377, 610, 987, 1597, 2584, 4181]\n",
      "There are 16 prime numbers are in the list, Enter the number to retrive prime number in that position: 8\n",
      "Nth prime number in Fibonnacci series is:  89\n"
     ]
    }
   ],
   "source": [
    "import pandas as pd\n",
    "\n",
    "n=int(input('Enter limit for fibonnacci Series: '))\n",
    "a=0\n",
    "b=1\n",
    "sum=0\n",
    "i=1\n",
    "fibbo=[]\n",
    "while(i<=n):\n",
    "    fibbo.append(sum)\n",
    "    i+=1\n",
    "    a=b\n",
    "    b=sum\n",
    "    sum=a+b\n",
    "print('The series is ', fibbo)\n",
    "\n",
    "prime=[]\n",
    "for num in fibbo:\n",
    "    if num>1:\n",
    "        for i in range(2,num):\n",
    "            if num%i==0:\n",
    "                continue\n",
    "            else:\n",
    "                prime.append(num)\n",
    "    else:\n",
    "        continue\n",
    "\n",
    "prime=pd.Series(prime)\n",
    "prime=prime.unique()\n",
    "\n",
    "n=int(input('There are '+str(len(prime))+' prime numbers are in the list, Enter the number to retrive prime number in that position: '))\n",
    "print('Nth prime number in Fibonnacci series is: ',prime[n-1])"
   ]
  },
  {
   "cell_type": "code",
   "execution_count": 2,
   "metadata": {},
   "outputs": [
    {
     "name": "stdout",
     "output_type": "stream",
     "text": [
      "Enter limit for fibonnacci Series: 20\n",
      "The series is  [0, 1, 1, 2, 3, 5, 8, 13, 21, 34, 55, 89, 144, 233, 377, 610, 987, 1597, 2584, 4181]\n",
      "There are 7 prime numbers are in the list, Enter the number to retrive prime number in that position: 6\n",
      "Nth prime number in Fibonnacci series is:  233\n"
     ]
    }
   ],
   "source": [
    "import pandas as pd\n",
    "import numpy as np\n",
    "\n",
    "n=int(input('Enter limit for fibonnacci Series: '))\n",
    "a=0\n",
    "b=1\n",
    "sum=0\n",
    "i=1\n",
    "fibbo=[]\n",
    "while(i<=n):\n",
    "    fibbo.append(sum)\n",
    "    i+=1\n",
    "    a=b\n",
    "    b=sum\n",
    "    sum=a+b\n",
    "print('The series is ', fibbo)\n",
    "\n",
    "def is_prime(number):\n",
    "    for i in range(2, int(np.sqrt(number)) + 1):\n",
    "        if number % i == 0:\n",
    "            return False\n",
    "\n",
    "    return number > 1\n",
    "\n",
    "def filter_primes(fibbo):\n",
    "    return set(filter(is_prime, fibbo))\n",
    "\n",
    "\n",
    "prime=pd.Series(sorted(list(filter_primes(fibbo))))\n",
    "prime=prime.unique()\n",
    "\n",
    "n=int(input('There are '+str(len(prime))+' prime numbers are in the list, Enter the number to retrive prime number in that position: '))\n",
    "print('Nth prime number in Fibonnacci series is: ',prime[n-1])"
   ]
  },
  {
   "cell_type": "markdown",
   "metadata": {},
   "source": [
    "#### 8. Write a python program for monthly finance management system. The program should ask the user about the salary/pocket money that a person gets for a month. Then it should ask the user monthly about how much he spends on rent, food, travel, health and miscellaneous. At the end of every month it should display about the money that the user saved in that month. At the MONTH end, it should tell the complete summary of how much a person earned, saved, invested and spent on various things. You should give a choice to the user whether he wants to enter any other expense monthly or not. If yes, please ask about the extra expenditures and include it in the summary. Any innovation in this basic model will be given weightage in marks. (15 Marks)"
   ]
  },
  {
   "cell_type": "code",
   "execution_count": 7,
   "metadata": {},
   "outputs": [
    {
     "name": "stdout",
     "output_type": "stream",
     "text": [
      "Enter Salary: 50000\n",
      "How much do you spend on rent: 500\n",
      "How much do you spend on food: 200\n",
      "How much do you spend on travel: 500\n",
      "How much do you spend on health: 250\n",
      "How much do you spend on Miscellaneous:500\n",
      "Would you like to add any other Expense:no\n",
      "\n",
      " Summary:\n",
      "Earned           50000\n",
      "Rent               500\n",
      "Food               200\n",
      "Travel             500\n",
      "Health             250\n",
      "Miscellaneous      500\n",
      "Savings          48050\n",
      "dtype: int64\n"
     ]
    }
   ],
   "source": [
    "import pandas as pd\n",
    "import numpy as np\n",
    "\n",
    "salary=int(input('Enter Salary: '))\n",
    "rent=int(input('How much do you spend on rent: '))\n",
    "food=int(input('How much do you spend on food: '))\n",
    "travel=int(input('How much do you spend on travel: '))\n",
    "health=int(input('How much do you spend on health: '))\n",
    "missc=int(input('How much do you spend on Miscellaneous:'))\n",
    "\n",
    "e=input('Would you like to add any other Expense:')\n",
    "e=e.lower()\n",
    "if e=='yes':\n",
    "    name=input('Enter type of Expense:')\n",
    "    Amt=int(input('How much did you spend '+name+ ' : '))\n",
    "    saving=salary-rent-food-travel-health-missc-Amt\n",
    "    summary={'Earned':salary,'Rent':rent,'Food':food,'Travel':travel,'Health':health,\n",
    "             'Miscellaneous':missc,name:Amt,'Savings':saving}\n",
    "else:\n",
    "    saving=salary-rent-food-travel-health-missc\n",
    "    summary={'Earned':salary,'Rent':rent,'Food':food,'Travel':travel,'Health':health,\n",
    "             'Miscellaneous':missc,'Savings':saving}\n",
    "print('\\n','Summary:')\n",
    "print(pd.Series(summary))"
   ]
  },
  {
   "cell_type": "code",
   "execution_count": null,
   "metadata": {},
   "outputs": [],
   "source": []
  }
 ],
 "metadata": {
  "colab": {
   "collapsed_sections": [],
   "name": "ITP_MID_1.ipynb",
   "provenance": []
  },
  "kernelspec": {
   "display_name": "Python 3",
   "language": "python",
   "name": "python3"
  },
  "language_info": {
   "codemirror_mode": {
    "name": "ipython",
    "version": 3
   },
   "file_extension": ".py",
   "mimetype": "text/x-python",
   "name": "python",
   "nbconvert_exporter": "python",
   "pygments_lexer": "ipython3",
   "version": "3.8.8"
  }
 },
 "nbformat": 4,
 "nbformat_minor": 1
}
