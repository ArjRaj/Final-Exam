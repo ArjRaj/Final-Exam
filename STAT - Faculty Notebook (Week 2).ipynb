{
 "cells": [
  {
   "cell_type": "markdown",
   "metadata": {
    "id": "DDFCXxaUIYFv"
   },
   "source": [
    "<table align=\"left\" width=100%>\n",
    "    <tr>\n",
    "        <td width=\"20%\">\n",
    "            <img src=\"faculty.png\">\n",
    "        </td>\n",
    "        <td>\n",
    "            <div align=\"center\">\n",
    "                <font color=\"#21618C\" size=8px>\n",
    "                  <b> Faculty Notebook <br> (Week 2) </b>\n",
    "                </font>\n",
    "            </div>\n",
    "        </td>\n",
    "    </tr>\n",
    "</table>"
   ]
  },
  {
   "cell_type": "markdown",
   "metadata": {
    "id": "nMfJ7B11IYFz"
   },
   "source": [
    "## Table of Content\n",
    "\n",
    "1. **[Import Libraries](#lib)**\n",
    "2. **[Parameter Estimation](#est)**\n",
    "    - 2.1 - **[Point Estimation](#pt)**\n",
    "        - 2.1.1 - **[Sampling Error](#err)**\n",
    "    - 2.2 - **[Interval Estimation for Mean](#int)**\n",
    "        - 2.2.1 - **[Large Sample Size](#large)**   \n",
    "        - 2.2.2 - **[Small Sample Size](#small)**\n",
    "    - 2.3 - **[Interval Estimation for Proportion](#prop)**\n",
    "3. **[Test of Hypothesis](#defn)**\n",
    "    - 3.1 - **[Types of Hypothesis](#types)**\n",
    "4. **[Types of Test](#test_type)**\n",
    "    - 4.1 - **[Two Tailed Test](#2tailed)**\n",
    "    - 4.2 - **[One Tailed Test](#1tailed)**\n",
    "5. **[Hypothesis Tests with Z Statistic](#eg)**\n",
    "6. **[Error](#error)**"
   ]
  },
  {
   "cell_type": "markdown",
   "metadata": {
    "id": "MqiUCqOIIYF0"
   },
   "source": [
    "<a id=\"lib\"></a>\n",
    "# 1. Import Libraries"
   ]
  },
  {
   "cell_type": "markdown",
   "metadata": {
    "id": "-1QFpoRXIYF1"
   },
   "source": [
    "**Let us import the required libraries.**"
   ]
  },
  {
   "cell_type": "code",
   "execution_count": 2,
   "metadata": {
    "id": "p9lGPpM9IYF1"
   },
   "outputs": [],
   "source": [
    "# import 'pandas' \n",
    "import pandas as pd \n",
    "\n",
    "# import 'numpy' \n",
    "import numpy as np\n",
    "\n",
    "# import subpackage of matplotlib\n",
    "import matplotlib.pyplot as plt\n",
    "\n",
    "# import 'seaborn'\n",
    "import seaborn as sns\n",
    "\n",
    "# to suppress warnings \n",
    "from warnings import filterwarnings\n",
    "filterwarnings('ignore')\n",
    "\n",
    "# import 'random' to generate random sample\n",
    "import random\n",
    "\n",
    "# import statistics to perform statistical computation  \n",
    "import statistics\n",
    "\n",
    "# import 'stats' package from scipy library\n",
    "from scipy import stats\n",
    "\n",
    "# import a library to perform Z-test\n",
    "from statsmodels.stats import weightstats as stests\n",
    "\n",
    "# to test the normality \n",
    "from scipy.stats import shapiro\n",
    "\n",
    "# import the function to calculate the power of test\n",
    "from statsmodels.stats import power"
   ]
  },
  {
   "cell_type": "code",
   "execution_count": 3,
   "metadata": {
    "id": "xWw1I0lJIYF3"
   },
   "outputs": [],
   "source": [
    "# set the plot size using 'rcParams'\n",
    "# once the plot size is set using 'rcParams', it sets the size of all the forthcoming plots in the file\n",
    "# pass width and height in inches to 'figure.figsize' \n",
    "plt.rcParams['figure.figsize'] = [15,8]"
   ]
  },
  {
   "cell_type": "markdown",
   "metadata": {
    "id": "-N_R36FUIYF3"
   },
   "source": [
    "<a id=\"est\"></a>\n",
    "# 2. Parameter Estimation"
   ]
  },
  {
   "cell_type": "markdown",
   "metadata": {
    "id": "IRpD53OcIYF4"
   },
   "source": [
    "The value associated with the characteristic of the population is known as a `parameter` and the characteristic of the sample is described by a `statistic`.\n",
    "Usually, the population parameters are not known in most of the real-life problems. Thus, we consider a subset of the population (sample) to estimate the population parameter using a sample statistic.\n",
    "\n",
    "`Point estimation` and `Interval estimation` are two of the methods to estimate the population parameter."
   ]
  },
  {
   "cell_type": "markdown",
   "metadata": {
    "id": "ACbcQuyIIYF5"
   },
   "source": [
    "<a id=\"pt\"></a>\n",
    "## 2.1 Point Estimation"
   ]
  },
  {
   "cell_type": "markdown",
   "metadata": {
    "id": "AbLaZgQ1IYF5"
   },
   "source": [
    "This method considers a single value (sample statistic) as the population parameter. \n",
    "\n",
    "Let $X_{1}, X_{2}, X_{3},..., X_{n}$ be the random sample drawn from a population with mean $\\mu$ and standard deviation $\\sigma$. <br>\n",
    "The point estimation method estimates the population mean, $\\mu = \\overline{X}$, where $\\overline{X}$ is the sample mean and population standard deviation, $\\sigma = s$, where $s$ is the standard deviation of the sample (`Standard Error`)."
   ]
  },
  {
   "cell_type": "markdown",
   "metadata": {
    "id": "3S0isly-IYF6"
   },
   "source": [
    "### Example:\n",
    "\n",
    "#### 1. Consider the data of grade points for 35 students in a data science course. Select grades of 20 students randomly from the data and find the point estimate for the population mean.\n",
    "\n",
    "     Grades: [59.1, 65.0, 75.8, 79.2, 95.0, 99.8, 89.1, 65.2, 41.9, 55.2, 94.8, 84.1, 83.2, 74.0, 75.5, 76.2, 79.1, 80.1, \n",
    "              92.1, 74.2, 59.2, 64.0, 75, 78.2, 95.6, 97.8, 89.5, 64.2, 41.8, 57.2, 85, 91.4, 81.8, 74.6, 90]"
   ]
  },
  {
   "cell_type": "code",
   "execution_count": 4,
   "metadata": {
    "id": "h51JLYFUIYF7",
    "outputId": "7a502d7d-d434-4652-bd86-a22dbae46073"
   },
   "outputs": [
    {
     "name": "stdout",
     "output_type": "stream",
     "text": [
      "The point estimate for the population mean is 75.32500000000002\n"
     ]
    }
   ],
   "source": [
    "# given population\n",
    "grades = [59.1, 65.0, 75.8, 79.2, 95.0, 99.8, 89.1, 65.2, 41.9, 55.2, 94.8, 84.1, 83.2, 74.0, 75.5, 76.2, 79.1, 80.1, \n",
    "          92.1, 74.2, 59.2, 64.0, 75, 78.2, 95.6, 97.8, 89.5, 64.2, 41.8, 57.2, 85, 91.4, 81.8, 74.6, 90]\n",
    "\n",
    "# draw a sample for grades of 18 students without replacement\n",
    "# set a random seed to get the same sample each time you run the code\n",
    "random.seed(1)\n",
    "\n",
    "# pass the data to the parameter, 'population'\n",
    "# pass the required sample size to the parameter, 'k' \n",
    "samp_grades = random.sample(population = grades, k = 20)\n",
    "\n",
    "# the point estimate for the population mean is equal to 'sample mean'\n",
    "# calculate the sample mean\n",
    "samp_mean = np.mean(samp_grades)\n",
    "\n",
    "print('The point estimate for the population mean is', samp_mean)"
   ]
  },
  {
   "cell_type": "markdown",
   "metadata": {
    "id": "S6z_Y1VMIYF9"
   },
   "source": [
    "#### 2. A financial firm has created 50 portfolios. From them, a sample of 13 portfolios was selected, out of which 8 were found to be underperforming. Can you estimate the number of underperforming portfolios?"
   ]
  },
  {
   "cell_type": "code",
   "execution_count": 5,
   "metadata": {
    "id": "TDMgwSP7IYF9",
    "outputId": "e9ab7ad1-f7ba-41cd-df7c-d6f27bd85a75"
   },
   "outputs": [
    {
     "name": "stdout",
     "output_type": "stream",
     "text": [
      "The number of underperforming portfolios: 31\n"
     ]
    }
   ],
   "source": [
    "# total count of portfolios\n",
    "N = 50\n",
    "\n",
    "# number of portfolios in a sample\n",
    "n = 13\n",
    "\n",
    "# number of underperforming portfolios in a sample\n",
    "x = 8\n",
    "\n",
    "# sample proportion\n",
    "p_samp = x/n\n",
    "\n",
    "# estimate the number of underperforming portfolios\n",
    "num_port = p_samp*N\n",
    "\n",
    "# round the number to get an integer value\n",
    "print('The number of underperforming portfolios:', round(num_port))"
   ]
  },
  {
   "cell_type": "markdown",
   "metadata": {
    "id": "uGDbPd2YIYF-"
   },
   "source": [
    "<a id=\"err\"></a>\n",
    "### 2.1.1 Sampling Error"
   ]
  },
  {
   "cell_type": "markdown",
   "metadata": {
    "id": "RQFNVLgDIYF_"
   },
   "source": [
    "Sampling error is considered as the absolute difference between the sample statistic used to estimate the parameter and the corresponding population parameter. Since the entire population is not considered as the sample, the values of mean, median, quantiles, and so on calculated on sample differ from the actual population values. \n",
    "\n",
    "One can reduce the sampling error either by increasing the sample size or determining the optimal sample size using various methods."
   ]
  },
  {
   "cell_type": "markdown",
   "metadata": {
    "id": "376Bq9igIYF_"
   },
   "source": [
    "### Example:\n",
    "\n",
    "#### 1. Consider the data for the number of ice-creams sold per day. An ice-cream vendor collected this data for 90 days and then a sample is drawn (without replacement) containing ice-creams sold for 25 days. \n",
    "\n",
    "data = [21, 93, 62, 76, 73, 20, 56, 95, 41, 36, 38, 13, 80, 88, 34, 18, 40, 11, \n",
    "        25, 29, 61, 23, 82, 10, 92, 69, 60, 87, 14, 91, 94, 49, 57, 83, 96, 55, \n",
    "        79, 52, 59, 39, 58, 17, 19, 98, 15, 54, 48, 46, 72, 45, 65, 28, 37, 30, \n",
    "        68, 75, 16, 33, 31, 99, 22, 51, 27, 67, 85, 47, 44, 77, 64, 97, 84, 42, \n",
    "        90, 70, 74, 89, 32, 26, 24, 12, 81, 53, 50, 35, 71, 63, 43, 86, 78, 66]\n",
    "        \n",
    "sample = [10, 22, 47, 66, 11, 57, 77, 98, 31, 63, 74, 84, 50, 96, 88, 92, 70, 54, 65, 44, 16, 72, 20, 90, 43]\n",
    "\n",
    "Comupte the sampling error for mean."
   ]
  },
  {
   "cell_type": "code",
   "execution_count": 6,
   "metadata": {
    "id": "OZ1Q0CITIYGA",
    "outputId": "efd58b6c-0ab6-42ed-d3c1-78c994e94071"
   },
   "outputs": [
    {
     "name": "stdout",
     "output_type": "stream",
     "text": [
      "Sampling error for mean: 3.1000000000000014\n"
     ]
    }
   ],
   "source": [
    "# given population\n",
    "data = [21, 93, 62, 76, 73, 20, 56, 95, 41, 36, 38, 13, 80, 88, 34, 18, 40, 11, 25, 29, 61, 23, 82, 10, 92, 69, 60, 87, 14, 91,\n",
    "        94, 49, 57, 83, 96, 55, 79, 52, 59, 39, 58, 17, 19, 98, 15, 54, 48, 46, 72, 45, 65, 28, 37, 30, 68, 75, 16, 33, 31, 99, \n",
    "        22, 51, 27, 67, 85, 47, 44, 77, 64, 97, 84, 42, 90, 70, 74, 89, 32, 26, 24, 12, 81, 53, 50, 35, 71, 63, 43, 86, 78, 66]\n",
    "\n",
    "# given sample\n",
    "sample = [10, 22, 47, 66, 11, 57, 77, 98, 31, 63, 74, 84, 50, 96, 88, 92, 70, 54, 65, 44, 16, 72, 20, 90, 43]\n",
    "\n",
    "# calculate the point estimate for the population mean\n",
    "samp_mean = np.mean(sample)\n",
    "\n",
    "# population mean\n",
    "pop_mean = np.mean(data)\n",
    "\n",
    "# calculate the sampling error for mean\n",
    "print(\"Sampling error for mean:\", np.abs(samp_mean - pop_mean))"
   ]
  },
  {
   "cell_type": "markdown",
   "metadata": {
    "id": "GER8MyeYIYGA"
   },
   "source": [
    "<a id=\"int\"></a>\n",
    "## 2.2 Interval Estimation for Mean"
   ]
  },
  {
   "cell_type": "markdown",
   "metadata": {
    "id": "CMx7JFTcIYGB"
   },
   "source": [
    "This method considers the range of values in which the population parameter is likely to lie. The confidence interval is an interval that describes the range of values in which the parameter lies with a specific probability. It is given by the formula,<br> <p style='text-indent:20em'> `conf_interval = sample statistic ± margin of error`</p>\n",
    "\n",
    "The uncertainty of an estimate is described by the `confidence level` which is used to calculate the margin of error. "
   ]
  },
  {
   "cell_type": "markdown",
   "metadata": {
    "id": "ZeVCh2DUIYGB"
   },
   "source": [
    "<a id=\"large\"></a>\n",
    "### 2.2.1 Large Sample Size"
   ]
  },
  {
   "cell_type": "markdown",
   "metadata": {
    "id": "G5c6WgDRIYGC"
   },
   "source": [
    "Consider a population with mean $\\mu$ and standard deviation $\\sigma$. Let us take a sample of `n` observations from the population such that, $n \\geq 30$. The central limit theorem states that the sampling distribution of mean follows a normal distribution with mean $\\mu$ and standard deviation $\\frac{\\sigma}{\\sqrt(n)}$."
   ]
  },
  {
   "cell_type": "markdown",
   "metadata": {
    "id": "EGuXFgPaIYGC"
   },
   "source": [
    "The confidence interval for the population mean with $100(1-\\alpha)$% confidence level is given as: $\\overline{X} \\pm Z_{\\frac{\\alpha}{2}}\\frac{\\sigma}{\\sqrt{n}}$\n",
    "\n",
    "Where, <br>\n",
    "$\\overline{X}$: Sample mean<br>\n",
    "$\\alpha$: Level of significance<br>\n",
    "$\\sigma$: Population standard deviation<br>\n",
    "$n$: Sample size\n",
    "\n",
    "The quantity $\\frac{\\sigma}{\\sqrt{n}}$ is the standard error of the mean. And the margin of error is given by $Z_{\\frac{\\alpha}{2}}\\frac{\\sigma}{\\sqrt{n}}$.\n",
    "\n",
    "If we know the expected margin of error (ME), then we can calculate the required sample size (n) using the formula: $n = (Z_{\\frac{\\alpha}{2}})^{2}\\frac{\\sigma^{2}}{ME^{2}}$.\n",
    " \n",
    "The above equation is valid for any population provided the sample size is sufficiently large (usually $n \\geq 30$). Relace $\\sigma$ by the standard deviation of the sample ($s$) if the population standard deviation is not known.\n",
    "\n",
    "The value of $Z_{\\frac{\\alpha}{2}}$ for different $\\alpha$ values can be obtained using the `stats.norm.isf()` from the scipy library. "
   ]
  },
  {
   "cell_type": "code",
   "execution_count": 7,
   "metadata": {
    "id": "1gLSC-iSIYGD",
    "outputId": "f6b50f48-eff9-434f-a00e-917f421d3988",
    "scrolled": true
   },
   "outputs": [
    {
     "data": {
      "text/html": [
       "<div>\n",
       "<style scoped>\n",
       "    .dataframe tbody tr th:only-of-type {\n",
       "        vertical-align: middle;\n",
       "    }\n",
       "\n",
       "    .dataframe tbody tr th {\n",
       "        vertical-align: top;\n",
       "    }\n",
       "\n",
       "    .dataframe thead th {\n",
       "        text-align: right;\n",
       "    }\n",
       "</style>\n",
       "<table border=\"1\" class=\"dataframe\">\n",
       "  <thead>\n",
       "    <tr style=\"text-align: right;\">\n",
       "      <th></th>\n",
       "      <th>alpha</th>\n",
       "      <th>Z_alpha_by_2</th>\n",
       "    </tr>\n",
       "  </thead>\n",
       "  <tbody>\n",
       "    <tr>\n",
       "      <th>0</th>\n",
       "      <td>0.10</td>\n",
       "      <td>1.6449</td>\n",
       "    </tr>\n",
       "    <tr>\n",
       "      <th>1</th>\n",
       "      <td>0.05</td>\n",
       "      <td>1.9600</td>\n",
       "    </tr>\n",
       "    <tr>\n",
       "      <th>2</th>\n",
       "      <td>0.02</td>\n",
       "      <td>2.3263</td>\n",
       "    </tr>\n",
       "    <tr>\n",
       "      <th>3</th>\n",
       "      <td>0.01</td>\n",
       "      <td>2.5758</td>\n",
       "    </tr>\n",
       "  </tbody>\n",
       "</table>\n",
       "</div>"
      ],
      "text/plain": [
       "   alpha  Z_alpha_by_2\n",
       "0   0.10        1.6449\n",
       "1   0.05        1.9600\n",
       "2   0.02        2.3263\n",
       "3   0.01        2.5758"
      ]
     },
     "execution_count": 7,
     "metadata": {},
     "output_type": "execute_result"
    }
   ],
   "source": [
    "# let us find the Z-values for different alpha values\n",
    "\n",
    "# create an empty dataframe to store the alpha and corresponding Z-value\n",
    "df_Z = pd.DataFrame()\n",
    "\n",
    "# create a dictionary of different alpha values\n",
    "alpha =  [0.1, 0.05, 0.02, 0.01] \n",
    "\n",
    "# use for loop to calculate the value for each alpha\n",
    "for i in range(len(alpha)):\n",
    "    alpha_by_2 = alpha[i] / 2\n",
    "    \n",
    "    # use 'stats.norm.isf()' to find the Z-value corresponding to the upper tail probability 'q'\n",
    "    # pass the value of 'alpha_by_2' to the parameter 'q'\n",
    "    # use 'round()' to round-off the value to 4 digits\n",
    "    Z = np.abs(round(stats.norm.isf(q = alpha_by_2), 4))\n",
    "    \n",
    "    # create a dataframe using dictionary to store the alpha and corresponding Z-value\n",
    "    # set the loop iterator 'i' as the index of the dataframe\n",
    "    row =  pd.DataFrame({\"alpha\": alpha[i], \"Z_alpha_by_2\" : Z}, index = [i])\n",
    "    \n",
    "    # append the row to the dataframe 'df_Z'\n",
    "    df_Z = df_Z.append(row)\n",
    "\n",
    "# print the final dataframe\n",
    "df_Z"
   ]
  },
  {
   "cell_type": "markdown",
   "metadata": {
    "id": "vSxRePWDIYGE"
   },
   "source": [
    "To calculate the confidence interval with 95% confidence, use the Z-value corresponding to `alpha = 0.05`. "
   ]
  },
  {
   "cell_type": "markdown",
   "metadata": {
    "id": "QOFjQbl_IYGE"
   },
   "source": [
    "### Example:\n",
    "\n",
    "#### 1. A random sample of weight (in kg.) for 35 diabetic patients is drawn from the population with a standard deviation of 8 kg. Find the 90% confidence interval for the population mean.\n",
    "\n",
    "    Weight: [59.1, 65.0, 75.8, 79.2, 95.0, 99.8, 89.1, 65.3, 41.9, 55.2, 94.8, 84.1, 83.2, 74.0, 75.5, 76.2, 79.1, 80.1, \n",
    "             92.1, 74.2, 59.2, 64.0, 75, 78.2, 95.6, 97.8, 89.5, 64.2, 41.8, 57.2, 85, 91.4, 81.8, 74.6, 90]"
   ]
  },
  {
   "cell_type": "code",
   "execution_count": 8,
   "metadata": {
    "id": "P3el8Ng5IYGE",
    "outputId": "eb2c8f34-ac56-48a9-ccce-24a79e9fb1c2"
   },
   "outputs": [
    {
     "name": "stdout",
     "output_type": "stream",
     "text": [
      "The 90% confidence interval of population mean is [74.46 78.91]\n"
     ]
    }
   ],
   "source": [
    "# given sample\n",
    "weight = [59.1, 65.0, 75.8, 79.2, 95.0, 99.8, 89.1, 65.3, 41.9, 55.2, 94.8, 84.1, 83.2, 74.0, 75.5, 76.2, 79.1, 80.1, \n",
    "          92.1, 74.2, 59.2, 64.0, 75, 78.2, 95.6, 97.8, 89.5, 64.2, 41.8, 57.2, 85, 91.4, 81.8, 74.6, 90]\n",
    "\n",
    "# number of observations in sample\n",
    "n = len(weight)\n",
    "\n",
    "# given population standard deviation\n",
    "std_pop = 8\n",
    "\n",
    "# calculate the 90% confidence interval\n",
    "# pass the sample mean to the parameter, 'loc'\n",
    "# pass the scaling factor (std_pop / n^(1/2)) to the parameter, 'scale'\n",
    "interval = stats.norm.interval(0.90, loc = np.mean(weight), scale = std_pop / np.sqrt(n))\n",
    "\n",
    "# print the 90% confidence interval\n",
    "# use 'round()' to round-off the value to 2 digits\n",
    "print('The 90% confidence interval of population mean is', np.round(interval,2))"
   ]
  },
  {
   "cell_type": "markdown",
   "metadata": {
    "id": "T7ZPTecxIYGF"
   },
   "source": [
    "#### Let us calculate the confidence interval without using the built-in function."
   ]
  },
  {
   "cell_type": "code",
   "execution_count": 9,
   "metadata": {
    "id": "eEF4_-BwIYGF",
    "outputId": "c818d0a2-c3d4-47d9-c632-3bdb4267e52a"
   },
   "outputs": [
    {
     "name": "stdout",
     "output_type": "stream",
     "text": [
      "90% confidence interval for population mean is (74.46, 78.91)\n"
     ]
    }
   ],
   "source": [
    "# given sample\n",
    "weight = [59.1, 65.0, 75.8, 79.2, 95.0, 99.8, 89.1, 65.2, 41.9, 55.2, 94.8, 84.1, 83.2, 74.0, 75.5, 76.2, 79.1, 80.1, \n",
    "          92.1, 74.2, 59.2, 64.0, 75, 78.2, 95.6, 97.8, 89.5, 64.2, 41.8, 57.2, 85, 91.4, 81.8, 74.6, 90]\n",
    "\n",
    "# calculate sample mean\n",
    "avg  = np.mean(weight) \n",
    "\n",
    "# given population standard deviation \n",
    "std_pop = 8\n",
    "\n",
    "# number of observations in sample\n",
    "n = len(weight)\n",
    "\n",
    "# Z-value for 90% confidence level                \n",
    "z_alpha_by_2 = 1.6449\n",
    "\n",
    "# calculate the lower and upper bound of interval using the formula\n",
    "lower_int = avg - (z_alpha_by_2 * (std_pop / np.sqrt(n)))\n",
    "upper_int = avg + (z_alpha_by_2 * (std_pop / np.sqrt(n)))\n",
    "\n",
    "# print the 90% confidence interval\n",
    "# use 'round()' to round-off the value to 2 digits\n",
    "print('90% confidence interval for population mean is', (round(lower_int,2), round(upper_int,2)))"
   ]
  },
  {
   "cell_type": "markdown",
   "metadata": {
    "id": "6bTmF65mIYGG"
   },
   "source": [
    "#### 2. There are 150 apples on a tree. You randomly choose 40 apples and found that the average weight of apples is 182 grams with a standard deviation of 30 grams. Find the 95% confidence interval for the population mean."
   ]
  },
  {
   "cell_type": "code",
   "execution_count": 10,
   "metadata": {
    "id": "1ivOUvbxIYGG",
    "outputId": "f5972398-6d6b-4784-a62d-72c9de82a787"
   },
   "outputs": [
    {
     "name": "stdout",
     "output_type": "stream",
     "text": [
      "95% confidence interval for population mean is (172.70307451543158, 191.29692548456842)\n"
     ]
    }
   ],
   "source": [
    "# number of observations in the sample\n",
    "n = 40\n",
    "\n",
    "# sample mean \n",
    "sample_avg = 182\n",
    "\n",
    "# sample standard deviation\n",
    "sample_std = 30\n",
    "\n",
    "# calculate the 95% confidence interval\n",
    "# pass the sample mean to the parameter, 'loc'\n",
    "# pass the scaling factor (sample_std / n^(1/2)) to the parameter, 'scale'\n",
    "# as the population standard deviation is unknown, use the sample standard deviation \n",
    "interval = stats.norm.interval(0.95, loc = sample_avg, scale = sample_std/np.sqrt(n))\n",
    "\n",
    "print('95% confidence interval for population mean is', interval)"
   ]
  },
  {
   "cell_type": "markdown",
   "metadata": {
    "id": "4-hFZEe-IYGG"
   },
   "source": [
    "#### 3. A movie production house needs to estimate the average monthly wage of the technical crew members. The previous data shows that the standard deviation of the wages is 190 dollars. The production team thinks that the estimation of the average wage should not exceed 54 dollars. The team has decided to take a small subset of wages for the estimation. Find a suitable number of wages to be considered to get the estimate with 90% confidence."
   ]
  },
  {
   "cell_type": "code",
   "execution_count": 11,
   "metadata": {
    "id": "d_s8J-HlIYGH",
    "outputId": "81202d95-2e86-49b2-fc30-f39298013e55"
   },
   "outputs": [
    {
     "name": "stdout",
     "output_type": "stream",
     "text": [
      "Required Sample Size: 33\n"
     ]
    }
   ],
   "source": [
    "# calculate sample size using the margin of error\n",
    "\n",
    "# given population standard deviation\n",
    "sigma = 190\n",
    "\n",
    "# required margin of error\n",
    "ME = 54\n",
    "\n",
    "# calculate z_alpha_by_2 with alpha = 0.1\n",
    "# use 'stats.norm.isf()' to find the Z-value corresponding to the upper tail probability 'q'\n",
    "# pass the value of 'alpha/2' to the parameter 'q'\n",
    "# use 'round()' to round-off the value to 4 digits\n",
    "z_alpha_by_2 = np.abs(round(stats.norm.isf(q = 0.1/2), 4))\n",
    "\n",
    "# calculate sample size (n) \n",
    "n = ((z_alpha_by_2)**2)*(sigma**2)/(ME**2)\n",
    "\n",
    "# round-off the value of 'n' to get the integer value\n",
    "print('Required Sample Size:', round(n))"
   ]
  },
  {
   "cell_type": "markdown",
   "metadata": {
    "id": "qx7_u7m2IYGH"
   },
   "source": [
    "#### 4. 100 bags of coal were tested and had an average of 35% of ash with a standard deviation of 15%. Calculate the margin of error for a 90% confidence level."
   ]
  },
  {
   "cell_type": "code",
   "execution_count": 12,
   "metadata": {
    "id": "Lmm2lDuIIYGH",
    "outputId": "97bbbf42-28ee-4d06-88fe-4fdc82b02e74"
   },
   "outputs": [
    {
     "name": "stdout",
     "output_type": "stream",
     "text": [
      "Margin of error: 0.024673499999999998\n"
     ]
    }
   ],
   "source": [
    "# number of bags\n",
    "n = 100\n",
    "\n",
    "# standard deviaion \n",
    "std = 0.15\n",
    "\n",
    "# given confidence level\n",
    "conf_level = 0.90\n",
    "\n",
    "# calculate z_alpha_by_2 with alpha = (1-conf_level) = 0.1\n",
    "# use 'stats.norm.isf()' to find the Z-value corresponding to the upper tail probability 'q'\n",
    "# pass the value of 'alpha/2' to the parameter 'q'\n",
    "# use 'round()' to round-off the value to 4 digits\n",
    "z_alpha_by_2 = np.abs(round(stats.norm.isf(q = 0.1/2), 4))\n",
    "\n",
    "# calculate margin of error\n",
    "error = (z_alpha_by_2*std)/ np.sqrt(n)\n",
    "\n",
    "print('Margin of error:', error)"
   ]
  },
  {
   "cell_type": "markdown",
   "metadata": {
    "id": "_W9mvVtjIYGI"
   },
   "source": [
    "#### 5. From a sample of 250 observations, it is found that the average income of a 27 year old Londoner is £45,000 with a sample standard deviation of £4000. Obtain the 95% confidence interval to estimate the average income."
   ]
  },
  {
   "cell_type": "code",
   "execution_count": 13,
   "metadata": {
    "id": "uuTsIVg_IYGI",
    "outputId": "f24e85b8-3575-43e2-f1d2-8ed82257a451"
   },
   "outputs": [
    {
     "name": "stdout",
     "output_type": "stream",
     "text": [
      "95% confidence interval for average income: (44504.16397415635, 45495.83602584365)\n"
     ]
    }
   ],
   "source": [
    "# number of observations in the sample\n",
    "n = 250\n",
    "\n",
    "# sample mean \n",
    "sample_avg = 45000\n",
    "\n",
    "# sample standard deviation\n",
    "sample_std = 4000\n",
    "\n",
    "# calculate the 95% confidence interval\n",
    "# pass the sample mean to the parameter, 'loc'\n",
    "# pass the scaling factor (sample_std / n^(1/2)) to the parameter, 'scale'\n",
    "# as the population standard deviation is unknown, use the sample standard deviation \n",
    "interval = stats.norm.interval(0.95, loc = sample_avg, scale = sample_std/np.sqrt(n))\n",
    "\n",
    "print('95% confidence interval for average income:', interval)"
   ]
  },
  {
   "cell_type": "markdown",
   "metadata": {
    "id": "AdvNK76jIYGJ"
   },
   "source": [
    "<a id=\"small\"></a>\n",
    "### 2.2.2 Small Sample Size"
   ]
  },
  {
   "cell_type": "markdown",
   "metadata": {
    "id": "d5Jh0lWIIYGJ"
   },
   "source": [
    "Let us take a sample of `n` observations from the population such that, $n < 30$. Here the standard deviation of the population is unknown. The confidence interval for the population mean with $100(1-\\alpha)$% confidence level is given as: $\\overline{X} \\pm t_{\\frac{\\alpha}{2}, n-1}\\frac{s}{\\sqrt{n}}$\n",
    "\n",
    "Where, <br>\n",
    "$\\overline{X}$: Sample mean<br>\n",
    "$\\alpha$: Level of significance<br>\n",
    "$s$: Sample standard deviation<br>\n",
    "$n-1$: degrees of freedom\n",
    "\n",
    "The ratio $\\frac{s}{\\sqrt{n}}$ is the estimate of the standard error of the mean. And $t_{\\frac{\\alpha}{2}, n-1}\\frac{s}{\\sqrt{n}}$ is the margin of error for the estimate.\n",
    "\n",
    "The value of $t_{\\frac{\\alpha}{2}, n-1}$ for different $\\alpha$ values can be obtained using the `stats.t.isf()` from the scipy library.  "
   ]
  },
  {
   "cell_type": "code",
   "execution_count": 14,
   "metadata": {
    "id": "5WSk6UTfIYGK",
    "outputId": "3a13255a-73ff-456f-f521-7c00a8c00464",
    "scrolled": false
   },
   "outputs": [
    {
     "data": {
      "text/html": [
       "<div>\n",
       "<style scoped>\n",
       "    .dataframe tbody tr th:only-of-type {\n",
       "        vertical-align: middle;\n",
       "    }\n",
       "\n",
       "    .dataframe tbody tr th {\n",
       "        vertical-align: top;\n",
       "    }\n",
       "\n",
       "    .dataframe thead th {\n",
       "        text-align: right;\n",
       "    }\n",
       "</style>\n",
       "<table border=\"1\" class=\"dataframe\">\n",
       "  <thead>\n",
       "    <tr style=\"text-align: right;\">\n",
       "      <th></th>\n",
       "      <th>alpha</th>\n",
       "      <th>t_alpha_by_2</th>\n",
       "    </tr>\n",
       "  </thead>\n",
       "  <tbody>\n",
       "    <tr>\n",
       "      <th>0</th>\n",
       "      <td>0.10</td>\n",
       "      <td>1.81</td>\n",
       "    </tr>\n",
       "    <tr>\n",
       "      <th>1</th>\n",
       "      <td>0.05</td>\n",
       "      <td>2.23</td>\n",
       "    </tr>\n",
       "    <tr>\n",
       "      <th>2</th>\n",
       "      <td>0.02</td>\n",
       "      <td>2.76</td>\n",
       "    </tr>\n",
       "    <tr>\n",
       "      <th>3</th>\n",
       "      <td>0.01</td>\n",
       "      <td>3.17</td>\n",
       "    </tr>\n",
       "  </tbody>\n",
       "</table>\n",
       "</div>"
      ],
      "text/plain": [
       "   alpha  t_alpha_by_2\n",
       "0   0.10          1.81\n",
       "1   0.05          2.23\n",
       "2   0.02          2.76\n",
       "3   0.01          3.17"
      ]
     },
     "execution_count": 14,
     "metadata": {},
     "output_type": "execute_result"
    }
   ],
   "source": [
    "# let us find the t-values for different alpha values with 10 degrees of freedom\n",
    "\n",
    "# create an empty dataframe to store the alpha and corresponding t-value\n",
    "df_t = pd.DataFrame()\n",
    "\n",
    "# create a dictionary of different alpha values\n",
    "alpha =  [0.1, 0.05, 0.02, 0.01] \n",
    "\n",
    "# use for loop to calculate the t-value for each alpha value\n",
    "for i in range(len(alpha)):\n",
    "    alpha_by_2 = alpha[i] / 2\n",
    "    \n",
    "    # use 'stats.t.isf()' to find the t-value corresponding to the upper tail probability 'q'\n",
    "    # pass the value of 'alpha_by_2' to the parameter 'q'\n",
    "    # pass the 10 degrees of freedom to the parametr 'df' \n",
    "    # use 'round()' to round-off the value to 2 digits\n",
    "    t = np.abs(round(stats.t.isf(q = alpha_by_2, df = 10), 2))\n",
    "\n",
    "    # create a dataframe using dictionary to store the alpha and corresponding t-value \n",
    "    # set the loop iterator 'i' as the index of the dataframe\n",
    "    row =  pd.DataFrame({\"alpha\": alpha[i], \"t_alpha_by_2\": t}, index = [i])\n",
    "\n",
    "    # append the row to the dataframe 'df_t'\n",
    "    df_t = df_t.append(row)\n",
    "\n",
    "# print the final dataframe\n",
    "df_t"
   ]
  },
  {
   "cell_type": "markdown",
   "metadata": {
    "id": "fGtKHJgXIYGK"
   },
   "source": [
    "### Example:\n",
    "\n",
    "#### 1. There are 150 apples on a tree. You randomly choose 17 apples and found that the average weight of apples is 78 grams with a standard deviation of 23 grams. Find the 90% confidence interval for the population mean."
   ]
  },
  {
   "cell_type": "code",
   "execution_count": 15,
   "metadata": {
    "id": "LJURA0pXIYGK",
    "outputId": "a06e7c47-96de-4028-81de-7e7a2312d729"
   },
   "outputs": [
    {
     "name": "stdout",
     "output_type": "stream",
     "text": [
      "90% confidence interval for population mean is (68.82448114236304, 87.17551885763696)\n"
     ]
    }
   ],
   "source": [
    "# number of observations in the sample\n",
    "n = 17\n",
    "\n",
    "# sample mean \n",
    "sample_avg = 78\n",
    "\n",
    "# sample standard deviation\n",
    "sample_std = 23\n",
    "\n",
    "# calculate the 90% confidence interval for the population mean\n",
    "# pass the 'n-1' degrees of freedom to the parameter, 'df' \n",
    "# pass the sample mean to the parameter, 'loc'\n",
    "# pass the scaling factor (sample_std / n^(1/2)) to the parameter, 'scale'\n",
    "# as the population standard deviation is unknown, use the sample standard deviation \n",
    "interval = stats.norm.interval(0.90, loc = sample_avg, scale = sample_std/np.sqrt(n))\n",
    "\n",
    "print('90% confidence interval for population mean is', interval)"
   ]
  },
  {
   "cell_type": "markdown",
   "metadata": {
    "id": "n5JzSszaIYGL"
   },
   "source": [
    "<a id=\"prop\"></a>\n",
    "## 2.3 Interval Estimation for Proportion"
   ]
  },
  {
   "cell_type": "markdown",
   "metadata": {
    "id": "3JHXDZfAIYGL"
   },
   "source": [
    "Consider a population in which each observation is either a success or a failure. The population proportion is denoted by `P` which the ratio of the number of successes to the size of the population.\n",
    "\n",
    "The confidence interval for the population proportion with $100(1-\\alpha)$% confidence level is given as: $p \\pm Z_{\\frac{\\alpha}{2}}\\sqrt{\\frac{p(1 - p)}{n}}$\n",
    "\n",
    "Where, <br>\n",
    "$p$: Sample proportion<br>\n",
    "$\\alpha$: Level of significance<br>\n",
    "$n$: Sample size\n",
    "\n",
    "The quantity $Z_{\\frac{\\alpha}{2}}\\sqrt{\\frac{p(1 - p)}{n}}$ is the margin of error."
   ]
  },
  {
   "cell_type": "markdown",
   "metadata": {
    "id": "AiaY_q4SIYGL"
   },
   "source": [
    "### Example:\n",
    "\n",
    "#### 1. A financial firm has created 50 portfolios. From them, a sample of 13 portfolios was selected, out of which 8 were found to be underperforming. Construct a 99% confidence interval to estimate the population proportion."
   ]
  },
  {
   "cell_type": "code",
   "execution_count": 16,
   "metadata": {
    "id": "nMEIPM2EIYGL",
    "outputId": "a4418990-029b-4eb1-cfe1-823d72e8b143"
   },
   "outputs": [
    {
     "name": "stdout",
     "output_type": "stream",
     "text": [
      "99% confidence interval for population proportion is (0.26782280814713805, 0.9629464226220927)\n"
     ]
    }
   ],
   "source": [
    "# total count of portfolios\n",
    "N = 50\n",
    "\n",
    "# number of portfolios in a sample\n",
    "n = 13\n",
    "\n",
    "# number of underperforming portfolios in a sample\n",
    "x = 8\n",
    "\n",
    "# sample proportion\n",
    "p_samp = x/n\n",
    "\n",
    "# calculate the 99% confidence interval\n",
    "# pass the sample proportion to the parameter, 'loc'\n",
    "# pass the scaling factor ((p_samp*(1-p_samp))/n))^0.5) to the parameter, 'scale'\n",
    "interval = stats.norm.interval(0.99, loc = p_samp, scale = np.sqrt((p_samp*(1-p_samp))/n))\n",
    "\n",
    "print('99% confidence interval for population proportion is', interval)"
   ]
  },
  {
   "cell_type": "markdown",
   "metadata": {
    "id": "1qkqfAwHIYGM"
   },
   "source": [
    "<a id=\"defn\"></a>\n",
    "# 3. Test of Hypothesis"
   ]
  },
  {
   "cell_type": "markdown",
   "metadata": {
    "id": "G3qz5t-iIYGM"
   },
   "source": [
    "It is the process of evaluating the validity of the claim made using the sample data obtained from the population. A statistical test is a rule used to decide the acceptance or rejection of the claim.\n",
    "\n",
    "**Examples of hypothesis:**\n",
    "\n",
    "        1. One can get 'A' grade if the attendance in the class is more than 75%.\n",
    "        2. A probiotic drink can improve the immunity of a person. "
   ]
  },
  {
   "cell_type": "markdown",
   "metadata": {
    "id": "AUxJqS8MIYGM"
   },
   "source": [
    "<a id=\"types\"></a>\n",
    "## 3.1 Types of Hypothesis"
   ]
  },
  {
   "cell_type": "markdown",
   "metadata": {
    "id": "6DekhGI7IYGM"
   },
   "source": [
    "`Null Hypothesis`: The null hypothesis is the claim suggesting 'no difference'. It is denoted as H<sub>0</sub>.\n",
    "\n",
    "`Alternative Hypothesis`: It is the hypothesis that is tested against the null hypothesis. The acceptance or rejection of the hypothesis is based on the likelihood of H<sub>0</sub> being true. It is denoted by H<sub>a</sub> or H<sub>1</sub>.\n",
    "\n",
    "#### Example:\n",
    "\n",
    "A company that produces tennis balls claimed that the diameter of a tennis ball is at least 2.625 inches on average. On the other hand, a professional tennis coach claimed that the diameter of a ball is less than what the company has claimed. To test the claim of the coach, a statistical test can be performed considering the hypothesis:\n",
    "\n",
    "                    Null Hypothesis: Average diameter ≥ 2.625\n",
    "                    Alternative Hypothesis: Average diameter < 2.625"
   ]
  },
  {
   "cell_type": "markdown",
   "metadata": {
    "id": "tYwxrjefIYGN"
   },
   "source": [
    "<a id=\"test_type\"></a>\n",
    "# 4. Types of Test"
   ]
  },
  {
   "cell_type": "markdown",
   "metadata": {
    "id": "_u-1HcYTIYGN"
   },
   "source": [
    "The hypothesis test is used to validate the claim given by the null hypothesis. The types of tests are based on the nature of the alternative hypothesis. "
   ]
  },
  {
   "cell_type": "markdown",
   "metadata": {
    "id": "45EIhbaDIYGN"
   },
   "source": [
    "<a id=\"2tailed\"></a>\n",
    "## 4.1 Two Tailed Test"
   ]
  },
  {
   "cell_type": "markdown",
   "metadata": {
    "id": "5kXEDsxMIYGN"
   },
   "source": [
    "Two tailed test considers the value of the population parameter is less than or greater than (i.e. not equal) a specific value. <br>\n",
    "If we test the population mean ($\\mu$) with a specific value ($\\mu_{0}$) the null hypothesis is: $H_{0}: \\mu = \\mu_{0}$. \n",
    "\n",
    "The alternative hypothesis for the two tailed test is given as: $H_{1}: \\mu \\neq \\mu_{0}$"
   ]
  },
  {
   "cell_type": "markdown",
   "metadata": {
    "id": "CFEQmGnVIYGN"
   },
   "source": [
    "#### Example:\n",
    "\n",
    "A company that produces tennis balls claimed that the diameter of a tennis ball is 2.625 inches on average. To test the company's claim, a statistical test can be performed considering the hypothesis:\n",
    "\n",
    "                    Null Hypothesis: Average diameter = 2.625\n",
    "                    Alternative Hypothesis: Average diameter ≠ 2.625"
   ]
  },
  {
   "cell_type": "markdown",
   "metadata": {
    "id": "vHYdAIyXIYGO"
   },
   "source": [
    "<a id=\"1tailed\"></a>\n",
    "## 4.2 One Tailed Test"
   ]
  },
  {
   "cell_type": "markdown",
   "metadata": {
    "id": "oWaXSbC3IYGO"
   },
   "source": [
    "One tailed test considers the value of the population parameter is less than or greater than (but not both) a specific value. <br>\n",
    "If we test the population mean ($\\mu$) with a specific value ($\\mu_{0}$) the null hypothesis is: $H_{0}: \\mu \\leq \\mu_{0}$ and the alternative hypothesis is $H_{1}: \\mu > \\mu_{0}$, the one tailed test is also known as a `right-tailed test`.\n",
    "\n",
    "If we test the population mean ($\\mu$) with a specific value ($\\mu_{0}$) the null hypothesis is: $H_{0}: \\mu \\geq \\mu_{0}$ and the alternative hypothesis is $H_{1}: \\mu < \\mu_{0}$, the one tailed test is also known as a `left-tailed test`.\n"
   ]
  },
  {
   "cell_type": "markdown",
   "metadata": {
    "id": "ehzod2dIIYGO"
   },
   "source": [
    "### Example:\n",
    "\n",
    "**1.** The company's annual quality report of machines states that a lathe machine works efficiently at most for 8 months on average after the servicing. The production manager claims that after the special tuxan servicing, the machine works efficiently for more than 8 months. To test the claim of production manager consider the hypothesis:\n",
    "\n",
    "                    Null Hypothesis: Machine efficiency ≤ 8 months\n",
    "                    Alternative Hypothesis: Machine efficiency > 8 months\n",
    "\n",
    "This is the example of a **right-tailed test**. "
   ]
  },
  {
   "cell_type": "markdown",
   "metadata": {
    "id": "6qaYCx8-IYGO"
   },
   "source": [
    "**2.** A railway authority claims that all the trains on the Chicago-Seattle route run with a speed of at least 54 mph on average. A customer forum declares that there are various records from passengers claiming that the speed of the train is less than what railway has claimed. In this scenario, a statistical test can be performed to test the claim of customer forum considering the hypothesis:\n",
    "\n",
    "                    Null Hypothesis: Speed ≥ 56 mph\n",
    "                    Alternative Hypothesis: Speed < 56 mph\n",
    "\n",
    "This is the example of a **left-tailed test**. "
   ]
  },
  {
   "cell_type": "markdown",
   "metadata": {
    "id": "EIaLzeD1IYGO"
   },
   "source": [
    "<a id=\"eg\"></a>\n",
    "# 5. Hypothesis Tests with Z Statistic"
   ]
  },
  {
   "cell_type": "markdown",
   "metadata": {
    "id": "28mDzocNIYGP"
   },
   "source": [
    "Let us perform one sample Z test for the population mean. We compare the population mean with a specific value. The sample is assumed to be taken from a population following a normal distribution.\n",
    "\n",
    "To check the normality of the data, a test for normality is used. The `Shapiro-Wilk Test` is one of the methods used to check the normality. The hypothesis of the test is given as:\n",
    "<p style='text-indent:25em'> <strong> H<sub>0</sub>:  The data is normally distributed </strong> </p>\n",
    "<p style='text-indent:25em'> <strong> H<sub>1</sub>:  The data is not normally distributed </strong> </p>\n",
    "\n",
    "The `shapiro()` from scipy library performs a Shapiro-Wilk normality test. "
   ]
  },
  {
   "cell_type": "markdown",
   "metadata": {
    "id": "FbUy_Yk2IYGP"
   },
   "source": [
    "The null and alternative hypothesis of Z-test is given as:\n",
    "<p style='text-indent:25em'> <strong> $H_{0}: \\mu = \\mu_{0}$ or $\\mu \\geq \\mu_{0}$ or $\\mu \\leq \\mu_{0}$</strong></p>\n",
    "<p style='text-indent:25em'> <strong> $H_{1}: \\mu \\neq \\mu_{0}$ or $\\mu < \\mu_{0}$ or $\\mu > \\mu_{0}$</strong></p>"
   ]
  },
  {
   "cell_type": "markdown",
   "metadata": {
    "id": "-ZvOkKWCIYGP"
   },
   "source": [
    "Consider a normal population with standard deviation $\\sigma$. Let us take a sample of size n, such that (n > 30). \n",
    "The test statistic for one sample Z-test is given as:\n",
    "<p style='text-indent:25em'> <strong> $Z = \\frac{\\overline{X} -  \\mu}{\\frac{\\sigma}{\\sqrt(n)}}$</strong></p>\n",
    "\n",
    "Where, <br>\n",
    "$\\overline{X}$: Sample mean<br>\n",
    "$\\mu$: Specified mean<br>\n",
    "$\\sigma$: Population standard deviation<br>\n",
    "$n$: Sample size\n",
    "\n",
    "Under $H_{0}$ the test statistic follows a standard normal distribution.\n",
    "\n",
    "If $\\sigma$ is unknown, use the sample standard deviation (s) instead of $\\sigma$ to calculate the test statistic."
   ]
  },
  {
   "cell_type": "markdown",
   "metadata": {
    "id": "sEjy-lxeIYGP"
   },
   "source": [
    "### Example:\n",
    "\n",
    "#### 1. A car manufacturing company claims that the mileage of their new car is 25 kmph with a standard deviation of 2.5 kmph. A random sample of 45 cars was drawn and recorded their mileage as per the standard procedure. From the sample, the mean mileage was seen to be 24 kmph. Is this evidence to claim that the mean mileage is different from 25kmph? (assume the normality of the data) Use α = 0.01."
   ]
  },
  {
   "cell_type": "markdown",
   "metadata": {
    "id": "QI9dAiIkIYGP"
   },
   "source": [
    "The null and alternative hypothesis is:\n",
    "\n",
    "H<sub>0</sub>: $\\mu = 25 $<br>\n",
    "H<sub>1</sub>: $\\mu ≠ 25 $\n",
    "\n",
    "Here ⍺ = 0.01, for a two-tailed test calculate the critical z-value."
   ]
  },
  {
   "cell_type": "code",
   "execution_count": 17,
   "metadata": {
    "id": "DnrqJRf4IYGQ",
    "outputId": "031eff05-b257-45d3-977b-80eb13dafffd"
   },
   "outputs": [
    {
     "name": "stdout",
     "output_type": "stream",
     "text": [
      "Critical value for two-tailed Z-test: 2.58\n"
     ]
    }
   ],
   "source": [
    "# calculate the z-value for 99% of confidence level\n",
    "# use 'stats.norm.isf()' to find the z-value corresponding to the upper tail probability 'q'\n",
    "# pass the value of 'alpha/2' to the parameter 'q', here alpha = 0.01\n",
    "# use 'round()' to round-off the value to 2 digits\n",
    "z_val = np.abs(round(stats.norm.isf(q = 0.01/2), 2))\n",
    "\n",
    "print('Critical value for two-tailed Z-test:', z_val)"
   ]
  },
  {
   "cell_type": "markdown",
   "metadata": {
    "id": "878Z_9m2IYGQ"
   },
   "source": [
    "i.e. if z is less than -2.58 or greater than 2.58 then we reject the null hypothesis."
   ]
  },
  {
   "cell_type": "code",
   "execution_count": 18,
   "metadata": {
    "id": "tv5ZxzKMIYGQ",
    "outputId": "d83163bd-6e77-44cc-bf16-36cae19cb118"
   },
   "outputs": [
    {
     "name": "stdout",
     "output_type": "stream",
     "text": [
      "Z-score: -2.6832815729997477\n"
     ]
    }
   ],
   "source": [
    "# define a function to calculate the Z-test statistic \n",
    "# pass the population mean, population standard deviation, sample size and sample mean as the function input\n",
    "def z_test(pop_mean, pop_std, n, samp_mean):\n",
    "   \n",
    "    # calculate the test statistic\n",
    "    z_score = (samp_mean - pop_mean) / (pop_std / np.sqrt(n))\n",
    "\n",
    "    # return the z-test value\n",
    "    return z_score\n",
    "\n",
    "# given data\n",
    "n = 45\n",
    "pop_mean = 25\n",
    "pop_std = 2.5\n",
    "samp_mean = 24\n",
    "\n",
    "# calculate the test statistic using the function 'z_test'\n",
    "z_score = z_test(pop_mean, pop_std, n, samp_mean)\n",
    "print(\"Z-score:\", z_score)"
   ]
  },
  {
   "cell_type": "code",
   "execution_count": 19,
   "metadata": {
    "id": "1un57lZOIYGQ",
    "outputId": "fcfbe3de-da84-4ded-f8d7-66a09fa62e10"
   },
   "outputs": [
    {
     "name": "stdout",
     "output_type": "stream",
     "text": [
      "p-value: 0.007290358091535638\n"
     ]
    }
   ],
   "source": [
    "# calculate the corresponding p-value for the test statistic\n",
    "# use 'cdf()' to calculate P(Z <= z_score)\n",
    "p_value = stats.norm.cdf(z_score)\n",
    "\n",
    "# for a two-tailed test multiply the p-value by 2\n",
    "req_p = p_value*2\n",
    "print('p-value:', req_p)"
   ]
  },
  {
   "cell_type": "code",
   "execution_count": 20,
   "metadata": {
    "id": "Lrz0IR5kIYGR",
    "outputId": "f5d27b65-36ab-42c2-9d16-12257534efb0",
    "scrolled": false
   },
   "outputs": [
    {
     "name": "stdout",
     "output_type": "stream",
     "text": [
      "Confidence interval: (23.040045096471452, 24.959954903528548)\n"
     ]
    }
   ],
   "source": [
    "# calculate the 99% confidence interval for the population mean\n",
    "# pass the sample mean to the parameter, 'loc'\n",
    "# pass the scaling factor (pop_std / n^(1/2)) to the parameter, 'scale'\n",
    "print('Confidence interval:', stats.norm.interval(0.99, loc = samp_mean, scale = pop_std / np.sqrt(n)))"
   ]
  },
  {
   "cell_type": "markdown",
   "metadata": {
    "id": "XnK_dhjVIYGR"
   },
   "source": [
    "Here the z score is less than -2.58, p-value is less than 0.01, also the confidence interval do not contain the value in the null hypothesis (i.e. 25), thus we reject the null hypothesis and conclude that there is enough evidence to claim that the mean mileage is different from 25kmph."
   ]
  },
  {
   "cell_type": "markdown",
   "metadata": {
    "id": "9BuzTUcmIYGR"
   },
   "source": [
    "#### 2. The average calories in a slice bread of the brand 'Alphas' are 82 with a standard deviation of 15. An experiment is conducted to test the claim of the dietitians that the calories in a slice of bread are not as per the manufacturer's specification. A sample of 40 slices of bread is taken and the mean calories recorded are 95. Test the claim of dietitians with ⍺ value (significance level) as 0.05. (assume the normality of the data)."
   ]
  },
  {
   "cell_type": "markdown",
   "metadata": {
    "id": "1Pb9aE7PIYGR"
   },
   "source": [
    "The null and alternative hypothesis is:\n",
    "\n",
    "H<sub>0</sub>: $\\mu = 82 $<br>\n",
    "H<sub>1</sub>: $\\mu ≠ 82 $\n",
    "\n",
    "Here ⍺ = 0.05, for a two-tailed test calculate the critical z-value."
   ]
  },
  {
   "cell_type": "code",
   "execution_count": 21,
   "metadata": {
    "id": "4C7uCjqAIYGS",
    "outputId": "57dde589-a06f-47e2-a54f-d97d3c96a727"
   },
   "outputs": [
    {
     "name": "stdout",
     "output_type": "stream",
     "text": [
      "Critical value for two-tailed Z-test: 1.96\n"
     ]
    }
   ],
   "source": [
    "# calculate the z-value for 95% of confidence level\n",
    "# use 'stats.norm.isf()' to find the z-value corresponding to the upper tail probability 'q'\n",
    "# pass the value of 'alpha/2' to the parameter 'q', here alpha = 0.05\n",
    "# use 'round()' to round-off the value to 2 digits\n",
    "z_val = np.abs(round(stats.norm.isf(q = 0.05/2), 2))\n",
    "\n",
    "print('Critical value for two-tailed Z-test:', z_val)"
   ]
  },
  {
   "cell_type": "markdown",
   "metadata": {
    "id": "2uwfV4SkIYGS"
   },
   "source": [
    "i.e. if z is less than -1.96 or greater than 1.96 then we reject the null hypothesis."
   ]
  },
  {
   "cell_type": "code",
   "execution_count": 22,
   "metadata": {
    "id": "xiNpTIKUIYGS",
    "outputId": "68168877-f3c2-42c2-b262-ff4dbf77b0f2"
   },
   "outputs": [
    {
     "name": "stdout",
     "output_type": "stream",
     "text": [
      "Z-score: 5.4812812776251905\n"
     ]
    }
   ],
   "source": [
    "# define a function to calculate the Z-test statistic \n",
    "# pass the population mean, population standard deviation, sample size and sample mean as the function input\n",
    "def z_test(pop_mean, pop_std, n, samp_mean):\n",
    "   \n",
    "    # calculate the test statistic\n",
    "    z_score = (samp_mean - pop_mean) / (pop_std / np.sqrt(n))\n",
    "\n",
    "    # return the z-test value\n",
    "    return z_score\n",
    "\n",
    "# given data\n",
    "n = 40\n",
    "pop_mean = 82\n",
    "pop_std = 15\n",
    "samp_mean = 95\n",
    "\n",
    "# calculate the test statistic using the function 'z_test'\n",
    "z_score = z_test(pop_mean, pop_std, n, samp_mean)\n",
    "print(\"Z-score:\", z_score)"
   ]
  },
  {
   "cell_type": "code",
   "execution_count": 23,
   "metadata": {
    "id": "bGXLsG-LIYGS",
    "outputId": "76c3b1ce-d03d-4ce8-ef23-24f99289f06f"
   },
   "outputs": [
    {
     "name": "stdout",
     "output_type": "stream",
     "text": [
      "p-value: 4.222565249683579e-08\n"
     ]
    }
   ],
   "source": [
    "# calculate the corresponding p-value for the test statistic\n",
    "# use 'cdf()' to calculate P(Z <= -z_score)\n",
    "p_value = stats.norm.cdf(-z_score)\n",
    "\n",
    "# for a two-tailed test multiply the p-value by 2\n",
    "req_p = p_value*2\n",
    "print('p-value:', req_p)"
   ]
  },
  {
   "cell_type": "code",
   "execution_count": 24,
   "metadata": {
    "id": "40tKGhjdIYGT",
    "outputId": "185a4584-a308-4fa9-8863-92140e8468a1",
    "scrolled": false
   },
   "outputs": [
    {
     "name": "stdout",
     "output_type": "stream",
     "text": [
      "Confidence interval: (90.35153725771579, 99.64846274228421)\n"
     ]
    }
   ],
   "source": [
    "# calculate the 95% confidence interval for the population mean\n",
    "# pass the sample mean to the parameter, 'loc'\n",
    "# pass the scaling factor (pop_std / n^(1/2)) to the parameter, 'scale'\n",
    "print('Confidence interval:', stats.norm.interval(0.95, loc = samp_mean, scale = pop_std / np.sqrt(n)))"
   ]
  },
  {
   "cell_type": "markdown",
   "metadata": {
    "id": "o-8oR5aRIYGT"
   },
   "source": [
    "Here the z score is greater than 1.96, the p-value is less than 0.05, also the confidence interval do not contain the value in the null hypothesis (i.e. 82), thus we reject the null hypothesis and thus, there is enough evidence to conclude that the average calories in a slice bread are not 82."
   ]
  },
  {
   "cell_type": "markdown",
   "metadata": {
    "id": "YxfRGDGqIYGT"
   },
   "source": [
    "#### 3. A typhoid vaccine in the market inscribes 3 mg of ascorbic acid in the vaccine. A research team claims that the vaccines contain less than 3 mg of acid. We collected the data of 40 vaccines by using random sampling from a population and recorded the amount of ascorbic acid. Test the claim of the research team using the sample data ⍺ value (significance level) to 0.05.\n",
    "\n",
    "    acid_amt = [2.57, 3.06, 3.28 , 3.24, 2.79, 3.40, 3.36, 3.07, 2.46, 3.03, 3.05, 2.94, 3.46, 3.19, 3.09, 2.81, 3.13, 2.88, \n",
    "                2.76, 2.75, 3.17, 2.89, 2.54, 3.18, 3.08, 2.60, 3.06, 3.13, 3.11, 3.08, 2.93, 2.90, 3.06, 2.97, 3.24, 2.86, \n",
    "                2.87, 3.18, 3, 2.95]"
   ]
  },
  {
   "cell_type": "markdown",
   "metadata": {
    "id": "m9pjN8dhIYGT"
   },
   "source": [
    "Let us check the normality of the data."
   ]
  },
  {
   "cell_type": "code",
   "execution_count": 25,
   "metadata": {
    "id": "qUeuut0dIYGU",
    "outputId": "244ac460-6441-4777-b07b-acc7b186f072"
   },
   "outputs": [
    {
     "name": "stdout",
     "output_type": "stream",
     "text": [
      "Test statistic: 0.9764790534973145\n",
      "P-Value: 0.5609316825866699\n"
     ]
    }
   ],
   "source": [
    "# given data\n",
    "acid_amt = [2.57, 3.06, 3.28 , 3.24, 2.79, 3.40, 3.36, 3.07, 2.46, 3.03, 3.05, 2.94, 3.46 , 3.19, 3.09,2.81, 3.13, 2.88, 2.76, \n",
    "            2.75, 3.17, 2.89, 2.54, 3.18, 3.08, 2.60, 3.06, 3.13, 3.11, 3.08, 2.93, 2.90, 3.06, 2.97, 3.24, 2.86, 2.87, 3.18, \n",
    "            3, 2.95]\n",
    "\n",
    "# perform Shapiro-Wilk test to test the normality\n",
    "# shapiro() returns a tuple having the values of test statistics and the corresponding p-value\n",
    "# pass the sample data to perform the test\n",
    "stat, p_value = shapiro(acid_amt)\n",
    "\n",
    "# print the test statistic and corresponding p-value \n",
    "print('Test statistic:', stat)\n",
    "print('P-Value:', p_value)"
   ]
  },
  {
   "cell_type": "markdown",
   "metadata": {
    "id": "xaS1Yb8sIYGU"
   },
   "source": [
    "From the above result, we can see that the p-value is greater than 0.05, thus we can say that the data is normally distributed."
   ]
  },
  {
   "cell_type": "markdown",
   "metadata": {
    "id": "5r45qiHVIYGU"
   },
   "source": [
    "The null and alternative hypothesis is:\n",
    "\n",
    "H<sub>0</sub>: $\\mu \\geq 3 $<br>\n",
    "H<sub>1</sub>: $\\mu < 3 $\n",
    "\n",
    "Here ⍺ = 0.05, for a one-tailed test calculate the critical z-value."
   ]
  },
  {
   "cell_type": "code",
   "execution_count": 26,
   "metadata": {
    "id": "RTjMcdtzIYGU",
    "outputId": "b05f7247-7b7e-44cd-c1bf-2a0f0f90a3a7"
   },
   "outputs": [
    {
     "name": "stdout",
     "output_type": "stream",
     "text": [
      "Critical value for one-tailed Z-test: 1.64\n"
     ]
    }
   ],
   "source": [
    "# calculate the z-value for 95% of confidence level\n",
    "# use 'stats.norm.isf()' to find the z-value corresponding to the upper tail probability 'q'\n",
    "# pass the value of 'alpha' to the parameter 'q', here alpha = 0.05\n",
    "# use 'round()' to round-off the value to 2 digits\n",
    "z_val = np.abs(round(stats.norm.isf(q = 0.05), 2))\n",
    "\n",
    "print('Critical value for one-tailed Z-test:', z_val)"
   ]
  },
  {
   "cell_type": "markdown",
   "metadata": {
    "id": "KzhRB0XyIYGV"
   },
   "source": [
    "i.e. if z is less than -1.64 then we reject the null hypothesis."
   ]
  },
  {
   "cell_type": "code",
   "execution_count": 27,
   "metadata": {
    "id": "Av1tFoR0IYGV",
    "outputId": "4f9ba2b0-b68d-4aa9-b80d-820e39dc4bd5"
   },
   "outputs": [
    {
     "name": "stdout",
     "output_type": "stream",
     "text": [
      "Z-score:  0.08289008952836197\n",
      "p-value:  0.5330305328333862\n"
     ]
    }
   ],
   "source": [
    "# given amount of ascorbic acid in the vaccines\n",
    "acid_amt = [2.57, 3.06, 3.28 , 3.24, 2.79, 3.40, 3.36, 3.07, 2.46, 3.03, 3.05, 2.94, 3.46 , 3.19, 3.09, 2.81, 3.13, 2.88, 2.76, \n",
    "            2.75, 3.17, 2.89, 2.54, 3.18, 3.08, 2.60, 3.06, 3.13, 3.11, 3.08, 2.93, 2.90, 3.06, 2.97, 3.24, 2.86, 2.87, 3.18, \n",
    "            3, 2.95]\n",
    "\n",
    "# 'ztest()' returns the test statistic and corresponding p-value\n",
    "# pass the sample data to the parameter, 'x1'\n",
    "# pass the value in null hypothesis to the parameter, 'value'\n",
    "# pass the one-tailed condition to the parameter, 'alternative'\n",
    "z_score, pval = stests.ztest(x1 = acid_amt, value = 3, alternative = 'smaller')\n",
    "\n",
    "# print the test statistic and corresponding p-value\n",
    "print(\"Z-score: \", z_score)\n",
    "print(\"p-value: \", pval)"
   ]
  },
  {
   "cell_type": "code",
   "execution_count": 28,
   "metadata": {
    "id": "SLwxRS_DIYGV",
    "outputId": "d835820a-e03b-429c-ccd7-794c7edc662f",
    "scrolled": false
   },
   "outputs": [
    {
     "name": "stdout",
     "output_type": "stream",
     "text": [
      "Confidence interval: (2.932063993209846, 3.0739360067901544)\n"
     ]
    }
   ],
   "source": [
    "# calculate the 95% confidence interval for the population mean\n",
    "# pass the sample mean to the parameter, 'loc'\n",
    "# pass the scaling factor (standard deviation of sample / n^(1/2)) to the parameter, 'scale'\n",
    "# use 'stdev()' to calculate sample standard deviation\n",
    "print('Confidence interval:', stats.norm.interval(0.95, loc = np.mean(acid_amt), \n",
    "                                                  scale = statistics.stdev(acid_amt) / np.sqrt(len(acid_amt))))"
   ]
  },
  {
   "cell_type": "markdown",
   "metadata": {
    "id": "WwI09BOHIYGV"
   },
   "source": [
    "Here the z-score is greater than -1.64, the p-value is greater than 0.05, also the confidence interval contains the value in the null hypothesis (i.e. 3), thus we fail to reject (i.e. accept) the null hypothesis. Thus, there is no enough evidence to conclude that on average a typhoid vaccine contains less than 3 mg of ascorbic acid."
   ]
  },
  {
   "cell_type": "markdown",
   "metadata": {
    "id": "mgNCJwdsIYGV"
   },
   "source": [
    "#### 4. A sample of 900 PVC pipes is found to have an average thickness of 12.5 mm. Can we assume that the sample is coming from a normal population with mean 13 mm against that it is less than 13 mm. The population standard deviation is 1 mm. Test the hypothesis at 5% level of significance."
   ]
  },
  {
   "cell_type": "markdown",
   "metadata": {
    "id": "4u6nkxKgIYGW"
   },
   "source": [
    "The null and alternative hypothesis is:\n",
    "\n",
    "H<sub>0</sub>: $\\mu \\geq 13 $<br>\n",
    "H<sub>1</sub>: $\\mu < 13 $\n",
    "\n",
    "Here ⍺ = 0.05, for a one-tailed test calculate the critical z-value."
   ]
  },
  {
   "cell_type": "code",
   "execution_count": 29,
   "metadata": {
    "id": "h89ugUKhIYGW",
    "outputId": "e87f6eea-59ea-4c74-a1ea-47054afa13ca"
   },
   "outputs": [
    {
     "name": "stdout",
     "output_type": "stream",
     "text": [
      "Critical value for one-tailed Z-test: 1.64\n"
     ]
    }
   ],
   "source": [
    "# calculate the z-value for 95% of confidence level\n",
    "# use 'stats.norm.isf()' to find the z-value corresponding to the upper tail probability 'q'\n",
    "# pass the value of 'alpha' to the parameter 'q', here alpha = 0.05\n",
    "# use 'round()' to round-off the value to 2 digits\n",
    "z_val = np.abs(round(stats.norm.isf(q = 0.05), 2))\n",
    "\n",
    "print('Critical value for one-tailed Z-test:', z_val)"
   ]
  },
  {
   "cell_type": "markdown",
   "metadata": {
    "id": "UgmAdgUHIYGW"
   },
   "source": [
    "i.e. if z is less than -1.64 then we reject the null hypothesis."
   ]
  },
  {
   "cell_type": "code",
   "execution_count": 30,
   "metadata": {
    "id": "uQSoKcnEIYGW",
    "outputId": "d68c1b02-bafe-458a-fc50-1bfe80b36680"
   },
   "outputs": [
    {
     "name": "stdout",
     "output_type": "stream",
     "text": [
      "Z-score: -15.0\n"
     ]
    }
   ],
   "source": [
    "# define a function to calculate the Z-test statistic \n",
    "# pass the population mean, population standard deviation, sample size and sample mean as the function input\n",
    "def z_test(pop_mean, pop_std, n, samp_mean):\n",
    "   \n",
    "    # calculate the test statistic\n",
    "    z_score = (samp_mean - pop_mean) / (pop_std / np.sqrt(n))\n",
    "\n",
    "    # return the z-test value\n",
    "    return z_score\n",
    "\n",
    "# given data\n",
    "n = 900\n",
    "pop_mean = 13\n",
    "pop_std = 1\n",
    "samp_mean = 12.5\n",
    "\n",
    "# calculate the test statistic using the function 'z_test'\n",
    "z_score = z_test(pop_mean, pop_std, n, samp_mean)\n",
    "print(\"Z-score:\", z_score)"
   ]
  },
  {
   "cell_type": "code",
   "execution_count": 31,
   "metadata": {
    "id": "6DBGYRV-IYGW",
    "outputId": "c228b058-ed2b-4df7-89c6-2442cdcf3782"
   },
   "outputs": [
    {
     "name": "stdout",
     "output_type": "stream",
     "text": [
      "p-value: 3.6709661993126986e-51\n"
     ]
    }
   ],
   "source": [
    "# calculate the corresponding p-value for the test statistic\n",
    "# use 'cdf()' to calculate P(Z <= z_score)\n",
    "p_value = stats.norm.cdf(z_score)\n",
    "\n",
    "print('p-value:', p_value)"
   ]
  },
  {
   "cell_type": "code",
   "execution_count": 32,
   "metadata": {
    "id": "LamXedqYIYGZ",
    "outputId": "5ff18ebe-1a19-4cb1-df89-8f179b3adcdf",
    "scrolled": false
   },
   "outputs": [
    {
     "name": "stdout",
     "output_type": "stream",
     "text": [
      "Confidence interval: (12.434667867181998, 12.565332132818002)\n"
     ]
    }
   ],
   "source": [
    "# calculate the 95% confidence interval for the population mean\n",
    "# pass the sample mean to the parameter, 'loc'\n",
    "# pass the scaling factor (pop_std / n^(1/2)) to the parameter, 'scale'\n",
    "print('Confidence interval:', stats.norm.interval(0.95, loc = samp_mean, scale = pop_std / np.sqrt(n)))"
   ]
  },
  {
   "cell_type": "markdown",
   "metadata": {
    "id": "LsmHLQzvIYGa"
   },
   "source": [
    "Here the z score is less than -1.64, p-value is less than 0.05, also the confidence interval do not contain the value in the null hypothesis (i.e. 13), thus we reject the null hypothesis and conclude that the sample is not coming from the population with mean 13."
   ]
  },
  {
   "cell_type": "markdown",
   "metadata": {
    "id": "vEWsfUfDIYGa"
   },
   "source": [
    "#### 5. An e-commerce company claims that the mean delivery time of food items on its website in NYC is 60 minutes with a standard deviation of 30 minutes. A random sample of 45 customers ordered from the website, and the average time for delivery was found to be 75 minutes. Is this enough evidence to claim that the average time to get items delivered is more than 60 minutes. (assume the normality of the data). Test the with α = 0.05."
   ]
  },
  {
   "cell_type": "markdown",
   "metadata": {
    "id": "Z4kLerm-IYGa"
   },
   "source": [
    "The null and alternative hypothesis is:\n",
    "\n",
    "H<sub>0</sub>: $\\mu \\leq  60 $<br>\n",
    "H<sub>1</sub>: $\\mu > 60 $\n",
    "\n",
    "Here ⍺ = 0.05, for a one-tailed test calculate the critical z-value."
   ]
  },
  {
   "cell_type": "code",
   "execution_count": 33,
   "metadata": {
    "id": "i-6Gakg9IYGa",
    "outputId": "6d6126f0-748c-4d0d-ab73-37aa6a3542db"
   },
   "outputs": [
    {
     "name": "stdout",
     "output_type": "stream",
     "text": [
      "Critical value for one-tailed Z-test: 1.64\n"
     ]
    }
   ],
   "source": [
    "# calculate the z-value for 95% of confidence level\n",
    "# use 'stats.norm.isf()' to find the z-value corresponding to the upper tail probability 'q'\n",
    "# pass the value of 'alpha' to the parameter 'q', here alpha = 0.05\n",
    "# use 'round()' to round-off the value to 2 digits\n",
    "z_val = np.abs(round(stats.norm.isf(q = 0.05), 2))\n",
    "\n",
    "print('Critical value for one-tailed Z-test:', z_val)"
   ]
  },
  {
   "cell_type": "markdown",
   "metadata": {
    "id": "SknyfIUAIYGb"
   },
   "source": [
    "i.e. if z is greater than 1.64 then we reject the null hypothesis."
   ]
  },
  {
   "cell_type": "code",
   "execution_count": 34,
   "metadata": {
    "id": "aI5Snb3EIYGb",
    "outputId": "c06ce2e1-c8e9-4fdd-ca43-26ed1f104964"
   },
   "outputs": [
    {
     "name": "stdout",
     "output_type": "stream",
     "text": [
      "Z-score: 3.3541019662496843\n"
     ]
    }
   ],
   "source": [
    "# define a function to calculate the Z-test statistic \n",
    "# pass the population mean, population standard deviation, sample size and sample mean as the function input\n",
    "def z_test(pop_mean, pop_std, n, samp_mean):\n",
    "   \n",
    "    # calculate the test statistic\n",
    "    z_score = (samp_mean - pop_mean) / (pop_std / np.sqrt(n))\n",
    "\n",
    "    # return the z-test value\n",
    "    return z_score\n",
    "\n",
    "# given data\n",
    "n = 45\n",
    "pop_mean = 60\n",
    "pop_std = 30\n",
    "samp_mean = 75\n",
    "\n",
    "# calculate the test statistic using the function 'z_test'\n",
    "z_score = z_test(pop_mean, pop_std, n, samp_mean)\n",
    "print(\"Z-score:\", z_score)"
   ]
  },
  {
   "cell_type": "code",
   "execution_count": 35,
   "metadata": {
    "id": "bcPGtX5IIYGb",
    "outputId": "b3c030e2-8902-4973-a090-2aafa8c257b0"
   },
   "outputs": [
    {
     "name": "stdout",
     "output_type": "stream",
     "text": [
      "p-value: 0.0003981150787954058\n"
     ]
    }
   ],
   "source": [
    "# calculate the corresponding p-value for the test statistic\n",
    "# use 'sf()' to calculate P(Z > z_score)\n",
    "p_value = stats.norm.sf(z_score)\n",
    "\n",
    "print('p-value:', p_value)"
   ]
  },
  {
   "cell_type": "code",
   "execution_count": 36,
   "metadata": {
    "id": "Y0MHKsW8IYGc",
    "outputId": "c0f6262f-ac20-4967-9c3e-33d035749c00",
    "scrolled": false
   },
   "outputs": [
    {
     "name": "stdout",
     "output_type": "stream",
     "text": [
      "Confidence interval: (66.23477459423418, 83.76522540576582)\n"
     ]
    }
   ],
   "source": [
    "# calculate the 95% confidence interval for the population mean\n",
    "# pass the sample mean to the parameter, 'loc'\n",
    "# pass the scaling factor (pop_std / n^(1/2)) to the parameter, 'scale'\n",
    "print('Confidence interval:', stats.norm.interval(0.95, loc = samp_mean, scale = pop_std / np.sqrt(n)))"
   ]
  },
  {
   "cell_type": "markdown",
   "metadata": {
    "id": "JgcUsOsDIYGc"
   },
   "source": [
    "Here the z score is greater than 1.64, the p-value is less than 0.05, also the confidence interval do not contain the value in the null hypothesis (i.e. 60), thus we reject the null hypothesis and conclude that the average time to get items delivered is more than 60 minutes."
   ]
  },
  {
   "cell_type": "markdown",
   "metadata": {
    "id": "cI1iO4tTIYGc"
   },
   "source": [
    "<a id=\"error\"></a>\n",
    "# 6. Error"
   ]
  },
  {
   "cell_type": "markdown",
   "metadata": {
    "id": "lCaWBanPIYGc"
   },
   "source": [
    "The error can occur while choosing the correct hypothesis based on the statistical tests. Two types of errors are `Type I` and `Type II` error."
   ]
  },
  {
   "cell_type": "markdown",
   "metadata": {
    "id": "G7uk8bXUIYGd"
   },
   "source": [
    "### Type I Error\n",
    "\n",
    "This kind of error occurs when we reject the null hypothesis even if it is true. It is equivalent to a `false positive` conclusion. The probability of type I error is given by the value of $\\alpha$, level of significance.\n",
    "\n",
    "### Type II Error\n",
    "\n",
    "This kind of error occurs when we fail to reject the null hypothesis even if it is wrong. It is equivalent to a `false negative` conclusion. The probability of type II error is given by the value of $\\beta$."
   ]
  }
 ],
 "metadata": {
  "colab": {
   "collapsed_sections": [
    "376Bq9igIYF_",
    "ZeVCh2DUIYGB",
    "QOFjQbl_IYGE",
    "T7ZPTecxIYGF",
    "6bTmF65mIYGG",
    "4-hFZEe-IYGG",
    "qx7_u7m2IYGH",
    "_W9mvVtjIYGI",
    "AdvNK76jIYGJ",
    "fGtKHJgXIYGK",
    "AiaY_q4SIYGL",
    "6DekhGI7IYGM",
    "CFEQmGnVIYGN",
    "ehzod2dIIYGO",
    "sEjy-lxeIYGP",
    "9BuzTUcmIYGR",
    "YxfRGDGqIYGT",
    "mgNCJwdsIYGV",
    "vEWsfUfDIYGa",
    "G7uk8bXUIYGd"
   ],
   "name": "STAT - Faculty Notebook (Week 2).ipynb",
   "provenance": []
  },
  "kernelspec": {
   "display_name": "Python 3",
   "language": "python",
   "name": "python3"
  },
  "language_info": {
   "codemirror_mode": {
    "name": "ipython",
    "version": 3
   },
   "file_extension": ".py",
   "mimetype": "text/x-python",
   "name": "python",
   "nbconvert_exporter": "python",
   "pygments_lexer": "ipython3",
   "version": "3.8.8"
  }
 },
 "nbformat": 4,
 "nbformat_minor": 1
}
