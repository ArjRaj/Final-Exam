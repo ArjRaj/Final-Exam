{
 "cells": [
  {
   "cell_type": "markdown",
   "id": "279c27cd",
   "metadata": {},
   "source": [
    "### Binomial Distribution"
   ]
  },
  {
   "cell_type": "markdown",
   "id": "0483a03e",
   "metadata": {},
   "source": [
    "Heaven Furnitures (HF) sells furniture like sofas, beds and tables. It is observed that 25% of their customers complain about the furniture purchased by them for many reasons. On Tuesday, 20 customers purchased furniture products from HF."
   ]
  },
  {
   "cell_type": "code",
   "execution_count": 7,
   "id": "791831ff",
   "metadata": {},
   "outputs": [],
   "source": [
    "import pandas as pd \n",
    "import numpy as np\n",
    "import matplotlib.pyplot as plt\n",
    "import seaborn as sns\n",
    "\n",
    "from scipy import stats\n",
    "from scipy.stats import randint\n",
    "from scipy.stats import skewnorm\n",
    "\n",
    "# import 'random' to generate a random sample\n",
    "import random\n",
    "\n",
    "from statsmodels.stats import weightstats as stests\n",
    "\n",
    "from scipy.stats import shapiro\n",
    "\n",
    "# import the function to calculate the power of test\n",
    "from statsmodels.stats import power"
   ]
  },
  {
   "cell_type": "code",
   "execution_count": 3,
   "id": "0660e981",
   "metadata": {},
   "outputs": [
    {
     "name": "stdout",
     "output_type": "stream",
     "text": [
      "The probability that exactly 3 customers will complain about the purchased products is 0.13\n",
      "The probability that more than 3 customers will complain about the purchased products is 0.77\n",
      "The probability that less than 3 customers will complain about the purchased products is 0.23\n"
     ]
    }
   ],
   "source": [
    "# a. Probability that exactly 3 customers will complain\n",
    "\n",
    "prob = stats.binom.pmf(k = 3, n = 20, p = 0.25)\n",
    "prob = round(prob, 2)\n",
    "\n",
    "#  Probability that more than 3 customers will complain\n",
    "\n",
    "prob = stats.binom.sf(k = 3, n = 20, p = 0.25)\n",
    "prob = round(prob, 2)\n",
    "\n",
    "#  Probability that less than 3 customers will complain\n",
    "\n",
    "prob = stats.binom.cdf(k = 3, n = 20, p = 0.25)\n",
    "prob = round(prob, 2)"
   ]
  },
  {
   "cell_type": "markdown",
   "id": "db084694",
   "metadata": {},
   "source": [
    "### Normal Distribution"
   ]
  },
  {
   "cell_type": "markdown",
   "id": "23a240e2",
   "metadata": {},
   "source": [
    "A survey was conducted and it was found that the people spend their 300 minutes in a day surfing on online shopping sites on average and the corresponding standard deviation is 127 minutes. Assume that the time spent on surfing follows a normal distribution. Calculate the following probabilities:"
   ]
  },
  {
   "cell_type": "code",
   "execution_count": 5,
   "id": "60cf7e44",
   "metadata": {},
   "outputs": [
    {
     "name": "stdout",
     "output_type": "stream",
     "text": [
      "The probability that the users are spending less than or equal to 100 minutes daily is 0.06\n",
      "The probability that the users are spending more than or equal to 100 minutes daily is 0.94\n"
     ]
    }
   ],
   "source": [
    "# a. Probability users are spending less than or equal to 100 minutes?\n",
    "avg = 300\n",
    "std = 127\n",
    "zstat = (100 - avg) / std\n",
    "prob = stats.norm.cdf(zstat)\n",
    "req_prob = round(prob, 2)\n",
    "\n",
    "# b. Probability users are spending more than or equal to 100 minutes per day?\n",
    "prob = stats.norm.sf(zstat)\n",
    "req_prob = round(prob, 2)\n",
    "\n",
    "print('The probability that the users are spending more than or equal to 100 minutes daily is', req_prob)\n",
    "\n",
    "# c. Probability that people are between 250 minutes and 350 minutes per day?\n",
    "z_250 = (250 - avg) / std\n",
    "p_250 = stats.norm.cdf(z_250)\n",
    "z_350 = (350 - avg) / std\n",
    "p_350 = stats.norm.cdf(z_350)\n",
    "\n",
    "prob = p_350 - p_250 # calculate the difference between 'p_350' and 'p_250' to find the required probability\n",
    "req_prob = round(prob, 2)\n",
    "print('The probability that people are spending time between 250 minutes and 350 minutes per day is', req_prob)"
   ]
  },
  {
   "cell_type": "markdown",
   "id": "d5355553",
   "metadata": {},
   "source": [
    "### Sampling"
   ]
  },
  {
   "cell_type": "markdown",
   "id": "e11de436",
   "metadata": {},
   "source": [
    "Sampling:\n",
    "- With Replacement: random.choices\n",
    "- Without Replacement: random.sample"
   ]
  },
  {
   "cell_type": "markdown",
   "id": "da1e7434",
   "metadata": {},
   "source": [
    "### Central Limit Theorem\n",
    "\n",
    "The central limit theorem states that, for sufficiently large n, the sample mean  𝑋bar  follows an approximately normal distribution"
   ]
  },
  {
   "cell_type": "markdown",
   "id": "6f302b3f",
   "metadata": {},
   "source": [
    "### Point Estimation"
   ]
  },
  {
   "cell_type": "markdown",
   "id": "69d951bd",
   "metadata": {},
   "source": [
    "1. Consider the data of grade points for 35 students in a data science course. Select grades of 20 students randomly from the data and find the point estimate for the population mean.\n",
    "\n",
    "Ans: Asking you to find the mean"
   ]
  },
  {
   "cell_type": "markdown",
   "id": "c324a8e9",
   "metadata": {},
   "source": [
    "2. A financial firm has created 50 portfolios. From them, a sample of 13 portfolios was selected, out of which 8 were found to be underperforming. Can you estimate the number of underperforming portfolios?\n",
    "\n",
    "Ans: Multiply n with proportion"
   ]
  },
  {
   "cell_type": "markdown",
   "id": "39446778",
   "metadata": {},
   "source": [
    "1. Consider the data for the number of ice-creams sold per day. An ice-cream vendor collected this data for 90 days and then a sample is drawn (without replacement) containing ice-creams sold for 25 days.\n",
    "\n",
    "Ans: np.abs(samp_mean - pop_mean)"
   ]
  },
  {
   "cell_type": "markdown",
   "id": "bf415de1",
   "metadata": {},
   "source": [
    "### Confidence Interval Estimation for Mean\n",
    "\n",
    "conf_interval = sample statistic ± margin of error\n",
    "\n",
    "margin of error is given by $Z_{\\frac{\\alpha}{2}}\\frac{\\sigma}{\\sqrt{n}}$.\n"
   ]
  },
  {
   "cell_type": "markdown",
   "id": "59536c9c",
   "metadata": {},
   "source": [
    "#### Z_alpha_by_2"
   ]
  },
  {
   "cell_type": "markdown",
   "id": "320cab20",
   "metadata": {},
   "source": [
    "1. A random sample of weight (in kg.) for 35 diabetic patients is drawn from the population with a standard deviation of 8 kg. Find the 90% confidence interval for the population mean."
   ]
  },
  {
   "cell_type": "code",
   "execution_count": null,
   "id": "a00a6b6a",
   "metadata": {},
   "outputs": [],
   "source": [
    "interval = stats.norm.interval(0.90,\n",
    "                               loc = np.mean(weight),\n",
    "                               scale = std_pop / np.sqrt(n))\n",
    "print('The 90% confidence interval of population mean is', np.round(interval,2))"
   ]
  },
  {
   "cell_type": "markdown",
   "id": "c49c4b37",
   "metadata": {},
   "source": [
    "3. A movie production house needs to estimate the average monthly wage of the technical crew members. The previous data shows that the standard deviation of the wages is 190 dollars. The production team thinks that the estimation of the average wage should not exceed 54 dollars. The team has decided to take a small subset of wages for the estimation. Find a suitable number of wages to be considered to get the estimate with 90% confidence."
   ]
  },
  {
   "cell_type": "code",
   "execution_count": 8,
   "id": "6161814d",
   "metadata": {},
   "outputs": [
    {
     "name": "stdout",
     "output_type": "stream",
     "text": [
      "Required Sample Size: 33\n"
     ]
    }
   ],
   "source": [
    "sigma = 190\n",
    "ME = 54\n",
    "z_alpha_by_2 = np.abs(round(stats.norm.isf(q = 0.1/2), 4))\n",
    "n = ((z_alpha_by_2)**2)*(sigma**2)/(ME**2)\n",
    "print('Required Sample Size:', round(n))"
   ]
  },
  {
   "cell_type": "markdown",
   "id": "9fd70c02",
   "metadata": {},
   "source": [
    "#### t_alpha_by_2"
   ]
  },
  {
   "cell_type": "markdown",
   "id": "9b142b70",
   "metadata": {},
   "source": [
    "1. There are 150 apples on a tree. You randomly choose 17 apples and found that the average weight of apples is 78 grams with a standard deviation of 23 grams. Find the 90% confidence interval for the population mean."
   ]
  },
  {
   "cell_type": "code",
   "execution_count": null,
   "id": "55b8eb39",
   "metadata": {},
   "outputs": [],
   "source": [
    "n = 17\n",
    "sample_avg = 78\n",
    "sample_std = 23\n",
    "\n",
    "interval = stats.t.interval(0.90,\n",
    "                            df = n-1,\n",
    "                            loc = sample_avg,\n",
    "                            scale = sample_std/np.sqrt(n))\n",
    "\n",
    "print('90% confidence interval for population mean is', interval)"
   ]
  },
  {
   "cell_type": "markdown",
   "id": "fcf189a8",
   "metadata": {},
   "source": [
    "#### Z_prop Interval Estimation\n",
    "\n",
    "$Z_{\\frac{\\alpha}{2}}\\sqrt{\\frac{p(1 - p)}{n}}$ is the margin of error."
   ]
  },
  {
   "cell_type": "markdown",
   "id": "57803b56",
   "metadata": {},
   "source": [
    "1. A financial firm has created 50 portfolios. From them, a sample of 13 portfolios was selected, out of which 8 were found to be underperforming. Construct a 99% confidence interval to estimate the population proportion.¶"
   ]
  },
  {
   "cell_type": "code",
   "execution_count": null,
   "id": "1714d34b",
   "metadata": {},
   "outputs": [],
   "source": [
    "N = 50\n",
    "n = 13\n",
    "x = 8\n",
    "p_samp = x/n\n",
    "\n",
    "interval = stats.norm.interval(0.99,\n",
    "                               loc = p_samp,\n",
    "                               scale = np.sqrt((p_samp*(1-p_samp))/n))\n",
    "\n",
    "print('99% confidence interval for population proportion is', interval)"
   ]
  },
  {
   "cell_type": "markdown",
   "id": "5b1aee1f",
   "metadata": {},
   "source": [
    "### Hypothesis Testing"
   ]
  },
  {
   "cell_type": "markdown",
   "id": "0c6e8966",
   "metadata": {},
   "source": [
    "#### Two-Tailed\n",
    "\n",
    "$H_{0}: \\mu = \\mu_{0}$. \n",
    "\n",
    "$H_{1}: \\mu \\neq \\mu_{0}$"
   ]
  },
  {
   "cell_type": "markdown",
   "id": "13ca82e2",
   "metadata": {},
   "source": [
    "#### Left-Tailed\n",
    "\n",
    "$H_{0}: \\mu \\geq \\mu_{0}$ \n",
    "\n",
    "$H_{1}: \\mu < \\mu_{0}$"
   ]
  },
  {
   "cell_type": "markdown",
   "id": "bd9a5217",
   "metadata": {},
   "source": [
    "#### Right-Tailed\n",
    "$H_{0}: \\mu \\leq \\mu_{0}$ \n",
    "\n",
    "$H_{1}: \\mu > \\mu_{0}$"
   ]
  },
  {
   "cell_type": "markdown",
   "id": "98cd78d1",
   "metadata": {},
   "source": [
    "#### One Sample Z tests\n",
    "Assumption: Normal Distribution, data continuous, sample is simple random\n",
    "\n",
    "If $\\sigma$ is unknown, use the sample standard deviation (s) instead of $\\sigma$ to calculate the test statistic."
   ]
  },
  {
   "cell_type": "markdown",
   "id": "e05b28d5",
   "metadata": {},
   "source": [
    "1. A car manufacturing company claims that the mileage of their new car is 25 kmph with a standard deviation of 2.5 kmph. A random sample of 45 cars was drawn and recorded their mileage as per the standard procedure. From the sample, the mean mileage was seen to be 24 kmph. Is this evidence to claim that the mean mileage is different from 25kmph? (assume the normality of the data) Use α = 0.01."
   ]
  },
  {
   "cell_type": "code",
   "execution_count": 13,
   "id": "a8c86047",
   "metadata": {},
   "outputs": [
    {
     "name": "stdout",
     "output_type": "stream",
     "text": [
      "Critical value for two-tailed Z-test: 2.58\n",
      "Statistic value for two-tailed Z-test: -2.6832815729997477\n"
     ]
    }
   ],
   "source": [
    "# Two Tailed Z test Using Statistic\n",
    "zcrit = np.abs(round(stats.norm.isf(q = 0.01/2), 2))\n",
    "\n",
    "print('Critical value for two-tailed Z-test:', zcrit)\n",
    "\n",
    "n = 45\n",
    "pop_mean = 25\n",
    "pop_std = 2.5\n",
    "samp_mean = 24\n",
    "\n",
    "zstat = (samp_mean - pop_mean) / (pop_std / np.sqrt(n))\n",
    "print('Statistic value for two-tailed Z-test:', zstat)\n",
    " \n",
    "# zstat less than zcrit we fail to reject H1"
   ]
  },
  {
   "cell_type": "code",
   "execution_count": 15,
   "id": "55ad832d",
   "metadata": {},
   "outputs": [
    {
     "name": "stdout",
     "output_type": "stream",
     "text": [
      "p-value: 0.007290358091535638\n"
     ]
    }
   ],
   "source": [
    "# p value method\n",
    "p_value = stats.norm.cdf(zstat)\n",
    "\n",
    "# for a two-tailed test multiply the p-value by 2\n",
    "req_p = p_value*2\n",
    "print('p-value:', req_p)\n",
    "# pval<alpha:  we fail to reject H1"
   ]
  },
  {
   "cell_type": "code",
   "execution_count": 18,
   "id": "935275c5",
   "metadata": {},
   "outputs": [
    {
     "name": "stdout",
     "output_type": "stream",
     "text": [
      "Confidence interval: (23.040045096471452, 24.959954903528548)\n"
     ]
    }
   ],
   "source": [
    "# confidence interval method\n",
    "print('Confidence interval:', stats.norm.interval(0.99, loc = samp_mean, scale = pop_std / np.sqrt(n)))\n",
    "# value not inside interval: we fail to reject H1"
   ]
  },
  {
   "cell_type": "markdown",
   "id": "fc7ffd97",
   "metadata": {},
   "source": [
    "3. A typhoid vaccine in the market inscribes 3 mg of ascorbic acid in the vaccine. A research team claims that the vaccines contain less than 3 mg of acid. We collected the data of 40 vaccines by using random sampling from a population and recorded the amount of ascorbic acid. Test the claim of the research team using the sample data ⍺ value (significance level) to 0.05.\n",
    "\n",
    "acid_amt = [2.57, 3.06, 3.28 , 3.24, 2.79, 3.40, 3.36, 3.07, 2.46, 3.03, 3.05, 2.94, 3.46, 3.19, 3.09, 2.81, 3.13, 2.88, \n",
    "            2.76, 2.75, 3.17, 2.89, 2.54, 3.18, 3.08, 2.60, 3.06, 3.13, 3.11, 3.08, 2.93, 2.90, 3.06, 2.97, 3.24, 2.86, \n",
    "            2.87, 3.18, 3, 2.95]\n",
    "            \n",
    "Ans: left tailed z test\n",
    "\n",
    "If shapiro fails then go for non-parametric (Wilcoxon Test)"
   ]
  },
  {
   "cell_type": "code",
   "execution_count": 20,
   "id": "f30b5f85",
   "metadata": {},
   "outputs": [
    {
     "name": "stdout",
     "output_type": "stream",
     "text": [
      "Test statistic: 0.9764790534973145\n",
      "P-Value: 0.5609316825866699\n"
     ]
    }
   ],
   "source": [
    "\n",
    "acid_amt = [2.57, 3.06, 3.28 , 3.24, 2.79, 3.40, 3.36, 3.07, 2.46, 3.03, 3.05, 2.94, 3.46 , 3.19, 3.09,2.81, 3.13, 2.88, 2.76, \n",
    "            2.75, 3.17, 2.89, 2.54, 3.18, 3.08, 2.60, 3.06, 3.13, 3.11, 3.08, 2.93, 2.90, 3.06, 2.97, 3.24, 2.86, 2.87, 3.18, \n",
    "            3, 2.95]\n",
    "stat, p_value = shapiro(acid_amt)\n",
    "\n",
    "# print the test statistic and corresponding p-value \n",
    "print('Test statistic:', stat)\n",
    "print('P-Value:', p_value)\n",
    "\n",
    "# h0: pval>alpha normal\n",
    "# h1: pval<alpha not normal\n",
    "# p-value is greater than 0.05, thus we can say that the data is normally distributed."
   ]
  },
  {
   "cell_type": "code",
   "execution_count": 22,
   "id": "f285e5df",
   "metadata": {},
   "outputs": [
    {
     "name": "stdout",
     "output_type": "stream",
     "text": [
      "Critical value for one-tailed Z-test: 1.64\n",
      "Z-score:  0.08289008952836197\n",
      "p-value:  0.5330305328333862\n"
     ]
    }
   ],
   "source": [
    "# stat crit method\n",
    "zcrit = np.abs(round(stats.norm.isf(q = 0.05), 2))\n",
    "\n",
    "print('Critical value for one-tailed Z-test:', zcrit)\n",
    "\n",
    "zstat, pval = stests.ztest(x1 = acid_amt, value = 3, alternative = 'smaller')\n",
    "\n",
    "# print the test statistic and corresponding p-value\n",
    "print(\"Z-score: \", zstat)\n",
    "print(\"p-value: \", pval)"
   ]
  },
  {
   "cell_type": "code",
   "execution_count": null,
   "id": "5717d2da",
   "metadata": {},
   "outputs": [],
   "source": [
    "# confidence interval method\n",
    "print('Confidence interval:', \n",
    "      stats.norm.interval(0.95, \n",
    "                          loc = np.mean(acid_amt),\n",
    "                          scale = statistics.stdev(acid_amt) / np.sqrt(len(acid_amt))))"
   ]
  },
  {
   "cell_type": "markdown",
   "id": "37ad4d2a",
   "metadata": {},
   "source": [
    "5. An e-commerce company claims that the mean delivery time of food items on its website in NYC is 60 minutes with a standard deviation of 30 minutes. A random sample of 45 customers ordered from the website, and the average time for delivery was found to be 75 minutes. Is this enough evidence to claim that the average time to get items delivered is more than 60 minutes. (assume the normality of the data). Test the with α = 0.05.\n",
    "\n",
    "Ans: right tailed z test"
   ]
  },
  {
   "cell_type": "code",
   "execution_count": 23,
   "id": "0e9e0854",
   "metadata": {},
   "outputs": [
    {
     "name": "stdout",
     "output_type": "stream",
     "text": [
      "Critical value for one-tailed Z-test: 1.64\n",
      "Z-zstat: 3.3541019662496843\n"
     ]
    }
   ],
   "source": [
    "# stat crit method\n",
    "zcrit = np.abs(round(stats.norm.isf(q = 0.05), 2))\n",
    "print('Critical value for one-tailed Z-test:', zcrit)\n",
    "\n",
    "n = 45\n",
    "pop_mean = 60\n",
    "pop_std = 30\n",
    "samp_mean = 75\n",
    "zstat = (samp_mean - pop_mean) / (pop_std / np.sqrt(n))\n",
    "print(\"Z-zstat:\", zstat)"
   ]
  },
  {
   "cell_type": "code",
   "execution_count": null,
   "id": "9dd83368",
   "metadata": {},
   "outputs": [],
   "source": [
    "# p value method\n",
    "p_value = stats.norm.sf(z_score)\n",
    "\n",
    "print('p-value:', p_value)"
   ]
  },
  {
   "cell_type": "code",
   "execution_count": null,
   "id": "aeede132",
   "metadata": {},
   "outputs": [],
   "source": [
    "# confidence interval method\n",
    "print('Confidence interval:', stats.norm.interval(0.95, \n",
    "                                                  loc = samp_mean, \n",
    "                                                  scale = pop_std / np.sqrt(n)))"
   ]
  },
  {
   "cell_type": "markdown",
   "id": "7d3076d4",
   "metadata": {},
   "source": [
    "### Two Sample Z Test\n",
    "\n",
    "Assumptions:\n",
    "- Normal Distribution (Shapiro)\n",
    "- Equal Variances (Levene)\n",
    "    - h0: The variances are equal\n",
    "    - h1: The variances are not equal"
   ]
  },
  {
   "cell_type": "markdown",
   "id": "da051eb4",
   "metadata": {},
   "source": [
    "1. The training institute Nature Learning claims that the students trained in their institute have overall better performance than the students trained in their competitor institute Speak Global Learning. We have a sample data of 500 students from each institute along with their total score collected from independent normal populations. Frame a hypothesis and test the Nature Learning's claim with 99% confidence.\n",
    "\n"
   ]
  },
  {
   "cell_type": "code",
   "execution_count": null,
   "id": "1ad0834a",
   "metadata": {},
   "outputs": [],
   "source": [
    "# perform shapiro\n",
    "stat, p_value = shapiro(df_student['total score'])\n",
    "\n",
    "# print the test statistic and corresponding p-value \n",
    "print('Test statistic:', stat)\n",
    "print('P-Value:', p_value)\n",
    "#  p-value is greater than 0.05, \n",
    "# thus we can say that the total scores of the students trained \n",
    "# from both the institutes are normally distributed.\n",
    "\n",
    "# perform levene\n",
    "stat, p_value = stats.levene(nl_scores, sgl_scores)\n",
    "\n",
    "# print the test statistic and corresponding p-value \n",
    "print('Test statistic:', stat)\n",
    "print('P-Value:', p_value)\n",
    "# p-value is greater than 0.05, \n",
    "# thus we can say that the population variances are equal."
   ]
  },
  {
   "cell_type": "code",
   "execution_count": null,
   "id": "8a335fdc",
   "metadata": {},
   "outputs": [],
   "source": [
    "zcrit = np.abs(round(stats.norm.isf(q = 0.01), 2)) #q/2 for two tailed\n",
    "\n",
    "print('Critical value for one-tailed Z-test:', zcrit)\n",
    "\n",
    "zstat, pval = stests.ztest(x1 = nl_scores,\n",
    "                           x2 = sgl_scores,\n",
    "                           value = 0, # value from the hypothesis\n",
    "                           alternative = 'larger') #alternative='two-sided' for two tailed\n",
    "\n",
    "# print the test statistic and corresponding p-value\n",
    "print(\"Z-score: \", zstat)\n",
    "print(\"p-value: \", pval) #pval*2 for two tailed\n",
    "\n",
    "# confidence interval method\n",
    "interval = stats.norm.interval(0.99, \n",
    "            loc = nl_mean - sgl_mean, \n",
    "            scale = np.sqrt(((nl_std**2) / n_1) + ((sgl_std**2) / n_2))))\n",
    "print('Confidence interval:', interval)\n",
    "      "
   ]
  },
  {
   "cell_type": "markdown",
   "id": "74cc2026",
   "metadata": {},
   "source": [
    "### One sample t test"
   ]
  },
  {
   "cell_type": "markdown",
   "id": "2b2303b4",
   "metadata": {},
   "source": [
    "1. A survey claims that in a math test female students tend to score fewer marks than the average marks of 75 out of 100. Consider a sample of 24 female students and perform a hypothesis test to check the claim with 90% confidence.\n",
    "\n",
    "H<sub>0</sub>: $\\mu \\geq 75$<br>\n",
    "H<sub>1</sub>: $\\mu < 75$"
   ]
  },
  {
   "cell_type": "code",
   "execution_count": null,
   "id": "27929f1d",
   "metadata": {},
   "outputs": [],
   "source": [
    "# calculate samplemean, samplestd, n and df i.e n-1.\n",
    "# perform shapiro\n",
    "tcrit = round(stats.t.isf(q = 0.1, df = 23), 2)\n",
    "\n",
    "print('Critical value for one-tailed t-test:', tcrit)\n",
    "tstat, p_val = stats.ttest_1samp(a = math_marks, popmean = 75)\n",
    "\n",
    "req_p_val = p_val/2 \n",
    "\n",
    "# print the test statistic value and corresponding p-value\n",
    "print('Test Statistic:', tstat)\n",
    "print('p-value:', req_p_val)\n",
    "\n",
    "\n",
    "# confidence interval method\n",
    "interval = stats.t.interval(0.90, \n",
    "                            df = n-1, \n",
    "                            loc = sample_avg, \n",
    "                            scale = sample_std/np.sqrt(n))\n",
    "print('90% confidence interval for population mean is', interval)\n"
   ]
  },
  {
   "cell_type": "markdown",
   "id": "f2ecba74",
   "metadata": {},
   "source": [
    "#### 2. A researcher is studying the growth of bacteria in waters of Lake Beach. The mean bacteria count of 100 per unit volume of water is within the safety level. The researcher collected 10 water samples of unit volume and found the mean bacteria count to be 94.8 with a sample variance of 72.66. Does the data indicate that the bacteria count is within the safety level? Test at the α = .05 level. Assume that the measurements constitute a sample from a normal population.\n",
    "\n",
    "The null and alternative hypothesis is:\n",
    "\n",
    "H<sub>0</sub>: $\\mu \\geq 100$<br>\n",
    "H<sub>1</sub>: $\\mu < 100$"
   ]
  },
  {
   "cell_type": "code",
   "execution_count": null,
   "id": "28a66771",
   "metadata": {},
   "outputs": [],
   "source": [
    "t_val = round(stats.t.isf(q = 0.05, df = 9), 2)\n",
    "\n",
    "n = 10\n",
    "pop_mean = 100\n",
    "samp_var = 72.66 \n",
    "samp_mean = 94.8\n",
    "\n",
    "t_score = (samp_mean - pop_mean) / (samp_std / np.sqrt(n))\n",
    "\n",
    "samp_std = np.sqrt(samp_var)\n",
    "\n",
    "# calculate the test statistic using the function 't_test'\n",
    "t_score = t_test(pop_mean, samp_std, n, samp_mean)\n",
    "print(\"t-score:\", t_score)\n",
    "\n",
    "p_value = stats.t.cdf(t_score, df = 9)\n",
    "\n",
    "print('p-value:', p_value)\n",
    "\n",
    "#INTERVAL\n",
    "interval = stats.t.interval(0.95, df = n-1, loc = samp_mean, scale = samp_std/np.sqrt(n))\n",
    "print(interval)"
   ]
  },
  {
   "cell_type": "markdown",
   "id": "b7602216",
   "metadata": {},
   "source": [
    "## 3.2 Two Sample t Test (Unpaired)\n",
    "\n",
    "The two sample t-test is used to compare the means of two independent populations. This test assumes that the populations are normally distributed from which the samples are taken.\n",
    "\n",
    "The null and alternative hypothesis is given as:\n",
    "<p style='text-indent:25em'> <strong> $H_{0}: \\mu_{1} - \\mu_{2} = \\mu_{0}$ or $\\mu_{1} - \\mu_{2} \\geq \\mu_{0}$ or $\\mu_{1} -\\mu_{2} \\leq \\mu_{0}$</strong></p>\n",
    "<p style='text-indent:25em'> <strong> $H_{1}: \\mu_{1} - \\mu_{2} \\neq \\mu_{0} $ or $\\mu_{1} - \\mu_{2} < \\mu_{0}$ or $\\mu_{1} -\\mu_{2} > \\mu_{0}$</strong></p>\n",
    "\n"
   ]
  },
  {
   "cell_type": "markdown",
   "id": "20a7358d",
   "metadata": {},
   "source": [
    "### Example: \n",
    "\n",
    "#### 1. The teachers' association claims that the total score of the students who completed the test preparation course is different than the total score of the students who have not completed the course. The sample data consists of 15 students who completed the course and 18 students who have not completed the course. Test the association's claim with ⍺ = 0.05."
   ]
  },
  {
   "cell_type": "code",
   "execution_count": 6,
   "id": "5deafb1a",
   "metadata": {},
   "outputs": [],
   "source": [
    "#Find size, mean and std of both samples.\n",
    "# degrees of freedom for 2 sample t-test\n",
    "print('Degrees of freedom:', n_1 + n_2 - 2)\n",
    "\n",
    "#Shapiro Test\n",
    "#Levene Test"
   ]
  },
  {
   "cell_type": "markdown",
   "id": "cfce500b",
   "metadata": {},
   "source": [
    "The null and alternative hypothesis is:\n",
    "\n",
    "H<sub>0</sub>: $\\mu_{1} - \\mu_{2} = 0$<br>\n",
    "H<sub>1</sub>: $\\mu_{1} - \\mu_{2} \\neq 0$\n",
    "\n",
    "Here ⍺ = 0.05 and degrees of freedom = 31, for a two-tailed test let us calculate the critical t-value."
   ]
  },
  {
   "cell_type": "code",
   "execution_count": null,
   "id": "27cfa297",
   "metadata": {},
   "outputs": [],
   "source": [
    "t_val = np.abs(round(stats.t.isf(q = 0.05/2, df = 31), 2))\n",
    "print('Critical value for two-tailed t-test:', t_val)\n",
    "\n",
    "# use 'ttest_ind()' to calculate the test statistic and corresponding p-value for 2 sample test\n",
    "t_stat, p_val = stats.ttest_ind(a = course_complete, b = course_incomplete)\n",
    "\n",
    "print('Test Statistic:', t_stat)\n",
    "print('p-value:', p_val)\n",
    "\n",
    "s = np.sqrt((((n_1-1)*samp_std_1**2) + ((n_2-1)*samp_std_2**2)) / (n_1 + n_2 - 2))\n",
    "\n",
    "# pass the scaling factor s*(1/n1 + 1/n2)^(1/2) to the parameter, 'scale'\n",
    "interval = stats.t.interval(0.95, \n",
    "                            df = n_1 + n_2 - 2, \n",
    "                            loc = samp_avg_1 - samp_avg_2, \n",
    "                            scale = s * np.sqrt(1/n_1 + 1/n_2))\n",
    "\n",
    "print('95% confidence interval for population mean is', interval)"
   ]
  },
  {
   "cell_type": "markdown",
   "id": "0cdb37d7",
   "metadata": {},
   "source": [
    "## 3.3 Paired t Test\n",
    "A paired t-test is used to compare the mean of the population for two dependent samples. The dependent samples can be the scores before and after a specific treatment. \n",
    "\n",
    "Let $X_{i}$ be the sample before the treatment and $Y_{i}$ be the sample after the treatment. Let $\\mu_{X}$, $\\mu_{Y}$ be the mean of the data X and Y respectively. The mean difference $\\mu_{d} = \\mu_{Y} - \\mu_{X}$.\n",
    "\n",
    "The null and alternative hypothesis is given as:\n",
    "\n",
    "<p style='text-indent:25em'> <strong> $H_{0}: \\mu_{d} = \\mu_{0}$ or $\\mu_{d} \\geq \\mu_{0}$ or $\\mu_{d} \\leq \\mu_{0}$</strong></p>\n",
    "<p style='text-indent:25em'> <strong> $H_{1}: \\mu_{d} \\neq \\mu_{0}$ or $\\mu_{d} < \\mu_{0}$ or $\\mu_{d} > \\mu_{0}$</strong></p>\n",
    "\n",
    "The test statistic for paired t-test is given as:\n",
    "<p style='text-indent:25em'> <strong> $t = \\frac{\\overline{X_{D}} - \\mu_{0}} {\\frac{s_{D}}{\\sqrt{n}}}$</strong></p>"
   ]
  },
  {
   "cell_type": "markdown",
   "id": "aca11eb2",
   "metadata": {},
   "source": [
    "### Example:\n",
    "\n",
    "#### 1. A training institute wants to check if their writing training program was effective or not. 17 students are selected to check the hypothesis. Consider 0.05 as the level of significance.\n",
    "\n",
    "The writing scores before and after training are provided in the CSV file `WritingScores.csv`. "
   ]
  },
  {
   "cell_type": "code",
   "execution_count": null,
   "id": "104988b0",
   "metadata": {},
   "outputs": [],
   "source": [
    "diff_marks = df_score['score_after'] - df_score['score_before']\n",
    "\n",
    "mean_diff = np.mean(diff_marks)\n",
    "\n",
    "std_diff = statistics.stdev(diff_marks)\n",
    "\n",
    "n = len(df_score)\n",
    "print('Degrees of freedom:', n-1)\n",
    "\n",
    "#Shapiro for before and after"
   ]
  },
  {
   "cell_type": "markdown",
   "id": "f35b51e6",
   "metadata": {},
   "source": [
    "The null and alternative hypothesis is:\n",
    "\n",
    "H<sub>0</sub>: The training was not effective ($\\mu_{d} = 0$)<br>\n",
    "H<sub>1</sub>: The training was effective ($\\mu_{d} \\neq 0$)"
   ]
  },
  {
   "cell_type": "code",
   "execution_count": null,
   "id": "36eccaf8",
   "metadata": {},
   "outputs": [],
   "source": [
    "t_val = np.abs(round(stats.t.isf(q = 0.05/2, df = 16), 2))\n",
    "print('Critical Value for two-tailed t-test:', t_val)\n",
    "\n",
    "# use 'ttest_rel()' to calculate the t-statistic and corresponding p-value for paired samples\n",
    "# pass the before and after scores to the function\n",
    "t_stat, p_val = stats.ttest_rel(df_score['score_after'], df_score['score_before'])\n",
    "\n",
    "# print the the t-test statistic and corresponding p-value \n",
    "print(\"Test Statistic:\", t_stat)\n",
    "print(\"p-value:\", p_val)"
   ]
  },
  {
   "cell_type": "code",
   "execution_count": null,
   "id": "6226ea80",
   "metadata": {},
   "outputs": [],
   "source": [
    "#INTERVAL\n",
    "interval = stats.t.interval(0.95, \n",
    "                            df = n-1, \n",
    "                            loc = mean_diff, \n",
    "                            scale = std_diff/np.sqrt(n))"
   ]
  },
  {
   "cell_type": "markdown",
   "id": "5ed2813b",
   "metadata": {},
   "source": [
    "# 4. Z Proportion Test"
   ]
  },
  {
   "cell_type": "markdown",
   "id": "64184e2a",
   "metadata": {},
   "source": [
    "## 4.1 One Sample Test"
   ]
  },
  {
   "cell_type": "markdown",
   "id": "dc7b78e3",
   "metadata": {},
   "source": [
    "Perform one sample Z test for the population proportion. We compare the population proportion ($P$) with a specific value ($P_{0}$).\n",
    "\n",
    "The null and alternative hypothesis is given as:\n",
    "\n",
    "<p style='text-indent:25em'> <strong> $H_{0}: P = P_{0}$ or $P \\geq P_{0}$ or $P \\leq P_{0}$</strong></p>\n",
    "<p style='text-indent:25em'> <strong> $H_{1}: P \\neq P_{0}$ or $P < P_{0}$ or $P > P_{0}$</strong></p>"
   ]
  },
  {
   "cell_type": "markdown",
   "id": "f28771b7",
   "metadata": {},
   "source": [
    "### Example:\n",
    "\n",
    "#### 1. In previous years, people believed that at most 80% of male students score more than 50 marks out of 100 in Mathematics. Perform a test to check whether this percentage is more than 80. Consider the level of significance as 0.05.\n",
    "\n",
    "Consider the sample of math scores of male students available in the CSV file `StudentsPerformance.csv`."
   ]
  },
  {
   "cell_type": "code",
   "execution_count": null,
   "id": "2c21a719",
   "metadata": {},
   "outputs": [],
   "source": [
    "total_male = len(df_student[(df_student['gender'] == 'male')])\n",
    "\n",
    "male_50 = df_student[(df_student['gender'] == 'male') & (df_student['math score'] > 50)]\n",
    "\n",
    "# obtain the number of male students with math score greater than 50 \n",
    "num_male_50 = len(male_50)\n",
    "\n",
    "# calculate sample proportion\n",
    "p_samp = num_male_50/total_male"
   ]
  },
  {
   "cell_type": "code",
   "execution_count": null,
   "id": "b43bd392",
   "metadata": {},
   "outputs": [],
   "source": [
    "z_val = np.abs(round(stats.norm.isf(q = 0.05), 2))\n",
    "print('Critical value for one-tailed Z-test:', z_val)"
   ]
  },
  {
   "cell_type": "code",
   "execution_count": null,
   "id": "9fbc6f5f",
   "metadata": {},
   "outputs": [],
   "source": [
    "# hypothesized proportion\n",
    "hypo_p = 0.8 \n",
    "\n",
    "z_prop = (p_samp - hypo_p) / np.sqrt((hypo_p * (1 - hypo_p)) / total_male)\n",
    "print('Test statistic:', z_prop)"
   ]
  },
  {
   "cell_type": "code",
   "execution_count": null,
   "id": "209790c3",
   "metadata": {},
   "outputs": [],
   "source": [
    "p_value = stats.norm.sf(z_prop)\n",
    "print('p-value:', p_value)"
   ]
  },
  {
   "cell_type": "code",
   "execution_count": null,
   "id": "d972e175",
   "metadata": {},
   "outputs": [],
   "source": [
    "interval = stats.norm.interval(0.95, \n",
    "                               loc = p_samp, \n",
    "                               scale = np.sqrt((p_samp*(1-p_samp))/total_male))\n",
    "print('95% confidence interval for population proportion is', interval)"
   ]
  },
  {
   "cell_type": "markdown",
   "id": "0851a9ab",
   "metadata": {},
   "source": [
    "## 4.2 Two Sample Test"
   ]
  },
  {
   "cell_type": "markdown",
   "id": "6341a475",
   "metadata": {},
   "source": [
    "Perform two sample Z test for the population proportion. We check the equality of population proportions $P_{1}$ and $P_{2}$.\n",
    "\n",
    "The null and alternative hypothesis is given as:\n",
    "\n",
    "<p style='text-indent:25em'> <strong> $H_{0}: P_{1} - P_{2} = P_{0}$ or $P_{1} - P_{2} \\geq P_{0}$ or $P_{1} - P_{2} \\leq P_{0}$</strong></p>\n",
    "<p style='text-indent:25em'> <strong> $H_{1}: P_{1} - P_{2} \\neq P_{0}$ or $P_{1} - P_{2} < P_{0}$ or $P_{1} - P_{2} > P_{0}$</strong></p>"
   ]
  },
  {
   "cell_type": "code",
   "execution_count": 9,
   "id": "85456d7c",
   "metadata": {},
   "outputs": [],
   "source": [
    "df_nl = df_student[df_student['training institute'] == 'Nature Learning']\n",
    "\n",
    "n_1 = len(df_nl)\n",
    "\n",
    "lunch_1 = len(df_nl[df_nl['lunch'] == 'standard'])\n",
    "\n",
    "df_sg = df_student[df_student['training institute'] == 'Speak Global Learning']\n",
    "\n",
    "n_2 = len(df_sg)\n",
    "\n",
    "lunch_2 = len(df_sg[df_sg['lunch'] == 'standard'])"
   ]
  },
  {
   "cell_type": "markdown",
   "id": "90c438b3",
   "metadata": {},
   "source": [
    "The null and alternative hypothesis is:\n",
    "\n",
    "H<sub>0</sub>: $P_{1} - P_{2} = 0$<br>\n",
    "H<sub>1</sub>: $P_{1} - P_{2} \\neq 0$ "
   ]
  },
  {
   "cell_type": "code",
   "execution_count": null,
   "id": "4c03d70a",
   "metadata": {},
   "outputs": [],
   "source": [
    "z_val = np.abs(round(stats.norm.isf(q = 0.1/2), 2))\n",
    "z_prop, p_val = sm.stats.proportions_ztest(count = np.array([lunch_std_1, lunch_std_2]), \n",
    "                                             nobs = np.array([n_1, n_2]))\n"
   ]
  },
  {
   "cell_type": "markdown",
   "id": "d3b7cb61",
   "metadata": {},
   "source": [
    "### Chi-Square Test [Goodness of Fit]\n",
    "This test is used to compare the distribution of the categorical data with the expected distribution. \n",
    "\n",
    "<p style='text-indent:6em'> <strong> $H_{0}$: There is no significant difference between the observed and expected frequencies from the expected distribution</strong></p>\n",
    "<p style='text-indent:6em'> <strong> $H_{1}$: There is a significant difference between the observed and expected frequencies from the expected distribution</strong></p>"
   ]
  },
  {
   "cell_type": "markdown",
   "id": "25beb5c6",
   "metadata": {},
   "source": [
    "1. Check whether there is a significant difference between the observed and expected education values or not with 90% confidence."
   ]
  },
  {
   "cell_type": "code",
   "execution_count": 4,
   "id": "3e98a648",
   "metadata": {},
   "outputs": [],
   "source": [
    "# if counts not given and data is given\n",
    "\n",
    "# use 'value_counts()' to calculate the count for each category in the variable 'education' \n",
    "observed_value = df_student['education'].value_counts() \n",
    "\n",
    "# observed values\n",
    "print(observed_value,'observed_value')\n",
    "\n",
    "# use 'value_counts()' to calculate the count for each category in the variable 'education' \n",
    "exp_count = df_demographic['education'].value_counts()\n",
    "\n",
    "# count of each category\n",
    "print(exp_count,'exp_count')"
   ]
  },
  {
   "cell_type": "code",
   "execution_count": null,
   "id": "00e00390",
   "metadata": {},
   "outputs": [],
   "source": [
    "expected_value = (exp_count * len(df_student)) / len(df_demographic)"
   ]
  },
  {
   "cell_type": "code",
   "execution_count": null,
   "id": "238942e4",
   "metadata": {},
   "outputs": [],
   "source": [
    "# degrees of freedom: (rows-1)*(cols-1)\n",
    "chi2_val = np.abs(round(stats.chi2.isf(q = 0.1, df = 5), 4))\n",
    "\n",
    "print('Critical value for chi-square test:', chi2_val)\n",
    "\n",
    "test_stat, p_value = chisquare(f_obs = observed_value, f_exp = expected_value)\n",
    "\n",
    "print('Test statistic:', test_stat)\n",
    "print('p-value:', p_value)"
   ]
  },
  {
   "cell_type": "markdown",
   "id": "5526a119",
   "metadata": {},
   "source": [
    "2. At an emporium, the manager is interested in knowing the age group which visits the mall during the day. He defines categories as - children, teenagers, adults and senior citizens. He plans to have his inventory of goods accordingly. He claims that out of all the people who visited 5% are children, 38% are teenagers, 2% are senior citizens are remaining are adults. From a sample of 180 people, it was seen that 25 were children, 50 were teenagers, 90 were adults and 15 were senior citizens. Test the manager’s claim at a 95% confidence level.\n",
    "\n",
    "H<sub>0</sub>: The manager's claim is correct <br>\n",
    "H<sub>1</sub>: The manager's claim is not correct"
   ]
  },
  {
   "cell_type": "code",
   "execution_count": 6,
   "id": "580201f1",
   "metadata": {},
   "outputs": [
    {
     "name": "stdout",
     "output_type": "stream",
     "text": [
      "Critical value for chi-square test: 7.8147\n"
     ]
    }
   ],
   "source": [
    "chi2_val = np.abs(round(stats.chi2.isf(q = 0.05, df = 3), 4))\n",
    "\n",
    "print('Critical value for chi-square test:', chi2_val)"
   ]
  },
  {
   "cell_type": "code",
   "execution_count": 7,
   "id": "3ed91d80",
   "metadata": {},
   "outputs": [
    {
     "name": "stdout",
     "output_type": "stream",
     "text": [
      "Test statistic: 64.2773321449792\n",
      "p-value: 7.160266387019384e-14\n"
     ]
    }
   ],
   "source": [
    "# given observed values\n",
    "observed_value = [25, 50, 90, 15]\n",
    "\n",
    "# expected count \n",
    "exp_count = [0.05, 0.38, 0.55, 0.02]\n",
    "\n",
    "# calculate the expected values for each category\n",
    "# expected_value = (np.array(exp_count) * 180) \n",
    "expected_value = [9, 68, 99, 4]\n",
    "\n",
    "# use the 'chisquare()' to perform the goodness of fit test\n",
    "# the function returns the test statistic value and corresponding p-value\n",
    "# pass the observed values to the parameter, 'f_obs'\n",
    "# pass the expected values to the parameter, 'f_exp'\n",
    "stat, p_value = chisquare(f_obs = observed_value, f_exp = expected_value)\n",
    "\n",
    "print('Test statistic:', stat)\n",
    "print('p-value:', p_value)\n",
    "\n",
    "# The above output shows that the chi-square test statistic \n",
    "# is greater than 7.8147 and the p-value is less than 0.05. \n",
    "# Thus, we reject the null hypothesis \n",
    "# and conclude that manager's claim is not correct."
   ]
  },
  {
   "cell_type": "code",
   "execution_count": null,
   "id": "32ec8524",
   "metadata": {},
   "outputs": [],
   "source": [
    "#INTERVAL\n",
    "p_1 = lunch_std_1/ n_1\n",
    "\n",
    "p_2 = lunch_std_2/ n_2\n",
    "\n",
    "p_bar = (n_1*p_1 + n_2*p_2) / (n_1 + n_2)\n",
    "\n",
    "# pass the scaling factor np.sqrt(p_bar(1-p_bar)(1/n_1 + 1/n_2)) to the parameter, 'scale'\n",
    "a,b = stats.norm.interval(0.9, loc = p_1 - p_2, scale = np.sqrt(p_bar*(1-p_bar)*(1/n_1 + 1/n_2)))\n",
    "\n",
    "print('90% confidence interval for population proportion is', interval)"
   ]
  },
  {
   "cell_type": "markdown",
   "id": "435f07d5",
   "metadata": {},
   "source": [
    "### Chi-Square Test [Goodness of Fit]\n",
    "This test is used to compare the distribution of the categorical data with the expected distribution. \n",
    "\n",
    "<p style='text-indent:6em'> <strong> $H_{0}$: There is no significant difference between the observed and expected frequencies from the expected distribution</strong></p>\n",
    "<p style='text-indent:6em'> <strong> $H_{1}$: There is a significant difference between the observed and expected frequencies from the expected distribution</strong></p>"
   ]
  },
  {
   "cell_type": "markdown",
   "id": "25beb5c6",
   "metadata": {},
   "source": [
    "1. Check whether there is a significant difference between the observed and expected education values or not with 90% confidence."
   ]
  },
  {
   "cell_type": "code",
   "execution_count": 4,
   "id": "3e98a648",
   "metadata": {},
   "outputs": [],
   "source": [
    "# if counts not given and data is given\n",
    "\n",
    "# use 'value_counts()' to calculate the count for each category in the variable 'education' \n",
    "observed_value = df_student['education'].value_counts() \n",
    "\n",
    "# observed values\n",
    "print(observed_value,'observed_value')\n",
    "\n",
    "# use 'value_counts()' to calculate the count for each category in the variable 'education' \n",
    "exp_count = df_demographic['education'].value_counts()\n",
    "\n",
    "# count of each category\n",
    "print(exp_count,'exp_count')"
   ]
  },
  {
   "cell_type": "code",
   "execution_count": null,
   "id": "00e00390",
   "metadata": {},
   "outputs": [],
   "source": [
    "expected_value = (exp_count * len(df_student)) / len(df_demographic)"
   ]
  },
  {
   "cell_type": "code",
   "execution_count": null,
   "id": "238942e4",
   "metadata": {},
   "outputs": [],
   "source": [
    "# degrees of freedom: (rows-1)*(cols-1)\n",
    "chi2_val = np.abs(round(stats.chi2.isf(q = 0.1, df = 5), 4))\n",
    "\n",
    "print('Critical value for chi-square test:', chi2_val)\n",
    "\n",
    "test_stat, p_value = chisquare(f_obs = observed_value, f_exp = expected_value)\n",
    "\n",
    "print('Test statistic:', test_stat)\n",
    "print('p-value:', p_value)"
   ]
  },
  {
   "cell_type": "markdown",
   "id": "5526a119",
   "metadata": {},
   "source": [
    "2. At an emporium, the manager is interested in knowing the age group which visits the mall during the day. He defines categories as - children, teenagers, adults and senior citizens. He plans to have his inventory of goods accordingly. He claims that out of all the people who visited 5% are children, 38% are teenagers, 2% are senior citizens are remaining are adults. From a sample of 180 people, it was seen that 25 were children, 50 were teenagers, 90 were adults and 15 were senior citizens. Test the manager’s claim at a 95% confidence level.\n",
    "\n",
    "H<sub>0</sub>: The manager's claim is correct <br>\n",
    "H<sub>1</sub>: The manager's claim is not correct"
   ]
  },
  {
   "cell_type": "code",
   "execution_count": 6,
   "id": "580201f1",
   "metadata": {},
   "outputs": [
    {
     "name": "stdout",
     "output_type": "stream",
     "text": [
      "Critical value for chi-square test: 7.8147\n"
     ]
    }
   ],
   "source": [
    "chi2_val = np.abs(round(stats.chi2.isf(q = 0.05, df = 3), 4))\n",
    "\n",
    "print('Critical value for chi-square test:', chi2_val)"
   ]
  },
  {
   "cell_type": "code",
   "execution_count": 7,
   "id": "3ed91d80",
   "metadata": {},
   "outputs": [
    {
     "name": "stdout",
     "output_type": "stream",
     "text": [
      "Test statistic: 64.2773321449792\n",
      "p-value: 7.160266387019384e-14\n"
     ]
    }
   ],
   "source": [
    "# given observed values\n",
    "observed_value = [25, 50, 90, 15]\n",
    "\n",
    "# expected count \n",
    "exp_count = [0.05, 0.38, 0.55, 0.02]\n",
    "\n",
    "# calculate the expected values for each category\n",
    "# expected_value = (np.array(exp_count) * 180) \n",
    "expected_value = [9, 68, 99, 4]\n",
    "\n",
    "# use the 'chisquare()' to perform the goodness of fit test\n",
    "# the function returns the test statistic value and corresponding p-value\n",
    "# pass the observed values to the parameter, 'f_obs'\n",
    "# pass the expected values to the parameter, 'f_exp'\n",
    "stat, p_value = chisquare(f_obs = observed_value, f_exp = expected_value)\n",
    "\n",
    "print('Test statistic:', stat)\n",
    "print('p-value:', p_value)\n",
    "\n",
    "# The above output shows that the chi-square test statistic \n",
    "# is greater than 7.8147 and the p-value is less than 0.05. \n",
    "# Thus, we reject the null hypothesis \n",
    "# and conclude that manager's claim is not correct."
   ]
  },
  {
   "cell_type": "markdown",
   "id": "071c510d",
   "metadata": {},
   "source": [
    "### Chi-Square Test for Independence\n",
    "\n",
    "This test is used to test whether the categorical variables are independent or not.\n",
    "\n",
    "<p style='text-indent:20em'> <strong> $H_{0}$: The variables are independent</strong></p>\n",
    "<p style='text-indent:20em'> <strong> $H_{1}$: The variables are not independent (i.e. variables are dependent)</strong></p>"
   ]
  },
  {
   "cell_type": "markdown",
   "id": "41ef6e2f",
   "metadata": {},
   "source": [
    "1. Check if there is any relationship between the gender and education level of students with 95% confidence.¶"
   ]
  },
  {
   "cell_type": "code",
   "execution_count": null,
   "id": "3b2f5ace",
   "metadata": {},
   "outputs": [],
   "source": [
    "# if data is given\n",
    "\n",
    "table = pd.crosstab(df_student['gender'], df_student['education'])\n",
    "\n",
    "# observed values  \n",
    "observed_value = table.values\n",
    "observed_value"
   ]
  },
  {
   "cell_type": "code",
   "execution_count": null,
   "id": "daf134f4",
   "metadata": {},
   "outputs": [],
   "source": [
    "chi2_val = np.abs(round(stats.chi2.isf(q = 0.05, df = 5), 4))\n",
    "\n",
    "print('Critical value for chi-square test:', chi2_val)"
   ]
  },
  {
   "cell_type": "code",
   "execution_count": null,
   "id": "6397a40d",
   "metadata": {},
   "outputs": [],
   "source": [
    "test_stat, p, dof, expected_value = chi2_contingency(observed = observed_value, correction = False)\n",
    "\n",
    "print(\"Test statistic:\", test_stat)\n",
    "print(\"p-value:\", p)\n",
    "print(\"Degrees of freedom:\", dof)\n",
    "print(\"Expected values:\", expected_value)"
   ]
  },
  {
   "cell_type": "markdown",
   "id": "3a72cc00",
   "metadata": {},
   "source": [
    "2. A study was conducted to test the effect of the malaria parasite - plasmodium falciparum - on heterozygous and homozygous humans. The vaccine was given to a cohort of 252 humans. Test whether the heterozygous humans are better protected than homozygous. Consider 0.05 as a level of significance."
   ]
  },
  {
   "cell_type": "code",
   "execution_count": 8,
   "id": "3a37dd3f",
   "metadata": {},
   "outputs": [],
   "source": [
    "# if obs and exp is given\n",
    "observed_value = np.array([[93, 51], [68, 40]])"
   ]
  },
  {
   "cell_type": "code",
   "execution_count": 9,
   "id": "9f677ec1",
   "metadata": {},
   "outputs": [
    {
     "name": "stdout",
     "output_type": "stream",
     "text": [
      "Critical value for chi-square test: 3.8415\n"
     ]
    }
   ],
   "source": [
    "chi2_val = np.abs(round(stats.chi2.isf(q = 0.05, df = 1), 4))\n",
    "\n",
    "print('Critical value for chi-square test:', chi2_val)"
   ]
  },
  {
   "cell_type": "code",
   "execution_count": 10,
   "id": "3162ef75",
   "metadata": {
    "scrolled": true
   },
   "outputs": [
    {
     "name": "stdout",
     "output_type": "stream",
     "text": [
      "Test statistic: 0.07023411371237459\n",
      "p-value: 0.790996215494177\n",
      "Degrees of freedom: 1\n",
      "Expected values: [[92. 52.]\n",
      " [69. 39.]]\n"
     ]
    }
   ],
   "source": [
    "test_stat, p, dof, expected_value = chi2_contingency(observed = observed_value, correction = False)\n",
    "\n",
    "# print the output\n",
    "print(\"Test statistic:\", test_stat)\n",
    "print(\"p-value:\", p)\n",
    "print(\"Degrees of freedom:\", dof)\n",
    "print(\"Expected values:\", expected_value)\n",
    "\n",
    "# The above output shows that the chi-square test statistic \n",
    "# is less than 3.8415 and the p-value is greater than 0.05. \n",
    "# Thus we fail to reject (i.e. accept) the null hypothesis \n",
    "# and conclude that the zygote type \n",
    "# and infection of the malaria parasite are independent."
   ]
  },
  {
   "cell_type": "markdown",
   "id": "9bde2d1e",
   "metadata": {},
   "source": [
    "### One-way ANOVA\n",
    "\n",
    "It assumes that the samples are taken from normally distributed populations. To check this assumption we can use the `Shapiro-Wilk Test.` Also, the population variances should be equal; this can be tested using the `Levene's Test`.\n",
    "\n",
    "<p style='text-indent:20em'> <strong> $H_{0}$: The averages of all treatments are the same. </strong></p>\n",
    "<p style='text-indent:20em'> <strong> $H_{1}$: At least one treatment has a different average. </strong></p>\n"
   ]
  },
  {
   "cell_type": "markdown",
   "id": "cbf829f5",
   "metadata": {},
   "source": [
    "2. Ryan is a production manager at an industry manufacturing alloy seals. They have 4 machines - A, B, C and D. Ryan wants to study whether all the machines have equal efficiency. Ryan collects data of tensile strength from all the 4 machines as given. Test at 5% level of significance"
   ]
  },
  {
   "cell_type": "code",
   "execution_count": 13,
   "id": "1f7fd0df",
   "metadata": {},
   "outputs": [],
   "source": [
    "# given data\n",
    "# tensile strength due to machine A\n",
    "A = [68.7, 75.4, 70.9, 79.1, 78.2]\n",
    "\n",
    "# tensile strength due to machine B\n",
    "B = [62.7, 68.5, 63.1, 62.2, 60.3]\n",
    "\n",
    "# tensile strength due to machine C\n",
    "C = [55.9, 56.1, 57.3, 59.2, 50.1]\n",
    "\n",
    "# tensile strength due to machine D\n",
    "D = [80.7, 70.3, 80.9, 85.4, 82.3]"
   ]
  },
  {
   "cell_type": "code",
   "execution_count": 14,
   "id": "0e3fe253",
   "metadata": {},
   "outputs": [],
   "source": [
    "df_machine = pd.DataFrame(data = {'machine': ['machine_A','machine_B','machine_C','machine_D']*5, \n",
    "                                  'strength': [68.7, 62.7, 55.9, 80.7, 75.4, 68.5, 56.1, 70.3, 70.9, 63.1, 57.3, 80.9, 79.1, \n",
    "                                               62.2, 59.2, 85.4, 78.2, 60.3, 50.1, 82.3]})"
   ]
  },
  {
   "cell_type": "code",
   "execution_count": 15,
   "id": "f2f1a7ea",
   "metadata": {},
   "outputs": [
    {
     "name": "stdout",
     "output_type": "stream",
     "text": [
      "p-value: 0.3721875548362732\n"
     ]
    }
   ],
   "source": [
    "# shapiro\n",
    "stat, p_value = stats.shapiro(df_machine['strength'])\n",
    "\n",
    "# print the p-values for each group\n",
    "print('p-value:', p_value)"
   ]
  },
  {
   "cell_type": "code",
   "execution_count": 16,
   "id": "ebdfd7b3",
   "metadata": {},
   "outputs": [
    {
     "name": "stdout",
     "output_type": "stream",
     "text": [
      "P-Value: 0.7570021212992085\n"
     ]
    }
   ],
   "source": [
    "# levene\n",
    "stat, p_value = stats.levene(df_machine[df_machine['machine'] == 'machine_A']['strength'],\n",
    "                             df_machine[df_machine['machine'] == 'machine_B']['strength'],\n",
    "                             df_machine[df_machine['machine'] == 'machine_C']['strength'],\n",
    "                             df_machine[df_machine['machine'] == 'machine_D']['strength'])\n",
    "\n",
    "# print the p-value \n",
    "print('P-Value:', p_value)"
   ]
  },
  {
   "cell_type": "code",
   "execution_count": 17,
   "id": "6fccbd0f",
   "metadata": {},
   "outputs": [],
   "source": [
    "# dfn = num of cats -1\n",
    "# dfd = num of obs - num of cats"
   ]
  },
  {
   "cell_type": "code",
   "execution_count": 20,
   "id": "ffc834da",
   "metadata": {},
   "outputs": [
    {
     "name": "stdout",
     "output_type": "stream",
     "text": [
      "Critical value for F-test: 3.2389\n"
     ]
    }
   ],
   "source": [
    "# fcrit\n",
    "fcrit = np.abs(round(stats.f.isf(q = 0.05, dfn = 3, dfd = 16), 4))\n",
    "\n",
    "print('Critical value for F-test:', fcrit)"
   ]
  },
  {
   "cell_type": "code",
   "execution_count": 21,
   "id": "ca159328",
   "metadata": {},
   "outputs": [
    {
     "name": "stdout",
     "output_type": "stream",
     "text": [
      "Test statistic: 32.03072350199285\n",
      "p_value: 5.375613532781072e-07\n"
     ]
    }
   ],
   "source": [
    "# fstat\n",
    "fstat, p_val = stats.f_oneway(df_machine[df_machine['machine'] == 'machine_A']['strength'],\n",
    "                                  df_machine[df_machine['machine'] == 'machine_B']['strength'],\n",
    "                                  df_machine[df_machine['machine'] == 'machine_C']['strength'],\n",
    "                                  df_machine[df_machine['machine'] == 'machine_D']['strength'])\n",
    "\n",
    "# print the test statistic and p-value\n",
    "print('Test statistic:', fstat)\n",
    "print('p_value:', p_val)"
   ]
  },
  {
   "cell_type": "code",
   "execution_count": null,
   "id": "b42fcd90",
   "metadata": {},
   "outputs": [],
   "source": [
    "# The above output shows that the test statistic is greater than 3.2389 \n",
    "# and the p-value is less than 0.05. Thus we reject the null hypothesis \n",
    "# and conclude that the average tensile strength due to at least one machine is different."
   ]
  },
  {
   "cell_type": "markdown",
   "id": "2318505c",
   "metadata": {},
   "source": [
    "### Post-hoc Analysis\n",
    "\n",
    "we study the `Tukey's HSD` test. This test is efficient when the sample size for each treatment is equal. If the sample size is not equal fo each treatment then we can use the `Scheffe test`. The `scikit_posthocs.posthoc_scheffe()` can be used to perform the test."
   ]
  },
  {
   "cell_type": "markdown",
   "id": "7e9fde8e",
   "metadata": {},
   "source": [
    "1. Ryan is a production manager at an industry manufacturing alloy seals. They have 4 machines - A, B, C and D. Ryan wants to study whether all the machines have equal efficiency. Ryan collects data of tensile strength from all the 4 machines as given. Perform the post-hoc test to find out which machine has a different average. Test at 5% level of significance."
   ]
  },
  {
   "cell_type": "code",
   "execution_count": 22,
   "id": "8e02b770",
   "metadata": {},
   "outputs": [],
   "source": [
    "df_machine = pd.DataFrame(data = {'machine': ['machine_A','machine_B','machine_C','machine_D']*5, \n",
    "                                  'strength': [68.7, 62.7, 55.9, 80.7, 75.4, 68.5, 56.1, 70.3, 70.9, 63.1, 57.3, 80.9, 79.1, \n",
    "                                               62.2, 59.2, 85.4, 78.2, 60.3, 50.1, 82.3]})"
   ]
  },
  {
   "cell_type": "code",
   "execution_count": 23,
   "id": "3177df0a",
   "metadata": {},
   "outputs": [
    {
     "data": {
      "text/html": [
       "<table class=\"simpletable\">\n",
       "<caption>Multiple Comparison of Means - Tukey HSD, FWER=0.05</caption>\n",
       "<tr>\n",
       "   <th>group1</th>    <th>group2</th>   <th>meandiff</th>  <th>p-adj</th>   <th>lower</th>    <th>upper</th>  <th>reject</th>\n",
       "</tr>\n",
       "<tr>\n",
       "  <td>machine_A</td> <td>machine_B</td>   <td>-11.1</td>  <td>0.0044</td> <td>-18.8842</td>  <td>-3.3158</td>  <td>True</td> \n",
       "</tr>\n",
       "<tr>\n",
       "  <td>machine_A</td> <td>machine_C</td>  <td>-18.74</td>   <td>0.001</td> <td>-26.5242</td> <td>-10.9558</td>  <td>True</td> \n",
       "</tr>\n",
       "<tr>\n",
       "  <td>machine_A</td> <td>machine_D</td>   <td>5.46</td>   <td>0.2265</td>  <td>-2.3242</td>  <td>13.2442</td>  <td>False</td>\n",
       "</tr>\n",
       "<tr>\n",
       "  <td>machine_B</td> <td>machine_C</td>   <td>-7.64</td>  <td>0.0553</td> <td>-15.4242</td>  <td>0.1442</td>   <td>False</td>\n",
       "</tr>\n",
       "<tr>\n",
       "  <td>machine_B</td> <td>machine_D</td>   <td>16.56</td>   <td>0.001</td>  <td>8.7758</td>   <td>24.3442</td>  <td>True</td> \n",
       "</tr>\n",
       "<tr>\n",
       "  <td>machine_C</td> <td>machine_D</td>   <td>24.2</td>    <td>0.001</td>  <td>16.4158</td>  <td>31.9842</td>  <td>True</td> \n",
       "</tr>\n",
       "</table>"
      ],
      "text/plain": [
       "<class 'statsmodels.iolib.table.SimpleTable'>"
      ]
     },
     "execution_count": 23,
     "metadata": {},
     "output_type": "execute_result"
    }
   ],
   "source": [
    "comp = mc.MultiComparison(data = df_machine['strength'], groups = df_machine['machine'])\n",
    "\n",
    "# tukey's range test\n",
    "post_hoc = comp.tukeyhsd()\n",
    "\n",
    "# print the summary table\n",
    "post_hoc.summary()"
   ]
  },
  {
   "cell_type": "markdown",
   "id": "0565fbd4",
   "metadata": {},
   "source": [
    "The `reject=False` for pairs (machine_A, machine_D) and (machine_B, machine_C) denotes that we fail to reject the null hypothesis; and conclude that the average tensile strength due to machine_A and machine_D, machine_B and machine_C is same.\n",
    "\n",
    "For the pairs (machine_A, machine_B), (machine_A, machine_C), (machine_B, machine_D), and (machine_C, machine_D) the average tensile strength is not the same.\n",
    "\n",
    "The values in the columns `lower` and `upper` represent the lower and upper bound of the 95% confidence interval for the mean difference. "
   ]
  },
  {
   "cell_type": "code",
   "execution_count": null,
   "id": "290b2ffe",
   "metadata": {},
   "outputs": [],
   "source": []
  },
  {
   "cell_type": "code",
   "execution_count": null,
   "id": "d4e1e5cc",
   "metadata": {},
   "outputs": [],
   "source": []
  },
  {
   "cell_type": "code",
   "execution_count": null,
   "id": "6f44f0f5",
   "metadata": {},
   "outputs": [],
   "source": []
  },
  {
   "cell_type": "code",
   "execution_count": null,
   "id": "3cbbae2b",
   "metadata": {},
   "outputs": [],
   "source": []
  },
  {
   "cell_type": "code",
   "execution_count": null,
   "id": "8281f47a",
   "metadata": {},
   "outputs": [],
   "source": []
  }
 ],
 "metadata": {
  "kernelspec": {
   "display_name": "Python 3",
   "language": "python",
   "name": "python3"
  },
  "language_info": {
   "codemirror_mode": {
    "name": "ipython",
    "version": 3
   },
   "file_extension": ".py",
   "mimetype": "text/x-python",
   "name": "python",
   "nbconvert_exporter": "python",
   "pygments_lexer": "ipython3",
   "version": "3.8.8"
  }
 },
 "nbformat": 4,
 "nbformat_minor": 5
}
