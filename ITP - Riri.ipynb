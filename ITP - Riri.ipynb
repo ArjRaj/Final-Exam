{
 "cells": [
  {
   "cell_type": "markdown",
   "metadata": {},
   "source": [
    "# INTRODUCTION TO PYTHON"
   ]
  },
  {
   "cell_type": "markdown",
   "metadata": {},
   "source": [
    "## Final Exam \n",
    "## Total Marks : 70 Marks"
   ]
  },
  {
   "cell_type": "markdown",
   "metadata": {},
   "source": [
    "----"
   ]
  },
  {
   "cell_type": "markdown",
   "metadata": {},
   "source": [
    "# SECTION A: 20 MARKS"
   ]
  },
  {
   "cell_type": "markdown",
   "metadata": {},
   "source": [
    " _________________"
   ]
  },
  {
   "cell_type": "markdown",
   "metadata": {},
   "source": [
    "### Q1.  Write a program that asks the user to enter size of the list, then do the following: (5Marks)\n",
    "(a) if size of the list is less than 4 then print a message to user \"Invalid size and enter a size more than 4\". The program will continue from begining.\n",
    "\n",
    "(b) After taking valid size , program should take list items from user and create user defined list. \n",
    "\n",
    "(c) Use the choice() function to print out random item from the list.\n",
    "\n",
    "(d) Use the sample() function to print out three random items from the list.\n",
    "\n",
    "(e) Use the shuffle() function to reorder the list and then print out the list.\n",
    "\n",
    "\n",
    "**Choice(),shuffle(),sample() functions are defined under random library. You need to import random library to use it.**\n",
    "\n",
    "***\n",
    "#### Sample Input/Output:\n",
    "\n",
    "\n",
    "<span style=\"font-family:consolas \">\n",
    "\n",
    "Enter number of elements in the list: 3\n",
    "\n",
    "Invalid size and enter a size more than 4\n",
    "\n",
    "Enter number of elements in the list: 5\n",
    "\n",
    "1\n",
    "\n",
    "2\n",
    "\n",
    "3\n",
    "\n",
    "4\n",
    "\n",
    "5\n",
    "\n",
    "Random item from the list:  1\n",
    "\n",
    "Three random items from the list: ['1', '4', '2']\n",
    "\n",
    "Shuffeled list: ['3', '4', '5', '1', '2']\n",
    "\n",
    "***"
   ]
  },
  {
   "cell_type": "code",
   "execution_count": 13,
   "metadata": {},
   "outputs": [],
   "source": [
    "import random"
   ]
  },
  {
   "cell_type": "code",
   "execution_count": 18,
   "metadata": {},
   "outputs": [
    {
     "name": "stdout",
     "output_type": "stream",
     "text": [
      "Enter size of the list3\n",
      "Invalid size and enter a size more than 4\n",
      "Enter size of the list5\n",
      "Enter element in the list:1\n",
      "Enter element in the list:2\n",
      "Enter element in the list:3\n",
      "Enter element in the list:4\n",
      "Enter element in the list:5\n",
      "['1', '2', '3', '4', '5']\n",
      "Random item from the list:  4\n",
      "Three random items from the list:  ['1', '2', '5']\n",
      "Shuffeled list:  ['5', '3', '2', '4', '1']\n"
     ]
    }
   ],
   "source": [
    "size  = 1\n",
    "\n",
    "size = int(input('Enter size of the list'))\n",
    "\n",
    "while size <= 4:\n",
    "    print('Invalid size and enter a size more than 4')\n",
    "    size = int(input('Enter size of the list'))\n",
    "else:\n",
    "    list1 = []\n",
    "    for i in range(5):\n",
    "        value = input('Enter element in the list:')\n",
    "        list1.append(value)\n",
    "    print(list1) \n",
    "    print('Random item from the list: ', random.choice(list1))   \n",
    "    print('Three random items from the list: ', random.sample(list1,3)) \n",
    "    random.shuffle(list1)\n",
    "    print('Shuffled list: ', list1)    "
   ]
  },
  {
   "cell_type": "code",
   "execution_count": 16,
   "metadata": {},
   "outputs": [],
   "source": [
    "random.shuffle(list1)"
   ]
  },
  {
   "cell_type": "markdown",
   "metadata": {},
   "source": [
    "### Q2. Ask the user for a number and then print the following, where the pattern ends at the number that the user enters.\n",
    "<pre>\n",
    "1\n",
    " 2\n",
    "  3\n",
    "   4\n",
    "    5\n",
    "   4\n",
    "  3\n",
    " 2\n",
    "1\n",
    "</pre>\n",
    "\n",
    "***\n",
    "#### Sample Input/Output:\n",
    "\n",
    "***"
   ]
  },
  {
   "cell_type": "raw",
   "metadata": {},
   "source": [
    "Enter the number: 5\n",
    "1\n",
    " 2\n",
    "  3\n",
    "   4\n",
    "    5\n",
    "   4\n",
    "  3\n",
    " 2\n",
    "1"
   ]
  },
  {
   "cell_type": "code",
   "execution_count": 43,
   "metadata": {},
   "outputs": [
    {
     "name": "stdout",
     "output_type": "stream",
     "text": [
      "Enter a number: 6\n",
      " 1\n",
      "  2\n",
      "   3\n",
      "    4\n",
      "     5\n",
      "      6\n",
      "     5\n",
      "    4\n",
      "   3\n",
      "  2\n",
      " 1\n"
     ]
    }
   ],
   "source": [
    "n = int(input('Enter a number: '))\n",
    "for i in range(n):\n",
    "    space = ' '\n",
    "    print(space*i, i+1)\n",
    "for j in reversed(range(n)):\n",
    "    if j <1:\n",
    "        break\n",
    "#     print(j)\n",
    "    print(space*(j-1), j)"
   ]
  },
  {
   "cell_type": "markdown",
   "metadata": {},
   "source": [
    "### Q3.Write a program to validate the data entered by its user and then perform conversion from kilogram to pounds. Write a program that asks the user for a weight and converts it from kilograms to pounds. Whenever the user enters a weight below 0, the program should tell them that their entry is invalid and then ask them again to enter a weight. At the end it should show a weight converted into pounds. do this repeatedly untill user enters 'STOP' [use of IF statement is restricated here] (5 marks)\n",
    "\n",
    "\n",
    "***\n",
    "#### Sample Input/Output:\n",
    "\n",
    "Enter Weight or enter STOP: 10\n",
    "\n",
    "Weight in pounds:  22.046226218 lbs\n",
    "\n",
    "Enter Weight: 50\n",
    "\n",
    "Weight in pounds:  110.23113109 lbs\n",
    "\n",
    "Enter Weight: 45\n",
    "\n",
    "Weight in pounds:  99.208017981 lbs\n",
    "\n",
    "Enter Weight: 62\n",
    "\n",
    "Weight in pounds:  136.6866025516 lbs\n",
    "\n",
    "Enter Weight: STOP\n",
    "\n",
    "***"
   ]
  },
  {
   "cell_type": "code",
   "execution_count": 56,
   "metadata": {},
   "outputs": [
    {
     "name": "stdout",
     "output_type": "stream",
     "text": [
      "Enter Weight in kg or enter STOP:0\n",
      "Enter Weight in kg or enter STOP:10\n",
      "Weight in pounds:  22.046226218\n",
      "Enter Weight in kg or enter STOP:15\n",
      "Weight in pounds:  33.069339327\n",
      "Enter Weight in kg or enter STOP:45\n",
      "Weight in pounds:  99.208017981\n",
      "Enter Weight in kg or enter STOP:STOP\n"
     ]
    }
   ],
   "source": [
    "wt = 1\n",
    "while wt!='STOP':\n",
    "    wt = input('Enter Weight in kg or enter STOP:')\n",
    "    if wt!='STOP':\n",
    "        wt = float(wt)\n",
    "        if wt>0:\n",
    "            print('Weight in pounds: ',wt * 2.2046226218 )\n",
    "        else:\n",
    "            'Weight is Invalid.'\n",
    "    "
   ]
  },
  {
   "cell_type": "markdown",
   "metadata": {},
   "source": [
    "### Q4. Ask the user to enter a list of 10 elemnts containing numbers between 1 and 15. Then replace all of the entries in the list that are greater than 10, with 10 using map() function.(5 Marks)\n",
    "\n",
    "\n",
    "***\n",
    "#### Sample Input/Output:\n",
    "\n",
    "Enter a number between 1 to 15: 3\n",
    "\n",
    "Enter a number between 1 to 15: 13\n",
    "\n",
    "Enter a number between 1 to 15: 7\n",
    "\n",
    "Enter a number between 1 to 15: 12\n",
    "\n",
    "Enter a number between 1 to 15: 13\n",
    "\n",
    "Enter a number between 1 to 15: 4\n",
    "\n",
    "Enter a number between 1 to 15: 5\n",
    "\n",
    "Enter a number between 1 to 15: 6\n",
    "\n",
    "Enter a number between 1 to 15: 17\n",
    "\n",
    "Enter a number between 1 to 15: 18\n",
    "\n",
    "Output list :  [3, 10, 7, 10, 10, 4, 5, 6, 10, 10]\n",
    "\n",
    "***"
   ]
  },
  {
   "cell_type": "code",
   "execution_count": 64,
   "metadata": {},
   "outputs": [
    {
     "name": "stdout",
     "output_type": "stream",
     "text": [
      "Enter a number between 1 to 15: 1\n",
      "Enter a number between 1 to 15: 1\n",
      "Enter a number between 1 to 15: 1\n",
      "Enter a number between 1 to 15: 1\n",
      "Enter a number between 1 to 15: 1\n",
      "Enter a number between 1 to 15: 12\n",
      "Enter a number between 1 to 15: 12\n",
      "Enter a number between 1 to 15: 1\n",
      "Enter a number between 1 to 15: 1\n",
      "Enter a number between 1 to 15: 1\n"
     ]
    }
   ],
   "source": [
    "list2 = []\n",
    "for i in range(10):\n",
    "    num = int(input('Enter a number between 1 to 15: '))\n",
    "    list2.append(num)\n"
   ]
  },
  {
   "cell_type": "code",
   "execution_count": 86,
   "metadata": {},
   "outputs": [],
   "source": [
    "def rep(n):\n",
    "    if n>10:\n",
    "        n = 10\n",
    "        print(n)\n",
    "    else:\n",
    "        print(n)\n",
    "listrep = map(rep,list2)\n",
    "\n",
    "# print(listrep)"
   ]
  },
  {
   "cell_type": "code",
   "execution_count": 87,
   "metadata": {},
   "outputs": [
    {
     "name": "stdout",
     "output_type": "stream",
     "text": [
      "1\n",
      "1\n",
      "1\n",
      "1\n",
      "1\n",
      "10\n",
      "10\n",
      "1\n",
      "1\n",
      "1\n",
      "[None, None, None, None, None, None, None, None, None, None]\n"
     ]
    }
   ],
   "source": [
    "print(list(listrep))"
   ]
  },
  {
   "cell_type": "markdown",
   "metadata": {},
   "source": [
    "# SECTION B: 20 MARKS"
   ]
  },
  {
   "cell_type": "markdown",
   "metadata": {},
   "source": [
    "---------------------"
   ]
  },
  {
   "cell_type": "markdown",
   "metadata": {},
   "source": [
    "### Q5. A superstore has multiple items to sell. These items are categorised as  category A and category B. For festival time the superstore decided to declare some discount, as given below. \n",
    "\n",
    "### for category A items, it charges Rs.15 per item if you buy less than 30 quantity of an item. If you buy between 30 and 99 quantity of an item, the cost is Rs.12 per item. If buying quantity is 100 or more for an item, the cost is Rs.10 per item. \n",
    "\n",
    "### For category B items, it charges Rs.30 per item if you buy less than 50 quantity of an item. If you buy between 50 and 99 quantity of an item, the cost is Rs.25 per item. If buying quantity is 100 or more for an item, the cost is Rs.20 per item. Further it also gives discount of 5% if total bill exceeds 1000 and 10% if bill exceeds 1500.\n",
    "\n",
    "### Write a program which repeatedly ask user to enter no of items and its category. If user enters 'STOP' it shows user has done with the purchase, now calculate total payable amount and display it to user(10 Marks)\n",
    "\n",
    "\n",
    "***\n",
    "#### Sample Input/Output:\n",
    "Enter no of items and its category: 23,A\n",
    "\n",
    "Enter no of items and its category: 56, b\n",
    "\n",
    "Enter no of items and its category: 67,b\n",
    "\n",
    "Enter no of items and its category: 110,a\n",
    "\n",
    "Enter no of items and its category: STOP\n",
    "\n",
    "Total amount payable is :  2808.0\n",
    "\n",
    "***"
   ]
  },
  {
   "cell_type": "markdown",
   "metadata": {},
   "source": [
    "### Q6.Create a 5*5  list of numbers from 1 to 10 using list comprehension. Print the nested list. \n",
    "### Create a dictionary whose keys are the numbers and whose values are the frequencies of the number in the nested list mentined above\n",
    "### Print the dictionary in the descending order of frequencies of the numbers. \n",
    "### Then print the three most common numbers.(10 Marks) \n",
    "\n",
    "\n",
    "***\n",
    "#### Sample Input/Output:\n",
    "\n",
    "5 * 5 nested list : \n",
    "[[10, 3, 10, 9, 4], [1, 6, 1, 2, 5], [4, 1, 5, 9, 7], [9, 7, 5, 4, 1], [8, 7, 3, 3, 3]]\n",
    "\n",
    "\n",
    "Dictionary for number and its frequency : \n",
    "{1: 4, 2: 1, 3: 4, 4: 3, 5: 3, 6: 1, 7: 3, 8: 1, 9: 3, 10: 2}\n",
    "\n",
    "\n",
    "Dictionary in descending order of frequency : \n",
    "{1: 4, 3: 4, 4: 3, 5: 3, 7: 3, 9: 3, 10: 2, 2: 1, 6: 1, 8: 1}\n",
    "\n",
    "\n",
    "Top three frequent numbers are [1, 3, 4]\n",
    "\n",
    "***"
   ]
  },
  {
   "cell_type": "code",
   "execution_count": 260,
   "metadata": {},
   "outputs": [
    {
     "name": "stdout",
     "output_type": "stream",
     "text": [
      "enter a number10\n",
      "enter a number3\n",
      "enter a number10\n",
      "enter a number9\n",
      "enter a number4\n",
      "enter a number1\n",
      "enter a number6\n",
      "enter a number1\n",
      "enter a number2\n",
      "enter a number5\n",
      "enter a number4\n",
      "enter a number1\n",
      "enter a number5\n",
      "enter a number9\n",
      "enter a number7\n",
      "enter a number9\n",
      "enter a number7\n",
      "enter a number5\n",
      "enter a number4\n",
      "enter a number1\n",
      "enter a number8\n",
      "enter a number7\n",
      "enter a number3\n",
      "enter a number3\n",
      "enter a number3\n"
     ]
    }
   ],
   "source": [
    "five_matrix = [[int(input('enter a number')) for i in range(5)] for j in range(5)]"
   ]
  },
  {
   "cell_type": "code",
   "execution_count": 261,
   "metadata": {},
   "outputs": [
    {
     "data": {
      "text/plain": [
       "[[10, 3, 10, 9, 4],\n",
       " [1, 6, 1, 2, 5],\n",
       " [4, 1, 5, 9, 7],\n",
       " [9, 7, 5, 4, 1],\n",
       " [8, 7, 3, 3, 3]]"
      ]
     },
     "execution_count": 261,
     "metadata": {},
     "output_type": "execute_result"
    }
   ],
   "source": [
    "five_matrix"
   ]
  },
  {
   "cell_type": "code",
   "execution_count": 265,
   "metadata": {},
   "outputs": [],
   "source": [
    "import pandas as pd"
   ]
  },
  {
   "cell_type": "code",
   "execution_count": 315,
   "metadata": {},
   "outputs": [],
   "source": [
    "lis = []\n",
    "for i in five_matrix:\n",
    "    lis +=i \n",
    "    \n",
    "lis_df= pd.DataFrame(lis, columns = ['numbers']) # .value_counts() #.reset_index(drop=True)\n",
    "freq = lis_df.value_counts().reset_index()\n",
    "# dict1.keys = lis_df.index\n",
    "# dict1.values = "
   ]
  },
  {
   "cell_type": "code",
   "execution_count": 310,
   "metadata": {},
   "outputs": [],
   "source": [
    "# pd.DataFrame(lis, columns = ['numbers'])"
   ]
  },
  {
   "cell_type": "code",
   "execution_count": 319,
   "metadata": {},
   "outputs": [
    {
     "data": {
      "text/plain": [
       "{1: 4, 3: 4, 4: 3, 5: 3, 7: 3, 9: 3, 10: 2, 2: 1, 6: 1, 8: 1}"
      ]
     },
     "execution_count": 319,
     "metadata": {},
     "output_type": "execute_result"
    }
   ],
   "source": [
    "dict1 = dict(zip(freq['numbers'], freq[0]))\n",
    "dict1"
   ]
  },
  {
   "cell_type": "code",
   "execution_count": 329,
   "metadata": {},
   "outputs": [
    {
     "ename": "TypeError",
     "evalue": "'dict_values' object is not callable",
     "output_type": "error",
     "traceback": [
      "\u001b[1;31m---------------------------------------------------------------------------\u001b[0m",
      "\u001b[1;31mTypeError\u001b[0m                                 Traceback (most recent call last)",
      "\u001b[1;32m<ipython-input-329-3af55290f107>\u001b[0m in \u001b[0;36m<module>\u001b[1;34m\u001b[0m\n\u001b[1;32m----> 1\u001b[1;33m \u001b[0msorted\u001b[0m\u001b[1;33m(\u001b[0m\u001b[0mdict1\u001b[0m\u001b[1;33m,\u001b[0m \u001b[0mkey\u001b[0m \u001b[1;33m=\u001b[0m \u001b[0mdict1\u001b[0m\u001b[1;33m.\u001b[0m\u001b[0mvalues\u001b[0m\u001b[1;33m(\u001b[0m\u001b[1;33m)\u001b[0m\u001b[1;33m,\u001b[0m \u001b[0mreverse\u001b[0m\u001b[1;33m=\u001b[0m \u001b[1;32mTrue\u001b[0m\u001b[1;33m)\u001b[0m\u001b[1;33m\u001b[0m\u001b[1;33m\u001b[0m\u001b[0m\n\u001b[0m",
      "\u001b[1;31mTypeError\u001b[0m: 'dict_values' object is not callable"
     ]
    }
   ],
   "source": [
    "sorted(dict1, key = dict1.values(), reverse= True)"
   ]
  },
  {
   "cell_type": "code",
   "execution_count": 286,
   "metadata": {},
   "outputs": [
    {
     "data": {
      "text/plain": [
       "[(1,), (3,), (4,), (5,), (7,), (9,), (10,), (2,), (6,), (8,)]"
      ]
     },
     "execution_count": 286,
     "metadata": {},
     "output_type": "execute_result"
    }
   ],
   "source": [
    "list(lis_df.index)"
   ]
  },
  {
   "cell_type": "code",
   "execution_count": 272,
   "metadata": {},
   "outputs": [
    {
     "data": {
      "text/plain": [
       "{(1,): 4,\n",
       " (3,): 4,\n",
       " (4,): 3,\n",
       " (5,): 3,\n",
       " (7,): 3,\n",
       " (9,): 3,\n",
       " (10,): 2,\n",
       " (2,): 1,\n",
       " (6,): 1,\n",
       " (8,): 1}"
      ]
     },
     "execution_count": 272,
     "metadata": {},
     "output_type": "execute_result"
    }
   ],
   "source": [
    "dict1"
   ]
  },
  {
   "cell_type": "markdown",
   "metadata": {},
   "source": [
    "# SECTION C: 30 MARKS"
   ]
  },
  {
   "cell_type": "markdown",
   "metadata": {},
   "source": [
    "--------------------"
   ]
  },
  {
   "cell_type": "markdown",
   "metadata": {},
   "source": [
    "### Q7. One way of encrypting a string message is to rearrange its characters. Simple way to rearrange the characters is to pick out the characters at even indices, put them first in the encrypted string and follow them by the odd characters.\n",
    "#### For example, the string message would be encrypted as msaeesg because the even characters are m, s, a, e (at indices 0, 2, 4, and 6) and the odd characters are e, s, g (at indices 1, 3, and 5).\n",
    "#### (a) Write a function encrypt()to encrypt the string given by user.\n",
    "#### (b) Write a function decrypt() to decrypt a string that was encrypted before.(15 Marks)\n",
    "\n",
    "\n",
    "***\n",
    "#### Sample Input/Output:\n",
    "<span style=\"font-family:consolas \">\n",
    "Encrypted message is :  SceMsaeertesg\n",
    "    \n",
    "Decrypted message is :  SecretMessage\n",
    "***"
   ]
  },
  {
   "cell_type": "code",
   "execution_count": 91,
   "metadata": {},
   "outputs": [
    {
     "data": {
      "text/plain": [
       "'d'"
      ]
     },
     "execution_count": 91,
     "metadata": {},
     "output_type": "execute_result"
    }
   ],
   "source": [
    "SceMsaeertesg\n",
    "SceMsaeertesg\n",
    "# a = 'asdfghj'\n",
    "# for i in a: \n",
    "#     print(i)\n",
    "a[2]"
   ]
  },
  {
   "cell_type": "code",
   "execution_count": 176,
   "metadata": {
    "scrolled": true
   },
   "outputs": [
    {
     "name": "stdout",
     "output_type": "stream",
     "text": [
      "Enter a string: 1234567\n",
      "Encrypted message is : 1357246\n"
     ]
    }
   ],
   "source": [
    "string1 = input('Enter a string: ')\n",
    "def encrypt(string1):\n",
    "    even = str()\n",
    "    odd = str()\n",
    "\n",
    "#     even = []\n",
    "#     odd = []\n",
    "    for i in range(len(string1)):\n",
    "        if i%2==0:\n",
    "            even += string1[i]\n",
    "#             even.append(string1[i])\n",
    "        else:\n",
    "            odd += string1[i]\n",
    "#             odd.append(string1[i])\n",
    "    encrypted = even+odd\n",
    "    \n",
    "    return encrypted\n",
    "print('Encrypted message is :', encrypt(string1))    \n",
    "    \n"
   ]
  },
  {
   "cell_type": "code",
   "execution_count": 177,
   "metadata": {},
   "outputs": [
    {
     "data": {
      "text/plain": [
       "'1357246'"
      ]
     },
     "execution_count": 177,
     "metadata": {},
     "output_type": "execute_result"
    }
   ],
   "source": [
    "encrypted = encrypt(string1)\n",
    "encrypted"
   ]
  },
  {
   "cell_type": "code",
   "execution_count": 178,
   "metadata": {},
   "outputs": [
    {
     "data": {
      "text/plain": [
       "7"
      ]
     },
     "execution_count": 178,
     "metadata": {},
     "output_type": "execute_result"
    }
   ],
   "source": [
    "len(encrypted)"
   ]
  },
  {
   "cell_type": "code",
   "execution_count": 187,
   "metadata": {},
   "outputs": [],
   "source": [
    "def decrypt(encrypted):\n",
    "    odd = int()\n",
    "    even = int()\n",
    "    l = len(encrypted)\n",
    "    if l%2==0: #if string length is even\n",
    "        half = int(l/2)\n",
    "        print(half)\n",
    "        odd = encrypted[0:half]\n",
    "        even = encrypted[half:l]\n",
    "    print('even:', even)\n",
    "    print('odd:',odd)\n",
    "    \n",
    "    if l%2!=0:  #if string length is odd\n",
    "        half = int((l+1)/2)\n",
    "        print(half)\n",
    "        odd = encrypted[0:half+1]\n",
    "        even = encrypted[half:l]\n",
    "    print('even:', even)\n",
    "    print('odd:',odd)\n",
    "    \n",
    "    decrpyted = str()\n",
    "    k=0\n",
    "    j=0\n",
    "    \n",
    "    for i in range(len(encrypted)):\n",
    "        if i%2==0 or i==0:\n",
    "            print('val',odd[j],'index',j )\n",
    "            decrpyted+=odd[j]\n",
    "            j+=1\n",
    "        else:\n",
    "            print('val',even[k],'index',k )\n",
    "            decrpyted+=even[k]\n",
    "            k+=1\n",
    "    print(decrpyted)        "
   ]
  },
  {
   "cell_type": "code",
   "execution_count": 188,
   "metadata": {},
   "outputs": [
    {
     "name": "stdout",
     "output_type": "stream",
     "text": [
      "even: 0\n",
      "odd: 0\n",
      "4\n",
      "even: 246\n",
      "odd: 13572\n",
      "val 1 index 0\n",
      "val 2 index 0\n",
      "val 3 index 1\n",
      "val 4 index 1\n",
      "val 5 index 2\n",
      "val 6 index 2\n",
      "val 7 index 3\n",
      "1234567\n"
     ]
    }
   ],
   "source": [
    "decrypt(encrypted)"
   ]
  },
  {
   "cell_type": "markdown",
   "metadata": {},
   "source": [
    "### Q8. Write a program that checks to see if a 4 * 4 list is a magic square. In a magic square, every row, column, and the two diagonals add up to the same value. Write a function magic_square which returns True if list is magic square otherwise it returns false (15 Marks)\n",
    "\n",
    "E.g Given below is 4 * 4 magic Square\n",
    "<pre>\n",
    "    1  15  14  4\n",
    "    10 11   8  5\n",
    "    7  6    9  12\n",
    "    16 2    3  13\n",
    "\n",
    "\n",
    "***\n",
    "#### Sample Input/Output: \n",
    "Its a magic Square\n",
    "\n",
    "***"
   ]
  },
  {
   "cell_type": "code",
   "execution_count": 197,
   "metadata": {},
   "outputs": [],
   "source": [
    "import numpy as np"
   ]
  },
  {
   "cell_type": "code",
   "execution_count": 246,
   "metadata": {},
   "outputs": [],
   "source": [
    "ms = [[1,15,14,4],\n",
    "     [10,11,8,5],\n",
    "     [7,6,9,12],\n",
    "     [16,2,3,13]]\n",
    "nonms = [[1,15,12,4],\n",
    "     [10,11,0,5],\n",
    "     [7,6,12,12],\n",
    "     [16,5,3,13]]\n",
    "dummy_ms =[[1,1,1,1],\n",
    "     [1,1,1,1],\n",
    "     [1,1,1,1],\n",
    "     [1,1,1,1]]\n",
    "    "
   ]
  },
  {
   "cell_type": "code",
   "execution_count": 239,
   "metadata": {},
   "outputs": [],
   "source": [
    "def magic_sq(ms):\n",
    "    ms = np.array(ms)\n",
    "    print(np.concatenate([list(ms.sum(axis=1)), \n",
    "                              list(ms.sum(axis=0)), \n",
    "                              [np.diagonal(ms).sum()],\n",
    "                              [np.diagonal(np.fliplr(ms)).sum()]]\n",
    "                            ))\n",
    "    ans = len(np.unique(np.concatenate([list(ms.sum(axis=1)), \n",
    "                              list(ms.sum(axis=0)), \n",
    "                              [np.diagonal(ms).sum()],\n",
    "                              [np.diagonal(np.fliplr(ms)).sum()]]\n",
    "                            )\n",
    "             )\n",
    "   ) == 1\n",
    "    print(ans)\n",
    "    "
   ]
  },
  {
   "cell_type": "code",
   "execution_count": 247,
   "metadata": {},
   "outputs": [
    {
     "name": "stdout",
     "output_type": "stream",
     "text": [
      "[4 4 4 4 4 4 4 4 4 4]\n",
      "True\n"
     ]
    }
   ],
   "source": [
    "magic_sq(dummy_ms)"
   ]
  },
  {
   "cell_type": "code",
   "execution_count": 221,
   "metadata": {},
   "outputs": [],
   "source": [
    "ms_array = np.array(ms)\n",
    "nonms_array = np.array(nonms)"
   ]
  },
  {
   "cell_type": "code",
   "execution_count": 232,
   "metadata": {},
   "outputs": [
    {
     "data": {
      "text/plain": [
       "False"
      ]
     },
     "execution_count": 232,
     "metadata": {},
     "output_type": "execute_result"
    }
   ],
   "source": [
    "len(np.unique(np.concatenate([list(ms_array.sum(axis=1)), \n",
    "                              list(ms_array.sum(axis=0)), \n",
    "                              [np.diagonal(ms_array).sum()],\n",
    "                              [np.diagonal(np.fliplr(ms_array)).sum()]]\n",
    "                            )\n",
    "             )\n",
    "   ) == 1"
   ]
  },
  {
   "cell_type": "code",
   "execution_count": 208,
   "metadata": {},
   "outputs": [
    {
     "data": {
      "text/plain": [
       "True"
      ]
     },
     "execution_count": 208,
     "metadata": {},
     "output_type": "execute_result"
    }
   ],
   "source": [
    "len(np.unique(np.concatenate([ms_array.sum(axis=1), ms_array.sum(axis=0)]))) == 1"
   ]
  },
  {
   "cell_type": "code",
   "execution_count": null,
   "metadata": {},
   "outputs": [],
   "source": []
  }
 ],
 "metadata": {
  "kernelspec": {
   "display_name": "Python 3",
   "language": "python",
   "name": "python3"
  },
  "language_info": {
   "codemirror_mode": {
    "name": "ipython",
    "version": 3
   },
   "file_extension": ".py",
   "mimetype": "text/x-python",
   "name": "python",
   "nbconvert_exporter": "python",
   "pygments_lexer": "ipython3",
   "version": "3.8.8"
  }
 },
 "nbformat": 4,
 "nbformat_minor": 2
}
