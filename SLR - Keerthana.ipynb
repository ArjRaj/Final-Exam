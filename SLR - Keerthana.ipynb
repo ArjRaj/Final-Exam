{
 "cells": [
  {
   "cell_type": "markdown",
   "metadata": {
    "colab_type": "text",
    "id": "Sx76C_rU1Ngk"
   },
   "source": [
    "# SLR FINAL EXAM"
   ]
  },
  {
   "cell_type": "markdown",
   "metadata": {
    "colab_type": "text",
    "id": "kMt432NK1Ngm"
   },
   "source": [
    "### DATA DESCRIPTION: \n",
    "The data set consists of complete educational details of students right from their\n",
    "schooling to MBA and previous work experience. Our main objective is to predict the Salary of the students\n",
    "based on the info available. The data set consists of 391 observations and 19 variables.\n",
    "\n",
    "### ATTRIBUTES:\n",
    "\n",
    "SlNo - ID of the student\n",
    "\n",
    "Gender - Gender of Student\n",
    "\n",
    "Percent_SSC - Percentage of marks scored in SSC\n",
    "\n",
    "Board_SSC - Types of Boards in SSC\n",
    "\n",
    "\n",
    "Percent_HSC - Percentage of marks scored in HSC\n",
    "\n",
    "Board_HSC - Types of Boards in HSC\n",
    "\n",
    "Stream_HSC - Specialization in HSC\n",
    "\n",
    "Percent Degree - Percentage of marks scored in Degree\n",
    "\n",
    "Course_Degree - Different courses in degree\n",
    "\n",
    "Experience_Yrs - Work Experience of the Students\n",
    "\n",
    "Entrance_Test - Test which students give for MBA college Entrance\n",
    "\n",
    "Percentile_ET - Percentage of marks scored in Entrance_Test\n",
    "\n",
    "\n",
    "Percent_MBA - Percentage of marks scored in MBA\n",
    "\n",
    "Specialization_MBA - Specialization in MBA\n",
    "\n",
    "Marks Communication - Percentage of marks scored in Communication\n",
    "\n",
    "Marks_Projectwork - Percentage of marks scored in Project Work\n",
    "\n",
    "\n",
    "Marks_BOCA - Percentage of marks scored by students in Extra Curricular\n",
    "\n",
    "activities\n",
    "\n",
    "Placement - Whether Student got placed or not\n",
    "\n",
    "\n",
    "Salary - Salary of students\n"
   ]
  },
  {
   "cell_type": "markdown",
   "metadata": {
    "colab_type": "text",
    "id": "4FAX-CNq1Ngn"
   },
   "source": [
    "\n",
    "### 1.\t Read the dataset (tab, csv, xls, txt, inbuilt dataset) "
   ]
  },
  {
   "cell_type": "markdown",
   "metadata": {
    "colab_type": "raw",
    "id": "wEgYP9-oW0cg"
   },
   "source": [
    "## Kindly change the below cells from markdown to code and execute it "
   ]
  },
  {
   "cell_type": "code",
   "execution_count": 1,
   "metadata": {},
   "outputs": [],
   "source": [
    "import numpy as np\n",
    "import matplotlib.pyplot as plt\n",
    "import seaborn as sns\n",
    "\n",
    "import datetime as dt\n",
    "\n",
    "from warnings import filterwarnings\n",
    "filterwarnings('ignore')"
   ]
  },
  {
   "cell_type": "code",
   "execution_count": 2,
   "metadata": {
    "colab_type": "raw",
    "id": "VQ_WA9jKW0ch"
   },
   "outputs": [
    {
     "data": {
      "text/html": [
       "<div>\n",
       "<style scoped>\n",
       "    .dataframe tbody tr th:only-of-type {\n",
       "        vertical-align: middle;\n",
       "    }\n",
       "\n",
       "    .dataframe tbody tr th {\n",
       "        vertical-align: top;\n",
       "    }\n",
       "\n",
       "    .dataframe thead th {\n",
       "        text-align: right;\n",
       "    }\n",
       "</style>\n",
       "<table border=\"1\" class=\"dataframe\">\n",
       "  <thead>\n",
       "    <tr style=\"text-align: right;\">\n",
       "      <th></th>\n",
       "      <th>SlNo</th>\n",
       "      <th>Gender</th>\n",
       "      <th>Percent_SSC</th>\n",
       "      <th>Board_SSC</th>\n",
       "      <th>Percent_HSC</th>\n",
       "      <th>Board_HSC</th>\n",
       "      <th>Stream_HSC</th>\n",
       "      <th>Percent_Degree</th>\n",
       "      <th>Course_Degree</th>\n",
       "      <th>Experience_Yrs</th>\n",
       "      <th>Entrance_Test</th>\n",
       "      <th>Percentile_ET</th>\n",
       "      <th>Percent_MBA</th>\n",
       "      <th>Specialization_MBA</th>\n",
       "      <th>Marks_Communication</th>\n",
       "      <th>Marks_Projectwork</th>\n",
       "      <th>Marks_BOCA</th>\n",
       "      <th>Placement</th>\n",
       "      <th>Salary</th>\n",
       "    </tr>\n",
       "  </thead>\n",
       "  <tbody>\n",
       "    <tr>\n",
       "      <th>0</th>\n",
       "      <td>1</td>\n",
       "      <td>M</td>\n",
       "      <td>62.00</td>\n",
       "      <td>Others</td>\n",
       "      <td>88.00</td>\n",
       "      <td>Others</td>\n",
       "      <td>Commerce</td>\n",
       "      <td>52.00</td>\n",
       "      <td>Science</td>\n",
       "      <td>0</td>\n",
       "      <td>MAT</td>\n",
       "      <td>55.0</td>\n",
       "      <td>58.80</td>\n",
       "      <td>Marketing &amp; HR</td>\n",
       "      <td>50</td>\n",
       "      <td>65</td>\n",
       "      <td>74</td>\n",
       "      <td>Placed</td>\n",
       "      <td>270000</td>\n",
       "    </tr>\n",
       "    <tr>\n",
       "      <th>1</th>\n",
       "      <td>2</td>\n",
       "      <td>M</td>\n",
       "      <td>76.33</td>\n",
       "      <td>ICSE</td>\n",
       "      <td>75.33</td>\n",
       "      <td>Others</td>\n",
       "      <td>Science</td>\n",
       "      <td>75.48</td>\n",
       "      <td>Computer Applications</td>\n",
       "      <td>1</td>\n",
       "      <td>MAT</td>\n",
       "      <td>86.5</td>\n",
       "      <td>66.28</td>\n",
       "      <td>Marketing &amp; Finance</td>\n",
       "      <td>69</td>\n",
       "      <td>70</td>\n",
       "      <td>75</td>\n",
       "      <td>Placed</td>\n",
       "      <td>200000</td>\n",
       "    </tr>\n",
       "    <tr>\n",
       "      <th>2</th>\n",
       "      <td>3</td>\n",
       "      <td>M</td>\n",
       "      <td>72.00</td>\n",
       "      <td>Others</td>\n",
       "      <td>78.00</td>\n",
       "      <td>Others</td>\n",
       "      <td>Commerce</td>\n",
       "      <td>66.63</td>\n",
       "      <td>Engineering</td>\n",
       "      <td>0</td>\n",
       "      <td>NaN</td>\n",
       "      <td>0.0</td>\n",
       "      <td>52.91</td>\n",
       "      <td>Marketing &amp; Finance</td>\n",
       "      <td>50</td>\n",
       "      <td>61</td>\n",
       "      <td>59</td>\n",
       "      <td>Placed</td>\n",
       "      <td>240000</td>\n",
       "    </tr>\n",
       "    <tr>\n",
       "      <th>3</th>\n",
       "      <td>4</td>\n",
       "      <td>M</td>\n",
       "      <td>60.00</td>\n",
       "      <td>CBSE</td>\n",
       "      <td>63.00</td>\n",
       "      <td>CBSE</td>\n",
       "      <td>Arts</td>\n",
       "      <td>58.00</td>\n",
       "      <td>Management</td>\n",
       "      <td>0</td>\n",
       "      <td>MAT</td>\n",
       "      <td>75.0</td>\n",
       "      <td>57.80</td>\n",
       "      <td>Marketing &amp; Finance</td>\n",
       "      <td>54</td>\n",
       "      <td>66</td>\n",
       "      <td>62</td>\n",
       "      <td>Placed</td>\n",
       "      <td>250000</td>\n",
       "    </tr>\n",
       "    <tr>\n",
       "      <th>4</th>\n",
       "      <td>5</td>\n",
       "      <td>M</td>\n",
       "      <td>61.00</td>\n",
       "      <td>CBSE</td>\n",
       "      <td>55.00</td>\n",
       "      <td>ISC</td>\n",
       "      <td>Science</td>\n",
       "      <td>54.00</td>\n",
       "      <td>Engineering</td>\n",
       "      <td>1</td>\n",
       "      <td>MAT</td>\n",
       "      <td>66.0</td>\n",
       "      <td>59.43</td>\n",
       "      <td>Marketing &amp; HR</td>\n",
       "      <td>52</td>\n",
       "      <td>65</td>\n",
       "      <td>67</td>\n",
       "      <td>Placed</td>\n",
       "      <td>180000</td>\n",
       "    </tr>\n",
       "  </tbody>\n",
       "</table>\n",
       "</div>"
      ],
      "text/plain": [
       "   SlNo Gender  Percent_SSC Board_SSC  Percent_HSC Board_HSC Stream_HSC  \\\n",
       "0     1      M        62.00    Others        88.00    Others   Commerce   \n",
       "1     2      M        76.33      ICSE        75.33    Others    Science   \n",
       "2     3      M        72.00    Others        78.00    Others   Commerce   \n",
       "3     4      M        60.00      CBSE        63.00      CBSE       Arts   \n",
       "4     5      M        61.00      CBSE        55.00       ISC    Science   \n",
       "\n",
       "   Percent_Degree          Course_Degree  Experience_Yrs Entrance_Test  \\\n",
       "0           52.00                Science               0           MAT   \n",
       "1           75.48  Computer Applications               1           MAT   \n",
       "2           66.63            Engineering               0           NaN   \n",
       "3           58.00             Management               0           MAT   \n",
       "4           54.00            Engineering               1           MAT   \n",
       "\n",
       "   Percentile_ET  Percent_MBA   Specialization_MBA  Marks_Communication  \\\n",
       "0           55.0        58.80       Marketing & HR                   50   \n",
       "1           86.5        66.28  Marketing & Finance                   69   \n",
       "2            0.0        52.91  Marketing & Finance                   50   \n",
       "3           75.0        57.80  Marketing & Finance                   54   \n",
       "4           66.0        59.43       Marketing & HR                   52   \n",
       "\n",
       "   Marks_Projectwork  Marks_BOCA Placement  Salary  \n",
       "0                 65          74    Placed  270000  \n",
       "1                 70          75    Placed  200000  \n",
       "2                 61          59    Placed  240000  \n",
       "3                 66          62    Placed  250000  \n",
       "4                 65          67    Placed  180000  "
      ]
     },
     "execution_count": 2,
     "metadata": {},
     "output_type": "execute_result"
    }
   ],
   "source": [
    "import pandas as pd\n",
    "\n",
    "df = pd.read_excel('Admission.xlsx')\n",
    "df.head()"
   ]
  },
  {
   "cell_type": "markdown",
   "metadata": {
    "colab_type": "text",
    "id": "mbuJVZ621Ngz"
   },
   "source": [
    "### 2.\tSummarize important observations from the data set (5 Marks)\n",
    "\n",
    "Some pointers which would help you, but don’t be limited by these\n",
    "\n",
    "a.\tWhat are the number of rows; no. & types of variables (continuous, categorical etc.)\n",
    "\n",
    "b.\tCalculate five point summary for numerical variables\n",
    "\n",
    "c.\tSummarize observations for categorical variables – no. of categories, % observations in each category\n"
   ]
  },
  {
   "cell_type": "code",
   "execution_count": 3,
   "metadata": {
    "id": "P51sU87ijugQ",
    "scrolled": true
   },
   "outputs": [
    {
     "data": {
      "text/plain": [
       "(391, 19)"
      ]
     },
     "execution_count": 3,
     "metadata": {},
     "output_type": "execute_result"
    }
   ],
   "source": [
    "df.shape"
   ]
  },
  {
   "cell_type": "code",
   "execution_count": 4,
   "metadata": {},
   "outputs": [
    {
     "name": "stdout",
     "output_type": "stream",
     "text": [
      "<class 'pandas.core.frame.DataFrame'>\n",
      "RangeIndex: 391 entries, 0 to 390\n",
      "Data columns (total 19 columns):\n",
      " #   Column               Non-Null Count  Dtype  \n",
      "---  ------               --------------  -----  \n",
      " 0   SlNo                 391 non-null    int64  \n",
      " 1   Gender               391 non-null    object \n",
      " 2   Percent_SSC          391 non-null    float64\n",
      " 3   Board_SSC            391 non-null    object \n",
      " 4   Percent_HSC          391 non-null    float64\n",
      " 5   Board_HSC            391 non-null    object \n",
      " 6   Stream_HSC           391 non-null    object \n",
      " 7   Percent_Degree       391 non-null    float64\n",
      " 8   Course_Degree        391 non-null    object \n",
      " 9   Experience_Yrs       391 non-null    int64  \n",
      " 10  Entrance_Test        324 non-null    object \n",
      " 11  Percentile_ET        391 non-null    float64\n",
      " 12  Percent_MBA          391 non-null    float64\n",
      " 13  Specialization_MBA   391 non-null    object \n",
      " 14  Marks_Communication  391 non-null    int64  \n",
      " 15  Marks_Projectwork    391 non-null    int64  \n",
      " 16  Marks_BOCA           391 non-null    int64  \n",
      " 17  Placement            391 non-null    object \n",
      " 18  Salary               391 non-null    int64  \n",
      "dtypes: float64(5), int64(6), object(8)\n",
      "memory usage: 58.2+ KB\n"
     ]
    }
   ],
   "source": [
    "df.info()"
   ]
  },
  {
   "cell_type": "code",
   "execution_count": 5,
   "metadata": {
    "scrolled": true
   },
   "outputs": [
    {
     "data": {
      "text/html": [
       "<div>\n",
       "<style scoped>\n",
       "    .dataframe tbody tr th:only-of-type {\n",
       "        vertical-align: middle;\n",
       "    }\n",
       "\n",
       "    .dataframe tbody tr th {\n",
       "        vertical-align: top;\n",
       "    }\n",
       "\n",
       "    .dataframe thead th {\n",
       "        text-align: right;\n",
       "    }\n",
       "</style>\n",
       "<table border=\"1\" class=\"dataframe\">\n",
       "  <thead>\n",
       "    <tr style=\"text-align: right;\">\n",
       "      <th></th>\n",
       "      <th>SlNo</th>\n",
       "      <th>Percent_SSC</th>\n",
       "      <th>Percent_HSC</th>\n",
       "      <th>Percent_Degree</th>\n",
       "      <th>Experience_Yrs</th>\n",
       "      <th>Percentile_ET</th>\n",
       "      <th>Percent_MBA</th>\n",
       "      <th>Marks_Communication</th>\n",
       "      <th>Marks_Projectwork</th>\n",
       "      <th>Marks_BOCA</th>\n",
       "      <th>Salary</th>\n",
       "    </tr>\n",
       "  </thead>\n",
       "  <tbody>\n",
       "    <tr>\n",
       "      <th>count</th>\n",
       "      <td>391.000000</td>\n",
       "      <td>391.000000</td>\n",
       "      <td>391.000000</td>\n",
       "      <td>391.000000</td>\n",
       "      <td>391.000000</td>\n",
       "      <td>391.000000</td>\n",
       "      <td>391.000000</td>\n",
       "      <td>391.000000</td>\n",
       "      <td>391.000000</td>\n",
       "      <td>391.000000</td>\n",
       "      <td>391.000000</td>\n",
       "    </tr>\n",
       "    <tr>\n",
       "      <th>mean</th>\n",
       "      <td>196.000000</td>\n",
       "      <td>64.652353</td>\n",
       "      <td>63.795294</td>\n",
       "      <td>62.983606</td>\n",
       "      <td>0.478261</td>\n",
       "      <td>54.934962</td>\n",
       "      <td>61.667698</td>\n",
       "      <td>60.539642</td>\n",
       "      <td>68.363171</td>\n",
       "      <td>64.378517</td>\n",
       "      <td>219078.260870</td>\n",
       "    </tr>\n",
       "    <tr>\n",
       "      <th>std</th>\n",
       "      <td>113.016223</td>\n",
       "      <td>10.960426</td>\n",
       "      <td>11.417726</td>\n",
       "      <td>8.916152</td>\n",
       "      <td>0.667112</td>\n",
       "      <td>31.168264</td>\n",
       "      <td>5.854399</td>\n",
       "      <td>8.824084</td>\n",
       "      <td>7.145095</td>\n",
       "      <td>9.582834</td>\n",
       "      <td>138311.647036</td>\n",
       "    </tr>\n",
       "    <tr>\n",
       "      <th>min</th>\n",
       "      <td>1.000000</td>\n",
       "      <td>37.000000</td>\n",
       "      <td>40.000000</td>\n",
       "      <td>35.000000</td>\n",
       "      <td>0.000000</td>\n",
       "      <td>0.000000</td>\n",
       "      <td>50.830000</td>\n",
       "      <td>50.000000</td>\n",
       "      <td>50.000000</td>\n",
       "      <td>50.000000</td>\n",
       "      <td>0.000000</td>\n",
       "    </tr>\n",
       "    <tr>\n",
       "      <th>25%</th>\n",
       "      <td>98.500000</td>\n",
       "      <td>56.000000</td>\n",
       "      <td>54.000000</td>\n",
       "      <td>57.525000</td>\n",
       "      <td>0.000000</td>\n",
       "      <td>41.190000</td>\n",
       "      <td>57.195000</td>\n",
       "      <td>53.000000</td>\n",
       "      <td>64.000000</td>\n",
       "      <td>57.000000</td>\n",
       "      <td>172800.000000</td>\n",
       "    </tr>\n",
       "    <tr>\n",
       "      <th>50%</th>\n",
       "      <td>196.000000</td>\n",
       "      <td>64.500000</td>\n",
       "      <td>63.000000</td>\n",
       "      <td>63.000000</td>\n",
       "      <td>0.000000</td>\n",
       "      <td>62.000000</td>\n",
       "      <td>61.010000</td>\n",
       "      <td>58.000000</td>\n",
       "      <td>69.000000</td>\n",
       "      <td>63.000000</td>\n",
       "      <td>240000.000000</td>\n",
       "    </tr>\n",
       "    <tr>\n",
       "      <th>75%</th>\n",
       "      <td>293.500000</td>\n",
       "      <td>74.000000</td>\n",
       "      <td>72.000000</td>\n",
       "      <td>69.000000</td>\n",
       "      <td>1.000000</td>\n",
       "      <td>78.000000</td>\n",
       "      <td>66.020000</td>\n",
       "      <td>67.000000</td>\n",
       "      <td>74.000000</td>\n",
       "      <td>72.500000</td>\n",
       "      <td>300000.000000</td>\n",
       "    </tr>\n",
       "    <tr>\n",
       "      <th>max</th>\n",
       "      <td>391.000000</td>\n",
       "      <td>87.200000</td>\n",
       "      <td>94.700000</td>\n",
       "      <td>89.000000</td>\n",
       "      <td>3.000000</td>\n",
       "      <td>98.690000</td>\n",
       "      <td>77.890000</td>\n",
       "      <td>88.000000</td>\n",
       "      <td>87.000000</td>\n",
       "      <td>96.000000</td>\n",
       "      <td>940000.000000</td>\n",
       "    </tr>\n",
       "  </tbody>\n",
       "</table>\n",
       "</div>"
      ],
      "text/plain": [
       "             SlNo  Percent_SSC  Percent_HSC  Percent_Degree  Experience_Yrs  \\\n",
       "count  391.000000   391.000000   391.000000      391.000000      391.000000   \n",
       "mean   196.000000    64.652353    63.795294       62.983606        0.478261   \n",
       "std    113.016223    10.960426    11.417726        8.916152        0.667112   \n",
       "min      1.000000    37.000000    40.000000       35.000000        0.000000   \n",
       "25%     98.500000    56.000000    54.000000       57.525000        0.000000   \n",
       "50%    196.000000    64.500000    63.000000       63.000000        0.000000   \n",
       "75%    293.500000    74.000000    72.000000       69.000000        1.000000   \n",
       "max    391.000000    87.200000    94.700000       89.000000        3.000000   \n",
       "\n",
       "       Percentile_ET  Percent_MBA  Marks_Communication  Marks_Projectwork  \\\n",
       "count     391.000000   391.000000           391.000000         391.000000   \n",
       "mean       54.934962    61.667698            60.539642          68.363171   \n",
       "std        31.168264     5.854399             8.824084           7.145095   \n",
       "min         0.000000    50.830000            50.000000          50.000000   \n",
       "25%        41.190000    57.195000            53.000000          64.000000   \n",
       "50%        62.000000    61.010000            58.000000          69.000000   \n",
       "75%        78.000000    66.020000            67.000000          74.000000   \n",
       "max        98.690000    77.890000            88.000000          87.000000   \n",
       "\n",
       "       Marks_BOCA         Salary  \n",
       "count  391.000000     391.000000  \n",
       "mean    64.378517  219078.260870  \n",
       "std      9.582834  138311.647036  \n",
       "min     50.000000       0.000000  \n",
       "25%     57.000000  172800.000000  \n",
       "50%     63.000000  240000.000000  \n",
       "75%     72.500000  300000.000000  \n",
       "max     96.000000  940000.000000  "
      ]
     },
     "execution_count": 5,
     "metadata": {},
     "output_type": "execute_result"
    }
   ],
   "source": [
    "df.describe()"
   ]
  },
  {
   "cell_type": "code",
   "execution_count": 6,
   "metadata": {},
   "outputs": [
    {
     "data": {
      "text/html": [
       "<div>\n",
       "<style scoped>\n",
       "    .dataframe tbody tr th:only-of-type {\n",
       "        vertical-align: middle;\n",
       "    }\n",
       "\n",
       "    .dataframe tbody tr th {\n",
       "        vertical-align: top;\n",
       "    }\n",
       "\n",
       "    .dataframe thead th {\n",
       "        text-align: right;\n",
       "    }\n",
       "</style>\n",
       "<table border=\"1\" class=\"dataframe\">\n",
       "  <thead>\n",
       "    <tr style=\"text-align: right;\">\n",
       "      <th></th>\n",
       "      <th>Gender</th>\n",
       "      <th>Board_SSC</th>\n",
       "      <th>Board_HSC</th>\n",
       "      <th>Stream_HSC</th>\n",
       "      <th>Course_Degree</th>\n",
       "      <th>Entrance_Test</th>\n",
       "      <th>Specialization_MBA</th>\n",
       "      <th>Placement</th>\n",
       "    </tr>\n",
       "  </thead>\n",
       "  <tbody>\n",
       "    <tr>\n",
       "      <th>count</th>\n",
       "      <td>391</td>\n",
       "      <td>391</td>\n",
       "      <td>391</td>\n",
       "      <td>391</td>\n",
       "      <td>391</td>\n",
       "      <td>324</td>\n",
       "      <td>391</td>\n",
       "      <td>391</td>\n",
       "    </tr>\n",
       "    <tr>\n",
       "      <th>unique</th>\n",
       "      <td>2</td>\n",
       "      <td>3</td>\n",
       "      <td>3</td>\n",
       "      <td>3</td>\n",
       "      <td>7</td>\n",
       "      <td>8</td>\n",
       "      <td>3</td>\n",
       "      <td>2</td>\n",
       "    </tr>\n",
       "    <tr>\n",
       "      <th>top</th>\n",
       "      <td>M</td>\n",
       "      <td>Others</td>\n",
       "      <td>Others</td>\n",
       "      <td>Commerce</td>\n",
       "      <td>Management</td>\n",
       "      <td>MAT</td>\n",
       "      <td>Marketing &amp; Finance</td>\n",
       "      <td>Placed</td>\n",
       "    </tr>\n",
       "    <tr>\n",
       "      <th>freq</th>\n",
       "      <td>264</td>\n",
       "      <td>201</td>\n",
       "      <td>247</td>\n",
       "      <td>222</td>\n",
       "      <td>163</td>\n",
       "      <td>265</td>\n",
       "      <td>222</td>\n",
       "      <td>312</td>\n",
       "    </tr>\n",
       "  </tbody>\n",
       "</table>\n",
       "</div>"
      ],
      "text/plain": [
       "       Gender Board_SSC Board_HSC Stream_HSC Course_Degree Entrance_Test  \\\n",
       "count     391       391       391        391           391           324   \n",
       "unique      2         3         3          3             7             8   \n",
       "top         M    Others    Others   Commerce    Management           MAT   \n",
       "freq      264       201       247        222           163           265   \n",
       "\n",
       "         Specialization_MBA Placement  \n",
       "count                   391       391  \n",
       "unique                    3         2  \n",
       "top     Marketing & Finance    Placed  \n",
       "freq                    222       312  "
      ]
     },
     "execution_count": 6,
     "metadata": {},
     "output_type": "execute_result"
    }
   ],
   "source": [
    "df.describe(include = object)"
   ]
  },
  {
   "cell_type": "markdown",
   "metadata": {
    "colab_type": "text",
    "id": "SyZrTtxQ1NhE"
   },
   "source": [
    "### 3.\tCheck for defects in the data. Perform necessary actions to ‘fix’ these defects (5 Marks)\n",
    "\n",
    "Some pointers which would help you, but don’t be limited by these\n",
    "\n",
    "a.\tDo variables have missing/null values?\n",
    "\n",
    "b.\tDo variables have outliers?\n",
    "\n",
    "c.\tIs the data normally distributed? Is it a defect? Why or why not? \n"
   ]
  },
  {
   "cell_type": "markdown",
   "metadata": {},
   "source": [
    "# Handles null values"
   ]
  },
  {
   "cell_type": "code",
   "execution_count": 7,
   "metadata": {
    "scrolled": true
   },
   "outputs": [
    {
     "data": {
      "text/plain": [
       "SlNo                   0.000000\n",
       "Gender                 0.000000\n",
       "Percent_SSC            0.000000\n",
       "Board_SSC              0.000000\n",
       "Percent_HSC            0.000000\n",
       "Board_HSC              0.000000\n",
       "Stream_HSC             0.000000\n",
       "Percent_Degree         0.000000\n",
       "Course_Degree          0.000000\n",
       "Experience_Yrs         0.000000\n",
       "Entrance_Test          0.171355\n",
       "Percentile_ET          0.000000\n",
       "Percent_MBA            0.000000\n",
       "Specialization_MBA     0.000000\n",
       "Marks_Communication    0.000000\n",
       "Marks_Projectwork      0.000000\n",
       "Marks_BOCA             0.000000\n",
       "Placement              0.000000\n",
       "Salary                 0.000000\n",
       "dtype: float64"
      ]
     },
     "execution_count": 7,
     "metadata": {},
     "output_type": "execute_result"
    }
   ],
   "source": [
    "df.isnull().sum()/len(df)"
   ]
  },
  {
   "cell_type": "code",
   "execution_count": 8,
   "metadata": {},
   "outputs": [],
   "source": [
    "# impute with "
   ]
  },
  {
   "cell_type": "code",
   "execution_count": 9,
   "metadata": {},
   "outputs": [
    {
     "data": {
      "text/plain": [
       "MAT      265\n",
       "K-MAT     24\n",
       "CAT       22\n",
       "PGCET      8\n",
       "GCET       2\n",
       "G-MAT      1\n",
       "XAT        1\n",
       "G-SAT      1\n",
       "Name: Entrance_Test, dtype: int64"
      ]
     },
     "execution_count": 9,
     "metadata": {},
     "output_type": "execute_result"
    }
   ],
   "source": [
    "df['Entrance_Test'].value_counts()"
   ]
  },
  {
   "cell_type": "code",
   "execution_count": 10,
   "metadata": {},
   "outputs": [],
   "source": [
    "df['Entrance_Test'].fillna('MAT', inplace = True)"
   ]
  },
  {
   "cell_type": "code",
   "execution_count": 11,
   "metadata": {},
   "outputs": [
    {
     "data": {
      "text/plain": [
       "SlNo                   0.0\n",
       "Gender                 0.0\n",
       "Percent_SSC            0.0\n",
       "Board_SSC              0.0\n",
       "Percent_HSC            0.0\n",
       "Board_HSC              0.0\n",
       "Stream_HSC             0.0\n",
       "Percent_Degree         0.0\n",
       "Course_Degree          0.0\n",
       "Experience_Yrs         0.0\n",
       "Entrance_Test          0.0\n",
       "Percentile_ET          0.0\n",
       "Percent_MBA            0.0\n",
       "Specialization_MBA     0.0\n",
       "Marks_Communication    0.0\n",
       "Marks_Projectwork      0.0\n",
       "Marks_BOCA             0.0\n",
       "Placement              0.0\n",
       "Salary                 0.0\n",
       "dtype: float64"
      ]
     },
     "execution_count": 11,
     "metadata": {},
     "output_type": "execute_result"
    }
   ],
   "source": [
    "df.isnull().sum()/len(df)"
   ]
  },
  {
   "cell_type": "markdown",
   "metadata": {},
   "source": [
    "# Remove Outliers "
   ]
  },
  {
   "cell_type": "code",
   "execution_count": 12,
   "metadata": {
    "scrolled": false
   },
   "outputs": [
    {
     "data": {
      "image/png": "[encoded data removed]",
      "text/plain": [
       "<Figure size 1080x1080 with 11 Axes>"
      ]
     },
     "metadata": {
      "needs_background": "light"
     },
     "output_type": "display_data"
    }
   ],
   "source": [
    "plt.figure(figsize = (15,15))\n",
    "\n",
    "count = 1\n",
    "for i in df.select_dtypes(np.number).columns:\n",
    "    plt.subplot(4,4,count)\n",
    "    sns.boxplot(data = df, x = i)\n",
    "    count+=1\n",
    "plt.show()"
   ]
  },
  {
   "cell_type": "code",
   "execution_count": 13,
   "metadata": {},
   "outputs": [
    {
     "data": {
      "text/plain": [
       "(371, 19)"
      ]
     },
     "execution_count": 13,
     "metadata": {},
     "output_type": "execute_result"
    }
   ],
   "source": [
    "# outlier treatment\n",
    "\n",
    "q1 = df.quantile(0.25)\n",
    "q3 = df.quantile(0.75)\n",
    "\n",
    "iqr = q3 - q1 \n",
    "\n",
    "ul = q3 + 1.5*iqr\n",
    "ll = q1 - 1.5*iqr\n",
    "\n",
    "df_no_out = df[~((df<ll)|(df>ul)).any(axis = 1)]\n",
    "\n",
    "df_no_out.shape"
   ]
  },
  {
   "cell_type": "code",
   "execution_count": 14,
   "metadata": {},
   "outputs": [
    {
     "data": {
      "text/html": [
       "<div>\n",
       "<style scoped>\n",
       "    .dataframe tbody tr th:only-of-type {\n",
       "        vertical-align: middle;\n",
       "    }\n",
       "\n",
       "    .dataframe tbody tr th {\n",
       "        vertical-align: top;\n",
       "    }\n",
       "\n",
       "    .dataframe thead th {\n",
       "        text-align: right;\n",
       "    }\n",
       "</style>\n",
       "<table border=\"1\" class=\"dataframe\">\n",
       "  <thead>\n",
       "    <tr style=\"text-align: right;\">\n",
       "      <th></th>\n",
       "      <th>SlNo</th>\n",
       "      <th>Gender</th>\n",
       "      <th>Percent_SSC</th>\n",
       "      <th>Board_SSC</th>\n",
       "      <th>Percent_HSC</th>\n",
       "      <th>Board_HSC</th>\n",
       "      <th>Stream_HSC</th>\n",
       "      <th>Percent_Degree</th>\n",
       "      <th>Course_Degree</th>\n",
       "      <th>Experience_Yrs</th>\n",
       "      <th>Entrance_Test</th>\n",
       "      <th>Percentile_ET</th>\n",
       "      <th>Percent_MBA</th>\n",
       "      <th>Specialization_MBA</th>\n",
       "      <th>Marks_Communication</th>\n",
       "      <th>Marks_Projectwork</th>\n",
       "      <th>Marks_BOCA</th>\n",
       "      <th>Placement</th>\n",
       "      <th>Salary</th>\n",
       "    </tr>\n",
       "  </thead>\n",
       "  <tbody>\n",
       "    <tr>\n",
       "      <th>0</th>\n",
       "      <td>1</td>\n",
       "      <td>M</td>\n",
       "      <td>62.00</td>\n",
       "      <td>Others</td>\n",
       "      <td>88.00</td>\n",
       "      <td>Others</td>\n",
       "      <td>Commerce</td>\n",
       "      <td>52.00</td>\n",
       "      <td>Science</td>\n",
       "      <td>0</td>\n",
       "      <td>MAT</td>\n",
       "      <td>55.0</td>\n",
       "      <td>58.80</td>\n",
       "      <td>Marketing &amp; HR</td>\n",
       "      <td>50</td>\n",
       "      <td>65</td>\n",
       "      <td>74</td>\n",
       "      <td>Placed</td>\n",
       "      <td>270000</td>\n",
       "    </tr>\n",
       "    <tr>\n",
       "      <th>1</th>\n",
       "      <td>2</td>\n",
       "      <td>M</td>\n",
       "      <td>76.33</td>\n",
       "      <td>ICSE</td>\n",
       "      <td>75.33</td>\n",
       "      <td>Others</td>\n",
       "      <td>Science</td>\n",
       "      <td>75.48</td>\n",
       "      <td>Computer Applications</td>\n",
       "      <td>1</td>\n",
       "      <td>MAT</td>\n",
       "      <td>86.5</td>\n",
       "      <td>66.28</td>\n",
       "      <td>Marketing &amp; Finance</td>\n",
       "      <td>69</td>\n",
       "      <td>70</td>\n",
       "      <td>75</td>\n",
       "      <td>Placed</td>\n",
       "      <td>200000</td>\n",
       "    </tr>\n",
       "    <tr>\n",
       "      <th>2</th>\n",
       "      <td>3</td>\n",
       "      <td>M</td>\n",
       "      <td>72.00</td>\n",
       "      <td>Others</td>\n",
       "      <td>78.00</td>\n",
       "      <td>Others</td>\n",
       "      <td>Commerce</td>\n",
       "      <td>66.63</td>\n",
       "      <td>Engineering</td>\n",
       "      <td>0</td>\n",
       "      <td>MAT</td>\n",
       "      <td>0.0</td>\n",
       "      <td>52.91</td>\n",
       "      <td>Marketing &amp; Finance</td>\n",
       "      <td>50</td>\n",
       "      <td>61</td>\n",
       "      <td>59</td>\n",
       "      <td>Placed</td>\n",
       "      <td>240000</td>\n",
       "    </tr>\n",
       "    <tr>\n",
       "      <th>3</th>\n",
       "      <td>4</td>\n",
       "      <td>M</td>\n",
       "      <td>60.00</td>\n",
       "      <td>CBSE</td>\n",
       "      <td>63.00</td>\n",
       "      <td>CBSE</td>\n",
       "      <td>Arts</td>\n",
       "      <td>58.00</td>\n",
       "      <td>Management</td>\n",
       "      <td>0</td>\n",
       "      <td>MAT</td>\n",
       "      <td>75.0</td>\n",
       "      <td>57.80</td>\n",
       "      <td>Marketing &amp; Finance</td>\n",
       "      <td>54</td>\n",
       "      <td>66</td>\n",
       "      <td>62</td>\n",
       "      <td>Placed</td>\n",
       "      <td>250000</td>\n",
       "    </tr>\n",
       "    <tr>\n",
       "      <th>4</th>\n",
       "      <td>5</td>\n",
       "      <td>M</td>\n",
       "      <td>61.00</td>\n",
       "      <td>CBSE</td>\n",
       "      <td>55.00</td>\n",
       "      <td>ISC</td>\n",
       "      <td>Science</td>\n",
       "      <td>54.00</td>\n",
       "      <td>Engineering</td>\n",
       "      <td>1</td>\n",
       "      <td>MAT</td>\n",
       "      <td>66.0</td>\n",
       "      <td>59.43</td>\n",
       "      <td>Marketing &amp; HR</td>\n",
       "      <td>52</td>\n",
       "      <td>65</td>\n",
       "      <td>67</td>\n",
       "      <td>Placed</td>\n",
       "      <td>180000</td>\n",
       "    </tr>\n",
       "  </tbody>\n",
       "</table>\n",
       "</div>"
      ],
      "text/plain": [
       "   SlNo Gender  Percent_SSC Board_SSC  Percent_HSC Board_HSC Stream_HSC  \\\n",
       "0     1      M        62.00    Others        88.00    Others   Commerce   \n",
       "1     2      M        76.33      ICSE        75.33    Others    Science   \n",
       "2     3      M        72.00    Others        78.00    Others   Commerce   \n",
       "3     4      M        60.00      CBSE        63.00      CBSE       Arts   \n",
       "4     5      M        61.00      CBSE        55.00       ISC    Science   \n",
       "\n",
       "   Percent_Degree          Course_Degree  Experience_Yrs Entrance_Test  \\\n",
       "0           52.00                Science               0           MAT   \n",
       "1           75.48  Computer Applications               1           MAT   \n",
       "2           66.63            Engineering               0           MAT   \n",
       "3           58.00             Management               0           MAT   \n",
       "4           54.00            Engineering               1           MAT   \n",
       "\n",
       "   Percentile_ET  Percent_MBA   Specialization_MBA  Marks_Communication  \\\n",
       "0           55.0        58.80       Marketing & HR                   50   \n",
       "1           86.5        66.28  Marketing & Finance                   69   \n",
       "2            0.0        52.91  Marketing & Finance                   50   \n",
       "3           75.0        57.80  Marketing & Finance                   54   \n",
       "4           66.0        59.43       Marketing & HR                   52   \n",
       "\n",
       "   Marks_Projectwork  Marks_BOCA Placement  Salary  \n",
       "0                 65          74    Placed  270000  \n",
       "1                 70          75    Placed  200000  \n",
       "2                 61          59    Placed  240000  \n",
       "3                 66          62    Placed  250000  \n",
       "4                 65          67    Placed  180000  "
      ]
     },
     "execution_count": 14,
     "metadata": {},
     "output_type": "execute_result"
    }
   ],
   "source": [
    "df_no_out.head()"
   ]
  },
  {
   "cell_type": "markdown",
   "metadata": {},
   "source": [
    "# Transform the target"
   ]
  },
  {
   "cell_type": "code",
   "execution_count": 15,
   "metadata": {},
   "outputs": [],
   "source": [
    "from sklearn.preprocessing import PowerTransformer"
   ]
  },
  {
   "cell_type": "code",
   "execution_count": 16,
   "metadata": {},
   "outputs": [
    {
     "data": {
      "text/plain": [
       "SlNo                   0.030474\n",
       "Percent_SSC           -0.035439\n",
       "Percent_HSC            0.286404\n",
       "Percent_Degree         0.112492\n",
       "Experience_Yrs         1.050736\n",
       "Percentile_ET         -0.739794\n",
       "Percent_MBA            0.357060\n",
       "Marks_Communication    0.729588\n",
       "Marks_Projectwork     -0.255740\n",
       "Marks_BOCA             0.250874\n",
       "Salary                -0.525646\n",
       "dtype: float64"
      ]
     },
     "execution_count": 16,
     "metadata": {},
     "output_type": "execute_result"
    }
   ],
   "source": [
    "df_no_out.skew()"
   ]
  },
  {
   "cell_type": "code",
   "execution_count": 17,
   "metadata": {},
   "outputs": [],
   "source": [
    "pt = PowerTransformer()\n",
    "\n",
    "df_no_out['Salary_transformed'] = pt.fit_transform(df_no_out[['Salary']])\n",
    "\n",
    "df_no_out.drop('Salary', axis = 1, inplace = True, errors = 'ignore')"
   ]
  },
  {
   "cell_type": "code",
   "execution_count": 18,
   "metadata": {
    "scrolled": false
   },
   "outputs": [
    {
     "data": {
      "text/html": [
       "<div>\n",
       "<style scoped>\n",
       "    .dataframe tbody tr th:only-of-type {\n",
       "        vertical-align: middle;\n",
       "    }\n",
       "\n",
       "    .dataframe tbody tr th {\n",
       "        vertical-align: top;\n",
       "    }\n",
       "\n",
       "    .dataframe thead th {\n",
       "        text-align: right;\n",
       "    }\n",
       "</style>\n",
       "<table border=\"1\" class=\"dataframe\">\n",
       "  <thead>\n",
       "    <tr style=\"text-align: right;\">\n",
       "      <th></th>\n",
       "      <th>SlNo</th>\n",
       "      <th>Gender</th>\n",
       "      <th>Percent_SSC</th>\n",
       "      <th>Board_SSC</th>\n",
       "      <th>Percent_HSC</th>\n",
       "      <th>Board_HSC</th>\n",
       "      <th>Stream_HSC</th>\n",
       "      <th>Percent_Degree</th>\n",
       "      <th>Course_Degree</th>\n",
       "      <th>Experience_Yrs</th>\n",
       "      <th>Entrance_Test</th>\n",
       "      <th>Percentile_ET</th>\n",
       "      <th>Percent_MBA</th>\n",
       "      <th>Specialization_MBA</th>\n",
       "      <th>Marks_Communication</th>\n",
       "      <th>Marks_Projectwork</th>\n",
       "      <th>Marks_BOCA</th>\n",
       "      <th>Placement</th>\n",
       "      <th>Salary_transformed</th>\n",
       "    </tr>\n",
       "  </thead>\n",
       "  <tbody>\n",
       "    <tr>\n",
       "      <th>0</th>\n",
       "      <td>1</td>\n",
       "      <td>M</td>\n",
       "      <td>62.00</td>\n",
       "      <td>Others</td>\n",
       "      <td>88.00</td>\n",
       "      <td>Others</td>\n",
       "      <td>Commerce</td>\n",
       "      <td>52.00</td>\n",
       "      <td>Science</td>\n",
       "      <td>0</td>\n",
       "      <td>MAT</td>\n",
       "      <td>55.0</td>\n",
       "      <td>58.80</td>\n",
       "      <td>Marketing &amp; HR</td>\n",
       "      <td>50</td>\n",
       "      <td>65</td>\n",
       "      <td>74</td>\n",
       "      <td>Placed</td>\n",
       "      <td>0.544474</td>\n",
       "    </tr>\n",
       "    <tr>\n",
       "      <th>1</th>\n",
       "      <td>2</td>\n",
       "      <td>M</td>\n",
       "      <td>76.33</td>\n",
       "      <td>ICSE</td>\n",
       "      <td>75.33</td>\n",
       "      <td>Others</td>\n",
       "      <td>Science</td>\n",
       "      <td>75.48</td>\n",
       "      <td>Computer Applications</td>\n",
       "      <td>1</td>\n",
       "      <td>MAT</td>\n",
       "      <td>86.5</td>\n",
       "      <td>66.28</td>\n",
       "      <td>Marketing &amp; Finance</td>\n",
       "      <td>69</td>\n",
       "      <td>70</td>\n",
       "      <td>75</td>\n",
       "      <td>Placed</td>\n",
       "      <td>0.302720</td>\n",
       "    </tr>\n",
       "    <tr>\n",
       "      <th>2</th>\n",
       "      <td>3</td>\n",
       "      <td>M</td>\n",
       "      <td>72.00</td>\n",
       "      <td>Others</td>\n",
       "      <td>78.00</td>\n",
       "      <td>Others</td>\n",
       "      <td>Commerce</td>\n",
       "      <td>66.63</td>\n",
       "      <td>Engineering</td>\n",
       "      <td>0</td>\n",
       "      <td>MAT</td>\n",
       "      <td>0.0</td>\n",
       "      <td>52.91</td>\n",
       "      <td>Marketing &amp; Finance</td>\n",
       "      <td>50</td>\n",
       "      <td>61</td>\n",
       "      <td>59</td>\n",
       "      <td>Placed</td>\n",
       "      <td>0.446625</td>\n",
       "    </tr>\n",
       "    <tr>\n",
       "      <th>3</th>\n",
       "      <td>4</td>\n",
       "      <td>M</td>\n",
       "      <td>60.00</td>\n",
       "      <td>CBSE</td>\n",
       "      <td>63.00</td>\n",
       "      <td>CBSE</td>\n",
       "      <td>Arts</td>\n",
       "      <td>58.00</td>\n",
       "      <td>Management</td>\n",
       "      <td>0</td>\n",
       "      <td>MAT</td>\n",
       "      <td>75.0</td>\n",
       "      <td>57.80</td>\n",
       "      <td>Marketing &amp; Finance</td>\n",
       "      <td>54</td>\n",
       "      <td>66</td>\n",
       "      <td>62</td>\n",
       "      <td>Placed</td>\n",
       "      <td>0.480093</td>\n",
       "    </tr>\n",
       "    <tr>\n",
       "      <th>4</th>\n",
       "      <td>5</td>\n",
       "      <td>M</td>\n",
       "      <td>61.00</td>\n",
       "      <td>CBSE</td>\n",
       "      <td>55.00</td>\n",
       "      <td>ISC</td>\n",
       "      <td>Science</td>\n",
       "      <td>54.00</td>\n",
       "      <td>Engineering</td>\n",
       "      <td>1</td>\n",
       "      <td>MAT</td>\n",
       "      <td>66.0</td>\n",
       "      <td>59.43</td>\n",
       "      <td>Marketing &amp; HR</td>\n",
       "      <td>52</td>\n",
       "      <td>65</td>\n",
       "      <td>67</td>\n",
       "      <td>Placed</td>\n",
       "      <td>0.223560</td>\n",
       "    </tr>\n",
       "  </tbody>\n",
       "</table>\n",
       "</div>"
      ],
      "text/plain": [
       "   SlNo Gender  Percent_SSC Board_SSC  Percent_HSC Board_HSC Stream_HSC  \\\n",
       "0     1      M        62.00    Others        88.00    Others   Commerce   \n",
       "1     2      M        76.33      ICSE        75.33    Others    Science   \n",
       "2     3      M        72.00    Others        78.00    Others   Commerce   \n",
       "3     4      M        60.00      CBSE        63.00      CBSE       Arts   \n",
       "4     5      M        61.00      CBSE        55.00       ISC    Science   \n",
       "\n",
       "   Percent_Degree          Course_Degree  Experience_Yrs Entrance_Test  \\\n",
       "0           52.00                Science               0           MAT   \n",
       "1           75.48  Computer Applications               1           MAT   \n",
       "2           66.63            Engineering               0           MAT   \n",
       "3           58.00             Management               0           MAT   \n",
       "4           54.00            Engineering               1           MAT   \n",
       "\n",
       "   Percentile_ET  Percent_MBA   Specialization_MBA  Marks_Communication  \\\n",
       "0           55.0        58.80       Marketing & HR                   50   \n",
       "1           86.5        66.28  Marketing & Finance                   69   \n",
       "2            0.0        52.91  Marketing & Finance                   50   \n",
       "3           75.0        57.80  Marketing & Finance                   54   \n",
       "4           66.0        59.43       Marketing & HR                   52   \n",
       "\n",
       "   Marks_Projectwork  Marks_BOCA Placement  Salary_transformed  \n",
       "0                 65          74    Placed            0.544474  \n",
       "1                 70          75    Placed            0.302720  \n",
       "2                 61          59    Placed            0.446625  \n",
       "3                 66          62    Placed            0.480093  \n",
       "4                 65          67    Placed            0.223560  "
      ]
     },
     "execution_count": 18,
     "metadata": {},
     "output_type": "execute_result"
    }
   ],
   "source": [
    "df_no_out.head()"
   ]
  },
  {
   "cell_type": "code",
   "execution_count": 19,
   "metadata": {},
   "outputs": [
    {
     "data": {
      "text/plain": [
       "SlNo                   0.030474\n",
       "Percent_SSC           -0.035439\n",
       "Percent_HSC            0.286404\n",
       "Percent_Degree         0.112492\n",
       "Experience_Yrs         1.050736\n",
       "Percentile_ET         -0.739794\n",
       "Percent_MBA            0.357060\n",
       "Marks_Communication    0.729588\n",
       "Marks_Projectwork     -0.255740\n",
       "Marks_BOCA             0.250874\n",
       "Salary_transformed    -1.287303\n",
       "dtype: float64"
      ]
     },
     "execution_count": 19,
     "metadata": {},
     "output_type": "execute_result"
    }
   ],
   "source": [
    "df_no_out.skew()"
   ]
  },
  {
   "cell_type": "markdown",
   "metadata": {
    "colab_type": "text",
    "id": "0rtqRxQC1NhM"
   },
   "source": [
    "### 4.\tSummarize relationships among variables (10 marks)  \n",
    "\n",
    "a.\tPlot correlation plots. Which are the variables most correlated with Target? Which independent variables are correlated among themselves? Do you want to exclude some variables from the model based on this analysis? What other actions will you take?\n",
    "\n",
    "b.\tPlot all independent variables with the target. Are all relationships linear? If not, what steps would you take based on this information?\n",
    "\n",
    " Hint: based on your observations you may want to transform features or create additional features.\n"
   ]
  },
  {
   "cell_type": "code",
   "execution_count": 20,
   "metadata": {
    "colab": {},
    "colab_type": "code",
    "id": "R18J1jhx1NhN"
   },
   "outputs": [
    {
     "data": {
      "text/plain": [
       "<AxesSubplot:>"
      ]
     },
     "execution_count": 20,
     "metadata": {},
     "output_type": "execute_result"
    },
    {
     "data": {
      "image/png": "[encoded data removed]",
      "text/plain": [
       "<Figure size 1152x720 with 2 Axes>"
      ]
     },
     "metadata": {
      "needs_background": "light"
     },
     "output_type": "display_data"
    }
   ],
   "source": [
    "plt.figure(figsize = (16,10))\n",
    "sns.heatmap(df.corr(), annot = True)"
   ]
  },
  {
   "cell_type": "code",
   "execution_count": 21,
   "metadata": {},
   "outputs": [
    {
     "data": {
      "image/png": "[encoded data removed]",
      "text/plain": [
       "<Figure size 1440x2160 with 11 Axes>"
      ]
     },
     "metadata": {
      "needs_background": "light"
     },
     "output_type": "display_data"
    }
   ],
   "source": [
    "plt.figure(figsize = (20,30))\n",
    "\n",
    "count = 1\n",
    "\n",
    "for i in df_no_out.select_dtypes(np.number).columns:\n",
    "    plt.subplot(6,3,count)\n",
    "    sns.scatterplot(data = df_no_out, x =i, y = 'Salary_transformed')\n",
    "    count+=1"
   ]
  },
  {
   "cell_type": "code",
   "execution_count": 22,
   "metadata": {},
   "outputs": [],
   "source": [
    "df_1 = df_no_out.drop(['SlNo','Marks_Communication'], axis = 1)"
   ]
  },
  {
   "cell_type": "code",
   "execution_count": 23,
   "metadata": {},
   "outputs": [
    {
     "data": {
      "text/html": [
       "<div>\n",
       "<style scoped>\n",
       "    .dataframe tbody tr th:only-of-type {\n",
       "        vertical-align: middle;\n",
       "    }\n",
       "\n",
       "    .dataframe tbody tr th {\n",
       "        vertical-align: top;\n",
       "    }\n",
       "\n",
       "    .dataframe thead th {\n",
       "        text-align: right;\n",
       "    }\n",
       "</style>\n",
       "<table border=\"1\" class=\"dataframe\">\n",
       "  <thead>\n",
       "    <tr style=\"text-align: right;\">\n",
       "      <th></th>\n",
       "      <th>Gender</th>\n",
       "      <th>Percent_SSC</th>\n",
       "      <th>Board_SSC</th>\n",
       "      <th>Percent_HSC</th>\n",
       "      <th>Board_HSC</th>\n",
       "      <th>Stream_HSC</th>\n",
       "      <th>Percent_Degree</th>\n",
       "      <th>Course_Degree</th>\n",
       "      <th>Experience_Yrs</th>\n",
       "      <th>Entrance_Test</th>\n",
       "      <th>Percentile_ET</th>\n",
       "      <th>Percent_MBA</th>\n",
       "      <th>Specialization_MBA</th>\n",
       "      <th>Marks_Projectwork</th>\n",
       "      <th>Marks_BOCA</th>\n",
       "      <th>Placement</th>\n",
       "      <th>Salary_transformed</th>\n",
       "    </tr>\n",
       "  </thead>\n",
       "  <tbody>\n",
       "    <tr>\n",
       "      <th>0</th>\n",
       "      <td>M</td>\n",
       "      <td>62.00</td>\n",
       "      <td>Others</td>\n",
       "      <td>88.00</td>\n",
       "      <td>Others</td>\n",
       "      <td>Commerce</td>\n",
       "      <td>52.00</td>\n",
       "      <td>Science</td>\n",
       "      <td>0</td>\n",
       "      <td>MAT</td>\n",
       "      <td>55.0</td>\n",
       "      <td>58.80</td>\n",
       "      <td>Marketing &amp; HR</td>\n",
       "      <td>65</td>\n",
       "      <td>74</td>\n",
       "      <td>Placed</td>\n",
       "      <td>0.544474</td>\n",
       "    </tr>\n",
       "    <tr>\n",
       "      <th>1</th>\n",
       "      <td>M</td>\n",
       "      <td>76.33</td>\n",
       "      <td>ICSE</td>\n",
       "      <td>75.33</td>\n",
       "      <td>Others</td>\n",
       "      <td>Science</td>\n",
       "      <td>75.48</td>\n",
       "      <td>Computer Applications</td>\n",
       "      <td>1</td>\n",
       "      <td>MAT</td>\n",
       "      <td>86.5</td>\n",
       "      <td>66.28</td>\n",
       "      <td>Marketing &amp; Finance</td>\n",
       "      <td>70</td>\n",
       "      <td>75</td>\n",
       "      <td>Placed</td>\n",
       "      <td>0.302720</td>\n",
       "    </tr>\n",
       "    <tr>\n",
       "      <th>2</th>\n",
       "      <td>M</td>\n",
       "      <td>72.00</td>\n",
       "      <td>Others</td>\n",
       "      <td>78.00</td>\n",
       "      <td>Others</td>\n",
       "      <td>Commerce</td>\n",
       "      <td>66.63</td>\n",
       "      <td>Engineering</td>\n",
       "      <td>0</td>\n",
       "      <td>MAT</td>\n",
       "      <td>0.0</td>\n",
       "      <td>52.91</td>\n",
       "      <td>Marketing &amp; Finance</td>\n",
       "      <td>61</td>\n",
       "      <td>59</td>\n",
       "      <td>Placed</td>\n",
       "      <td>0.446625</td>\n",
       "    </tr>\n",
       "    <tr>\n",
       "      <th>3</th>\n",
       "      <td>M</td>\n",
       "      <td>60.00</td>\n",
       "      <td>CBSE</td>\n",
       "      <td>63.00</td>\n",
       "      <td>CBSE</td>\n",
       "      <td>Arts</td>\n",
       "      <td>58.00</td>\n",
       "      <td>Management</td>\n",
       "      <td>0</td>\n",
       "      <td>MAT</td>\n",
       "      <td>75.0</td>\n",
       "      <td>57.80</td>\n",
       "      <td>Marketing &amp; Finance</td>\n",
       "      <td>66</td>\n",
       "      <td>62</td>\n",
       "      <td>Placed</td>\n",
       "      <td>0.480093</td>\n",
       "    </tr>\n",
       "    <tr>\n",
       "      <th>4</th>\n",
       "      <td>M</td>\n",
       "      <td>61.00</td>\n",
       "      <td>CBSE</td>\n",
       "      <td>55.00</td>\n",
       "      <td>ISC</td>\n",
       "      <td>Science</td>\n",
       "      <td>54.00</td>\n",
       "      <td>Engineering</td>\n",
       "      <td>1</td>\n",
       "      <td>MAT</td>\n",
       "      <td>66.0</td>\n",
       "      <td>59.43</td>\n",
       "      <td>Marketing &amp; HR</td>\n",
       "      <td>65</td>\n",
       "      <td>67</td>\n",
       "      <td>Placed</td>\n",
       "      <td>0.223560</td>\n",
       "    </tr>\n",
       "  </tbody>\n",
       "</table>\n",
       "</div>"
      ],
      "text/plain": [
       "  Gender  Percent_SSC Board_SSC  Percent_HSC Board_HSC Stream_HSC  \\\n",
       "0      M        62.00    Others        88.00    Others   Commerce   \n",
       "1      M        76.33      ICSE        75.33    Others    Science   \n",
       "2      M        72.00    Others        78.00    Others   Commerce   \n",
       "3      M        60.00      CBSE        63.00      CBSE       Arts   \n",
       "4      M        61.00      CBSE        55.00       ISC    Science   \n",
       "\n",
       "   Percent_Degree          Course_Degree  Experience_Yrs Entrance_Test  \\\n",
       "0           52.00                Science               0           MAT   \n",
       "1           75.48  Computer Applications               1           MAT   \n",
       "2           66.63            Engineering               0           MAT   \n",
       "3           58.00             Management               0           MAT   \n",
       "4           54.00            Engineering               1           MAT   \n",
       "\n",
       "   Percentile_ET  Percent_MBA   Specialization_MBA  Marks_Projectwork  \\\n",
       "0           55.0        58.80       Marketing & HR                 65   \n",
       "1           86.5        66.28  Marketing & Finance                 70   \n",
       "2            0.0        52.91  Marketing & Finance                 61   \n",
       "3           75.0        57.80  Marketing & Finance                 66   \n",
       "4           66.0        59.43       Marketing & HR                 65   \n",
       "\n",
       "   Marks_BOCA Placement  Salary_transformed  \n",
       "0          74    Placed            0.544474  \n",
       "1          75    Placed            0.302720  \n",
       "2          59    Placed            0.446625  \n",
       "3          62    Placed            0.480093  \n",
       "4          67    Placed            0.223560  "
      ]
     },
     "execution_count": 23,
     "metadata": {},
     "output_type": "execute_result"
    }
   ],
   "source": [
    "df_1.head()"
   ]
  },
  {
   "cell_type": "markdown",
   "metadata": {},
   "source": [
    "# Remove Multicollinearity with VIF"
   ]
  },
  {
   "cell_type": "code",
   "execution_count": 24,
   "metadata": {},
   "outputs": [],
   "source": [
    "from statsmodels.stats.outliers_influence import variance_inflation_factor"
   ]
  },
  {
   "cell_type": "code",
   "execution_count": 25,
   "metadata": {},
   "outputs": [],
   "source": [
    "def vif(df_num):\n",
    "    \n",
    "    \n",
    "    for i in range(10):\n",
    "        vif_vals = [variance_inflation_factor(df_num.values,i) for i in range(len(df_num.columns))]\n",
    "            \n",
    "        multi = pd.DataFrame({'Features':df_num.columns, 'VIF':vif_vals})\n",
    "            \n",
    "        multi.sort_values(by = 'VIF', ascending = False, inplace = True)\n",
    "        print(multi)\n",
    "        \n",
    "        if (multi['VIF']>5).sum()>0 :\n",
    "            multi = multi.iloc[1:,:]\n",
    "        else:\n",
    "            break\n",
    "            \n",
    "        df_num = df_num[multi.Features]\n",
    "        \n",
    "        \n",
    "    return multi.Features"
   ]
  },
  {
   "cell_type": "code",
   "execution_count": 26,
   "metadata": {
    "scrolled": true
   },
   "outputs": [
    {
     "data": {
      "text/html": [
       "<div>\n",
       "<style scoped>\n",
       "    .dataframe tbody tr th:only-of-type {\n",
       "        vertical-align: middle;\n",
       "    }\n",
       "\n",
       "    .dataframe tbody tr th {\n",
       "        vertical-align: top;\n",
       "    }\n",
       "\n",
       "    .dataframe thead th {\n",
       "        text-align: right;\n",
       "    }\n",
       "</style>\n",
       "<table border=\"1\" class=\"dataframe\">\n",
       "  <thead>\n",
       "    <tr style=\"text-align: right;\">\n",
       "      <th></th>\n",
       "      <th>Percent_SSC</th>\n",
       "      <th>Percent_HSC</th>\n",
       "      <th>Percent_Degree</th>\n",
       "      <th>Experience_Yrs</th>\n",
       "      <th>Percentile_ET</th>\n",
       "      <th>Percent_MBA</th>\n",
       "      <th>Marks_Projectwork</th>\n",
       "      <th>Marks_BOCA</th>\n",
       "    </tr>\n",
       "  </thead>\n",
       "  <tbody>\n",
       "    <tr>\n",
       "      <th>0</th>\n",
       "      <td>62.00</td>\n",
       "      <td>88.00</td>\n",
       "      <td>52.00</td>\n",
       "      <td>0</td>\n",
       "      <td>55.0</td>\n",
       "      <td>58.80</td>\n",
       "      <td>65</td>\n",
       "      <td>74</td>\n",
       "    </tr>\n",
       "    <tr>\n",
       "      <th>1</th>\n",
       "      <td>76.33</td>\n",
       "      <td>75.33</td>\n",
       "      <td>75.48</td>\n",
       "      <td>1</td>\n",
       "      <td>86.5</td>\n",
       "      <td>66.28</td>\n",
       "      <td>70</td>\n",
       "      <td>75</td>\n",
       "    </tr>\n",
       "    <tr>\n",
       "      <th>2</th>\n",
       "      <td>72.00</td>\n",
       "      <td>78.00</td>\n",
       "      <td>66.63</td>\n",
       "      <td>0</td>\n",
       "      <td>0.0</td>\n",
       "      <td>52.91</td>\n",
       "      <td>61</td>\n",
       "      <td>59</td>\n",
       "    </tr>\n",
       "    <tr>\n",
       "      <th>3</th>\n",
       "      <td>60.00</td>\n",
       "      <td>63.00</td>\n",
       "      <td>58.00</td>\n",
       "      <td>0</td>\n",
       "      <td>75.0</td>\n",
       "      <td>57.80</td>\n",
       "      <td>66</td>\n",
       "      <td>62</td>\n",
       "    </tr>\n",
       "    <tr>\n",
       "      <th>4</th>\n",
       "      <td>61.00</td>\n",
       "      <td>55.00</td>\n",
       "      <td>54.00</td>\n",
       "      <td>1</td>\n",
       "      <td>66.0</td>\n",
       "      <td>59.43</td>\n",
       "      <td>65</td>\n",
       "      <td>67</td>\n",
       "    </tr>\n",
       "  </tbody>\n",
       "</table>\n",
       "</div>"
      ],
      "text/plain": [
       "   Percent_SSC  Percent_HSC  Percent_Degree  Experience_Yrs  Percentile_ET  \\\n",
       "0        62.00        88.00           52.00               0           55.0   \n",
       "1        76.33        75.33           75.48               1           86.5   \n",
       "2        72.00        78.00           66.63               0            0.0   \n",
       "3        60.00        63.00           58.00               0           75.0   \n",
       "4        61.00        55.00           54.00               1           66.0   \n",
       "\n",
       "   Percent_MBA  Marks_Projectwork  Marks_BOCA  \n",
       "0        58.80                 65          74  \n",
       "1        66.28                 70          75  \n",
       "2        52.91                 61          59  \n",
       "3        57.80                 66          62  \n",
       "4        59.43                 65          67  "
      ]
     },
     "execution_count": 26,
     "metadata": {},
     "output_type": "execute_result"
    }
   ],
   "source": [
    "df_num = df_1.select_dtypes(np.number).drop('Salary_transformed', axis = 1)\n",
    "df_num.head()"
   ]
  },
  {
   "cell_type": "code",
   "execution_count": 27,
   "metadata": {},
   "outputs": [
    {
     "name": "stdout",
     "output_type": "stream",
     "text": [
      "            Features         VIF\n",
      "5        Percent_MBA  215.467122\n",
      "6  Marks_Projectwork   93.126508\n",
      "2     Percent_Degree   75.437606\n",
      "7         Marks_BOCA   62.806865\n",
      "0        Percent_SSC   53.774558\n",
      "1        Percent_HSC   42.606772\n",
      "4      Percentile_ET    4.360568\n",
      "3     Experience_Yrs    1.630573\n",
      "            Features        VIF\n",
      "1     Percent_Degree  68.061513\n",
      "0  Marks_Projectwork  65.090660\n",
      "2         Marks_BOCA  54.555154\n",
      "3        Percent_SSC  48.204948\n",
      "4        Percent_HSC  40.703138\n",
      "5      Percentile_ET   4.360288\n",
      "6     Experience_Yrs   1.607157\n",
      "            Features        VIF\n",
      "0  Marks_Projectwork  58.333536\n",
      "1         Marks_BOCA  50.500208\n",
      "2        Percent_SSC  44.008818\n",
      "3        Percent_HSC  38.376711\n",
      "4      Percentile_ET   4.340184\n",
      "5     Experience_Yrs   1.592484\n",
      "         Features        VIF\n",
      "1     Percent_SSC  42.101511\n",
      "0      Marks_BOCA  35.071908\n",
      "2     Percent_HSC  33.832799\n",
      "3   Percentile_ET   4.319692\n",
      "4  Experience_Yrs   1.585271\n",
      "         Features        VIF\n",
      "0      Marks_BOCA  25.752405\n",
      "1     Percent_HSC  23.831885\n",
      "2   Percentile_ET   4.235966\n",
      "3  Experience_Yrs   1.583548\n",
      "         Features       VIF\n",
      "0     Percent_HSC  4.466169\n",
      "1   Percentile_ET  4.044090\n",
      "2  Experience_Yrs  1.480865\n"
     ]
    },
    {
     "data": {
      "text/plain": [
       "0       Percent_HSC\n",
       "1     Percentile_ET\n",
       "2    Experience_Yrs\n",
       "Name: Features, dtype: object"
      ]
     },
     "execution_count": 27,
     "metadata": {},
     "output_type": "execute_result"
    }
   ],
   "source": [
    "vif(df_num)"
   ]
  },
  {
   "cell_type": "code",
   "execution_count": 28,
   "metadata": {},
   "outputs": [],
   "source": [
    "# variables selected using VIF including target\n",
    "\n",
    "df_selected_vif = df_1[['Percentile_ET','Experience_Yrs','Percent_HSC','Salary_transformed']]"
   ]
  },
  {
   "cell_type": "markdown",
   "metadata": {},
   "source": [
    "# Encode Categorical Variables"
   ]
  },
  {
   "cell_type": "code",
   "execution_count": 29,
   "metadata": {},
   "outputs": [],
   "source": [
    "df_cat = df_1.select_dtypes(object)"
   ]
  },
  {
   "cell_type": "code",
   "execution_count": 30,
   "metadata": {},
   "outputs": [],
   "source": [
    "df_cat_encoded = pd.get_dummies(df_cat, drop_first=True)"
   ]
  },
  {
   "cell_type": "code",
   "execution_count": 31,
   "metadata": {
    "scrolled": true
   },
   "outputs": [
    {
     "data": {
      "text/html": [
       "<div>\n",
       "<style scoped>\n",
       "    .dataframe tbody tr th:only-of-type {\n",
       "        vertical-align: middle;\n",
       "    }\n",
       "\n",
       "    .dataframe tbody tr th {\n",
       "        vertical-align: top;\n",
       "    }\n",
       "\n",
       "    .dataframe thead th {\n",
       "        text-align: right;\n",
       "    }\n",
       "</style>\n",
       "<table border=\"1\" class=\"dataframe\">\n",
       "  <thead>\n",
       "    <tr style=\"text-align: right;\">\n",
       "      <th></th>\n",
       "      <th>Gender_M</th>\n",
       "      <th>Board_SSC_ICSE</th>\n",
       "      <th>Board_SSC_Others</th>\n",
       "      <th>Board_HSC_ISC</th>\n",
       "      <th>Board_HSC_Others</th>\n",
       "      <th>Stream_HSC_Commerce</th>\n",
       "      <th>Stream_HSC_Science</th>\n",
       "      <th>Course_Degree_Commerce</th>\n",
       "      <th>Course_Degree_Computer Applications</th>\n",
       "      <th>Course_Degree_Engineering</th>\n",
       "      <th>...</th>\n",
       "      <th>Entrance_Test_G-MAT</th>\n",
       "      <th>Entrance_Test_G-SAT</th>\n",
       "      <th>Entrance_Test_GCET</th>\n",
       "      <th>Entrance_Test_K-MAT</th>\n",
       "      <th>Entrance_Test_MAT</th>\n",
       "      <th>Entrance_Test_PGCET</th>\n",
       "      <th>Entrance_Test_XAT</th>\n",
       "      <th>Specialization_MBA_Marketing &amp; HR</th>\n",
       "      <th>Specialization_MBA_Marketing &amp; IB</th>\n",
       "      <th>Placement_Placed</th>\n",
       "    </tr>\n",
       "  </thead>\n",
       "  <tbody>\n",
       "    <tr>\n",
       "      <th>0</th>\n",
       "      <td>1</td>\n",
       "      <td>0</td>\n",
       "      <td>1</td>\n",
       "      <td>0</td>\n",
       "      <td>1</td>\n",
       "      <td>1</td>\n",
       "      <td>0</td>\n",
       "      <td>0</td>\n",
       "      <td>0</td>\n",
       "      <td>0</td>\n",
       "      <td>...</td>\n",
       "      <td>0</td>\n",
       "      <td>0</td>\n",
       "      <td>0</td>\n",
       "      <td>0</td>\n",
       "      <td>1</td>\n",
       "      <td>0</td>\n",
       "      <td>0</td>\n",
       "      <td>1</td>\n",
       "      <td>0</td>\n",
       "      <td>1</td>\n",
       "    </tr>\n",
       "    <tr>\n",
       "      <th>1</th>\n",
       "      <td>1</td>\n",
       "      <td>1</td>\n",
       "      <td>0</td>\n",
       "      <td>0</td>\n",
       "      <td>1</td>\n",
       "      <td>0</td>\n",
       "      <td>1</td>\n",
       "      <td>0</td>\n",
       "      <td>1</td>\n",
       "      <td>0</td>\n",
       "      <td>...</td>\n",
       "      <td>0</td>\n",
       "      <td>0</td>\n",
       "      <td>0</td>\n",
       "      <td>0</td>\n",
       "      <td>1</td>\n",
       "      <td>0</td>\n",
       "      <td>0</td>\n",
       "      <td>0</td>\n",
       "      <td>0</td>\n",
       "      <td>1</td>\n",
       "    </tr>\n",
       "    <tr>\n",
       "      <th>2</th>\n",
       "      <td>1</td>\n",
       "      <td>0</td>\n",
       "      <td>1</td>\n",
       "      <td>0</td>\n",
       "      <td>1</td>\n",
       "      <td>1</td>\n",
       "      <td>0</td>\n",
       "      <td>0</td>\n",
       "      <td>0</td>\n",
       "      <td>1</td>\n",
       "      <td>...</td>\n",
       "      <td>0</td>\n",
       "      <td>0</td>\n",
       "      <td>0</td>\n",
       "      <td>0</td>\n",
       "      <td>1</td>\n",
       "      <td>0</td>\n",
       "      <td>0</td>\n",
       "      <td>0</td>\n",
       "      <td>0</td>\n",
       "      <td>1</td>\n",
       "    </tr>\n",
       "    <tr>\n",
       "      <th>3</th>\n",
       "      <td>1</td>\n",
       "      <td>0</td>\n",
       "      <td>0</td>\n",
       "      <td>0</td>\n",
       "      <td>0</td>\n",
       "      <td>0</td>\n",
       "      <td>0</td>\n",
       "      <td>0</td>\n",
       "      <td>0</td>\n",
       "      <td>0</td>\n",
       "      <td>...</td>\n",
       "      <td>0</td>\n",
       "      <td>0</td>\n",
       "      <td>0</td>\n",
       "      <td>0</td>\n",
       "      <td>1</td>\n",
       "      <td>0</td>\n",
       "      <td>0</td>\n",
       "      <td>0</td>\n",
       "      <td>0</td>\n",
       "      <td>1</td>\n",
       "    </tr>\n",
       "    <tr>\n",
       "      <th>4</th>\n",
       "      <td>1</td>\n",
       "      <td>0</td>\n",
       "      <td>0</td>\n",
       "      <td>1</td>\n",
       "      <td>0</td>\n",
       "      <td>0</td>\n",
       "      <td>1</td>\n",
       "      <td>0</td>\n",
       "      <td>0</td>\n",
       "      <td>1</td>\n",
       "      <td>...</td>\n",
       "      <td>0</td>\n",
       "      <td>0</td>\n",
       "      <td>0</td>\n",
       "      <td>0</td>\n",
       "      <td>1</td>\n",
       "      <td>0</td>\n",
       "      <td>0</td>\n",
       "      <td>1</td>\n",
       "      <td>0</td>\n",
       "      <td>1</td>\n",
       "    </tr>\n",
       "  </tbody>\n",
       "</table>\n",
       "<p>5 rows × 23 columns</p>\n",
       "</div>"
      ],
      "text/plain": [
       "   Gender_M  Board_SSC_ICSE  Board_SSC_Others  Board_HSC_ISC  \\\n",
       "0         1               0                 1              0   \n",
       "1         1               1                 0              0   \n",
       "2         1               0                 1              0   \n",
       "3         1               0                 0              0   \n",
       "4         1               0                 0              1   \n",
       "\n",
       "   Board_HSC_Others  Stream_HSC_Commerce  Stream_HSC_Science  \\\n",
       "0                 1                    1                   0   \n",
       "1                 1                    0                   1   \n",
       "2                 1                    1                   0   \n",
       "3                 0                    0                   0   \n",
       "4                 0                    0                   1   \n",
       "\n",
       "   Course_Degree_Commerce  Course_Degree_Computer Applications  \\\n",
       "0                       0                                    0   \n",
       "1                       0                                    1   \n",
       "2                       0                                    0   \n",
       "3                       0                                    0   \n",
       "4                       0                                    0   \n",
       "\n",
       "   Course_Degree_Engineering  ...  Entrance_Test_G-MAT  Entrance_Test_G-SAT  \\\n",
       "0                          0  ...                    0                    0   \n",
       "1                          0  ...                    0                    0   \n",
       "2                          1  ...                    0                    0   \n",
       "3                          0  ...                    0                    0   \n",
       "4                          1  ...                    0                    0   \n",
       "\n",
       "   Entrance_Test_GCET  Entrance_Test_K-MAT  Entrance_Test_MAT  \\\n",
       "0                   0                    0                  1   \n",
       "1                   0                    0                  1   \n",
       "2                   0                    0                  1   \n",
       "3                   0                    0                  1   \n",
       "4                   0                    0                  1   \n",
       "\n",
       "   Entrance_Test_PGCET  Entrance_Test_XAT  Specialization_MBA_Marketing & HR  \\\n",
       "0                    0                  0                                  1   \n",
       "1                    0                  0                                  0   \n",
       "2                    0                  0                                  0   \n",
       "3                    0                  0                                  0   \n",
       "4                    0                  0                                  1   \n",
       "\n",
       "   Specialization_MBA_Marketing & IB  Placement_Placed  \n",
       "0                                  0                 1  \n",
       "1                                  0                 1  \n",
       "2                                  0                 1  \n",
       "3                                  0                 1  \n",
       "4                                  0                 1  \n",
       "\n",
       "[5 rows x 23 columns]"
      ]
     },
     "execution_count": 31,
     "metadata": {},
     "output_type": "execute_result"
    }
   ],
   "source": [
    "df_cat_encoded.head()"
   ]
  },
  {
   "cell_type": "code",
   "execution_count": 32,
   "metadata": {},
   "outputs": [],
   "source": [
    "# Join VIF columns and cat columns\n",
    "\n",
    "df_selected_vif.reset_index(inplace=True , drop=True)\n",
    "df_cat_encoded.reset_index(inplace=True , drop=True)\n",
    "\n",
    "\n",
    "df_final = pd.concat([df_selected_vif,df_cat_encoded], axis = 1)"
   ]
  },
  {
   "cell_type": "code",
   "execution_count": 33,
   "metadata": {
    "scrolled": true
   },
   "outputs": [
    {
     "data": {
      "text/html": [
       "<div>\n",
       "<style scoped>\n",
       "    .dataframe tbody tr th:only-of-type {\n",
       "        vertical-align: middle;\n",
       "    }\n",
       "\n",
       "    .dataframe tbody tr th {\n",
       "        vertical-align: top;\n",
       "    }\n",
       "\n",
       "    .dataframe thead th {\n",
       "        text-align: right;\n",
       "    }\n",
       "</style>\n",
       "<table border=\"1\" class=\"dataframe\">\n",
       "  <thead>\n",
       "    <tr style=\"text-align: right;\">\n",
       "      <th></th>\n",
       "      <th>Percentile_ET</th>\n",
       "      <th>Experience_Yrs</th>\n",
       "      <th>Percent_HSC</th>\n",
       "      <th>Salary_transformed</th>\n",
       "      <th>Gender_M</th>\n",
       "      <th>Board_SSC_ICSE</th>\n",
       "      <th>Board_SSC_Others</th>\n",
       "      <th>Board_HSC_ISC</th>\n",
       "      <th>Board_HSC_Others</th>\n",
       "      <th>Stream_HSC_Commerce</th>\n",
       "      <th>...</th>\n",
       "      <th>Entrance_Test_G-MAT</th>\n",
       "      <th>Entrance_Test_G-SAT</th>\n",
       "      <th>Entrance_Test_GCET</th>\n",
       "      <th>Entrance_Test_K-MAT</th>\n",
       "      <th>Entrance_Test_MAT</th>\n",
       "      <th>Entrance_Test_PGCET</th>\n",
       "      <th>Entrance_Test_XAT</th>\n",
       "      <th>Specialization_MBA_Marketing &amp; HR</th>\n",
       "      <th>Specialization_MBA_Marketing &amp; IB</th>\n",
       "      <th>Placement_Placed</th>\n",
       "    </tr>\n",
       "  </thead>\n",
       "  <tbody>\n",
       "    <tr>\n",
       "      <th>0</th>\n",
       "      <td>55.0</td>\n",
       "      <td>0</td>\n",
       "      <td>88.00</td>\n",
       "      <td>0.544474</td>\n",
       "      <td>1</td>\n",
       "      <td>0</td>\n",
       "      <td>1</td>\n",
       "      <td>0</td>\n",
       "      <td>1</td>\n",
       "      <td>1</td>\n",
       "      <td>...</td>\n",
       "      <td>0</td>\n",
       "      <td>0</td>\n",
       "      <td>0</td>\n",
       "      <td>0</td>\n",
       "      <td>1</td>\n",
       "      <td>0</td>\n",
       "      <td>0</td>\n",
       "      <td>1</td>\n",
       "      <td>0</td>\n",
       "      <td>1</td>\n",
       "    </tr>\n",
       "    <tr>\n",
       "      <th>1</th>\n",
       "      <td>86.5</td>\n",
       "      <td>1</td>\n",
       "      <td>75.33</td>\n",
       "      <td>0.302720</td>\n",
       "      <td>1</td>\n",
       "      <td>1</td>\n",
       "      <td>0</td>\n",
       "      <td>0</td>\n",
       "      <td>1</td>\n",
       "      <td>0</td>\n",
       "      <td>...</td>\n",
       "      <td>0</td>\n",
       "      <td>0</td>\n",
       "      <td>0</td>\n",
       "      <td>0</td>\n",
       "      <td>1</td>\n",
       "      <td>0</td>\n",
       "      <td>0</td>\n",
       "      <td>0</td>\n",
       "      <td>0</td>\n",
       "      <td>1</td>\n",
       "    </tr>\n",
       "    <tr>\n",
       "      <th>2</th>\n",
       "      <td>0.0</td>\n",
       "      <td>0</td>\n",
       "      <td>78.00</td>\n",
       "      <td>0.446625</td>\n",
       "      <td>1</td>\n",
       "      <td>0</td>\n",
       "      <td>1</td>\n",
       "      <td>0</td>\n",
       "      <td>1</td>\n",
       "      <td>1</td>\n",
       "      <td>...</td>\n",
       "      <td>0</td>\n",
       "      <td>0</td>\n",
       "      <td>0</td>\n",
       "      <td>0</td>\n",
       "      <td>1</td>\n",
       "      <td>0</td>\n",
       "      <td>0</td>\n",
       "      <td>0</td>\n",
       "      <td>0</td>\n",
       "      <td>1</td>\n",
       "    </tr>\n",
       "    <tr>\n",
       "      <th>3</th>\n",
       "      <td>75.0</td>\n",
       "      <td>0</td>\n",
       "      <td>63.00</td>\n",
       "      <td>0.480093</td>\n",
       "      <td>1</td>\n",
       "      <td>0</td>\n",
       "      <td>0</td>\n",
       "      <td>0</td>\n",
       "      <td>0</td>\n",
       "      <td>0</td>\n",
       "      <td>...</td>\n",
       "      <td>0</td>\n",
       "      <td>0</td>\n",
       "      <td>0</td>\n",
       "      <td>0</td>\n",
       "      <td>1</td>\n",
       "      <td>0</td>\n",
       "      <td>0</td>\n",
       "      <td>0</td>\n",
       "      <td>0</td>\n",
       "      <td>1</td>\n",
       "    </tr>\n",
       "    <tr>\n",
       "      <th>4</th>\n",
       "      <td>66.0</td>\n",
       "      <td>1</td>\n",
       "      <td>55.00</td>\n",
       "      <td>0.223560</td>\n",
       "      <td>1</td>\n",
       "      <td>0</td>\n",
       "      <td>0</td>\n",
       "      <td>1</td>\n",
       "      <td>0</td>\n",
       "      <td>0</td>\n",
       "      <td>...</td>\n",
       "      <td>0</td>\n",
       "      <td>0</td>\n",
       "      <td>0</td>\n",
       "      <td>0</td>\n",
       "      <td>1</td>\n",
       "      <td>0</td>\n",
       "      <td>0</td>\n",
       "      <td>1</td>\n",
       "      <td>0</td>\n",
       "      <td>1</td>\n",
       "    </tr>\n",
       "  </tbody>\n",
       "</table>\n",
       "<p>5 rows × 27 columns</p>\n",
       "</div>"
      ],
      "text/plain": [
       "   Percentile_ET  Experience_Yrs  Percent_HSC  Salary_transformed  Gender_M  \\\n",
       "0           55.0               0        88.00            0.544474         1   \n",
       "1           86.5               1        75.33            0.302720         1   \n",
       "2            0.0               0        78.00            0.446625         1   \n",
       "3           75.0               0        63.00            0.480093         1   \n",
       "4           66.0               1        55.00            0.223560         1   \n",
       "\n",
       "   Board_SSC_ICSE  Board_SSC_Others  Board_HSC_ISC  Board_HSC_Others  \\\n",
       "0               0                 1              0                 1   \n",
       "1               1                 0              0                 1   \n",
       "2               0                 1              0                 1   \n",
       "3               0                 0              0                 0   \n",
       "4               0                 0              1                 0   \n",
       "\n",
       "   Stream_HSC_Commerce  ...  Entrance_Test_G-MAT  Entrance_Test_G-SAT  \\\n",
       "0                    1  ...                    0                    0   \n",
       "1                    0  ...                    0                    0   \n",
       "2                    1  ...                    0                    0   \n",
       "3                    0  ...                    0                    0   \n",
       "4                    0  ...                    0                    0   \n",
       "\n",
       "   Entrance_Test_GCET  Entrance_Test_K-MAT  Entrance_Test_MAT  \\\n",
       "0                   0                    0                  1   \n",
       "1                   0                    0                  1   \n",
       "2                   0                    0                  1   \n",
       "3                   0                    0                  1   \n",
       "4                   0                    0                  1   \n",
       "\n",
       "   Entrance_Test_PGCET  Entrance_Test_XAT  Specialization_MBA_Marketing & HR  \\\n",
       "0                    0                  0                                  1   \n",
       "1                    0                  0                                  0   \n",
       "2                    0                  0                                  0   \n",
       "3                    0                  0                                  0   \n",
       "4                    0                  0                                  1   \n",
       "\n",
       "   Specialization_MBA_Marketing & IB  Placement_Placed  \n",
       "0                                  0                 1  \n",
       "1                                  0                 1  \n",
       "2                                  0                 1  \n",
       "3                                  0                 1  \n",
       "4                                  0                 1  \n",
       "\n",
       "[5 rows x 27 columns]"
      ]
     },
     "execution_count": 33,
     "metadata": {},
     "output_type": "execute_result"
    }
   ],
   "source": [
    "df_final.head()"
   ]
  },
  {
   "cell_type": "markdown",
   "metadata": {
    "colab_type": "text",
    "id": "7Dsu-keY1NhS"
   },
   "source": [
    "### 5.\tSplit dataset into train and test (70:30) (5 marks)\n",
    "\n",
    "a.\tAre both train and test representative of the overall data? How would you ascertain this statistically?\n"
   ]
  },
  {
   "cell_type": "code",
   "execution_count": 34,
   "metadata": {},
   "outputs": [],
   "source": [
    "from sklearn.model_selection import train_test_split"
   ]
  },
  {
   "cell_type": "code",
   "execution_count": 35,
   "metadata": {
    "colab": {},
    "colab_type": "code",
    "id": "eW7ggh9t1NhT"
   },
   "outputs": [],
   "source": [
    "X = df_final.drop('Salary_transformed', axis = 1)\n",
    "y = df_final['Salary_transformed']\n",
    "\n",
    "X_train, X_test, y_train, y_test = train_test_split(X,y, \n",
    "                                                    random_state=10, test_size = 0.3)"
   ]
  },
  {
   "cell_type": "code",
   "execution_count": 36,
   "metadata": {},
   "outputs": [],
   "source": [
    "# How would you ascertain this statistically?"
   ]
  },
  {
   "cell_type": "code",
   "execution_count": 37,
   "metadata": {},
   "outputs": [],
   "source": [
    "# t test"
   ]
  },
  {
   "cell_type": "code",
   "execution_count": 38,
   "metadata": {},
   "outputs": [],
   "source": [
    "import scipy.stats as stats"
   ]
  },
  {
   "cell_type": "code",
   "execution_count": 39,
   "metadata": {},
   "outputs": [
    {
     "data": {
      "text/plain": [
       "LeveneResult(statistic=0.36738998277613816, pvalue=0.544649417774193)"
      ]
     },
     "execution_count": 39,
     "metadata": {},
     "output_type": "execute_result"
    }
   ],
   "source": [
    "stats.levene(y_train, y)"
   ]
  },
  {
   "cell_type": "code",
   "execution_count": 40,
   "metadata": {},
   "outputs": [
    {
     "data": {
      "text/plain": [
       "Ttest_1sampResult(statistic=-0.7821784202840346, pvalue=0.4348269877395834)"
      ]
     },
     "execution_count": 40,
     "metadata": {},
     "output_type": "execute_result"
    }
   ],
   "source": [
    "# H0: myu1 = pop_mean\n",
    "# H1: myu1 != myu2\n",
    "\n",
    "# alpha = 0.05\n",
    "\n",
    "stats.ttest_1samp(y_train, y.mean())"
   ]
  },
  {
   "cell_type": "code",
   "execution_count": 41,
   "metadata": {},
   "outputs": [
    {
     "data": {
      "text/plain": [
       "Ttest_indResult(statistic=1.0996419856013422, pvalue=0.27203819906630555)"
      ]
     },
     "execution_count": 41,
     "metadata": {},
     "output_type": "execute_result"
    }
   ],
   "source": [
    "stats.ttest_ind(y_test, y)"
   ]
  },
  {
   "cell_type": "markdown",
   "metadata": {
    "colab_type": "text",
    "id": "aXFjts3E1NhX"
   },
   "source": [
    "### 6.\tFit a base model. Please write your key observations (15 marks) \n",
    "\n",
    "a.\tWhat is the overall R2? Please comment on whether it is good or not.\n",
    "\n",
    "b.\tWhat is the adjusted R2? Is it different from R2? Why?\n",
    "\n",
    "c.\tWhich variables are significant?\n",
    "\n",
    "d.\tIs there multicollinearity?\n",
    "\n",
    "e.\tWhich other key model output parameters do you want to look at? \n"
   ]
  },
  {
   "cell_type": "code",
   "execution_count": 42,
   "metadata": {},
   "outputs": [],
   "source": [
    "import statsmodels.api as sm"
   ]
  },
  {
   "cell_type": "code",
   "execution_count": 43,
   "metadata": {
    "colab": {},
    "colab_type": "code",
    "id": "BIoxmmUw1NhZ",
    "scrolled": false
   },
   "outputs": [
    {
     "data": {
      "text/html": [
       "<table class=\"simpletable\">\n",
       "<caption>OLS Regression Results</caption>\n",
       "<tr>\n",
       "  <th>Dep. Variable:</th>    <td>Salary_transformed</td> <th>  R-squared:         </th> <td>   0.973</td> \n",
       "</tr>\n",
       "<tr>\n",
       "  <th>Model:</th>                    <td>OLS</td>        <th>  Adj. R-squared:    </th> <td>   0.970</td> \n",
       "</tr>\n",
       "<tr>\n",
       "  <th>Method:</th>              <td>Least Squares</td>   <th>  F-statistic:       </th> <td>   316.7</td> \n",
       "</tr>\n",
       "<tr>\n",
       "  <th>Date:</th>              <td>Sat, 05 Mar 2022</td>  <th>  Prob (F-statistic):</th> <td>1.05e-165</td>\n",
       "</tr>\n",
       "<tr>\n",
       "  <th>Time:</th>                  <td>15:20:20</td>      <th>  Log-Likelihood:    </th> <td>  89.835</td> \n",
       "</tr>\n",
       "<tr>\n",
       "  <th>No. Observations:</th>       <td>   259</td>       <th>  AIC:               </th> <td>  -125.7</td> \n",
       "</tr>\n",
       "<tr>\n",
       "  <th>Df Residuals:</th>           <td>   232</td>       <th>  BIC:               </th> <td>  -29.64</td> \n",
       "</tr>\n",
       "<tr>\n",
       "  <th>Df Model:</th>               <td>    26</td>       <th>                     </th>     <td> </td>    \n",
       "</tr>\n",
       "<tr>\n",
       "  <th>Covariance Type:</th>       <td>nonrobust</td>     <th>                     </th>     <td> </td>    \n",
       "</tr>\n",
       "</table>\n",
       "<table class=\"simpletable\">\n",
       "<tr>\n",
       "                   <td></td>                      <th>coef</th>     <th>std err</th>      <th>t</th>      <th>P>|t|</th>  <th>[0.025</th>    <th>0.975]</th>  \n",
       "</tr>\n",
       "<tr>\n",
       "  <th>const</th>                               <td>   -2.0100</td> <td>    0.120</td> <td>  -16.794</td> <td> 0.000</td> <td>   -2.246</td> <td>   -1.774</td>\n",
       "</tr>\n",
       "<tr>\n",
       "  <th>Percentile_ET</th>                       <td>    0.0003</td> <td>    0.000</td> <td>    0.706</td> <td> 0.481</td> <td>   -0.000</td> <td>    0.001</td>\n",
       "</tr>\n",
       "<tr>\n",
       "  <th>Experience_Yrs</th>                      <td>    0.0321</td> <td>    0.020</td> <td>    1.578</td> <td> 0.116</td> <td>   -0.008</td> <td>    0.072</td>\n",
       "</tr>\n",
       "<tr>\n",
       "  <th>Percent_HSC</th>                         <td>    0.0022</td> <td>    0.001</td> <td>    1.898</td> <td> 0.059</td> <td>-8.36e-05</td> <td>    0.004</td>\n",
       "</tr>\n",
       "<tr>\n",
       "  <th>Gender_M</th>                            <td>    0.0637</td> <td>    0.026</td> <td>    2.481</td> <td> 0.014</td> <td>    0.013</td> <td>    0.114</td>\n",
       "</tr>\n",
       "<tr>\n",
       "  <th>Board_SSC_ICSE</th>                      <td>   -0.0483</td> <td>    0.046</td> <td>   -1.044</td> <td> 0.298</td> <td>   -0.139</td> <td>    0.043</td>\n",
       "</tr>\n",
       "<tr>\n",
       "  <th>Board_SSC_Others</th>                    <td>   -0.0179</td> <td>    0.038</td> <td>   -0.473</td> <td> 0.637</td> <td>   -0.092</td> <td>    0.057</td>\n",
       "</tr>\n",
       "<tr>\n",
       "  <th>Board_HSC_ISC</th>                       <td>    0.0123</td> <td>    0.053</td> <td>    0.231</td> <td> 0.818</td> <td>   -0.093</td> <td>    0.117</td>\n",
       "</tr>\n",
       "<tr>\n",
       "  <th>Board_HSC_Others</th>                    <td>    0.0331</td> <td>    0.039</td> <td>    0.842</td> <td> 0.400</td> <td>   -0.044</td> <td>    0.111</td>\n",
       "</tr>\n",
       "<tr>\n",
       "  <th>Stream_HSC_Commerce</th>                 <td>    0.0838</td> <td>    0.056</td> <td>    1.486</td> <td> 0.139</td> <td>   -0.027</td> <td>    0.195</td>\n",
       "</tr>\n",
       "<tr>\n",
       "  <th>Stream_HSC_Science</th>                  <td>    0.0798</td> <td>    0.059</td> <td>    1.344</td> <td> 0.180</td> <td>   -0.037</td> <td>    0.197</td>\n",
       "</tr>\n",
       "<tr>\n",
       "  <th>Course_Degree_Commerce</th>              <td>   -0.0439</td> <td>    0.076</td> <td>   -0.578</td> <td> 0.563</td> <td>   -0.193</td> <td>    0.106</td>\n",
       "</tr>\n",
       "<tr>\n",
       "  <th>Course_Degree_Computer Applications</th> <td>   -0.0040</td> <td>    0.080</td> <td>   -0.050</td> <td> 0.960</td> <td>   -0.161</td> <td>    0.153</td>\n",
       "</tr>\n",
       "<tr>\n",
       "  <th>Course_Degree_Engineering</th>           <td>   -0.0024</td> <td>    0.079</td> <td>   -0.031</td> <td> 0.975</td> <td>   -0.158</td> <td>    0.153</td>\n",
       "</tr>\n",
       "<tr>\n",
       "  <th>Course_Degree_Management</th>            <td>   -0.0893</td> <td>    0.071</td> <td>   -1.253</td> <td> 0.211</td> <td>   -0.230</td> <td>    0.051</td>\n",
       "</tr>\n",
       "<tr>\n",
       "  <th>Course_Degree_Others</th>                <td>   -0.1145</td> <td>    0.150</td> <td>   -0.761</td> <td> 0.447</td> <td>   -0.411</td> <td>    0.182</td>\n",
       "</tr>\n",
       "<tr>\n",
       "  <th>Course_Degree_Science</th>               <td>   -0.1096</td> <td>    0.088</td> <td>   -1.239</td> <td> 0.217</td> <td>   -0.284</td> <td>    0.065</td>\n",
       "</tr>\n",
       "<tr>\n",
       "  <th>Entrance_Test_G-MAT</th>                 <td>    0.0161</td> <td>    0.190</td> <td>    0.085</td> <td> 0.933</td> <td>   -0.359</td> <td>    0.391</td>\n",
       "</tr>\n",
       "<tr>\n",
       "  <th>Entrance_Test_G-SAT</th>                 <td>   -0.2200</td> <td>    0.195</td> <td>   -1.130</td> <td> 0.259</td> <td>   -0.603</td> <td>    0.163</td>\n",
       "</tr>\n",
       "<tr>\n",
       "  <th>Entrance_Test_GCET</th>                  <td>   -0.1711</td> <td>    0.143</td> <td>   -1.201</td> <td> 0.231</td> <td>   -0.452</td> <td>    0.110</td>\n",
       "</tr>\n",
       "<tr>\n",
       "  <th>Entrance_Test_K-MAT</th>                 <td>   -0.0174</td> <td>    0.064</td> <td>   -0.271</td> <td> 0.786</td> <td>   -0.144</td> <td>    0.109</td>\n",
       "</tr>\n",
       "<tr>\n",
       "  <th>Entrance_Test_MAT</th>                   <td>   -0.1169</td> <td>    0.048</td> <td>   -2.445</td> <td> 0.015</td> <td>   -0.211</td> <td>   -0.023</td>\n",
       "</tr>\n",
       "<tr>\n",
       "  <th>Entrance_Test_PGCET</th>                 <td>   -0.0361</td> <td>    0.088</td> <td>   -0.408</td> <td> 0.684</td> <td>   -0.210</td> <td>    0.138</td>\n",
       "</tr>\n",
       "<tr>\n",
       "  <th>Entrance_Test_XAT</th>                   <td>    0.0117</td> <td>    0.190</td> <td>    0.061</td> <td> 0.951</td> <td>   -0.363</td> <td>    0.387</td>\n",
       "</tr>\n",
       "<tr>\n",
       "  <th>Specialization_MBA_Marketing & HR</th>   <td>   -0.0683</td> <td>    0.025</td> <td>   -2.688</td> <td> 0.008</td> <td>   -0.118</td> <td>   -0.018</td>\n",
       "</tr>\n",
       "<tr>\n",
       "  <th>Specialization_MBA_Marketing & IB</th>   <td>   -0.0226</td> <td>    0.058</td> <td>   -0.391</td> <td> 0.696</td> <td>   -0.137</td> <td>    0.091</td>\n",
       "</tr>\n",
       "<tr>\n",
       "  <th>Placement_Placed</th>                    <td>    2.4062</td> <td>    0.028</td> <td>   86.675</td> <td> 0.000</td> <td>    2.352</td> <td>    2.461</td>\n",
       "</tr>\n",
       "</table>\n",
       "<table class=\"simpletable\">\n",
       "<tr>\n",
       "  <th>Omnibus:</th>       <td> 5.878</td> <th>  Durbin-Watson:     </th> <td>   2.113</td>\n",
       "</tr>\n",
       "<tr>\n",
       "  <th>Prob(Omnibus):</th> <td> 0.053</td> <th>  Jarque-Bera (JB):  </th> <td>   8.415</td>\n",
       "</tr>\n",
       "<tr>\n",
       "  <th>Skew:</th>          <td>-0.085</td> <th>  Prob(JB):          </th> <td>  0.0149</td>\n",
       "</tr>\n",
       "<tr>\n",
       "  <th>Kurtosis:</th>      <td> 3.866</td> <th>  Cond. No.          </th> <td>1.65e+03</td>\n",
       "</tr>\n",
       "</table><br/><br/>Notes:<br/>[1] Standard Errors assume that the covariance matrix of the errors is correctly specified.<br/>[2] The condition number is large, 1.65e+03. This might indicate that there are<br/>strong multicollinearity or other numerical problems."
      ],
      "text/plain": [
       "<class 'statsmodels.iolib.summary.Summary'>\n",
       "\"\"\"\n",
       "                            OLS Regression Results                            \n",
       "==============================================================================\n",
       "Dep. Variable:     Salary_transformed   R-squared:                       0.973\n",
       "Model:                            OLS   Adj. R-squared:                  0.970\n",
       "Method:                 Least Squares   F-statistic:                     316.7\n",
       "Date:                Sat, 05 Mar 2022   Prob (F-statistic):          1.05e-165\n",
       "Time:                        15:20:20   Log-Likelihood:                 89.835\n",
       "No. Observations:                 259   AIC:                            -125.7\n",
       "Df Residuals:                     232   BIC:                            -29.64\n",
       "Df Model:                          26                                         \n",
       "Covariance Type:            nonrobust                                         \n",
       "=======================================================================================================\n",
       "                                          coef    std err          t      P>|t|      [0.025      0.975]\n",
       "-------------------------------------------------------------------------------------------------------\n",
       "const                                  -2.0100      0.120    -16.794      0.000      -2.246      -1.774\n",
       "Percentile_ET                           0.0003      0.000      0.706      0.481      -0.000       0.001\n",
       "Experience_Yrs                          0.0321      0.020      1.578      0.116      -0.008       0.072\n",
       "Percent_HSC                             0.0022      0.001      1.898      0.059   -8.36e-05       0.004\n",
       "Gender_M                                0.0637      0.026      2.481      0.014       0.013       0.114\n",
       "Board_SSC_ICSE                         -0.0483      0.046     -1.044      0.298      -0.139       0.043\n",
       "Board_SSC_Others                       -0.0179      0.038     -0.473      0.637      -0.092       0.057\n",
       "Board_HSC_ISC                           0.0123      0.053      0.231      0.818      -0.093       0.117\n",
       "Board_HSC_Others                        0.0331      0.039      0.842      0.400      -0.044       0.111\n",
       "Stream_HSC_Commerce                     0.0838      0.056      1.486      0.139      -0.027       0.195\n",
       "Stream_HSC_Science                      0.0798      0.059      1.344      0.180      -0.037       0.197\n",
       "Course_Degree_Commerce                 -0.0439      0.076     -0.578      0.563      -0.193       0.106\n",
       "Course_Degree_Computer Applications    -0.0040      0.080     -0.050      0.960      -0.161       0.153\n",
       "Course_Degree_Engineering              -0.0024      0.079     -0.031      0.975      -0.158       0.153\n",
       "Course_Degree_Management               -0.0893      0.071     -1.253      0.211      -0.230       0.051\n",
       "Course_Degree_Others                   -0.1145      0.150     -0.761      0.447      -0.411       0.182\n",
       "Course_Degree_Science                  -0.1096      0.088     -1.239      0.217      -0.284       0.065\n",
       "Entrance_Test_G-MAT                     0.0161      0.190      0.085      0.933      -0.359       0.391\n",
       "Entrance_Test_G-SAT                    -0.2200      0.195     -1.130      0.259      -0.603       0.163\n",
       "Entrance_Test_GCET                     -0.1711      0.143     -1.201      0.231      -0.452       0.110\n",
       "Entrance_Test_K-MAT                    -0.0174      0.064     -0.271      0.786      -0.144       0.109\n",
       "Entrance_Test_MAT                      -0.1169      0.048     -2.445      0.015      -0.211      -0.023\n",
       "Entrance_Test_PGCET                    -0.0361      0.088     -0.408      0.684      -0.210       0.138\n",
       "Entrance_Test_XAT                       0.0117      0.190      0.061      0.951      -0.363       0.387\n",
       "Specialization_MBA_Marketing & HR      -0.0683      0.025     -2.688      0.008      -0.118      -0.018\n",
       "Specialization_MBA_Marketing & IB      -0.0226      0.058     -0.391      0.696      -0.137       0.091\n",
       "Placement_Placed                        2.4062      0.028     86.675      0.000       2.352       2.461\n",
       "==============================================================================\n",
       "Omnibus:                        5.878   Durbin-Watson:                   2.113\n",
       "Prob(Omnibus):                  0.053   Jarque-Bera (JB):                8.415\n",
       "Skew:                          -0.085   Prob(JB):                       0.0149\n",
       "Kurtosis:                       3.866   Cond. No.                     1.65e+03\n",
       "==============================================================================\n",
       "\n",
       "Notes:\n",
       "[1] Standard Errors assume that the covariance matrix of the errors is correctly specified.\n",
       "[2] The condition number is large, 1.65e+03. This might indicate that there are\n",
       "strong multicollinearity or other numerical problems.\n",
       "\"\"\""
      ]
     },
     "execution_count": 43,
     "metadata": {},
     "output_type": "execute_result"
    }
   ],
   "source": [
    "X_trainc = sm.add_constant(X_train)\n",
    "\n",
    "linreg_model_1 = sm.OLS(y_train,X_trainc).fit()\n",
    "linreg_model_1.summary()"
   ]
  },
  {
   "cell_type": "code",
   "execution_count": 44,
   "metadata": {},
   "outputs": [],
   "source": [
    "X_testc = sm.add_constant(X_test)\n",
    "\n",
    "y_pred = linreg_model_1.predict(X_testc)"
   ]
  },
  {
   "cell_type": "code",
   "execution_count": 45,
   "metadata": {},
   "outputs": [
    {
     "data": {
      "text/plain": [
       "0.947269169615338"
      ]
     },
     "execution_count": 45,
     "metadata": {},
     "output_type": "execute_result"
    }
   ],
   "source": [
    "from sklearn.metrics import r2_score\n",
    "\n",
    "r2_score(y_test,y_pred)"
   ]
  },
  {
   "cell_type": "markdown",
   "metadata": {
    "colab_type": "text",
    "id": "s8MChr7L1Nhe"
   },
   "source": [
    "### 7.\tHow do you improve the accuracy of the model? Write clearly the changes that you will make before re-fitting the model. Fit the final model. (20 marks)\n",
    "Please feel free to have any number of iterations to get to the final answer. Marks are awarded based on the quality of final model you are able to achieve. \n"
   ]
  },
  {
   "cell_type": "code",
   "execution_count": 46,
   "metadata": {},
   "outputs": [],
   "source": [
    "# Scaling train"
   ]
  },
  {
   "cell_type": "code",
   "execution_count": 47,
   "metadata": {},
   "outputs": [],
   "source": [
    "from sklearn.preprocessing import StandardScaler\n",
    "\n",
    "ss = StandardScaler()\n",
    "\n",
    "X_train_num = X_train.select_dtypes(np.number)\n",
    "\n",
    "X_train_num = pd.DataFrame(ss.fit_transform(X_train_num),columns = X_train_num.columns)\n",
    "\n",
    "X_train_cat = X_train.select_dtypes(object)\n",
    "\n",
    "X_train_num.reset_index(inplace=True , drop=True)\n",
    "X_train_cat.reset_index(inplace=True , drop=True)"
   ]
  },
  {
   "cell_type": "code",
   "execution_count": 48,
   "metadata": {},
   "outputs": [],
   "source": [
    "X_train_scaled = pd.concat([X_train_num,X_train_cat],axis = 1)"
   ]
  },
  {
   "cell_type": "code",
   "execution_count": 49,
   "metadata": {},
   "outputs": [],
   "source": [
    "# scaling _test"
   ]
  },
  {
   "cell_type": "code",
   "execution_count": 50,
   "metadata": {},
   "outputs": [],
   "source": [
    "X_test_num = X_test.select_dtypes(np.number)\n",
    "\n",
    "X_test_num = pd.DataFrame(ss.transform(X_test_num),columns = X_test_num.columns)\n",
    "\n",
    "X_test_cat = X_test.select_dtypes(object)\n",
    "\n",
    "X_test_num.reset_index(inplace=True , drop=True)\n",
    "X_test_cat.reset_index(inplace=True , drop=True)"
   ]
  },
  {
   "cell_type": "code",
   "execution_count": 51,
   "metadata": {},
   "outputs": [],
   "source": [
    "X_test_scaled = pd.concat([X_test_num,X_test_cat],axis = 1)"
   ]
  },
  {
   "cell_type": "markdown",
   "metadata": {
    "colab": {},
    "colab_type": "code",
    "id": "OFs8JoPf1Nhf"
   },
   "source": [
    "# Ridge Regression"
   ]
  },
  {
   "cell_type": "code",
   "execution_count": 52,
   "metadata": {},
   "outputs": [],
   "source": [
    "from sklearn.linear_model import Ridge\n",
    "from sklearn.metrics import mean_squared_error "
   ]
  },
  {
   "cell_type": "code",
   "execution_count": 53,
   "metadata": {},
   "outputs": [
    {
     "data": {
      "text/plain": [
       "Ridge(alpha=1)"
      ]
     },
     "execution_count": 53,
     "metadata": {},
     "output_type": "execute_result"
    }
   ],
   "source": [
    "ridge_model = Ridge(alpha = 1)\n",
    "\n",
    "ridge_model.fit(X_train_scaled,y_train)"
   ]
  },
  {
   "cell_type": "code",
   "execution_count": 54,
   "metadata": {},
   "outputs": [],
   "source": [
    "y_pred = ridge_model.predict(X_test_scaled)"
   ]
  },
  {
   "cell_type": "code",
   "execution_count": 55,
   "metadata": {},
   "outputs": [
    {
     "data": {
      "text/plain": [
       "0.9473726420643046"
      ]
     },
     "execution_count": 55,
     "metadata": {},
     "output_type": "execute_result"
    }
   ],
   "source": [
    "r2_score(y_test,y_pred)"
   ]
  },
  {
   "cell_type": "code",
   "execution_count": 56,
   "metadata": {
    "scrolled": true
   },
   "outputs": [
    {
     "data": {
      "text/plain": [
       "0.20826487387440862"
      ]
     },
     "execution_count": 56,
     "metadata": {},
     "output_type": "execute_result"
    }
   ],
   "source": [
    "np.sqrt(mean_squared_error(y_test,y_pred))"
   ]
  },
  {
   "cell_type": "code",
   "execution_count": 57,
   "metadata": {},
   "outputs": [
    {
     "data": {
      "text/plain": [
       "<AxesSubplot:>"
      ]
     },
     "execution_count": 57,
     "metadata": {},
     "output_type": "execute_result"
    },
    {
     "data": {
      "image/png": "[encoded data removed]",
      "text/plain": [
       "<Figure size 1296x720 with 1 Axes>"
      ]
     },
     "metadata": {
      "needs_background": "light"
     },
     "output_type": "display_data"
    }
   ],
   "source": [
    "plt.figure(figsize = (18,10))\n",
    "\n",
    "ridge_coefs = pd.Series(ridge_model.coef_, index = X_train_scaled.columns)\n",
    "ridge_coefs.sort_values(inplace = True)\n",
    "sns.barplot(y = ridge_coefs.index, x = ridge_coefs.values)"
   ]
  },
  {
   "cell_type": "code",
   "execution_count": null,
   "metadata": {},
   "outputs": [],
   "source": []
  },
  {
   "cell_type": "code",
   "execution_count": null,
   "metadata": {},
   "outputs": [],
   "source": []
  },
  {
   "cell_type": "code",
   "execution_count": null,
   "metadata": {},
   "outputs": [],
   "source": []
  },
  {
   "cell_type": "code",
   "execution_count": null,
   "metadata": {},
   "outputs": [],
   "source": []
  },
  {
   "cell_type": "code",
   "execution_count": null,
   "metadata": {},
   "outputs": [],
   "source": []
  },
  {
   "cell_type": "code",
   "execution_count": null,
   "metadata": {},
   "outputs": [],
   "source": []
  },
  {
   "cell_type": "code",
   "execution_count": null,
   "metadata": {},
   "outputs": [],
   "source": []
  },
  {
   "cell_type": "code",
   "execution_count": null,
   "metadata": {},
   "outputs": [],
   "source": []
  },
  {
   "cell_type": "code",
   "execution_count": null,
   "metadata": {},
   "outputs": [],
   "source": []
  },
  {
   "cell_type": "code",
   "execution_count": null,
   "metadata": {},
   "outputs": [],
   "source": []
  },
  {
   "cell_type": "markdown",
   "metadata": {
    "colab_type": "text",
    "id": "zwKKeBFq1Nhj"
   },
   "source": [
    "### 8.\tSummarize as follows (10 marks) \n",
    "\n",
    "1.\tSummarize the overall fit of the model and list down the measures to prove that it is a good model\n",
    "2.\tWrite down a business interpretation/explanation of the model – which variables are affecting the target the most and explain the relationship. Feel free to use charts or graphs to explain.\n",
    "3.\tWhat changes from the base model had the most affect on model performance\n",
    "4.\tWhat are the key risks to your results and interpretation\n"
   ]
  },
  {
   "cell_type": "markdown",
   "metadata": {
    "colab": {},
    "colab_type": "code",
    "id": "g8mARUHN1Nhk"
   },
   "source": [
    "# Cross Validation"
   ]
  },
  {
   "cell_type": "code",
   "execution_count": 58,
   "metadata": {},
   "outputs": [],
   "source": [
    "from sklearn.model_selection import cross_val_score\n",
    "from sklearn.linear_model import LinearRegression"
   ]
  },
  {
   "cell_type": "code",
   "execution_count": 59,
   "metadata": {},
   "outputs": [],
   "source": [
    "linmodel_2 = LinearRegression()"
   ]
  },
  {
   "cell_type": "code",
   "execution_count": 60,
   "metadata": {},
   "outputs": [
    {
     "data": {
      "text/plain": [
       "array([0.96454913, 0.96727129, 0.96733725, 0.96439286, 0.9652498 ])"
      ]
     },
     "execution_count": 60,
     "metadata": {},
     "output_type": "execute_result"
    }
   ],
   "source": [
    "cross_val_score(estimator=linmodel_2, X = X_train,y =  y_train)"
   ]
  },
  {
   "cell_type": "code",
   "execution_count": null,
   "metadata": {},
   "outputs": [],
   "source": []
  },
  {
   "cell_type": "code",
   "execution_count": 61,
   "metadata": {},
   "outputs": [],
   "source": [
    "from sklearn.model_selection import GridSearchCV"
   ]
  },
  {
   "cell_type": "code",
   "execution_count": 62,
   "metadata": {},
   "outputs": [
    {
     "data": {
      "text/plain": [
       "GridSearchCV(cv=5, estimator=Ridge(alpha=1),\n",
       "             param_grid=[{'alpha': [0.001, 0.1, 1, 5, 10, 20, 40, 60]}])"
      ]
     },
     "execution_count": 62,
     "metadata": {},
     "output_type": "execute_result"
    }
   ],
   "source": [
    "param_grid = [{'alpha':[0.001,0.1,1,5,10,20,40,60]}]\n",
    "\n",
    "grid_model = GridSearchCV(estimator = ridge_model,param_grid=param_grid, cv = 5)\n",
    "\n",
    "grid_model.fit(X_train,y_train)"
   ]
  },
  {
   "cell_type": "code",
   "execution_count": 63,
   "metadata": {},
   "outputs": [
    {
     "data": {
      "text/plain": [
       "0.966202939565022"
      ]
     },
     "execution_count": 63,
     "metadata": {},
     "output_type": "execute_result"
    }
   ],
   "source": [
    "grid_model.best_score_"
   ]
  },
  {
   "cell_type": "code",
   "execution_count": 64,
   "metadata": {},
   "outputs": [],
   "source": [
    "y_pred = grid_model.predict(X_train)"
   ]
  },
  {
   "cell_type": "code",
   "execution_count": 65,
   "metadata": {},
   "outputs": [],
   "source": [
    "from sklearn.metrics import r2_score"
   ]
  },
  {
   "cell_type": "code",
   "execution_count": 66,
   "metadata": {},
   "outputs": [
    {
     "data": {
      "text/plain": [
       "0.9720139088078572"
      ]
     },
     "execution_count": 66,
     "metadata": {},
     "output_type": "execute_result"
    }
   ],
   "source": [
    "r2_score(y_train, y_pred)"
   ]
  },
  {
   "cell_type": "code",
   "execution_count": 67,
   "metadata": {},
   "outputs": [
    {
     "data": {
      "text/plain": [
       "0.9477162338805196"
      ]
     },
     "execution_count": 67,
     "metadata": {},
     "output_type": "execute_result"
    }
   ],
   "source": [
    "y_pred = grid_model.predict(X_test)\n",
    "r2_score(y_test, y_pred)"
   ]
  },
  {
   "cell_type": "code",
   "execution_count": null,
   "metadata": {},
   "outputs": [],
   "source": []
  }
 ],
 "metadata": {
  "colab": {
   "name": "SLR_70_MARKS_SET_4_PAPER.ipynb",
   "provenance": []
  },
  "hide_input": false,
  "kernelspec": {
   "display_name": "Python 3",
   "language": "python",
   "name": "python3"
  },
  "language_info": {
   "codemirror_mode": {
    "name": "ipython",
    "version": 3
   },
   "file_extension": ".py",
   "mimetype": "text/x-python",
   "name": "python",
   "nbconvert_exporter": "python",
   "pygments_lexer": "ipython3",
   "version": "3.8.8"
  },
  "toc": {
   "base_numbering": 1,
   "nav_menu": {},
   "number_sections": true,
   "sideBar": true,
   "skip_h1_title": false,
   "title_cell": "Table of Contents",
   "title_sidebar": "Contents",
   "toc_cell": false,
   "toc_position": {},
   "toc_section_display": true,
   "toc_window_display": false
  },
  "varInspector": {
   "cols": {
    "lenName": 16,
    "lenType": 16,
    "lenVar": 40
   },
   "kernels_config": {
    "python": {
     "delete_cmd_postfix": "",
     "delete_cmd_prefix": "del ",
     "library": "var_list.py",
     "varRefreshCmd": "print(var_dic_list())"
    },
    "r": {
     "delete_cmd_postfix": ") ",
     "delete_cmd_prefix": "rm(",
     "library": "var_list.r",
     "varRefreshCmd": "cat(var_dic_list()) "
    }
   },
   "types_to_exclude": [
    "module",
    "function",
    "builtin_function_or_method",
    "instance",
    "_Feature"
   ],
   "window_display": false
  }
 },
 "nbformat": 4,
 "nbformat_minor": 1
}
