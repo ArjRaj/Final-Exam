{
 "cells": [
  {
   "cell_type": "markdown",
   "metadata": {
    "colab_type": "text",
    "id": "CAs0zcKsbICS"
   },
   "source": [
    "# SLR FINAL EXAM"
   ]
  },
  {
   "cell_type": "markdown",
   "metadata": {
    "colab_type": "text",
    "id": "kvr4SYTxbICU"
   },
   "source": [
    "### Data_set: \n",
    "Since 2008, guests and hosts have used Airbnb to expand on traveling possibilities and present more unique, personalized way of experiencing the world. This dataset describes the listing activity and metrics in NYC, NY for 2019."
   ]
  },
  {
   "cell_type": "markdown",
   "metadata": {
    "colab_type": "text",
    "id": "pgmIfHLMbICV"
   },
   "source": [
    "1. id = listing ID\n",
    "2. name = name of the listing\n",
    "3. host_id = host ID\n",
    "4. host_name = name of the host\n",
    "5. neighbourhood_group = location\n",
    "6. neighbourhood = area\n",
    "7. latitude = latitude coordinates\n",
    "8. longitude = longitude coordinates\n",
    "9. room_type = listing space type\n",
    "10. price = price in dollars (Target variable)\n",
    "11. minimum_nights = amount of nights minimum\n",
    "12. number_of_reviews = number of reviews\n",
    "13. last_review = latest review\n",
    "14. reviews_per_month = number of reviews per month\n",
    "15. calculated_host_listings_count = amount of listing per host\n",
    "16. availability_365 = number of days when listing is available for booking"
   ]
  },
  {
   "cell_type": "markdown",
   "metadata": {
    "_cell_guid": "79c7e3d0-c299-4dcb-8224-4455121ee9b0",
    "_uuid": "d629ff2d2480ee46fbb7e2d37f6b5fab8052498a",
    "colab_type": "text",
    "collapsed": true,
    "id": "UJ7FKdcxbICV"
   },
   "source": [
    "### 1.\t Read the dataset (tab, csv, xls, txt, inbuilt dataset) \n",
    "\n",
    "\n",
    "\n",
    "\n"
   ]
  },
  {
   "cell_type": "code",
   "execution_count": 1,
   "metadata": {
    "colab": {},
    "colab_type": "code",
    "id": "bKjj3o84bICW"
   },
   "outputs": [],
   "source": [
    "# Kindly change the below cells from markdown to code and execute it "
   ]
  },
  {
   "cell_type": "code",
   "execution_count": 2,
   "metadata": {
    "colab_type": "text",
    "id": "3y8O2PKLbICa"
   },
   "outputs": [
    {
     "data": {
      "text/html": [
       "<div>\n",
       "<style scoped>\n",
       "    .dataframe tbody tr th:only-of-type {\n",
       "        vertical-align: middle;\n",
       "    }\n",
       "\n",
       "    .dataframe tbody tr th {\n",
       "        vertical-align: top;\n",
       "    }\n",
       "\n",
       "    .dataframe thead th {\n",
       "        text-align: right;\n",
       "    }\n",
       "</style>\n",
       "<table border=\"1\" class=\"dataframe\">\n",
       "  <thead>\n",
       "    <tr style=\"text-align: right;\">\n",
       "      <th></th>\n",
       "      <th>id</th>\n",
       "      <th>name</th>\n",
       "      <th>host_id</th>\n",
       "      <th>host_name</th>\n",
       "      <th>neighbourhood_group</th>\n",
       "      <th>neighbourhood</th>\n",
       "      <th>latitude</th>\n",
       "      <th>longitude</th>\n",
       "      <th>room_type</th>\n",
       "      <th>price</th>\n",
       "      <th>minimum_nights</th>\n",
       "      <th>number_of_reviews</th>\n",
       "      <th>last_review</th>\n",
       "      <th>reviews_per_month</th>\n",
       "      <th>calculated_host_listings_count</th>\n",
       "      <th>availability_365</th>\n",
       "    </tr>\n",
       "  </thead>\n",
       "  <tbody>\n",
       "    <tr>\n",
       "      <th>0</th>\n",
       "      <td>12598446</td>\n",
       "      <td>Spacious 4bdrm next to CentralPk</td>\n",
       "      <td>5162192</td>\n",
       "      <td>Amy</td>\n",
       "      <td>Manhattan</td>\n",
       "      <td>Upper West Side</td>\n",
       "      <td>40.79860</td>\n",
       "      <td>-73.96229</td>\n",
       "      <td>Entire home/apt</td>\n",
       "      <td>275</td>\n",
       "      <td>30</td>\n",
       "      <td>4</td>\n",
       "      <td>09-01-2019</td>\n",
       "      <td>0.15</td>\n",
       "      <td>12</td>\n",
       "      <td>199</td>\n",
       "    </tr>\n",
       "    <tr>\n",
       "      <th>1</th>\n",
       "      <td>13585495</td>\n",
       "      <td>Great room in amazing Little Italy location!</td>\n",
       "      <td>15960548</td>\n",
       "      <td>Nathan</td>\n",
       "      <td>Manhattan</td>\n",
       "      <td>Little Italy</td>\n",
       "      <td>40.71955</td>\n",
       "      <td>-73.99707</td>\n",
       "      <td>Private room</td>\n",
       "      <td>110</td>\n",
       "      <td>2</td>\n",
       "      <td>1</td>\n",
       "      <td>14-09-2016</td>\n",
       "      <td>0.03</td>\n",
       "      <td>1</td>\n",
       "      <td>0</td>\n",
       "    </tr>\n",
       "    <tr>\n",
       "      <th>2</th>\n",
       "      <td>27761683</td>\n",
       "      <td>Clean Cozy Room, Queens-5 min walk to subway (...</td>\n",
       "      <td>199524563</td>\n",
       "      <td>Bei</td>\n",
       "      <td>Queens</td>\n",
       "      <td>Rego Park</td>\n",
       "      <td>40.72678</td>\n",
       "      <td>-73.86218</td>\n",
       "      <td>Private room</td>\n",
       "      <td>55</td>\n",
       "      <td>2</td>\n",
       "      <td>25</td>\n",
       "      <td>22-06-2019</td>\n",
       "      <td>2.37</td>\n",
       "      <td>3</td>\n",
       "      <td>38</td>\n",
       "    </tr>\n",
       "    <tr>\n",
       "      <th>3</th>\n",
       "      <td>14200678</td>\n",
       "      <td>Charming 1 bdr apt. just 17 mins from MANHATTAN!</td>\n",
       "      <td>557669</td>\n",
       "      <td>Ryan</td>\n",
       "      <td>Queens</td>\n",
       "      <td>Woodside</td>\n",
       "      <td>40.74663</td>\n",
       "      <td>-73.89653</td>\n",
       "      <td>Entire home/apt</td>\n",
       "      <td>96</td>\n",
       "      <td>2</td>\n",
       "      <td>1</td>\n",
       "      <td>08-08-2016</td>\n",
       "      <td>0.03</td>\n",
       "      <td>1</td>\n",
       "      <td>0</td>\n",
       "    </tr>\n",
       "    <tr>\n",
       "      <th>4</th>\n",
       "      <td>24540935</td>\n",
       "      <td>A Beach House in Brooklyn</td>\n",
       "      <td>51068857</td>\n",
       "      <td>Derek</td>\n",
       "      <td>Brooklyn</td>\n",
       "      <td>Bedford-Stuyvesant</td>\n",
       "      <td>40.68297</td>\n",
       "      <td>-73.95251</td>\n",
       "      <td>Private room</td>\n",
       "      <td>80</td>\n",
       "      <td>1</td>\n",
       "      <td>0</td>\n",
       "      <td>NaN</td>\n",
       "      <td>NaN</td>\n",
       "      <td>1</td>\n",
       "      <td>5</td>\n",
       "    </tr>\n",
       "  </tbody>\n",
       "</table>\n",
       "</div>"
      ],
      "text/plain": [
       "         id                                               name    host_id  \\\n",
       "0  12598446                   Spacious 4bdrm next to CentralPk    5162192   \n",
       "1  13585495       Great room in amazing Little Italy location!   15960548   \n",
       "2  27761683  Clean Cozy Room, Queens-5 min walk to subway (...  199524563   \n",
       "3  14200678   Charming 1 bdr apt. just 17 mins from MANHATTAN!     557669   \n",
       "4  24540935                          A Beach House in Brooklyn   51068857   \n",
       "\n",
       "  host_name neighbourhood_group       neighbourhood  latitude  longitude  \\\n",
       "0       Amy           Manhattan     Upper West Side  40.79860  -73.96229   \n",
       "1    Nathan           Manhattan        Little Italy  40.71955  -73.99707   \n",
       "2       Bei              Queens           Rego Park  40.72678  -73.86218   \n",
       "3      Ryan              Queens            Woodside  40.74663  -73.89653   \n",
       "4     Derek            Brooklyn  Bedford-Stuyvesant  40.68297  -73.95251   \n",
       "\n",
       "         room_type  price  minimum_nights  number_of_reviews last_review  \\\n",
       "0  Entire home/apt    275              30                  4  09-01-2019   \n",
       "1     Private room    110               2                  1  14-09-2016   \n",
       "2     Private room     55               2                 25  22-06-2019   \n",
       "3  Entire home/apt     96               2                  1  08-08-2016   \n",
       "4     Private room     80               1                  0         NaN   \n",
       "\n",
       "   reviews_per_month  calculated_host_listings_count  availability_365  \n",
       "0               0.15                              12               199  \n",
       "1               0.03                               1                 0  \n",
       "2               2.37                               3                38  \n",
       "3               0.03                               1                 0  \n",
       "4                NaN                               1                 5  "
      ]
     },
     "execution_count": 2,
     "metadata": {},
     "output_type": "execute_result"
    }
   ],
   "source": [
    "import pandas as pd\n",
    "\n",
    "import csv\n",
    "\n",
    "with open(\"data_set.csv\",\"r\")as file:\n",
    "\n",
    "    reader=csv.reader(file)\n",
    "    \n",
    "df=pd.read_csv(\"data_set.csv\")\n",
    "\n",
    "df.head()"
   ]
  },
  {
   "cell_type": "markdown",
   "metadata": {
    "colab_type": "text",
    "id": "FFp2iS_vbICd"
   },
   "source": [
    "### 2.\tSummarize important observations from the data set (5 Marks)\n",
    "Some pointers which would help you, but don’t be limited by these\n",
    "\n",
    "a.\tWhat are the number of rows; no. & types of variables (continuous, categorical etc.)\n",
    "\n",
    "b.\tCalculate five point summary for numerical variables\n",
    "\n",
    "c.\tSummarize observations for categorical variables – no. of categories, % observations in each category\n"
   ]
  },
  {
   "cell_type": "code",
   "execution_count": 3,
   "metadata": {
    "colab": {},
    "colab_type": "code",
    "id": "ec86ZC1CbICe"
   },
   "outputs": [
    {
     "name": "stdout",
     "output_type": "stream",
     "text": [
      "Number of rows:  1054\n",
      "Number of columns:  16\n"
     ]
    }
   ],
   "source": [
    "#a)\n",
    "print('Number of rows: ',df.shape[0])\n",
    "print('Number of columns: ',df.shape[1])"
   ]
  },
  {
   "cell_type": "code",
   "execution_count": 4,
   "metadata": {},
   "outputs": [
    {
     "name": "stdout",
     "output_type": "stream",
     "text": [
      "There are 10  numerical columns.\n"
     ]
    }
   ],
   "source": [
    "numerical_cols=df.select_dtypes(include='number').columns\n",
    "print('There are',len(numerical_cols),' numerical columns.')"
   ]
  },
  {
   "cell_type": "code",
   "execution_count": 5,
   "metadata": {},
   "outputs": [
    {
     "name": "stdout",
     "output_type": "stream",
     "text": [
      "There are 6  categorical columns.\n"
     ]
    }
   ],
   "source": [
    "cat_cols=df.select_dtypes(include='object').columns\n",
    "print('There are',len(cat_cols),' categorical columns.')"
   ]
  },
  {
   "cell_type": "code",
   "execution_count": 6,
   "metadata": {},
   "outputs": [
    {
     "data": {
      "text/html": [
       "<div>\n",
       "<style scoped>\n",
       "    .dataframe tbody tr th:only-of-type {\n",
       "        vertical-align: middle;\n",
       "    }\n",
       "\n",
       "    .dataframe tbody tr th {\n",
       "        vertical-align: top;\n",
       "    }\n",
       "\n",
       "    .dataframe thead th {\n",
       "        text-align: right;\n",
       "    }\n",
       "</style>\n",
       "<table border=\"1\" class=\"dataframe\">\n",
       "  <thead>\n",
       "    <tr style=\"text-align: right;\">\n",
       "      <th></th>\n",
       "      <th>id</th>\n",
       "      <th>host_id</th>\n",
       "      <th>latitude</th>\n",
       "      <th>longitude</th>\n",
       "      <th>price</th>\n",
       "      <th>minimum_nights</th>\n",
       "      <th>number_of_reviews</th>\n",
       "      <th>reviews_per_month</th>\n",
       "      <th>calculated_host_listings_count</th>\n",
       "      <th>availability_365</th>\n",
       "    </tr>\n",
       "  </thead>\n",
       "  <tbody>\n",
       "    <tr>\n",
       "      <th>count</th>\n",
       "      <td>1.054000e+03</td>\n",
       "      <td>1.054000e+03</td>\n",
       "      <td>1054.000000</td>\n",
       "      <td>1054.000000</td>\n",
       "      <td>1054.000000</td>\n",
       "      <td>1054.000000</td>\n",
       "      <td>1054.000000</td>\n",
       "      <td>844.000000</td>\n",
       "      <td>1054.000000</td>\n",
       "      <td>1054.000000</td>\n",
       "    </tr>\n",
       "    <tr>\n",
       "      <th>mean</th>\n",
       "      <td>1.911356e+07</td>\n",
       "      <td>6.652685e+07</td>\n",
       "      <td>40.728377</td>\n",
       "      <td>-73.951802</td>\n",
       "      <td>149.699241</td>\n",
       "      <td>8.002846</td>\n",
       "      <td>24.620493</td>\n",
       "      <td>1.347690</td>\n",
       "      <td>6.959203</td>\n",
       "      <td>111.572106</td>\n",
       "    </tr>\n",
       "    <tr>\n",
       "      <th>std</th>\n",
       "      <td>1.096046e+07</td>\n",
       "      <td>7.757195e+07</td>\n",
       "      <td>0.056092</td>\n",
       "      <td>0.049034</td>\n",
       "      <td>156.239782</td>\n",
       "      <td>34.580253</td>\n",
       "      <td>49.178939</td>\n",
       "      <td>1.675154</td>\n",
       "      <td>31.266268</td>\n",
       "      <td>129.835933</td>\n",
       "    </tr>\n",
       "    <tr>\n",
       "      <th>min</th>\n",
       "      <td>1.229900e+04</td>\n",
       "      <td>2.787000e+03</td>\n",
       "      <td>40.499790</td>\n",
       "      <td>-74.240840</td>\n",
       "      <td>10.000000</td>\n",
       "      <td>1.000000</td>\n",
       "      <td>0.000000</td>\n",
       "      <td>0.020000</td>\n",
       "      <td>1.000000</td>\n",
       "      <td>0.000000</td>\n",
       "    </tr>\n",
       "    <tr>\n",
       "      <th>25%</th>\n",
       "      <td>9.391594e+06</td>\n",
       "      <td>6.983334e+06</td>\n",
       "      <td>40.689253</td>\n",
       "      <td>-73.983770</td>\n",
       "      <td>70.000000</td>\n",
       "      <td>1.000000</td>\n",
       "      <td>1.000000</td>\n",
       "      <td>0.190000</td>\n",
       "      <td>1.000000</td>\n",
       "      <td>0.000000</td>\n",
       "    </tr>\n",
       "    <tr>\n",
       "      <th>50%</th>\n",
       "      <td>1.997263e+07</td>\n",
       "      <td>3.013617e+07</td>\n",
       "      <td>40.721665</td>\n",
       "      <td>-73.956930</td>\n",
       "      <td>104.000000</td>\n",
       "      <td>3.000000</td>\n",
       "      <td>6.000000</td>\n",
       "      <td>0.730000</td>\n",
       "      <td>1.000000</td>\n",
       "      <td>43.500000</td>\n",
       "    </tr>\n",
       "    <tr>\n",
       "      <th>75%</th>\n",
       "      <td>2.929557e+07</td>\n",
       "      <td>1.074344e+08</td>\n",
       "      <td>40.761120</td>\n",
       "      <td>-73.935523</td>\n",
       "      <td>179.000000</td>\n",
       "      <td>5.000000</td>\n",
       "      <td>24.000000</td>\n",
       "      <td>1.990000</td>\n",
       "      <td>2.000000</td>\n",
       "      <td>223.750000</td>\n",
       "    </tr>\n",
       "    <tr>\n",
       "      <th>max</th>\n",
       "      <td>3.648561e+07</td>\n",
       "      <td>2.722480e+08</td>\n",
       "      <td>40.898730</td>\n",
       "      <td>-73.731700</td>\n",
       "      <td>2000.000000</td>\n",
       "      <td>999.000000</td>\n",
       "      <td>426.000000</td>\n",
       "      <td>15.320000</td>\n",
       "      <td>327.000000</td>\n",
       "      <td>365.000000</td>\n",
       "    </tr>\n",
       "  </tbody>\n",
       "</table>\n",
       "</div>"
      ],
      "text/plain": [
       "                 id       host_id     latitude    longitude        price  \\\n",
       "count  1.054000e+03  1.054000e+03  1054.000000  1054.000000  1054.000000   \n",
       "mean   1.911356e+07  6.652685e+07    40.728377   -73.951802   149.699241   \n",
       "std    1.096046e+07  7.757195e+07     0.056092     0.049034   156.239782   \n",
       "min    1.229900e+04  2.787000e+03    40.499790   -74.240840    10.000000   \n",
       "25%    9.391594e+06  6.983334e+06    40.689253   -73.983770    70.000000   \n",
       "50%    1.997263e+07  3.013617e+07    40.721665   -73.956930   104.000000   \n",
       "75%    2.929557e+07  1.074344e+08    40.761120   -73.935523   179.000000   \n",
       "max    3.648561e+07  2.722480e+08    40.898730   -73.731700  2000.000000   \n",
       "\n",
       "       minimum_nights  number_of_reviews  reviews_per_month  \\\n",
       "count     1054.000000        1054.000000         844.000000   \n",
       "mean         8.002846          24.620493           1.347690   \n",
       "std         34.580253          49.178939           1.675154   \n",
       "min          1.000000           0.000000           0.020000   \n",
       "25%          1.000000           1.000000           0.190000   \n",
       "50%          3.000000           6.000000           0.730000   \n",
       "75%          5.000000          24.000000           1.990000   \n",
       "max        999.000000         426.000000          15.320000   \n",
       "\n",
       "       calculated_host_listings_count  availability_365  \n",
       "count                     1054.000000       1054.000000  \n",
       "mean                         6.959203        111.572106  \n",
       "std                         31.266268        129.835933  \n",
       "min                          1.000000          0.000000  \n",
       "25%                          1.000000          0.000000  \n",
       "50%                          1.000000         43.500000  \n",
       "75%                          2.000000        223.750000  \n",
       "max                        327.000000        365.000000  "
      ]
     },
     "execution_count": 6,
     "metadata": {},
     "output_type": "execute_result"
    }
   ],
   "source": [
    "#b)\n",
    "df.describe()"
   ]
  },
  {
   "cell_type": "code",
   "execution_count": 7,
   "metadata": {
    "scrolled": false
   },
   "outputs": [
    {
     "data": {
      "text/html": [
       "<div>\n",
       "<style scoped>\n",
       "    .dataframe tbody tr th:only-of-type {\n",
       "        vertical-align: middle;\n",
       "    }\n",
       "\n",
       "    .dataframe tbody tr th {\n",
       "        vertical-align: top;\n",
       "    }\n",
       "\n",
       "    .dataframe thead th {\n",
       "        text-align: right;\n",
       "    }\n",
       "</style>\n",
       "<table border=\"1\" class=\"dataframe\">\n",
       "  <thead>\n",
       "    <tr style=\"text-align: right;\">\n",
       "      <th></th>\n",
       "      <th>name</th>\n",
       "      <th>host_name</th>\n",
       "      <th>neighbourhood_group</th>\n",
       "      <th>neighbourhood</th>\n",
       "      <th>room_type</th>\n",
       "      <th>last_review</th>\n",
       "    </tr>\n",
       "  </thead>\n",
       "  <tbody>\n",
       "    <tr>\n",
       "      <th>count</th>\n",
       "      <td>1053</td>\n",
       "      <td>1054</td>\n",
       "      <td>1054</td>\n",
       "      <td>1054</td>\n",
       "      <td>1054</td>\n",
       "      <td>844</td>\n",
       "    </tr>\n",
       "    <tr>\n",
       "      <th>unique</th>\n",
       "      <td>1050</td>\n",
       "      <td>779</td>\n",
       "      <td>5</td>\n",
       "      <td>123</td>\n",
       "      <td>3</td>\n",
       "      <td>360</td>\n",
       "    </tr>\n",
       "    <tr>\n",
       "      <th>top</th>\n",
       "      <td>Spacious and Bright Williamsburg Loft</td>\n",
       "      <td>Alex</td>\n",
       "      <td>Manhattan</td>\n",
       "      <td>Williamsburg</td>\n",
       "      <td>Entire home/apt</td>\n",
       "      <td>01-07-2019</td>\n",
       "    </tr>\n",
       "    <tr>\n",
       "      <th>freq</th>\n",
       "      <td>2</td>\n",
       "      <td>13</td>\n",
       "      <td>449</td>\n",
       "      <td>92</td>\n",
       "      <td>539</td>\n",
       "      <td>32</td>\n",
       "    </tr>\n",
       "  </tbody>\n",
       "</table>\n",
       "</div>"
      ],
      "text/plain": [
       "                                         name host_name neighbourhood_group  \\\n",
       "count                                    1053      1054                1054   \n",
       "unique                                   1050       779                   5   \n",
       "top     Spacious and Bright Williamsburg Loft      Alex           Manhattan   \n",
       "freq                                        2        13                 449   \n",
       "\n",
       "       neighbourhood        room_type last_review  \n",
       "count           1054             1054         844  \n",
       "unique           123                3         360  \n",
       "top     Williamsburg  Entire home/apt  01-07-2019  \n",
       "freq              92              539          32  "
      ]
     },
     "execution_count": 7,
     "metadata": {},
     "output_type": "execute_result"
    }
   ],
   "source": [
    "df.describe(include='object')"
   ]
  },
  {
   "cell_type": "markdown",
   "metadata": {},
   "source": [
    "Dropping unwanted columns:"
   ]
  },
  {
   "cell_type": "code",
   "execution_count": 8,
   "metadata": {},
   "outputs": [],
   "source": [
    "df.drop(columns=['id','host_id','name','host_name'],inplace=True)"
   ]
  },
  {
   "cell_type": "code",
   "execution_count": 9,
   "metadata": {
    "scrolled": false
   },
   "outputs": [
    {
     "name": "stdout",
     "output_type": "stream",
     "text": [
      "neighbourhood_group Column :\n",
      "Number of categories:  5 \n",
      "\n",
      "% observations in  neighbourhood_group  :\n",
      "Manhattan        0.425996\n",
      "Brooklyn         0.408918\n",
      "Queens           0.123340\n",
      "Bronx            0.032258\n",
      "Staten Island    0.009488\n",
      "Name: neighbourhood_group, dtype: float64 \n",
      "\n",
      "neighbourhood Column :\n",
      "Number of categories:  123 \n",
      "\n",
      "% observations in  neighbourhood  :\n",
      "Williamsburg                 0.087287\n",
      "Bedford-Stuyvesant           0.072106\n",
      "Bushwick                     0.050285\n",
      "Upper West Side              0.046490\n",
      "Hell's Kitchen               0.043643\n",
      "Harlem                       0.040797\n",
      "East Village                 0.034156\n",
      "Midtown                      0.034156\n",
      "Lower East Side              0.029412\n",
      "Crown Heights                0.027514\n",
      "Upper East Side              0.024668\n",
      "Chelsea                      0.021822\n",
      "Astoria                      0.021822\n",
      "Washington Heights           0.020873\n",
      "Clinton Hill                 0.019924\n",
      "East Harlem                  0.018027\n",
      "West Village                 0.017078\n",
      "Greenpoint                   0.017078\n",
      "Sunset Park                  0.016129\n",
      "Prospect-Lefferts Gardens    0.015180\n",
      "Nolita                       0.014231\n",
      "SoHo                         0.014231\n",
      "Woodside                     0.013283\n",
      "Flatbush                     0.012334\n",
      "Long Island City             0.012334\n",
      "Financial District           0.011385\n",
      "South Slope                  0.010436\n",
      "Park Slope                   0.010436\n",
      "Gowanus                      0.009488\n",
      "Kips Bay                     0.009488\n",
      "                               ...   \n",
      "NoHo                         0.000949\n",
      "St. Albans                   0.000949\n",
      "City Island                  0.000949\n",
      "Bayswater                    0.000949\n",
      "Middle Village               0.000949\n",
      "Clason Point                 0.000949\n",
      "Ozone Park                   0.000949\n",
      "Queens Village               0.000949\n",
      "Morrisania                   0.000949\n",
      "Olinville                    0.000949\n",
      "Tribeca                      0.000949\n",
      "Randall Manor                0.000949\n",
      "Wakefield                    0.000949\n",
      "Arrochar                     0.000949\n",
      "Flatiron District            0.000949\n",
      "Tottenville                  0.000949\n",
      "Vinegar Hill                 0.000949\n",
      "Huguenot                     0.000949\n",
      "Schuylerville                0.000949\n",
      "Brownsville                  0.000949\n",
      "New Springville              0.000949\n",
      "Navy Yard                    0.000949\n",
      "Claremont Village            0.000949\n",
      "Civic Center                 0.000949\n",
      "Norwood                      0.000949\n",
      "Kew Gardens Hills            0.000949\n",
      "Eltingville                  0.000949\n",
      "Highbridge                   0.000949\n",
      "Morris Park                  0.000949\n",
      "Whitestone                   0.000949\n",
      "Name: neighbourhood, Length: 123, dtype: float64 \n",
      "\n",
      "room_type Column :\n",
      "Number of categories:  3 \n",
      "\n",
      "% observations in  room_type  :\n",
      "Entire home/apt    0.511385\n",
      "Private room       0.457306\n",
      "Shared room        0.031309\n",
      "Name: room_type, dtype: float64 \n",
      "\n",
      "last_review Column :\n",
      "Number of categories:  360 \n",
      "\n",
      "% observations in  last_review  :\n",
      "01-07-2019    0.037915\n",
      "24-06-2019    0.034360\n",
      "30-06-2019    0.031991\n",
      "23-06-2019    0.030806\n",
      "07-07-2019    0.029621\n",
      "22-06-2019    0.018957\n",
      "02-07-2019    0.016588\n",
      "16-06-2019    0.016588\n",
      "21-06-2019    0.016588\n",
      "29-06-2019    0.014218\n",
      "06-07-2019    0.013033\n",
      "09-06-2019    0.013033\n",
      "28-06-2019    0.011848\n",
      "05-07-2019    0.011848\n",
      "03-07-2019    0.011848\n",
      "02-01-2019    0.010664\n",
      "18-06-2019    0.010664\n",
      "17-06-2019    0.010664\n",
      "26-06-2019    0.010664\n",
      "10-06-2019    0.009479\n",
      "02-06-2019    0.009479\n",
      "25-06-2019    0.009479\n",
      "27-06-2019    0.009479\n",
      "31-05-2019    0.009479\n",
      "01-06-2019    0.009479\n",
      "20-06-2019    0.008294\n",
      "15-06-2019    0.008294\n",
      "04-07-2019    0.008294\n",
      "19-05-2019    0.008294\n",
      "01-01-2019    0.007109\n",
      "                ...   \n",
      "10-06-2014    0.001185\n",
      "15-01-2019    0.001185\n",
      "28-07-2018    0.001185\n",
      "02-12-2017    0.001185\n",
      "21-05-2019    0.001185\n",
      "09-09-2017    0.001185\n",
      "16-10-2018    0.001185\n",
      "31-01-2016    0.001185\n",
      "03-02-2019    0.001185\n",
      "06-01-2016    0.001185\n",
      "30-03-2019    0.001185\n",
      "24-05-2019    0.001185\n",
      "24-10-2018    0.001185\n",
      "31-12-2017    0.001185\n",
      "28-12-2018    0.001185\n",
      "07-04-2017    0.001185\n",
      "03-04-2019    0.001185\n",
      "17-10-2014    0.001185\n",
      "28-06-2018    0.001185\n",
      "02-08-2015    0.001185\n",
      "25-03-2019    0.001185\n",
      "03-08-2018    0.001185\n",
      "20-08-2016    0.001185\n",
      "28-03-2019    0.001185\n",
      "10-10-2018    0.001185\n",
      "31-08-2017    0.001185\n",
      "12-06-2017    0.001185\n",
      "04-01-2019    0.001185\n",
      "12-11-2015    0.001185\n",
      "16-04-2019    0.001185\n",
      "Name: last_review, Length: 360, dtype: float64 \n",
      "\n"
     ]
    }
   ],
   "source": [
    "#c\n",
    "for col in df.select_dtypes(include='object').columns:\n",
    "    print(col,'Column :')\n",
    "    print('Number of categories: ',df[col].nunique(),'\\n')\n",
    "    print('% observations in ',col,' :')\n",
    "    print(df[col].value_counts(normalize=True),'\\n')"
   ]
  },
  {
   "cell_type": "markdown",
   "metadata": {
    "colab_type": "text",
    "id": "KISMZIiebICg"
   },
   "source": [
    "### 3.\tCheck for defects in the data. Perform necessary actions to ‘fix’ these defects (5 Marks)\n",
    "Some pointers which would help you, but don’t be limited by these\n",
    "\n",
    "a.\tDo variables have missing/null values?\n",
    "\n",
    "b.\tDo variables have outliers?\n",
    "\n",
    "c.\tIs the data normally distributed? Is it a defect? Why or why not? \n"
   ]
  },
  {
   "cell_type": "code",
   "execution_count": 10,
   "metadata": {
    "colab": {},
    "colab_type": "code",
    "id": "c7FpRGlPbICh"
   },
   "outputs": [
    {
     "data": {
      "text/plain": [
       "neighbourhood_group                 0\n",
       "neighbourhood                       0\n",
       "latitude                            0\n",
       "longitude                           0\n",
       "room_type                           0\n",
       "price                               0\n",
       "minimum_nights                      0\n",
       "number_of_reviews                   0\n",
       "last_review                       210\n",
       "reviews_per_month                 210\n",
       "calculated_host_listings_count      0\n",
       "availability_365                    0\n",
       "dtype: int64"
      ]
     },
     "execution_count": 10,
     "metadata": {},
     "output_type": "execute_result"
    }
   ],
   "source": [
    "#a)\n",
    "df.isnull().sum()"
   ]
  },
  {
   "cell_type": "markdown",
   "metadata": {},
   "source": [
    "From the above we can say that there are 210 null values in the columns last_review and reviews_per_month"
   ]
  },
  {
   "cell_type": "code",
   "execution_count": 12,
   "metadata": {},
   "outputs": [
    {
     "data": {
      "text/plain": [
       "<matplotlib.axes._subplots.AxesSubplot at 0x7fe3bffe4160>"
      ]
     },
     "execution_count": 12,
     "metadata": {},
     "output_type": "execute_result"
    },
    {
     "data": {
      "image/png": "[encoded data removed]",
      "text/plain": [
       "<Figure size 1296x720 with 1 Axes>"
      ]
     },
     "metadata": {
      "needs_background": "light"
     },
     "output_type": "display_data"
    }
   ],
   "source": [
    "#b)\n",
    "import matplotlib.pyplot as plt\n",
    "plt.figure(figsize=(18,10))\n",
    "df.boxplot()"
   ]
  },
  {
   "cell_type": "markdown",
   "metadata": {},
   "source": [
    "We can see from the above graph that there are outliers in price,minimum_nights,number_of_reviews,calculated_host_listing_count"
   ]
  },
  {
   "cell_type": "markdown",
   "metadata": {},
   "source": [
    "Imputing null values:"
   ]
  },
  {
   "cell_type": "code",
   "execution_count": 13,
   "metadata": {},
   "outputs": [],
   "source": [
    "df['last_review']=pd.to_datetime(df['last_review'])\n",
    "df['month']=df['last_review'].dt.strftime('%m')"
   ]
  },
  {
   "cell_type": "code",
   "execution_count": 14,
   "metadata": {},
   "outputs": [],
   "source": [
    "mode_val=df['month'].mode()\n",
    "df['month']=df['month'].replace({'NaT':mode_val})"
   ]
  },
  {
   "cell_type": "code",
   "execution_count": 15,
   "metadata": {},
   "outputs": [],
   "source": [
    "df['last_review']=df.groupby(['month'])['last_review'].fillna(df['last_review'].mode()[0])\n",
    "df['reviews_per_month']=df.groupby(['month'])['reviews_per_month'].fillna(df['reviews_per_month'].mode()[0])"
   ]
  },
  {
   "cell_type": "code",
   "execution_count": 16,
   "metadata": {},
   "outputs": [
    {
     "data": {
      "text/plain": [
       "neighbourhood_group               0\n",
       "neighbourhood                     0\n",
       "latitude                          0\n",
       "longitude                         0\n",
       "room_type                         0\n",
       "price                             0\n",
       "minimum_nights                    0\n",
       "number_of_reviews                 0\n",
       "last_review                       0\n",
       "reviews_per_month                 0\n",
       "calculated_host_listings_count    0\n",
       "availability_365                  0\n",
       "month                             0\n",
       "dtype: int64"
      ]
     },
     "execution_count": 16,
     "metadata": {},
     "output_type": "execute_result"
    }
   ],
   "source": [
    "df.isnull().sum()"
   ]
  },
  {
   "cell_type": "code",
   "execution_count": 17,
   "metadata": {},
   "outputs": [],
   "source": [
    "df.drop('month',axis=1,inplace=True)"
   ]
  },
  {
   "cell_type": "code",
   "execution_count": 18,
   "metadata": {
    "scrolled": false
   },
   "outputs": [
    {
     "name": "stdout",
     "output_type": "stream",
     "text": [
      "Distribution of  latitude :\n",
      "Skweness:  0.2570341739049472\n"
     ]
    },
    {
     "data": {
      "image/png": "[encoded data removed]",
      "text/plain": [
       "<Figure size 432x288 with 1 Axes>"
      ]
     },
     "metadata": {
      "needs_background": "light"
     },
     "output_type": "display_data"
    },
    {
     "name": "stdout",
     "output_type": "stream",
     "text": [
      "Distribution of  longitude :\n",
      "Skweness:  0.9878346284259869\n"
     ]
    },
    {
     "data": {
      "image/png": "[encoded data removed]",
      "text/plain": [
       "<Figure size 432x288 with 1 Axes>"
      ]
     },
     "metadata": {
      "needs_background": "light"
     },
     "output_type": "display_data"
    },
    {
     "name": "stdout",
     "output_type": "stream",
     "text": [
      "Distribution of  price :\n",
      "Skweness:  4.981155542768506\n"
     ]
    },
    {
     "data": {
      "image/png": "[encoded data removed]",
      "text/plain": [
       "<Figure size 432x288 with 1 Axes>"
      ]
     },
     "metadata": {
      "needs_background": "light"
     },
     "output_type": "display_data"
    },
    {
     "name": "stdout",
     "output_type": "stream",
     "text": [
      "Distribution of  minimum_nights :\n",
      "Skweness:  23.322089752532857\n"
     ]
    },
    {
     "data": {
      "image/png": "[encoded data removed]",
      "text/plain": [
       "<Figure size 432x288 with 1 Axes>"
      ]
     },
     "metadata": {
      "needs_background": "light"
     },
     "output_type": "display_data"
    },
    {
     "name": "stdout",
     "output_type": "stream",
     "text": [
      "Distribution of  number_of_reviews :\n",
      "Skweness:  3.7131116161914086\n"
     ]
    },
    {
     "data": {
      "image/png": "[encoded data removed]",
      "text/plain": [
       "<Figure size 432x288 with 1 Axes>"
      ]
     },
     "metadata": {
      "needs_background": "light"
     },
     "output_type": "display_data"
    },
    {
     "name": "stdout",
     "output_type": "stream",
     "text": [
      "Distribution of  reviews_per_month :\n",
      "Skweness:  2.6632037808095874\n"
     ]
    },
    {
     "data": {
      "image/png": "[encoded data removed]",
      "text/plain": [
       "<Figure size 432x288 with 1 Axes>"
      ]
     },
     "metadata": {
      "needs_background": "light"
     },
     "output_type": "display_data"
    },
    {
     "name": "stdout",
     "output_type": "stream",
     "text": [
      "Distribution of  calculated_host_listings_count :\n",
      "Skweness:  8.233808107546356\n"
     ]
    },
    {
     "data": {
      "image/png": "[encoded data removed]",
      "text/plain": [
       "<Figure size 432x288 with 1 Axes>"
      ]
     },
     "metadata": {
      "needs_background": "light"
     },
     "output_type": "display_data"
    },
    {
     "name": "stdout",
     "output_type": "stream",
     "text": [
      "Distribution of  availability_365 :\n",
      "Skweness:  0.7598883201948172\n"
     ]
    },
    {
     "data": {
      "image/png": "[encoded data removed]",
      "text/plain": [
       "<Figure size 432x288 with 1 Axes>"
      ]
     },
     "metadata": {
      "needs_background": "light"
     },
     "output_type": "display_data"
    }
   ],
   "source": [
    "#c)\n",
    "import seaborn as sns\n",
    "for col in df.select_dtypes(include='number').columns:\n",
    "    print('Distribution of ',col,':')\n",
    "    print('Skweness: ',df[col].skew())\n",
    "    sns.distplot(df[col])\n",
    "    plt.show()"
   ]
  },
  {
   "cell_type": "markdown",
   "metadata": {
    "colab_type": "text",
    "id": "S1AGkFcDbICj"
   },
   "source": [
    "### 4.\tSummarize relationships among variables (10 marks)               \n",
    "a.\tPlot correlation plots. Which are the variables most correlated with Target? Which independent variables are correlated among themselves? Do you want to exclude some variables from the model based on this analysis? What other actions will you take?\n",
    "\n",
    "\n",
    "b.\tPlot all independent variables with the target. Are all relationships linear? If not, what steps would you take based on this information?\n",
    "\n",
    " Hint: based on your observations you may want to transform features or create additional features.\n"
   ]
  },
  {
   "cell_type": "code",
   "execution_count": 19,
   "metadata": {
    "colab": {},
    "colab_type": "code",
    "id": "uIW2dWeObICj"
   },
   "outputs": [
    {
     "data": {
      "text/plain": [
       "<matplotlib.axes._subplots.AxesSubplot at 0x7fe3bd7f6da0>"
      ]
     },
     "execution_count": 19,
     "metadata": {},
     "output_type": "execute_result"
    },
    {
     "data": {
      "image/png": "[encoded data removed]",
      "text/plain": [
       "<Figure size 936x720 with 2 Axes>"
      ]
     },
     "metadata": {
      "needs_background": "light"
     },
     "output_type": "display_data"
    }
   ],
   "source": [
    "#a)Correlation plot\n",
    "\n",
    "plt.figure(figsize=(13,10))\n",
    "sns.heatmap(df.corr(),annot=True)"
   ]
  },
  {
   "cell_type": "markdown",
   "metadata": {},
   "source": [
    "Inference:\n",
    "\n",
    "    None of the independent is highly co-related with the target variable"
   ]
  },
  {
   "cell_type": "code",
   "execution_count": 20,
   "metadata": {
    "scrolled": true
   },
   "outputs": [
    {
     "data": {
      "image/png": "[encoded data removed]",
      "text/plain": [
       "<Figure size 1080x1800 with 8 Axes>"
      ]
     },
     "metadata": {
      "needs_background": "light"
     },
     "output_type": "display_data"
    }
   ],
   "source": [
    "#b)independent numerical variables with the target\n",
    "q=1\n",
    "plt.figure(figsize=(15,25))\n",
    "for col in df.select_dtypes(include='number').columns:\n",
    "    plt.subplot(4,2,q)\n",
    "    plt.title(col)\n",
    "    plt.scatter(df[col],df['price'])\n",
    "    plt.xlabel(col)\n",
    "    plt.ylabel('Price')\n",
    "    q+=1\n",
    "plt.show()"
   ]
  },
  {
   "cell_type": "code",
   "execution_count": 21,
   "metadata": {},
   "outputs": [
    {
     "data": {
      "image/png": "[encoded data removed]",
      "text/plain": [
       "<Figure size 1080x1800 with 3 Axes>"
      ]
     },
     "metadata": {
      "needs_background": "light"
     },
     "output_type": "display_data"
    }
   ],
   "source": [
    "#b)independent categorical variables with the target\n",
    "q=1\n",
    "plt.figure(figsize=(15,25))\n",
    "for col in df.select_dtypes(include='object').columns:\n",
    "    plt.subplot(4,2,q)\n",
    "    plt.title(col)\n",
    "    plt.bar(df[col],df['price'])\n",
    "    plt.xlabel(col)\n",
    "    plt.ylabel('Price')\n",
    "    q+=1\n",
    "plt.show()"
   ]
  },
  {
   "cell_type": "markdown",
   "metadata": {},
   "source": [
    "Inference:\n",
    "    \n",
    "    None of the dependent variables have linear relation with the target variable which may be due to the outliers as it may be due to the bias on outliers.\n",
    "    \n",
    "    "
   ]
  },
  {
   "cell_type": "markdown",
   "metadata": {},
   "source": [
    "Transformation:"
   ]
  },
  {
   "cell_type": "code",
   "execution_count": 22,
   "metadata": {},
   "outputs": [],
   "source": [
    "df_copy=df.copy()"
   ]
  },
  {
   "cell_type": "code",
   "execution_count": 23,
   "metadata": {},
   "outputs": [
    {
     "data": {
      "text/plain": [
       "neighbourhood_group               0\n",
       "neighbourhood                     0\n",
       "latitude                          0\n",
       "longitude                         0\n",
       "room_type                         0\n",
       "price                             0\n",
       "minimum_nights                    0\n",
       "number_of_reviews                 0\n",
       "last_review                       0\n",
       "reviews_per_month                 0\n",
       "calculated_host_listings_count    0\n",
       "availability_365                  0\n",
       "dtype: int64"
      ]
     },
     "execution_count": 23,
     "metadata": {},
     "output_type": "execute_result"
    }
   ],
   "source": [
    "df_copy.isnull().sum()"
   ]
  },
  {
   "cell_type": "code",
   "execution_count": 24,
   "metadata": {},
   "outputs": [
    {
     "data": {
      "text/plain": [
       "Index(['latitude', 'longitude', 'price', 'minimum_nights', 'number_of_reviews',\n",
       "       'reviews_per_month', 'calculated_host_listings_count',\n",
       "       'availability_365'],\n",
       "      dtype='object')"
      ]
     },
     "execution_count": 24,
     "metadata": {},
     "output_type": "execute_result"
    }
   ],
   "source": [
    "df_copy.select_dtypes(include='number').columns"
   ]
  },
  {
   "cell_type": "code",
   "execution_count": 25,
   "metadata": {},
   "outputs": [],
   "source": [
    "import numpy as np\n",
    "df_copy['price']=np.log(df_copy['price']+1)\n",
    "df_copy['minimum_nights']=np.log(df_copy['minimum_nights']+1)\n",
    "df_copy['number_of_reviews']=np.log(df_copy['number_of_reviews']+1)\n",
    "df_copy['reviews_per_month']=np.log(df_copy['reviews_per_month']+1)\n",
    "df_copy['calculated_host_listings_count']=np.log(df_copy['calculated_host_listings_count']+1)\n",
    "df_copy['availability_365']=np.log(df_copy['availability_365']+1)"
   ]
  },
  {
   "cell_type": "markdown",
   "metadata": {},
   "source": [
    "Converting Longitude column to categorical:"
   ]
  },
  {
   "cell_type": "code",
   "execution_count": 26,
   "metadata": {},
   "outputs": [],
   "source": [
    "mean_val=df['longitude'].mean()"
   ]
  },
  {
   "cell_type": "code",
   "execution_count": 27,
   "metadata": {},
   "outputs": [],
   "source": [
    "df_copy['longitude']=df_copy['longitude'].astype('object')"
   ]
  },
  {
   "cell_type": "code",
   "execution_count": 28,
   "metadata": {},
   "outputs": [],
   "source": [
    "def long_zone(x):\n",
    "    if int(x)>=mean_val:\n",
    "        return 'Zone A'\n",
    "    elif int(x)<mean_val:\n",
    "        return 'Zone B'  "
   ]
  },
  {
   "cell_type": "code",
   "execution_count": 29,
   "metadata": {},
   "outputs": [],
   "source": [
    "df_copy['longitude']=df_copy['longitude'].apply(long_zone)"
   ]
  },
  {
   "cell_type": "code",
   "execution_count": 30,
   "metadata": {},
   "outputs": [
    {
     "data": {
      "text/plain": [
       "Zone A    983\n",
       "Zone B     71\n",
       "Name: longitude, dtype: int64"
      ]
     },
     "execution_count": 30,
     "metadata": {},
     "output_type": "execute_result"
    }
   ],
   "source": [
    "df_copy['longitude'].value_counts()"
   ]
  },
  {
   "cell_type": "markdown",
   "metadata": {},
   "source": [
    "Since neighbourhoor column has 123 unique categories it looses it significance to the target variable. So we drop the column."
   ]
  },
  {
   "cell_type": "code",
   "execution_count": 31,
   "metadata": {},
   "outputs": [],
   "source": [
    "df_copy.drop('neighbourhood',axis=1,inplace=True)"
   ]
  },
  {
   "cell_type": "markdown",
   "metadata": {},
   "source": [
    "Since correlation of latitude and price(target column) is almost 0 we drop the column."
   ]
  },
  {
   "cell_type": "code",
   "execution_count": 32,
   "metadata": {},
   "outputs": [],
   "source": [
    "df_copy.drop('latitude',axis=1,inplace=True)"
   ]
  },
  {
   "cell_type": "markdown",
   "metadata": {},
   "source": [
    "Since we hav the number of reviews per month column we also drop last_review column"
   ]
  },
  {
   "cell_type": "code",
   "execution_count": 37,
   "metadata": {},
   "outputs": [],
   "source": [
    "df_copy.drop('last_review',axis=1,inplace=True)"
   ]
  },
  {
   "cell_type": "markdown",
   "metadata": {},
   "source": [
    "Dummification of categorical columns:"
   ]
  },
  {
   "cell_type": "code",
   "execution_count": 64,
   "metadata": {},
   "outputs": [],
   "source": [
    "df_final=pd.get_dummies(df_copy,columns=['room_type','neighbourhood_group','longitude'],drop_first=True)"
   ]
  },
  {
   "cell_type": "code",
   "execution_count": null,
   "metadata": {},
   "outputs": [],
   "source": []
  },
  {
   "cell_type": "code",
   "execution_count": 65,
   "metadata": {
    "scrolled": false
   },
   "outputs": [
    {
     "data": {
      "text/html": [
       "<div>\n",
       "<style scoped>\n",
       "    .dataframe tbody tr th:only-of-type {\n",
       "        vertical-align: middle;\n",
       "    }\n",
       "\n",
       "    .dataframe tbody tr th {\n",
       "        vertical-align: top;\n",
       "    }\n",
       "\n",
       "    .dataframe thead th {\n",
       "        text-align: right;\n",
       "    }\n",
       "</style>\n",
       "<table border=\"1\" class=\"dataframe\">\n",
       "  <thead>\n",
       "    <tr style=\"text-align: right;\">\n",
       "      <th></th>\n",
       "      <th>price</th>\n",
       "      <th>minimum_nights</th>\n",
       "      <th>number_of_reviews</th>\n",
       "      <th>reviews_per_month</th>\n",
       "      <th>calculated_host_listings_count</th>\n",
       "      <th>availability_365</th>\n",
       "      <th>room_type_Private room</th>\n",
       "      <th>room_type_Shared room</th>\n",
       "      <th>neighbourhood_group_Brooklyn</th>\n",
       "      <th>neighbourhood_group_Manhattan</th>\n",
       "      <th>neighbourhood_group_Queens</th>\n",
       "      <th>neighbourhood_group_Staten Island</th>\n",
       "      <th>longitude_Zone B</th>\n",
       "    </tr>\n",
       "  </thead>\n",
       "  <tbody>\n",
       "    <tr>\n",
       "      <th>0</th>\n",
       "      <td>5.620401</td>\n",
       "      <td>3.433987</td>\n",
       "      <td>1.609438</td>\n",
       "      <td>0.139762</td>\n",
       "      <td>2.564949</td>\n",
       "      <td>5.298317</td>\n",
       "      <td>0</td>\n",
       "      <td>0</td>\n",
       "      <td>0</td>\n",
       "      <td>1</td>\n",
       "      <td>0</td>\n",
       "      <td>0</td>\n",
       "      <td>0</td>\n",
       "    </tr>\n",
       "    <tr>\n",
       "      <th>1</th>\n",
       "      <td>4.709530</td>\n",
       "      <td>1.098612</td>\n",
       "      <td>0.693147</td>\n",
       "      <td>0.029559</td>\n",
       "      <td>0.693147</td>\n",
       "      <td>0.000000</td>\n",
       "      <td>1</td>\n",
       "      <td>0</td>\n",
       "      <td>0</td>\n",
       "      <td>1</td>\n",
       "      <td>0</td>\n",
       "      <td>0</td>\n",
       "      <td>0</td>\n",
       "    </tr>\n",
       "    <tr>\n",
       "      <th>2</th>\n",
       "      <td>4.025352</td>\n",
       "      <td>1.098612</td>\n",
       "      <td>3.258097</td>\n",
       "      <td>1.214913</td>\n",
       "      <td>1.386294</td>\n",
       "      <td>3.663562</td>\n",
       "      <td>1</td>\n",
       "      <td>0</td>\n",
       "      <td>0</td>\n",
       "      <td>0</td>\n",
       "      <td>1</td>\n",
       "      <td>0</td>\n",
       "      <td>0</td>\n",
       "    </tr>\n",
       "    <tr>\n",
       "      <th>3</th>\n",
       "      <td>4.574711</td>\n",
       "      <td>1.098612</td>\n",
       "      <td>0.693147</td>\n",
       "      <td>0.029559</td>\n",
       "      <td>0.693147</td>\n",
       "      <td>0.000000</td>\n",
       "      <td>0</td>\n",
       "      <td>0</td>\n",
       "      <td>0</td>\n",
       "      <td>0</td>\n",
       "      <td>1</td>\n",
       "      <td>0</td>\n",
       "      <td>0</td>\n",
       "    </tr>\n",
       "    <tr>\n",
       "      <th>4</th>\n",
       "      <td>4.394449</td>\n",
       "      <td>0.693147</td>\n",
       "      <td>0.000000</td>\n",
       "      <td>0.019803</td>\n",
       "      <td>0.693147</td>\n",
       "      <td>1.791759</td>\n",
       "      <td>1</td>\n",
       "      <td>0</td>\n",
       "      <td>1</td>\n",
       "      <td>0</td>\n",
       "      <td>0</td>\n",
       "      <td>0</td>\n",
       "      <td>0</td>\n",
       "    </tr>\n",
       "  </tbody>\n",
       "</table>\n",
       "</div>"
      ],
      "text/plain": [
       "      price  minimum_nights  number_of_reviews  reviews_per_month  \\\n",
       "0  5.620401        3.433987           1.609438           0.139762   \n",
       "1  4.709530        1.098612           0.693147           0.029559   \n",
       "2  4.025352        1.098612           3.258097           1.214913   \n",
       "3  4.574711        1.098612           0.693147           0.029559   \n",
       "4  4.394449        0.693147           0.000000           0.019803   \n",
       "\n",
       "   calculated_host_listings_count  availability_365  room_type_Private room  \\\n",
       "0                        2.564949          5.298317                       0   \n",
       "1                        0.693147          0.000000                       1   \n",
       "2                        1.386294          3.663562                       1   \n",
       "3                        0.693147          0.000000                       0   \n",
       "4                        0.693147          1.791759                       1   \n",
       "\n",
       "   room_type_Shared room  neighbourhood_group_Brooklyn  \\\n",
       "0                      0                             0   \n",
       "1                      0                             0   \n",
       "2                      0                             0   \n",
       "3                      0                             0   \n",
       "4                      0                             1   \n",
       "\n",
       "   neighbourhood_group_Manhattan  neighbourhood_group_Queens  \\\n",
       "0                              1                           0   \n",
       "1                              1                           0   \n",
       "2                              0                           1   \n",
       "3                              0                           1   \n",
       "4                              0                           0   \n",
       "\n",
       "   neighbourhood_group_Staten Island  longitude_Zone B  \n",
       "0                                  0                 0  \n",
       "1                                  0                 0  \n",
       "2                                  0                 0  \n",
       "3                                  0                 0  \n",
       "4                                  0                 0  "
      ]
     },
     "execution_count": 65,
     "metadata": {},
     "output_type": "execute_result"
    }
   ],
   "source": [
    "df_final.head()"
   ]
  },
  {
   "cell_type": "markdown",
   "metadata": {
    "colab_type": "text",
    "id": "v4ihiOufbICm"
   },
   "source": [
    "## 5.\tSplit dataset into train and test (70:30) (5 MARKS)\n",
    "\n",
    "#### a.Are both train and test representative of the overall data? How would you ascertain this statistically?\n"
   ]
  },
  {
   "cell_type": "code",
   "execution_count": 92,
   "metadata": {},
   "outputs": [],
   "source": [
    "X=df_final.drop('price',axis=1)\n",
    "y=df_final['price']"
   ]
  },
  {
   "cell_type": "code",
   "execution_count": 93,
   "metadata": {
    "colab": {},
    "colab_type": "code",
    "id": "wmMjNa3RbICm"
   },
   "outputs": [],
   "source": [
    "from sklearn.model_selection import train_test_split\n",
    "X_train, X_test,y_train,y_test=train_test_split(X,y,test_size=0.3,random_state=10)"
   ]
  },
  {
   "cell_type": "markdown",
   "metadata": {},
   "source": [
    "Since the target variable is continuous variable we do one way anova to ascertain this statistically.\n",
    "\n",
    "Hence the hypothesis formed is as follows:\n",
    "    \n",
    "    H0: Both train and test represent overall data.\n",
    "    HA: Both train and test do not represent overall data."
   ]
  },
  {
   "cell_type": "code",
   "execution_count": 94,
   "metadata": {},
   "outputs": [
    {
     "data": {
      "text/plain": [
       "F_onewayResult(statistic=0.19986749150347358, pvalue=0.8188547865070481)"
      ]
     },
     "execution_count": 94,
     "metadata": {},
     "output_type": "execute_result"
    }
   ],
   "source": [
    "from scipy.stats import f_oneway\n",
    "f_oneway(y_train,y_test,y)"
   ]
  },
  {
   "cell_type": "markdown",
   "metadata": {},
   "source": [
    "Since P-Value is greater than alpha(0.05), we accept the null hypothesis and we can say that the split represents the population."
   ]
  },
  {
   "cell_type": "markdown",
   "metadata": {
    "colab_type": "text",
    "id": "L2pJnXEvbICt"
   },
   "source": [
    "###  6.\tFit a base model. Please write your key observations (15 marks) \n",
    "\n",
    "a.\tWhat is the overall R2? Please comment on whether it is good or not. \n",
    "\n",
    "b.\tWhat is the adjusted R2? Is it different from R2? Why?\n",
    "\n",
    "c.\tWhich variables are significant?\n",
    "\n",
    "d.\tIs there multicollinearity?\n",
    "\n",
    "e.\tWhich other key model output parameters do you want to look at? \n"
   ]
  },
  {
   "cell_type": "code",
   "execution_count": 95,
   "metadata": {
    "colab": {},
    "colab_type": "code",
    "id": "hTS9dDvBbICu"
   },
   "outputs": [
    {
     "name": "stdout",
     "output_type": "stream",
     "text": [
      "Overall Score for train:  0.5630238301585413\n",
      "Overall Score for test:  0.34877008667485\n"
     ]
    }
   ],
   "source": [
    "#a)\n",
    "from sklearn.linear_model import LinearRegression\n",
    "LR=LinearRegression()\n",
    "LR.fit(X_train,y_train)\n",
    "print('Overall Score for train: ',LR.score(X_train,y_train))\n",
    "print('Overall Score for test: ',LR.score(X_test,y_test))"
   ]
  },
  {
   "cell_type": "markdown",
   "metadata": {},
   "source": [
    "From the above we can see that the model is over fit. So R2 value is not good."
   ]
  },
  {
   "cell_type": "code",
   "execution_count": 96,
   "metadata": {},
   "outputs": [
    {
     "name": "stderr",
     "output_type": "stream",
     "text": [
      "/home/deploy/anaconda3/lib/python3.7/site-packages/numpy/core/fromnumeric.py:2389: FutureWarning: Method .ptp is deprecated and will be removed in a future version. Use numpy.ptp instead.\n",
      "  return ptp(axis=axis, out=out, **kwargs)\n"
     ]
    },
    {
     "data": {
      "text/html": [
       "<table class=\"simpletable\">\n",
       "<caption>OLS Regression Results</caption>\n",
       "<tr>\n",
       "  <th>Dep. Variable:</th>          <td>price</td>      <th>  R-squared:         </th> <td>   0.510</td> \n",
       "</tr>\n",
       "<tr>\n",
       "  <th>Model:</th>                   <td>OLS</td>       <th>  Adj. R-squared:    </th> <td>   0.504</td> \n",
       "</tr>\n",
       "<tr>\n",
       "  <th>Method:</th>             <td>Least Squares</td>  <th>  F-statistic:       </th> <td>   90.27</td> \n",
       "</tr>\n",
       "<tr>\n",
       "  <th>Date:</th>             <td>Mon, 20 Jul 2020</td> <th>  Prob (F-statistic):</th> <td>6.71e-152</td>\n",
       "</tr>\n",
       "<tr>\n",
       "  <th>Time:</th>                 <td>08:10:35</td>     <th>  Log-Likelihood:    </th> <td> -751.79</td> \n",
       "</tr>\n",
       "<tr>\n",
       "  <th>No. Observations:</th>      <td>  1054</td>      <th>  AIC:               </th> <td>   1530.</td> \n",
       "</tr>\n",
       "<tr>\n",
       "  <th>Df Residuals:</th>          <td>  1041</td>      <th>  BIC:               </th> <td>   1594.</td> \n",
       "</tr>\n",
       "<tr>\n",
       "  <th>Df Model:</th>              <td>    12</td>      <th>                     </th>     <td> </td>    \n",
       "</tr>\n",
       "<tr>\n",
       "  <th>Covariance Type:</th>      <td>nonrobust</td>    <th>                     </th>     <td> </td>    \n",
       "</tr>\n",
       "</table>\n",
       "<table class=\"simpletable\">\n",
       "<tr>\n",
       "                  <td></td>                     <th>coef</th>     <th>std err</th>      <th>t</th>      <th>P>|t|</th>  <th>[0.025</th>    <th>0.975]</th>  \n",
       "</tr>\n",
       "<tr>\n",
       "  <th>const</th>                             <td>    4.8600</td> <td>    0.099</td> <td>   49.294</td> <td> 0.000</td> <td>    4.667</td> <td>    5.053</td>\n",
       "</tr>\n",
       "<tr>\n",
       "  <th>minimum_nights</th>                    <td>   -0.1237</td> <td>    0.020</td> <td>   -6.229</td> <td> 0.000</td> <td>   -0.163</td> <td>   -0.085</td>\n",
       "</tr>\n",
       "<tr>\n",
       "  <th>number_of_reviews</th>                 <td>   -0.0432</td> <td>    0.016</td> <td>   -2.782</td> <td> 0.005</td> <td>   -0.074</td> <td>   -0.013</td>\n",
       "</tr>\n",
       "<tr>\n",
       "  <th>reviews_per_month</th>                 <td>   -0.0615</td> <td>    0.045</td> <td>   -1.377</td> <td> 0.169</td> <td>   -0.149</td> <td>    0.026</td>\n",
       "</tr>\n",
       "<tr>\n",
       "  <th>calculated_host_listings_count</th>    <td>    0.0266</td> <td>    0.020</td> <td>    1.300</td> <td> 0.194</td> <td>   -0.014</td> <td>    0.067</td>\n",
       "</tr>\n",
       "<tr>\n",
       "  <th>availability_365</th>                  <td>    0.0509</td> <td>    0.008</td> <td>    6.754</td> <td> 0.000</td> <td>    0.036</td> <td>    0.066</td>\n",
       "</tr>\n",
       "<tr>\n",
       "  <th>room_type_Private room</th>            <td>   -0.7911</td> <td>    0.033</td> <td>  -24.303</td> <td> 0.000</td> <td>   -0.855</td> <td>   -0.727</td>\n",
       "</tr>\n",
       "<tr>\n",
       "  <th>room_type_Shared room</th>             <td>   -1.0438</td> <td>    0.092</td> <td>  -11.308</td> <td> 0.000</td> <td>   -1.225</td> <td>   -0.863</td>\n",
       "</tr>\n",
       "<tr>\n",
       "  <th>neighbourhood_group_Brooklyn</th>      <td>    0.3001</td> <td>    0.092</td> <td>    3.278</td> <td> 0.001</td> <td>    0.120</td> <td>    0.480</td>\n",
       "</tr>\n",
       "<tr>\n",
       "  <th>neighbourhood_group_Manhattan</th>     <td>    0.5814</td> <td>    0.092</td> <td>    6.324</td> <td> 0.000</td> <td>    0.401</td> <td>    0.762</td>\n",
       "</tr>\n",
       "<tr>\n",
       "  <th>neighbourhood_group_Queens</th>        <td>    0.0715</td> <td>    0.098</td> <td>    0.731</td> <td> 0.465</td> <td>   -0.120</td> <td>    0.263</td>\n",
       "</tr>\n",
       "<tr>\n",
       "  <th>neighbourhood_group_Staten Island</th> <td>   -0.1412</td> <td>    0.192</td> <td>   -0.734</td> <td> 0.463</td> <td>   -0.519</td> <td>    0.236</td>\n",
       "</tr>\n",
       "<tr>\n",
       "  <th>longitude_Zone B</th>                  <td>    0.2212</td> <td>    0.067</td> <td>    3.295</td> <td> 0.001</td> <td>    0.089</td> <td>    0.353</td>\n",
       "</tr>\n",
       "</table>\n",
       "<table class=\"simpletable\">\n",
       "<tr>\n",
       "  <th>Omnibus:</th>       <td>286.040</td> <th>  Durbin-Watson:     </th> <td>   1.988</td>\n",
       "</tr>\n",
       "<tr>\n",
       "  <th>Prob(Omnibus):</th> <td> 0.000</td>  <th>  Jarque-Bera (JB):  </th> <td>1701.735</td>\n",
       "</tr>\n",
       "<tr>\n",
       "  <th>Skew:</th>          <td> 1.108</td>  <th>  Prob(JB):          </th> <td>    0.00</td>\n",
       "</tr>\n",
       "<tr>\n",
       "  <th>Kurtosis:</th>      <td> 8.817</td>  <th>  Cond. No.          </th> <td>    71.8</td>\n",
       "</tr>\n",
       "</table><br/><br/>Warnings:<br/>[1] Standard Errors assume that the covariance matrix of the errors is correctly specified."
      ],
      "text/plain": [
       "<class 'statsmodels.iolib.summary.Summary'>\n",
       "\"\"\"\n",
       "                            OLS Regression Results                            \n",
       "==============================================================================\n",
       "Dep. Variable:                  price   R-squared:                       0.510\n",
       "Model:                            OLS   Adj. R-squared:                  0.504\n",
       "Method:                 Least Squares   F-statistic:                     90.27\n",
       "Date:                Mon, 20 Jul 2020   Prob (F-statistic):          6.71e-152\n",
       "Time:                        08:10:35   Log-Likelihood:                -751.79\n",
       "No. Observations:                1054   AIC:                             1530.\n",
       "Df Residuals:                    1041   BIC:                             1594.\n",
       "Df Model:                          12                                         \n",
       "Covariance Type:            nonrobust                                         \n",
       "=====================================================================================================\n",
       "                                        coef    std err          t      P>|t|      [0.025      0.975]\n",
       "-----------------------------------------------------------------------------------------------------\n",
       "const                                 4.8600      0.099     49.294      0.000       4.667       5.053\n",
       "minimum_nights                       -0.1237      0.020     -6.229      0.000      -0.163      -0.085\n",
       "number_of_reviews                    -0.0432      0.016     -2.782      0.005      -0.074      -0.013\n",
       "reviews_per_month                    -0.0615      0.045     -1.377      0.169      -0.149       0.026\n",
       "calculated_host_listings_count        0.0266      0.020      1.300      0.194      -0.014       0.067\n",
       "availability_365                      0.0509      0.008      6.754      0.000       0.036       0.066\n",
       "room_type_Private room               -0.7911      0.033    -24.303      0.000      -0.855      -0.727\n",
       "room_type_Shared room                -1.0438      0.092    -11.308      0.000      -1.225      -0.863\n",
       "neighbourhood_group_Brooklyn          0.3001      0.092      3.278      0.001       0.120       0.480\n",
       "neighbourhood_group_Manhattan         0.5814      0.092      6.324      0.000       0.401       0.762\n",
       "neighbourhood_group_Queens            0.0715      0.098      0.731      0.465      -0.120       0.263\n",
       "neighbourhood_group_Staten Island    -0.1412      0.192     -0.734      0.463      -0.519       0.236\n",
       "longitude_Zone B                      0.2212      0.067      3.295      0.001       0.089       0.353\n",
       "==============================================================================\n",
       "Omnibus:                      286.040   Durbin-Watson:                   1.988\n",
       "Prob(Omnibus):                  0.000   Jarque-Bera (JB):             1701.735\n",
       "Skew:                           1.108   Prob(JB):                         0.00\n",
       "Kurtosis:                       8.817   Cond. No.                         71.8\n",
       "==============================================================================\n",
       "\n",
       "Warnings:\n",
       "[1] Standard Errors assume that the covariance matrix of the errors is correctly specified.\n",
       "\"\"\""
      ]
     },
     "execution_count": 96,
     "metadata": {},
     "output_type": "execute_result"
    }
   ],
   "source": [
    "#b)\n",
    "import statsmodels.api as sm\n",
    "\n",
    "Xc=sm.add_constant(X)\n",
    "LR_ols=sm.OLS(y,Xc).fit()\n",
    "LR_ols.summary()"
   ]
  },
  {
   "cell_type": "markdown",
   "metadata": {},
   "source": [
    "Since Adj. R2 is 50% and R2 is 51% for train data, this is different as, R2 is the ratio of sum of explained variance and total variance and adj. R2 is the ratio of R2 and statistical fluke."
   ]
  },
  {
   "cell_type": "markdown",
   "metadata": {},
   "source": [
    "#c)\n",
    "\n",
    "Based on the above OLS model the features that have P-Value less than alpha(0.05) are significant features.\n",
    "\n",
    "Hence reviews_per_month,room_type_Shared room and neighbourhood_group_Staten Iland columns are insignificant."
   ]
  },
  {
   "cell_type": "code",
   "execution_count": 97,
   "metadata": {},
   "outputs": [
    {
     "data": {
      "text/html": [
       "<div>\n",
       "<style scoped>\n",
       "    .dataframe tbody tr th:only-of-type {\n",
       "        vertical-align: middle;\n",
       "    }\n",
       "\n",
       "    .dataframe tbody tr th {\n",
       "        vertical-align: top;\n",
       "    }\n",
       "\n",
       "    .dataframe thead th {\n",
       "        text-align: right;\n",
       "    }\n",
       "</style>\n",
       "<table border=\"1\" class=\"dataframe\">\n",
       "  <thead>\n",
       "    <tr style=\"text-align: right;\">\n",
       "      <th></th>\n",
       "      <th>vif</th>\n",
       "    </tr>\n",
       "  </thead>\n",
       "  <tbody>\n",
       "    <tr>\n",
       "      <th>minimum_nights</th>\n",
       "      <td>1.358312</td>\n",
       "    </tr>\n",
       "    <tr>\n",
       "      <th>number_of_reviews</th>\n",
       "      <td>2.528270</td>\n",
       "    </tr>\n",
       "    <tr>\n",
       "      <th>reviews_per_month</th>\n",
       "      <td>2.752623</td>\n",
       "    </tr>\n",
       "    <tr>\n",
       "      <th>calculated_host_listings_count</th>\n",
       "      <td>1.320618</td>\n",
       "    </tr>\n",
       "    <tr>\n",
       "      <th>availability_365</th>\n",
       "      <td>1.447979</td>\n",
       "    </tr>\n",
       "    <tr>\n",
       "      <th>room_type_Private room</th>\n",
       "      <td>1.122754</td>\n",
       "    </tr>\n",
       "    <tr>\n",
       "      <th>room_type_Shared room</th>\n",
       "      <td>1.103352</td>\n",
       "    </tr>\n",
       "    <tr>\n",
       "      <th>neighbourhood_group_Brooklyn</th>\n",
       "      <td>8.645139</td>\n",
       "    </tr>\n",
       "    <tr>\n",
       "      <th>neighbourhood_group_Manhattan</th>\n",
       "      <td>8.822866</td>\n",
       "    </tr>\n",
       "    <tr>\n",
       "      <th>neighbourhood_group_Queens</th>\n",
       "      <td>4.411291</td>\n",
       "    </tr>\n",
       "    <tr>\n",
       "      <th>neighbourhood_group_Staten Island</th>\n",
       "      <td>1.484616</td>\n",
       "    </tr>\n",
       "    <tr>\n",
       "      <th>longitude_Zone B</th>\n",
       "      <td>1.209445</td>\n",
       "    </tr>\n",
       "  </tbody>\n",
       "</table>\n",
       "</div>"
      ],
      "text/plain": [
       "                                        vif\n",
       "minimum_nights                     1.358312\n",
       "number_of_reviews                  2.528270\n",
       "reviews_per_month                  2.752623\n",
       "calculated_host_listings_count     1.320618\n",
       "availability_365                   1.447979\n",
       "room_type_Private room             1.122754\n",
       "room_type_Shared room              1.103352\n",
       "neighbourhood_group_Brooklyn       8.645139\n",
       "neighbourhood_group_Manhattan      8.822866\n",
       "neighbourhood_group_Queens         4.411291\n",
       "neighbourhood_group_Staten Island  1.484616\n",
       "longitude_Zone B                   1.209445"
      ]
     },
     "execution_count": 97,
     "metadata": {},
     "output_type": "execute_result"
    }
   ],
   "source": [
    "#d)\n",
    "from statsmodels.stats.outliers_influence import variance_inflation_factor\n",
    "\n",
    "vif=[variance_inflation_factor(Xc.values,i) for i in range(Xc.shape[1])]\n",
    "pd.DataFrame({'vif':vif[1:]},index=X.columns)"
   ]
  },
  {
   "cell_type": "markdown",
   "metadata": {},
   "source": [
    "Hence we drop the columns that have multicollinearity greater than 6."
   ]
  },
  {
   "cell_type": "code",
   "execution_count": 98,
   "metadata": {},
   "outputs": [
    {
     "name": "stdout",
     "output_type": "stream",
     "text": [
      "MSE= 0.3238106615517568\n",
      "RMSE= 0.5690436376515924\n",
      "MAE= 0.37297001578807454\n"
     ]
    }
   ],
   "source": [
    "#e)\n",
    "y_pred=LR.predict(X_test)\n",
    "from sklearn.metrics import mean_absolute_error,mean_squared_error\n",
    "\n",
    "mse=mean_squared_error(y_test,y_pred)\n",
    "rmse=np.sqrt(mse)\n",
    "mae=mean_absolute_error(y_test,y_pred)\n",
    "print('MSE=',mse)\n",
    "print('RMSE=',rmse)\n",
    "print('MAE=',mae)"
   ]
  },
  {
   "cell_type": "markdown",
   "metadata": {
    "colab_type": "text",
    "id": "NRyfXfQGbIC0"
   },
   "source": [
    "### 7.\tHow do you improve the accuracy of the model? Write clearly the changes that you will make before re-fitting the model. Fit the final model. (20 marks)\n",
    "Please feel free to have any number of iterations to get to the final answer. Marks are awarded based on the quality of final model you are able to achieve. \n"
   ]
  },
  {
   "cell_type": "code",
   "execution_count": 99,
   "metadata": {},
   "outputs": [
    {
     "name": "stdout",
     "output_type": "stream",
     "text": [
      "['minimum_nights', 'number_of_reviews', 'availability_365', 'room_type_Private room', 'room_type_Shared room', 'neighbourhood_group_Brooklyn', 'neighbourhood_group_Manhattan', 'longitude_Zone B']\n"
     ]
    },
    {
     "name": "stderr",
     "output_type": "stream",
     "text": [
      "/home/deploy/anaconda3/lib/python3.7/site-packages/numpy/core/fromnumeric.py:2389: FutureWarning: Method .ptp is deprecated and will be removed in a future version. Use numpy.ptp instead.\n",
      "  return ptp(axis=axis, out=out, **kwargs)\n"
     ]
    }
   ],
   "source": [
    "#Backward Elimination:\n",
    "cols=list(X.columns)\n",
    "pmax=1\n",
    "while (len(cols)>0):\n",
    "    p=[]\n",
    "    X_1=X[cols]\n",
    "    X_1=sm.add_constant(X_1)\n",
    "    model=sm.OLS(y,X_1).fit()\n",
    "    p=pd.Series(model.pvalues.values[1:],index=cols)\n",
    "    pmax=max(p)\n",
    "    feature_with_p_max=p.idxmax()\n",
    "    if(pmax>0.05):\n",
    "        cols.remove(feature_with_p_max)\n",
    "    else:\n",
    "        break\n",
    "selected_features_BE=cols\n",
    "print(selected_features_BE)"
   ]
  },
  {
   "cell_type": "markdown",
   "metadata": {},
   "source": [
    "We refit the final Linear model using the above selected features and removing the features with high multicollinearity."
   ]
  },
  {
   "cell_type": "code",
   "execution_count": 101,
   "metadata": {},
   "outputs": [],
   "source": [
    "X_BE=df_final[['minimum_nights', 'number_of_reviews', 'availability_365', 'room_type_Private room', 'room_type_Shared room', 'longitude_Zone B']]\n",
    "y_BE=df_final['price']"
   ]
  },
  {
   "cell_type": "code",
   "execution_count": 102,
   "metadata": {},
   "outputs": [],
   "source": [
    "from sklearn.model_selection import train_test_split\n",
    "X_train, X_test,y_train,y_test=train_test_split(X_BE,y_BE,test_size=0.3,random_state=10)"
   ]
  },
  {
   "cell_type": "code",
   "execution_count": 103,
   "metadata": {},
   "outputs": [
    {
     "name": "stdout",
     "output_type": "stream",
     "text": [
      "Overall Score for train:  0.49492012931275997\n",
      "Overall Score for test:  0.25714697756905236\n"
     ]
    }
   ],
   "source": [
    "from sklearn.linear_model import LinearRegression\n",
    "LR=LinearRegression()\n",
    "LR.fit(X_train,y_train)\n",
    "print('Overall Score for train: ',LR.score(X_train,y_train))\n",
    "print('Overall Score for test: ',LR.score(X_test,y_test))"
   ]
  },
  {
   "cell_type": "code",
   "execution_count": 104,
   "metadata": {},
   "outputs": [
    {
     "name": "stdout",
     "output_type": "stream",
     "text": [
      "MSE= 0.36936836546847485\n",
      "RMSE= 0.607756830869448\n",
      "MAE= 0.4153626798986856\n"
     ]
    }
   ],
   "source": [
    "y_pred=LR.predict(X_test)\n",
    "from sklearn.metrics import mean_absolute_error,mean_squared_error\n",
    "\n",
    "mse=mean_squared_error(y_test,y_pred)\n",
    "rmse=np.sqrt(mse)\n",
    "mae=mean_absolute_error(y_test,y_pred)\n",
    "print('MSE=',mse)\n",
    "print('RMSE=',rmse)\n",
    "print('MAE=',mae)"
   ]
  },
  {
   "cell_type": "markdown",
   "metadata": {
    "colab_type": "text",
    "id": "FdBfI-lXbIC8"
   },
   "source": [
    "### 8.\tSummarize as follows (10 marks) \n",
    "\n",
    "a.\tSummarize the overall fit of the model and list down the measures to prove that it is a good model\n",
    "\n",
    "b.\tWrite down a business interpretation/explanation of the model – which variables are affecting the target the most and explain the relationship. Feel free to use charts or graphs to explain.\n",
    "\n",
    "c.\tWhat changes from the base model had the most affect on model performance\n",
    "\n",
    "d.\tWhat are the key risks to your results and interpretation\n"
   ]
  },
  {
   "cell_type": "markdown",
   "metadata": {
    "colab": {},
    "colab_type": "code",
    "id": "f-6KmUVgbIC9"
   },
   "source": [
    "#a)\n",
    "\n",
    "After Re-Fitting the final model the overall Sore of train has decressed from 56% to 49%, simultaniously the test score also has decreased from 34% to 25% hence we can say that there is no improvement in the model."
   ]
  },
  {
   "cell_type": "markdown",
   "metadata": {},
   "source": [
    "#b)\n",
    "From the above scatter plot we can say that room_type feature had effect on the model, which was infered from the scatter plot in 4b."
   ]
  },
  {
   "cell_type": "markdown",
   "metadata": {},
   "source": [
    "#C)\n",
    "Using the features which had the significance to the target variable and removing the columns that had high multicollinearity had the most affect on the model."
   ]
  },
  {
   "cell_type": "markdown",
   "metadata": {},
   "source": [
    "#d)\n",
    "\n",
    "Since there was no proper features with high correlation to the target variable there was high risk in order to get a good model, and so we did not achive a good model. and we can say that the price is not been denoted using any feature but is been denoted in random or there is bias in some or the other way towards the price.\n",
    "\n",
    "We can do some ensamble techniques like lasso and ridge regression in order to improve the model the come to a new conclusion."
   ]
  },
  {
   "cell_type": "code",
   "execution_count": null,
   "metadata": {},
   "outputs": [],
   "source": []
  }
 ],
 "metadata": {
  "colab": {
   "collapsed_sections": [],
   "name": "SLR_FINAL_EXAM_PAPER_SET_2.ipynb",
   "provenance": []
  },
  "kernelspec": {
   "display_name": "Python 3 (ipykernel)",
   "language": "python",
   "name": "python3"
  },
  "language_info": {
   "codemirror_mode": {
    "name": "ipython",
    "version": 3
   },
   "file_extension": ".py",
   "mimetype": "text/x-python",
   "name": "python",
   "nbconvert_exporter": "python",
   "pygments_lexer": "ipython3",
   "version": "3.9.7"
  }
 },
 "nbformat": 4,
 "nbformat_minor": 1
}
