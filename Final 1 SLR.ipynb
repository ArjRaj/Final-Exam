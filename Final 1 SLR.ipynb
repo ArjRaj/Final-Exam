{
 "cells": [
  {
   "cell_type": "code",
   "execution_count": 65,
   "metadata": {},
   "outputs": [],
   "source": [
    "import pandas as pd\n",
    "import numpy as np\n",
    "import matplotlib\n",
    "import matplotlib.pyplot as plt\n",
    "import seaborn as sns\n",
    "%matplotlib inline"
   ]
  },
  {
   "cell_type": "markdown",
   "metadata": {},
   "source": [
    "1.Read the dataset (tab, csv, xls, txt, inbuilt dataset)"
   ]
  },
  {
   "cell_type": "code",
   "execution_count": 66,
   "metadata": {},
   "outputs": [
    {
     "data": {
      "text/html": [
       "<div>\n",
       "<style scoped>\n",
       "    .dataframe tbody tr th:only-of-type {\n",
       "        vertical-align: middle;\n",
       "    }\n",
       "\n",
       "    .dataframe tbody tr th {\n",
       "        vertical-align: top;\n",
       "    }\n",
       "\n",
       "    .dataframe thead th {\n",
       "        text-align: right;\n",
       "    }\n",
       "</style>\n",
       "<table border=\"1\" class=\"dataframe\">\n",
       "  <thead>\n",
       "    <tr style=\"text-align: right;\">\n",
       "      <th></th>\n",
       "      <th>SlNo</th>\n",
       "      <th>Gender</th>\n",
       "      <th>Percent_SSC</th>\n",
       "      <th>Board_SSC</th>\n",
       "      <th>Percent_HSC</th>\n",
       "      <th>Board_HSC</th>\n",
       "      <th>Stream_HSC</th>\n",
       "      <th>Percent_Degree</th>\n",
       "      <th>Course_Degree</th>\n",
       "      <th>Experience_Yrs</th>\n",
       "      <th>Entrance_Test</th>\n",
       "      <th>Percentile_ET</th>\n",
       "      <th>Percent_MBA</th>\n",
       "      <th>Specialization_MBA</th>\n",
       "      <th>Marks_Communication</th>\n",
       "      <th>Marks_Projectwork</th>\n",
       "      <th>Marks_BOCA</th>\n",
       "      <th>Placement</th>\n",
       "      <th>Salary</th>\n",
       "    </tr>\n",
       "  </thead>\n",
       "  <tbody>\n",
       "    <tr>\n",
       "      <th>0</th>\n",
       "      <td>1</td>\n",
       "      <td>M</td>\n",
       "      <td>62.00</td>\n",
       "      <td>Others</td>\n",
       "      <td>88.00</td>\n",
       "      <td>Others</td>\n",
       "      <td>Commerce</td>\n",
       "      <td>52.00</td>\n",
       "      <td>Science</td>\n",
       "      <td>0</td>\n",
       "      <td>MAT</td>\n",
       "      <td>55.0</td>\n",
       "      <td>58.80</td>\n",
       "      <td>Marketing &amp; HR</td>\n",
       "      <td>50</td>\n",
       "      <td>65</td>\n",
       "      <td>74</td>\n",
       "      <td>Placed</td>\n",
       "      <td>270000</td>\n",
       "    </tr>\n",
       "    <tr>\n",
       "      <th>1</th>\n",
       "      <td>2</td>\n",
       "      <td>M</td>\n",
       "      <td>76.33</td>\n",
       "      <td>ICSE</td>\n",
       "      <td>75.33</td>\n",
       "      <td>Others</td>\n",
       "      <td>Science</td>\n",
       "      <td>75.48</td>\n",
       "      <td>Computer Applications</td>\n",
       "      <td>1</td>\n",
       "      <td>MAT</td>\n",
       "      <td>86.5</td>\n",
       "      <td>66.28</td>\n",
       "      <td>Marketing &amp; Finance</td>\n",
       "      <td>69</td>\n",
       "      <td>70</td>\n",
       "      <td>75</td>\n",
       "      <td>Placed</td>\n",
       "      <td>200000</td>\n",
       "    </tr>\n",
       "    <tr>\n",
       "      <th>2</th>\n",
       "      <td>3</td>\n",
       "      <td>M</td>\n",
       "      <td>72.00</td>\n",
       "      <td>Others</td>\n",
       "      <td>78.00</td>\n",
       "      <td>Others</td>\n",
       "      <td>Commerce</td>\n",
       "      <td>66.63</td>\n",
       "      <td>Engineering</td>\n",
       "      <td>0</td>\n",
       "      <td>NaN</td>\n",
       "      <td>0.0</td>\n",
       "      <td>52.91</td>\n",
       "      <td>Marketing &amp; Finance</td>\n",
       "      <td>50</td>\n",
       "      <td>61</td>\n",
       "      <td>59</td>\n",
       "      <td>Placed</td>\n",
       "      <td>240000</td>\n",
       "    </tr>\n",
       "    <tr>\n",
       "      <th>3</th>\n",
       "      <td>4</td>\n",
       "      <td>M</td>\n",
       "      <td>60.00</td>\n",
       "      <td>CBSE</td>\n",
       "      <td>63.00</td>\n",
       "      <td>CBSE</td>\n",
       "      <td>Arts</td>\n",
       "      <td>58.00</td>\n",
       "      <td>Management</td>\n",
       "      <td>0</td>\n",
       "      <td>MAT</td>\n",
       "      <td>75.0</td>\n",
       "      <td>57.80</td>\n",
       "      <td>Marketing &amp; Finance</td>\n",
       "      <td>54</td>\n",
       "      <td>66</td>\n",
       "      <td>62</td>\n",
       "      <td>Placed</td>\n",
       "      <td>250000</td>\n",
       "    </tr>\n",
       "    <tr>\n",
       "      <th>4</th>\n",
       "      <td>5</td>\n",
       "      <td>M</td>\n",
       "      <td>61.00</td>\n",
       "      <td>CBSE</td>\n",
       "      <td>55.00</td>\n",
       "      <td>ISC</td>\n",
       "      <td>Science</td>\n",
       "      <td>54.00</td>\n",
       "      <td>Engineering</td>\n",
       "      <td>1</td>\n",
       "      <td>MAT</td>\n",
       "      <td>66.0</td>\n",
       "      <td>59.43</td>\n",
       "      <td>Marketing &amp; HR</td>\n",
       "      <td>52</td>\n",
       "      <td>65</td>\n",
       "      <td>67</td>\n",
       "      <td>Placed</td>\n",
       "      <td>180000</td>\n",
       "    </tr>\n",
       "  </tbody>\n",
       "</table>\n",
       "</div>"
      ],
      "text/plain": [
       "   SlNo Gender  Percent_SSC Board_SSC  Percent_HSC Board_HSC Stream_HSC  \\\n",
       "0     1      M        62.00    Others        88.00    Others   Commerce   \n",
       "1     2      M        76.33      ICSE        75.33    Others    Science   \n",
       "2     3      M        72.00    Others        78.00    Others   Commerce   \n",
       "3     4      M        60.00      CBSE        63.00      CBSE       Arts   \n",
       "4     5      M        61.00      CBSE        55.00       ISC    Science   \n",
       "\n",
       "   Percent_Degree          Course_Degree  Experience_Yrs Entrance_Test  \\\n",
       "0           52.00                Science               0           MAT   \n",
       "1           75.48  Computer Applications               1           MAT   \n",
       "2           66.63            Engineering               0           NaN   \n",
       "3           58.00             Management               0           MAT   \n",
       "4           54.00            Engineering               1           MAT   \n",
       "\n",
       "   Percentile_ET  Percent_MBA   Specialization_MBA  Marks_Communication  \\\n",
       "0           55.0        58.80       Marketing & HR                   50   \n",
       "1           86.5        66.28  Marketing & Finance                   69   \n",
       "2            0.0        52.91  Marketing & Finance                   50   \n",
       "3           75.0        57.80  Marketing & Finance                   54   \n",
       "4           66.0        59.43       Marketing & HR                   52   \n",
       "\n",
       "   Marks_Projectwork  Marks_BOCA Placement  Salary  \n",
       "0                 65          74    Placed  270000  \n",
       "1                 70          75    Placed  200000  \n",
       "2                 61          59    Placed  240000  \n",
       "3                 66          62    Placed  250000  \n",
       "4                 65          67    Placed  180000  "
      ]
     },
     "execution_count": 66,
     "metadata": {},
     "output_type": "execute_result"
    }
   ],
   "source": [
    "df=pd.read_excel(\"C:/Users/Yash/Desktop/DS/SLR/Admission.xlsx\")\n",
    "df.head()"
   ]
  },
  {
   "cell_type": "markdown",
   "metadata": {},
   "source": [
    "2.Summarize important observations from the data set \n",
    "    Some pointers which would help you, but don’t be limited by these\n"
   ]
  },
  {
   "cell_type": "markdown",
   "metadata": {},
   "source": [
    "a.\tWhat are the number of rows and no. of cols & types of variables (continuous, categorical etc.)"
   ]
  },
  {
   "cell_type": "markdown",
   "metadata": {},
   "source": [
    "b.Calculate five-point summary for numerical variables"
   ]
  },
  {
   "cell_type": "markdown",
   "metadata": {},
   "source": [
    "c.\tSummarize observations for categorical variables – no. of categories, % observations in each category"
   ]
  },
  {
   "cell_type": "code",
   "execution_count": 67,
   "metadata": {},
   "outputs": [],
   "source": [
    "## a"
   ]
  },
  {
   "cell_type": "code",
   "execution_count": 68,
   "metadata": {},
   "outputs": [
    {
     "data": {
      "text/plain": [
       "(391, 19)"
      ]
     },
     "execution_count": 68,
     "metadata": {},
     "output_type": "execute_result"
    }
   ],
   "source": [
    "df.shape"
   ]
  },
  {
   "cell_type": "markdown",
   "metadata": {},
   "source": [
    "There are 19 columns and 391 rows in the dataset"
   ]
  },
  {
   "cell_type": "code",
   "execution_count": 69,
   "metadata": {},
   "outputs": [
    {
     "name": "stdout",
     "output_type": "stream",
     "text": [
      "<class 'pandas.core.frame.DataFrame'>\n",
      "RangeIndex: 391 entries, 0 to 390\n",
      "Data columns (total 19 columns):\n",
      "SlNo                   391 non-null int64\n",
      "Gender                 391 non-null object\n",
      "Percent_SSC            391 non-null float64\n",
      "Board_SSC              391 non-null object\n",
      "Percent_HSC            391 non-null float64\n",
      "Board_HSC              391 non-null object\n",
      "Stream_HSC             391 non-null object\n",
      "Percent_Degree         391 non-null float64\n",
      "Course_Degree          391 non-null object\n",
      "Experience_Yrs         391 non-null int64\n",
      "Entrance_Test          324 non-null object\n",
      "Percentile_ET          391 non-null float64\n",
      "Percent_MBA            391 non-null float64\n",
      "Specialization_MBA     391 non-null object\n",
      "Marks_Communication    391 non-null int64\n",
      "Marks_Projectwork      391 non-null int64\n",
      "Marks_BOCA             391 non-null int64\n",
      "Placement              391 non-null object\n",
      "Salary                 391 non-null int64\n",
      "dtypes: float64(5), int64(6), object(8)\n",
      "memory usage: 58.1+ KB\n"
     ]
    }
   ],
   "source": [
    "df.info()"
   ]
  },
  {
   "cell_type": "code",
   "execution_count": 70,
   "metadata": {},
   "outputs": [
    {
     "name": "stdout",
     "output_type": "stream",
     "text": [
      "There are 11 numeric columns\n"
     ]
    }
   ],
   "source": [
    "numerical_cols = df.select_dtypes(include=\"number\").columns\n",
    "print('There are',len(numerical_cols),'numeric columns')"
   ]
  },
  {
   "cell_type": "code",
   "execution_count": 71,
   "metadata": {},
   "outputs": [
    {
     "name": "stdout",
     "output_type": "stream",
     "text": [
      "There are 8 categorical columns\n"
     ]
    }
   ],
   "source": [
    "categorical_cols = df.select_dtypes(include=\"object\").columns\n",
    "\n",
    "print('There are',len(categorical_cols),'categorical columns')"
   ]
  },
  {
   "cell_type": "code",
   "execution_count": 72,
   "metadata": {},
   "outputs": [],
   "source": [
    "# b"
   ]
  },
  {
   "cell_type": "code",
   "execution_count": 73,
   "metadata": {},
   "outputs": [
    {
     "data": {
      "text/html": [
       "<div>\n",
       "<style scoped>\n",
       "    .dataframe tbody tr th:only-of-type {\n",
       "        vertical-align: middle;\n",
       "    }\n",
       "\n",
       "    .dataframe tbody tr th {\n",
       "        vertical-align: top;\n",
       "    }\n",
       "\n",
       "    .dataframe thead th {\n",
       "        text-align: right;\n",
       "    }\n",
       "</style>\n",
       "<table border=\"1\" class=\"dataframe\">\n",
       "  <thead>\n",
       "    <tr style=\"text-align: right;\">\n",
       "      <th></th>\n",
       "      <th>SlNo</th>\n",
       "      <th>Percent_SSC</th>\n",
       "      <th>Percent_HSC</th>\n",
       "      <th>Percent_Degree</th>\n",
       "      <th>Experience_Yrs</th>\n",
       "      <th>Percentile_ET</th>\n",
       "      <th>Percent_MBA</th>\n",
       "      <th>Marks_Communication</th>\n",
       "      <th>Marks_Projectwork</th>\n",
       "      <th>Marks_BOCA</th>\n",
       "      <th>Salary</th>\n",
       "    </tr>\n",
       "  </thead>\n",
       "  <tbody>\n",
       "    <tr>\n",
       "      <th>count</th>\n",
       "      <td>391.000000</td>\n",
       "      <td>391.000000</td>\n",
       "      <td>391.000000</td>\n",
       "      <td>391.000000</td>\n",
       "      <td>391.000000</td>\n",
       "      <td>391.000000</td>\n",
       "      <td>391.000000</td>\n",
       "      <td>391.000000</td>\n",
       "      <td>391.000000</td>\n",
       "      <td>391.000000</td>\n",
       "      <td>391.000000</td>\n",
       "    </tr>\n",
       "    <tr>\n",
       "      <th>mean</th>\n",
       "      <td>196.000000</td>\n",
       "      <td>64.652353</td>\n",
       "      <td>63.795294</td>\n",
       "      <td>62.983606</td>\n",
       "      <td>0.478261</td>\n",
       "      <td>54.934962</td>\n",
       "      <td>61.667698</td>\n",
       "      <td>60.539642</td>\n",
       "      <td>68.363171</td>\n",
       "      <td>64.378517</td>\n",
       "      <td>219078.260870</td>\n",
       "    </tr>\n",
       "    <tr>\n",
       "      <th>std</th>\n",
       "      <td>113.016223</td>\n",
       "      <td>10.960426</td>\n",
       "      <td>11.417726</td>\n",
       "      <td>8.916152</td>\n",
       "      <td>0.667112</td>\n",
       "      <td>31.168264</td>\n",
       "      <td>5.854399</td>\n",
       "      <td>8.824084</td>\n",
       "      <td>7.145095</td>\n",
       "      <td>9.582834</td>\n",
       "      <td>138311.647036</td>\n",
       "    </tr>\n",
       "    <tr>\n",
       "      <th>min</th>\n",
       "      <td>1.000000</td>\n",
       "      <td>37.000000</td>\n",
       "      <td>40.000000</td>\n",
       "      <td>35.000000</td>\n",
       "      <td>0.000000</td>\n",
       "      <td>0.000000</td>\n",
       "      <td>50.830000</td>\n",
       "      <td>50.000000</td>\n",
       "      <td>50.000000</td>\n",
       "      <td>50.000000</td>\n",
       "      <td>0.000000</td>\n",
       "    </tr>\n",
       "    <tr>\n",
       "      <th>25%</th>\n",
       "      <td>98.500000</td>\n",
       "      <td>56.000000</td>\n",
       "      <td>54.000000</td>\n",
       "      <td>57.525000</td>\n",
       "      <td>0.000000</td>\n",
       "      <td>41.190000</td>\n",
       "      <td>57.195000</td>\n",
       "      <td>53.000000</td>\n",
       "      <td>64.000000</td>\n",
       "      <td>57.000000</td>\n",
       "      <td>172800.000000</td>\n",
       "    </tr>\n",
       "    <tr>\n",
       "      <th>50%</th>\n",
       "      <td>196.000000</td>\n",
       "      <td>64.500000</td>\n",
       "      <td>63.000000</td>\n",
       "      <td>63.000000</td>\n",
       "      <td>0.000000</td>\n",
       "      <td>62.000000</td>\n",
       "      <td>61.010000</td>\n",
       "      <td>58.000000</td>\n",
       "      <td>69.000000</td>\n",
       "      <td>63.000000</td>\n",
       "      <td>240000.000000</td>\n",
       "    </tr>\n",
       "    <tr>\n",
       "      <th>75%</th>\n",
       "      <td>293.500000</td>\n",
       "      <td>74.000000</td>\n",
       "      <td>72.000000</td>\n",
       "      <td>69.000000</td>\n",
       "      <td>1.000000</td>\n",
       "      <td>78.000000</td>\n",
       "      <td>66.020000</td>\n",
       "      <td>67.000000</td>\n",
       "      <td>74.000000</td>\n",
       "      <td>72.500000</td>\n",
       "      <td>300000.000000</td>\n",
       "    </tr>\n",
       "    <tr>\n",
       "      <th>max</th>\n",
       "      <td>391.000000</td>\n",
       "      <td>87.200000</td>\n",
       "      <td>94.700000</td>\n",
       "      <td>89.000000</td>\n",
       "      <td>3.000000</td>\n",
       "      <td>98.690000</td>\n",
       "      <td>77.890000</td>\n",
       "      <td>88.000000</td>\n",
       "      <td>87.000000</td>\n",
       "      <td>96.000000</td>\n",
       "      <td>940000.000000</td>\n",
       "    </tr>\n",
       "  </tbody>\n",
       "</table>\n",
       "</div>"
      ],
      "text/plain": [
       "             SlNo  Percent_SSC  Percent_HSC  Percent_Degree  Experience_Yrs  \\\n",
       "count  391.000000   391.000000   391.000000      391.000000      391.000000   \n",
       "mean   196.000000    64.652353    63.795294       62.983606        0.478261   \n",
       "std    113.016223    10.960426    11.417726        8.916152        0.667112   \n",
       "min      1.000000    37.000000    40.000000       35.000000        0.000000   \n",
       "25%     98.500000    56.000000    54.000000       57.525000        0.000000   \n",
       "50%    196.000000    64.500000    63.000000       63.000000        0.000000   \n",
       "75%    293.500000    74.000000    72.000000       69.000000        1.000000   \n",
       "max    391.000000    87.200000    94.700000       89.000000        3.000000   \n",
       "\n",
       "       Percentile_ET  Percent_MBA  Marks_Communication  Marks_Projectwork  \\\n",
       "count     391.000000   391.000000           391.000000         391.000000   \n",
       "mean       54.934962    61.667698            60.539642          68.363171   \n",
       "std        31.168264     5.854399             8.824084           7.145095   \n",
       "min         0.000000    50.830000            50.000000          50.000000   \n",
       "25%        41.190000    57.195000            53.000000          64.000000   \n",
       "50%        62.000000    61.010000            58.000000          69.000000   \n",
       "75%        78.000000    66.020000            67.000000          74.000000   \n",
       "max        98.690000    77.890000            88.000000          87.000000   \n",
       "\n",
       "       Marks_BOCA         Salary  \n",
       "count  391.000000     391.000000  \n",
       "mean    64.378517  219078.260870  \n",
       "std      9.582834  138311.647036  \n",
       "min     50.000000       0.000000  \n",
       "25%     57.000000  172800.000000  \n",
       "50%     63.000000  240000.000000  \n",
       "75%     72.500000  300000.000000  \n",
       "max     96.000000  940000.000000  "
      ]
     },
     "execution_count": 73,
     "metadata": {},
     "output_type": "execute_result"
    }
   ],
   "source": [
    "df.describe()"
   ]
  },
  {
   "cell_type": "code",
   "execution_count": 74,
   "metadata": {},
   "outputs": [],
   "source": [
    "# c"
   ]
  },
  {
   "cell_type": "code",
   "execution_count": 75,
   "metadata": {},
   "outputs": [
    {
     "data": {
      "text/plain": [
       "object     8\n",
       "int64      6\n",
       "float64    5\n",
       "dtype: int64"
      ]
     },
     "execution_count": 75,
     "metadata": {},
     "output_type": "execute_result"
    }
   ],
   "source": [
    "df.dtypes.value_counts()"
   ]
  },
  {
   "cell_type": "markdown",
   "metadata": {},
   "source": [
    "3.Check for defects in the data. Perform necessary actions to ‘fix’ these defects \n",
    "Some pointers which would help you, but don’t be limited by these \n"
   ]
  },
  {
   "cell_type": "markdown",
   "metadata": {},
   "source": [
    "a.\tDo variables have missing/null values?\n"
   ]
  },
  {
   "cell_type": "markdown",
   "metadata": {},
   "source": [
    "\n",
    "b.\tDo variables have outliers?\n",
    "\n"
   ]
  },
  {
   "cell_type": "markdown",
   "metadata": {},
   "source": [
    "c.\tIs the target variable normally distributed? If yes, rectify it.\n"
   ]
  },
  {
   "cell_type": "code",
   "execution_count": 76,
   "metadata": {},
   "outputs": [],
   "source": [
    "#a"
   ]
  },
  {
   "cell_type": "code",
   "execution_count": 77,
   "metadata": {
    "scrolled": true
   },
   "outputs": [
    {
     "data": {
      "text/plain": [
       "SlNo                    0\n",
       "Gender                  0\n",
       "Percent_SSC             0\n",
       "Board_SSC               0\n",
       "Percent_HSC             0\n",
       "Board_HSC               0\n",
       "Stream_HSC              0\n",
       "Percent_Degree          0\n",
       "Course_Degree           0\n",
       "Experience_Yrs          0\n",
       "Entrance_Test          67\n",
       "Percentile_ET           0\n",
       "Percent_MBA             0\n",
       "Specialization_MBA      0\n",
       "Marks_Communication     0\n",
       "Marks_Projectwork       0\n",
       "Marks_BOCA              0\n",
       "Placement               0\n",
       "Salary                  0\n",
       "dtype: int64"
      ]
     },
     "execution_count": 77,
     "metadata": {},
     "output_type": "execute_result"
    }
   ],
   "source": [
    "df.isnull().sum()      "
   ]
  },
  {
   "cell_type": "markdown",
   "metadata": {},
   "source": [
    "There are 67 missing values in column Entrance_Test."
   ]
  },
  {
   "cell_type": "code",
   "execution_count": 78,
   "metadata": {},
   "outputs": [],
   "source": [
    "df[\"Entrance_Test\"]=df[\"Entrance_Test\"].fillna(df[\"Entrance_Test\"].mode()[0])"
   ]
  },
  {
   "cell_type": "code",
   "execution_count": 79,
   "metadata": {},
   "outputs": [
    {
     "data": {
      "text/plain": [
       "SlNo                   0\n",
       "Gender                 0\n",
       "Percent_SSC            0\n",
       "Board_SSC              0\n",
       "Percent_HSC            0\n",
       "Board_HSC              0\n",
       "Stream_HSC             0\n",
       "Percent_Degree         0\n",
       "Course_Degree          0\n",
       "Experience_Yrs         0\n",
       "Entrance_Test          0\n",
       "Percentile_ET          0\n",
       "Percent_MBA            0\n",
       "Specialization_MBA     0\n",
       "Marks_Communication    0\n",
       "Marks_Projectwork      0\n",
       "Marks_BOCA             0\n",
       "Placement              0\n",
       "Salary                 0\n",
       "dtype: int64"
      ]
     },
     "execution_count": 79,
     "metadata": {},
     "output_type": "execute_result"
    }
   ],
   "source": [
    "df.isnull().sum()"
   ]
  },
  {
   "cell_type": "markdown",
   "metadata": {},
   "source": [
    "Missing values filled by mode."
   ]
  },
  {
   "cell_type": "code",
   "execution_count": 80,
   "metadata": {},
   "outputs": [],
   "source": [
    "#b"
   ]
  },
  {
   "cell_type": "code",
   "execution_count": 81,
   "metadata": {},
   "outputs": [
    {
     "data": {
      "image/png": "[encoded data removed]",
      "text/plain": [
       "<Figure size 720x1440 with 10 Axes>"
      ]
     },
     "metadata": {
      "needs_background": "light"
     },
     "output_type": "display_data"
    }
   ],
   "source": [
    "X = df.drop('Salary', axis=1)\n",
    "y = df['Salary']\n",
    "num_cols = X.select_dtypes(include=\"number\").columns\n",
    "plt.figure(figsize=(10,20))\n",
    "for i,col in enumerate(num_cols,1):\n",
    "   plt.subplot(10,1,i)\n",
    "   sns.boxplot(X[col])\n",
    "   plt.ylabel(col)\n",
    "plt.show()"
   ]
  },
  {
   "cell_type": "markdown",
   "metadata": {},
   "source": [
    "There are few outliers."
   ]
  },
  {
   "cell_type": "code",
   "execution_count": 82,
   "metadata": {},
   "outputs": [],
   "source": [
    "#c"
   ]
  },
  {
   "cell_type": "code",
   "execution_count": 83,
   "metadata": {},
   "outputs": [],
   "source": [
    "df = df[df['Salary']>0]"
   ]
  },
  {
   "cell_type": "code",
   "execution_count": 84,
   "metadata": {},
   "outputs": [
    {
     "data": {
      "text/plain": [
       "<matplotlib.axes._subplots.AxesSubplot at 0x1932b66c710>"
      ]
     },
     "execution_count": 84,
     "metadata": {},
     "output_type": "execute_result"
    },
    {
     "data": {
      "image/png": "[encoded data removed]",
      "text/plain": [
       "<Figure size 432x288 with 1 Axes>"
      ]
     },
     "metadata": {
      "needs_background": "light"
     },
     "output_type": "display_data"
    }
   ],
   "source": [
    "sns.distplot(np.log(df[\"Salary\"]))"
   ]
  },
  {
   "cell_type": "markdown",
   "metadata": {},
   "source": [
    "Yes it is normally distributed."
   ]
  },
  {
   "cell_type": "markdown",
   "metadata": {},
   "source": [
    "4.Summarize relationships among variables             "
   ]
  },
  {
   "cell_type": "markdown",
   "metadata": {},
   "source": [
    "a.\tPlot correlation plots. Which are the variables most correlated with Target? Which independent variables are correlated among themselves? Do you want to exclude some variables from the model based on this analysis? What other actions will you take?\n"
   ]
  },
  {
   "cell_type": "markdown",
   "metadata": {},
   "source": [
    "b.\tPlot all independent variables with the target. Are all relationships linear? If not, what steps would you take based on this information?\n",
    "\n",
    " Hint: based on your observations you may want to transform features or create additional features.\n"
   ]
  },
  {
   "cell_type": "code",
   "execution_count": 85,
   "metadata": {},
   "outputs": [],
   "source": [
    "#a"
   ]
  },
  {
   "cell_type": "code",
   "execution_count": 86,
   "metadata": {},
   "outputs": [
    {
     "data": {
      "text/plain": [
       "<matplotlib.axes._subplots.AxesSubplot at 0x1932b449828>"
      ]
     },
     "execution_count": 86,
     "metadata": {},
     "output_type": "execute_result"
    },
    {
     "data": {
      "image/png": "[encoded data removed]",
      "text/plain": [
       "<Figure size 1440x720 with 2 Axes>"
      ]
     },
     "metadata": {
      "needs_background": "light"
     },
     "output_type": "display_data"
    }
   ],
   "source": [
    "plt.figure(figsize=(20,10))\n",
    "sns.heatmap(df.corr(), annot=True)"
   ]
  },
  {
   "cell_type": "markdown",
   "metadata": {},
   "source": [
    "From the above heatmap Percent_MBA and Marks_Communication are highly corelated"
   ]
  },
  {
   "cell_type": "markdown",
   "metadata": {},
   "source": [
    "Marks_communication and Percent_MBA are corelated with dependent variable Salary."
   ]
  },
  {
   "cell_type": "markdown",
   "metadata": {},
   "source": [
    "we can remove columns Percent_Degree,  Percent_HSC, slNo  Percentile_Et.\n"
   ]
  },
  {
   "cell_type": "code",
   "execution_count": 87,
   "metadata": {},
   "outputs": [],
   "source": [
    "#b"
   ]
  },
  {
   "cell_type": "code",
   "execution_count": 88,
   "metadata": {},
   "outputs": [
    {
     "data": {
      "image/png": "[encoded data removed]",
      "text/plain": [
       "<Figure size 1080x1800 with 9 Axes>"
      ]
     },
     "metadata": {
      "needs_background": "light"
     },
     "output_type": "display_data"
    }
   ],
   "source": [
    "# plotting all the dependent variables with target variable\n",
    "# plotting scatter plot of continous variable with target variable\n",
    "num_cols=['Percent_SSC', 'Percent_HSC', 'Percent_Degree',\n",
    "      'Experience_Yrs', 'Percentile_ET', 'Percent_MBA', 'Marks_Communication',\n",
    "      'Marks_Projectwork', 'Marks_BOCA']\n",
    "q=1\n",
    "plt.figure(figsize=(15,25))\n",
    "for i in num_cols:\n",
    "   plt.subplot(4,3,q)\n",
    "   plt.title(i)\n",
    "   plt.scatter(df[i],df[\"Salary\"])\n",
    "   plt.xlabel(i)\n",
    "   plt.ylabel(\"Salary\")\n",
    "   q+=1\n",
    "plt.show()"
   ]
  },
  {
   "cell_type": "code",
   "execution_count": 89,
   "metadata": {},
   "outputs": [
    {
     "data": {
      "image/png": "[encoded data removed]",
      "text/plain": [
       "<Figure size 1080x1800 with 8 Axes>"
      ]
     },
     "metadata": {
      "needs_background": "light"
     },
     "output_type": "display_data"
    }
   ],
   "source": [
    "# plotting bar plot of continous variable with target variable\n",
    "cat_cols=[\"Gender\",\"Board_SSC\",\"Board_HSC\",\"Stream_HSC\",\"Course_Degree\",\"Entrance_Test\",\"Specialization_MBA\",\"Placement\"]\n",
    "q=1\n",
    "plt.figure(figsize=(15,25))\n",
    "for i in cat_cols:\n",
    "   plt.subplot(4,3,q)\n",
    "   plt.title(i)\n",
    "   plt.bar(df[i],df[\"Salary\"])\n",
    "   plt.xlabel(i)\n",
    "   plt.ylabel(\"Salary\")\n",
    "   q+=1\n",
    "plt.show()"
   ]
  },
  {
   "cell_type": "markdown",
   "metadata": {},
   "source": [
    "All variables showing linear relation."
   ]
  },
  {
   "cell_type": "markdown",
   "metadata": {},
   "source": [
    "5.Split dataset into train and test (70:30) \n",
    "a.\tAre both train and test representative of the overall data? How would you ascertain this statistically?\n"
   ]
  },
  {
   "cell_type": "code",
   "execution_count": 90,
   "metadata": {},
   "outputs": [],
   "source": [
    "# converting all the dataset into numerical type by converting object columns into dummies\n",
    "df=pd.get_dummies(df,columns=['Gender', 'Board_SSC', 'Board_HSC', 'Stream_HSC', 'Course_Degree',\n",
    "     'Entrance_Test', 'Specialization_MBA','Placement'],drop_first=True)"
   ]
  },
  {
   "cell_type": "code",
   "execution_count": 91,
   "metadata": {
    "scrolled": true
   },
   "outputs": [
    {
     "data": {
      "text/html": [
       "<div>\n",
       "<style scoped>\n",
       "    .dataframe tbody tr th:only-of-type {\n",
       "        vertical-align: middle;\n",
       "    }\n",
       "\n",
       "    .dataframe tbody tr th {\n",
       "        vertical-align: top;\n",
       "    }\n",
       "\n",
       "    .dataframe thead th {\n",
       "        text-align: right;\n",
       "    }\n",
       "</style>\n",
       "<table border=\"1\" class=\"dataframe\">\n",
       "  <thead>\n",
       "    <tr style=\"text-align: right;\">\n",
       "      <th></th>\n",
       "      <th>SlNo</th>\n",
       "      <th>Percent_SSC</th>\n",
       "      <th>Percent_HSC</th>\n",
       "      <th>Percent_Degree</th>\n",
       "      <th>Experience_Yrs</th>\n",
       "      <th>Percentile_ET</th>\n",
       "      <th>Percent_MBA</th>\n",
       "      <th>Marks_Communication</th>\n",
       "      <th>Marks_Projectwork</th>\n",
       "      <th>Marks_BOCA</th>\n",
       "      <th>Salary</th>\n",
       "      <th>Gender_M</th>\n",
       "      <th>Board_SSC_ICSE</th>\n",
       "      <th>Board_SSC_Others</th>\n",
       "      <th>Board_HSC_ISC</th>\n",
       "      <th>Board_HSC_Others</th>\n",
       "      <th>Stream_HSC_Commerce</th>\n",
       "      <th>Stream_HSC_Science</th>\n",
       "      <th>Course_Degree_Commerce</th>\n",
       "      <th>Course_Degree_Computer Applications</th>\n",
       "      <th>Course_Degree_Engineering</th>\n",
       "      <th>Course_Degree_Management</th>\n",
       "      <th>Course_Degree_Others</th>\n",
       "      <th>Course_Degree_Science</th>\n",
       "      <th>Entrance_Test_G-MAT</th>\n",
       "      <th>Entrance_Test_G-SAT</th>\n",
       "      <th>Entrance_Test_GCET</th>\n",
       "      <th>Entrance_Test_K-MAT</th>\n",
       "      <th>Entrance_Test_MAT</th>\n",
       "      <th>Entrance_Test_PGCET</th>\n",
       "      <th>Entrance_Test_XAT</th>\n",
       "      <th>Specialization_MBA_Marketing &amp; HR</th>\n",
       "      <th>Specialization_MBA_Marketing &amp; IB</th>\n",
       "    </tr>\n",
       "  </thead>\n",
       "  <tbody>\n",
       "    <tr>\n",
       "      <th>0</th>\n",
       "      <td>1</td>\n",
       "      <td>62.00</td>\n",
       "      <td>88.00</td>\n",
       "      <td>52.00</td>\n",
       "      <td>0</td>\n",
       "      <td>55.0</td>\n",
       "      <td>58.80</td>\n",
       "      <td>50</td>\n",
       "      <td>65</td>\n",
       "      <td>74</td>\n",
       "      <td>270000</td>\n",
       "      <td>1</td>\n",
       "      <td>0</td>\n",
       "      <td>1</td>\n",
       "      <td>0</td>\n",
       "      <td>1</td>\n",
       "      <td>1</td>\n",
       "      <td>0</td>\n",
       "      <td>0</td>\n",
       "      <td>0</td>\n",
       "      <td>0</td>\n",
       "      <td>0</td>\n",
       "      <td>0</td>\n",
       "      <td>1</td>\n",
       "      <td>0</td>\n",
       "      <td>0</td>\n",
       "      <td>0</td>\n",
       "      <td>0</td>\n",
       "      <td>1</td>\n",
       "      <td>0</td>\n",
       "      <td>0</td>\n",
       "      <td>1</td>\n",
       "      <td>0</td>\n",
       "    </tr>\n",
       "    <tr>\n",
       "      <th>1</th>\n",
       "      <td>2</td>\n",
       "      <td>76.33</td>\n",
       "      <td>75.33</td>\n",
       "      <td>75.48</td>\n",
       "      <td>1</td>\n",
       "      <td>86.5</td>\n",
       "      <td>66.28</td>\n",
       "      <td>69</td>\n",
       "      <td>70</td>\n",
       "      <td>75</td>\n",
       "      <td>200000</td>\n",
       "      <td>1</td>\n",
       "      <td>1</td>\n",
       "      <td>0</td>\n",
       "      <td>0</td>\n",
       "      <td>1</td>\n",
       "      <td>0</td>\n",
       "      <td>1</td>\n",
       "      <td>0</td>\n",
       "      <td>1</td>\n",
       "      <td>0</td>\n",
       "      <td>0</td>\n",
       "      <td>0</td>\n",
       "      <td>0</td>\n",
       "      <td>0</td>\n",
       "      <td>0</td>\n",
       "      <td>0</td>\n",
       "      <td>0</td>\n",
       "      <td>1</td>\n",
       "      <td>0</td>\n",
       "      <td>0</td>\n",
       "      <td>0</td>\n",
       "      <td>0</td>\n",
       "    </tr>\n",
       "    <tr>\n",
       "      <th>2</th>\n",
       "      <td>3</td>\n",
       "      <td>72.00</td>\n",
       "      <td>78.00</td>\n",
       "      <td>66.63</td>\n",
       "      <td>0</td>\n",
       "      <td>0.0</td>\n",
       "      <td>52.91</td>\n",
       "      <td>50</td>\n",
       "      <td>61</td>\n",
       "      <td>59</td>\n",
       "      <td>240000</td>\n",
       "      <td>1</td>\n",
       "      <td>0</td>\n",
       "      <td>1</td>\n",
       "      <td>0</td>\n",
       "      <td>1</td>\n",
       "      <td>1</td>\n",
       "      <td>0</td>\n",
       "      <td>0</td>\n",
       "      <td>0</td>\n",
       "      <td>1</td>\n",
       "      <td>0</td>\n",
       "      <td>0</td>\n",
       "      <td>0</td>\n",
       "      <td>0</td>\n",
       "      <td>0</td>\n",
       "      <td>0</td>\n",
       "      <td>0</td>\n",
       "      <td>1</td>\n",
       "      <td>0</td>\n",
       "      <td>0</td>\n",
       "      <td>0</td>\n",
       "      <td>0</td>\n",
       "    </tr>\n",
       "    <tr>\n",
       "      <th>3</th>\n",
       "      <td>4</td>\n",
       "      <td>60.00</td>\n",
       "      <td>63.00</td>\n",
       "      <td>58.00</td>\n",
       "      <td>0</td>\n",
       "      <td>75.0</td>\n",
       "      <td>57.80</td>\n",
       "      <td>54</td>\n",
       "      <td>66</td>\n",
       "      <td>62</td>\n",
       "      <td>250000</td>\n",
       "      <td>1</td>\n",
       "      <td>0</td>\n",
       "      <td>0</td>\n",
       "      <td>0</td>\n",
       "      <td>0</td>\n",
       "      <td>0</td>\n",
       "      <td>0</td>\n",
       "      <td>0</td>\n",
       "      <td>0</td>\n",
       "      <td>0</td>\n",
       "      <td>1</td>\n",
       "      <td>0</td>\n",
       "      <td>0</td>\n",
       "      <td>0</td>\n",
       "      <td>0</td>\n",
       "      <td>0</td>\n",
       "      <td>0</td>\n",
       "      <td>1</td>\n",
       "      <td>0</td>\n",
       "      <td>0</td>\n",
       "      <td>0</td>\n",
       "      <td>0</td>\n",
       "    </tr>\n",
       "    <tr>\n",
       "      <th>4</th>\n",
       "      <td>5</td>\n",
       "      <td>61.00</td>\n",
       "      <td>55.00</td>\n",
       "      <td>54.00</td>\n",
       "      <td>1</td>\n",
       "      <td>66.0</td>\n",
       "      <td>59.43</td>\n",
       "      <td>52</td>\n",
       "      <td>65</td>\n",
       "      <td>67</td>\n",
       "      <td>180000</td>\n",
       "      <td>1</td>\n",
       "      <td>0</td>\n",
       "      <td>0</td>\n",
       "      <td>1</td>\n",
       "      <td>0</td>\n",
       "      <td>0</td>\n",
       "      <td>1</td>\n",
       "      <td>0</td>\n",
       "      <td>0</td>\n",
       "      <td>1</td>\n",
       "      <td>0</td>\n",
       "      <td>0</td>\n",
       "      <td>0</td>\n",
       "      <td>0</td>\n",
       "      <td>0</td>\n",
       "      <td>0</td>\n",
       "      <td>0</td>\n",
       "      <td>1</td>\n",
       "      <td>0</td>\n",
       "      <td>0</td>\n",
       "      <td>1</td>\n",
       "      <td>0</td>\n",
       "    </tr>\n",
       "  </tbody>\n",
       "</table>\n",
       "</div>"
      ],
      "text/plain": [
       "   SlNo  Percent_SSC  Percent_HSC  Percent_Degree  Experience_Yrs  \\\n",
       "0     1        62.00        88.00           52.00               0   \n",
       "1     2        76.33        75.33           75.48               1   \n",
       "2     3        72.00        78.00           66.63               0   \n",
       "3     4        60.00        63.00           58.00               0   \n",
       "4     5        61.00        55.00           54.00               1   \n",
       "\n",
       "   Percentile_ET  Percent_MBA  Marks_Communication  Marks_Projectwork  \\\n",
       "0           55.0        58.80                   50                 65   \n",
       "1           86.5        66.28                   69                 70   \n",
       "2            0.0        52.91                   50                 61   \n",
       "3           75.0        57.80                   54                 66   \n",
       "4           66.0        59.43                   52                 65   \n",
       "\n",
       "   Marks_BOCA  Salary  Gender_M  Board_SSC_ICSE  Board_SSC_Others  \\\n",
       "0          74  270000         1               0                 1   \n",
       "1          75  200000         1               1                 0   \n",
       "2          59  240000         1               0                 1   \n",
       "3          62  250000         1               0                 0   \n",
       "4          67  180000         1               0                 0   \n",
       "\n",
       "   Board_HSC_ISC  Board_HSC_Others  Stream_HSC_Commerce  Stream_HSC_Science  \\\n",
       "0              0                 1                    1                   0   \n",
       "1              0                 1                    0                   1   \n",
       "2              0                 1                    1                   0   \n",
       "3              0                 0                    0                   0   \n",
       "4              1                 0                    0                   1   \n",
       "\n",
       "   Course_Degree_Commerce  Course_Degree_Computer Applications  \\\n",
       "0                       0                                    0   \n",
       "1                       0                                    1   \n",
       "2                       0                                    0   \n",
       "3                       0                                    0   \n",
       "4                       0                                    0   \n",
       "\n",
       "   Course_Degree_Engineering  Course_Degree_Management  Course_Degree_Others  \\\n",
       "0                          0                         0                     0   \n",
       "1                          0                         0                     0   \n",
       "2                          1                         0                     0   \n",
       "3                          0                         1                     0   \n",
       "4                          1                         0                     0   \n",
       "\n",
       "   Course_Degree_Science  Entrance_Test_G-MAT  Entrance_Test_G-SAT  \\\n",
       "0                      1                    0                    0   \n",
       "1                      0                    0                    0   \n",
       "2                      0                    0                    0   \n",
       "3                      0                    0                    0   \n",
       "4                      0                    0                    0   \n",
       "\n",
       "   Entrance_Test_GCET  Entrance_Test_K-MAT  Entrance_Test_MAT  \\\n",
       "0                   0                    0                  1   \n",
       "1                   0                    0                  1   \n",
       "2                   0                    0                  1   \n",
       "3                   0                    0                  1   \n",
       "4                   0                    0                  1   \n",
       "\n",
       "   Entrance_Test_PGCET  Entrance_Test_XAT  Specialization_MBA_Marketing & HR  \\\n",
       "0                    0                  0                                  1   \n",
       "1                    0                  0                                  0   \n",
       "2                    0                  0                                  0   \n",
       "3                    0                  0                                  0   \n",
       "4                    0                  0                                  1   \n",
       "\n",
       "   Specialization_MBA_Marketing & IB  \n",
       "0                                  0  \n",
       "1                                  0  \n",
       "2                                  0  \n",
       "3                                  0  \n",
       "4                                  0  "
      ]
     },
     "execution_count": 91,
     "metadata": {},
     "output_type": "execute_result"
    }
   ],
   "source": [
    "df.head()"
   ]
  },
  {
   "cell_type": "code",
   "execution_count": 92,
   "metadata": {},
   "outputs": [],
   "source": [
    "df.drop('SlNo',axis =1,inplace=True)"
   ]
  },
  {
   "cell_type": "code",
   "execution_count": 93,
   "metadata": {},
   "outputs": [],
   "source": [
    "X=df.drop('Salary', axis=1)\n",
    "Y= df['Salary']"
   ]
  },
  {
   "cell_type": "code",
   "execution_count": 94,
   "metadata": {},
   "outputs": [
    {
     "data": {
      "text/plain": [
       "((218, 31), (218,))"
      ]
     },
     "execution_count": 94,
     "metadata": {},
     "output_type": "execute_result"
    }
   ],
   "source": [
    "from sklearn.model_selection import train_test_split\n",
    "X_train ,X_test, Y_train , Y_test = train_test_split(X , Y , test_size = 0.30 , random_state =42)\n",
    "X_train.shape , Y_train.shape"
   ]
  },
  {
   "cell_type": "code",
   "execution_count": 95,
   "metadata": {},
   "outputs": [],
   "source": [
    "from sklearn.linear_model import LinearRegression"
   ]
  },
  {
   "cell_type": "code",
   "execution_count": 96,
   "metadata": {},
   "outputs": [
    {
     "name": "stdout",
     "output_type": "stream",
     "text": [
      "Coefficients: [-1.12502323e+02 -4.91562667e+01  3.24172244e+02  1.74991207e+04\n",
      " -6.90177271e+01  1.52252404e+03  1.59429356e+03 -2.47307472e+02\n",
      "  7.67628242e+02  4.06989183e+04 -2.76663663e+04 -2.15740424e+04\n",
      "  2.70234715e+04  7.28664569e+03  4.48955017e+04  4.24796026e+04\n",
      " -2.35741622e+04 -2.87793913e+04  7.40672613e+03 -3.77873066e+04\n",
      " -5.73443767e+04 -3.89446905e+04 -1.53164966e+04 -6.85505693e+04\n",
      " -4.45281496e+04  2.12717513e+04 -4.29542775e+04 -1.53670173e+04\n",
      " -2.06504197e+04 -2.65948841e+04 -2.04080661e+04]\n",
      "Intercept: 49641.77082806977\n",
      "R^2 score: 0.22645869942381955\n"
     ]
    }
   ],
   "source": [
    "lin_reg = LinearRegression()\n",
    "lin_reg.fit(X, Y)\n",
    "\n",
    "print(f'Coefficients: {lin_reg.coef_}')\n",
    "print(f'Intercept: {lin_reg.intercept_}')\n",
    "print(f'R^2 score: {lin_reg.score(X, Y)}')"
   ]
  },
  {
   "cell_type": "code",
   "execution_count": 97,
   "metadata": {},
   "outputs": [],
   "source": [
    "import statsmodels.api as sm"
   ]
  },
  {
   "cell_type": "code",
   "execution_count": 98,
   "metadata": {},
   "outputs": [
    {
     "name": "stderr",
     "output_type": "stream",
     "text": [
      "C:\\Users\\Yash\\Anaconda3\\lib\\site-packages\\numpy\\core\\fromnumeric.py:2389: FutureWarning: Method .ptp is deprecated and will be removed in a future version. Use numpy.ptp instead.\n",
      "  return ptp(axis=axis, out=out, **kwargs)\n"
     ]
    },
    {
     "data": {
      "text/html": [
       "<table class=\"simpletable\">\n",
       "<caption>OLS Regression Results</caption>\n",
       "<tr>\n",
       "  <th>Dep. Variable:</th>         <td>Salary</td>      <th>  R-squared:         </th> <td>   0.226</td>\n",
       "</tr>\n",
       "<tr>\n",
       "  <th>Model:</th>                   <td>OLS</td>       <th>  Adj. R-squared:    </th> <td>   0.141</td>\n",
       "</tr>\n",
       "<tr>\n",
       "  <th>Method:</th>             <td>Least Squares</td>  <th>  F-statistic:       </th> <td>   2.644</td>\n",
       "</tr>\n",
       "<tr>\n",
       "  <th>Date:</th>             <td>Mon, 02 Dec 2019</td> <th>  Prob (F-statistic):</th> <td>1.40e-05</td>\n",
       "</tr>\n",
       "<tr>\n",
       "  <th>Time:</th>                 <td>14:08:42</td>     <th>  Log-Likelihood:    </th> <td> -3972.7</td>\n",
       "</tr>\n",
       "<tr>\n",
       "  <th>No. Observations:</th>      <td>   312</td>      <th>  AIC:               </th> <td>   8009.</td>\n",
       "</tr>\n",
       "<tr>\n",
       "  <th>Df Residuals:</th>          <td>   280</td>      <th>  BIC:               </th> <td>   8129.</td>\n",
       "</tr>\n",
       "<tr>\n",
       "  <th>Df Model:</th>              <td>    31</td>      <th>                     </th>     <td> </td>   \n",
       "</tr>\n",
       "<tr>\n",
       "  <th>Covariance Type:</th>      <td>nonrobust</td>    <th>                     </th>     <td> </td>   \n",
       "</tr>\n",
       "</table>\n",
       "<table class=\"simpletable\">\n",
       "<tr>\n",
       "                   <td></td>                      <th>coef</th>     <th>std err</th>      <th>t</th>      <th>P>|t|</th>  <th>[0.025</th>    <th>0.975]</th>  \n",
       "</tr>\n",
       "<tr>\n",
       "  <th>const</th>                               <td> 4.964e+04</td> <td> 8.53e+04</td> <td>    0.582</td> <td> 0.561</td> <td>-1.18e+05</td> <td> 2.17e+05</td>\n",
       "</tr>\n",
       "<tr>\n",
       "  <th>Percent_SSC</th>                         <td> -112.5023</td> <td>  629.914</td> <td>   -0.179</td> <td> 0.858</td> <td>-1352.471</td> <td> 1127.467</td>\n",
       "</tr>\n",
       "<tr>\n",
       "  <th>Percent_HSC</th>                         <td>  -49.1563</td> <td>  601.843</td> <td>   -0.082</td> <td> 0.935</td> <td>-1233.867</td> <td> 1135.555</td>\n",
       "</tr>\n",
       "<tr>\n",
       "  <th>Percent_Degree</th>                      <td>  324.1722</td> <td>  719.922</td> <td>    0.450</td> <td> 0.653</td> <td>-1092.975</td> <td> 1741.320</td>\n",
       "</tr>\n",
       "<tr>\n",
       "  <th>Experience_Yrs</th>                      <td>  1.75e+04</td> <td> 7913.857</td> <td>    2.211</td> <td> 0.028</td> <td> 1920.911</td> <td> 3.31e+04</td>\n",
       "</tr>\n",
       "<tr>\n",
       "  <th>Percentile_ET</th>                       <td>  -69.0177</td> <td>  174.690</td> <td>   -0.395</td> <td> 0.693</td> <td> -412.890</td> <td>  274.854</td>\n",
       "</tr>\n",
       "<tr>\n",
       "  <th>Percent_MBA</th>                         <td> 1522.5240</td> <td> 1526.552</td> <td>    0.997</td> <td> 0.319</td> <td>-1482.452</td> <td> 4527.500</td>\n",
       "</tr>\n",
       "<tr>\n",
       "  <th>Marks_Communication</th>                 <td> 1594.2936</td> <td>  856.753</td> <td>    1.861</td> <td> 0.064</td> <td>  -92.202</td> <td> 3280.789</td>\n",
       "</tr>\n",
       "<tr>\n",
       "  <th>Marks_Projectwork</th>                   <td> -247.3075</td> <td>  817.187</td> <td>   -0.303</td> <td> 0.762</td> <td>-1855.918</td> <td> 1361.303</td>\n",
       "</tr>\n",
       "<tr>\n",
       "  <th>Marks_BOCA</th>                          <td>  767.6282</td> <td>  635.112</td> <td>    1.209</td> <td> 0.228</td> <td> -482.571</td> <td> 2017.828</td>\n",
       "</tr>\n",
       "<tr>\n",
       "  <th>Gender_M</th>                            <td>  4.07e+04</td> <td> 1.21e+04</td> <td>    3.374</td> <td> 0.001</td> <td>  1.7e+04</td> <td> 6.44e+04</td>\n",
       "</tr>\n",
       "<tr>\n",
       "  <th>Board_SSC_ICSE</th>                      <td>-2.767e+04</td> <td> 1.95e+04</td> <td>   -1.420</td> <td> 0.157</td> <td> -6.6e+04</td> <td> 1.07e+04</td>\n",
       "</tr>\n",
       "<tr>\n",
       "  <th>Board_SSC_Others</th>                    <td>-2.157e+04</td> <td> 1.66e+04</td> <td>   -1.297</td> <td> 0.196</td> <td>-5.43e+04</td> <td> 1.12e+04</td>\n",
       "</tr>\n",
       "<tr>\n",
       "  <th>Board_HSC_ISC</th>                       <td> 2.702e+04</td> <td> 2.22e+04</td> <td>    1.218</td> <td> 0.224</td> <td>-1.67e+04</td> <td> 7.07e+04</td>\n",
       "</tr>\n",
       "<tr>\n",
       "  <th>Board_HSC_Others</th>                    <td> 7286.6457</td> <td> 1.67e+04</td> <td>    0.438</td> <td> 0.662</td> <td>-2.55e+04</td> <td> 4.01e+04</td>\n",
       "</tr>\n",
       "<tr>\n",
       "  <th>Stream_HSC_Commerce</th>                 <td>  4.49e+04</td> <td> 2.94e+04</td> <td>    1.529</td> <td> 0.127</td> <td>-1.29e+04</td> <td> 1.03e+05</td>\n",
       "</tr>\n",
       "<tr>\n",
       "  <th>Stream_HSC_Science</th>                  <td> 4.248e+04</td> <td> 3.08e+04</td> <td>    1.381</td> <td> 0.168</td> <td>-1.81e+04</td> <td> 1.03e+05</td>\n",
       "</tr>\n",
       "<tr>\n",
       "  <th>Course_Degree_Commerce</th>              <td>-2.357e+04</td> <td>  3.5e+04</td> <td>   -0.673</td> <td> 0.501</td> <td>-9.25e+04</td> <td> 4.54e+04</td>\n",
       "</tr>\n",
       "<tr>\n",
       "  <th>Course_Degree_Computer Applications</th> <td>-2.878e+04</td> <td> 3.77e+04</td> <td>   -0.763</td> <td> 0.446</td> <td>-1.03e+05</td> <td> 4.54e+04</td>\n",
       "</tr>\n",
       "<tr>\n",
       "  <th>Course_Degree_Engineering</th>           <td> 7406.7261</td> <td> 3.59e+04</td> <td>    0.206</td> <td> 0.837</td> <td>-6.32e+04</td> <td> 7.81e+04</td>\n",
       "</tr>\n",
       "<tr>\n",
       "  <th>Course_Degree_Management</th>            <td>-3.779e+04</td> <td> 3.29e+04</td> <td>   -1.147</td> <td> 0.252</td> <td>-1.03e+05</td> <td>  2.7e+04</td>\n",
       "</tr>\n",
       "<tr>\n",
       "  <th>Course_Degree_Others</th>                <td>-5.734e+04</td> <td> 5.41e+04</td> <td>   -1.060</td> <td> 0.290</td> <td>-1.64e+05</td> <td> 4.91e+04</td>\n",
       "</tr>\n",
       "<tr>\n",
       "  <th>Course_Degree_Science</th>               <td>-3.894e+04</td> <td> 3.73e+04</td> <td>   -1.045</td> <td> 0.297</td> <td>-1.12e+05</td> <td> 3.44e+04</td>\n",
       "</tr>\n",
       "<tr>\n",
       "  <th>Entrance_Test_G-MAT</th>                 <td>-1.532e+04</td> <td> 9.11e+04</td> <td>   -0.168</td> <td> 0.867</td> <td>-1.95e+05</td> <td> 1.64e+05</td>\n",
       "</tr>\n",
       "<tr>\n",
       "  <th>Entrance_Test_G-SAT</th>                 <td>-6.855e+04</td> <td> 9.33e+04</td> <td>   -0.735</td> <td> 0.463</td> <td>-2.52e+05</td> <td> 1.15e+05</td>\n",
       "</tr>\n",
       "<tr>\n",
       "  <th>Entrance_Test_GCET</th>                  <td>-4.453e+04</td> <td> 6.83e+04</td> <td>   -0.652</td> <td> 0.515</td> <td>-1.79e+05</td> <td>    9e+04</td>\n",
       "</tr>\n",
       "<tr>\n",
       "  <th>Entrance_Test_K-MAT</th>                 <td> 2.127e+04</td> <td> 2.95e+04</td> <td>    0.720</td> <td> 0.472</td> <td>-3.69e+04</td> <td> 7.94e+04</td>\n",
       "</tr>\n",
       "<tr>\n",
       "  <th>Entrance_Test_MAT</th>                   <td>-4.295e+04</td> <td> 2.18e+04</td> <td>   -1.968</td> <td> 0.050</td> <td>-8.59e+04</td> <td>    7.449</td>\n",
       "</tr>\n",
       "<tr>\n",
       "  <th>Entrance_Test_PGCET</th>                 <td>-1.537e+04</td> <td>    5e+04</td> <td>   -0.307</td> <td> 0.759</td> <td>-1.14e+05</td> <td> 8.31e+04</td>\n",
       "</tr>\n",
       "<tr>\n",
       "  <th>Entrance_Test_XAT</th>                   <td>-2.065e+04</td> <td> 9.07e+04</td> <td>   -0.228</td> <td> 0.820</td> <td>-1.99e+05</td> <td> 1.58e+05</td>\n",
       "</tr>\n",
       "<tr>\n",
       "  <th>Specialization_MBA_Marketing & HR</th>   <td>-2.659e+04</td> <td> 1.14e+04</td> <td>   -2.340</td> <td> 0.020</td> <td> -4.9e+04</td> <td>-4218.402</td>\n",
       "</tr>\n",
       "<tr>\n",
       "  <th>Specialization_MBA_Marketing & IB</th>   <td>-2.041e+04</td> <td> 3.13e+04</td> <td>   -0.652</td> <td> 0.515</td> <td> -8.2e+04</td> <td> 4.12e+04</td>\n",
       "</tr>\n",
       "</table>\n",
       "<table class=\"simpletable\">\n",
       "<tr>\n",
       "  <th>Omnibus:</th>       <td>178.455</td> <th>  Durbin-Watson:     </th> <td>   2.064</td>\n",
       "</tr>\n",
       "<tr>\n",
       "  <th>Prob(Omnibus):</th> <td> 0.000</td>  <th>  Jarque-Bera (JB):  </th> <td>2018.070</td>\n",
       "</tr>\n",
       "<tr>\n",
       "  <th>Skew:</th>          <td> 2.112</td>  <th>  Prob(JB):          </th> <td>    0.00</td>\n",
       "</tr>\n",
       "<tr>\n",
       "  <th>Kurtosis:</th>      <td>14.721</td>  <th>  Cond. No.          </th> <td>3.76e+03</td>\n",
       "</tr>\n",
       "</table><br/><br/>Warnings:<br/>[1] Standard Errors assume that the covariance matrix of the errors is correctly specified.<br/>[2] The condition number is large, 3.76e+03. This might indicate that there are<br/>strong multicollinearity or other numerical problems."
      ],
      "text/plain": [
       "<class 'statsmodels.iolib.summary.Summary'>\n",
       "\"\"\"\n",
       "                            OLS Regression Results                            \n",
       "==============================================================================\n",
       "Dep. Variable:                 Salary   R-squared:                       0.226\n",
       "Model:                            OLS   Adj. R-squared:                  0.141\n",
       "Method:                 Least Squares   F-statistic:                     2.644\n",
       "Date:                Mon, 02 Dec 2019   Prob (F-statistic):           1.40e-05\n",
       "Time:                        14:08:42   Log-Likelihood:                -3972.7\n",
       "No. Observations:                 312   AIC:                             8009.\n",
       "Df Residuals:                     280   BIC:                             8129.\n",
       "Df Model:                          31                                         \n",
       "Covariance Type:            nonrobust                                         \n",
       "=======================================================================================================\n",
       "                                          coef    std err          t      P>|t|      [0.025      0.975]\n",
       "-------------------------------------------------------------------------------------------------------\n",
       "const                                4.964e+04   8.53e+04      0.582      0.561   -1.18e+05    2.17e+05\n",
       "Percent_SSC                          -112.5023    629.914     -0.179      0.858   -1352.471    1127.467\n",
       "Percent_HSC                           -49.1563    601.843     -0.082      0.935   -1233.867    1135.555\n",
       "Percent_Degree                        324.1722    719.922      0.450      0.653   -1092.975    1741.320\n",
       "Experience_Yrs                        1.75e+04   7913.857      2.211      0.028    1920.911    3.31e+04\n",
       "Percentile_ET                         -69.0177    174.690     -0.395      0.693    -412.890     274.854\n",
       "Percent_MBA                          1522.5240   1526.552      0.997      0.319   -1482.452    4527.500\n",
       "Marks_Communication                  1594.2936    856.753      1.861      0.064     -92.202    3280.789\n",
       "Marks_Projectwork                    -247.3075    817.187     -0.303      0.762   -1855.918    1361.303\n",
       "Marks_BOCA                            767.6282    635.112      1.209      0.228    -482.571    2017.828\n",
       "Gender_M                              4.07e+04   1.21e+04      3.374      0.001     1.7e+04    6.44e+04\n",
       "Board_SSC_ICSE                      -2.767e+04   1.95e+04     -1.420      0.157    -6.6e+04    1.07e+04\n",
       "Board_SSC_Others                    -2.157e+04   1.66e+04     -1.297      0.196   -5.43e+04    1.12e+04\n",
       "Board_HSC_ISC                        2.702e+04   2.22e+04      1.218      0.224   -1.67e+04    7.07e+04\n",
       "Board_HSC_Others                     7286.6457   1.67e+04      0.438      0.662   -2.55e+04    4.01e+04\n",
       "Stream_HSC_Commerce                   4.49e+04   2.94e+04      1.529      0.127   -1.29e+04    1.03e+05\n",
       "Stream_HSC_Science                   4.248e+04   3.08e+04      1.381      0.168   -1.81e+04    1.03e+05\n",
       "Course_Degree_Commerce              -2.357e+04    3.5e+04     -0.673      0.501   -9.25e+04    4.54e+04\n",
       "Course_Degree_Computer Applications -2.878e+04   3.77e+04     -0.763      0.446   -1.03e+05    4.54e+04\n",
       "Course_Degree_Engineering            7406.7261   3.59e+04      0.206      0.837   -6.32e+04    7.81e+04\n",
       "Course_Degree_Management            -3.779e+04   3.29e+04     -1.147      0.252   -1.03e+05     2.7e+04\n",
       "Course_Degree_Others                -5.734e+04   5.41e+04     -1.060      0.290   -1.64e+05    4.91e+04\n",
       "Course_Degree_Science               -3.894e+04   3.73e+04     -1.045      0.297   -1.12e+05    3.44e+04\n",
       "Entrance_Test_G-MAT                 -1.532e+04   9.11e+04     -0.168      0.867   -1.95e+05    1.64e+05\n",
       "Entrance_Test_G-SAT                 -6.855e+04   9.33e+04     -0.735      0.463   -2.52e+05    1.15e+05\n",
       "Entrance_Test_GCET                  -4.453e+04   6.83e+04     -0.652      0.515   -1.79e+05       9e+04\n",
       "Entrance_Test_K-MAT                  2.127e+04   2.95e+04      0.720      0.472   -3.69e+04    7.94e+04\n",
       "Entrance_Test_MAT                   -4.295e+04   2.18e+04     -1.968      0.050   -8.59e+04       7.449\n",
       "Entrance_Test_PGCET                 -1.537e+04      5e+04     -0.307      0.759   -1.14e+05    8.31e+04\n",
       "Entrance_Test_XAT                   -2.065e+04   9.07e+04     -0.228      0.820   -1.99e+05    1.58e+05\n",
       "Specialization_MBA_Marketing & HR   -2.659e+04   1.14e+04     -2.340      0.020    -4.9e+04   -4218.402\n",
       "Specialization_MBA_Marketing & IB   -2.041e+04   3.13e+04     -0.652      0.515    -8.2e+04    4.12e+04\n",
       "==============================================================================\n",
       "Omnibus:                      178.455   Durbin-Watson:                   2.064\n",
       "Prob(Omnibus):                  0.000   Jarque-Bera (JB):             2018.070\n",
       "Skew:                           2.112   Prob(JB):                         0.00\n",
       "Kurtosis:                      14.721   Cond. No.                     3.76e+03\n",
       "==============================================================================\n",
       "\n",
       "Warnings:\n",
       "[1] Standard Errors assume that the covariance matrix of the errors is correctly specified.\n",
       "[2] The condition number is large, 3.76e+03. This might indicate that there are\n",
       "strong multicollinearity or other numerical problems.\n",
       "\"\"\""
      ]
     },
     "execution_count": 98,
     "metadata": {},
     "output_type": "execute_result"
    }
   ],
   "source": [
    "Xc = sm.add_constant(X)\n",
    "lin_reg_ols = sm.OLS(Y,Xc).fit()\n",
    "lin_reg_ols.summary()"
   ]
  },
  {
   "cell_type": "code",
   "execution_count": 99,
   "metadata": {},
   "outputs": [],
   "source": [
    "from scipy.stats import ttest_1samp"
   ]
  },
  {
   "cell_type": "code",
   "execution_count": 100,
   "metadata": {},
   "outputs": [
    {
     "name": "stdout",
     "output_type": "stream",
     "text": [
      "train Ttest_1sampResult(statistic=-1.1097924625045934, pvalue=0.26831678064859943)\n",
      "test Ttest_1sampResult(statistic=1.0671967478176785, pvalue=0.28864552390224174)\n"
     ]
    }
   ],
   "source": [
    "print('train',ttest_1samp(Y_train,df.Salary.mean()))\n",
    "print('test',ttest_1samp(Y_test,df.Salary.mean()))"
   ]
  },
  {
   "cell_type": "markdown",
   "metadata": {},
   "source": [
    "6. Fit a base model. Please write your key observations \n"
   ]
  },
  {
   "cell_type": "markdown",
   "metadata": {},
   "source": [
    "a.\tWhat is the overall R2? Please comment on whether it is good or not. \n",
    "\n",
    "\n"
   ]
  },
  {
   "cell_type": "markdown",
   "metadata": {},
   "source": [
    " \n",
    "b.\tDo the prediction using test data and add the predicted values as a new column to your dataframe.\n",
    "\n"
   ]
  },
  {
   "cell_type": "markdown",
   "metadata": {},
   "source": [
    "\n",
    "c.\tWhich variables are significant?\n",
    " \n"
   ]
  },
  {
   "cell_type": "markdown",
   "metadata": {},
   "source": [
    "\n",
    "d.\tIs there multi-collinearity?\n",
    "\n"
   ]
  },
  {
   "cell_type": "markdown",
   "metadata": {},
   "source": [
    "\n",
    "e.\tWhat are the RMSE and MAPE values of the model? \n"
   ]
  },
  {
   "cell_type": "code",
   "execution_count": 101,
   "metadata": {},
   "outputs": [],
   "source": [
    "#a"
   ]
  },
  {
   "cell_type": "code",
   "execution_count": 102,
   "metadata": {},
   "outputs": [
    {
     "data": {
      "text/html": [
       "<table class=\"simpletable\">\n",
       "<caption>OLS Regression Results</caption>\n",
       "<tr>\n",
       "  <th>Dep. Variable:</th>         <td>Salary</td>      <th>  R-squared:         </th> <td>   0.226</td>\n",
       "</tr>\n",
       "<tr>\n",
       "  <th>Model:</th>                   <td>OLS</td>       <th>  Adj. R-squared:    </th> <td>   0.141</td>\n",
       "</tr>\n",
       "<tr>\n",
       "  <th>Method:</th>             <td>Least Squares</td>  <th>  F-statistic:       </th> <td>   2.644</td>\n",
       "</tr>\n",
       "<tr>\n",
       "  <th>Date:</th>             <td>Mon, 02 Dec 2019</td> <th>  Prob (F-statistic):</th> <td>1.40e-05</td>\n",
       "</tr>\n",
       "<tr>\n",
       "  <th>Time:</th>                 <td>14:08:42</td>     <th>  Log-Likelihood:    </th> <td> -3972.7</td>\n",
       "</tr>\n",
       "<tr>\n",
       "  <th>No. Observations:</th>      <td>   312</td>      <th>  AIC:               </th> <td>   8009.</td>\n",
       "</tr>\n",
       "<tr>\n",
       "  <th>Df Residuals:</th>          <td>   280</td>      <th>  BIC:               </th> <td>   8129.</td>\n",
       "</tr>\n",
       "<tr>\n",
       "  <th>Df Model:</th>              <td>    31</td>      <th>                     </th>     <td> </td>   \n",
       "</tr>\n",
       "<tr>\n",
       "  <th>Covariance Type:</th>      <td>nonrobust</td>    <th>                     </th>     <td> </td>   \n",
       "</tr>\n",
       "</table>\n",
       "<table class=\"simpletable\">\n",
       "<tr>\n",
       "                   <td></td>                      <th>coef</th>     <th>std err</th>      <th>t</th>      <th>P>|t|</th>  <th>[0.025</th>    <th>0.975]</th>  \n",
       "</tr>\n",
       "<tr>\n",
       "  <th>const</th>                               <td> 4.964e+04</td> <td> 8.53e+04</td> <td>    0.582</td> <td> 0.561</td> <td>-1.18e+05</td> <td> 2.17e+05</td>\n",
       "</tr>\n",
       "<tr>\n",
       "  <th>Percent_SSC</th>                         <td> -112.5023</td> <td>  629.914</td> <td>   -0.179</td> <td> 0.858</td> <td>-1352.471</td> <td> 1127.467</td>\n",
       "</tr>\n",
       "<tr>\n",
       "  <th>Percent_HSC</th>                         <td>  -49.1563</td> <td>  601.843</td> <td>   -0.082</td> <td> 0.935</td> <td>-1233.867</td> <td> 1135.555</td>\n",
       "</tr>\n",
       "<tr>\n",
       "  <th>Percent_Degree</th>                      <td>  324.1722</td> <td>  719.922</td> <td>    0.450</td> <td> 0.653</td> <td>-1092.975</td> <td> 1741.320</td>\n",
       "</tr>\n",
       "<tr>\n",
       "  <th>Experience_Yrs</th>                      <td>  1.75e+04</td> <td> 7913.857</td> <td>    2.211</td> <td> 0.028</td> <td> 1920.911</td> <td> 3.31e+04</td>\n",
       "</tr>\n",
       "<tr>\n",
       "  <th>Percentile_ET</th>                       <td>  -69.0177</td> <td>  174.690</td> <td>   -0.395</td> <td> 0.693</td> <td> -412.890</td> <td>  274.854</td>\n",
       "</tr>\n",
       "<tr>\n",
       "  <th>Percent_MBA</th>                         <td> 1522.5240</td> <td> 1526.552</td> <td>    0.997</td> <td> 0.319</td> <td>-1482.452</td> <td> 4527.500</td>\n",
       "</tr>\n",
       "<tr>\n",
       "  <th>Marks_Communication</th>                 <td> 1594.2936</td> <td>  856.753</td> <td>    1.861</td> <td> 0.064</td> <td>  -92.202</td> <td> 3280.789</td>\n",
       "</tr>\n",
       "<tr>\n",
       "  <th>Marks_Projectwork</th>                   <td> -247.3075</td> <td>  817.187</td> <td>   -0.303</td> <td> 0.762</td> <td>-1855.918</td> <td> 1361.303</td>\n",
       "</tr>\n",
       "<tr>\n",
       "  <th>Marks_BOCA</th>                          <td>  767.6282</td> <td>  635.112</td> <td>    1.209</td> <td> 0.228</td> <td> -482.571</td> <td> 2017.828</td>\n",
       "</tr>\n",
       "<tr>\n",
       "  <th>Gender_M</th>                            <td>  4.07e+04</td> <td> 1.21e+04</td> <td>    3.374</td> <td> 0.001</td> <td>  1.7e+04</td> <td> 6.44e+04</td>\n",
       "</tr>\n",
       "<tr>\n",
       "  <th>Board_SSC_ICSE</th>                      <td>-2.767e+04</td> <td> 1.95e+04</td> <td>   -1.420</td> <td> 0.157</td> <td> -6.6e+04</td> <td> 1.07e+04</td>\n",
       "</tr>\n",
       "<tr>\n",
       "  <th>Board_SSC_Others</th>                    <td>-2.157e+04</td> <td> 1.66e+04</td> <td>   -1.297</td> <td> 0.196</td> <td>-5.43e+04</td> <td> 1.12e+04</td>\n",
       "</tr>\n",
       "<tr>\n",
       "  <th>Board_HSC_ISC</th>                       <td> 2.702e+04</td> <td> 2.22e+04</td> <td>    1.218</td> <td> 0.224</td> <td>-1.67e+04</td> <td> 7.07e+04</td>\n",
       "</tr>\n",
       "<tr>\n",
       "  <th>Board_HSC_Others</th>                    <td> 7286.6457</td> <td> 1.67e+04</td> <td>    0.438</td> <td> 0.662</td> <td>-2.55e+04</td> <td> 4.01e+04</td>\n",
       "</tr>\n",
       "<tr>\n",
       "  <th>Stream_HSC_Commerce</th>                 <td>  4.49e+04</td> <td> 2.94e+04</td> <td>    1.529</td> <td> 0.127</td> <td>-1.29e+04</td> <td> 1.03e+05</td>\n",
       "</tr>\n",
       "<tr>\n",
       "  <th>Stream_HSC_Science</th>                  <td> 4.248e+04</td> <td> 3.08e+04</td> <td>    1.381</td> <td> 0.168</td> <td>-1.81e+04</td> <td> 1.03e+05</td>\n",
       "</tr>\n",
       "<tr>\n",
       "  <th>Course_Degree_Commerce</th>              <td>-2.357e+04</td> <td>  3.5e+04</td> <td>   -0.673</td> <td> 0.501</td> <td>-9.25e+04</td> <td> 4.54e+04</td>\n",
       "</tr>\n",
       "<tr>\n",
       "  <th>Course_Degree_Computer Applications</th> <td>-2.878e+04</td> <td> 3.77e+04</td> <td>   -0.763</td> <td> 0.446</td> <td>-1.03e+05</td> <td> 4.54e+04</td>\n",
       "</tr>\n",
       "<tr>\n",
       "  <th>Course_Degree_Engineering</th>           <td> 7406.7261</td> <td> 3.59e+04</td> <td>    0.206</td> <td> 0.837</td> <td>-6.32e+04</td> <td> 7.81e+04</td>\n",
       "</tr>\n",
       "<tr>\n",
       "  <th>Course_Degree_Management</th>            <td>-3.779e+04</td> <td> 3.29e+04</td> <td>   -1.147</td> <td> 0.252</td> <td>-1.03e+05</td> <td>  2.7e+04</td>\n",
       "</tr>\n",
       "<tr>\n",
       "  <th>Course_Degree_Others</th>                <td>-5.734e+04</td> <td> 5.41e+04</td> <td>   -1.060</td> <td> 0.290</td> <td>-1.64e+05</td> <td> 4.91e+04</td>\n",
       "</tr>\n",
       "<tr>\n",
       "  <th>Course_Degree_Science</th>               <td>-3.894e+04</td> <td> 3.73e+04</td> <td>   -1.045</td> <td> 0.297</td> <td>-1.12e+05</td> <td> 3.44e+04</td>\n",
       "</tr>\n",
       "<tr>\n",
       "  <th>Entrance_Test_G-MAT</th>                 <td>-1.532e+04</td> <td> 9.11e+04</td> <td>   -0.168</td> <td> 0.867</td> <td>-1.95e+05</td> <td> 1.64e+05</td>\n",
       "</tr>\n",
       "<tr>\n",
       "  <th>Entrance_Test_G-SAT</th>                 <td>-6.855e+04</td> <td> 9.33e+04</td> <td>   -0.735</td> <td> 0.463</td> <td>-2.52e+05</td> <td> 1.15e+05</td>\n",
       "</tr>\n",
       "<tr>\n",
       "  <th>Entrance_Test_GCET</th>                  <td>-4.453e+04</td> <td> 6.83e+04</td> <td>   -0.652</td> <td> 0.515</td> <td>-1.79e+05</td> <td>    9e+04</td>\n",
       "</tr>\n",
       "<tr>\n",
       "  <th>Entrance_Test_K-MAT</th>                 <td> 2.127e+04</td> <td> 2.95e+04</td> <td>    0.720</td> <td> 0.472</td> <td>-3.69e+04</td> <td> 7.94e+04</td>\n",
       "</tr>\n",
       "<tr>\n",
       "  <th>Entrance_Test_MAT</th>                   <td>-4.295e+04</td> <td> 2.18e+04</td> <td>   -1.968</td> <td> 0.050</td> <td>-8.59e+04</td> <td>    7.449</td>\n",
       "</tr>\n",
       "<tr>\n",
       "  <th>Entrance_Test_PGCET</th>                 <td>-1.537e+04</td> <td>    5e+04</td> <td>   -0.307</td> <td> 0.759</td> <td>-1.14e+05</td> <td> 8.31e+04</td>\n",
       "</tr>\n",
       "<tr>\n",
       "  <th>Entrance_Test_XAT</th>                   <td>-2.065e+04</td> <td> 9.07e+04</td> <td>   -0.228</td> <td> 0.820</td> <td>-1.99e+05</td> <td> 1.58e+05</td>\n",
       "</tr>\n",
       "<tr>\n",
       "  <th>Specialization_MBA_Marketing & HR</th>   <td>-2.659e+04</td> <td> 1.14e+04</td> <td>   -2.340</td> <td> 0.020</td> <td> -4.9e+04</td> <td>-4218.402</td>\n",
       "</tr>\n",
       "<tr>\n",
       "  <th>Specialization_MBA_Marketing & IB</th>   <td>-2.041e+04</td> <td> 3.13e+04</td> <td>   -0.652</td> <td> 0.515</td> <td> -8.2e+04</td> <td> 4.12e+04</td>\n",
       "</tr>\n",
       "</table>\n",
       "<table class=\"simpletable\">\n",
       "<tr>\n",
       "  <th>Omnibus:</th>       <td>178.455</td> <th>  Durbin-Watson:     </th> <td>   2.064</td>\n",
       "</tr>\n",
       "<tr>\n",
       "  <th>Prob(Omnibus):</th> <td> 0.000</td>  <th>  Jarque-Bera (JB):  </th> <td>2018.070</td>\n",
       "</tr>\n",
       "<tr>\n",
       "  <th>Skew:</th>          <td> 2.112</td>  <th>  Prob(JB):          </th> <td>    0.00</td>\n",
       "</tr>\n",
       "<tr>\n",
       "  <th>Kurtosis:</th>      <td>14.721</td>  <th>  Cond. No.          </th> <td>3.76e+03</td>\n",
       "</tr>\n",
       "</table><br/><br/>Warnings:<br/>[1] Standard Errors assume that the covariance matrix of the errors is correctly specified.<br/>[2] The condition number is large, 3.76e+03. This might indicate that there are<br/>strong multicollinearity or other numerical problems."
      ],
      "text/plain": [
       "<class 'statsmodels.iolib.summary.Summary'>\n",
       "\"\"\"\n",
       "                            OLS Regression Results                            \n",
       "==============================================================================\n",
       "Dep. Variable:                 Salary   R-squared:                       0.226\n",
       "Model:                            OLS   Adj. R-squared:                  0.141\n",
       "Method:                 Least Squares   F-statistic:                     2.644\n",
       "Date:                Mon, 02 Dec 2019   Prob (F-statistic):           1.40e-05\n",
       "Time:                        14:08:42   Log-Likelihood:                -3972.7\n",
       "No. Observations:                 312   AIC:                             8009.\n",
       "Df Residuals:                     280   BIC:                             8129.\n",
       "Df Model:                          31                                         \n",
       "Covariance Type:            nonrobust                                         \n",
       "=======================================================================================================\n",
       "                                          coef    std err          t      P>|t|      [0.025      0.975]\n",
       "-------------------------------------------------------------------------------------------------------\n",
       "const                                4.964e+04   8.53e+04      0.582      0.561   -1.18e+05    2.17e+05\n",
       "Percent_SSC                          -112.5023    629.914     -0.179      0.858   -1352.471    1127.467\n",
       "Percent_HSC                           -49.1563    601.843     -0.082      0.935   -1233.867    1135.555\n",
       "Percent_Degree                        324.1722    719.922      0.450      0.653   -1092.975    1741.320\n",
       "Experience_Yrs                        1.75e+04   7913.857      2.211      0.028    1920.911    3.31e+04\n",
       "Percentile_ET                         -69.0177    174.690     -0.395      0.693    -412.890     274.854\n",
       "Percent_MBA                          1522.5240   1526.552      0.997      0.319   -1482.452    4527.500\n",
       "Marks_Communication                  1594.2936    856.753      1.861      0.064     -92.202    3280.789\n",
       "Marks_Projectwork                    -247.3075    817.187     -0.303      0.762   -1855.918    1361.303\n",
       "Marks_BOCA                            767.6282    635.112      1.209      0.228    -482.571    2017.828\n",
       "Gender_M                              4.07e+04   1.21e+04      3.374      0.001     1.7e+04    6.44e+04\n",
       "Board_SSC_ICSE                      -2.767e+04   1.95e+04     -1.420      0.157    -6.6e+04    1.07e+04\n",
       "Board_SSC_Others                    -2.157e+04   1.66e+04     -1.297      0.196   -5.43e+04    1.12e+04\n",
       "Board_HSC_ISC                        2.702e+04   2.22e+04      1.218      0.224   -1.67e+04    7.07e+04\n",
       "Board_HSC_Others                     7286.6457   1.67e+04      0.438      0.662   -2.55e+04    4.01e+04\n",
       "Stream_HSC_Commerce                   4.49e+04   2.94e+04      1.529      0.127   -1.29e+04    1.03e+05\n",
       "Stream_HSC_Science                   4.248e+04   3.08e+04      1.381      0.168   -1.81e+04    1.03e+05\n",
       "Course_Degree_Commerce              -2.357e+04    3.5e+04     -0.673      0.501   -9.25e+04    4.54e+04\n",
       "Course_Degree_Computer Applications -2.878e+04   3.77e+04     -0.763      0.446   -1.03e+05    4.54e+04\n",
       "Course_Degree_Engineering            7406.7261   3.59e+04      0.206      0.837   -6.32e+04    7.81e+04\n",
       "Course_Degree_Management            -3.779e+04   3.29e+04     -1.147      0.252   -1.03e+05     2.7e+04\n",
       "Course_Degree_Others                -5.734e+04   5.41e+04     -1.060      0.290   -1.64e+05    4.91e+04\n",
       "Course_Degree_Science               -3.894e+04   3.73e+04     -1.045      0.297   -1.12e+05    3.44e+04\n",
       "Entrance_Test_G-MAT                 -1.532e+04   9.11e+04     -0.168      0.867   -1.95e+05    1.64e+05\n",
       "Entrance_Test_G-SAT                 -6.855e+04   9.33e+04     -0.735      0.463   -2.52e+05    1.15e+05\n",
       "Entrance_Test_GCET                  -4.453e+04   6.83e+04     -0.652      0.515   -1.79e+05       9e+04\n",
       "Entrance_Test_K-MAT                  2.127e+04   2.95e+04      0.720      0.472   -3.69e+04    7.94e+04\n",
       "Entrance_Test_MAT                   -4.295e+04   2.18e+04     -1.968      0.050   -8.59e+04       7.449\n",
       "Entrance_Test_PGCET                 -1.537e+04      5e+04     -0.307      0.759   -1.14e+05    8.31e+04\n",
       "Entrance_Test_XAT                   -2.065e+04   9.07e+04     -0.228      0.820   -1.99e+05    1.58e+05\n",
       "Specialization_MBA_Marketing & HR   -2.659e+04   1.14e+04     -2.340      0.020    -4.9e+04   -4218.402\n",
       "Specialization_MBA_Marketing & IB   -2.041e+04   3.13e+04     -0.652      0.515    -8.2e+04    4.12e+04\n",
       "==============================================================================\n",
       "Omnibus:                      178.455   Durbin-Watson:                   2.064\n",
       "Prob(Omnibus):                  0.000   Jarque-Bera (JB):             2018.070\n",
       "Skew:                           2.112   Prob(JB):                         0.00\n",
       "Kurtosis:                      14.721   Cond. No.                     3.76e+03\n",
       "==============================================================================\n",
       "\n",
       "Warnings:\n",
       "[1] Standard Errors assume that the covariance matrix of the errors is correctly specified.\n",
       "[2] The condition number is large, 3.76e+03. This might indicate that there are\n",
       "strong multicollinearity or other numerical problems.\n",
       "\"\"\""
      ]
     },
     "execution_count": 102,
     "metadata": {},
     "output_type": "execute_result"
    }
   ],
   "source": [
    "Xc = sm.add_constant(X)\n",
    "lin_reg_ols = sm.OLS(Y,Xc).fit()\n",
    "lin_reg_ols.summary()"
   ]
  },
  {
   "cell_type": "markdown",
   "metadata": {},
   "source": [
    "Overall R-Squared value is 70.9 which is quite good."
   ]
  },
  {
   "cell_type": "code",
   "execution_count": 103,
   "metadata": {},
   "outputs": [
    {
     "name": "stdout",
     "output_type": "stream",
     "text": [
      "R^2 score for train : 0.30364879885648155\n",
      "R^2 score for test: 0.06868516316333739\n",
      "R^2 score for Overall data: 0.18928991976633647\n"
     ]
    }
   ],
   "source": [
    "lin_reg = LinearRegression()\n",
    "lin_reg.fit(X_train, Y_train)\n",
    "print(f'R^2 score for train : {lin_reg.score(X_train, Y_train)}')\n",
    "print(f'R^2 score for test: {lin_reg.score(X_test, Y_test)}')\n",
    "print(f'R^2 score for Overall data: {lin_reg.score(X, Y)}')"
   ]
  },
  {
   "cell_type": "code",
   "execution_count": 104,
   "metadata": {},
   "outputs": [],
   "source": [
    "#b"
   ]
  },
  {
   "cell_type": "code",
   "execution_count": 105,
   "metadata": {},
   "outputs": [],
   "source": [
    "lin_reg = LinearRegression().fit(X_train,Y_train)"
   ]
  },
  {
   "cell_type": "code",
   "execution_count": 106,
   "metadata": {},
   "outputs": [],
   "source": [
    "df['predictions1'] = lin_reg.predict(X)"
   ]
  },
  {
   "cell_type": "code",
   "execution_count": 107,
   "metadata": {},
   "outputs": [
    {
     "data": {
      "text/html": [
       "<div>\n",
       "<style scoped>\n",
       "    .dataframe tbody tr th:only-of-type {\n",
       "        vertical-align: middle;\n",
       "    }\n",
       "\n",
       "    .dataframe tbody tr th {\n",
       "        vertical-align: top;\n",
       "    }\n",
       "\n",
       "    .dataframe thead th {\n",
       "        text-align: right;\n",
       "    }\n",
       "</style>\n",
       "<table border=\"1\" class=\"dataframe\">\n",
       "  <thead>\n",
       "    <tr style=\"text-align: right;\">\n",
       "      <th></th>\n",
       "      <th>Percent_SSC</th>\n",
       "      <th>Percent_HSC</th>\n",
       "      <th>Percent_Degree</th>\n",
       "      <th>Experience_Yrs</th>\n",
       "      <th>Percentile_ET</th>\n",
       "      <th>Percent_MBA</th>\n",
       "      <th>Marks_Communication</th>\n",
       "      <th>Marks_Projectwork</th>\n",
       "      <th>Marks_BOCA</th>\n",
       "      <th>Salary</th>\n",
       "      <th>Gender_M</th>\n",
       "      <th>Board_SSC_ICSE</th>\n",
       "      <th>Board_SSC_Others</th>\n",
       "      <th>Board_HSC_ISC</th>\n",
       "      <th>Board_HSC_Others</th>\n",
       "      <th>Stream_HSC_Commerce</th>\n",
       "      <th>Stream_HSC_Science</th>\n",
       "      <th>Course_Degree_Commerce</th>\n",
       "      <th>Course_Degree_Computer Applications</th>\n",
       "      <th>Course_Degree_Engineering</th>\n",
       "      <th>Course_Degree_Management</th>\n",
       "      <th>Course_Degree_Others</th>\n",
       "      <th>Course_Degree_Science</th>\n",
       "      <th>Entrance_Test_G-MAT</th>\n",
       "      <th>Entrance_Test_G-SAT</th>\n",
       "      <th>Entrance_Test_GCET</th>\n",
       "      <th>Entrance_Test_K-MAT</th>\n",
       "      <th>Entrance_Test_MAT</th>\n",
       "      <th>Entrance_Test_PGCET</th>\n",
       "      <th>Entrance_Test_XAT</th>\n",
       "      <th>Specialization_MBA_Marketing &amp; HR</th>\n",
       "      <th>Specialization_MBA_Marketing &amp; IB</th>\n",
       "      <th>predictions1</th>\n",
       "    </tr>\n",
       "  </thead>\n",
       "  <tbody>\n",
       "    <tr>\n",
       "      <th>0</th>\n",
       "      <td>62.00</td>\n",
       "      <td>88.00</td>\n",
       "      <td>52.00</td>\n",
       "      <td>0</td>\n",
       "      <td>55.0</td>\n",
       "      <td>58.80</td>\n",
       "      <td>50</td>\n",
       "      <td>65</td>\n",
       "      <td>74</td>\n",
       "      <td>270000</td>\n",
       "      <td>1</td>\n",
       "      <td>0</td>\n",
       "      <td>1</td>\n",
       "      <td>0</td>\n",
       "      <td>1</td>\n",
       "      <td>1</td>\n",
       "      <td>0</td>\n",
       "      <td>0</td>\n",
       "      <td>0</td>\n",
       "      <td>0</td>\n",
       "      <td>0</td>\n",
       "      <td>0</td>\n",
       "      <td>1</td>\n",
       "      <td>0</td>\n",
       "      <td>0</td>\n",
       "      <td>0</td>\n",
       "      <td>0</td>\n",
       "      <td>1</td>\n",
       "      <td>0</td>\n",
       "      <td>0</td>\n",
       "      <td>1</td>\n",
       "      <td>0</td>\n",
       "      <td>222785.560248</td>\n",
       "    </tr>\n",
       "    <tr>\n",
       "      <th>1</th>\n",
       "      <td>76.33</td>\n",
       "      <td>75.33</td>\n",
       "      <td>75.48</td>\n",
       "      <td>1</td>\n",
       "      <td>86.5</td>\n",
       "      <td>66.28</td>\n",
       "      <td>69</td>\n",
       "      <td>70</td>\n",
       "      <td>75</td>\n",
       "      <td>200000</td>\n",
       "      <td>1</td>\n",
       "      <td>1</td>\n",
       "      <td>0</td>\n",
       "      <td>0</td>\n",
       "      <td>1</td>\n",
       "      <td>0</td>\n",
       "      <td>1</td>\n",
       "      <td>0</td>\n",
       "      <td>1</td>\n",
       "      <td>0</td>\n",
       "      <td>0</td>\n",
       "      <td>0</td>\n",
       "      <td>0</td>\n",
       "      <td>0</td>\n",
       "      <td>0</td>\n",
       "      <td>0</td>\n",
       "      <td>0</td>\n",
       "      <td>1</td>\n",
       "      <td>0</td>\n",
       "      <td>0</td>\n",
       "      <td>0</td>\n",
       "      <td>0</td>\n",
       "      <td>277211.915175</td>\n",
       "    </tr>\n",
       "    <tr>\n",
       "      <th>2</th>\n",
       "      <td>72.00</td>\n",
       "      <td>78.00</td>\n",
       "      <td>66.63</td>\n",
       "      <td>0</td>\n",
       "      <td>0.0</td>\n",
       "      <td>52.91</td>\n",
       "      <td>50</td>\n",
       "      <td>61</td>\n",
       "      <td>59</td>\n",
       "      <td>240000</td>\n",
       "      <td>1</td>\n",
       "      <td>0</td>\n",
       "      <td>1</td>\n",
       "      <td>0</td>\n",
       "      <td>1</td>\n",
       "      <td>1</td>\n",
       "      <td>0</td>\n",
       "      <td>0</td>\n",
       "      <td>0</td>\n",
       "      <td>1</td>\n",
       "      <td>0</td>\n",
       "      <td>0</td>\n",
       "      <td>0</td>\n",
       "      <td>0</td>\n",
       "      <td>0</td>\n",
       "      <td>0</td>\n",
       "      <td>0</td>\n",
       "      <td>1</td>\n",
       "      <td>0</td>\n",
       "      <td>0</td>\n",
       "      <td>0</td>\n",
       "      <td>0</td>\n",
       "      <td>281104.181649</td>\n",
       "    </tr>\n",
       "    <tr>\n",
       "      <th>3</th>\n",
       "      <td>60.00</td>\n",
       "      <td>63.00</td>\n",
       "      <td>58.00</td>\n",
       "      <td>0</td>\n",
       "      <td>75.0</td>\n",
       "      <td>57.80</td>\n",
       "      <td>54</td>\n",
       "      <td>66</td>\n",
       "      <td>62</td>\n",
       "      <td>250000</td>\n",
       "      <td>1</td>\n",
       "      <td>0</td>\n",
       "      <td>0</td>\n",
       "      <td>0</td>\n",
       "      <td>0</td>\n",
       "      <td>0</td>\n",
       "      <td>0</td>\n",
       "      <td>0</td>\n",
       "      <td>0</td>\n",
       "      <td>0</td>\n",
       "      <td>1</td>\n",
       "      <td>0</td>\n",
       "      <td>0</td>\n",
       "      <td>0</td>\n",
       "      <td>0</td>\n",
       "      <td>0</td>\n",
       "      <td>0</td>\n",
       "      <td>1</td>\n",
       "      <td>0</td>\n",
       "      <td>0</td>\n",
       "      <td>0</td>\n",
       "      <td>0</td>\n",
       "      <td>176501.191901</td>\n",
       "    </tr>\n",
       "    <tr>\n",
       "      <th>4</th>\n",
       "      <td>61.00</td>\n",
       "      <td>55.00</td>\n",
       "      <td>54.00</td>\n",
       "      <td>1</td>\n",
       "      <td>66.0</td>\n",
       "      <td>59.43</td>\n",
       "      <td>52</td>\n",
       "      <td>65</td>\n",
       "      <td>67</td>\n",
       "      <td>180000</td>\n",
       "      <td>1</td>\n",
       "      <td>0</td>\n",
       "      <td>0</td>\n",
       "      <td>1</td>\n",
       "      <td>0</td>\n",
       "      <td>0</td>\n",
       "      <td>1</td>\n",
       "      <td>0</td>\n",
       "      <td>0</td>\n",
       "      <td>1</td>\n",
       "      <td>0</td>\n",
       "      <td>0</td>\n",
       "      <td>0</td>\n",
       "      <td>0</td>\n",
       "      <td>0</td>\n",
       "      <td>0</td>\n",
       "      <td>0</td>\n",
       "      <td>1</td>\n",
       "      <td>0</td>\n",
       "      <td>0</td>\n",
       "      <td>1</td>\n",
       "      <td>0</td>\n",
       "      <td>317074.929147</td>\n",
       "    </tr>\n",
       "  </tbody>\n",
       "</table>\n",
       "</div>"
      ],
      "text/plain": [
       "   Percent_SSC  Percent_HSC  Percent_Degree  Experience_Yrs  Percentile_ET  \\\n",
       "0        62.00        88.00           52.00               0           55.0   \n",
       "1        76.33        75.33           75.48               1           86.5   \n",
       "2        72.00        78.00           66.63               0            0.0   \n",
       "3        60.00        63.00           58.00               0           75.0   \n",
       "4        61.00        55.00           54.00               1           66.0   \n",
       "\n",
       "   Percent_MBA  Marks_Communication  Marks_Projectwork  Marks_BOCA  Salary  \\\n",
       "0        58.80                   50                 65          74  270000   \n",
       "1        66.28                   69                 70          75  200000   \n",
       "2        52.91                   50                 61          59  240000   \n",
       "3        57.80                   54                 66          62  250000   \n",
       "4        59.43                   52                 65          67  180000   \n",
       "\n",
       "   Gender_M  Board_SSC_ICSE  Board_SSC_Others  Board_HSC_ISC  \\\n",
       "0         1               0                 1              0   \n",
       "1         1               1                 0              0   \n",
       "2         1               0                 1              0   \n",
       "3         1               0                 0              0   \n",
       "4         1               0                 0              1   \n",
       "\n",
       "   Board_HSC_Others  Stream_HSC_Commerce  Stream_HSC_Science  \\\n",
       "0                 1                    1                   0   \n",
       "1                 1                    0                   1   \n",
       "2                 1                    1                   0   \n",
       "3                 0                    0                   0   \n",
       "4                 0                    0                   1   \n",
       "\n",
       "   Course_Degree_Commerce  Course_Degree_Computer Applications  \\\n",
       "0                       0                                    0   \n",
       "1                       0                                    1   \n",
       "2                       0                                    0   \n",
       "3                       0                                    0   \n",
       "4                       0                                    0   \n",
       "\n",
       "   Course_Degree_Engineering  Course_Degree_Management  Course_Degree_Others  \\\n",
       "0                          0                         0                     0   \n",
       "1                          0                         0                     0   \n",
       "2                          1                         0                     0   \n",
       "3                          0                         1                     0   \n",
       "4                          1                         0                     0   \n",
       "\n",
       "   Course_Degree_Science  Entrance_Test_G-MAT  Entrance_Test_G-SAT  \\\n",
       "0                      1                    0                    0   \n",
       "1                      0                    0                    0   \n",
       "2                      0                    0                    0   \n",
       "3                      0                    0                    0   \n",
       "4                      0                    0                    0   \n",
       "\n",
       "   Entrance_Test_GCET  Entrance_Test_K-MAT  Entrance_Test_MAT  \\\n",
       "0                   0                    0                  1   \n",
       "1                   0                    0                  1   \n",
       "2                   0                    0                  1   \n",
       "3                   0                    0                  1   \n",
       "4                   0                    0                  1   \n",
       "\n",
       "   Entrance_Test_PGCET  Entrance_Test_XAT  Specialization_MBA_Marketing & HR  \\\n",
       "0                    0                  0                                  1   \n",
       "1                    0                  0                                  0   \n",
       "2                    0                  0                                  0   \n",
       "3                    0                  0                                  0   \n",
       "4                    0                  0                                  1   \n",
       "\n",
       "   Specialization_MBA_Marketing & IB   predictions1  \n",
       "0                                  0  222785.560248  \n",
       "1                                  0  277211.915175  \n",
       "2                                  0  281104.181649  \n",
       "3                                  0  176501.191901  \n",
       "4                                  0  317074.929147  "
      ]
     },
     "execution_count": 107,
     "metadata": {},
     "output_type": "execute_result"
    }
   ],
   "source": [
    "df.head()"
   ]
  },
  {
   "cell_type": "code",
   "execution_count": 108,
   "metadata": {},
   "outputs": [],
   "source": [
    "#c"
   ]
  },
  {
   "cell_type": "markdown",
   "metadata": {},
   "source": [
    " Based on the p-value of our OLS model (p-value < 0.05), the following features are significant:\n",
    "Experience_Yrs\n",
    "Gender_M\n",
    "Entrance_Test_MAT\n",
    "Specialization_MBA_Marketing & HR"
   ]
  },
  {
   "cell_type": "code",
   "execution_count": 109,
   "metadata": {},
   "outputs": [],
   "source": [
    "#d"
   ]
  },
  {
   "cell_type": "code",
   "execution_count": 110,
   "metadata": {},
   "outputs": [
    {
     "data": {
      "text/html": [
       "<div>\n",
       "<style scoped>\n",
       "    .dataframe tbody tr th:only-of-type {\n",
       "        vertical-align: middle;\n",
       "    }\n",
       "\n",
       "    .dataframe tbody tr th {\n",
       "        vertical-align: top;\n",
       "    }\n",
       "\n",
       "    .dataframe thead th {\n",
       "        text-align: right;\n",
       "    }\n",
       "</style>\n",
       "<table border=\"1\" class=\"dataframe\">\n",
       "  <thead>\n",
       "    <tr style=\"text-align: right;\">\n",
       "      <th></th>\n",
       "      <th>vif</th>\n",
       "    </tr>\n",
       "  </thead>\n",
       "  <tbody>\n",
       "    <tr>\n",
       "      <th>Percent_SSC</th>\n",
       "      <td>1.934400</td>\n",
       "    </tr>\n",
       "    <tr>\n",
       "      <th>Percent_HSC</th>\n",
       "      <td>1.795484</td>\n",
       "    </tr>\n",
       "    <tr>\n",
       "      <th>Percent_Degree</th>\n",
       "      <td>1.727109</td>\n",
       "    </tr>\n",
       "    <tr>\n",
       "      <th>Experience_Yrs</th>\n",
       "      <td>1.188287</td>\n",
       "    </tr>\n",
       "    <tr>\n",
       "      <th>Percentile_ET</th>\n",
       "      <td>1.212058</td>\n",
       "    </tr>\n",
       "    <tr>\n",
       "      <th>Percent_MBA</th>\n",
       "      <td>3.223551</td>\n",
       "    </tr>\n",
       "    <tr>\n",
       "      <th>Marks_Communication</th>\n",
       "      <td>2.466608</td>\n",
       "    </tr>\n",
       "    <tr>\n",
       "      <th>Marks_Projectwork</th>\n",
       "      <td>1.413142</td>\n",
       "    </tr>\n",
       "    <tr>\n",
       "      <th>Marks_BOCA</th>\n",
       "      <td>1.610199</td>\n",
       "    </tr>\n",
       "    <tr>\n",
       "      <th>Gender_M</th>\n",
       "      <td>1.299818</td>\n",
       "    </tr>\n",
       "    <tr>\n",
       "      <th>Board_SSC_ICSE</th>\n",
       "      <td>2.457324</td>\n",
       "    </tr>\n",
       "    <tr>\n",
       "      <th>Board_SSC_Others</th>\n",
       "      <td>2.885003</td>\n",
       "    </tr>\n",
       "    <tr>\n",
       "      <th>Board_HSC_ISC</th>\n",
       "      <td>2.145889</td>\n",
       "    </tr>\n",
       "    <tr>\n",
       "      <th>Board_HSC_Others</th>\n",
       "      <td>2.719248</td>\n",
       "    </tr>\n",
       "    <tr>\n",
       "      <th>Stream_HSC_Commerce</th>\n",
       "      <td>8.854584</td>\n",
       "    </tr>\n",
       "    <tr>\n",
       "      <th>Stream_HSC_Science</th>\n",
       "      <td>9.421769</td>\n",
       "    </tr>\n",
       "    <tr>\n",
       "      <th>Course_Degree_Commerce</th>\n",
       "      <td>10.766274</td>\n",
       "    </tr>\n",
       "    <tr>\n",
       "      <th>Course_Degree_Computer Applications</th>\n",
       "      <td>4.206881</td>\n",
       "    </tr>\n",
       "    <tr>\n",
       "      <th>Course_Degree_Engineering</th>\n",
       "      <td>4.667209</td>\n",
       "    </tr>\n",
       "    <tr>\n",
       "      <th>Course_Degree_Management</th>\n",
       "      <td>10.965755</td>\n",
       "    </tr>\n",
       "    <tr>\n",
       "      <th>Course_Degree_Others</th>\n",
       "      <td>1.542727</td>\n",
       "    </tr>\n",
       "    <tr>\n",
       "      <th>Course_Degree_Science</th>\n",
       "      <td>3.636429</td>\n",
       "    </tr>\n",
       "    <tr>\n",
       "      <th>Entrance_Test_G-MAT</th>\n",
       "      <td>1.106323</td>\n",
       "    </tr>\n",
       "    <tr>\n",
       "      <th>Entrance_Test_G-SAT</th>\n",
       "      <td>1.158598</td>\n",
       "    </tr>\n",
       "    <tr>\n",
       "      <th>Entrance_Test_GCET</th>\n",
       "      <td>1.239869</td>\n",
       "    </tr>\n",
       "    <tr>\n",
       "      <th>Entrance_Test_K-MAT</th>\n",
       "      <td>2.181986</td>\n",
       "    </tr>\n",
       "    <tr>\n",
       "      <th>Entrance_Test_MAT</th>\n",
       "      <td>2.540682</td>\n",
       "    </tr>\n",
       "    <tr>\n",
       "      <th>Entrance_Test_PGCET</th>\n",
       "      <td>1.319340</td>\n",
       "    </tr>\n",
       "    <tr>\n",
       "      <th>Entrance_Test_XAT</th>\n",
       "      <td>1.095638</td>\n",
       "    </tr>\n",
       "    <tr>\n",
       "      <th>Specialization_MBA_Marketing &amp; HR</th>\n",
       "      <td>1.296911</td>\n",
       "    </tr>\n",
       "    <tr>\n",
       "      <th>Specialization_MBA_Marketing &amp; IB</th>\n",
       "      <td>1.143429</td>\n",
       "    </tr>\n",
       "  </tbody>\n",
       "</table>\n",
       "</div>"
      ],
      "text/plain": [
       "                                           vif\n",
       "Percent_SSC                           1.934400\n",
       "Percent_HSC                           1.795484\n",
       "Percent_Degree                        1.727109\n",
       "Experience_Yrs                        1.188287\n",
       "Percentile_ET                         1.212058\n",
       "Percent_MBA                           3.223551\n",
       "Marks_Communication                   2.466608\n",
       "Marks_Projectwork                     1.413142\n",
       "Marks_BOCA                            1.610199\n",
       "Gender_M                              1.299818\n",
       "Board_SSC_ICSE                        2.457324\n",
       "Board_SSC_Others                      2.885003\n",
       "Board_HSC_ISC                         2.145889\n",
       "Board_HSC_Others                      2.719248\n",
       "Stream_HSC_Commerce                   8.854584\n",
       "Stream_HSC_Science                    9.421769\n",
       "Course_Degree_Commerce               10.766274\n",
       "Course_Degree_Computer Applications   4.206881\n",
       "Course_Degree_Engineering             4.667209\n",
       "Course_Degree_Management             10.965755\n",
       "Course_Degree_Others                  1.542727\n",
       "Course_Degree_Science                 3.636429\n",
       "Entrance_Test_G-MAT                   1.106323\n",
       "Entrance_Test_G-SAT                   1.158598\n",
       "Entrance_Test_GCET                    1.239869\n",
       "Entrance_Test_K-MAT                   2.181986\n",
       "Entrance_Test_MAT                     2.540682\n",
       "Entrance_Test_PGCET                   1.319340\n",
       "Entrance_Test_XAT                     1.095638\n",
       "Specialization_MBA_Marketing & HR     1.296911\n",
       "Specialization_MBA_Marketing & IB     1.143429"
      ]
     },
     "execution_count": 110,
     "metadata": {},
     "output_type": "execute_result"
    }
   ],
   "source": [
    "\n",
    "from statsmodels.stats.outliers_influence import variance_inflation_factor\n",
    "pd.set_option('Display.max_columns',None)\n",
    "vif = [variance_inflation_factor(Xc.values, i) for i in range(Xc.shape[1])]\n",
    "pd.DataFrame({'vif': vif[1:]}, index=X.columns)"
   ]
  },
  {
   "cell_type": "markdown",
   "metadata": {},
   "source": [
    "Yes there is multicolinearity in Stream_HSC_Commerce,Course_Degree_Management,Course_Degree_Computer Applications,\n",
    "Course_Degree_Engineering,Course_Degree_Management,Course_Degree_Science."
   ]
  },
  {
   "cell_type": "code",
   "execution_count": 111,
   "metadata": {},
   "outputs": [],
   "source": [
    "#e"
   ]
  },
  {
   "cell_type": "code",
   "execution_count": 112,
   "metadata": {},
   "outputs": [],
   "source": [
    "from sklearn.metrics import r2_score"
   ]
  },
  {
   "cell_type": "code",
   "execution_count": null,
   "metadata": {},
   "outputs": [],
   "source": [
    "# itereation results\n",
    "description = \"OLS model with constant term\"\n",
    "R_squared = r2_score(Y_test,lin_reg_ols.predict(X_test))\n",
    "RMSE = np.sqrt(mean_squared_error(Y_test,lin_reg_ols.predict(X_test)))\n",
    "\n",
    "df_results = pd.concat([df_results,\n",
    "pd.DataFrame(np.array([description,\n",
    "            R_squared,\n",
    "            RMSE]).reshape(1,-1), columns=['Description','R-squared','RMSE'])\n",
    "         ], axis=0)\n",
    "\n",
    "df_result"
   ]
  },
  {
   "cell_type": "markdown",
   "metadata": {},
   "source": [
    "7..How do you improve the accuracy of the model? Write clearly the changes that you will make before re-fitting the model. Fit the final model. \n",
    "Please feel free to have any number of iterations to get to the final answer. Marks are awarded based on the quality of final model you are able to achieve. \n"
   ]
  },
  {
   "cell_type": "code",
   "execution_count": null,
   "metadata": {},
   "outputs": [],
   "source": [
    "model = LinearRegression()\n",
    "selector = RFECV(model,cv=5)\n",
    "selector = selector.fit(X, y)\n",
    "print(f\"Out of {len(X.columns)} features, best number of features {selector.n_features_}\")\n",
    "plt.figure()\n",
    "plt.xlabel(\"Number of features selected\")\n",
    "plt.ylabel(\"Cross validation score\")\n",
    "plt.plot(range(1, len(X.columns) + 1), selector.grid_scores_)\n",
    "plt.show()"
   ]
  },
  {
   "cell_type": "code",
   "execution_count": null,
   "metadata": {},
   "outputs": [],
   "source": [
    "model = LinearRegression(fit_intercept=False)\n",
    "selector = RFECV(model,cv=5)\n",
    "selector = selector.fit(X, y)\n",
    "print(f\"Out of {len(X.columns)} features, best number of features {selector.n_features_}\")\n",
    "\n",
    "plt.figure()\n",
    "plt.xlabel(\"Number of features selected\")\n",
    "plt.ylabel(\"Cross validation score\")\n",
    "plt.plot(range(1, len(X.columns) + 1), selector.grid_scores_)\n",
    "print(X.columns[selector.support_].values)\n",
    "plt.show()"
   ]
  },
  {
   "cell_type": "code",
   "execution_count": null,
   "metadata": {},
   "outputs": [],
   "source": [
    "# features that are important based on RFECV\n",
    "X = ['Experience_Yrs', 'Percent_MBA' ,'Gender_M' ,'Board_SSC_ICSE',\n",
    " 'Board_SSC_Others', 'Board_HSC_ISC' ,'Board_HSC_Others',\n",
    " 'Stream_HSC_Commerce' ,'Stream_HSC_Science' ,'Course_Degree_Commerce',\n",
    " 'Course_Degree_Computer Applications' ,'Course_Degree_Engineering',\n",
    " 'Course_Degree_Management' ,'Course_Degree_Others', 'Course_Degree_Science',\n",
    " 'Entrance_Test_G-MAT' ,'Entrance_Test_G-SAT' ,'Entrance_Test_GCET',\n",
    " 'Entrance_Test_K-MAT', 'Entrance_Test_MAT', 'Entrance_Test_PGCET',\n",
    " 'Entrance_Test_XAT', 'Specialization_MBA_Marketing & HR',\n",
    " 'Specialization_MBA_Marketing & IB']"
   ]
  },
  {
   "cell_type": "code",
   "execution_count": null,
   "metadata": {},
   "outputs": [],
   "source": [
    "mask = selector.support_\n",
    "#print(f\"Best features according to RFE {X.columns[mask].values}\")\n",
    "\n",
    "X = X.iloc[:,mask]\n",
    "# for scoring the model but in order to compare with the stats model \n",
    "# we will use the whole data\n",
    "model1 = LinearRegression().fit(X,y)\n",
    "print(f\"R2 Score: {model1.score(X,y)}\")"
   ]
  },
  {
   "cell_type": "code",
   "execution_count": null,
   "metadata": {},
   "outputs": [],
   "source": [
    "print('MAPE :',mean_absolute_percentage_error(y,model1.predict(X)))\n",
    "print('RMSE :',np.sqrt(mean_squared_error(y, model1.predict(X))))"
   ]
  },
  {
   "cell_type": "markdown",
   "metadata": {},
   "source": [
    "8.Summarize as follows \n",
    "1.\tSummarize the overall fit of the model and list down the measures to prove that it is a good model\n",
    "2.\tWrite down a business interpretation/explanation of the model – which variables are affecting the target the most and explain the relationship. Feel free to use charts or graphs to explain.\n",
    "3.\tWhat changes from the base model had the most effect on model performance?\n",
    "4.\tWhat are the key risks to your results and interpretation?"
   ]
  },
  {
   "cell_type": "code",
   "execution_count": null,
   "metadata": {},
   "outputs": [],
   "source": [
    "Summarize the overall fit of the model and list down the measures to prove that it is a good model\n",
    "model1 = LinearRegression().fit(X,y)\n",
    "print(f\"R2 Score: {model1.score(X,y)}\")\n",
    "The Model which is given about r2score as 0.21 is good as it performing Good at both Training and Test data.we can improve the model by Changing Number of iterations in Feature selction and feature selectinf Methods\n",
    "\n",
    "we can still improve by Regularize the Model using Lasso and Ridge methods\n",
    "\n",
    "2.    Write down a business interpretation/explanation of the model – which variables are affecting the target the most and explain the relationship. Feel free to use charts or graphs to explain.\n",
    "From the Model we can interpret that\n",
    "\n",
    "as the percent of marks in MBA is high will give Better salary\n",
    "Marks obtained in Project also Increases the Salary Offered\n",
    "The Model affect by different Categories of MBA Specalization\n",
    "3.    What changes from the base model had the most effect on model performance?\n",
    "Major changes from base model are Feature Selection\n",
    "For the Improving performance of Model we can regularize the model\n",
    "4.    What are the key risks to your results and interpretation?\n",
    "he Effect will be the Categorical columns which we are dummified for our Model\n",
    "In Model Interpretation we can see the from train,test data Model is little bit overfitting\n"
   ]
  },
  {
   "cell_type": "code",
   "execution_count": null,
   "metadata": {},
   "outputs": [],
   "source": []
  }
 ],
 "metadata": {
  "kernelspec": {
   "display_name": "Python 3",
   "language": "python",
   "name": "python3"
  },
  "language_info": {
   "codemirror_mode": {
    "name": "ipython",
    "version": 3
   },
   "file_extension": ".py",
   "mimetype": "text/x-python",
   "name": "python",
   "nbconvert_exporter": "python",
   "pygments_lexer": "ipython3",
   "version": "3.8.8"
  }
 },
 "nbformat": 4,
 "nbformat_minor": 2
}
